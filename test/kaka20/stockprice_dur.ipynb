{
 "cells": [
  {
   "cell_type": "code",
   "execution_count": 36,
   "metadata": {},
   "outputs": [],
   "source": [
    "import numpy as np\n",
    "\n",
    "\n",
    "# 매 초별 가격이 입력.\n",
    "# 각 초에서 가격이 떨어지지 않고 유지된 시간 계산.\n",
    "# 주의! 마지막 아이템.에서는 시간이 더 이상 유지가 없음.\n",
    "# 마지막 아이템이 연속대상으로 포함이면 해당 길이가 유지시간이지만.\n",
    "# 마지막 아이템이 연속대상 포함이 아니면 유지시간이 1초 증가한다. \n",
    "# (왜? 다음 아이템까지 변화가 없으므로 1초 추가. \n",
    "# 마지막 아이템이 포함이면 다음 아이템이 없으므로)\n",
    "def solution(prices):\n",
    "    answer = []\n",
    "    # 유지시간=크거나 같은값이 뒤에 연속으로 몇 개 있는가?\n",
    "    # 마지막값은 0으로 한다.\n",
    "    for i in range(len(prices)-1):\n",
    "        durcnt=0\n",
    "        lastitem=False\n",
    "        for j in range( i+1, len(prices) ):\n",
    "            if prices[i] > prices[j]:\n",
    "                break\n",
    "            durcnt += 1\n",
    "            if j==len(prices)-1:\n",
    "                lastitem=True\n",
    "#                 print('last item')\n",
    "        if lastitem==False:\n",
    "            durcnt+=1\n",
    "        answer.append(durcnt)\n",
    "    answer.append(0)\n",
    "    \n",
    "    return answer"
   ]
  },
  {
   "cell_type": "code",
   "execution_count": 37,
   "metadata": {},
   "outputs": [
    {
     "name": "stdout",
     "output_type": "stream",
     "text": [
      "[4, 3, 1, 1, 0]\n"
     ]
    }
   ],
   "source": [
    "print( solution([1, 2, 3, 2, 3]) )\n",
    "# 4 3 1 1 0\n"
   ]
  },
  {
   "cell_type": "code",
   "execution_count": 38,
   "metadata": {},
   "outputs": [
    {
     "name": "stdout",
     "output_type": "stream",
     "text": [
      "[7, 6, 5, 1, 3, 2, 1, 0]\n"
     ]
    }
   ],
   "source": [
    "print( solution([1, 2, 3, 5, 3, 5, 8, 1]) )\n",
    "#  7 6 5 1 3 2 1 0\n",
    "# 연속 이상 개수.\n",
    "# 7(l) 5 4 0 2 1 0 0. 마지막 요소가 포함되어 있으면 그대로. 나머지는 1씩 증가."
   ]
  },
  {
   "cell_type": "code",
   "execution_count": null,
   "metadata": {},
   "outputs": [],
   "source": []
  },
  {
   "cell_type": "code",
   "execution_count": null,
   "metadata": {},
   "outputs": [],
   "source": []
  }
 ],
 "metadata": {
  "kernelspec": {
   "display_name": "py37",
   "language": "python",
   "name": "py37"
  },
  "language_info": {
   "codemirror_mode": {
    "name": "ipython",
    "version": 3
   },
   "file_extension": ".py",
   "mimetype": "text/x-python",
   "name": "python",
   "nbconvert_exporter": "python",
   "pygments_lexer": "ipython3",
   "version": "3.7.3"
  }
 },
 "nbformat": 4,
 "nbformat_minor": 2
}
