{
 "cells": [
  {
   "cell_type": "code",
   "execution_count": 1,
   "metadata": {},
   "outputs": [],
   "source": [
    "import re\n",
    "import string"
   ]
  },
  {
   "cell_type": "code",
   "execution_count": null,
   "metadata": {},
   "outputs": [],
   "source": []
  },
  {
   "cell_type": "code",
   "execution_count": null,
   "metadata": {},
   "outputs": [],
   "source": []
  },
  {
   "cell_type": "code",
   "execution_count": null,
   "metadata": {},
   "outputs": [],
   "source": []
  },
  {
   "cell_type": "code",
   "execution_count": null,
   "metadata": {},
   "outputs": [],
   "source": []
  },
  {
   "cell_type": "code",
   "execution_count": null,
   "metadata": {},
   "outputs": [],
   "source": []
  },
  {
   "cell_type": "code",
   "execution_count": null,
   "metadata": {},
   "outputs": [],
   "source": []
  },
  {
   "cell_type": "code",
   "execution_count": null,
   "metadata": {},
   "outputs": [],
   "source": []
  },
  {
   "cell_type": "code",
   "execution_count": 2,
   "metadata": {},
   "outputs": [],
   "source": [
    "page=\"\"\"HI\n",
    "<html> \n",
    "<meta hi content=\"http://b.com\"/>\n",
    "<a href=\"https://a.com\" />  hihi hI HI2 hI@HI\n",
    "hi\"\"\""
   ]
  },
  {
   "cell_type": "code",
   "execution_count": 3,
   "metadata": {},
   "outputs": [
    {
     "data": {
      "text/plain": [
       "['HI',\n",
       " 'html',\n",
       " 'meta',\n",
       " 'hi',\n",
       " 'content',\n",
       " 'http',\n",
       " 'b',\n",
       " 'com',\n",
       " 'a',\n",
       " 'href',\n",
       " 'https',\n",
       " 'a',\n",
       " 'com',\n",
       " 'hihi',\n",
       " 'hI',\n",
       " 'HI',\n",
       " 'hI',\n",
       " 'HI',\n",
       " 'hi']"
      ]
     },
     "execution_count": 3,
     "metadata": {},
     "output_type": "execute_result"
    }
   ],
   "source": [
    "re.split(\"[^a-zA-Z]+\", page)"
   ]
  },
  {
   "cell_type": "code",
   "execution_count": 124,
   "metadata": {},
   "outputs": [
    {
     "name": "stdout",
     "output_type": "stream",
     "text": [
      "abcdefghijklmnopqrstuvwxyz\n",
      "ABCDEFGHIJKLMNOPQRSTUVWXYZ\n",
      "0123456789\n"
     ]
    }
   ],
   "source": [
    "print(string.ascii_lowercase)\n",
    "print(string.ascii_uppercase)\n",
    "print(string.digits)"
   ]
  },
  {
   "cell_type": "code",
   "execution_count": 189,
   "metadata": {},
   "outputs": [],
   "source": [
    "import re\n",
    "import string\n",
    "\n",
    "idebug=1\n",
    "\n",
    "\n",
    "def find_word2(page,word):\n",
    "    return re.split(\"[^a-zA-Z]+\", page).count(word)\n",
    "    \n",
    "    \n",
    "def parse(page, word):\n",
    "    pageinfo=[]\n",
    "    \n",
    "    # site URL\n",
    "    m = re.search(\"<meta property=\\\"og:url\\\" content=\\\"(https?://.+?)\\\"\", page, re.DOTALL) # 40\n",
    "    if None==0:\n",
    "        print('URL error')\n",
    "        return None\n",
    "    pageinfo.append(m[1]) #url\n",
    "    \n",
    "    # Links\n",
    "    m = re.findall(\"<a href=\\\"(https?://.+?)\\\">\", page, re.DOTALL)\n",
    "    # print('urls=', m)\n",
    "    pageinfo.append(m)  # can be empty [] ....\n",
    " \n",
    "    # get word\n",
    "#     m = re.findall(\"\\\\b\"+word+\"\\\\b\", page, re.IGNORECASE)\n",
    "#     m = re.findall(\"([^a-zA-Z]+)|^(\"+word+\")([^a-zA-Z]+)|$\", page, re.IGNORECASE)\n",
    "#     m = re.findall(\"(?:[^a-zA-Z]+)(hi)(?:[^a-zA-Z]+)\", page, re.IGNORECASE)\n",
    "#     m = re.findall(\"([^a-zA-Z]+)(hi)([^a-zA-Z]+)\", page, re.IGNORECASE|re.MULTILINE)\n",
    "#     m = re.findall(\"(^hi|[^a-zA-Z]+hi)[^a-zA-Z]+\", page, re.IGNORECASE)\n",
    "#     m = re.findall(\"(^hi|[^a-zA-Z]+hi)[^a-zA-Z]*\", page, re.IGNORECASE)\n",
    "    wordcnt=find_word2(page, word)\n",
    "    \n",
    "    print('wordcnt=', wordcnt)\n",
    "    pageinfo.append(wordcnt)\n",
    "    \n",
    "    return pageinfo\n",
    "\n",
    "\n",
    "def solution(word, pages):\n",
    "    answer = 0\n",
    "    pagemap = dict()\n",
    "    pagecnt=len(pages)\n",
    "    word = word.lower()\n",
    "    \n",
    "    for i, page in enumerate(pages):\n",
    "        page = page.lower()\n",
    "        page = page.replace('\\n', ' ')\n",
    "        print('page #=', i)\n",
    "        pi = parse(page, word)\n",
    "        if pi==None or pi[0]==None:  # URL Failed.\n",
    "            print('error!')\n",
    "            return -1\n",
    "        print(pi)\n",
    "        pagemap[pi[0]] = [i, pi[1], pi[2]]  # index, urls, wordcnt\n",
    "    print(pagemap)\n",
    "    \n",
    "    scores=[0]*pagecnt\n",
    "    linkscore=[0]*pagecnt\n",
    "    for k in pagemap.keys():\n",
    "        # k = url\n",
    "        index = pagemap[k][0]\n",
    "        scores[index] = pagemap[k][2]\n",
    "        # link point\n",
    "        for link in set(pagemap[k][1]):\n",
    "            if link in pagemap.keys():\n",
    "                targetindex = pagemap[link][0]\n",
    "                linkscore[targetindex] += pagemap[link][2] / len(pagemap[link][1])\n",
    "        \n",
    "    # total score\n",
    "    totalscore=[0]*pagecnt\n",
    "    for i in range(pagecnt):\n",
    "        totalscore[i] = scores[i]+linkscore[i]\n",
    "    print('totalscore=', totalscore)    \n",
    "    \n",
    "    # max score\n",
    "    answer = sorted(enumerate(totalscore), key=lambda p: (-p[1], p[0]))[0][0]\n",
    "        \n",
    "    return answer"
   ]
  },
  {
   "cell_type": "code",
   "execution_count": 8,
   "metadata": {},
   "outputs": [
    {
     "name": "stdout",
     "output_type": "stream",
     "text": [
      "=> \n",
      "<html lang=\"ko\" xml:lang=\"ko\" xmlns=\"http://www.w3.org/1999/xhtml\">\n",
      "<head>\n",
      "  <meta charset=\"utf-8\">\n",
      "  <meta property=\"og:url\" content=\"https://www.kakaocorp.com\"/>\n",
      "</head>  \n",
      "<body>\n",
      "con%    muzI92apeach&2<a href=\"https://hashcode.co.kr/tos\"></a>\n",
      "\n",
      "    ^\n",
      "</body>\n",
      "</html>\n",
      " <=\n",
      "url= https://www.kakaocorp.com\n",
      "link= ['https://hashcode.co.kr/tos']\n",
      "wordcnt= 0\n",
      "['https://www.kakaocorp.com', ['https://hashcode.co.kr/tos'], 0]\n"
     ]
    }
   ],
   "source": [
    "print('=>', page, '<=')\n",
    "print(parse(page, 'muzi'))"
   ]
  },
  {
   "cell_type": "code",
   "execution_count": 191,
   "metadata": {},
   "outputs": [
    {
     "data": {
      "text/plain": [
       "0"
      ]
     },
     "execution_count": 191,
     "metadata": {},
     "output_type": "execute_result"
    }
   ],
   "source": [
    "find_word(page, 'hi')"
   ]
  },
  {
   "cell_type": "code",
   "execution_count": 9,
   "metadata": {},
   "outputs": [],
   "source": [
    "page=\"\"\"\n",
    "<html lang=\"ko\" xml:lang=\"ko\" xmlns=\"http://www.w3.org/1999/xhtml\">\n",
    "<head>\n",
    "  <meta charset=\"utf-8\">\n",
    "  <meta property=\"og:url\" content=\"https://www.kakaocorp.com\"/>\n",
    "</head>  \n",
    "<body>\n",
    "con%    muzI92apeach&2<a href=\"https://hashcode.co.kr/tos\"></a>\n",
    "\n",
    "    ^\n",
    "</body>\n",
    "</html>\n",
    "\"\"\"\n",
    "# find_word(page, 'muzi')"
   ]
  },
  {
   "cell_type": "code",
   "execution_count": 10,
   "metadata": {},
   "outputs": [],
   "source": [
    "page=\"\"\"\n",
    "<html lang=\"ko\" xml:lang=\"ko\" xmlns=\"http://www.w3.org/1999/xhtml\">\n",
    "<head>\n",
    "  <meta charset=\"utf-8\">\n",
    "  <meta property=\"og:url\" content=\"https://a.com\"/>\n",
    "</head>  \n",
    "<body>\n",
    "Blind Lorem Blind ipsum dolor Blind test sit amet, consectetur adipiscing elit. \n",
    "<a href=\"https://b.com\"> Link to b </a>\n",
    "</body>\n",
    "</html>\n",
    "\"\"\""
   ]
  },
  {
   "cell_type": "code",
   "execution_count": 15,
   "metadata": {},
   "outputs": [
    {
     "ename": "NameError",
     "evalue": "name 'find_word' is not defined",
     "output_type": "error",
     "traceback": [
      "\u001b[1;31m---------------------------------------------------------------------------\u001b[0m",
      "\u001b[1;31mNameError\u001b[0m                                 Traceback (most recent call last)",
      "\u001b[1;32m<ipython-input-15-4717949f4554>\u001b[0m in \u001b[0;36m<module>\u001b[1;34m\u001b[0m\n\u001b[1;32m----> 1\u001b[1;33m \u001b[0mfind_word\u001b[0m\u001b[1;33m(\u001b[0m\u001b[0mpage\u001b[0m\u001b[1;33m,\u001b[0m \u001b[1;34m'blind'\u001b[0m\u001b[1;33m)\u001b[0m\u001b[1;33m\u001b[0m\u001b[1;33m\u001b[0m\u001b[0m\n\u001b[0m",
      "\u001b[1;31mNameError\u001b[0m: name 'find_word' is not defined"
     ]
    }
   ],
   "source": [
    "find_word(page, 'blind')"
   ]
  },
  {
   "cell_type": "code",
   "execution_count": 16,
   "metadata": {},
   "outputs": [
    {
     "name": "stdout",
     "output_type": "stream",
     "text": [
      "page #= 0\n",
      "url= https://a.com\n",
      "link= ['https://b.com']\n",
      "wordcnt= 3\n",
      "['https://a.com', ['https://b.com'], 3]\n",
      "{'https://a.com': [0, ['https://b.com'], 3]}\n",
      "totalscore= [3]\n"
     ]
    },
    {
     "data": {
      "text/plain": [
       "0"
      ]
     },
     "execution_count": 16,
     "metadata": {},
     "output_type": "execute_result"
    }
   ],
   "source": [
    "solution('blind', [page])"
   ]
  },
  {
   "cell_type": "code",
   "execution_count": 222,
   "metadata": {},
   "outputs": [],
   "source": [
    "pages=[\"<html lang=\\\"ko\\\" xml:lang=\\\"ko\\\" xmlns=\\\"http://www.w3.org/1999/xhtml\\\">\\n<head>\\n  <meta charset=\\\"utf-8\\\">\\n  <meta property=\\\"og:url\\\" content=\\\"https://careers.kakao.com/interview/list\\\"/>\\n</head>  \\n<body>\\n<a href=\\\"https://programmers.co.kr/learn/courses/4673\\\"></a>#!MuziMuzi!)jayg07con&&\\n\\n</body>\\n</html>\", \"<html lang=\\\"ko\\\" xml:lang=\\\"ko\\\" xmlns=\\\"http://www.w3.org/1999/xhtml\\\">\\n<head>\\n  <meta charset=\\\"utf-8\\\">\\n  <meta property=\\\"og:url\\\" content=\\\"https://www.kakaocorp.com\\\"/>\\n</head>  \\n<body>\\ncon%\\tmuzI92apeach&2<a href=\\\"https://hashcode.co.kr/tos\\\"></a>\\n\\n\\t^\\n</body>\\n</html>\"]"
   ]
  },
  {
   "cell_type": "code",
   "execution_count": 224,
   "metadata": {},
   "outputs": [
    {
     "data": {
      "text/plain": [
       "[('w', '3'), ('g', '0')]"
      ]
     },
     "execution_count": 224,
     "metadata": {},
     "output_type": "execute_result"
    }
   ],
   "source": [
    "re.findall(\"([a-z])(\\d)\", pages[0])"
   ]
  },
  {
   "cell_type": "code",
   "execution_count": 227,
   "metadata": {},
   "outputs": [
    {
     "name": "stdout",
     "output_type": "stream",
     "text": [
      "<re.Match object; span=(48, 50), match='w3'>\n",
      "group0= w3\n",
      "group1= w\n",
      "group2= 3\n"
     ]
    }
   ],
   "source": [
    "r=re.search(\"([a-z])(\\d)\", pages[0])\n",
    "print(r)\n",
    "print('group0=', r.group(0) )\n",
    "print('group1=', r.group(1) )\n",
    "print('group2=', r.group(2) )"
   ]
  },
  {
   "cell_type": "code",
   "execution_count": 197,
   "metadata": {},
   "outputs": [
    {
     "name": "stdout",
     "output_type": "stream",
     "text": [
      "page #= 0\n",
      "wordcnt= 0\n",
      "['https://careers.kakao.com/interview/list', ['https://programmers.co.kr/learn/courses/4673'], 0]\n",
      "page #= 1\n",
      "wordcnt= 1\n",
      "['https://www.kakaocorp.com', ['https://hashcode.co.kr/tos'], 1]\n",
      "{'https://careers.kakao.com/interview/list': [0, ['https://programmers.co.kr/learn/courses/4673'], 0], 'https://www.kakaocorp.com': [1, ['https://hashcode.co.kr/tos'], 1]}\n",
      "totalscore= [0, 1]\n"
     ]
    },
    {
     "data": {
      "text/plain": [
       "1"
      ]
     },
     "execution_count": 197,
     "metadata": {},
     "output_type": "execute_result"
    }
   ],
   "source": [
    "solution('Muzi', pages)"
   ]
  },
  {
   "cell_type": "code",
   "execution_count": 198,
   "metadata": {},
   "outputs": [
    {
     "name": "stdout",
     "output_type": "stream",
     "text": [
      "['<html lang=\"ko\" xml:lang=\"ko\" xmlns=\"http://www.w3.org/1999/xhtml\">\\n<head>\\n  <meta charset=\"utf-8\">\\n  <meta property=\"og:url\" content=\"https://careers.kakao.com/interview/list\"/>\\n</head>  \\n<body>\\n<a href=\"https://programmers.co.kr/learn/courses/4673\"></a>#!MuziMuzi!)jayg07con&&\\n\\n</body>\\n</html>', '<html lang=\"ko\" xml:lang=\"ko\" xmlns=\"http://www.w3.org/1999/xhtml\">\\n<head>\\n  <meta charset=\"utf-8\">\\n  <meta property=\"og:url\" content=\"https://www.kakaocorp.com\"/>\\n</head>  \\n<body>\\ncon%\\tmuzI92apeach&2<a href=\"https://hashcode.co.kr/tos\"></a>\\n\\n\\t^\\n</body>\\n</html>']\n"
     ]
    }
   ],
   "source": [
    "print(pages)"
   ]
  },
  {
   "cell_type": "code",
   "execution_count": 199,
   "metadata": {},
   "outputs": [
    {
     "data": {
      "text/plain": [
       "['https://hashcode.co.kr/tos']"
      ]
     },
     "execution_count": 199,
     "metadata": {},
     "output_type": "execute_result"
    }
   ],
   "source": [
    "a='on%\\tmuzI92apeach&2<a href=\"https://hashcode.co.kr/tos\"></a>\\n\\n\\t^\\n</body>\\n</html>'\n",
    "re.findall(\"<a\\s+href=\\\"(https?://.+?)\\\"\", a, re.DOTALL)"
   ]
  },
  {
   "cell_type": "code",
   "execution_count": 202,
   "metadata": {},
   "outputs": [
    {
     "name": "stdout",
     "output_type": "stream",
     "text": [
      "wordcnt= 271\n"
     ]
    },
    {
     "data": {
      "text/plain": [
       "['https://www.daum.net/',\n",
       " ['https://www.daum.net/',\n",
       "  'https://search.daum.net/search?w=tot&amp;q=%ED%99%8D%EC%84%9D%EC%B2%9C+%EC%86%8C%EC%8B%A0%EB%B0%9C%EC%96%B8&amp;DA=NPI',\n",
       "  'https://search.daum.net/search?w=tot&amp;q=%EC%9D%B4%EC%84%B1%EC%A7%84+%EC%B9%A9%EA%B1%B0%EC%83%9D%ED%99%9C&amp;DA=NPI',\n",
       "  'https://search.daum.net/search?w=tot&amp;q=%EB%8C%80%EB%A6%AC%EC%84%9D&amp;DA=NPT',\n",
       "  'https://search.daum.net/search?w=tot&amp;q=%EC%BD%94%EB%A1%9C%EB%82%98+%EC%95%8C%EB%A6%AC%EB%AF%B8&amp;DA=NPI',\n",
       "  'https://search.daum.net/search?w=tot&amp;q=%EC%83%A4%EC%9D%B8%EB%A8%B8%EC%8A%A4%EC%BC%93&amp;DA=NPT',\n",
       "  'https://search.daum.net/search?w=tot&amp;q=%EC%96%91%EC%A4%80%EC%9D%BC+1%EC%9C%84&amp;DA=NPI',\n",
       "  'https://search.daum.net/search?w=tot&amp;q=%EC%84%B1%EC%A4%80+%EC%B6%9C%EC%82%B0%EA%B3%A0%EB%B0%B1&amp;DA=NPI&amp;rtmaxcoll=NNS',\n",
       "  'https://search.daum.net/search?w=tot&amp;q=%EB%B2%95%EC%9B%90%EC%B0%A8%EB%9F%89%EA%B2%BD%EB%A7%A4&amp;DA=NPT',\n",
       "  'https://search.daum.net/search?w=tot&amp;q=%ED%98%84%EC%A7%84%EC%98%81+%ED%95%99%EB%8C%80%EA%B2%AC%EA%B5%AC%EC%A1%B0&amp;DA=NPI&amp;rtmaxcoll=NNS',\n",
       "  'https://search.daum.net/search?w=tot&amp;q=%EB%B9%84%EA%B3%84%ED%8C%8C%EC%9D%B4%ED%94%84&amp;DA=NPT',\n",
       "  'https://search.daum.net/search?w=tot&amp;q=%EA%B0%95%ED%83%80+%EC%A0%95%EC%9C%A0%EB%AF%B8+%EC%97%B4%EC%95%A0&amp;DA=NPI',\n",
       "  'https://search.daum.net/search?w=tot&amp;q=%EC%9D%B4%EC%A7%80%EC%98%81+%ED%95%B4%EB%AA%85&amp;DA=NPI&amp;rtmaxcoll=NNS',\n",
       "  'https://search.daum.net/search?w=tot&amp;q=%EC%B2%9C%EB%A7%89&amp;DA=NPT',\n",
       "  'https://search.daum.net/search?w=tot&amp;q=%ED%99%8D%EC%BD%A9%EC%9D%98%EB%A3%8C%EC%A7%84+%ED%8C%8C%EC%97%85&amp;DA=NPI',\n",
       "  'https://search.daum.net/search?w=tot&amp;q=%ED%81%AC%EB%A6%B4%EC%98%A4%EC%9D%BC%EA%B0%80%EA%B2%A9&amp;DA=NPT',\n",
       "  'https://pf.kakao.com/_XrQxkM/45587516',\n",
       "  'http://cafe.daum.net/',\n",
       "  'https://mail.daum.net/',\n",
       "  'http://media.daum.net/',\n",
       "  'https://map.kakao.com/',\n",
       "  'http://finance.daum.net/',\n",
       "  'https://shoppinghow.kakao.com/top',\n",
       "  'http://tv.kakao.com',\n",
       "  'http://webtoon.daum.net/',\n",
       "  'http://blog.daum.net/',\n",
       "  'https://brunch.co.kr',\n",
       "  'http://dic.daum.net/',\n",
       "  'http://game.daum.net',\n",
       "  'https://together.kakao.com',\n",
       "  'https://mail.daum.net',\n",
       "  'http://cafe.daum.net',\n",
       "  'http://blog.daum.net',\n",
       "  'http://www.tistory.com',\n",
       "  'https://brunch.co.kr',\n",
       "  'https://agit.io/',\n",
       "  'https://story.kakao.com/s/login',\n",
       "  'http://media.daum.net/?nil_profile=mini&amp;nil_src=news',\n",
       "  'http://sports.media.daum.net',\n",
       "  'http://media.daum.net/entertain',\n",
       "  'https://lazzy.kakao.com/',\n",
       "  'https://shoppinghow.kakao.com/top',\n",
       "  'https://flights.kakao.com/',\n",
       "  'http://finance.daum.net',\n",
       "  'https://realty.daum.net/?nil_profile=mini&amp;nil_src=realestate',\n",
       "  'http://auto.daum.net',\n",
       "  'https://www.melon.com/index.htm?ref=W10204',\n",
       "  'http://movie.daum.net',\n",
       "  'http://webtoon.daum.net',\n",
       "  'http://tv.kakao.com/top',\n",
       "  'https://together.kakao.com',\n",
       "  'https://makers.kakao.com/',\n",
       "  'https://project100.kakao.com/',\n",
       "  'https://dic.daum.net',\n",
       "  'http://translate.kakao.com',\n",
       "  'http://wordbook.daum.net',\n",
       "  'http://100.daum.net',\n",
       "  'http://tip.daum.net',\n",
       "  'http://game.daum.net/',\n",
       "  'https://pubg.game.daum.net/',\n",
       "  'https://pathofexile.game.daum.net',\n",
       "  'https://map.kakao.com/',\n",
       "  'https://map.kakao.com/index.jsp?target=car',\n",
       "  'http://map.kakao.com/?panoid=1024043871&amp;pan=327.5&amp;tilt=-4.5&amp;zoom=0&amp;map_type=TYPE_SKYVIEW&amp;map_hybrid=true&amp;map_attribute=ROADVIEW&amp;urlX=494966&amp;urlY=1132203&amp;urlLevel=4',\n",
       "  'http://map.kakao.com/index.jsp?target=traffic&amp;opt=2&amp;nil_profile=g',\n",
       "  'http://map.kakao.com/index.jsp?REGION=01&amp;STARTNAME=&amp;ENDNAME=&amp;OPTION=1&amp;URLLINK=true&amp;target=subway',\n",
       "  'https://www.kakaocorp.com/',\n",
       "  'https://kakao.ai/',\n",
       "  'https://logins.daum.net/accounts/dsso.do?url=https%3A%2F%2Fwww.daum.net%2F',\n",
       "  'https://logins.daum.net/accounts/ksso.do?url=https%3A%2F%2Fwww.daum.net%2F',\n",
       "  'https://accounts.kakao.com/weblogin/create_account?continue=https%3A%2F%2Fwww.daum.net',\n",
       "  'http://media.daum.net/',\n",
       "  'https://v.daum.net/v/20200204100057988',\n",
       "  'https://auto.v.daum.net/v/jKT5OLshMA',\n",
       "  'https://v.daum.net/v/20200204111307701',\n",
       "  'https://v.daum.net/v/20200204103043563',\n",
       "  'https://v.daum.net/v/20200204092129240',\n",
       "  'https://v.daum.net/v/20200204110538265',\n",
       "  'https://v.daum.net/v/20200204103007534',\n",
       "  'https://v.daum.net/v/20200204100951470',\n",
       "  'https://v.daum.net/v/20200204112344242',\n",
       "  'https://v.daum.net/v/20200204092406360',\n",
       "  'https://v.daum.net/v/20200204101805926',\n",
       "  'https://v.daum.net/v/20200204110318173',\n",
       "  'https://v.daum.net/v/20200204111238674',\n",
       "  'https://newslink.media.daum.net/p/20200204095737821',\n",
       "  'https://newslink.media.daum.net/p/20200204112423278',\n",
       "  'https://media.daum.net/',\n",
       "  'https://media.daum.net/issue/',\n",
       "  'https://media.daum.net/series/',\n",
       "  'https://media.daum.net/ranking/popular/',\n",
       "  'https://media.daum.net/photo/',\n",
       "  'https://media.daum.net/tv/',\n",
       "  'https://gallery.v.daum.net/p/home',\n",
       "  'http://media.daum.net/ranking/kkomkkom/',\n",
       "  'http://media.daum.net/entertain',\n",
       "  'http://sports.media.daum.net/sports',\n",
       "  'http://movie.daum.net',\n",
       "  'http://auto.daum.net/index.daum',\n",
       "  'https://realty.daum.net',\n",
       "  'https://search.daum.net/search?w=tot&amp;q=%EC%A0%95%EC%9C%A0%EB%AF%B8&amp;DA=ATG&amp;rtmaxcoll=1TH',\n",
       "  'https://search.daum.net/search?w=tot&amp;q=%EC%A0%95%EC%9C%A0%EB%AF%B8&amp;DA=ATG&amp;rtmaxcoll=1TH',\n",
       "  'https://search.daum.net/search?w=tot&amp;q=16%EB%B2%88%EC%A7%B8+%EC%BD%94%EB%A1%9C%EB%82%98+%ED%99%98%EC%9E%90&amp;DA=ATG&amp;rtmaxcoll=1TH',\n",
       "  'https://search.daum.net/search?w=tot&amp;q=16%EB%B2%88%EC%A7%B8+%EC%BD%94%EB%A1%9C%EB%82%98+%ED%99%98%EC%9E%90&amp;DA=ATG&amp;rtmaxcoll=1TH',\n",
       "  'https://search.daum.net/search?w=tot&amp;q=%EA%B0%95%ED%83%80&amp;DA=ATG&amp;rtmaxcoll=1TH',\n",
       "  'https://search.daum.net/search?w=tot&amp;q=%EA%B0%95%ED%83%80&amp;DA=ATG&amp;rtmaxcoll=1TH',\n",
       "  'https://search.daum.net/search?w=tot&amp;q=%EC%9D%B4%EC%8B%A0%EC%98%81&amp;DA=ATG&amp;rtmaxcoll=1TH',\n",
       "  'https://search.daum.net/search?w=tot&amp;q=%EC%9D%B4%EC%8B%A0%EC%98%81&amp;DA=ATG&amp;rtmaxcoll=1TH',\n",
       "  'https://search.daum.net/search?w=tot&amp;q=%EC%9E%85%EC%B6%98&amp;DA=ATG&amp;rtmaxcoll=1TH',\n",
       "  'https://search.daum.net/search?w=tot&amp;q=%EC%9E%85%EC%B6%98&amp;DA=ATG&amp;rtmaxcoll=1TH',\n",
       "  'https://search.daum.net/search?w=tot&amp;q=%EC%84%B1%EC%A4%80&amp;DA=ATG&amp;rtmaxcoll=1TH',\n",
       "  'https://search.daum.net/search?w=tot&amp;q=%EC%84%B1%EC%A4%80&amp;DA=ATG&amp;rtmaxcoll=1TH',\n",
       "  'https://search.daum.net/search?w=tot&amp;q=%EC%BD%94%EB%A1%9C%EB%82%98+%EC%95%8C%EB%A6%AC%EB%AF%B8&amp;DA=ATG&amp;rtmaxcoll=1TH',\n",
       "  'https://search.daum.net/search?w=tot&amp;q=%EC%BD%94%EB%A1%9C%EB%82%98+%EC%95%8C%EB%A6%AC%EB%AF%B8&amp;DA=ATG&amp;rtmaxcoll=1TH',\n",
       "  'https://search.daum.net/search?w=tot&amp;q=%EC%9D%B4%EC%B0%AC%EC%97%B4&amp;DA=ATG&amp;rtmaxcoll=1TH',\n",
       "  'https://search.daum.net/search?w=tot&amp;q=%EC%9D%B4%EC%B0%AC%EC%97%B4&amp;DA=ATG&amp;rtmaxcoll=1TH',\n",
       "  'https://search.daum.net/search?w=tot&amp;q=%EC%8F%98%EB%A0%8C%ED%86%A0&amp;DA=ATG&amp;rtmaxcoll=1TH',\n",
       "  'https://search.daum.net/search?w=tot&amp;q=%EC%8F%98%EB%A0%8C%ED%86%A0&amp;DA=ATG&amp;rtmaxcoll=1TH',\n",
       "  'https://search.daum.net/search?w=tot&amp;q=%EC%97%AC%EC%A3%BC%EB%8C%80%ED%95%99%EA%B5%90&amp;DA=ATG&amp;rtmaxcoll=1TH',\n",
       "  'https://search.daum.net/search?w=tot&amp;q=%EC%97%AC%EC%A3%BC%EB%8C%80%ED%95%99%EA%B5%90&amp;DA=ATG&amp;rtmaxcoll=1TH',\n",
       "  'https://search.daum.net/search?w=tot&amp;DA=TTS&amp;q=%EC%BD%94%EC%8A%A4%ED%94%BC',\n",
       "  'https://search.daum.net/search?w=tot&amp;DA=TTS&amp;q=%EC%BD%94%EC%8A%A4%EB%8B%A5',\n",
       "  'https://search.daum.net/search?w=tot&amp;q=%EC%A0%95%EC%9C%A0%EB%AF%B8&amp;DA=ATG&amp;rtmaxcoll=1TH',\n",
       "  'https://search.daum.net/search?w=tot&amp;q=16%EB%B2%88%EC%A7%B8+%EC%BD%94%EB%A1%9C%EB%82%98+%ED%99%98%EC%9E%90&amp;DA=ATG&amp;rtmaxcoll=1TH',\n",
       "  'https://search.daum.net/search?w=tot&amp;q=%EA%B0%95%ED%83%80&amp;DA=ATG&amp;rtmaxcoll=1TH',\n",
       "  'https://search.daum.net/search?w=tot&amp;q=%EC%9D%B4%EC%8B%A0%EC%98%81&amp;DA=ATG&amp;rtmaxcoll=1TH',\n",
       "  'https://search.daum.net/search?w=tot&amp;q=%EC%9E%85%EC%B6%98&amp;DA=ATG&amp;rtmaxcoll=1TH',\n",
       "  'https://search.daum.net/search?w=tot&amp;q=%EC%84%B1%EC%A4%80&amp;DA=ATG&amp;rtmaxcoll=1TH',\n",
       "  'https://search.daum.net/search?w=tot&amp;q=%EC%BD%94%EB%A1%9C%EB%82%98+%EC%95%8C%EB%A6%AC%EB%AF%B8&amp;DA=ATG&amp;rtmaxcoll=1TH',\n",
       "  'https://search.daum.net/search?w=tot&amp;q=%EC%9D%B4%EC%B0%AC%EC%97%B4&amp;DA=ATG&amp;rtmaxcoll=1TH',\n",
       "  'https://search.daum.net/search?w=tot&amp;q=%EC%8F%98%EB%A0%8C%ED%86%A0&amp;DA=ATG&amp;rtmaxcoll=1TH',\n",
       "  'https://search.daum.net/search?w=tot&amp;q=%EC%97%AC%EC%A3%BC%EB%8C%80%ED%95%99%EA%B5%90&amp;DA=ATG&amp;rtmaxcoll=1TH',\n",
       "  'https://search.daum.net/search?w=tot&amp;q=%EC%A0%95%EC%9C%A0%EB%AF%B8&amp;DA=ATG&amp;rtmaxcoll=1TH',\n",
       "  'https://search.daum.net/search?w=tot&amp;q=%EC%A0%95%EC%9C%A0%EB%AF%B8&amp;DA=ATG&amp;rtmaxcoll=1TH',\n",
       "  'https://search.daum.net/search?w=tot&amp;q=16%EB%B2%88%EC%A7%B8+%EC%BD%94%EB%A1%9C%EB%82%98+%ED%99%98%EC%9E%90&amp;DA=ATG&amp;rtmaxcoll=1TH',\n",
       "  'https://search.daum.net/search?w=tot&amp;q=16%EB%B2%88%EC%A7%B8+%EC%BD%94%EB%A1%9C%EB%82%98+%ED%99%98%EC%9E%90&amp;DA=ATG&amp;rtmaxcoll=1TH',\n",
       "  'https://search.daum.net/search?w=tot&amp;q=%EA%B0%95%ED%83%80&amp;DA=ATG&amp;rtmaxcoll=1TH',\n",
       "  'https://search.daum.net/search?w=tot&amp;q=%EA%B0%95%ED%83%80&amp;DA=ATG&amp;rtmaxcoll=1TH',\n",
       "  'https://search.daum.net/search?w=tot&amp;q=%EC%9D%B4%EC%8B%A0%EC%98%81&amp;DA=ATG&amp;rtmaxcoll=1TH',\n",
       "  'https://search.daum.net/search?w=tot&amp;q=%EC%9D%B4%EC%8B%A0%EC%98%81&amp;DA=ATG&amp;rtmaxcoll=1TH',\n",
       "  'https://search.daum.net/search?w=tot&amp;q=%EC%9E%85%EC%B6%98&amp;DA=ATG&amp;rtmaxcoll=1TH',\n",
       "  'https://search.daum.net/search?w=tot&amp;q=%EC%9E%85%EC%B6%98&amp;DA=ATG&amp;rtmaxcoll=1TH',\n",
       "  'https://search.daum.net/search?w=tot&amp;q=%EC%84%B1%EC%A4%80&amp;DA=ATG&amp;rtmaxcoll=1TH',\n",
       "  'https://search.daum.net/search?w=tot&amp;q=%EC%84%B1%EC%A4%80&amp;DA=ATG&amp;rtmaxcoll=1TH',\n",
       "  'https://search.daum.net/search?w=tot&amp;q=%EC%BD%94%EB%A1%9C%EB%82%98+%EC%95%8C%EB%A6%AC%EB%AF%B8&amp;DA=ATG&amp;rtmaxcoll=1TH',\n",
       "  'https://search.daum.net/search?w=tot&amp;q=%EC%BD%94%EB%A1%9C%EB%82%98+%EC%95%8C%EB%A6%AC%EB%AF%B8&amp;DA=ATG&amp;rtmaxcoll=1TH',\n",
       "  'https://search.daum.net/search?w=tot&amp;q=%EC%9D%B4%EC%B0%AC%EC%97%B4&amp;DA=ATG&amp;rtmaxcoll=1TH',\n",
       "  'https://search.daum.net/search?w=tot&amp;q=%EC%9D%B4%EC%B0%AC%EC%97%B4&amp;DA=ATG&amp;rtmaxcoll=1TH',\n",
       "  'https://search.daum.net/search?w=tot&amp;q=%EC%8F%98%EB%A0%8C%ED%86%A0&amp;DA=ATG&amp;rtmaxcoll=1TH',\n",
       "  'https://search.daum.net/search?w=tot&amp;q=%EC%8F%98%EB%A0%8C%ED%86%A0&amp;DA=ATG&amp;rtmaxcoll=1TH',\n",
       "  'https://search.daum.net/search?w=tot&amp;q=%EC%97%AC%EC%A3%BC%EB%8C%80%ED%95%99%EA%B5%90&amp;DA=ATG&amp;rtmaxcoll=1TH',\n",
       "  'https://search.daum.net/search?w=tot&amp;q=%EC%97%AC%EC%A3%BC%EB%8C%80%ED%95%99%EA%B5%90&amp;DA=ATG&amp;rtmaxcoll=1TH',\n",
       "  'http://tv.kakao.com/top',\n",
       "  'https://media.daum.net/entertain/tv/353520/video/406161171',\n",
       "  'https://media.daum.net/entertain/tv/5000119/video/406160815',\n",
       "  'https://media.daum.net/entertain/tv/1684434/video/406157915',\n",
       "  'https://media.daum.net/entertain/tv/1781801/video/406160945',\n",
       "  'https://tv.kakao.com/channel/3347215/cliplink/399847602',\n",
       "  'https://tv.kakao.com/channel/2653162/cliplink/405973902',\n",
       "  'https://tv.kakao.com/channel/2653158/cliplink/406097605',\n",
       "  'https://tv.kakao.com/channel/2653613/cliplink/405421691',\n",
       "  'https://newslink.media.daum.net/v/406165939',\n",
       "  'https://newslink.media.daum.net/v/406165711',\n",
       "  'https://newslink.media.daum.net/v/406157989',\n",
       "  'https://newslink.media.daum.net/v/406164028',\n",
       "  'https://tv.kakao.com/v/405467087',\n",
       "  'https://tv.kakao.com/v/404279875',\n",
       "  'https://tv.kakao.com/v/403636929',\n",
       "  'https://tv.kakao.com/v/405275522',\n",
       "  'http://top.cafe.daum.net/',\n",
       "  'https://brunch.co.kr/',\n",
       "  'https://brunch.co.kr/brunchbook/hongdella-gran',\n",
       "  'https://brunch.co.kr/brunchbook/nodapeuro',\n",
       "  'https://brunch.co.kr/brunchbook/europefestival',\n",
       "  'https://brunch.co.kr/brunchbook/babyhouse',\n",
       "  'http://www.tistory.com/',\n",
       "  'https://1boon.daum.net/',\n",
       "  'https://story.kakao.com/',\n",
       "  'https://1boon.daum.net/docs/5e33dc2c2f1571783a9c7a72',\n",
       "  'https://1boon.daum.net/docs/5e38d54d7391205c8a51fac2',\n",
       "  'https://1boon.daum.net/docs/5e37c23df3604e7885319990',\n",
       "  'https://1boon.daum.net/docs/5e37e4d8f3604e7885319fa9',\n",
       "  'https://1boon.daum.net/docs/5e33bc552f1571783a9c7320',\n",
       "  'https://1boon.daum.net/docs/5e38be8df3604e788531aa89',\n",
       "  'https://community.v.daum.net/v/jKf99x1l0v',\n",
       "  'https://community.v.daum.net/v/jOpvq8rxs6',\n",
       "  'https://community.v.daum.net/v/jMBxRrFD5m',\n",
       "  'https://1boon.daum.net/docs/5e327b3f82e9837b77c5c823',\n",
       "  'https://1boon.daum.net/docs/5e3395642f1571783a9c6eec',\n",
       "  'https://1boon.daum.net/docs/5e323c6182e9837b77c5c1a3',\n",
       "  'https://1boon.daum.net/docs/5e32423882e9837b77c5c22f',\n",
       "  'http://www.melon.com/',\n",
       "  'http://webtoon.daum.net',\n",
       "  'http://game.daum.net/',\n",
       "  'https://together.kakao.com',\n",
       "  'http://ammonia.daum.net/cptclick?contentseq=1592123&amp;puid=93546076439123208&amp;pagenum=1&amp;impprodnum=0&amp;contentnum=1&amp;positionseq=17485&amp;detailpositionseq=17484',\n",
       "  'http://media.daum.net/photo/',\n",
       "  'https://www.daum.net/',\n",
       "  'http://m.daum.net/channel/new/notice',\n",
       "  'https://m.daum.net/channel/new/notice/view/5e328dadbc6d9b20e0ba0840?title=Daum+%EB%9E%AD%ED%82%B9%ED%83%AD+%EB%82%B4+%27%EA%B3%B5%EA%B0%90%EB%B2%A0%EC%8A%A4%ED%8A%B8%27+%EC%98%81%EC%97%AD+%EC%A0%9C%EA%B1%B0+%EC%95%88%EB%82%B4&amp;date=2020-01-30',\n",
       "  'https://www.kakaocorp.com',\n",
       "  'https://business.kakao.com',\n",
       "  'https://register.search.daum.net/index.daum',\n",
       "  'http://with.kakao.com/',\n",
       "  'https://careers.kakao.com/index',\n",
       "  'http://policy.daum.net/info/info',\n",
       "  'http://policy.daum.net/operation_policy/operation_policy',\n",
       "  'http://policy.daum.net/youthpolicy/youthpolicy',\n",
       "  'http://policy.daum.net/info_protection/info_protection',\n",
       "  'https://www.daum.net/doc/top_accessibility.html',\n",
       "  'https://cs.daum.net/',\n",
       "  'http://www.kakaocorp.com/'],\n",
       " 271]"
      ]
     },
     "execution_count": 202,
     "metadata": {},
     "output_type": "execute_result"
    }
   ],
   "source": [
    "parse(a, 'daum')"
   ]
  },
  {
   "cell_type": "code",
   "execution_count": 210,
   "metadata": {},
   "outputs": [],
   "source": [
    "def solution(word,pages) :\n",
    "    word, pages = word.lower(), [p.lower() for p in pages]\n",
    "    word_score = [0] * len(pages)\n",
    "    my_link, out_link = [\"\"] * len(pages), [[] for _ in range(len(pages))]\n",
    "    for idx, page in enumerate(pages):\n",
    "        page = \" \" + re.sub(r'\\n', '..', page) + \" \"\n",
    "        word_score[idx] = re.sub('[^a-z]+',\".\",page).split('.').count(word)\n",
    "        my_link[idx] = re.search(r'<meta.+?content=\"(https://.+?)\"', page).group(1)\n",
    "        out_link[idx] = re.findall('<a href=\"(https://.+?)\">', page)\n",
    "\n",
    "    total_score = [w for w in word_score]\n",
    "    for i in range(len(pages)):\n",
    "        for j in range(len(pages)):\n",
    "            if my_link[i] in out_link[j]:\n",
    "                total_score[i] += word_score[j] / len(out_link[j])\n",
    "    print(total_score)\n",
    "    return max(enumerate(total_score), key=lambda pair: (pair[1], -pair[0]))[0]\n"
   ]
  },
  {
   "cell_type": "code",
   "execution_count": 214,
   "metadata": {},
   "outputs": [
    {
     "name": "stdout",
     "output_type": "stream",
     "text": [
      "[279]\n"
     ]
    },
    {
     "data": {
      "text/plain": [
       "0"
      ]
     },
     "execution_count": 214,
     "metadata": {},
     "output_type": "execute_result"
    }
   ],
   "source": [
    "\n",
    "solution('daum',[a])"
   ]
  },
  {
   "cell_type": "markdown",
   "metadata": {},
   "source": [
    "## Solve"
   ]
  },
  {
   "cell_type": "code",
   "execution_count": 11,
   "metadata": {},
   "outputs": [],
   "source": [
    "import re\n",
    "import string\n",
    "\n",
    "idebug=1\n",
    "\n",
    "\n",
    "def find_word2(page,word):\n",
    "    return re.split(\"[^a-zA-Z]+\", page).count(word)\n",
    "    \n",
    "def parse(page, word):\n",
    "    pageinfo=[]\n",
    "    \n",
    "    # site URL\n",
    "    m = re.search(\"<meta property=\\\"og:url\\\" content=\\\"(https?://.+?)\\\"\", page, re.DOTALL) # 40\n",
    "    if None==0:\n",
    "        print('URL error')\n",
    "        return None\n",
    "    pageinfo.append(m[1]) #url\n",
    "    print('url=', m[1])\n",
    "    \n",
    "    # Links\n",
    "    m = re.findall(\"<a href=\\\"(https?://.+?)\\\">\", page, re.DOTALL)\n",
    "    print('link=', m)\n",
    "    pageinfo.append(m)  # can be empty [] ....\n",
    " \n",
    "    # get word\n",
    "#     m = re.findall(\"\\\\b\"+word+\"\\\\b\", page, re.IGNORECASE)\n",
    "#     m = re.findall(\"([^a-zA-Z]+)|^(\"+word+\")([^a-zA-Z]+)|$\", page, re.IGNORECASE)\n",
    "#     m = re.findall(\"(?:[^a-zA-Z]+)(hi)(?:[^a-zA-Z]+)\", page, re.IGNORECASE)\n",
    "#     m = re.findall(\"([^a-zA-Z]+)(hi)([^a-zA-Z]+)\", page, re.IGNORECASE|re.MULTILINE)\n",
    "#     m = re.findall(\"(^hi|[^a-zA-Z]+hi)[^a-zA-Z]+\", page, re.IGNORECASE)\n",
    "#     m = re.findall(\"(^hi|[^a-zA-Z]+hi)[^a-zA-Z]*\", page, re.IGNORECASE)\n",
    "    wordcnt=find_word2(page, word)\n",
    "    \n",
    "    print('wordcnt=', wordcnt)\n",
    "    pageinfo.append(wordcnt)\n",
    "    \n",
    "    return pageinfo"
   ]
  },
  {
   "cell_type": "code",
   "execution_count": 26,
   "metadata": {},
   "outputs": [],
   "source": [
    "def solution(word, pages):\n",
    "    answer = 0\n",
    "    pagemap = dict()\n",
    "    pagecnt=len(pages)\n",
    "    word = word.lower()\n",
    "    \n",
    "    for i, page in enumerate(pages):\n",
    "        page = page.lower()\n",
    "        page = page.replace('\\n', ' ')\n",
    "        print('page #=', i)\n",
    "        pi = parse(page, word)\n",
    "        if pi==None or pi[0]==None:  # URL Failed.\n",
    "            print('error!')\n",
    "            return -1\n",
    "        print(pi)\n",
    "        pagemap[pi[0]] = [i, pi[1], pi[2]]  # index, urls, wordcnt\n",
    "    print(pagemap)\n",
    "    \n",
    "    scores=[0]*pagecnt\n",
    "    linkscore=[0]*pagecnt\n",
    "    for k in pagemap.keys():\n",
    "        # k = url\n",
    "        index = pagemap[k][0]  # 인덱스, 사이트k\n",
    "        scores[index] = pagemap[k][2]  # 사이트k의 word스코어\n",
    "        # link point\n",
    "        for link in pagemap[k][1]:  # 사이트k의 링크\n",
    "            if link in pagemap.keys():\n",
    "                targetindex = pagemap[link][0]  # 링크대상의 인덱스\n",
    "                linkscore[targetindex] += pagemap[k][2] / len(pagemap[k][1]) # 링크대상의 link스코어 증가\n",
    "\n",
    "    # total score\n",
    "    totalscore=[0]*pagecnt\n",
    "    for i in range(pagecnt):\n",
    "        totalscore[i] = scores[i]+linkscore[i]\n",
    "    print('totalscore=', totalscore)    \n",
    "    \n",
    "    # max score\n",
    "    answer = sorted(enumerate(totalscore), key=lambda p: (-p[1], p[0]))[0][0]\n",
    "        \n",
    "    return answer"
   ]
  },
  {
   "cell_type": "code",
   "execution_count": 27,
   "metadata": {},
   "outputs": [
    {
     "name": "stdout",
     "output_type": "stream",
     "text": [
      "page #= 0\n",
      "url= https://a.com\n",
      "link= ['https://b.com']\n",
      "wordcnt= 3\n",
      "['https://a.com', ['https://b.com'], 3]\n",
      "{'https://a.com': [0, ['https://b.com'], 3]}\n",
      "totalscore= [3]\n"
     ]
    },
    {
     "data": {
      "text/plain": [
       "0"
      ]
     },
     "execution_count": 27,
     "metadata": {},
     "output_type": "execute_result"
    }
   ],
   "source": [
    "page=\"\"\"\n",
    "<html lang=\"ko\" xml:lang=\"ko\" xmlns=\"http://www.w3.org/1999/xhtml\">\n",
    "<head>\n",
    "  <meta charset=\"utf-8\">\n",
    "  <meta property=\"og:url\" content=\"https://a.com\"/>\n",
    "</head>  \n",
    "<body>\n",
    "Blind Lorem Blind ipsum dolor Blind test sit amet, consectetur adipiscing elit. \n",
    "<a href=\"https://b.com\"> Link to b </a>\n",
    "</body>\n",
    "</html>\n",
    "\"\"\"\n",
    "solution('blind', [page])"
   ]
  },
  {
   "cell_type": "code",
   "execution_count": 28,
   "metadata": {},
   "outputs": [
    {
     "name": "stdout",
     "output_type": "stream",
     "text": [
      "page #= 0\n",
      "url= https://www.kakaocorp.com\n",
      "link= ['https://hashcode.co.kr/tos']\n",
      "wordcnt= 1\n",
      "['https://www.kakaocorp.com', ['https://hashcode.co.kr/tos'], 1]\n",
      "{'https://www.kakaocorp.com': [0, ['https://hashcode.co.kr/tos'], 1]}\n",
      "totalscore= [1]\n"
     ]
    },
    {
     "data": {
      "text/plain": [
       "0"
      ]
     },
     "execution_count": 28,
     "metadata": {},
     "output_type": "execute_result"
    }
   ],
   "source": [
    "page=\"\"\"\n",
    "<html lang=\"ko\" xml:lang=\"ko\" xmlns=\"http://www.w3.org/1999/xhtml\">\n",
    "<head>\n",
    "  <meta charset=\"utf-8\">\n",
    "  <meta property=\"og:url\" content=\"https://www.kakaocorp.com\"/>\n",
    "</head>  \n",
    "<body>\n",
    "con%    muzI92apeach&2<a href=\"https://hashcode.co.kr/tos\"></a>\n",
    "\n",
    "    ^\n",
    "</body>\n",
    "</html>\n",
    "\"\"\"\n",
    "solution('muzi', [page])"
   ]
  },
  {
   "cell_type": "code",
   "execution_count": 29,
   "metadata": {},
   "outputs": [
    {
     "name": "stdout",
     "output_type": "stream",
     "text": [
      "page #= 0\n",
      "url= https://a.com\n",
      "link= ['https://b.com']\n",
      "wordcnt= 3\n",
      "['https://a.com', ['https://b.com'], 3]\n",
      "page #= 1\n",
      "url= https://b.com\n",
      "link= ['https://a.com', 'https://c.com']\n",
      "wordcnt= 1\n",
      "['https://b.com', ['https://a.com', 'https://c.com'], 1]\n",
      "page #= 2\n",
      "url= https://c.com\n",
      "link= ['https://a.com']\n",
      "wordcnt= 1\n",
      "['https://c.com', ['https://a.com'], 1]\n",
      "{'https://a.com': [0, ['https://b.com'], 3], 'https://b.com': [1, ['https://a.com', 'https://c.com'], 1], 'https://c.com': [2, ['https://a.com'], 1]}\n",
      "totalscore= [4.5, 4.0, 1.5]\n"
     ]
    },
    {
     "data": {
      "text/plain": [
       "0"
      ]
     },
     "execution_count": 29,
     "metadata": {},
     "output_type": "execute_result"
    }
   ],
   "source": [
    "pages=[\"<html lang=\\\"ko\\\" xml:lang=\\\"ko\\\" xmlns=\\\"http://www.w3.org/1999/xhtml\\\">\\n<head>\\n  <meta charset=\\\"utf-8\\\">\\n  <meta property=\\\"og:url\\\" content=\\\"https://a.com\\\"/>\\n</head>  \\n<body>\\nBlind Lorem Blind ipsum dolor Blind test sit amet, consectetur adipiscing elit. \\n<a href=\\\"https://b.com\\\"> Link to b </a>\\n</body>\\n</html>\", \"<html lang=\\\"ko\\\" xml:lang=\\\"ko\\\" xmlns=\\\"http://www.w3.org/1999/xhtml\\\">\\n<head>\\n  <meta charset=\\\"utf-8\\\">\\n  <meta property=\\\"og:url\\\" content=\\\"https://b.com\\\"/>\\n</head>  \\n<body>\\nSuspendisse potenti. Vivamus venenatis tellus non turpis bibendum, \\n<a href=\\\"https://a.com\\\"> Link to a </a>\\nblind sed congue urna varius. Suspendisse feugiat nisl ligula, quis malesuada felis hendrerit ut.\\n<a href=\\\"https://c.com\\\"> Link to c </a>\\n</body>\\n</html>\", \"<html lang=\\\"ko\\\" xml:lang=\\\"ko\\\" xmlns=\\\"http://www.w3.org/1999/xhtml\\\">\\n<head>\\n  <meta charset=\\\"utf-8\\\">\\n  <meta property=\\\"og:url\\\" content=\\\"https://c.com\\\"/>\\n</head>  \\n<body>\\nUt condimentum urna at felis sodales rutrum. Sed dapibus cursus diam, non interdum nulla tempor nec. Phasellus rutrum enim at orci consectetu blind\\n<a href=\\\"https://a.com\\\"> Link to a </a>\\n</body>\\n</html>\"]\n",
    "solution('blind', pages)"
   ]
  },
  {
   "cell_type": "code",
   "execution_count": null,
   "metadata": {},
   "outputs": [],
   "source": []
  },
  {
   "cell_type": "code",
   "execution_count": null,
   "metadata": {},
   "outputs": [],
   "source": []
  },
  {
   "cell_type": "code",
   "execution_count": null,
   "metadata": {},
   "outputs": [],
   "source": []
  },
  {
   "cell_type": "code",
   "execution_count": null,
   "metadata": {},
   "outputs": [],
   "source": []
  },
  {
   "cell_type": "code",
   "execution_count": null,
   "metadata": {},
   "outputs": [],
   "source": []
  }
 ],
 "metadata": {
  "kernelspec": {
   "display_name": "py37",
   "language": "python",
   "name": "py37"
  },
  "language_info": {
   "codemirror_mode": {
    "name": "ipython",
    "version": 3
   },
   "file_extension": ".py",
   "mimetype": "text/x-python",
   "name": "python",
   "nbconvert_exporter": "python",
   "pygments_lexer": "ipython3",
   "version": "3.7.3"
  }
 },
 "nbformat": 4,
 "nbformat_minor": 2
}
