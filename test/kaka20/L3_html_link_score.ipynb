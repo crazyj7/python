{
 "cells": [
  {
   "cell_type": "code",
   "execution_count": 1,
   "metadata": {},
   "outputs": [],
   "source": [
    "import re\n",
    "import string"
   ]
  },
  {
   "cell_type": "code",
   "execution_count": null,
   "metadata": {},
   "outputs": [],
   "source": []
  },
  {
   "cell_type": "code",
   "execution_count": 39,
   "metadata": {},
   "outputs": [],
   "source": [
    "page=\"\"\"HI\n",
    "<html>  <head>\n",
    "<meta hi content=\"http://b.com\"/> </head>\n",
    "<a href=\"https://a.com\" />  hihi hI HI2 hI@HI\n",
    "hi\"\"\""
   ]
  },
  {
   "cell_type": "code",
   "execution_count": 42,
   "metadata": {},
   "outputs": [
    {
     "data": {
      "text/plain": [
       "['<head>']"
      ]
     },
     "execution_count": 42,
     "metadata": {},
     "output_type": "execute_result"
    }
   ],
   "source": [
    "re.findall(\"<head>.*\", page)"
   ]
  },
  {
   "cell_type": "code",
   "execution_count": 45,
   "metadata": {},
   "outputs": [
    {
     "data": {
      "text/plain": [
       "['http://b.com']"
      ]
     },
     "execution_count": 45,
     "metadata": {},
     "output_type": "execute_result"
    }
   ],
   "source": [
    "re.findall(\"<head>.*?<meta.* content=\\\"(.+)\\\".*</head>\", page, re.IGNORECASE|re.DOTALL)\n"
   ]
  },
  {
   "cell_type": "code",
   "execution_count": 3,
   "metadata": {},
   "outputs": [
    {
     "data": {
      "text/plain": [
       "['HI',\n",
       " 'html',\n",
       " 'meta',\n",
       " 'hi',\n",
       " 'content',\n",
       " 'http',\n",
       " 'b',\n",
       " 'com',\n",
       " 'a',\n",
       " 'href',\n",
       " 'https',\n",
       " 'a',\n",
       " 'com',\n",
       " 'hihi',\n",
       " 'hI',\n",
       " 'HI',\n",
       " 'hI',\n",
       " 'HI',\n",
       " 'hi']"
      ]
     },
     "execution_count": 3,
     "metadata": {},
     "output_type": "execute_result"
    }
   ],
   "source": [
    "re.split(\"[^a-zA-Z]+\", page)"
   ]
  },
  {
   "cell_type": "code",
   "execution_count": 4,
   "metadata": {},
   "outputs": [
    {
     "name": "stdout",
     "output_type": "stream",
     "text": [
      "abcdefghijklmnopqrstuvwxyz\n",
      "ABCDEFGHIJKLMNOPQRSTUVWXYZ\n",
      "0123456789\n"
     ]
    }
   ],
   "source": [
    "print(string.ascii_lowercase)\n",
    "print(string.ascii_uppercase)\n",
    "print(string.digits)"
   ]
  },
  {
   "cell_type": "code",
   "execution_count": 19,
   "metadata": {},
   "outputs": [],
   "source": [
    "import re\n",
    "import string\n",
    "\n",
    "\n",
    "def find_word2(page,word):\n",
    "    wordcnt=0\n",
    "    aa=re.split(\"[^a-zA-Z]+\", page)\n",
    "    for ai in aa:\n",
    "        if ai.lower()==word.lower():\n",
    "            wordcnt+=1\n",
    "    return wordcnt\n",
    "\n",
    "\n",
    "def find_word(page, word):\n",
    "    index=0\n",
    "    l = len(page)\n",
    "    alpha=string.ascii_lowercase\n",
    "    page = page.lower()\n",
    "    wordcnt=0\n",
    "    word = word.lower()\n",
    "#     page2 = list(page) #debug\n",
    "    while True:\n",
    "        if index>=l:\n",
    "            break\n",
    "        ind = page.find(word, index)\n",
    "        if ind==-1:\n",
    "            break\n",
    "            \n",
    "        if ind!=0:\n",
    "            # prev letter check\n",
    "            if page[ind-1] in alpha:\n",
    "                index = ind+len(word)\n",
    "                continue\n",
    "        if ind+len(word)<l:\n",
    "            # post letter check\n",
    "            if page[ind+len(word)] in alpha:\n",
    "                index = ind+len(word)\n",
    "                continue\n",
    "#         page2[ind]='*'\n",
    "#         print('found ind=', ind, page[ind:ind+len(word)+1])\n",
    "        wordcnt+=1\n",
    "        index = ind+len(word)\n",
    "#     print(''.join(page2))\n",
    "    return wordcnt\n",
    "    \n",
    "    \n",
    "def parse(page, word):\n",
    "    pageinfo=[]\n",
    "    # html page. meta tag. url\n",
    "    m = re.findall(\"<head>.*?<meta.* content=\\\"(.+)\\\".*</head>\", page, re.IGNORECASE|re.DOTALL)\n",
    "    # print(m)\n",
    "    pageinfo.append(m[0]) #url\n",
    "    \n",
    "    # get links\n",
    "    m = re.findall(\"<a href=\\\"(https?://.+)\\\"\", page, re.IGNORECASE)\n",
    "    # print('urls=', m)\n",
    "    pageinfo.append(m)\n",
    "    \n",
    "    # get word\n",
    "#     m = re.findall(\"\\\\b\"+word+\"\\\\b\", page, re.IGNORECASE)\n",
    "#     m = re.findall(\"([^a-zA-Z]+)|^(\"+word+\")([^a-zA-Z]+)|$\", page, re.IGNORECASE)\n",
    "#     m = re.findall(\"(?:[^a-zA-Z]+)(hi)(?:[^a-zA-Z]+)\", page, re.IGNORECASE)\n",
    "#     m = re.findall(\"([^a-zA-Z]+)(hi)([^a-zA-Z]+)\", page, re.IGNORECASE|re.MULTILINE)\n",
    "#     m = re.findall(\"(^hi|[^a-zA-Z]+hi)[^a-zA-Z]+\", page, re.IGNORECASE)\n",
    "#     m = re.findall(\"(^hi|[^a-zA-Z]+hi)[^a-zA-Z]*\", page, re.IGNORECASE)\n",
    "    \n",
    "    wordcnt=find_word(page, word)\n",
    "    print('wordcnt=', wordcnt)\n",
    "    pageinfo.append(wordcnt)\n",
    "    \n",
    "    \n",
    "    return pageinfo\n",
    "\n",
    "\n",
    "def solution(word, pages):\n",
    "    answer = 0\n",
    "    pagemap = dict()\n",
    "    pagecnt=len(pages)\n",
    "    word = word.lower()\n",
    "    \n",
    "    for i, page in enumerate(pages):\n",
    "        page = page.lower()\n",
    "        print('page #=', i)\n",
    "        pi = parse(page, word)\n",
    "        if pi[0]==None:  # URL Failed.\n",
    "            return -1\n",
    "        \n",
    "        print(pi)\n",
    "        pagemap[pi[0]] = [i, pi[1], pi[2]]  # index, urls, wordcnt\n",
    "    print(pagemap)\n",
    "    \n",
    "    scores=[0]*pagecnt\n",
    "    linkscore=[0]*pagecnt\n",
    "    for k in pagemap.keys():\n",
    "        # k = url\n",
    "        index = pagemap[k][0]\n",
    "        scores[index] = pagemap[k][2]\n",
    "        \n",
    "        # link point\n",
    "        for link in pagemap[k][1]:  # k의 링크조회\n",
    "            if link in pagemap.keys(): # 링크가 목록에 있다면.\n",
    "                targetindex = pagemap[link][0] # 링크가 가리키는 인덱스.\n",
    "                ls = pagemap[k][2] / len(pagemap[k][1]) # 링크점수.\n",
    "                print('target=', targetindex, 'linkscore=', ls, pagemap[link][2], len(pagemap[link][1]))\n",
    "                linkscore[targetindex] += ls # 링크 대상에게 링크점수.\n",
    "        \n",
    "    print('basic score=', scores)\n",
    "    print('link score=', linkscore)\n",
    "    # total score\n",
    "    totalscore=[0]*pagecnt\n",
    "    for i in range(pagecnt):\n",
    "        totalscore[i] = scores[i]+linkscore[i]\n",
    "    print(totalscore)    \n",
    "    \n",
    "    \n",
    "    # max score\n",
    "    maxi = 0\n",
    "    maxscore = 0\n",
    "    for i in range(pagecnt):\n",
    "        if maxscore<totalscore[i]:\n",
    "            maxscore = totalscore[i]\n",
    "            maxi = i\n",
    "    answer = maxi \n",
    "        \n",
    "    return answer"
   ]
  },
  {
   "cell_type": "code",
   "execution_count": 20,
   "metadata": {},
   "outputs": [
    {
     "name": "stdout",
     "output_type": "stream",
     "text": [
      "=> HI\n",
      "<html> \n",
      "<meta hi content=\"http://b.com\"/>\n",
      "<a href=\"https://a.com\" />  hihi hI HI2 hI@HI\n",
      "hi <=\n"
     ]
    },
    {
     "ename": "IndexError",
     "evalue": "list index out of range",
     "output_type": "error",
     "traceback": [
      "\u001b[1;31m---------------------------------------------------------------------------\u001b[0m",
      "\u001b[1;31mIndexError\u001b[0m                                Traceback (most recent call last)",
      "\u001b[1;32m<ipython-input-20-9dc1a7c498bf>\u001b[0m in \u001b[0;36m<module>\u001b[1;34m\u001b[0m\n\u001b[0;32m      7\u001b[0m \u001b[1;33m\u001b[0m\u001b[0m\n\u001b[0;32m      8\u001b[0m \u001b[0mprint\u001b[0m\u001b[1;33m(\u001b[0m\u001b[1;34m'=>'\u001b[0m\u001b[1;33m,\u001b[0m \u001b[0mpage\u001b[0m\u001b[1;33m,\u001b[0m \u001b[1;34m'<='\u001b[0m\u001b[1;33m)\u001b[0m\u001b[1;33m\u001b[0m\u001b[1;33m\u001b[0m\u001b[0m\n\u001b[1;32m----> 9\u001b[1;33m \u001b[0mprint\u001b[0m\u001b[1;33m(\u001b[0m\u001b[0mparse\u001b[0m\u001b[1;33m(\u001b[0m\u001b[0mpage\u001b[0m\u001b[1;33m,\u001b[0m \u001b[1;34m'hi'\u001b[0m\u001b[1;33m)\u001b[0m\u001b[1;33m)\u001b[0m\u001b[1;33m\u001b[0m\u001b[1;33m\u001b[0m\u001b[0m\n\u001b[0m",
      "\u001b[1;32m<ipython-input-19-a1ddb4a67c91>\u001b[0m in \u001b[0;36mparse\u001b[1;34m(page, word)\u001b[0m\n\u001b[0;32m     50\u001b[0m     \u001b[0mm\u001b[0m \u001b[1;33m=\u001b[0m \u001b[0mre\u001b[0m\u001b[1;33m.\u001b[0m\u001b[0mfindall\u001b[0m\u001b[1;33m(\u001b[0m\u001b[1;34m\"<head>.*<meta.* content=\\\"(.+)\\\".*</head>\"\u001b[0m\u001b[1;33m,\u001b[0m \u001b[0mpage\u001b[0m\u001b[1;33m,\u001b[0m \u001b[0mre\u001b[0m\u001b[1;33m.\u001b[0m\u001b[0mIGNORECASE\u001b[0m\u001b[1;33m)\u001b[0m\u001b[1;33m\u001b[0m\u001b[1;33m\u001b[0m\u001b[0m\n\u001b[0;32m     51\u001b[0m     \u001b[1;31m# print(m)\u001b[0m\u001b[1;33m\u001b[0m\u001b[1;33m\u001b[0m\u001b[1;33m\u001b[0m\u001b[0m\n\u001b[1;32m---> 52\u001b[1;33m     \u001b[0mpageinfo\u001b[0m\u001b[1;33m.\u001b[0m\u001b[0mappend\u001b[0m\u001b[1;33m(\u001b[0m\u001b[0mm\u001b[0m\u001b[1;33m[\u001b[0m\u001b[1;36m0\u001b[0m\u001b[1;33m]\u001b[0m\u001b[1;33m)\u001b[0m \u001b[1;31m#url\u001b[0m\u001b[1;33m\u001b[0m\u001b[1;33m\u001b[0m\u001b[0m\n\u001b[0m\u001b[0;32m     53\u001b[0m \u001b[1;33m\u001b[0m\u001b[0m\n\u001b[0;32m     54\u001b[0m     \u001b[1;31m# get links\u001b[0m\u001b[1;33m\u001b[0m\u001b[1;33m\u001b[0m\u001b[1;33m\u001b[0m\u001b[0m\n",
      "\u001b[1;31mIndexError\u001b[0m: list index out of range"
     ]
    }
   ],
   "source": [
    "page=\"\"\"HI\n",
    "<html> \n",
    "<meta hi content=\"http://b.com\"/>\n",
    "<a href=\"https://a.com\" />  hihi hI HI2 hI@HI\n",
    "hi\"\"\"\n",
    "\n",
    "\n",
    "print('=>', page, '<=')\n",
    "print(parse(page, 'hi'))"
   ]
  },
  {
   "cell_type": "code",
   "execution_count": 13,
   "metadata": {},
   "outputs": [
    {
     "data": {
      "text/plain": [
       "7"
      ]
     },
     "execution_count": 13,
     "metadata": {},
     "output_type": "execute_result"
    }
   ],
   "source": [
    "find_word(page, 'hi')"
   ]
  },
  {
   "cell_type": "code",
   "execution_count": 14,
   "metadata": {},
   "outputs": [
    {
     "data": {
      "text/plain": [
       "7"
      ]
     },
     "execution_count": 14,
     "metadata": {},
     "output_type": "execute_result"
    }
   ],
   "source": [
    "find_word2(page, 'hi')"
   ]
  },
  {
   "cell_type": "code",
   "execution_count": 16,
   "metadata": {},
   "outputs": [
    {
     "name": "stdout",
     "output_type": "stream",
     "text": [
      "1\n",
      "1\n"
     ]
    }
   ],
   "source": [
    "page=\"\"\"\n",
    "<html lang=\"ko\" xml:lang=\"ko\" xmlns=\"http://www.w3.org/1999/xhtml\">\n",
    "<head>\n",
    "  <meta charset=\"utf-8\">\n",
    "  <meta property=\"og:url\" content=\"https://www.kakaocorp.com\"/>\n",
    "</head>  \n",
    "<body>\n",
    "con%    muzI92apeach&2<a href=\"https://hashcode.co.kr/tos\"></a>\n",
    "\n",
    "    ^\n",
    "</body>\n",
    "</html>\n",
    "\"\"\"\n",
    "print(find_word(page, 'muzi'))\n",
    "print(find_word2(page, 'muzi'))"
   ]
  },
  {
   "cell_type": "code",
   "execution_count": 17,
   "metadata": {},
   "outputs": [],
   "source": [
    "page=\"\"\"\n",
    "<html lang=\"ko\" xml:lang=\"ko\" xmlns=\"http://www.w3.org/1999/xhtml\">\n",
    "<head>\n",
    "  <meta charset=\"utf-8\">\n",
    "  <meta property=\"og:url\" content=\"https://a.com\"/>\n",
    "</head>  \n",
    "<body>\n",
    "Blind Lorem Blind ipsum dolor Blind test sit amet, consectetur adipiscing elit. \n",
    "<a href=\"https://b.com\"> Link to b </a>\n",
    "</body>\n",
    "</html>\n",
    "\"\"\""
   ]
  },
  {
   "cell_type": "code",
   "execution_count": 18,
   "metadata": {},
   "outputs": [
    {
     "name": "stdout",
     "output_type": "stream",
     "text": [
      "3\n",
      "3\n"
     ]
    }
   ],
   "source": [
    "print(find_word(page, 'blind'))\n",
    "print(find_word2(page, 'blind'))"
   ]
  },
  {
   "cell_type": "code",
   "execution_count": null,
   "metadata": {},
   "outputs": [],
   "source": []
  },
  {
   "cell_type": "code",
   "execution_count": null,
   "metadata": {},
   "outputs": [],
   "source": []
  },
  {
   "cell_type": "code",
   "execution_count": null,
   "metadata": {},
   "outputs": [],
   "source": []
  }
 ],
 "metadata": {
  "kernelspec": {
   "display_name": "py37",
   "language": "python",
   "name": "py37"
  },
  "language_info": {
   "codemirror_mode": {
    "name": "ipython",
    "version": 3
   },
   "file_extension": ".py",
   "mimetype": "text/x-python",
   "name": "python",
   "nbconvert_exporter": "python",
   "pygments_lexer": "ipython3",
   "version": "3.7.3"
  }
 },
 "nbformat": 4,
 "nbformat_minor": 2
}
