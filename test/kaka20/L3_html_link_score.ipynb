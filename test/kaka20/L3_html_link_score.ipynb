{
 "cells": [
  {
   "cell_type": "code",
   "execution_count": 85,
   "metadata": {},
   "outputs": [],
   "source": [
    "import re\n",
    "import string"
   ]
  },
  {
   "cell_type": "code",
   "execution_count": null,
   "metadata": {},
   "outputs": [],
   "source": []
  },
  {
   "cell_type": "code",
   "execution_count": 136,
   "metadata": {},
   "outputs": [],
   "source": [
    "page=\"\"\"HI\n",
    "<html> \n",
    "<meta hi content=\"http://b.com\"/>\n",
    "<a href=\"https://a.com\" />  hihi hI HI2 hI@HI\n",
    "hi\"\"\""
   ]
  },
  {
   "cell_type": "code",
   "execution_count": 137,
   "metadata": {},
   "outputs": [
    {
     "data": {
      "text/plain": [
       "['HI',\n",
       " 'html',\n",
       " 'meta',\n",
       " 'hi',\n",
       " 'content',\n",
       " 'http',\n",
       " 'b',\n",
       " 'com',\n",
       " 'a',\n",
       " 'href',\n",
       " 'https',\n",
       " 'a',\n",
       " 'com',\n",
       " 'hihi',\n",
       " 'hI',\n",
       " 'HI',\n",
       " 'hI',\n",
       " 'HI',\n",
       " 'hi']"
      ]
     },
     "execution_count": 137,
     "metadata": {},
     "output_type": "execute_result"
    }
   ],
   "source": [
    "re.split(\"[^a-zA-Z]+\", page)"
   ]
  },
  {
   "cell_type": "code",
   "execution_count": 124,
   "metadata": {},
   "outputs": [
    {
     "name": "stdout",
     "output_type": "stream",
     "text": [
      "abcdefghijklmnopqrstuvwxyz\n",
      "ABCDEFGHIJKLMNOPQRSTUVWXYZ\n",
      "0123456789\n"
     ]
    }
   ],
   "source": [
    "print(string.ascii_lowercase)\n",
    "print(string.ascii_uppercase)\n",
    "print(string.digits)"
   ]
  },
  {
   "cell_type": "code",
   "execution_count": 138,
   "metadata": {},
   "outputs": [],
   "source": [
    "import re\n",
    "import string\n",
    "\n",
    "\n",
    "def find_word2(page,word):\n",
    "    wordcnt=0\n",
    "    aa=re.split(\"[^a-zA-Z]+\", page)\n",
    "    for ai in aa:\n",
    "        wordcnt+=1\n",
    "    return wordcnt\n",
    "\n",
    "\n",
    "def find_word(page, word):\n",
    "    index=0\n",
    "    l = len(page)\n",
    "    alpha=string.ascii_lowercase\n",
    "    page = page.lower()\n",
    "    wordcnt=0\n",
    "#     page2 = list(page) #debug\n",
    "    while True:\n",
    "        if index>=l:\n",
    "            break\n",
    "        ind = page.find(word, index)\n",
    "        if ind==-1:\n",
    "            break\n",
    "            \n",
    "        if ind!=0:\n",
    "            # prev letter check\n",
    "            if page[ind-1] in alpha:\n",
    "                index = ind+len(word)\n",
    "                continue\n",
    "        if ind+len(word)<l:\n",
    "            # post letter check\n",
    "            if page[ind+len(word)] in alpha:\n",
    "                index = ind+len(word)\n",
    "                continue\n",
    "#         page2[ind]='*'\n",
    "#         print('found ind=', ind, page[ind:ind+len(word)+1])\n",
    "        wordcnt+=1\n",
    "        index = ind+len(word)\n",
    "#     print(''.join(page2))\n",
    "    return wordcnt\n",
    "    \n",
    "    \n",
    "def parse(page, word):\n",
    "    pageinfo=[]\n",
    "    # html page. meta tag. url\n",
    "    m = re.findall(\"<meta.* content=\\\"(.+)\\\"\", page)\n",
    "    if len(m)==0:\n",
    "        print('URL error')\n",
    "        return None\n",
    "    \n",
    "    # print(m)\n",
    "    pageinfo.append(m[0]) #url\n",
    "    \n",
    "    # get links\n",
    "    m = re.findall(\"<a href=\\\"(https?://.+)\\\"\", page)\n",
    "    # print('urls=', m)\n",
    "    pageinfo.append(m)  # can be empty [] ....\n",
    "    \n",
    "    # get word\n",
    "#     m = re.findall(\"\\\\b\"+word+\"\\\\b\", page, re.IGNORECASE)\n",
    "#     m = re.findall(\"([^a-zA-Z]+)|^(\"+word+\")([^a-zA-Z]+)|$\", page, re.IGNORECASE)\n",
    "#     m = re.findall(\"(?:[^a-zA-Z]+)(hi)(?:[^a-zA-Z]+)\", page, re.IGNORECASE)\n",
    "#     m = re.findall(\"([^a-zA-Z]+)(hi)([^a-zA-Z]+)\", page, re.IGNORECASE|re.MULTILINE)\n",
    "#     m = re.findall(\"(^hi|[^a-zA-Z]+hi)[^a-zA-Z]+\", page, re.IGNORECASE)\n",
    "#     m = re.findall(\"(^hi|[^a-zA-Z]+hi)[^a-zA-Z]*\", page, re.IGNORECASE)\n",
    "    wordcnt=find_word(page, word)\n",
    "    print('wordcnt=', wordcnt)\n",
    "    pageinfo.append(wordcnt)\n",
    "    \n",
    "    return pageinfo\n",
    "\n",
    "\n",
    "def solution(word, pages):\n",
    "    answer = 0\n",
    "    pagemap = dict()\n",
    "    pagecnt=len(pages)\n",
    "    word = word.lower()\n",
    "    \n",
    "    for i, page in enumerate(pages):\n",
    "        page = page.lower()\n",
    "        print('page #=', i)\n",
    "        pi = parse(page, word)\n",
    "        if pi==None or pi[0]==None:  # URL Failed.\n",
    "            print('error!')\n",
    "            return -1\n",
    "        print(pi)\n",
    "        pagemap[pi[0]] = [i, pi[1], pi[2]]  # index, urls, wordcnt\n",
    "    print(pagemap)\n",
    "    \n",
    "    scores=[0]*pagecnt\n",
    "    linkscore=[0]*pagecnt\n",
    "    for k in pagemap.keys():\n",
    "        # k = url\n",
    "        index = pagemap[k][0]\n",
    "        scores[index] = pagemap[k][2]\n",
    "        # link point\n",
    "        for link in pagemap[k][1]:\n",
    "            if link in pagemap.keys():\n",
    "                targetindex = pagemap[link][0]\n",
    "                linkscore[targetindex] += pagemap[link][2] / len(pagemap[link][1])\n",
    "        \n",
    "    # total score\n",
    "    totalscore=[0]*pagecnt\n",
    "    for i in range(pagecnt):\n",
    "        totalscore[i] = scores[i]+linkscore[i]\n",
    "    print('totalscore=', totalscore)    \n",
    "    \n",
    "    # max score\n",
    "    maxi = 0\n",
    "    maxscore = -1\n",
    "    for i in range(pagecnt):\n",
    "        if maxscore<totalscore[i]:\n",
    "            maxscore = totalscore[i]\n",
    "            maxi = i\n",
    "    answer = maxi \n",
    "        \n",
    "    return answer"
   ]
  },
  {
   "cell_type": "code",
   "execution_count": 139,
   "metadata": {},
   "outputs": [
    {
     "name": "stdout",
     "output_type": "stream",
     "text": [
      "=> HI\n",
      "<html> \n",
      "<meta hi content=\"http://b.com\"/>\n",
      "<a href=\"https://a.com\" />  hihi hI HI2 hI@HI\n",
      "hi <=\n",
      "wordcnt= 7\n",
      "['http://b.com', ['https://a.com'], 7]\n"
     ]
    }
   ],
   "source": [
    "print('=>', page, '<=')\n",
    "print(parse(page, 'hi'))"
   ]
  },
  {
   "cell_type": "code",
   "execution_count": 140,
   "metadata": {},
   "outputs": [
    {
     "data": {
      "text/plain": [
       "7"
      ]
     },
     "execution_count": 140,
     "metadata": {},
     "output_type": "execute_result"
    }
   ],
   "source": [
    "find_word(page, 'hi')"
   ]
  },
  {
   "cell_type": "code",
   "execution_count": 141,
   "metadata": {},
   "outputs": [
    {
     "data": {
      "text/plain": [
       "1"
      ]
     },
     "execution_count": 141,
     "metadata": {},
     "output_type": "execute_result"
    }
   ],
   "source": [
    "page=\"\"\"\n",
    "<html lang=\"ko\" xml:lang=\"ko\" xmlns=\"http://www.w3.org/1999/xhtml\">\n",
    "<head>\n",
    "  <meta charset=\"utf-8\">\n",
    "  <meta property=\"og:url\" content=\"https://www.kakaocorp.com\"/>\n",
    "</head>  \n",
    "<body>\n",
    "con%    muzI92apeach&2<a href=\"https://hashcode.co.kr/tos\"></a>\n",
    "\n",
    "    ^\n",
    "</body>\n",
    "</html>\n",
    "\"\"\"\n",
    "find_word(page, 'muzi')"
   ]
  },
  {
   "cell_type": "code",
   "execution_count": 144,
   "metadata": {},
   "outputs": [],
   "source": [
    "page=\"\"\"\n",
    "<html lang=\"ko\" xml:lang=\"ko\" xmlns=\"http://www.w3.org/1999/xhtml\">\n",
    "<head>\n",
    "  <meta charset=\"utf-8\">\n",
    "  <meta property=\"og:url\" content=\"https://a.com\"/>\n",
    "</head>  \n",
    "<body>\n",
    "Blind Lorem Blind ipsum dolor Blind test sit amet, consectetur adipiscing elit. \n",
    "<a href=\"https://b.com\"> Link to b </a>\n",
    "</body>\n",
    "</html>\n",
    "\"\"\""
   ]
  },
  {
   "cell_type": "code",
   "execution_count": 143,
   "metadata": {},
   "outputs": [
    {
     "data": {
      "text/plain": [
       "3"
      ]
     },
     "execution_count": 143,
     "metadata": {},
     "output_type": "execute_result"
    }
   ],
   "source": [
    "find_word(page, 'blind')"
   ]
  },
  {
   "cell_type": "code",
   "execution_count": 147,
   "metadata": {},
   "outputs": [
    {
     "name": "stdout",
     "output_type": "stream",
     "text": [
      "page #= 0\n",
      "wordcnt= 3\n",
      "['https://a.com', [], 3]\n",
      "{'https://a.com': [0, [], 3]}\n",
      "[3]\n"
     ]
    },
    {
     "data": {
      "text/plain": [
       "0"
      ]
     },
     "execution_count": 147,
     "metadata": {},
     "output_type": "execute_result"
    }
   ],
   "source": [
    "page=\"\"\"\n",
    "<html lang=\"ko\" xml:lang=\"ko\" xmlns=\"http://www.w3.org/1999/xhtml\">\n",
    "<head>\n",
    "  <meta charset=\"utf-8\">\n",
    "  <meta property=\"og:url\" content=\"https://a.com\"/>\n",
    "</head>  \n",
    "<body>\n",
    "Blind Lorem Blind ipsum dolor Blind test sit amet, consectetur adipiscing elit. \n",
    " Link to b </a>\n",
    "</body>\n",
    "</html>\n",
    "\"\"\"\n",
    "\n",
    "solution('blind', [page])"
   ]
  },
  {
   "cell_type": "code",
   "execution_count": null,
   "metadata": {},
   "outputs": [],
   "source": []
  },
  {
   "cell_type": "code",
   "execution_count": null,
   "metadata": {},
   "outputs": [],
   "source": []
  },
  {
   "cell_type": "code",
   "execution_count": null,
   "metadata": {},
   "outputs": [],
   "source": []
  },
  {
   "cell_type": "code",
   "execution_count": null,
   "metadata": {},
   "outputs": [],
   "source": []
  }
 ],
 "metadata": {
  "kernelspec": {
   "display_name": "py37",
   "language": "python",
   "name": "py37"
  },
  "language_info": {
   "codemirror_mode": {
    "name": "ipython",
    "version": 3
   },
   "file_extension": ".py",
   "mimetype": "text/x-python",
   "name": "python",
   "nbconvert_exporter": "python",
   "pygments_lexer": "ipython3",
   "version": "3.7.3"
  }
 },
 "nbformat": 4,
 "nbformat_minor": 2
}
