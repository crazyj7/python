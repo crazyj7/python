{
 "cells": [
  {
   "cell_type": "code",
   "execution_count": 1,
   "metadata": {},
   "outputs": [],
   "source": [
    "import numpy as np\n"
   ]
  },
  {
   "cell_type": "code",
   "execution_count": null,
   "metadata": {},
   "outputs": [],
   "source": []
  },
  {
   "cell_type": "code",
   "execution_count": 2,
   "metadata": {},
   "outputs": [],
   "source": [
    "\n",
    "input = [[1, 4, 8, 10], [5, 5, 5, 5], [10, 10, 10, 10], [10, 10, 10, 20]]\n",
    "height = 3\n",
    "result=15\n",
    "\n",
    "# input = [[10, 11, 10, 11], [2, 21, 20, 10], [1, 20, 21, 11], [2, 1, 2, 1]]\n",
    "# height = 1\n",
    "# result=18\n",
    "\n",
    "n = len(input)\n",
    "npinput = np.asarray(input)"
   ]
  },
  {
   "cell_type": "code",
   "execution_count": 3,
   "metadata": {},
   "outputs": [],
   "source": [
    "# group api\n",
    "groups = []\n",
    "\n",
    "# gi=group index. -1=new\n",
    "# return ; group index\n",
    "def group_add(i,j, gi):\n",
    "    global groups\n",
    "    if gi==-1:\n",
    "        groups.append([(i,j)])\n",
    "        gi = len(groups)-1\n",
    "        print('newgroup:',gi, 'item=', i,j)\n",
    "    else:\n",
    "        groups[gi].append((i,j))\n",
    "        print('add group=',gi, 'item=', i,j)\n",
    "    return gi\n",
    "\n",
    "def group_find(i,j):\n",
    "    if i<0 or j<0:\n",
    "        return -1\n",
    "    if i>=n or j>=n:\n",
    "        return -1\n",
    "    for gi, g in enumerate(groups):\n",
    "        for f in g:\n",
    "            if f[0]==i and f[1]==j:\n",
    "                return gi\n",
    "    return -1\n",
    "\n",
    "# d = l, r, u, d  (left, right, up, down)\n",
    "def can_move(i,j, d):\n",
    "    i2,j2 = i,j\n",
    "    if d=='l': j2 -=1\n",
    "    if d=='r': j2 +=1\n",
    "    if d=='u': i2 -=1\n",
    "    if d=='d': i2 +=1\n",
    "    if i2<0 or j2<0:\n",
    "        return False\n",
    "    if i2>=n or j2>=n:\n",
    "        return False\n",
    "    return abs(input[i][j] - input[i2][j2])<=height\n",
    "\n",
    "def group_merge(gi, gj):\n",
    "    global groups\n",
    "    bak = groups[gj][:]\n",
    "    print('group merge ',gj,'into',gi)\n",
    "    groups[gi].extend(bak)\n",
    "    del groups[gj]\n",
    "    "
   ]
  },
  {
   "cell_type": "code",
   "execution_count": 4,
   "metadata": {},
   "outputs": [
    {
     "name": "stdout",
     "output_type": "stream",
     "text": [
      "newgroup: 0 item= 0 0\n",
      "0\n",
      "add group= 0 item= 1 1\n",
      "0\n",
      "newgroup: 1 item= 2 2\n",
      "1\n",
      "add group= 1 item= 3 3\n",
      "1\n",
      "newgroup: 2 item= 4 4\n",
      "2\n",
      "add group= 2 item= 5 6\n",
      "2\n",
      "find= -1\n",
      "find= 1\n"
     ]
    },
    {
     "data": {
      "text/plain": [
       "[[(0, 0), (1, 1)], [(2, 2), (3, 3)], [(4, 4), (5, 6)]]"
      ]
     },
     "execution_count": 4,
     "metadata": {},
     "output_type": "execute_result"
    }
   ],
   "source": [
    "groups.clear()\n",
    "print(group_add(0,0,-1))\n",
    "print(group_add(1,1,0))\n",
    "print(group_add(2,2,-1))\n",
    "print(group_add(3,3,1))\n",
    "print(group_add(4,4,-1))\n",
    "print(group_add(5,6,2))\n",
    "\n",
    "print('find=', group_find(5,6))\n",
    "print('find=', group_find(2,2))\n",
    "\n",
    "groups"
   ]
  },
  {
   "cell_type": "code",
   "execution_count": 5,
   "metadata": {},
   "outputs": [
    {
     "data": {
      "text/plain": [
       "[[(0, 0), (1, 1)], [(2, 2), (3, 3)], [(4, 4), (5, 6)]]"
      ]
     },
     "execution_count": 5,
     "metadata": {},
     "output_type": "execute_result"
    }
   ],
   "source": [
    "groups"
   ]
  },
  {
   "cell_type": "code",
   "execution_count": 6,
   "metadata": {},
   "outputs": [
    {
     "name": "stdout",
     "output_type": "stream",
     "text": [
      "group merge  2 into 1\n"
     ]
    }
   ],
   "source": [
    "group_merge(1,2)"
   ]
  },
  {
   "cell_type": "code",
   "execution_count": 7,
   "metadata": {},
   "outputs": [
    {
     "data": {
      "text/plain": [
       "[[(0, 0), (1, 1)], [(2, 2), (3, 3), (4, 4), (5, 6)]]"
      ]
     },
     "execution_count": 7,
     "metadata": {},
     "output_type": "execute_result"
    }
   ],
   "source": [
    "groups"
   ]
  },
  {
   "cell_type": "code",
   "execution_count": 8,
   "metadata": {},
   "outputs": [
    {
     "data": {
      "text/plain": [
       "True"
      ]
     },
     "execution_count": 8,
     "metadata": {},
     "output_type": "execute_result"
    }
   ],
   "source": [
    "can_move(0,2,'r')"
   ]
  },
  {
   "cell_type": "code",
   "execution_count": 9,
   "metadata": {},
   "outputs": [
    {
     "name": "stdout",
     "output_type": "stream",
     "text": [
      "[[1, 4, 8, 10], [5, 5, 5, 5], [10, 10, 10, 10], [10, 10, 10, 20]]\n",
      "newgroup: 0 item= 0 0\n",
      "check  0 0 group= 0\n",
      "add group= 0 item= 0 1\n",
      "check  0 1 group= 0\n",
      "add group= 0 item= 1 1\n",
      "newgroup: 1 item= 0 2\n",
      "check  0 2 group= 1\n",
      "add group= 1 item= 0 3\n",
      "add group= 1 item= 1 2\n",
      "check  0 3 group= 1\n",
      "newgroup: 2 item= 1 0\n",
      "check  1 0 group= 2\n",
      "group merge  2 into 0\n",
      "check  1 1 group= 0\n",
      "group merge  1 into 0\n",
      "check  1 2 group= 0\n",
      "add group= 0 item= 1 3\n",
      "check  1 3 group= 0\n",
      "newgroup: 1 item= 2 0\n",
      "check  2 0 group= 1\n",
      "add group= 1 item= 2 1\n",
      "add group= 1 item= 3 0\n",
      "check  2 1 group= 1\n",
      "add group= 1 item= 2 2\n",
      "add group= 1 item= 3 1\n",
      "check  2 2 group= 1\n",
      "add group= 1 item= 2 3\n",
      "add group= 1 item= 3 2\n",
      "check  2 3 group= 1\n",
      "check  3 0 group= 1\n",
      "check  3 1 group= 1\n",
      "check  3 2 group= 1\n",
      "newgroup: 2 item= 3 3\n",
      "check  3 3 group= 2\n",
      "[[(0, 0), (0, 1), (1, 1), (1, 0), (0, 2), (0, 3), (1, 2), (1, 3)], [(2, 0), (2, 1), (3, 0), (2, 2), (3, 1), (2, 3), (3, 2)], [(3, 3)]]\n"
     ]
    }
   ],
   "source": [
    "global groups\n",
    "print(input)\n",
    "groups.clear()\n",
    "\n",
    "for i in range(n):\n",
    "    for j in range(n):\n",
    "        gi = group_find(i,j)\n",
    "        if gi==-1:\n",
    "            gi = group_add(i,j, -1)\n",
    "        print('check ', i,j, 'group=', gi)\n",
    "            \n",
    "        if can_move(i,j,'r'):\n",
    "            g2 = group_find(i,j+1)\n",
    "            if g2==-1:\n",
    "                group_add(i,j+1,gi)\n",
    "            elif g2==gi:\n",
    "                pass\n",
    "            else:\n",
    "                group_merge(min(gi,g2), max(gi,g2))\n",
    "                gi = min(gi, g2)\n",
    "\n",
    "        if can_move(i,j,'d'):\n",
    "            g2 = group_find(i+1,j)\n",
    "            if g2==-1:\n",
    "                group_add(i+1,j,gi)\n",
    "            elif g2==gi:\n",
    "                pass\n",
    "            else:\n",
    "                group_merge(min(gi,g2), max(gi,g2))\n",
    "\n",
    "print(groups)\n"
   ]
  },
  {
   "cell_type": "code",
   "execution_count": 10,
   "metadata": {},
   "outputs": [
    {
     "data": {
      "text/plain": [
       "[[(0, 0), (0, 1), (1, 1), (1, 0), (0, 2), (0, 3), (1, 2), (1, 3)],\n",
       " [(2, 0), (2, 1), (3, 0), (2, 2), (3, 1), (2, 3), (3, 2)],\n",
       " [(3, 3)]]"
      ]
     },
     "execution_count": 10,
     "metadata": {},
     "output_type": "execute_result"
    }
   ],
   "source": [
    "groups"
   ]
  },
  {
   "cell_type": "code",
   "execution_count": 11,
   "metadata": {},
   "outputs": [
    {
     "name": "stdout",
     "output_type": "stream",
     "text": [
      "[(1, 1, 2, 1, 5), (1, 0, 2, 0, 5), (1, 2, 2, 2, 5), (1, 3, 2, 3, 5)]\n",
      "cost= 5 idx= 0 group= 1\n",
      "group merge  1 into 0\n",
      "[(2, 3, 3, 3, 10), (3, 2, 3, 3, 10)]\n",
      "cost= 10 idx= 0 group= 1\n",
      "group merge  1 into 0\n",
      "[[(0, 0), (0, 1), (1, 1), (1, 0), (0, 2), (0, 3), (1, 2), (1, 3), (2, 0), (2, 1), (3, 0), (2, 2), (3, 1), (2, 3), (3, 2), (3, 3)]]\n",
      "[(1, 1, 2, 1, 5), (2, 3, 3, 3, 10)]\n",
      "15\n"
     ]
    }
   ],
   "source": [
    "# 가장 짧은 곳을 연결. merge\n",
    "bridge=[] # (i1,j1,i2,j2,cost)\n",
    "while len(groups)>1:\n",
    "    firstgroup = groups[0]\n",
    "    tmpb = [] \n",
    "    mincost=99999\n",
    "    mincostidx=0\n",
    "    mincostgroup=0\n",
    "    for it in firstgroup:\n",
    "        cost=-1\n",
    "        # 다른 그룹과 접하는지 검사. lrud\n",
    "        # 접한다면 비용 기록. (누구랑, 누구랑 연결할 때 비용)\n",
    "        gi = group_find(it[0], it[1]-1)\n",
    "        if gi>0:\n",
    "            cost = abs(input[it[0]][it[1]]-input[it[0]][it[1]-1])\n",
    "            tmpb.append( (it[0], it[1], it[0], it[1]-1, cost) )\n",
    "            if mincost>cost:\n",
    "                mincost=cost\n",
    "                mincostidx=len(tmpb)-1\n",
    "                mincostgroup=gi\n",
    "        gi = group_find(it[0], it[1]+1)\n",
    "        if gi>0:\n",
    "            cost = abs(input[it[0]][it[1]]-input[it[0]][it[1]+1])\n",
    "            tmpb.append( (it[0], it[1], it[0], it[1]+1, cost) )           \n",
    "            if mincost>cost:\n",
    "                mincost=cost\n",
    "                mincostidx=len(tmpb)-1\n",
    "                mincostgroup=gi\n",
    "        gi = group_find(it[0]-1, it[1])\n",
    "        if gi>0:\n",
    "            cost = abs(input[it[0]][it[1]]-input[it[0]-1][it[1]])\n",
    "            tmpb.append( (it[0], it[1], it[0]-1, it[1], cost) ) \n",
    "            if mincost>cost:\n",
    "                mincost=cost\n",
    "                mincostidx=len(tmpb)-1\n",
    "                mincostgroup=gi\n",
    "        gi = group_find(it[0]+1, it[1])\n",
    "        if gi>0:\n",
    "            cost = abs(input[it[0]][it[1]]-input[it[0]+1][it[1]])\n",
    "            tmpb.append( (it[0], it[1], it[0]+1, it[1], cost) )           \n",
    "            if mincost>cost:\n",
    "                mincost=cost\n",
    "                mincostidx=len(tmpb)-1\n",
    "                mincostgroup=gi\n",
    "    print(tmpb)\n",
    "    print('cost=',mincost, 'idx=',mincostidx, 'group=', mincostgroup)\n",
    "    # 최소 비용 캐치. 다리 건설.\n",
    "    bridge.append(tmpb[mincostidx])\n",
    "    # 1그룹으로 병합\n",
    "    group_merge(0, mincostgroup)\n",
    "\n",
    "print(groups)        \n",
    "print(bridge)\n",
    "\n",
    "# total cost\n",
    "total = 0\n",
    "for x in bridge:\n",
    "    total += x[4]\n",
    "print(total)"
   ]
  },
  {
   "cell_type": "code",
   "execution_count": null,
   "metadata": {},
   "outputs": [],
   "source": []
  },
  {
   "cell_type": "code",
   "execution_count": null,
   "metadata": {},
   "outputs": [],
   "source": []
  },
  {
   "cell_type": "code",
   "execution_count": 12,
   "metadata": {},
   "outputs": [],
   "source": [
    "input=[]\n",
    "n = 0\n",
    "groups=[]\n",
    "gheight=0\n",
    "bdebug=True\n",
    "\n",
    "\n",
    "# gi=group index. -1=new\n",
    "# return ; group index\n",
    "def group_add(i,j, gi):\n",
    "    global groups\n",
    "    if gi==-1:\n",
    "        groups.append([(i,j)])\n",
    "        gi = len(groups)-1\n",
    "        if bdebug:\n",
    "            print('newgroup:',gi, 'item=', i,j)\n",
    "    else:\n",
    "        groups[gi].append((i,j))\n",
    "        if bdebug:\n",
    "            print('add group=',gi, 'item=', i,j)\n",
    "    return gi\n",
    "\n",
    "def group_find(i,j):\n",
    "    if i<0 or j<0:\n",
    "        return -1\n",
    "    if i>=n or j>=n:\n",
    "        return -1\n",
    "    for gi, g in enumerate(groups):\n",
    "        for f in g:\n",
    "            if f[0]==i and f[1]==j:\n",
    "                return gi\n",
    "    return -1\n",
    "\n",
    "# d = l, r, u, d  (left, right, up, down)\n",
    "def can_move(i,j, d):\n",
    "    i2,j2 = i,j\n",
    "    if d=='l': j2 -=1\n",
    "    if d=='r': j2 +=1\n",
    "    if d=='u': i2 -=1\n",
    "    if d=='d': i2 +=1\n",
    "    if i2<0 or j2<0:\n",
    "        return False\n",
    "    if i2>=n or j2>=n:\n",
    "        return False\n",
    "    return abs(input[i][j] - input[i2][j2])<=gheight\n",
    "\n",
    "def group_merge(gi, gj):\n",
    "    global groups\n",
    "    bak = groups[gj][:]\n",
    "    if bdebug:\n",
    "        print('group merge ',gj,'into',gi)\n",
    "    groups[gi].extend(bak)\n",
    "    del groups[gj]\n",
    "    \n",
    "    \n",
    "def solution(land, height):\n",
    "    global input, n, groups, gheight\n",
    "    \n",
    "    input=land\n",
    "    gheight = height\n",
    "    n=len(input)\n",
    "\n",
    "    print(\"N=\", n)\n",
    "\n",
    "    for i in range(n):\n",
    "        if bdebug:\n",
    "            print(\"progress \", i, \"/\", n)\n",
    "            \n",
    "        for j in range(n):\n",
    "            gi = group_find(i,j)\n",
    "            if gi==-1:\n",
    "                gi = group_add(i,j, -1)\n",
    "\n",
    "            if can_move(i,j,'r'):\n",
    "                g2 = group_find(i,j+1)\n",
    "                if g2==-1:\n",
    "                    group_add(i,j+1,gi)\n",
    "                elif g2==gi:\n",
    "                    pass\n",
    "                else:\n",
    "                    group_merge(min(gi,g2), max(gi,g2))\n",
    "                    gi = min(gi, g2)\n",
    "\n",
    "            if can_move(i,j,'d'):\n",
    "                g2 = group_find(i+1,j)\n",
    "                if g2==-1:\n",
    "                    group_add(i+1,j,gi)\n",
    "                elif g2==gi:\n",
    "                    pass\n",
    "                else:\n",
    "                    group_merge(min(gi,g2), max(gi,g2))\n",
    "    if bdebug:\n",
    "        print(groups)\n",
    "        print('group count=', len(groups))\n",
    "        \n",
    "    return 0 ;\n",
    "\n",
    "    # 가장 짧은 곳을 연결. merge\n",
    "    bridge=[] # (i1,j1,i2,j2,cost)\n",
    "    while len(groups)>1:\n",
    "        firstgroup = groups[0]\n",
    "        tmpb = [] \n",
    "        mincost=99999\n",
    "        mincostidx=0\n",
    "        mincostgroup=0\n",
    "        for it in firstgroup:\n",
    "            cost=-1\n",
    "            # 다른 그룹과 접하는지 검사. lrud\n",
    "            # 접한다면 비용 기록. (누구랑, 누구랑 연결할 때 비용)\n",
    "            gi = group_find(it[0], it[1]-1)\n",
    "            if gi>0:\n",
    "                cost = abs(input[it[0]][it[1]]-input[it[0]][it[1]-1])\n",
    "                tmpb.append( (it[0], it[1], it[0], it[1]-1, cost) )\n",
    "                if mincost>cost:\n",
    "                    mincost=cost\n",
    "                    mincostidx=len(tmpb)-1\n",
    "                    mincostgroup=gi\n",
    "            gi = group_find(it[0], it[1]+1)\n",
    "            if gi>0:\n",
    "                cost = abs(input[it[0]][it[1]]-input[it[0]][it[1]+1])\n",
    "                tmpb.append( (it[0], it[1], it[0], it[1]+1, cost) )           \n",
    "                if mincost>cost:\n",
    "                    mincost=cost\n",
    "                    mincostidx=len(tmpb)-1\n",
    "                    mincostgroup=gi\n",
    "            gi = group_find(it[0]-1, it[1])\n",
    "            if gi>0:\n",
    "                cost = abs(input[it[0]][it[1]]-input[it[0]-1][it[1]])\n",
    "                tmpb.append( (it[0], it[1], it[0]-1, it[1], cost) ) \n",
    "                if mincost>cost:\n",
    "                    mincost=cost\n",
    "                    mincostidx=len(tmpb)-1\n",
    "                    mincostgroup=gi\n",
    "            gi = group_find(it[0]+1, it[1])\n",
    "            if gi>0:\n",
    "                cost = abs(input[it[0]][it[1]]-input[it[0]+1][it[1]])\n",
    "                tmpb.append( (it[0], it[1], it[0]+1, it[1], cost) )           \n",
    "                if mincost>cost:\n",
    "                    mincost=cost\n",
    "                    mincostidx=len(tmpb)-1\n",
    "                    mincostgroup=gi\n",
    "        if bdebug:\n",
    "            print('cost=',mincost, 'idx=',mincostidx, 'group=', mincostgroup)\n",
    "        # 최소 비용 캐치. 다리 건설.\n",
    "        bridge.append(tmpb[mincostidx])\n",
    "        # 1그룹으로 병합\n",
    "        group_merge(0, mincostgroup)\n",
    "\n",
    "    if bdebug:\n",
    "        print(groups)        \n",
    "    if bdebug:\n",
    "        print(bridge)\n",
    "\n",
    "    # total cost\n",
    "    total = 0\n",
    "    for x in bridge:\n",
    "        total += x[4]\n",
    "    if bdebug:\n",
    "        print('total=', total)\n",
    "    answer = total\n",
    "    return answer"
   ]
  },
  {
   "cell_type": "code",
   "execution_count": 13,
   "metadata": {},
   "outputs": [],
   "source": [
    "import numpy as np\n"
   ]
  },
  {
   "cell_type": "code",
   "execution_count": null,
   "metadata": {
    "scrolled": true
   },
   "outputs": [],
   "source": [
    "# stress test\n",
    "npinput = np.random.rand(300,300)*100\n",
    "npinput = np.asarray(npinput, dtype=int)\n",
    "print(npinput)\n",
    "solution(npinput.tolist(), 50)"
   ]
  },
  {
   "cell_type": "code",
   "execution_count": null,
   "metadata": {},
   "outputs": [],
   "source": [
    "\n",
    "input = [[1, 4, 8, 10], [5, 5, 5, 5], [10, 10, 10, 10], [10, 10, 10, 20]]\n",
    "height = 3\n",
    "result=15\n",
    "\n",
    "# input = [[10, 11, 10, 11], [2, 21, 20, 10], [1, 20, 21, 11], [2, 1, 2, 1]]\n",
    "# height = 1\n",
    "# result=18\n",
    "\n",
    "solution(input, 3)"
   ]
  },
  {
   "cell_type": "code",
   "execution_count": 17,
   "metadata": {},
   "outputs": [
    {
     "data": {
      "text/plain": [
       "array([ 0, 15,  1, 47, 23, 15, 33, 61, 77, 15, 53, 24, 41, 13, 14, 77, 16,\n",
       "        5, 14, 23, 42,  3, 79,  5, 16,  3, 74, 69, 60, 60, 41,  1, 61, 65,\n",
       "       37, 56, 15, 40, 15, 17, 10, 38,  5, 66, 19, 16,  8, 22, 44, 35, 21,\n",
       "       68, 35, 18, 38, 65, 73, 38, 14, 14,  9, 10, 54,  5,  5, 16,  4, 77,\n",
       "       15, 17, 79, 17, 46, 61, 41, 61, 20, 17, 12, 51, 28, 73, 76,  9, 77,\n",
       "       57, 36,  3, 65, 27, 37, 15, 41, 76,  7, 26, 58, 38, 78, 59, 60, 13,\n",
       "       19, 16, 48, 44, 13, 24, 11, 26, 20,  9, 10, 69, 61, 22,  1, 61, 18,\n",
       "        7,  8, 22, 20,  6, 49, 14, 38, 45, 75, 25,  6, 36, 62,  5, 11, 16,\n",
       "       36, 33, 23, 36,  3, 45, 16, 19, 67, 46, 63, 50, 20, 54,  2, 46, 48,\n",
       "       20,  3, 28, 56, 36, 29, 31, 51, 73, 50,  6, 28, 63, 19,  3, 40, 59,\n",
       "       26, 77, 15, 52, 61, 12, 71, 20, 70, 78, 43, 63, 19, 14, 67, 25, 32,\n",
       "       77, 76, 20, 68, 14, 13, 21,  8, 70, 60, 70,  4, 70, 51, 12, 17, 19,\n",
       "       71, 19,  6, 70, 28,  5, 69,  6,  1,  9, 62,  4, 53, 35,  0, 42,  3,\n",
       "       12, 17, 66, 59, 53, 73, 49, 77, 43, 41, 20, 35, 10, 70, 29, 73, 69,\n",
       "        3, 34,  3, 41, 24, 12, 45, 26, 43, 39, 10,  6,  0, 10, 66,  6, 70,\n",
       "       63, 52, 26, 35, 20, 67, 23, 18, 51, 12, 57, 53, 54, 41, 31, 45, 20,\n",
       "       24, 13,  3, 26, 29,  1, 18, 39, 43, 10,  4, 23,  9,  9, 39, 18, 14,\n",
       "       62, 36, 35, 10, 55, 65, 79, 10, 16,  9, 43])"
      ]
     },
     "execution_count": 17,
     "metadata": {},
     "output_type": "execute_result"
    }
   ],
   "source": [
    "np.abs(npinput[0]-npinput[0][0])"
   ]
  },
  {
   "cell_type": "code",
   "execution_count": null,
   "metadata": {},
   "outputs": [],
   "source": []
  }
 ],
 "metadata": {
  "kernelspec": {
   "display_name": "py37",
   "language": "python",
   "name": "py37"
  },
  "language_info": {
   "codemirror_mode": {
    "name": "ipython",
    "version": 3
   },
   "file_extension": ".py",
   "mimetype": "text/x-python",
   "name": "python",
   "nbconvert_exporter": "python",
   "pygments_lexer": "ipython3",
   "version": "3.7.3"
  }
 },
 "nbformat": 4,
 "nbformat_minor": 2
}
