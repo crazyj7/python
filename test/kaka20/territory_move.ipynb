{
 "cells": [
  {
   "cell_type": "code",
   "execution_count": 39,
   "metadata": {},
   "outputs": [],
   "source": [
    "import numpy as np\n"
   ]
  },
  {
   "cell_type": "code",
   "execution_count": 40,
   "metadata": {},
   "outputs": [
    {
     "data": {
      "text/plain": [
       "'\\n성능 개선이 문제.\\nlist에서 검색은 루프 탐색보다. in 키워드로 검색하는 것이 3배는 빠름.\\n\\n쓸데없이 리스트에 추가하는 것 삭제. insert 횟수 감소.\\n\\n위치관계에 따른 그룹을 직접 알기 위해 group matrix 추가\\n\\n\\n'"
      ]
     },
     "execution_count": 40,
     "metadata": {},
     "output_type": "execute_result"
    }
   ],
   "source": [
    "'''\n",
    "성능 개선이 문제.\n",
    "list에서 검색은 루프 탐색보다. in 키워드로 검색하는 것이 3배는 빠름.\n",
    "\n",
    "쓸데없이 리스트에 추가하는 것 삭제. insert 횟수 감소.\n",
    "\n",
    "위치관계에 따른 그룹을 직접 알기 위해 group matrix 추가\n",
    "\n",
    "\n",
    "'''"
   ]
  },
  {
   "cell_type": "code",
   "execution_count": 41,
   "metadata": {},
   "outputs": [],
   "source": [
    "\n",
    "input = [[1, 4, 8, 10], [5, 5, 5, 5], [10, 10, 10, 10], [10, 10, 10, 20]]\n",
    "height = 3\n",
    "result=15\n",
    "\n",
    "# input = [[10, 11, 10, 11], [2, 21, 20, 10], [1, 20, 21, 11], [2, 1, 2, 1]]\n",
    "# height = 1\n",
    "# result=18\n",
    "\n",
    "n = len(input)\n",
    "npinput = np.asarray(input)"
   ]
  },
  {
   "cell_type": "code",
   "execution_count": 42,
   "metadata": {},
   "outputs": [],
   "source": [
    "# group api\n",
    "groups = []\n",
    "\n",
    "# gi=group index. -1=new\n",
    "# return ; group index\n",
    "def group_add(i,j, gi):\n",
    "    global groups\n",
    "    if gi==-1:\n",
    "        groups.append([(i,j)])\n",
    "        gi = len(groups)-1\n",
    "        print('newgroup:',gi, 'item=', i,j)\n",
    "    else:\n",
    "        groups[gi].append((i,j))\n",
    "        print('add group=',gi, 'item=', i,j)\n",
    "    return gi\n",
    "\n",
    "def group_find(i,j):\n",
    "    if i<0 or j<0:\n",
    "        return -1\n",
    "    if i>=n or j>=n:\n",
    "        return -1\n",
    "    for gi, g in enumerate(groups):\n",
    "        for f in g:\n",
    "            if f[0]==i and f[1]==j:\n",
    "                return gi\n",
    "    return -1\n",
    "\n",
    "# d = l, r, u, d  (left, right, up, down)\n",
    "def can_move(i,j, d):\n",
    "    i2,j2 = i,j\n",
    "    if d=='l': j2 -=1\n",
    "    if d=='r': j2 +=1\n",
    "    if d=='u': i2 -=1\n",
    "    if d=='d': i2 +=1\n",
    "    if i2<0 or j2<0:\n",
    "        return False\n",
    "    if i2>=n or j2>=n:\n",
    "        return False\n",
    "    return abs(input[i][j] - input[i2][j2])<=height\n",
    "\n",
    "def group_merge(gi, gj):\n",
    "    global groups\n",
    "    bak = groups[gj][:]\n",
    "    print('group merge ',gj,'into',gi)\n",
    "    groups[gi].extend(bak)\n",
    "    del groups[gj]\n",
    "    "
   ]
  },
  {
   "cell_type": "code",
   "execution_count": 43,
   "metadata": {},
   "outputs": [
    {
     "name": "stdout",
     "output_type": "stream",
     "text": [
      "newgroup: 0 item= 0 0\n",
      "0\n",
      "add group= 0 item= 1 1\n",
      "0\n",
      "newgroup: 1 item= 2 2\n",
      "1\n",
      "add group= 1 item= 3 3\n",
      "1\n",
      "newgroup: 2 item= 4 4\n",
      "2\n",
      "add group= 2 item= 5 6\n",
      "2\n",
      "find= -1\n",
      "find= 1\n"
     ]
    },
    {
     "data": {
      "text/plain": [
       "[[(0, 0), (1, 1)], [(2, 2), (3, 3)], [(4, 4), (5, 6)]]"
      ]
     },
     "execution_count": 43,
     "metadata": {},
     "output_type": "execute_result"
    }
   ],
   "source": [
    "groups.clear()\n",
    "print(group_add(0,0,-1))\n",
    "print(group_add(1,1,0))\n",
    "print(group_add(2,2,-1))\n",
    "print(group_add(3,3,1))\n",
    "print(group_add(4,4,-1))\n",
    "print(group_add(5,6,2))\n",
    "\n",
    "print('find=', group_find(5,6))\n",
    "print('find=', group_find(2,2))\n",
    "\n",
    "groups"
   ]
  },
  {
   "cell_type": "code",
   "execution_count": 44,
   "metadata": {},
   "outputs": [
    {
     "data": {
      "text/plain": [
       "[[(0, 0), (1, 1)], [(2, 2), (3, 3)], [(4, 4), (5, 6)]]"
      ]
     },
     "execution_count": 44,
     "metadata": {},
     "output_type": "execute_result"
    }
   ],
   "source": [
    "groups"
   ]
  },
  {
   "cell_type": "code",
   "execution_count": 45,
   "metadata": {},
   "outputs": [
    {
     "name": "stdout",
     "output_type": "stream",
     "text": [
      "group merge  2 into 1\n"
     ]
    }
   ],
   "source": [
    "group_merge(1,2)"
   ]
  },
  {
   "cell_type": "code",
   "execution_count": 46,
   "metadata": {},
   "outputs": [
    {
     "data": {
      "text/plain": [
       "[[(0, 0), (1, 1)], [(2, 2), (3, 3), (4, 4), (5, 6)]]"
      ]
     },
     "execution_count": 46,
     "metadata": {},
     "output_type": "execute_result"
    }
   ],
   "source": [
    "groups"
   ]
  },
  {
   "cell_type": "code",
   "execution_count": 47,
   "metadata": {},
   "outputs": [
    {
     "data": {
      "text/plain": [
       "True"
      ]
     },
     "execution_count": 47,
     "metadata": {},
     "output_type": "execute_result"
    }
   ],
   "source": [
    "can_move(0,2,'r')"
   ]
  },
  {
   "cell_type": "code",
   "execution_count": 48,
   "metadata": {},
   "outputs": [
    {
     "name": "stdout",
     "output_type": "stream",
     "text": [
      "[[1, 4, 8, 10], [5, 5, 5, 5], [10, 10, 10, 10], [10, 10, 10, 20]]\n",
      "newgroup: 0 item= 0 0\n",
      "check  0 0 group= 0\n",
      "add group= 0 item= 0 1\n",
      "check  0 1 group= 0\n",
      "add group= 0 item= 1 1\n",
      "newgroup: 1 item= 0 2\n",
      "check  0 2 group= 1\n",
      "add group= 1 item= 0 3\n",
      "add group= 1 item= 1 2\n",
      "check  0 3 group= 1\n",
      "newgroup: 2 item= 1 0\n",
      "check  1 0 group= 2\n",
      "group merge  2 into 0\n",
      "check  1 1 group= 0\n",
      "group merge  1 into 0\n",
      "check  1 2 group= 0\n",
      "add group= 0 item= 1 3\n",
      "check  1 3 group= 0\n",
      "newgroup: 1 item= 2 0\n",
      "check  2 0 group= 1\n",
      "add group= 1 item= 2 1\n",
      "add group= 1 item= 3 0\n",
      "check  2 1 group= 1\n",
      "add group= 1 item= 2 2\n",
      "add group= 1 item= 3 1\n",
      "check  2 2 group= 1\n",
      "add group= 1 item= 2 3\n",
      "add group= 1 item= 3 2\n",
      "check  2 3 group= 1\n",
      "check  3 0 group= 1\n",
      "check  3 1 group= 1\n",
      "check  3 2 group= 1\n",
      "newgroup: 2 item= 3 3\n",
      "check  3 3 group= 2\n",
      "[[(0, 0), (0, 1), (1, 1), (1, 0), (0, 2), (0, 3), (1, 2), (1, 3)], [(2, 0), (2, 1), (3, 0), (2, 2), (3, 1), (2, 3), (3, 2)], [(3, 3)]]\n"
     ]
    }
   ],
   "source": [
    "global groups\n",
    "print(input)\n",
    "groups.clear()\n",
    "\n",
    "for i in range(n):\n",
    "    for j in range(n):\n",
    "        gi = group_find(i,j)\n",
    "        if gi==-1:\n",
    "            gi = group_add(i,j, -1)\n",
    "        print('check ', i,j, 'group=', gi)\n",
    "            \n",
    "        if can_move(i,j,'r'):\n",
    "            g2 = group_find(i,j+1)\n",
    "            if g2==-1:\n",
    "                group_add(i,j+1,gi)\n",
    "            elif g2==gi:\n",
    "                pass\n",
    "            else:\n",
    "                group_merge(min(gi,g2), max(gi,g2))\n",
    "                gi = min(gi, g2)\n",
    "\n",
    "        if can_move(i,j,'d'):\n",
    "            g2 = group_find(i+1,j)\n",
    "            if g2==-1:\n",
    "                group_add(i+1,j,gi)\n",
    "            elif g2==gi:\n",
    "                pass\n",
    "            else:\n",
    "                group_merge(min(gi,g2), max(gi,g2))\n",
    "\n",
    "print(groups)\n"
   ]
  },
  {
   "cell_type": "code",
   "execution_count": 49,
   "metadata": {},
   "outputs": [
    {
     "data": {
      "text/plain": [
       "[[(0, 0), (0, 1), (1, 1), (1, 0), (0, 2), (0, 3), (1, 2), (1, 3)],\n",
       " [(2, 0), (2, 1), (3, 0), (2, 2), (3, 1), (2, 3), (3, 2)],\n",
       " [(3, 3)]]"
      ]
     },
     "execution_count": 49,
     "metadata": {},
     "output_type": "execute_result"
    }
   ],
   "source": [
    "groups"
   ]
  },
  {
   "cell_type": "code",
   "execution_count": 50,
   "metadata": {},
   "outputs": [
    {
     "name": "stdout",
     "output_type": "stream",
     "text": [
      "[(1, 1, 2, 1, 5), (1, 0, 2, 0, 5), (1, 2, 2, 2, 5), (1, 3, 2, 3, 5)]\n",
      "cost= 5 idx= 0 group= 1\n",
      "group merge  1 into 0\n",
      "[(2, 3, 3, 3, 10), (3, 2, 3, 3, 10)]\n",
      "cost= 10 idx= 0 group= 1\n",
      "group merge  1 into 0\n",
      "[[(0, 0), (0, 1), (1, 1), (1, 0), (0, 2), (0, 3), (1, 2), (1, 3), (2, 0), (2, 1), (3, 0), (2, 2), (3, 1), (2, 3), (3, 2), (3, 3)]]\n",
      "[(1, 1, 2, 1, 5), (2, 3, 3, 3, 10)]\n",
      "15\n"
     ]
    }
   ],
   "source": [
    "# 가장 짧은 곳을 연결. merge\n",
    "bridge=[] # (i1,j1,i2,j2,cost)\n",
    "while len(groups)>1:\n",
    "    firstgroup = groups[0]\n",
    "    tmpb = [] \n",
    "    mincost=99999\n",
    "    mincostidx=0\n",
    "    mincostgroup=0\n",
    "    for it in firstgroup:\n",
    "        cost=-1\n",
    "        # 다른 그룹과 접하는지 검사. lrud\n",
    "        # 접한다면 비용 기록. (누구랑, 누구랑 연결할 때 비용)\n",
    "        gi = group_find(it[0], it[1]-1)\n",
    "        if gi>0:\n",
    "            cost = abs(input[it[0]][it[1]]-input[it[0]][it[1]-1])\n",
    "            tmpb.append( (it[0], it[1], it[0], it[1]-1, cost) )\n",
    "            if mincost>cost:\n",
    "                mincost=cost\n",
    "                mincostidx=len(tmpb)-1\n",
    "                mincostgroup=gi\n",
    "        gi = group_find(it[0], it[1]+1)\n",
    "        if gi>0:\n",
    "            cost = abs(input[it[0]][it[1]]-input[it[0]][it[1]+1])\n",
    "            tmpb.append( (it[0], it[1], it[0], it[1]+1, cost) )           \n",
    "            if mincost>cost:\n",
    "                mincost=cost\n",
    "                mincostidx=len(tmpb)-1\n",
    "                mincostgroup=gi\n",
    "        gi = group_find(it[0]-1, it[1])\n",
    "        if gi>0:\n",
    "            cost = abs(input[it[0]][it[1]]-input[it[0]-1][it[1]])\n",
    "            tmpb.append( (it[0], it[1], it[0]-1, it[1], cost) ) \n",
    "            if mincost>cost:\n",
    "                mincost=cost\n",
    "                mincostidx=len(tmpb)-1\n",
    "                mincostgroup=gi\n",
    "        gi = group_find(it[0]+1, it[1])\n",
    "        if gi>0:\n",
    "            cost = abs(input[it[0]][it[1]]-input[it[0]+1][it[1]])\n",
    "            tmpb.append( (it[0], it[1], it[0]+1, it[1], cost) )           \n",
    "            if mincost>cost:\n",
    "                mincost=cost\n",
    "                mincostidx=len(tmpb)-1\n",
    "                mincostgroup=gi\n",
    "    print(tmpb)\n",
    "    print('cost=',mincost, 'idx=',mincostidx, 'group=', mincostgroup)\n",
    "    # 최소 비용 캐치. 다리 건설.\n",
    "    bridge.append(tmpb[mincostidx])\n",
    "    # 1그룹으로 병합\n",
    "    group_merge(0, mincostgroup)\n",
    "\n",
    "print(groups)        \n",
    "print(bridge)\n",
    "\n",
    "# total cost\n",
    "total = 0\n",
    "for x in bridge:\n",
    "    total += x[4]\n",
    "print(total)"
   ]
  },
  {
   "cell_type": "code",
   "execution_count": null,
   "metadata": {},
   "outputs": [],
   "source": []
  },
  {
   "cell_type": "code",
   "execution_count": 51,
   "metadata": {},
   "outputs": [
    {
     "data": {
      "text/plain": [
       "array([1, 2], dtype=uint16)"
      ]
     },
     "execution_count": 51,
     "metadata": {},
     "output_type": "execute_result"
    }
   ],
   "source": [
    "np.array([1,2], dtype=np.uint16)"
   ]
  },
  {
   "cell_type": "code",
   "execution_count": 52,
   "metadata": {},
   "outputs": [],
   "source": [
    "bdebug=True"
   ]
  },
  {
   "cell_type": "code",
   "execution_count": 53,
   "metadata": {},
   "outputs": [],
   "source": [
    "import numpy as np\n",
    "\n",
    "\n",
    "input=[]\n",
    "n = 0\n",
    "gheight=0\n",
    "bdebug=False\n",
    "# bdebug=True\n",
    "\n",
    "groupmat = None\n",
    "\n",
    "\n",
    "# d = l, r, u, d  (left, right, up, down)\n",
    "def can_move(i,j, d):\n",
    "    i2,j2 = i,j\n",
    "    if d=='l': j2 -=1\n",
    "    if d=='r': j2 +=1\n",
    "    if d=='u': i2 -=1\n",
    "    if d=='d': i2 +=1\n",
    "    if i2<0 or j2<0:\n",
    "        return False\n",
    "    if i2>=n or j2>=n:\n",
    "        return False\n",
    "    return abs(input[i][j] - input[i2][j2])<=gheight\n",
    "\n",
    "   \n",
    "def group_find2(i,j):\n",
    "    if i<0 or j<0:\n",
    "        return -1\n",
    "    if i>=n or j>=n:\n",
    "        return -1\n",
    "    return groupmat[i,j]\n",
    "\n",
    "    \n",
    "def solution(land, height):\n",
    "    global input, n, gheight\n",
    "    global groupmat\n",
    "    answer=0\n",
    "    \n",
    "    input=land\n",
    "    gheight = height\n",
    "    n=len(input)\n",
    "\n",
    "    print(\"N=\", n)\n",
    "    groupmat = np.zeros((n,n), dtype=np.uint16)\n",
    "    groupcnt=0\n",
    "    for i in range(n):\n",
    "        if bdebug:\n",
    "            print(\"progress \", i, \"/\", n)\n",
    "            \n",
    "        for j in range(n):\n",
    "            gi = groupmat[i,j]\n",
    "            if gi==0:\n",
    "                groupcnt+=1\n",
    "                groupmat[i,j]=groupcnt\n",
    "                gi = groupcnt\n",
    "\n",
    "            if can_move(i,j,'r'):\n",
    "                g2 = groupmat[i,j+1]\n",
    "                if g2==0:\n",
    "                    groupmat[i,j+1]=gi\n",
    "                elif g2==gi:\n",
    "                    pass\n",
    "                else:\n",
    "                    fromg = max(gi,g2)\n",
    "                    tog = min(gi,g2)\n",
    "                    groupmat[groupmat==fromg] = tog\n",
    "                    groupmat[groupmat>fromg] -=1\n",
    "                    groupcnt-=1\n",
    "                    gi = tog\n",
    "\n",
    "            if can_move(i,j,'d'):\n",
    "                g2 = groupmat[i+1,j]\n",
    "                if g2==0:\n",
    "                    groupmat[i+1,j]=gi\n",
    "                elif g2==gi:\n",
    "                    pass\n",
    "                else:\n",
    "                    fromg = max(gi,g2)\n",
    "                    tog = min(gi,g2)\n",
    "                    groupmat[groupmat==fromg] = tog\n",
    "                    groupmat[groupmat>fromg] -=1\n",
    "                    groupcnt-=1\n",
    "                    gi = tog\n",
    "\n",
    "    if True:\n",
    "        print('group count=', groupcnt)\n",
    "        print('groupmat max=', np.max(groupmat))\n",
    "        \n",
    "    if bdebug:\n",
    "        print(groupmat)\n",
    "        \n",
    "#     return 0 ; # debug phase1\n",
    "    if True:\n",
    "        print('phase1 end.')\n",
    "\n",
    "    # 가장 짧은 곳을 연결. merge\n",
    "#     bridge=[] # (i1,j1,i2,j2,cost)\n",
    "\n",
    "### dtype이 uint16이면 문제가 그룹의 개수가 65535개가 넘으면 안된다.\n",
    "### 300x300 매트릭스의 모든 아이템이 그룹이 다를 경우 최대 9만개가 된다. 이렇다면 실패함.\n",
    "# dtype이 uint32면 메모리가 두 배다.\n",
    "\n",
    "    # 후보 다리. 이 중에 어느 것이 건설될 것이다. \n",
    "    # 1그룹과 다른 그릅의 경계포인트가 될 것임.\n",
    "    allbridge=np.empty((0,6), dtype=np.uint16) \n",
    "    \n",
    "    # 1그룹에 새로 들어온 아이템. \n",
    "    newfirstgroup = np.argwhere(groupmat==1)\n",
    "    # 계속 1그룹으로 합쳐 나간다. \n",
    "    while groupcnt>1:\n",
    "        mincost=99999\n",
    "        mincostgroup=0\n",
    "        \n",
    "        if bdebug:\n",
    "            print('group count=', groupcnt)\n",
    "            \n",
    "        if groupcnt%1000==2:\n",
    "            print('group count=', groupcnt)\n",
    "            \n",
    "        '''\n",
    "       new incomming이 없을 수도 있다. \n",
    "       기존에서 다시 찾아야 함.\n",
    "       1그룹에서 다른 그룹으로 연결되는 모든 다리 스캔\n",
    "        '''\n",
    "        ab = []\n",
    "        for it in newfirstgroup:\n",
    "            cost=-1\n",
    "            # 다른 그룹과 접하는지 검사. lrud\n",
    "            # 접한다면 비용 기록. (누구랑, 누구랑 연결할 때 비용)\n",
    "            if it[1]==0:\n",
    "                gi = -1\n",
    "            else:\n",
    "                gi = groupmat[ it[0], it[1]-1 ]\n",
    "            if gi>1:\n",
    "                cost = abs(input[it[0]][it[1]]-input[it[0]][it[1]-1])\n",
    "                ab.append([it[0], it[1], it[0], it[1]-1, gi, cost])\n",
    "                \n",
    "            if it[1]+1>=n:\n",
    "                gi = -1\n",
    "            else:\n",
    "                gi = groupmat[ it[0], it[1]+1 ]\n",
    "            if gi>1:\n",
    "                cost = abs(input[it[0]][it[1]]-input[it[0]][it[1]+1])\n",
    "                ab.append([it[0], it[1], it[0], it[1]+1, gi, cost])\n",
    "                \n",
    "            if it[0]==0:\n",
    "                gi = -1\n",
    "            else:\n",
    "                gi = groupmat[ it[0]-1, it[1] ]\n",
    "            if gi>1:\n",
    "                cost = abs(input[it[0]][it[1]]-input[it[0]-1][it[1]])\n",
    "                ab.append([it[0], it[1], it[0]-1, it[1], gi, cost])\n",
    "                \n",
    "            if it[0]+1>=n:\n",
    "                gi = -1\n",
    "            else:\n",
    "                gi = groupmat[ it[0]+1, it[1] ]\n",
    "            if gi>1:\n",
    "                cost = abs(input[it[0]][it[1]]-input[it[0]+1][it[1]])\n",
    "                ab.append([it[0], it[1], it[0]+1, it[1], gi, cost])\n",
    "                \n",
    "        if len(ab)>0:\n",
    "            allbridge = np.concatenate([allbridge,np.asarray(ab, dtype=np.uint16)])\n",
    "#             allbridge = np.append(allbridge, np.asarray(ab, dtype=np.uint16), axis=0)\n",
    "\n",
    "        if bdebug:\n",
    "            print('allbridge count=', len(allbridge))\n",
    "            \n",
    "        del ab\n",
    "        \n",
    "        # find minimum cost\n",
    "        nallbridge = len(allbridge)\n",
    "        if nallbridge==0:\n",
    "            print(\"allbridge is empty! no route! error.\")\n",
    "            return -1\n",
    "        else:\n",
    "            idx = np.argmin(allbridge[:,5])\n",
    "        \n",
    "        mincost=allbridge[idx,5]\n",
    "        mincostgroup = allbridge[idx,4]\n",
    "        tmpb = allbridge[idx]\n",
    "        \n",
    "        if bdebug:\n",
    "            print('min tmpb=',tmpb)\n",
    "            print('mincost=',mincost, 'mincostgroup=', mincostgroup)\n",
    "        \n",
    "        # mincost 그룹은 1그룹으로 병합예정. 따라서 mincost로 가는 다리 모두삭제.\n",
    "        idxes=np.where(allbridge[:,4]==mincostgroup)[0]\n",
    "        allbridge = np.delete(allbridge, idxes, axis=0)\n",
    "\n",
    "        # 최소 비용 캐치. 다리 건설.\n",
    "#         bridge.append(tmpb)\n",
    "        answer+=tmpb[5]\n",
    "        if bdebug:\n",
    "            print('construct bridge:', tmpb)\n",
    "\n",
    "        # 1그룹으로 병합\n",
    "        newfirstgroup = np.argwhere(groupmat==mincostgroup)\n",
    "        groupmat[groupmat==mincostgroup] = 1\n",
    "        groupcnt -=1 # 그룹수 감소\n",
    "        \n",
    "        #debug\n",
    "#         if len(np.unique(groupmat))!=groupcnt:\n",
    "#             print('error! diff group count ', len(np.unique(groupmat)), groupcnt)\n",
    "#             break\n",
    "        \n",
    "        if bdebug:\n",
    "            print('')\n",
    "\n",
    "#     if bdebug:\n",
    "#         print(bridge)\n",
    "    # total cost\n",
    "#     total = 0\n",
    "#     for x in bridge:\n",
    "#         total += x[5]\n",
    "#     if bdebug:\n",
    "#         print('total=', total)\n",
    "#     answer = total\n",
    "\n",
    "    return answer"
   ]
  },
  {
   "cell_type": "code",
   "execution_count": 54,
   "metadata": {},
   "outputs": [],
   "source": [
    "import numpy as np\n",
    "\n",
    "x=np.zeros((5,5), dtype=int)"
   ]
  },
  {
   "cell_type": "code",
   "execution_count": 55,
   "metadata": {},
   "outputs": [
    {
     "data": {
      "text/plain": [
       "array([[0, 0, 0, 0, 0],\n",
       "       [0, 0, 0, 0, 0],\n",
       "       [0, 0, 0, 0, 0],\n",
       "       [0, 0, 0, 0, 0],\n",
       "       [0, 0, 0, 0, 0]])"
      ]
     },
     "execution_count": 55,
     "metadata": {},
     "output_type": "execute_result"
    }
   ],
   "source": [
    "x[x==2]=22\n",
    "x"
   ]
  },
  {
   "cell_type": "code",
   "execution_count": 56,
   "metadata": {},
   "outputs": [
    {
     "name": "stdout",
     "output_type": "stream",
     "text": [
      "N= 4\n",
      "group count= 3\n",
      "groupmat max= 3\n",
      "phase1 end.\n",
      "group count= 2\n"
     ]
    },
    {
     "data": {
      "text/plain": [
       "15"
      ]
     },
     "execution_count": 56,
     "metadata": {},
     "output_type": "execute_result"
    }
   ],
   "source": [
    "input = [[1, 4, 8, 10], [5, 5, 5, 5], [10, 10, 10, 10], [10, 10, 10, 20]]\n",
    "height = 3\n",
    "result=15\n",
    "solution(input, height)"
   ]
  },
  {
   "cell_type": "code",
   "execution_count": 57,
   "metadata": {
    "scrolled": true
   },
   "outputs": [
    {
     "name": "stdout",
     "output_type": "stream",
     "text": [
      "SEED= 375\n",
      "N= 100\n",
      "group count= 3143\n",
      "groupmat max= 3143\n",
      "phase1 end.\n",
      "group count= 3002\n",
      "group count= 2002\n",
      "group count= 1002\n",
      "group count= 2\n",
      "Wall time: 756 ms\n",
      "SEED= 877\n",
      "N= 100\n",
      "group count= 3194\n",
      "groupmat max= 3194\n",
      "phase1 end.\n",
      "group count= 3002\n",
      "group count= 2002\n",
      "group count= 1002\n",
      "group count= 2\n",
      "Wall time: 754 ms\n"
     ]
    }
   ],
   "source": [
    "for i in range(2):\n",
    "    s=np.random.randint(1,1000)\n",
    "    print('SEED=',s)\n",
    "    np.random.seed(s)\n",
    "    # stress test . max 300x300\n",
    "    npinput = np.random.rand(100,100)*100\n",
    "    npinput = np.asarray(npinput, dtype=int)\n",
    "#     print(npinput)\n",
    "    %time ans= solution(npinput.tolist(), 20)\n",
    "    if ans==-1:\n",
    "        print('fail!')\n",
    "        break"
   ]
  },
  {
   "cell_type": "code",
   "execution_count": 58,
   "metadata": {},
   "outputs": [
    {
     "name": "stdout",
     "output_type": "stream",
     "text": [
      "[[30  9 35 ... 28 12 98]\n",
      " [58 21 32 ... 97 76  9]\n",
      " [98 20 78 ... 62 17 42]\n",
      " ...\n",
      " [80 51 12 ... 87  0 67]\n",
      " [39 14 63 ... 28  7 87]\n",
      " [17 52 27 ... 96 26 18]]\n",
      "N= 300\n",
      "group count= 27610\n",
      "groupmat max= 27610\n",
      "phase1 end.\n",
      "group count= 27002\n",
      "group count= 26002\n",
      "group count= 25002\n",
      "group count= 24002\n",
      "group count= 23002\n",
      "group count= 22002\n",
      "group count= 21002\n",
      "group count= 20002\n",
      "group count= 19002\n",
      "group count= 18002\n",
      "group count= 17002\n",
      "group count= 16002\n",
      "group count= 15002\n",
      "group count= 14002\n",
      "group count= 13002\n",
      "group count= 12002\n",
      "group count= 11002\n",
      "group count= 10002\n",
      "group count= 9002\n",
      "group count= 8002\n",
      "group count= 7002\n",
      "group count= 6002\n",
      "group count= 5002\n",
      "group count= 4002\n",
      "group count= 3002\n",
      "group count= 2002\n",
      "group count= 1002\n",
      "group count= 2\n",
      "Wall time: 25.1 s\n"
     ]
    },
    {
     "data": {
      "text/plain": [
       "831526"
      ]
     },
     "execution_count": 58,
     "metadata": {},
     "output_type": "execute_result"
    }
   ],
   "source": [
    "# max 300\n",
    "npinput = np.random.rand(300,300)*100\n",
    "npinput = np.asarray(npinput, dtype=int)\n",
    "print(npinput)\n",
    "\n",
    "# big group\n",
    "# %time solution(npinput.tolist(), 80) # 1.5s\n",
    "\n",
    "#  %time solution(npinput.tolist(), 20)\n",
    "# 22.2s\n",
    "\n",
    "# many groups\n",
    "# %time solution(npinput.tolist(), 1) # worst case...fail. dtype size problem. uint16 to uint32!!!\n",
    "\n",
    "%time solution(npinput.tolist(), 20)\n"
   ]
  },
  {
   "cell_type": "code",
   "execution_count": 49,
   "metadata": {
    "collapsed": true
   },
   "outputs": [
    {
     "data": {
      "text/plain": [
       "array([ 0, 55, 12, 69, 42, 33, 62, 80, 37,  3,  6, 69, 29, 61,  4, 55, 67,\n",
       "       29, 35, 93, 92, 90, 39, 27, 68, 48, 33, 43,  7, 31, 18, 58, 34, 35,\n",
       "        4, 18, 58, 83, 15,  2, 79, 72, 81, 40,  2, 29, 75, 91, 38, 40, 34,\n",
       "        2, 50, 93, 79, 34, 21, 72, 13, 42, 13, 26, 41, 37, 33, 60, 41,  1,\n",
       "        2,  6, 84, 61, 45,  4, 72, 12,  5, 60, 32, 17, 20, 13, 59, 67, 86,\n",
       "       10,  4, 84, 66, 83, 53,  2, 43, 91, 43, 47, 74, 31,  7, 49, 58, 22,\n",
       "       24,  7, 60, 82, 53, 36, 63, 35,  9, 87, 19, 48,  3,  2, 41, 83, 34,\n",
       "       38, 80, 52, 64, 36, 50, 42, 47, 94,  8, 19,  7, 75, 12, 91, 66, 49,\n",
       "       23, 18, 90, 26, 80, 90,  3, 86, 85, 61, 68,  7, 94,  6, 63,  4, 78,\n",
       "       11,  5, 56, 14,  3,  0, 40, 57, 76, 29, 92, 52, 37,  1, 45, 66, 73,\n",
       "        4, 38, 43, 23, 57, 35,  5, 36, 75, 94,  4, 68, 93, 48,  8,  8, 36,\n",
       "       11, 49, 18, 42, 56, 21, 44, 75, 43, 12,  9, 37, 24, 80, 43, 93, 22,\n",
       "       83, 23, 87, 93, 37, 27, 32, 83, 82, 50, 73, 89,  2, 73, 74, 70, 43,\n",
       "       10, 52, 82, 18, 89, 81, 91, 31, 25, 10, 81, 36, 56, 13, 36, 74, 35,\n",
       "        1, 29, 58,  7,  8, 11, 41,  8,  0, 92, 22, 56, 62, 70, 60,  2, 14,\n",
       "       34, 19, 13, 70, 27, 67, 65, 94, 29, 40, 48, 47, 72, 20, 32, 65, 19,\n",
       "       82, 35, 23,  1, 37, 13, 50, 32, 55,  7, 94, 90, 79, 36, 78, 65, 52,\n",
       "       70, 66, 86, 80, 76, 66, 30, 41, 76, 15,  3])"
      ]
     },
     "execution_count": 49,
     "metadata": {},
     "output_type": "execute_result"
    }
   ],
   "source": [
    "np.abs(npinput[0]-npinput[0][0])"
   ]
  },
  {
   "cell_type": "code",
   "execution_count": 328,
   "metadata": {},
   "outputs": [
    {
     "data": {
      "text/plain": [
       "99"
      ]
     },
     "execution_count": 328,
     "metadata": {},
     "output_type": "execute_result"
    }
   ],
   "source": [
    "np.max(npinput)"
   ]
  },
  {
   "cell_type": "code",
   "execution_count": 329,
   "metadata": {},
   "outputs": [
    {
     "data": {
      "text/plain": [
       "array([[False, False, False, ..., False, False, False],\n",
       "       [False, False, False, ..., False, False, False],\n",
       "       [False, False, False, ..., False, False, False],\n",
       "       ...,\n",
       "       [False, False, False, ..., False, False, False],\n",
       "       [False, False, False, ..., False, False, False],\n",
       "       [ True, False, False, ..., False, False, False]])"
      ]
     },
     "execution_count": 329,
     "metadata": {},
     "output_type": "execute_result"
    }
   ],
   "source": [
    "npinput==23"
   ]
  },
  {
   "cell_type": "code",
   "execution_count": 108,
   "metadata": {},
   "outputs": [
    {
     "name": "stdout",
     "output_type": "stream",
     "text": [
      "[[ 0 13]\n",
      " [ 0 72]\n",
      " [ 0 85]\n",
      " [ 1 34]\n",
      " [ 1 85]]\n"
     ]
    }
   ],
   "source": [
    "x2=np.argwhere(npinput==23)[0:5]\n",
    "print(x2)"
   ]
  },
  {
   "cell_type": "code",
   "execution_count": 109,
   "metadata": {},
   "outputs": [
    {
     "name": "stdout",
     "output_type": "stream",
     "text": [
      "[ 0 13]\n",
      "[ 0 72]\n",
      "[ 0 85]\n",
      "[ 1 34]\n",
      "[ 1 85]\n"
     ]
    }
   ],
   "source": [
    "for xi in x2:\n",
    "    print(xi)"
   ]
  },
  {
   "cell_type": "code",
   "execution_count": 122,
   "metadata": {},
   "outputs": [
    {
     "data": {
      "text/plain": [
       "5"
      ]
     },
     "execution_count": 122,
     "metadata": {},
     "output_type": "execute_result"
    }
   ],
   "source": [
    "len(x2)"
   ]
  },
  {
   "cell_type": "code",
   "execution_count": 185,
   "metadata": {},
   "outputs": [
    {
     "name": "stdout",
     "output_type": "stream",
     "text": [
      "[[1, 1, 2, 1, 1, 10], [2, 1, 2, 1, 2, 10], [3, 1, 2, 1, 1, 10], [4, 1, 2, 1, 1, 10], [5, 1, 2, 1, 2, 10], [6, 1, 2, 1, 1, 10]]\n"
     ]
    }
   ],
   "source": [
    "all_bridge=[ [1,1,2,1,1,10],[2,1,2,1,2,10], [3,1,2,1,1,10], [4,1,2,1,1,10],[5,1,2,1,2,10], [6,1,2,1,1,10]]\n",
    "print(all_bridge)"
   ]
  },
  {
   "cell_type": "code",
   "execution_count": 186,
   "metadata": {},
   "outputs": [],
   "source": [
    "tmpb=[3,1,2,1,1,10]"
   ]
  },
  {
   "cell_type": "code",
   "execution_count": 187,
   "metadata": {},
   "outputs": [
    {
     "name": "stdout",
     "output_type": "stream",
     "text": [
      "[[2, 1, 2, 1, 2, 10], [3, 1, 2, 1, 1, 10], [5, 1, 2, 1, 2, 10]]\n"
     ]
    }
   ],
   "source": [
    "# mincost 그룹 다리를 삭제. except tmpb\n",
    "for x in all_bridge:\n",
    "    if x[4]==1:\n",
    "        if x==tmpb:\n",
    "            pass\n",
    "        else:\n",
    "            all_bridge.remove(x)\n",
    "print(all_bridge)"
   ]
  },
  {
   "cell_type": "code",
   "execution_count": 188,
   "metadata": {},
   "outputs": [
    {
     "name": "stdout",
     "output_type": "stream",
     "text": [
      "[[ 1  1  2  1  1 10]\n",
      " [ 2  1  2  1  2 10]\n",
      " [ 3  1  2  1  1 10]\n",
      " [ 4  1  2  1  1 10]\n",
      " [ 5  1  2  1  2 10]\n",
      " [ 6  1  2  1  1 10]]\n"
     ]
    }
   ],
   "source": [
    "all_bridge=[ [1,1,2,1,1,10],[2,1,2,1,2,10], [3,1,2,1,1,10], [4,1,2,1,1,10],[5,1,2,1,2,10], [6,1,2,1,1,10]]\n",
    "npa = np.asarray(all_bridge)\n",
    "print(npa)"
   ]
  },
  {
   "cell_type": "code",
   "execution_count": 189,
   "metadata": {},
   "outputs": [
    {
     "data": {
      "text/plain": [
       "0"
      ]
     },
     "execution_count": 189,
     "metadata": {},
     "output_type": "execute_result"
    }
   ],
   "source": [
    "np.argmin(npa[:,5])"
   ]
  },
  {
   "cell_type": "code",
   "execution_count": 190,
   "metadata": {},
   "outputs": [
    {
     "data": {
      "text/plain": [
       "array([[ 1,  1,  2,  1,  1, 10],\n",
       "       [ 4,  1,  2,  1,  1, 10],\n",
       "       [ 5,  1,  2,  1,  2, 10],\n",
       "       [ 6,  1,  2,  1,  1, 10]])"
      ]
     },
     "execution_count": 190,
     "metadata": {},
     "output_type": "execute_result"
    }
   ],
   "source": [
    "np.delete(npa, [1,2], axis=0)"
   ]
  },
  {
   "cell_type": "code",
   "execution_count": 43,
   "metadata": {},
   "outputs": [
    {
     "data": {
      "text/plain": [
       "array([[ 2,  1,  2,  1,  2, 10],\n",
       "       [ 3,  1,  2,  1,  1, 10],\n",
       "       [ 5,  1,  2,  1,  2, 10]])"
      ]
     },
     "execution_count": 43,
     "metadata": {},
     "output_type": "execute_result"
    }
   ],
   "source": [
    "npa"
   ]
  },
  {
   "cell_type": "code",
   "execution_count": 191,
   "metadata": {},
   "outputs": [
    {
     "data": {
      "text/plain": [
       "array([[ 1,  1,  2,  1,  1, 10],\n",
       "       [ 2,  1,  2,  1,  2, 10],\n",
       "       [ 3,  1,  2,  1,  1, 10],\n",
       "       [ 4,  1,  2,  1,  1, 10],\n",
       "       [ 5,  1,  2,  1,  2, 10],\n",
       "       [ 6,  1,  2,  1,  1, 10],\n",
       "       [ 8,  8,  9,  9,  1,  2]])"
      ]
     },
     "execution_count": 191,
     "metadata": {},
     "output_type": "execute_result"
    }
   ],
   "source": [
    "np.append(npa,[[8,8,9,9,1,2]], axis=0)"
   ]
  },
  {
   "cell_type": "code",
   "execution_count": 192,
   "metadata": {},
   "outputs": [
    {
     "data": {
      "text/plain": [
       "array([1, 2, 1, 1, 2, 1])"
      ]
     },
     "execution_count": 192,
     "metadata": {},
     "output_type": "execute_result"
    }
   ],
   "source": [
    "npa[:,4]"
   ]
  },
  {
   "cell_type": "code",
   "execution_count": 193,
   "metadata": {},
   "outputs": [
    {
     "data": {
      "text/plain": [
       "(array([1, 4], dtype=int64),)"
      ]
     },
     "execution_count": 193,
     "metadata": {},
     "output_type": "execute_result"
    }
   ],
   "source": [
    "np.where(npa[:,4]==2)"
   ]
  },
  {
   "cell_type": "code",
   "execution_count": 194,
   "metadata": {},
   "outputs": [],
   "source": [
    "a=np.empty((0,6), dtype=int)"
   ]
  },
  {
   "cell_type": "code",
   "execution_count": 195,
   "metadata": {},
   "outputs": [],
   "source": [
    "a=np.append(a, [[1,2,3,4,5,6]], axis=0)"
   ]
  },
  {
   "cell_type": "code",
   "execution_count": 196,
   "metadata": {},
   "outputs": [
    {
     "data": {
      "text/plain": [
       "array([[1, 2, 3, 4, 5, 6]])"
      ]
     },
     "execution_count": 196,
     "metadata": {},
     "output_type": "execute_result"
    }
   ],
   "source": [
    "a"
   ]
  },
  {
   "cell_type": "code",
   "execution_count": 197,
   "metadata": {},
   "outputs": [
    {
     "data": {
      "text/plain": [
       "1"
      ]
     },
     "execution_count": 197,
     "metadata": {},
     "output_type": "execute_result"
    }
   ],
   "source": [
    "len(a)"
   ]
  },
  {
   "cell_type": "code",
   "execution_count": 198,
   "metadata": {},
   "outputs": [
    {
     "data": {
      "text/plain": [
       "array([[ 1,  1,  2,  1,  1, 10],\n",
       "       [ 2,  1,  2,  1,  2, 10],\n",
       "       [ 3,  1,  2,  1,  1, 10],\n",
       "       [ 4,  1,  2,  1,  1, 10],\n",
       "       [ 5,  1,  2,  1,  2, 10],\n",
       "       [ 6,  1,  2,  1,  1, 10]])"
      ]
     },
     "execution_count": 198,
     "metadata": {},
     "output_type": "execute_result"
    }
   ],
   "source": [
    "npa"
   ]
  },
  {
   "cell_type": "code",
   "execution_count": 199,
   "metadata": {},
   "outputs": [
    {
     "data": {
      "text/plain": [
       "array([ 1,  2,  3,  4,  5,  6, 10])"
      ]
     },
     "execution_count": 199,
     "metadata": {},
     "output_type": "execute_result"
    }
   ],
   "source": [
    "np.unique(npa)"
   ]
  },
  {
   "cell_type": "code",
   "execution_count": 200,
   "metadata": {},
   "outputs": [
    {
     "data": {
      "text/plain": [
       "array([[0.52237207, 0.03915694, 0.38832822, 0.78586685, 0.4041051 ,\n",
       "        0.16637724, 0.57769858, 0.16387643, 0.17710494, 0.77878329]])"
      ]
     },
     "execution_count": 200,
     "metadata": {},
     "output_type": "execute_result"
    }
   ],
   "source": [
    "np.random.rand(1,10)"
   ]
  },
  {
   "cell_type": "code",
   "execution_count": 147,
   "metadata": {},
   "outputs": [
    {
     "name": "stdout",
     "output_type": "stream",
     "text": [
      "(50000, 10)\n",
      "Wall time: 34.5 s\n"
     ]
    }
   ],
   "source": [
    "def f1(cnt):\n",
    "    k=np.zeros((0,10))\n",
    "    for i in range(cnt):\n",
    "        k = np.append(k, np.random.rand(1,10)*100, axis=0)\n",
    "    print(k.shape)  \n",
    "%time f1(20000)    "
   ]
  },
  {
   "cell_type": "code",
   "execution_count": 148,
   "metadata": {},
   "outputs": [
    {
     "name": "stdout",
     "output_type": "stream",
     "text": [
      "(50000, 1, 10)\n",
      "Wall time: 155 ms\n"
     ]
    }
   ],
   "source": [
    "def f2(cnt):\n",
    "    k=np.zeros((0,10))\n",
    "    tmp=[]\n",
    "    for i in range(cnt):\n",
    "        tmp.append( np.random.rand(1,10)*100 )\n",
    "    k = np.asarray(tmp)\n",
    "    print(k.shape)  \n",
    "%time f2(20000)\n",
    "    "
   ]
  },
  {
   "cell_type": "code",
   "execution_count": 149,
   "metadata": {},
   "outputs": [
    {
     "name": "stdout",
     "output_type": "stream",
     "text": [
      "(50000, 10)\n",
      "Wall time: 35.6 s\n"
     ]
    }
   ],
   "source": [
    "def f3(cnt):\n",
    "    k=np.zeros((0,10))\n",
    "    tmp=[]\n",
    "    for i in range(cnt):\n",
    "        k = np.r_[k,np.random.rand(1,10)*100 ]\n",
    "    print(k.shape)  \n",
    "%time f3(20000)"
   ]
  },
  {
   "cell_type": "code",
   "execution_count": 150,
   "metadata": {},
   "outputs": [
    {
     "name": "stdout",
     "output_type": "stream",
     "text": [
      "(50000, 10)\n",
      "Wall time: 34.5 s\n"
     ]
    }
   ],
   "source": [
    "def f4(cnt):\n",
    "    k=np.zeros((0,10))\n",
    "    for i in range(cnt):\n",
    "        k = np.concatenate([k, np.random.rand(1,10)*100], axis=0)\n",
    "    print(k.shape)  \n",
    "%time f4(20000)    "
   ]
  },
  {
   "cell_type": "code",
   "execution_count": 156,
   "metadata": {},
   "outputs": [
    {
     "name": "stdout",
     "output_type": "stream",
     "text": [
      "Wall time: 2 ms\n"
     ]
    }
   ],
   "source": [
    "k=np.random.rand(500,500)\n",
    "k2=np.random.rand(500,500)\n",
    "\n",
    "%time k3=np.concatenate([k,k2], axis=0)"
   ]
  },
  {
   "cell_type": "code",
   "execution_count": 183,
   "metadata": {},
   "outputs": [],
   "source": [
    "k3=np.delete(k3, [3,5,6,10, 30,40,50], axis=0)"
   ]
  },
  {
   "cell_type": "code",
   "execution_count": 184,
   "metadata": {},
   "outputs": [
    {
     "data": {
      "text/plain": [
       "(993, 500)"
      ]
     },
     "execution_count": 184,
     "metadata": {},
     "output_type": "execute_result"
    }
   ],
   "source": [
    "k3.shape"
   ]
  },
  {
   "cell_type": "code",
   "execution_count": null,
   "metadata": {},
   "outputs": [],
   "source": []
  }
 ],
 "metadata": {
  "kernelspec": {
   "display_name": "py37",
   "language": "python",
   "name": "py37"
  },
  "language_info": {
   "codemirror_mode": {
    "name": "ipython",
    "version": 3
   },
   "file_extension": ".py",
   "mimetype": "text/x-python",
   "name": "python",
   "nbconvert_exporter": "python",
   "pygments_lexer": "ipython3",
   "version": "3.7.3"
  }
 },
 "nbformat": 4,
 "nbformat_minor": 2
}
