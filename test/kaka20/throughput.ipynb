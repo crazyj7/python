{
 "cells": [
  {
   "cell_type": "code",
   "execution_count": 112,
   "metadata": {},
   "outputs": [],
   "source": [
    "from datetime import datetime\n",
    "bdebug = True\n",
    "import numpy as np"
   ]
  },
  {
   "cell_type": "code",
   "execution_count": 72,
   "metadata": {},
   "outputs": [
    {
     "data": {
      "text/plain": [
       "datetime.datetime(2020, 1, 19, 21, 39, 36, 520368)"
      ]
     },
     "execution_count": 72,
     "metadata": {},
     "output_type": "execute_result"
    }
   ],
   "source": [
    "datetime.now()"
   ]
  },
  {
   "cell_type": "code",
   "execution_count": 73,
   "metadata": {},
   "outputs": [
    {
     "name": "stdout",
     "output_type": "stream",
     "text": [
      "2020-01-19 12:39:36.873\n",
      "2020-01-19 21:39:36.873\n"
     ]
    }
   ],
   "source": [
    "u = datetime.utcnow().strftime('%Y-%m-%d %H:%M:%S.%f')[:-3]\n",
    "l = datetime.now().strftime('%Y-%m-%d %H:%M:%S.%f')[:-3]\n",
    "print(u)\n",
    "print(l)"
   ]
  },
  {
   "cell_type": "code",
   "execution_count": 74,
   "metadata": {},
   "outputs": [
    {
     "data": {
      "text/plain": [
       "1579437577.558048"
      ]
     },
     "execution_count": 74,
     "metadata": {},
     "output_type": "execute_result"
    }
   ],
   "source": [
    "datetime.now().timestamp()"
   ]
  },
  {
   "cell_type": "code",
   "execution_count": 75,
   "metadata": {},
   "outputs": [
    {
     "name": "stdout",
     "output_type": "stream",
     "text": [
      "2020-01-19 16:04:05.269000\n",
      "1579417445.269\n"
     ]
    }
   ],
   "source": [
    "test_date='2020-01-19 16:04:05.269'\n",
    "cd = datetime.strptime(test_date, '%Y-%m-%d %H:%M:%S.%f')\n",
    "print(cd)\n",
    "print(cd.timestamp())"
   ]
  },
  {
   "cell_type": "code",
   "execution_count": 76,
   "metadata": {},
   "outputs": [],
   "source": [
    "input=[\n",
    "'2016-09-15 20:59:57.421 0.351s',\n",
    "'2016-09-15 20:59:58.233 1.181s',\n",
    "'2016-09-15 20:59:58.299 0.8s',\n",
    "'2016-09-15 20:59:58.688 1.041s',\n",
    "'2016-09-15 20:59:59.591 1.412s',\n",
    "'2016-09-15 21:00:00.464 1.466s',\n",
    "'2016-09-15 21:00:00.741 1.581s',\n",
    "'2016-09-15 21:00:00.748 2.31s',\n",
    "'2016-09-15 21:00:00.966 0.381s',\n",
    "'2016-09-15 21:00:02.066 2.62s'\n",
    "]"
   ]
  },
  {
   "cell_type": "code",
   "execution_count": 77,
   "metadata": {},
   "outputs": [
    {
     "name": "stdout",
     "output_type": "stream",
     "text": [
      "23\n"
     ]
    }
   ],
   "source": [
    "print(len('2016-09-15 20:59:57.421'))"
   ]
  },
  {
   "cell_type": "code",
   "execution_count": 78,
   "metadata": {},
   "outputs": [],
   "source": [
    "def parse(s):\n",
    "    t = s[:23]\n",
    "    k = s[24:].find('s')\n",
    "    t2 = s[24:24+k]\n",
    "    return t, t2"
   ]
  },
  {
   "cell_type": "code",
   "execution_count": 79,
   "metadata": {},
   "outputs": [
    {
     "name": "stdout",
     "output_type": "stream",
     "text": [
      "2016-09-15 20:59:57.421 0.351\n",
      "2016-09-15 20:59:58.233 1.181\n",
      "2016-09-15 20:59:58.299 0.8\n",
      "2016-09-15 20:59:58.688 1.041\n",
      "2016-09-15 20:59:59.591 1.412\n",
      "2016-09-15 21:00:00.464 1.466\n",
      "2016-09-15 21:00:00.741 1.581\n",
      "2016-09-15 21:00:00.748 2.31\n",
      "2016-09-15 21:00:00.966 0.381\n",
      "2016-09-15 21:00:02.066 2.62\n"
     ]
    }
   ],
   "source": [
    "\n",
    "pushtime = []\n",
    "poptime = []\n",
    "for s in input:\n",
    "    t1, t2 = parse(s)\n",
    "    print(t1, t2)\n",
    "    ts = datetime.strptime(t1, '%Y-%m-%d %H:%M:%S.%f').timestamp()\n",
    "    ts1 = ts - float(t2)\n",
    "    ts2 = ts\n",
    "    pushtime.append(ts1)\n",
    "    poptime.append(ts2)"
   ]
  },
  {
   "cell_type": "code",
   "execution_count": 80,
   "metadata": {},
   "outputs": [
    {
     "name": "stdout",
     "output_type": "stream",
     "text": [
      "[1473940797.07, 1473940797.052, 1473940797.499, 1473940797.647, 1473940798.1790001, 1473940798.998, 1473940799.1599998, 1473940798.438, 1473940800.585, 1473940799.446]\n",
      "[1473940797.421, 1473940798.233, 1473940798.299, 1473940798.688, 1473940799.591, 1473940800.464, 1473940800.741, 1473940800.748, 1473940800.966, 1473940802.066]\n"
     ]
    }
   ],
   "source": [
    "print(pushtime)\n",
    "print(poptime)"
   ]
  },
  {
   "cell_type": "code",
   "execution_count": 81,
   "metadata": {},
   "outputs": [],
   "source": [
    "pushtime.sort()"
   ]
  },
  {
   "cell_type": "code",
   "execution_count": 82,
   "metadata": {},
   "outputs": [],
   "source": [
    "poptime.sort()"
   ]
  },
  {
   "cell_type": "code",
   "execution_count": 92,
   "metadata": {},
   "outputs": [
    {
     "data": {
      "text/plain": [
       "[1473940797.052,\n",
       " 1473940797.07,\n",
       " 1473940797.499,\n",
       " 1473940797.647,\n",
       " 1473940798.1790001,\n",
       " 1473940798.438,\n",
       " 1473940798.998,\n",
       " 1473940799.1599998,\n",
       " 1473940799.446,\n",
       " 1473940800.585]"
      ]
     },
     "execution_count": 92,
     "metadata": {},
     "output_type": "execute_result"
    }
   ],
   "source": [
    "pushtime"
   ]
  },
  {
   "cell_type": "code",
   "execution_count": 83,
   "metadata": {
    "scrolled": false
   },
   "outputs": [
    {
     "data": {
      "text/plain": [
       "[1473940797.421,\n",
       " 1473940798.233,\n",
       " 1473940798.299,\n",
       " 1473940798.688,\n",
       " 1473940799.591,\n",
       " 1473940800.464,\n",
       " 1473940800.741,\n",
       " 1473940800.748,\n",
       " 1473940800.966,\n",
       " 1473940802.066]"
      ]
     },
     "execution_count": 83,
     "metadata": {},
     "output_type": "execute_result"
    }
   ],
   "source": [
    "poptime"
   ]
  },
  {
   "cell_type": "code",
   "execution_count": 84,
   "metadata": {},
   "outputs": [],
   "source": [
    "import copy"
   ]
  },
  {
   "cell_type": "code",
   "execution_count": 85,
   "metadata": {},
   "outputs": [],
   "source": [
    "evttime = copy.copy(pushtime)"
   ]
  },
  {
   "cell_type": "code",
   "execution_count": 86,
   "metadata": {},
   "outputs": [],
   "source": [
    "evttime.extend(poptime)"
   ]
  },
  {
   "cell_type": "code",
   "execution_count": 87,
   "metadata": {},
   "outputs": [
    {
     "name": "stdout",
     "output_type": "stream",
     "text": [
      "[1473940797.052, 1473940797.07, 1473940797.499, 1473940797.647, 1473940798.1790001, 1473940798.438, 1473940798.998, 1473940799.1599998, 1473940799.446, 1473940800.585, 1473940797.421, 1473940798.233, 1473940798.299, 1473940798.688, 1473940799.591, 1473940800.464, 1473940800.741, 1473940800.748, 1473940800.966, 1473940802.066]\n"
     ]
    }
   ],
   "source": [
    "print(evttime)"
   ]
  },
  {
   "cell_type": "code",
   "execution_count": 88,
   "metadata": {},
   "outputs": [],
   "source": [
    "evttime.sort()"
   ]
  },
  {
   "cell_type": "code",
   "execution_count": 89,
   "metadata": {
    "scrolled": true
   },
   "outputs": [
    {
     "name": "stdout",
     "output_type": "stream",
     "text": [
      "[1473940797.052, 1473940797.07, 1473940797.421, 1473940797.499, 1473940797.647, 1473940798.1790001, 1473940798.233, 1473940798.299, 1473940798.438, 1473940798.688, 1473940798.998, 1473940799.1599998, 1473940799.446, 1473940799.591, 1473940800.464, 1473940800.585, 1473940800.741, 1473940800.748, 1473940800.966, 1473940802.066]\n"
     ]
    }
   ],
   "source": [
    "print(evttime)"
   ]
  },
  {
   "cell_type": "code",
   "execution_count": 109,
   "metadata": {},
   "outputs": [
    {
     "name": "stdout",
     "output_type": "stream",
     "text": [
      "1473940797.052 1473940802.066 5.013999938964844\n"
     ]
    }
   ],
   "source": [
    "starttime = evttime[0]\n",
    "endtime = evttime[-1]\n",
    "print(starttime, endtime, endtime-starttime)"
   ]
  },
  {
   "cell_type": "code",
   "execution_count": 90,
   "metadata": {},
   "outputs": [],
   "source": [
    "from queue import Queue"
   ]
  },
  {
   "cell_type": "code",
   "execution_count": 105,
   "metadata": {},
   "outputs": [],
   "source": [
    "# 동시 처리 최대 수"
   ]
  },
  {
   "cell_type": "code",
   "execution_count": 103,
   "metadata": {
    "scrolled": true
   },
   "outputs": [
    {
     "name": "stdout",
     "output_type": "stream",
     "text": [
      "time= 1473940797.052\n",
      "qsize= 0\n",
      "put = 1473940797.052\n",
      "time= 1473940797.07\n",
      "qsize= 1\n",
      "put = 1473940797.07\n",
      "time= 1473940797.421\n",
      "qsize= 2\n",
      "get= 1473940797.421\n",
      "time= 1473940797.499\n",
      "qsize= 1\n",
      "put = 1473940797.499\n",
      "time= 1473940797.647\n",
      "qsize= 2\n",
      "put = 1473940797.647\n",
      "time= 1473940798.1790001\n",
      "qsize= 3\n",
      "put = 1473940798.1790001\n",
      "time= 1473940798.233\n",
      "qsize= 4\n",
      "get= 1473940798.233\n",
      "time= 1473940798.299\n",
      "qsize= 3\n",
      "get= 1473940798.299\n",
      "time= 1473940798.438\n",
      "qsize= 2\n",
      "put = 1473940798.438\n",
      "time= 1473940798.688\n",
      "qsize= 3\n",
      "get= 1473940798.688\n",
      "time= 1473940798.998\n",
      "qsize= 2\n",
      "put = 1473940798.998\n",
      "time= 1473940799.1599998\n",
      "qsize= 3\n",
      "put = 1473940799.1599998\n",
      "time= 1473940799.446\n",
      "qsize= 4\n",
      "put = 1473940799.446\n",
      "time= 1473940799.591\n",
      "qsize= 5\n",
      "get= 1473940799.591\n",
      "time= 1473940800.464\n",
      "qsize= 4\n",
      "get= 1473940800.464\n",
      "time= 1473940800.585\n",
      "qsize= 3\n",
      "put = 1473940800.585\n",
      "time= 1473940800.741\n",
      "qsize= 4\n",
      "get= 1473940800.741\n",
      "time= 1473940800.748\n",
      "qsize= 3\n",
      "get= 1473940800.748\n",
      "time= 1473940800.966\n",
      "qsize= 2\n",
      "get= 1473940800.966\n",
      "time= 1473940802.066\n",
      "qsize= 1\n",
      "get= 1473940802.066\n",
      "time= 1473940802.066\n",
      "qsize= 0\n",
      "maxsize= 5\n",
      "maxtime= 1473940799.591\n"
     ]
    }
   ],
   "source": [
    "q=Queue()\n",
    "t1i = 0\n",
    "t2i = 0\n",
    "maxsize = 0 \n",
    "maxtime = 0\n",
    "for tt in evttime:\n",
    "    print('time=', tt)\n",
    "    print('qsize=', q.qsize())\n",
    "    if q.qsize()>maxsize:\n",
    "        maxsize = q.qsize()\n",
    "        maxtime = tt\n",
    "    if t1i<len(pushtime) and pushtime[t1i]==tt:\n",
    "        q.put(1)\n",
    "        print('put =', pushtime[t1i])\n",
    "        t1i += 1\n",
    "    if t2i<len(poptime) and poptime[t2i]==tt:\n",
    "        q.get()\n",
    "        print('get=', poptime[t2i])\n",
    "        t2i += 1\n",
    "print('time=', tt)\n",
    "print('qsize=', q.qsize())\n",
    "print('maxsize=', maxsize)\n",
    "print('maxtime=', maxtime)"
   ]
  },
  {
   "cell_type": "code",
   "execution_count": 106,
   "metadata": {},
   "outputs": [],
   "source": [
    "# 1초 범위내 최대 수"
   ]
  },
  {
   "cell_type": "code",
   "execution_count": 121,
   "metadata": {},
   "outputs": [
    {
     "name": "stdout",
     "output_type": "stream",
     "text": [
      "(1473940797.07, 1473940797.421)\n",
      "(1473940797.052, 1473940798.233)\n",
      "(1473940797.499, 1473940798.299)\n",
      "(1473940797.647, 1473940798.688)\n",
      "(1473940798.1790001, 1473940799.591)\n",
      "(1473940798.998, 1473940800.464)\n",
      "(1473940799.1599998, 1473940800.741)\n",
      "(1473940798.438, 1473940800.748)\n",
      "(1473940800.585, 1473940800.966)\n",
      "(1473940799.446, 1473940802.066)\n"
     ]
    }
   ],
   "source": [
    "logtime = []\n",
    "for s in input:\n",
    "    t1, t2 = parse(s)\n",
    "#     print(t1, t2)\n",
    "    ts = datetime.strptime(t1, '%Y-%m-%d %H:%M:%S.%f').timestamp()\n",
    "    ts1 = ts - float(t2)\n",
    "    ts2 = ts\n",
    "    logtime.append( (ts1, ts2) )\n",
    "    print((ts1, ts2))"
   ]
  },
  {
   "cell_type": "code",
   "execution_count": 122,
   "metadata": {},
   "outputs": [
    {
     "name": "stdout",
     "output_type": "stream",
     "text": [
      "7\n"
     ]
    }
   ],
   "source": [
    "maxhit=0\n",
    "for t in np.arange(starttime, endtime-1, 0.001):\n",
    "    # // t ~ t+1\n",
    "    hit=0\n",
    "    outindex=[]\n",
    "    for i,lt in enumerate(logtime):\n",
    "        #  교차 판정. 시작점 또는 끝점이 들어있는 경우.\n",
    "        if (lt[0]>=t and lt[0]<=t+1) or (lt[1]>=t and lt[1]<=t+1):\n",
    "            hit+=1\n",
    "        #  포함인 경우. 1초를 포함.\n",
    "        elif (lt[0]<t and lt[1]>t+1):\n",
    "            hit+=1\n",
    "        if lt[1]<t:\n",
    "            outindex.append(i)\n",
    "    if maxhit<hit:\n",
    "        maxhit=hit\n",
    "    # remove out\n",
    "    outindex.reverse()\n",
    "    for o in outindex:\n",
    "        del logtime[o]\n",
    "\n",
    "print(maxhit)"
   ]
  },
  {
   "cell_type": "code",
   "execution_count": null,
   "metadata": {},
   "outputs": [],
   "source": []
  }
 ],
 "metadata": {
  "kernelspec": {
   "display_name": "py37",
   "language": "python",
   "name": "py37"
  },
  "language_info": {
   "codemirror_mode": {
    "name": "ipython",
    "version": 3
   },
   "file_extension": ".py",
   "mimetype": "text/x-python",
   "name": "python",
   "nbconvert_exporter": "python",
   "pygments_lexer": "ipython3",
   "version": "3.7.3"
  }
 },
 "nbformat": 4,
 "nbformat_minor": 2
}
