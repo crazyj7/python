{
 "cells": [
  {
   "cell_type": "code",
   "execution_count": 17,
   "metadata": {},
   "outputs": [],
   "source": [
    "import os, sys\n",
    "import numpy as np"
   ]
  },
  {
   "cell_type": "code",
   "execution_count": 2,
   "metadata": {},
   "outputs": [],
   "source": [
    "# usernum:0,1,2\n",
    "# cnt: question number start with 0\n",
    "def user_answer(usernum, cnt):\n",
    "    user1 = [1,2,3,4,5]\n",
    "    user2 = [2,1, 2,3, 2,4, 2,5]\n",
    "    user3 = [3,3, 1,1, 2,2, 4,4, 5,5]\n",
    "    users = [user1, user2, user3]\n",
    "    u = users[usernum]\n",
    "    patterncnt = len(u)\n",
    "    index = cnt % patterncnt\n",
    "    return u[index]"
   ]
  },
  {
   "cell_type": "code",
   "execution_count": 36,
   "metadata": {},
   "outputs": [],
   "source": [
    "def solution(answers):\n",
    "    answer = []\n",
    "    ans0 = np.asarray([user_answer(0, k) for k in range(len(answers))])\n",
    "    ans1 = np.asarray([user_answer(1, k) for k in range(len(answers))])\n",
    "    ans2 = np.asarray([user_answer(2, k) for k in range(len(answers))])\n",
    "    npans = np.asarray(answers)\n",
    "    \n",
    "    sco0 = np.sum( ans0==npans )\n",
    "    sco1 = np.sum( ans1==npans )\n",
    "    sco2 = np.sum( ans2==npans )\n",
    "    scores = np.asarray([sco0, sco1, sco2])\n",
    "    firsts = np.argwhere(scores==np.max(scores)).flatten()\n",
    "    firsts = firsts+1\n",
    "    answer = list(firsts)\n",
    "    \n",
    "    return answer"
   ]
  },
  {
   "cell_type": "code",
   "execution_count": 38,
   "metadata": {},
   "outputs": [
    {
     "data": {
      "text/plain": [
       "[2, 3]"
      ]
     },
     "execution_count": 38,
     "metadata": {},
     "output_type": "execute_result"
    }
   ],
   "source": [
    "solution([1,1,2,2,1,2,3,4])"
   ]
  },
  {
   "cell_type": "code",
   "execution_count": 18,
   "metadata": {},
   "outputs": [],
   "source": [
    "a=np.asarray([1,2,3,4,1,2,3,4])\n",
    "b=np.asarray([1,1,1,4,1,3,3,3])"
   ]
  },
  {
   "cell_type": "code",
   "execution_count": 20,
   "metadata": {},
   "outputs": [
    {
     "data": {
      "text/plain": [
       "4"
      ]
     },
     "execution_count": 20,
     "metadata": {},
     "output_type": "execute_result"
    }
   ],
   "source": [
    "np.sum(a==b)"
   ]
  },
  {
   "cell_type": "code",
   "execution_count": 29,
   "metadata": {},
   "outputs": [
    {
     "name": "stdout",
     "output_type": "stream",
     "text": [
      "[0 2]\n"
     ]
    }
   ],
   "source": [
    "scores=np.asarray([23,21,23])\n",
    "first = np.argwhere(scores==np.max(scores))\n",
    "print(first.flatten())"
   ]
  },
  {
   "cell_type": "code",
   "execution_count": 35,
   "metadata": {},
   "outputs": [
    {
     "data": {
      "text/plain": [
       "array([2, 3, 4])"
      ]
     },
     "execution_count": 35,
     "metadata": {},
     "output_type": "execute_result"
    }
   ],
   "source": [
    "np.array([1,2,3])+1"
   ]
  },
  {
   "cell_type": "code",
   "execution_count": null,
   "metadata": {},
   "outputs": [],
   "source": []
  }
 ],
 "metadata": {
  "kernelspec": {
   "display_name": "py37",
   "language": "python",
   "name": "py37"
  },
  "language_info": {
   "codemirror_mode": {
    "name": "ipython",
    "version": 3
   },
   "file_extension": ".py",
   "mimetype": "text/x-python",
   "name": "python",
   "nbconvert_exporter": "python",
   "pygments_lexer": "ipython3",
   "version": "3.7.3"
  }
 },
 "nbformat": 4,
 "nbformat_minor": 2
}
