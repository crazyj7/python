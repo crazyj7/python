{
 "cells": [
  {
   "cell_type": "code",
   "execution_count": 68,
   "metadata": {},
   "outputs": [],
   "source": [
    "import numpy as np\n",
    "import os, sys\n",
    "from datetime import datetime\n",
    "import locale\n",
    "\n",
    "bdebug=True"
   ]
  },
  {
   "cell_type": "code",
   "execution_count": 39,
   "metadata": {},
   "outputs": [],
   "source": [
    "# log 처리 성능. 1초간 최대 처리능력. \n",
    "# 1초 동안에 처리중 큐에 있는 최대 개수"
   ]
  },
  {
   "cell_type": "code",
   "execution_count": 52,
   "metadata": {},
   "outputs": [],
   "source": [
    "def parse(s):\n",
    "    t = s[:23]\n",
    "    k = s[24:].find('s')\n",
    "    t2 = s[24:24+k]\n",
    "    return t, t2"
   ]
  },
  {
   "cell_type": "code",
   "execution_count": 59,
   "metadata": {},
   "outputs": [],
   "source": [
    "lines =  [\n",
    "'2016-09-15 20:59:57.421 0.351s',\n",
    "'2016-09-15 20:59:58.233 1.181s',\n",
    "'2016-09-15 20:59:58.299 0.8s',\n",
    "'2016-09-15 20:59:58.688 1.041s',\n",
    "'2016-09-15 20:59:59.591 1.412s',\n",
    "'2016-09-15 21:00:00.464 1.466s',\n",
    "'2016-09-15 21:00:00.741 1.581s',\n",
    "'2016-09-15 21:00:00.748 2.31s',\n",
    "'2016-09-15 21:00:00.966 0.381s',\n",
    "'2016-09-15 21:00:02.066 2.62s'\n",
    "] # 7\n",
    "\n",
    "# lines = [\n",
    "# '2016-09-15 01:00:04.001 2.0s',\n",
    "# '2016-09-15 01:00:07.000 2s' \n",
    "# ] # 1"
   ]
  },
  {
   "cell_type": "code",
   "execution_count": 75,
   "metadata": {},
   "outputs": [],
   "source": [
    "def tofloat3(f):\n",
    "    g = int(f*1000)\n",
    "    remain = f*1000-g\n",
    "    if remain>0.999:\n",
    "        g+=1\n",
    "    return g/1000        "
   ]
  },
  {
   "cell_type": "code",
   "execution_count": 82,
   "metadata": {},
   "outputs": [
    {
     "name": "stdout",
     "output_type": "stream",
     "text": [
      "[[1473940797.053, 1, 1473940798.233, 'S'], [1473940797.071, 0, 1473940797.421, 'S'], [1473940797.421, 0, 1473940797.421, 'E'], [1473940797.5, 2, 1473940798.299, 'S'], [1473940797.648, 3, 1473940798.688, 'S'], [1473940798.18, 4, 1473940799.591, 'S'], [1473940798.233, 1, 1473940798.233, 'E'], [1473940798.299, 2, 1473940798.299, 'E'], [1473940798.439, 7, 1473940800.748, 'S'], [1473940798.688, 3, 1473940798.688, 'E'], [1473940798.999, 5, 1473940800.464, 'S'], [1473940799.161, 6, 1473940800.741, 'S'], [1473940799.447, 9, 1473940802.066, 'S'], [1473940799.591, 4, 1473940799.591, 'E'], [1473940800.464, 5, 1473940800.464, 'E'], [1473940800.586, 8, 1473940800.966, 'S'], [1473940800.741, 6, 1473940800.741, 'E'], [1473940800.748, 7, 1473940800.748, 'E'], [1473940800.966, 8, 1473940800.966, 'E'], [1473940802.065, 9, 1473940802.066, 'C'], [1473940802.066, 9, 1473940802.066, 'E']]\n"
     ]
    }
   ],
   "source": [
    "input = lines\n",
    "\n",
    "logtime = []\n",
    "evttime = []\n",
    "for i, s in enumerate(input):\n",
    "    t1, dur = parse(s)\n",
    "    ts = datetime.strptime(t1, '%Y-%m-%d %H:%M:%S.%f').timestamp()\n",
    "    ts1 = ts - float(dur)+0.001\n",
    "    ts1 = tofloat3(ts1)\n",
    "    ts2 = ts\n",
    "    logtime.append( (ts1, ts2) )\n",
    "#     print((ts1, ts2))\n",
    "    evttime.append([ts1, i, ts2, 'S'])\n",
    "    evttime.append([ts2, i, ts2, 'E'])\n",
    "evttime.sort()\n",
    "lastitem = evttime[-1]\n",
    "evttime.insert(len(evttime)-1,[lastitem[0]-0.001, lastitem[1], lastitem[2], 'C'])\n",
    "print(evttime)"
   ]
  },
  {
   "cell_type": "code",
   "execution_count": 62,
   "metadata": {},
   "outputs": [
    {
     "name": "stdout",
     "output_type": "stream",
     "text": [
      "7\n",
      "11\n"
     ]
    }
   ],
   "source": [
    "maxcnt=0\n",
    "curcnt=0\n",
    "maxi = 0\n",
    "for i,t in enumerate(evttime):\n",
    "    # t-1 ~ t range in?\n",
    "    # time out 3sec.\n",
    "    j=i\n",
    "    workset=set()\n",
    "    while True:\n",
    "        if evttime[j][2] < t[0]-4:\n",
    "            break\n",
    "        j -= 1\n",
    "        if j<=0:\n",
    "            j=0\n",
    "            break\n",
    "    for k in range(j, i+1):\n",
    "        if  evttime[k][3]=='S' :\n",
    "            workset.add(evttime[k][1])\n",
    "        else:\n",
    "            if evttime[k][0] <= t[0]-1:\n",
    "                workset.discard(evttime[k][1])\n",
    "    if maxcnt<len(workset):\n",
    "        maxcnt = len(workset)\n",
    "        maxi = i       \n",
    "print(maxcnt)\n",
    "print(maxi)"
   ]
  },
  {
   "cell_type": "code",
   "execution_count": 49,
   "metadata": {},
   "outputs": [],
   "source": [
    "def solution(lines):\n",
    "    answer = 0\n",
    "    input = lines\n",
    "    \n",
    "    maxcnt=0\n",
    "    curcnt=0\n",
    "    maxi = 0\n",
    "    for i,t in enumerate(evttime):\n",
    "        # t-1 ~ t range in?\n",
    "        # time out 3sec.\n",
    "        j=i\n",
    "        workset=set()\n",
    "        while True:\n",
    "            if evttime[j][2] < t[0]-4:\n",
    "                break\n",
    "            j -= 1\n",
    "            if j<=0:\n",
    "                j=0\n",
    "                break\n",
    "        for k in range(j, i+1):\n",
    "            if  evttime[k][3]=='S' :\n",
    "                workset.add(evttime[k][1])\n",
    "            elif evttime[k][3]=='E' :\n",
    "                if evttime[k][0] <= t[0]-1:\n",
    "                    workset.discard(evttime[k][1])\n",
    "        if maxcnt<len(workset):\n",
    "            maxcnt = len(workset)\n",
    "            maxi = i       \n",
    "    answer = maxcnt\n",
    "    return answer"
   ]
  },
  {
   "cell_type": "code",
   "execution_count": null,
   "metadata": {},
   "outputs": [],
   "source": []
  },
  {
   "cell_type": "code",
   "execution_count": 63,
   "metadata": {},
   "outputs": [],
   "source": [
    "from datetime import datetime\n",
    "bdebug = False\n",
    "import numpy as np\n",
    "import locale\n",
    "\n",
    "def tofloat3(f):\n",
    "    g = int(f*1000)\n",
    "    remain = f*1000-g\n",
    "    if remain>0.999:\n",
    "        g+=1\n",
    "    return g/1000        \n",
    "\n",
    "def parse(s):\n",
    "    t = s[:23]\n",
    "    k = s[24:].find('s')\n",
    "    t2 = s[24:24+k]\n",
    "    return t, t2\n",
    "\n",
    "def solution(lines):\n",
    "    answer = 0\n",
    "    input = lines\n",
    "\n",
    "    logtime = []\n",
    "    evttime = []\n",
    "    for i, s in enumerate(input):\n",
    "        t1, dur = parse(s)\n",
    "        ts = datetime.strptime(t1, '%Y-%m-%d %H:%M:%S.%f').timestamp()\n",
    "        ts1 = ts - float(dur)+0.001\n",
    "        ts1 = tofloat3(ts1)\n",
    "        ts2 = ts\n",
    "        logtime.append( (ts1, ts2) )\n",
    "        if bdebug:\n",
    "            print((ts1, ts2))\n",
    "        evttime.append([ts1, i, ts2, 'S'])\n",
    "        evttime.append([ts1+0.01, i, ts2, 'C']) # test9\n",
    "        evttime.append([ts2-0.01, i, ts2, 'C']) # no need\n",
    "        evttime.append([ts2, i, ts2, 'E'])\n",
    "    evttime.sort()\n",
    "    # lastitem = evttime[-1]\n",
    "    # evttime.insert(len(evttime)-1,[lastitem[0]-0.001, lastitem[1], lastitem[2], 'C'])\n",
    "    \n",
    "    curcnt=0\n",
    "    maxi = 0\n",
    "    maxcnt=0\n",
    "    for i,t in enumerate(evttime):\n",
    "        # t-1 ~ t range in?\n",
    "        # time out 3sec.\n",
    "        j=i\n",
    "        workset=set()\n",
    "        while True:\n",
    "            if evttime[j][2] < t[0]-4:\n",
    "                break\n",
    "            j -= 1\n",
    "            if j<=0:\n",
    "                j=0\n",
    "                break\n",
    "        for k in range(j, i+1):\n",
    "            if  evttime[k][3]=='S' :\n",
    "                workset.add(evttime[k][1])\n",
    "            elif evttime[k][3]=='E' :\n",
    "                if evttime[k][0] <= t[0]-1:\n",
    "                    workset.discard(evttime[k][1])\n",
    "        if maxcnt<len(workset):\n",
    "            maxcnt = len(workset)\n",
    "            maxi = i       \n",
    "    return maxcnt"
   ]
  },
  {
   "cell_type": "code",
   "execution_count": null,
   "metadata": {},
   "outputs": [],
   "source": []
  }
 ],
 "metadata": {
  "kernelspec": {
   "display_name": "py37",
   "language": "python",
   "name": "py37"
  },
  "language_info": {
   "codemirror_mode": {
    "name": "ipython",
    "version": 3
   },
   "file_extension": ".py",
   "mimetype": "text/x-python",
   "name": "python",
   "nbconvert_exporter": "python",
   "pygments_lexer": "ipython3",
   "version": "3.7.3"
  }
 },
 "nbformat": 4,
 "nbformat_minor": 2
}
