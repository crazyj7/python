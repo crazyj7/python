{
 "cells": [
  {
   "cell_type": "code",
   "execution_count": null,
   "metadata": {},
   "outputs": [],
   "source": []
  },
  {
   "cell_type": "code",
   "execution_count": null,
   "metadata": {},
   "outputs": [],
   "source": []
  },
  {
   "cell_type": "code",
   "execution_count": 1,
   "metadata": {},
   "outputs": [],
   "source": [
    "cnt=0\n",
    "def recur_div(depth, n):\n",
    "\tglobal cnt\n",
    "\tif n==0:\n",
    "\t\tcnt+=1\n",
    "\t\treturn\n",
    "\trecur_div(depth+1, n-1)\n",
    "\tif n>1:\n",
    "\t\trecur_div(depth+1, n-2)\n",
    "\n",
    "def solution(n):\n",
    "    global cnt\n",
    "    cnt=0\n",
    "    answer = 0\n",
    "    recur_div(0, n)\n",
    "    answer = cnt %  1000000007\n",
    "    print(answer)\n",
    "    return answer"
   ]
  },
  {
   "cell_type": "code",
   "execution_count": 2,
   "metadata": {},
   "outputs": [
    {
     "name": "stdout",
     "output_type": "stream",
     "text": [
      "2\n",
      "i= 2 2\n",
      "3\n",
      "i= 3 3\n",
      "5\n",
      "i= 4 5\n",
      "8\n",
      "i= 5 8\n",
      "13\n",
      "i= 6 13\n",
      "21\n",
      "i= 7 21\n",
      "34\n",
      "i= 8 34\n",
      "55\n",
      "i= 9 55\n"
     ]
    }
   ],
   "source": [
    "for i in range(2,10):\n",
    "    print('i=',i, solution(i))"
   ]
  },
  {
   "cell_type": "code",
   "execution_count": 3,
   "metadata": {},
   "outputs": [],
   "source": [
    "# solution(100)을 하면 성능저하가 크다.\n",
    "# 위 수를 보면 피보나치 수열이다. "
   ]
  },
  {
   "cell_type": "code",
   "execution_count": 11,
   "metadata": {},
   "outputs": [],
   "source": [
    "def fibo(n):\n",
    "    a1,a2,a3=1,1,0\n",
    "    for i in range(n-1):\n",
    "        a3=a1+a2\n",
    "        a1,a2=a2,a3\n",
    "    return a3"
   ]
  },
  {
   "cell_type": "code",
   "execution_count": 12,
   "metadata": {},
   "outputs": [
    {
     "data": {
      "text/plain": [
       "55"
      ]
     },
     "execution_count": 12,
     "metadata": {},
     "output_type": "execute_result"
    }
   ],
   "source": [
    "fibo(9)"
   ]
  },
  {
   "cell_type": "code",
   "execution_count": 13,
   "metadata": {},
   "outputs": [
    {
     "data": {
      "text/plain": [
       "573147844013817084101"
      ]
     },
     "execution_count": 13,
     "metadata": {},
     "output_type": "execute_result"
    }
   ],
   "source": [
    "fibo(100)"
   ]
  },
  {
   "cell_type": "code",
   "execution_count": null,
   "metadata": {},
   "outputs": [],
   "source": []
  }
 ],
 "metadata": {
  "kernelspec": {
   "display_name": "py37",
   "language": "python",
   "name": "py37"
  },
  "language_info": {
   "codemirror_mode": {
    "name": "ipython",
    "version": 3
   },
   "file_extension": ".py",
   "mimetype": "text/x-python",
   "name": "python",
   "nbconvert_exporter": "python",
   "pygments_lexer": "ipython3",
   "version": "3.7.3"
  }
 },
 "nbformat": 4,
 "nbformat_minor": 2
}
