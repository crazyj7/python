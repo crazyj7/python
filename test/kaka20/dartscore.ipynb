{
 "cells": [
  {
   "cell_type": "code",
   "execution_count": 1,
   "metadata": {},
   "outputs": [],
   "source": [
    "import numpy as np"
   ]
  },
  {
   "cell_type": "code",
   "execution_count": null,
   "metadata": {},
   "outputs": [],
   "source": []
  },
  {
   "cell_type": "code",
   "execution_count": 17,
   "metadata": {},
   "outputs": [],
   "source": [
    "dartResult=\"1S2D*3T\""
   ]
  },
  {
   "cell_type": "code",
   "execution_count": 18,
   "metadata": {},
   "outputs": [],
   "source": [
    "\n",
    "def getterm(data, startidx):\n",
    "    num=[]\n",
    "    gop='S'\n",
    "    opt=' '\n",
    "    i=startidx\n",
    "    if len(data)<=startidx:\n",
    "        return 0, 0, ' ', ' '\n",
    "    # digit\n",
    "    while i<len(data):\n",
    "        if data[i].isdigit():\n",
    "            num.append(data[i])\n",
    "            i+=1\n",
    "        else:\n",
    "            break\n",
    "    gop=data[i]  # S,D,T\n",
    "    i+=1\n",
    "    if i<len(data):\n",
    "        if not data[i].isdigit():\n",
    "            opt=data[i]\n",
    "            i+=1\n",
    "    num = int(''.join(num))\n",
    "    return i, num, gop, opt\n",
    "               "
   ]
  },
  {
   "cell_type": "code",
   "execution_count": 23,
   "metadata": {},
   "outputs": [
    {
     "name": "stdout",
     "output_type": "stream",
     "text": [
      "1 S  \n",
      "2 D *\n",
      "3 T  \n",
      "[2, 8, 27]\n",
      "37\n"
     ]
    }
   ],
   "source": [
    "i=0\n",
    "cal=[]\n",
    "index=0\n",
    "while True:\n",
    "    i, num, gop, opt = getterm(dartResult, i)\n",
    "    if i==0:\n",
    "        break\n",
    "    print(num, gop, opt)\n",
    "    if gop=='S':\n",
    "        nth=1\n",
    "    elif gop=='D':\n",
    "        nth=2\n",
    "    elif gop=='T':\n",
    "        nth=3\n",
    "    cal.append( num**nth )\n",
    "    if opt=='*':\n",
    "        cal[index] *= 2\n",
    "        if index-1>=0:\n",
    "            cal[index-1] *= 2\n",
    "    elif opt=='#':\n",
    "        cal[index] *= (-1)\n",
    "    index+=1\n",
    "print(cal)\n",
    "print(sum(cal))"
   ]
  },
  {
   "cell_type": "code",
   "execution_count": null,
   "metadata": {},
   "outputs": [],
   "source": []
  },
  {
   "cell_type": "code",
   "execution_count": null,
   "metadata": {},
   "outputs": [],
   "source": []
  }
 ],
 "metadata": {
  "kernelspec": {
   "display_name": "py37",
   "language": "python",
   "name": "py37"
  },
  "language_info": {
   "codemirror_mode": {
    "name": "ipython",
    "version": 3
   },
   "file_extension": ".py",
   "mimetype": "text/x-python",
   "name": "python",
   "nbconvert_exporter": "python",
   "pygments_lexer": "ipython3",
   "version": "3.7.3"
  }
 },
 "nbformat": 4,
 "nbformat_minor": 2
}
