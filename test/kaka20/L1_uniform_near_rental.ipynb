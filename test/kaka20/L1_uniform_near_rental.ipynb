{
 "cells": [
  {
   "cell_type": "code",
   "execution_count": null,
   "metadata": {},
   "outputs": [],
   "source": []
  },
  {
   "cell_type": "code",
   "execution_count": 1,
   "metadata": {},
   "outputs": [],
   "source": [
    "# 한 칸 옆으로만 대여가 가능.\n",
    "# 여분은 한 개 밖에 없다. 좌나 우 둘 중 하나만 줄 수 있다.\n",
    "# 연달아 전달은 안됨."
   ]
  },
  {
   "cell_type": "code",
   "execution_count": null,
   "metadata": {},
   "outputs": [],
   "source": [
    "# 5\t[2, 4]\t[1, 3, 5]\t5\n",
    "# 5명이 있고, 옷없는 사람이 2,4번. 여분있는 사람은 1,3,5번.\n",
    "# 1->2, 3->4. 하면 5명 모두 가능."
   ]
  },
  {
   "cell_type": "code",
   "execution_count": null,
   "metadata": {},
   "outputs": [],
   "source": [
    "# 추가고려사항\n",
    "# 1 2 3 4 5  [3,5] [2,4]\n",
    "# 3번이 부족하다. 좌측에서 빌릴수 있는지 확인?\n",
    "# 빌릴수 있으면 빌린다. \n",
    "# 못빌렸음 우측에서 빌릴수 있는지 확인하여 빌린다.\n",
    "# 이렇게만 하면 되나?\n",
    "# 왼쪽에서 못빌리고 우측으로 빌렸을 때 우측은 빌려줄수 있었는데\n",
    "# 우측이 우측으로 빌려줘서 없다???\n",
    "# 1 2 3 4 5  [2,4] [3,5]\n",
    "# 이 경우 4가 3에게 빌린다. 2는 3에게 빌릴수 있었는데, 못 빌린 상태가 된다.\n",
    "# 4는 3이 아니라 5에게 빌리는게 맞다. 그래야 2가 3에게 빌릴 수 있게 된다.\n",
    "# 즉,교차 연속된 케이스의 경우는 순서가 존재한다. \n",
    "# 2,3,4,5 연속에서 좌측이 여분이면 좌측부터 빌리고, 여분이 우측이면 우측부터 빌린다.\n",
    "# 교차가 아니면\n",
    "# 1 2 3 4 5 [1,2] [3,4]\n",
    "# 빌리기 포기 케이스 ; 1은 좌우가 없음.\n",
    "# 안되는얘들 제거한다. 1제거, 4제거 (빌려주기 포기.)\n",
    "# reserve-1 hit test.\n",
    "# [3,5,8][2,4,9] \n",
    "# reserve-1 [1,3,8] ; \n",
    "# [1,0,1]\n",
    "# reserve+1 [3,5,10] ; \n",
    "# [1,1,0]\n",
    "# 둘을 합치면 [2,1]이 된다. 우선순위를 낮은값으로한다. "
   ]
  },
  {
   "cell_type": "code",
   "execution_count": 21,
   "metadata": {},
   "outputs": [],
   "source": [
    "def solution(n, lost, reserve):\n",
    "    lost = set(lost)  # 옷 없는 얘\n",
    "    reserve = set(reserve) # 여분 있는 얘\n",
    "    answer = 0\n",
    "    fail = {} # 빌릴수 없는 얘\n",
    "    lend = {} # 빌린얘\n",
    "    rfail2 = {} # 빌려줄 수 없는 얘\n",
    "    # 넌 못 빌려\n",
    "    for x in lost:\n",
    "        if x-1 not in reserve and x+1 not in reserve:\n",
    "            fail.append(x)\n",
    "            \n",
    "    # 넌 못 빌려줘.\n",
    "    for y in reserve:\n",
    "        if y-1 not in lost and y+1 not in lost:\n",
    "            rfail2.append(y)\n",
    "            \n",
    "    # 빌려주기 가능한 범위  \n",
    "    print('fail=', fail)\n",
    "    print('rfail2=', rfail2)\n",
    "    lost = lost.difference(fail)\n",
    "    reserve = reserve.difference(rfail2)\n",
    "    print('lost=', lost)\n",
    "    print('reserve=', reserve)\n",
    "    \n",
    "    for x in lost:\n",
    "        # 양쪽에서 빌릴 수 있다?\n",
    "        #양쪽에서 빌릴수있는 케이스면 어느쪽이 더 효율적일지 상대배려...\n",
    "        if x-1 in reserve and x+1 in reserve:\n",
    "            print('L or R ??', x)\n",
    "            # 왼쪽으로 가면서 부족한 얘들이 있는지.\n",
    "            # 오른쪽으로 가면서 부족한 얘들이 있는지...\n",
    "            \n",
    "        # 왼쪽에서 lend?\n",
    "        elif x-1 in reserve:\n",
    "            print('L', x)\n",
    "            lend.add(x)\n",
    "            reserve.remove(x-1)\n",
    "            \n",
    "        # 오른쪽에서 lend?\n",
    "        elif x+1 in reserve:\n",
    "            print('R', x)\n",
    "            lend.add(x)\n",
    "            reserve.remove(x+1)\n",
    "    \n",
    "    print('lend ok=', lend)\n",
    "    print('cannot lend count=', len(lost)-len(lend))\n",
    "        \n",
    "    return answer"
   ]
  },
  {
   "cell_type": "code",
   "execution_count": 22,
   "metadata": {},
   "outputs": [
    {
     "name": "stdout",
     "output_type": "stream",
     "text": [
      "fail= {}\n",
      "rfail2= {}\n",
      "lost= {2, 4}\n",
      "reserve= {1, 3, 5}\n",
      "L or R ?? 2\n",
      "L or R ?? 4\n",
      "lend= {}\n",
      "cannot lend= 2\n"
     ]
    },
    {
     "data": {
      "text/plain": [
       "0"
      ]
     },
     "execution_count": 22,
     "metadata": {},
     "output_type": "execute_result"
    }
   ],
   "source": [
    "\n",
    "n = 5\n",
    "lost = [2,4]\n",
    "reserve=[1,3,5]\n",
    "solution(n, lost, reserve)"
   ]
  },
  {
   "cell_type": "code",
   "execution_count": null,
   "metadata": {},
   "outputs": [],
   "source": []
  }
 ],
 "metadata": {
  "kernelspec": {
   "display_name": "py37",
   "language": "python",
   "name": "py37"
  },
  "language_info": {
   "codemirror_mode": {
    "name": "ipython",
    "version": 3
   },
   "file_extension": ".py",
   "mimetype": "text/x-python",
   "name": "python",
   "nbconvert_exporter": "python",
   "pygments_lexer": "ipython3",
   "version": "3.7.3"
  }
 },
 "nbformat": 4,
 "nbformat_minor": 2
}
