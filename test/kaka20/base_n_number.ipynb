{
 "cells": [
  {
   "cell_type": "code",
   "execution_count": 1,
   "metadata": {},
   "outputs": [],
   "source": [
    "import numpy as np"
   ]
  },
  {
   "cell_type": "code",
   "execution_count": null,
   "metadata": {},
   "outputs": [],
   "source": []
  },
  {
   "cell_type": "code",
   "execution_count": 36,
   "metadata": {},
   "outputs": [],
   "source": [
    "def baseN(number, base):\n",
    "    if number==0:\n",
    "        return '0'\n",
    "    s=[]\n",
    "    while number>0:\n",
    "        d = number%base\n",
    "        if d>=10:\n",
    "            d=chr(d-10+65)\n",
    "        else:\n",
    "            d=str(d)\n",
    "        s.append(d)\n",
    "        number=number//base\n",
    "    s.reverse()\n",
    "    return ''.join(s)\n",
    "        "
   ]
  },
  {
   "cell_type": "code",
   "execution_count": 37,
   "metadata": {},
   "outputs": [
    {
     "data": {
      "text/plain": [
       "'0'"
      ]
     },
     "execution_count": 37,
     "metadata": {},
     "output_type": "execute_result"
    }
   ],
   "source": [
    "baseN(0,16)"
   ]
  },
  {
   "cell_type": "code",
   "execution_count": 25,
   "metadata": {},
   "outputs": [
    {
     "data": {
      "text/plain": [
       "'11111111'"
      ]
     },
     "execution_count": 25,
     "metadata": {},
     "output_type": "execute_result"
    }
   ],
   "source": [
    "baseN(255,2)"
   ]
  },
  {
   "cell_type": "code",
   "execution_count": 45,
   "metadata": {},
   "outputs": [],
   "source": [
    "def baseN(number, base):\n",
    "    if number==0:\n",
    "        return '0'\n",
    "    s=[]\n",
    "    while number>0:\n",
    "        d = number%base\n",
    "        if d>=10:\n",
    "            d=chr(d-10+65)\n",
    "        else:\n",
    "            d=str(d)\n",
    "        s.append(d)\n",
    "        number=number//base\n",
    "    s.reverse()\n",
    "    return ''.join(s)\n",
    "        \n",
    "\n",
    "def solution(n, t, m, p):\n",
    "    answer = ''\n",
    "    \n",
    "    # 진법 n, 미리 구할 숫자의 갯수 t, 게임에 참가하는 인원 m, 튜브의 순서 p\n",
    "    cnt=0\n",
    "    found=[]\n",
    "    stream=[]\n",
    "    streamstartidx=0\n",
    "    i=0\n",
    "    while cnt<t:\n",
    "        while len(stream)+streamstartidx < m*cnt+p: \n",
    "            bn = baseN(i, n)\n",
    "            stream.extend(list(bn))\n",
    "            i+=1\n",
    "            # print('stream=', stream)\n",
    "        # print('idx=',m*cnt+p-streamstartidx-1 )\n",
    "        found.append(stream[m*cnt+p-streamstartidx-1])\n",
    "        # print(found)\n",
    "        cnt+=1\n",
    "        streamstartidx += len(stream)\n",
    "        stream=[]\n",
    "    # print(found)\n",
    "    answer = ''.join(found)\n",
    "    \n",
    "    return answer"
   ]
  },
  {
   "cell_type": "code",
   "execution_count": 47,
   "metadata": {},
   "outputs": [
    {
     "name": "stdout",
     "output_type": "stream",
     "text": [
      "stream= ['0']\n",
      "idx= 0\n",
      "['0']\n",
      "stream= ['1']\n",
      "stream= ['1', '1', '0']\n",
      "idx= 1\n",
      "['0', '1']\n",
      "stream= ['1', '1']\n",
      "idx= 0\n",
      "['0', '1', '1']\n",
      "stream= ['1', '0', '0']\n",
      "idx= 0\n",
      "['0', '1', '1', '1']\n",
      "['0', '1', '1', '1']\n"
     ]
    },
    {
     "data": {
      "text/plain": [
       "''"
      ]
     },
     "execution_count": 47,
     "metadata": {},
     "output_type": "execute_result"
    }
   ],
   "source": [
    "solution(2,4,2,1)"
   ]
  },
  {
   "cell_type": "code",
   "execution_count": 48,
   "metadata": {},
   "outputs": [
    {
     "name": "stdout",
     "output_type": "stream",
     "text": [
      "stream= ['0']\n",
      "idx= 0\n",
      "['0']\n",
      "stream= ['1']\n",
      "stream= ['1', '2']\n",
      "idx= 1\n",
      "['0', '2']\n",
      "stream= ['3']\n",
      "stream= ['3', '4']\n",
      "idx= 1\n",
      "['0', '2', '4']\n",
      "stream= ['5']\n",
      "stream= ['5', '6']\n",
      "idx= 1\n",
      "['0', '2', '4', '6']\n",
      "stream= ['7']\n",
      "stream= ['7', '8']\n",
      "idx= 1\n",
      "['0', '2', '4', '6', '8']\n",
      "stream= ['9']\n",
      "stream= ['9', 'A']\n",
      "idx= 1\n",
      "['0', '2', '4', '6', '8', 'A']\n",
      "stream= ['B']\n",
      "stream= ['B', 'C']\n",
      "idx= 1\n",
      "['0', '2', '4', '6', '8', 'A', 'C']\n",
      "stream= ['D']\n",
      "stream= ['D', 'E']\n",
      "idx= 1\n",
      "['0', '2', '4', '6', '8', 'A', 'C', 'E']\n",
      "stream= ['F']\n",
      "stream= ['F', '1', '0']\n",
      "idx= 1\n",
      "['0', '2', '4', '6', '8', 'A', 'C', 'E', '1']\n",
      "stream= ['1', '1']\n",
      "idx= 0\n",
      "['0', '2', '4', '6', '8', 'A', 'C', 'E', '1', '1']\n",
      "stream= ['1', '2']\n",
      "idx= 0\n",
      "['0', '2', '4', '6', '8', 'A', 'C', 'E', '1', '1', '1']\n",
      "stream= ['1', '3']\n",
      "idx= 0\n",
      "['0', '2', '4', '6', '8', 'A', 'C', 'E', '1', '1', '1', '1']\n",
      "stream= ['1', '4']\n",
      "idx= 0\n",
      "['0', '2', '4', '6', '8', 'A', 'C', 'E', '1', '1', '1', '1', '1']\n",
      "stream= ['1', '5']\n",
      "idx= 0\n",
      "['0', '2', '4', '6', '8', 'A', 'C', 'E', '1', '1', '1', '1', '1', '1']\n",
      "stream= ['1', '6']\n",
      "idx= 0\n",
      "['0', '2', '4', '6', '8', 'A', 'C', 'E', '1', '1', '1', '1', '1', '1', '1']\n",
      "stream= ['1', '7']\n",
      "idx= 0\n",
      "['0', '2', '4', '6', '8', 'A', 'C', 'E', '1', '1', '1', '1', '1', '1', '1', '1']\n",
      "['0', '2', '4', '6', '8', 'A', 'C', 'E', '1', '1', '1', '1', '1', '1', '1', '1']\n"
     ]
    },
    {
     "data": {
      "text/plain": [
       "''"
      ]
     },
     "execution_count": 48,
     "metadata": {},
     "output_type": "execute_result"
    }
   ],
   "source": [
    "solution(16,16,2,1)"
   ]
  },
  {
   "cell_type": "code",
   "execution_count": null,
   "metadata": {},
   "outputs": [],
   "source": []
  },
  {
   "cell_type": "code",
   "execution_count": null,
   "metadata": {},
   "outputs": [],
   "source": []
  }
 ],
 "metadata": {
  "kernelspec": {
   "display_name": "py37",
   "language": "python",
   "name": "py37"
  },
  "language_info": {
   "codemirror_mode": {
    "name": "ipython",
    "version": 3
   },
   "file_extension": ".py",
   "mimetype": "text/x-python",
   "name": "python",
   "nbconvert_exporter": "python",
   "pygments_lexer": "ipython3",
   "version": "3.7.3"
  }
 },
 "nbformat": 4,
 "nbformat_minor": 2
}
