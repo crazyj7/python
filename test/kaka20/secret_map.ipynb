{
 "cells": [
  {
   "cell_type": "code",
   "execution_count": 1,
   "metadata": {},
   "outputs": [],
   "source": [
    "import numpy as np"
   ]
  },
  {
   "cell_type": "code",
   "execution_count": 5,
   "metadata": {},
   "outputs": [
    {
     "data": {
      "text/plain": [
       "'001010'"
      ]
     },
     "execution_count": 5,
     "metadata": {},
     "output_type": "execute_result"
    }
   ],
   "source": [
    "'{0:06b}'.format(10)"
   ]
  },
  {
   "cell_type": "code",
   "execution_count": 15,
   "metadata": {},
   "outputs": [
    {
     "data": {
      "text/plain": [
       "array([[0, 0, 0],\n",
       "       [0, 0, 0],\n",
       "       [0, 0, 0]], dtype=int8)"
      ]
     },
     "execution_count": 15,
     "metadata": {},
     "output_type": "execute_result"
    }
   ],
   "source": [
    "np.zeros((3,3), dtype=np.int8)"
   ]
  },
  {
   "cell_type": "code",
   "execution_count": 29,
   "metadata": {},
   "outputs": [],
   "source": [
    "def arrtomat(n, arr):\n",
    "    bitmap = np.zeros((n,n), dtype=np.int8)\n",
    "    fs = '{0:0'+str(n)+'b}'\n",
    "    for i,x in enumerate(arr):\n",
    "        bs = fs.format(x)\n",
    "#         print(bs)\n",
    "        for j,bit in enumerate(bs):\n",
    "            if bit=='1':\n",
    "                bitmap[i][j]=1\n",
    "    print(bitmap)\n",
    "    return bitmap                \n",
    "            "
   ]
  },
  {
   "cell_type": "code",
   "execution_count": 51,
   "metadata": {},
   "outputs": [],
   "source": [
    "def mattostar(bit):\n",
    "    r, c = bit.shape\n",
    "    ret=[]\n",
    "    for row in bit:\n",
    "        line=[]\n",
    "        for c in row:\n",
    "            if c==1:\n",
    "                line.append('#')\n",
    "            else:\n",
    "                line.append(' ')\n",
    "        ret.append(''.join(line))\n",
    "    return ret\n",
    "    "
   ]
  },
  {
   "cell_type": "code",
   "execution_count": 52,
   "metadata": {},
   "outputs": [
    {
     "data": {
      "text/plain": [
       "['#####', '# # #', '### #', '#  ##', '#####']"
      ]
     },
     "execution_count": 52,
     "metadata": {},
     "output_type": "execute_result"
    }
   ],
   "source": [
    "mattostar(x)"
   ]
  },
  {
   "cell_type": "code",
   "execution_count": 53,
   "metadata": {},
   "outputs": [],
   "source": [
    "def solution(n, arr1, arr2):\n",
    "    answer = []\n",
    "    bitmap1 = arrtomat(n, arr1)\n",
    "    bitmap2 = arrtomat(n, arr2)\n",
    "    bitor = np.bitwise_or(bitmap1, bitmap2)\n",
    "#     print(bitor)\n",
    "    answer = mattostar(bitor)\n",
    "    return answer"
   ]
  },
  {
   "cell_type": "code",
   "execution_count": 54,
   "metadata": {},
   "outputs": [
    {
     "name": "stdout",
     "output_type": "stream",
     "text": [
      "[[0 1 0 0 1]\n",
      " [1 0 1 0 0]\n",
      " [1 1 1 0 0]\n",
      " [1 0 0 1 0]\n",
      " [0 1 0 1 1]]\n",
      "[[1 1 1 1 0]\n",
      " [0 0 0 0 1]\n",
      " [1 0 1 0 1]\n",
      " [1 0 0 0 1]\n",
      " [1 1 1 0 0]]\n"
     ]
    }
   ],
   "source": [
    "x=solution(5, [9, 20, 28, 18, 11], [30, 1, 21, 17, 28])"
   ]
  },
  {
   "cell_type": "code",
   "execution_count": 35,
   "metadata": {},
   "outputs": [
    {
     "data": {
      "text/plain": [
       "array([[1, 1, 1, 1, 1],\n",
       "       [1, 0, 1, 0, 1],\n",
       "       [1, 1, 1, 0, 1],\n",
       "       [1, 0, 0, 1, 1],\n",
       "       [1, 1, 1, 1, 1]], dtype=int8)"
      ]
     },
     "execution_count": 35,
     "metadata": {},
     "output_type": "execute_result"
    }
   ],
   "source": [
    "x"
   ]
  },
  {
   "cell_type": "code",
   "execution_count": null,
   "metadata": {},
   "outputs": [],
   "source": []
  }
 ],
 "metadata": {
  "kernelspec": {
   "display_name": "py37",
   "language": "python",
   "name": "py37"
  },
  "language_info": {
   "codemirror_mode": {
    "name": "ipython",
    "version": 3
   },
   "file_extension": ".py",
   "mimetype": "text/x-python",
   "name": "python",
   "nbconvert_exporter": "python",
   "pygments_lexer": "ipython3",
   "version": "3.7.3"
  }
 },
 "nbformat": 4,
 "nbformat_minor": 2
}
