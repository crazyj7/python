{
 "cells": [
  {
   "cell_type": "code",
   "execution_count": 1,
   "metadata": {},
   "outputs": [],
   "source": [
    "import numpy as np\n",
    "import os, sys"
   ]
  },
  {
   "cell_type": "code",
   "execution_count": 2,
   "metadata": {},
   "outputs": [],
   "source": [
    "# 진법 표시\n",
    "def number_base(num, b):\n",
    "    d = []\n",
    "    while True:\n",
    "        q = num // b\n",
    "        r = num % b\n",
    "        r2=r\n",
    "        if r>=10:\n",
    "            r2=chr(ord('A')+(r-10))\n",
    "        d.append(r2)\n",
    "        if q==0 :\n",
    "            break\n",
    "        num=q\n",
    "    d.reverse()\n",
    "    \n",
    "    return ''.join( str(x) for x in d )"
   ]
  },
  {
   "cell_type": "code",
   "execution_count": 3,
   "metadata": {},
   "outputs": [
    {
     "name": "stdout",
     "output_type": "stream",
     "text": [
      "10100\n",
      "202\n",
      "24\n",
      "14\n",
      "1F\n"
     ]
    }
   ],
   "source": [
    "print( number_base(20,2) )\n",
    "print ( number_base(20, 3) )\n",
    "print ( number_base(20, 8) )\n",
    "print ( number_base(20, 16) )\n",
    "print ( number_base(31, 16) )\n"
   ]
  },
  {
   "cell_type": "code",
   "execution_count": 9,
   "metadata": {
    "scrolled": true
   },
   "outputs": [
    {
     "name": "stdout",
     "output_type": "stream",
     "text": [
      "    0    1    2\n",
      "   10   11   12   20   21   22\n",
      "  100  101  102  110  111  112  120  121  122  200  201  202  210  211  212  220  221  222\n",
      " 1000 1001 1002 1010 1011 1012 1020 1021 1022 1100 1101 1102 1110 1111 1112 1120 1121 1122 1200 1201 1202 1210 1211"
     ]
    }
   ],
   "source": [
    "# 3진법의 특성 파악.\n",
    "oldlen=1\n",
    "for i in range(50):\n",
    "    num3=number_base(i, 3)\n",
    "    if len(num3)!=oldlen:\n",
    "        print('')\n",
    "        oldlen = len(num3)\n",
    "    print(\"%05s\"%num3,sep=' ', end='')\n",
    "# 0부터 시작하고, \n",
    "# 마지막 자리 수는 0,1,2 의 반복.\n",
    "# 자리수가 늘경우, 시작되는 가장 앞 자리 수는 1, 2의 반복. (0은 없음.)\n",
    "# 가운데 숫자들도 0,1,2의 반복.\n",
    "# 3(10), 9(100), 27(1000), .. (가장 앞자리수)"
   ]
  },
  {
   "cell_type": "code",
   "execution_count": 10,
   "metadata": {},
   "outputs": [],
   "source": [
    "# 1.2.4진법.################################################################################################3\n",
    "# 0은 없음.\n",
    "# 1부터 시작.\n",
    "# 0=1, 1=2, 2=4, ; (3)\n",
    "# 3=11, 12, 14, #21, 22, 24, # 41, 42, 44. ; (9)\n",
    "# 12=111,112,114  15=121 122 124  141 142 144  # 21=211 22=212 214  221 222 224  241 242 244  # 411,412,414, 421,422,424  441,442,444 (27)\n",
    "# 1111, ...   \n",
    "\n",
    "    \n",
    "## 마지막 자리 수는 1,2,4의 반복. (상동)\n",
    "# 자리수가 늘면 가장 앞자리도, 1,2,4의 반복. (다른점!!!)\n",
    "# 가운데 숫자들도 1,2,4의 반복. (상동)\n",
    "#\n",
    "# 즉, 다른 점은 가장 앞자리 수다. 일반 진법은 0이 있기 때문에 앞의 0은 쓰지 않아도 된다. \n",
    "# 따라서 자리수에 해당되는 값들이 더 많다. "
   ]
  },
  {
   "cell_type": "code",
   "execution_count": 11,
   "metadata": {},
   "outputs": [],
   "source": [
    "# 앞자리의 규칙을 보면.\n",
    "# 3^1=3\n",
    "# prev + 3^2 = 12 \n",
    "# prev + 3^3 = 39\n",
    "# ...\n",
    "# 예) 22를 1.2.4로 변경.\n",
    "# grade로 자리수 판정. grade[2]=12 grade[3]=120, 두 사이의 값.\n",
    "# 자리수는 3이다. \n",
    "# 22-12 = 10 // grade를 뺀값이 0이면 000 => 111을 의미한다. \n",
    "# 10을 3진법으로 101 => 변경 212\n",
    "# 예) "
   ]
  },
  {
   "cell_type": "code",
   "execution_count": 15,
   "metadata": {},
   "outputs": [
    {
     "name": "stdout",
     "output_type": "stream",
     "text": [
      "500000000\n"
     ]
    }
   ],
   "source": [
    "n=500000000\n",
    "print(n)\n",
    "\n",
    "t=-1\n",
    "grade=[]\n",
    "for i in range(100):\n",
    "    t+=3**i\n",
    "    grade.append(t)\n",
    "    if t>n:\n",
    "        break \n",
    "print('i=', i)\n",
    "\n",
    "print(grade)"
   ]
  },
  {
   "cell_type": "code",
   "execution_count": 26,
   "metadata": {},
   "outputs": [],
   "source": [
    "grade=[0, 3, 12, 39, 120, 363, 1092, 3279, 9840, 29523, 88572, 265719, 797160, 2391483, 7174452, 21523359, 64570080, 193710243, 581130732]"
   ]
  },
  {
   "cell_type": "code",
   "execution_count": 34,
   "metadata": {},
   "outputs": [],
   "source": [
    "def number_124(num):\n",
    "    print('input num=', num)\n",
    "    for i,g in enumerate(grade):\n",
    "        if num<g:\n",
    "            break\n",
    "    num -= grade[i-1]\n",
    "    print('length=', i, 'firstval=', grade[i-1])\n",
    "    print('offset=', num)\n",
    "    num3 = number_base(num, 3)\n",
    "    print(num3)\n",
    "    if len(num3)<i:\n",
    "        num3 = '0'*(i-len(num3))+num3\n",
    "    print(num3)\n",
    "    num124 = num3.replace('2', '4')\n",
    "    num124 = num124.replace('1', '2')\n",
    "    num124 = num124.replace('0', '1')\n",
    "    return num124"
   ]
  },
  {
   "cell_type": "code",
   "execution_count": 37,
   "metadata": {},
   "outputs": [
    {
     "name": "stdout",
     "output_type": "stream",
     "text": [
      "input num= 22\n",
      "length= 3 firstval= 12\n",
      "offset= 10\n",
      "101\n",
      "101\n",
      "input num= 13\n",
      "length= 3 firstval= 12\n",
      "offset= 1\n",
      "1\n",
      "001\n",
      "input num= 0\n",
      "length= 1 firstval= 0\n",
      "offset= 0\n",
      "0\n",
      "0\n"
     ]
    },
    {
     "data": {
      "text/plain": [
       "'1'"
      ]
     },
     "execution_count": 37,
     "metadata": {},
     "output_type": "execute_result"
    }
   ],
   "source": [
    "number_124(22)\n",
    "number_124(13)\n",
    "number_124(1-1)"
   ]
  },
  {
   "cell_type": "code",
   "execution_count": 38,
   "metadata": {},
   "outputs": [],
   "source": [
    "def solution(n):\n",
    "    answer = ''\n",
    "    answer = number_124(n-1) # 1부터 시작하는 방식.\n",
    "    return answer"
   ]
  },
  {
   "cell_type": "code",
   "execution_count": null,
   "metadata": {},
   "outputs": [],
   "source": []
  }
 ],
 "metadata": {
  "kernelspec": {
   "display_name": "py37",
   "language": "python",
   "name": "py37"
  },
  "language_info": {
   "codemirror_mode": {
    "name": "ipython",
    "version": 3
   },
   "file_extension": ".py",
   "mimetype": "text/x-python",
   "name": "python",
   "nbconvert_exporter": "python",
   "pygments_lexer": "ipython3",
   "version": "3.7.3"
  }
 },
 "nbformat": 4,
 "nbformat_minor": 2
}
