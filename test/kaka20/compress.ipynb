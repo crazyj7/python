{
 "cells": [
  {
   "cell_type": "code",
   "execution_count": null,
   "metadata": {},
   "outputs": [],
   "source": []
  },
  {
   "cell_type": "code",
   "execution_count": null,
   "metadata": {},
   "outputs": [],
   "source": []
  },
  {
   "cell_type": "code",
   "execution_count": 14,
   "metadata": {},
   "outputs": [],
   "source": [
    "def solution(msg):\n",
    "    answer = []\n",
    "    \n",
    "    dic = dict()\n",
    "    for i in range(26):\n",
    "        dic[chr(i+65)]=i+1\n",
    "    print(dic)\n",
    "    dicend=27\n",
    "    \n",
    "    i=0\n",
    "    msglen=len(msg)\n",
    "    while i<msglen:\n",
    "        # 사전에 있는 최대 길이 단어.\n",
    "        wordlen=1\n",
    "        while msg[i:i+wordlen] in dic:\n",
    "            wordlen+=1\n",
    "            if i+wordlen>msglen:\n",
    "                break\n",
    "        wordlen-=1\n",
    "        word = msg[i:i+wordlen] # 사전에 있는 최대 길이 단어\n",
    "        print('cur=', msg[i], 'long word in dic=', word, 'index=', dic[word])\n",
    "        answer.append(dic[word])\n",
    "        i+=wordlen\n",
    "        \n",
    "        if i<msglen:\n",
    "            # next char\n",
    "            wordn = word+msg[i]\n",
    "            dic[wordn] = dicend\n",
    "            print('append dic=', wordn, dicend)\n",
    "            dicend+=1\n",
    "       \n",
    "    \n",
    "    return answer"
   ]
  },
  {
   "cell_type": "code",
   "execution_count": 15,
   "metadata": {},
   "outputs": [
    {
     "name": "stdout",
     "output_type": "stream",
     "text": [
      "{'A': 1, 'B': 2, 'C': 3, 'D': 4, 'E': 5, 'F': 6, 'G': 7, 'H': 8, 'I': 9, 'J': 10, 'K': 11, 'L': 12, 'M': 13, 'N': 14, 'O': 15, 'P': 16, 'Q': 17, 'R': 18, 'S': 19, 'T': 20, 'U': 21, 'V': 22, 'W': 23, 'X': 24, 'Y': 25, 'Z': 26}\n",
      "cur= K long word in dic= K index= 11\n",
      "append dic= KA 27\n",
      "cur= A long word in dic= A index= 1\n",
      "append dic= AK 28\n",
      "cur= K long word in dic= KA index= 27\n",
      "append dic= KAO 29\n",
      "cur= O long word in dic= O index= 15\n"
     ]
    },
    {
     "data": {
      "text/plain": [
       "[11, 1, 27, 15]"
      ]
     },
     "execution_count": 15,
     "metadata": {},
     "output_type": "execute_result"
    }
   ],
   "source": [
    "solution('KAKAO')"
   ]
  },
  {
   "cell_type": "code",
   "execution_count": 16,
   "metadata": {},
   "outputs": [
    {
     "name": "stdout",
     "output_type": "stream",
     "text": [
      "{'A': 1, 'B': 2, 'C': 3, 'D': 4, 'E': 5, 'F': 6, 'G': 7, 'H': 8, 'I': 9, 'J': 10, 'K': 11, 'L': 12, 'M': 13, 'N': 14, 'O': 15, 'P': 16, 'Q': 17, 'R': 18, 'S': 19, 'T': 20, 'U': 21, 'V': 22, 'W': 23, 'X': 24, 'Y': 25, 'Z': 26}\n",
      "cur= T long word in dic= T index= 20\n",
      "append dic= TO 27\n",
      "cur= O long word in dic= O index= 15\n",
      "append dic= OB 28\n",
      "cur= B long word in dic= B index= 2\n",
      "append dic= BE 29\n",
      "cur= E long word in dic= E index= 5\n",
      "append dic= EO 30\n",
      "cur= O long word in dic= O index= 15\n",
      "append dic= OR 31\n",
      "cur= R long word in dic= R index= 18\n",
      "append dic= RN 32\n",
      "cur= N long word in dic= N index= 14\n",
      "append dic= NO 33\n",
      "cur= O long word in dic= O index= 15\n",
      "append dic= OT 34\n",
      "cur= T long word in dic= T index= 20\n",
      "append dic= TT 35\n",
      "cur= T long word in dic= TO index= 27\n",
      "append dic= TOB 36\n",
      "cur= B long word in dic= BE index= 29\n",
      "append dic= BEO 37\n",
      "cur= O long word in dic= OR index= 31\n",
      "append dic= ORT 38\n",
      "cur= T long word in dic= TOB index= 36\n",
      "append dic= TOBE 39\n",
      "cur= E long word in dic= EO index= 30\n",
      "append dic= EOR 40\n",
      "cur= R long word in dic= RN index= 32\n",
      "append dic= RNO 41\n",
      "cur= O long word in dic= OT index= 34\n"
     ]
    },
    {
     "data": {
      "text/plain": [
       "[20, 15, 2, 5, 15, 18, 14, 15, 20, 27, 29, 31, 36, 30, 32, 34]"
      ]
     },
     "execution_count": 16,
     "metadata": {},
     "output_type": "execute_result"
    }
   ],
   "source": [
    "solution('TOBEORNOTTOBEORTOBEORNOT')"
   ]
  },
  {
   "cell_type": "code",
   "execution_count": null,
   "metadata": {},
   "outputs": [],
   "source": [
    "solutio"
   ]
  }
 ],
 "metadata": {
  "kernelspec": {
   "display_name": "py37",
   "language": "python",
   "name": "py37"
  },
  "language_info": {
   "codemirror_mode": {
    "name": "ipython",
    "version": 3
   },
   "file_extension": ".py",
   "mimetype": "text/x-python",
   "name": "python",
   "nbconvert_exporter": "python",
   "pygments_lexer": "ipython3",
   "version": "3.7.3"
  }
 },
 "nbformat": 4,
 "nbformat_minor": 2
}
