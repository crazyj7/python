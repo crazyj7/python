{
 "cells": [
  {
   "cell_type": "code",
   "execution_count": null,
   "metadata": {},
   "outputs": [],
   "source": []
  },
  {
   "cell_type": "code",
   "execution_count": null,
   "metadata": {},
   "outputs": [],
   "source": []
  },
  {
   "cell_type": "code",
   "execution_count": 30,
   "metadata": {},
   "outputs": [],
   "source": [
    "# N = 마을개수\n",
    "# road는 길 (마을1,마을2, 거리)\n",
    "# K=이동가능 거리\n",
    "\n",
    "idebug=0\n",
    "\n",
    "def traverse_graph(graph, path, k, allpathset):\n",
    "    # 현재까지 온길 path\n",
    "    # 이동 가능 범위 k\n",
    "    if k==0: # no power\n",
    "        if idebug:\n",
    "            print(path)\n",
    "        return\n",
    "    \n",
    "    if len(path)==0: # start\n",
    "        path.append(1) # start with 1\n",
    "        allpathset.add(1)\n",
    "        return traverse_graph(graph, path, k, allpathset)\n",
    "        \n",
    "    # 현재 위치는 path의 끝.\n",
    "    now = path[len(path)-1]\n",
    "    if idebug:\n",
    "        print('now=', now)\n",
    "    linkpath=[]\n",
    "    for g in graph:\n",
    "        if g[0]==now: # 왼쪽 일치\n",
    "            if idebug:\n",
    "                print('now connect to left ', g[1], k)\n",
    "            if k-g[2] >=0 :  # power가 남아있어야 함.\n",
    "                if g[1] not in path :  # 지나온길 중복방문제거\n",
    "                    path2=path[:]\n",
    "                    path2.append(g[1])\n",
    "                    allpathset.add(g[1])\n",
    "                    k2=k-g[2]\n",
    "                    if k2==0:\n",
    "                        if idebug:\n",
    "                            print(path2, ' no power', k2) # 여기까지.\n",
    "                    else:\n",
    "                        if idebug:\n",
    "                            print('traverse_graph: ', path2, k2)\n",
    "                        traverse_graph(graph, path2, k2, allpathset)\n",
    "            else: # 파워부족\n",
    "                if idebug:\n",
    "                    print(path, 'no power at', g[1], k)\n",
    "                # 여기까지 갈 수 있음.\n",
    "        elif g[1]==now: # 오른쪽 일치\n",
    "#             print('now connect to right ', g[0])\n",
    "            if k-g[2] >=0 :  # power가 남아있어야 함.\n",
    "                if g[0] not in path :  # 지나온길 중복방문제거\n",
    "                    path2=path[:]\n",
    "                    path2.append(g[0])\n",
    "                    allpathset.add(g[0])\n",
    "                    k2=k-g[2]\n",
    "                    if k2==0:\n",
    "                        if idebug:\n",
    "                            print(path2) # 여기까지.\n",
    "                    else:\n",
    "                        traverse_graph(graph, path2, k2, allpathset)\n",
    "            else: # 파워부족\n",
    "                if idebug:\n",
    "                    print(path)\n",
    "                # 여기까지 갈 수 있음.\n",
    "            \n",
    "\n",
    "def solution(N, road, K):\n",
    "    answer = 0\n",
    "\n",
    "    path=[]\n",
    "    allpathset=set()\n",
    "    traverse_graph(road, path, K, allpathset)\n",
    "\n",
    "    if idebug:\n",
    "        print(allpathset)\n",
    "    answer = len(allpathset)\n",
    "\n",
    "    return answer"
   ]
  },
  {
   "cell_type": "code",
   "execution_count": 37,
   "metadata": {},
   "outputs": [
    {
     "name": "stdout",
     "output_type": "stream",
     "text": [
      "Hello Python\n",
      "now= 1\n",
      "now connect to left  2 3\n",
      "traverse_graph:  [1, 2] 2\n",
      "now= 2\n",
      "now connect to left  3 2\n",
      "[1, 2] no power at 3 2\n",
      "[1, 2, 5]\n",
      "now connect to left  4 3\n",
      "traverse_graph:  [1, 4] 1\n",
      "now= 4\n",
      "[1, 4]\n",
      "[1, 4]\n",
      "{1, 2, 4, 5}\n"
     ]
    },
    {
     "data": {
      "text/plain": [
       "4"
      ]
     },
     "execution_count": 37,
     "metadata": {},
     "output_type": "execute_result"
    }
   ],
   "source": [
    "N=5\n",
    "road=[[1,2,1],[2,3,3],[5,2,2],[1,4,2],[5,3,1],[5,4,2]]\n",
    "K=3\n",
    "solution(N,road,K)"
   ]
  },
  {
   "cell_type": "code",
   "execution_count": 38,
   "metadata": {},
   "outputs": [
    {
     "name": "stdout",
     "output_type": "stream",
     "text": [
      "Hello Python\n",
      "now= 1\n",
      "now connect to left  2 4\n",
      "traverse_graph:  [1, 2] 3\n",
      "now= 2\n",
      "now connect to left  3 3\n",
      "traverse_graph:  [1, 2, 3] 1\n",
      "now= 3\n",
      "[1, 2, 3]\n",
      "[1, 2, 3]\n",
      "now connect to left  4 1\n",
      "[1, 2, 3] no power at 4 1\n",
      "now connect to left  5 1\n",
      "[1, 2, 3] no power at 5 1\n",
      "now connect to left  5 1\n",
      "[1, 2, 3] no power at 5 1\n",
      "now connect to left  3 4\n",
      "traverse_graph:  [1, 3] 2\n",
      "now= 3\n",
      "[1, 3, 2]\n",
      "now connect to left  4 2\n",
      "[1, 3] no power at 4 2\n",
      "now connect to left  5 2\n",
      "[1, 3, 5]  no power 0\n",
      "now connect to left  5 2\n",
      "[1, 3] no power at 5 2\n",
      "{1, 2, 3, 5}\n"
     ]
    },
    {
     "data": {
      "text/plain": [
       "4"
      ]
     },
     "execution_count": 38,
     "metadata": {},
     "output_type": "execute_result"
    }
   ],
   "source": [
    "N=6\n",
    "road=[[1,2,1],[1,3,2],[2,3,2],[3,4,3],[3,5,2],[3,5,3],[5,6,1]]\n",
    "K=4\n",
    "solution(N,road,K)"
   ]
  },
  {
   "cell_type": "code",
   "execution_count": null,
   "metadata": {},
   "outputs": [],
   "source": []
  },
  {
   "cell_type": "code",
   "execution_count": null,
   "metadata": {},
   "outputs": [],
   "source": []
  },
  {
   "cell_type": "code",
   "execution_count": null,
   "metadata": {},
   "outputs": [],
   "source": []
  },
  {
   "cell_type": "code",
   "execution_count": 51,
   "metadata": {},
   "outputs": [],
   "source": [
    "# N = 마을개수\n",
    "# road는 길 (마을1,마을2, 거리)\n",
    "# K=이동가능 거리\n",
    "\n",
    "idebug=1\n",
    "allpathset=set()\n",
    "\n",
    "def traverse_graph(connectmap, path, k):\n",
    "    global allpathset\n",
    "    # 현재까지 온길 path\n",
    "    # 이동 가능 범위 k\n",
    "    if k==0: # no power\n",
    "        if idebug:\n",
    "            print(path)\n",
    "        return\n",
    "    \n",
    "    if len(path)==0: # start\n",
    "        path.append(1) # start with 1\n",
    "        allpathset.add(1)\n",
    "        return traverse_graph(connectmap, path, k)\n",
    "        \n",
    "    # 현재 위치는 path의 끝.\n",
    "    now = path[len(path)-1]\n",
    "    if idebug:\n",
    "        print('now=', now)\n",
    "    for g in connectmap[now]:\n",
    "        if k-g[1] >=0 :  # power가 남아있어야 함.\n",
    "            if g[0] not in path :  # 지나온길 중복방문제거\n",
    "                path2=path[:]\n",
    "                path2.append(g[0])\n",
    "                allpathset.add(g[0])\n",
    "                k2=k-g[1]\n",
    "                if k2==0:\n",
    "                    if idebug:\n",
    "                        print(path2, ' no power', k2) # 여기까지.\n",
    "                else:\n",
    "                    if idebug:\n",
    "                        print('traverse_graph: ', path2, k2)\n",
    "                    traverse_graph(connectmap, path2, k2)\n",
    "        else: # 파워부족\n",
    "            if idebug:\n",
    "                print(path)\n",
    "                # 여기까지 갈 수 있음.\n",
    "            \n",
    "\n",
    "def solution(N, road, K):\n",
    "    answer = 0\n",
    "    path=[]\n",
    "    connectmap=dict()  # 마을1 = list of  연결마을, cost\n",
    "    for i in range(1, len(road)+1) :\n",
    "        connectmap[i]=[]\n",
    "        \n",
    "    for i,r in enumerate(road):\n",
    "        connectmap[r[0]].append( (r[1], r[2]) )\n",
    "        connectmap[r[1]].append( (r[0], r[2]) )\n",
    "        \n",
    "    traverse_graph(connectmap, path, K)\n",
    "\n",
    "    if idebug:\n",
    "        print(allpathset)\n",
    "    answer = len(allpathset)\n",
    "\n",
    "    return answer"
   ]
  },
  {
   "cell_type": "code",
   "execution_count": 52,
   "metadata": {},
   "outputs": [
    {
     "name": "stdout",
     "output_type": "stream",
     "text": [
      "now= 1\n",
      "traverse_graph:  [1, 2] 3\n",
      "now= 2\n",
      "traverse_graph:  [1, 2, 3] 1\n",
      "now= 3\n",
      "[1, 2, 3]\n",
      "[1, 2, 3]\n",
      "[1, 2, 3]\n",
      "[1, 2, 3]\n",
      "[1, 2, 3]\n",
      "traverse_graph:  [1, 3] 2\n",
      "now= 3\n",
      "[1, 3, 2]  no power 0\n",
      "[1, 3]\n",
      "[1, 3, 5]  no power 0\n",
      "[1, 3]\n",
      "{1, 2, 3, 5}\n"
     ]
    },
    {
     "data": {
      "text/plain": [
       "4"
      ]
     },
     "execution_count": 52,
     "metadata": {},
     "output_type": "execute_result"
    }
   ],
   "source": [
    "N=6\n",
    "road=[[1,2,1],[1,3,2],[2,3,2],[3,4,3],[3,5,2],[3,5,3],[5,6,1]]\n",
    "K=4\n",
    "solution(N,road,K)"
   ]
  },
  {
   "cell_type": "code",
   "execution_count": null,
   "metadata": {},
   "outputs": [],
   "source": []
  },
  {
   "cell_type": "code",
   "execution_count": null,
   "metadata": {},
   "outputs": [],
   "source": []
  },
  {
   "cell_type": "code",
   "execution_count": null,
   "metadata": {},
   "outputs": [],
   "source": []
  }
 ],
 "metadata": {
  "kernelspec": {
   "display_name": "py37",
   "language": "python",
   "name": "py37"
  },
  "language_info": {
   "codemirror_mode": {
    "name": "ipython",
    "version": 3
   },
   "file_extension": ".py",
   "mimetype": "text/x-python",
   "name": "python",
   "nbconvert_exporter": "python",
   "pygments_lexer": "ipython3",
   "version": "3.7.3"
  }
 },
 "nbformat": 4,
 "nbformat_minor": 2
}
