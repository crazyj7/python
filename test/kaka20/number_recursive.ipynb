{
 "cells": [
  {
   "cell_type": "code",
   "execution_count": 153,
   "metadata": {},
   "outputs": [],
   "source": [
    "# Solve"
   ]
  },
  {
   "cell_type": "code",
   "execution_count": 154,
   "metadata": {},
   "outputs": [],
   "source": [
    "import itertools\n",
    "\n",
    "\n",
    "minpart=1 # 최소 숫자개수=1\n",
    "maxpart=6 # 최대숫자개수=8\n",
    "idebug=0\n",
    "bfound=False\n",
    "callcnt=0\n",
    "gnumber=0\n",
    "\n",
    "def recur_cal ( depth,  terms,  value, opstack, digitcnt ):\n",
    "    global bfound\n",
    "    global callcnt\n",
    "    callcnt+=1\n",
    "    if idebug:\n",
    "        print(depth, terms, value)\n",
    "    if depth==0:\n",
    "        callcnt=0\n",
    "        return recur_cal ( depth+1, terms[1:],  terms[0], opstack, digitcnt )\n",
    "\n",
    "    nextterms=[]\n",
    "    if len(terms)==0:\n",
    "        if value==gnumber:\n",
    "            print(opstack)\n",
    "            print(\"result=\", value)\n",
    "            print('found answer. depth=', depth, 'digitcnt=', digitcnt)\n",
    "            bfound=True\n",
    "            return value\n",
    "        else:\n",
    "            if idebug:\n",
    "                print(opstack)\n",
    "                print(\"fail result=\", value)\n",
    "            return value\n",
    "    if len(terms)>0:\n",
    "        nextterms=terms[1:]\n",
    "    if not bfound:\n",
    "        r=recur_cal ( depth+1, nextterms,  value+terms[0], opstack+['+'], digitcnt )\n",
    "    if not bfound:\n",
    "        r=recur_cal ( depth+1, nextterms,  value-terms[0], opstack+['-'], digitcnt )\n",
    "    if not bfound:\n",
    "        r=recur_cal ( depth+1, nextterms,  value*terms[0], opstack+['*'], digitcnt )\n",
    "    if not bfound:\n",
    "        if terms[0]!=0:\n",
    "            r=recur_cal ( depth+1, nextterms,  value//terms[0], opstack+['/'], digitcnt )\n",
    "            \n",
    "    # special\n",
    "    if not bfound:\n",
    "        r=recur_cal ( depth+1, nextterms,  terms[0]-value, opstack+['(-)'], digitcnt )\n",
    "    if not bfound:\n",
    "        if value!=0:\n",
    "            r=recur_cal ( depth+1, nextterms,  terms[0]//value, opstack+['(/)'], digitcnt )\n",
    "            \n",
    "    if r==gnumber:\n",
    "        return r\n",
    "    return 0\n",
    "\n",
    "\n",
    "\n",
    "def solution(N, number):\n",
    "    global gnumber, bfound\n",
    "    gnumber=number\n",
    "    N = str(N)\n",
    "    minpart=1\n",
    "    maxpart=8\n",
    "    bfound=False\n",
    "\n",
    "    # i=숫자 개수 (1~9)\n",
    "    for i in range(minpart,(maxpart+1)):\n",
    "    # for i in [4]:\n",
    "        pools=[ x for x in range(i)] # 숫자 개수만큼 넘버링. (0~9까지만 가능.)\n",
    "        print('digit count=', i)\n",
    "        if idebug:\n",
    "            print('')\n",
    "            print('pools=', pools)\n",
    "        for j in range(i):   # 0~(i-1)까지 \n",
    "            p = itertools.combinations(pools[:-1], j)  # 마지막 넘버링을 빼고, 조합. \n",
    "            # 즉, 숫자개수-1 에서의 조합. 숫자3개면 2C0, 2C1, 2C2.  : '', 0, 1, 01.  이 위치로 partition을 한다.  \n",
    "            strn = [N,' ']*i  # 숫자 반복 스트링. (공백추가.)\n",
    "            for pi in p:\n",
    "                strn = [N,' ']*i\n",
    "                for el in pi:\n",
    "                    strn[el*2+1]='|'\n",
    "                equation = ''.join(strn).replace(' ', '') # operator = |\n",
    "\n",
    "                terms = equation.split('|')\n",
    "                terms = list( map(int, terms)) # string to numbers\n",
    "                n_terms = len(terms)    \n",
    "                # print(terms)\n",
    "\n",
    "                if gnumber==recur_cal(0, terms, 0, [], i):\n",
    "                    # print('answer! by recur_cal')\n",
    "                    bfound=True\n",
    "                # print(callcnt)\n",
    "                if bfound:\n",
    "                    break\n",
    "            if bfound:\n",
    "                break\n",
    "        if bfound:\n",
    "            break\n",
    "    if bfound:\n",
    "        print('found : digit count', i)\n",
    "        answer=i\n",
    "    else:\n",
    "        print('not found')\n",
    "        answer=-1\n",
    "        \n",
    "    print('answer=', answer)\n",
    "    return answer"
   ]
  },
  {
   "cell_type": "code",
   "execution_count": 155,
   "metadata": {},
   "outputs": [
    {
     "name": "stdout",
     "output_type": "stream",
     "text": [
      "digit count= 1\n",
      "[]\n",
      "result= 2\n",
      "found answer. depth= 1 digitcnt= 1\n",
      "found : digit count 1\n",
      "answer= 1\n"
     ]
    },
    {
     "data": {
      "text/plain": [
       "1"
      ]
     },
     "execution_count": 155,
     "metadata": {},
     "output_type": "execute_result"
    }
   ],
   "source": [
    "solution(2, 2)"
   ]
  },
  {
   "cell_type": "code",
   "execution_count": null,
   "metadata": {},
   "outputs": [],
   "source": []
  },
  {
   "cell_type": "code",
   "execution_count": null,
   "metadata": {},
   "outputs": [],
   "source": []
  }
 ],
 "metadata": {
  "kernelspec": {
   "display_name": "py37",
   "language": "python",
   "name": "py37"
  },
  "language_info": {
   "codemirror_mode": {
    "name": "ipython",
    "version": 3
   },
   "file_extension": ".py",
   "mimetype": "text/x-python",
   "name": "python",
   "nbconvert_exporter": "python",
   "pygments_lexer": "ipython3",
   "version": "3.7.3"
  }
 },
 "nbformat": 4,
 "nbformat_minor": 2
}
