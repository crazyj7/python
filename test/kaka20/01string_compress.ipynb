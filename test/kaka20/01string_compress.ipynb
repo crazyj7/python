{
 "cells": [
  {
   "cell_type": "code",
   "execution_count": 1,
   "metadata": {},
   "outputs": [],
   "source": [
    "import os,sys\n",
    "import math"
   ]
  },
  {
   "cell_type": "code",
   "execution_count": 2,
   "metadata": {},
   "outputs": [],
   "source": [
    "input = 'aabbaccc'"
   ]
  },
  {
   "cell_type": "code",
   "execution_count": null,
   "metadata": {},
   "outputs": [],
   "source": []
  },
  {
   "cell_type": "code",
   "execution_count": 3,
   "metadata": {},
   "outputs": [],
   "source": [
    "def compress_rle(buf, pattern_length):\n",
    "    cnt=0\n",
    "    p=\"\"\n",
    "    oldp=\"\"\n",
    "    buflen = len(buf)\n",
    "    index = 0\n",
    "    retstr = \"\"\n",
    "    \n",
    "    if buflen <= pattern_length:\n",
    "        return buf\n",
    "    \n",
    "    while index<buflen:\n",
    "        p = buf[index:index+pattern_length]\n",
    "        index += pattern_length\n",
    "        if oldp == p:\n",
    "            cnt += 1\n",
    "        else:\n",
    "            if cnt>1:\n",
    "                retstr += str(cnt)\n",
    "                retstr += oldp\n",
    "            else:\n",
    "                retstr += oldp\n",
    "            cnt = 1\n",
    "            oldp = p\n",
    "    if cnt>1:\n",
    "        retstr += str(cnt)\n",
    "        retstr += oldp\n",
    "    else:\n",
    "        retstr += oldp\n",
    "    retstr += buf[index:]\n",
    "    \n",
    "    return retstr\n"
   ]
  },
  {
   "cell_type": "code",
   "execution_count": 4,
   "metadata": {},
   "outputs": [],
   "source": [
    "def decompress_rle(buf, pattern_length):\n",
    "    retstr=\"\"\n",
    "    index=0\n",
    "    p=\"\"\n",
    "    buflen = len(buf)\n",
    "    while index<buflen:\n",
    "        if buflen-index <= pattern_length:\n",
    "            retstr += buf[index:]\n",
    "            break\n",
    "        if buf[index].isdigit():\n",
    "            index2=index+1\n",
    "            while buf[index2].isdigit():\n",
    "                index2 +=1\n",
    "            count = buf[index:index2]\n",
    "            index = index2\n",
    "            p = buf[index:index+pattern_length]\n",
    "            retstr += p * int(count)\n",
    "            index += pattern_length\n",
    "        else:\n",
    "            p = buf[index:index+pattern_length]\n",
    "            retstr += p\n",
    "            index += pattern_length\n",
    "    return retstr\n",
    "    "
   ]
  },
  {
   "cell_type": "code",
   "execution_count": 5,
   "metadata": {},
   "outputs": [
    {
     "name": "stdout",
     "output_type": "stream",
     "text": [
      "2a2ba3c\n",
      "aabbaccc\n"
     ]
    }
   ],
   "source": [
    "input = 'aabbaccc'\n",
    "a=compress_rle(input, 1)\n",
    "print(a)\n",
    "b=decompress_rle(a, 1)\n",
    "print(b)\n"
   ]
  },
  {
   "cell_type": "code",
   "execution_count": 13,
   "metadata": {},
   "outputs": [
    {
     "name": "stdout",
     "output_type": "stream",
     "text": [
      "2ababcdcd\n",
      "aababcdcd\n",
      "2ab2cd2ab2cd\n",
      "ababcdcdababcdcd\n",
      "2ababcdcd\n",
      "ababcdcdababcdcd\n"
     ]
    }
   ],
   "source": [
    "input='ababcdcdababcdcd'\n",
    "a=compress_rle(input, 8)\n",
    "print(a)\n",
    "b=decompress_rle(a, 1)\n",
    "print(b)\n",
    "a=compress_rle(input, 2)\n",
    "print(a)\n",
    "b=decompress_rle(a, 2)\n",
    "print(b)\n",
    "a=compress_rle(input, 8)\n",
    "print(a)\n",
    "b=decompress_rle(a, 8)\n",
    "print(b)"
   ]
  },
  {
   "cell_type": "code",
   "execution_count": 7,
   "metadata": {},
   "outputs": [
    {
     "data": {
      "text/plain": [
       "'2abcdede'"
      ]
     },
     "execution_count": 7,
     "metadata": {},
     "output_type": "execute_result"
    }
   ],
   "source": [
    "input='abcabcdede'\n",
    "compress_rle(input, 3)"
   ]
  },
  {
   "cell_type": "code",
   "execution_count": 8,
   "metadata": {},
   "outputs": [
    {
     "data": {
      "text/plain": [
       "'2abcabc2dedede'"
      ]
     },
     "execution_count": 8,
     "metadata": {},
     "output_type": "execute_result"
    }
   ],
   "source": [
    "input='abcabcabcabcdededededede'\n",
    "compress_rle(input, 2)\n",
    "compress_rle(input, 3)\n",
    "compress_rle(input, 4)\n",
    "compress_rle(input, 6)"
   ]
  },
  {
   "cell_type": "code",
   "execution_count": 9,
   "metadata": {},
   "outputs": [
    {
     "data": {
      "text/plain": [
       "'xababcdcdababcdcd'"
      ]
     },
     "execution_count": 9,
     "metadata": {},
     "output_type": "execute_result"
    }
   ],
   "source": [
    "input='xababcdcdababcdcd'\n",
    "compress_rle(input, 10)"
   ]
  },
  {
   "cell_type": "code",
   "execution_count": 14,
   "metadata": {},
   "outputs": [],
   "source": [
    "def maxcompress(buf):\n",
    "    buflen = len(buf)\n",
    "    maxpatlen = int(buflen/2)+1\n",
    "    minlen = buflen\n",
    "    minpatlen = 0\n",
    "    save_str = \"\"\n",
    "    for i in range(1, maxpatlen):\n",
    "        ret = compress_rle(buf, i)\n",
    "        retlen = len(ret)\n",
    "        if retlen < minlen:\n",
    "            minlen = retlen\n",
    "            minpatlen = i\n",
    "            save_str = ret\n",
    "    print('min patlen=', minpatlen)\n",
    "    print('minlen=', minlen)\n",
    "    print('result=', save_str)"
   ]
  },
  {
   "cell_type": "code",
   "execution_count": 15,
   "metadata": {},
   "outputs": [
    {
     "name": "stdout",
     "output_type": "stream",
     "text": [
      "min patlen= 6\n",
      "minlen= 14\n",
      "result= 2abcabc2dedede\n"
     ]
    }
   ],
   "source": [
    "input = 'abcabcabcabcdededededede'\n",
    "maxcompress(input)"
   ]
  },
  {
   "cell_type": "code",
   "execution_count": 16,
   "metadata": {},
   "outputs": [
    {
     "data": {
      "text/plain": [
       "'abcabcabcabcdededededede'"
      ]
     },
     "execution_count": 16,
     "metadata": {},
     "output_type": "execute_result"
    }
   ],
   "source": [
    "decompress_rle('2abcabc2dedede', 6)"
   ]
  },
  {
   "cell_type": "code",
   "execution_count": null,
   "metadata": {},
   "outputs": [],
   "source": []
  }
 ],
 "metadata": {
  "kernelspec": {
   "display_name": "py37",
   "language": "python",
   "name": "py37"
  },
  "language_info": {
   "codemirror_mode": {
    "name": "ipython",
    "version": 3
   },
   "file_extension": ".py",
   "mimetype": "text/x-python",
   "name": "python",
   "nbconvert_exporter": "python",
   "pygments_lexer": "ipython3",
   "version": "3.7.3"
  }
 },
 "nbformat": 4,
 "nbformat_minor": 2
}
