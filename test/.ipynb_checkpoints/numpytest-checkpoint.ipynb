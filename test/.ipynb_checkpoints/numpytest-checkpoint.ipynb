{
 "cells": [
  {
   "cell_type": "markdown",
   "metadata": {},
   "source": [
    "# numpy test code"
   ]
  },
  {
   "cell_type": "code",
   "execution_count": 13,
   "metadata": {
    "collapsed": true
   },
   "outputs": [],
   "source": [
    "import numpy as np"
   ]
  },
  {
   "cell_type": "markdown",
   "metadata": {},
   "source": [
    "\n",
    "\n",
    "### 벡터 내적. 매트릭스 곱. DOT "
   ]
  },
  {
   "cell_type": "code",
   "execution_count": 14,
   "metadata": {},
   "outputs": [
    {
     "name": "stdout",
     "output_type": "stream",
     "text": [
      "[1 3 1] [1 2 1] 8\n"
     ]
    }
   ],
   "source": [
    "a=np.random.randint(0,5, 3) # 0~4 , count 3\n",
    "b=np.random.randint(1,6, 3) # 1~5 , count 3\n",
    "print(a, b, np.dot(a,b) ) # vector inner product"
   ]
  },
  {
   "cell_type": "markdown",
   "metadata": {
    "collapsed": true
   },
   "source": [
    "### Array 생성"
   ]
  },
  {
   "cell_type": "code",
   "execution_count": 63,
   "metadata": {},
   "outputs": [
    {
     "name": "stdout",
     "output_type": "stream",
     "text": [
      "[ 0.  0.  0.  0.  0.]\n",
      "[[ 0.  0.  0.]\n",
      " [ 0.  0.  0.]]\n",
      "[ 1.  1.  1.  1.  1.]\n",
      "[[ 0.  0.  0.]\n",
      " [ 0.  0.  0.]]\n",
      "[1 2 3]\n",
      "[[1 2]\n",
      " [3 4]]\n"
     ]
    }
   ],
   "source": [
    "print( np.zeros(5) ) \n",
    "print( np.zeros((2,3)))\n",
    "print( np.ones(5))\n",
    "print( np.empty((2,3)))\n",
    "print( np.array( [1,2,3 ])) # list to array\n",
    "print( np.array( [ [1,2], [3,4]])) # list to array"
   ]
  },
  {
   "cell_type": "code",
   "execution_count": 60,
   "metadata": {},
   "outputs": [
    {
     "name": "stdout",
     "output_type": "stream",
     "text": [
      "[[ 0.71340362  0.17986791  0.52739919]\n",
      " [-1.34120513 -0.1824253  -0.74541698]]\n",
      "[5 1 5 7]\n",
      "[[6 4 1]\n",
      " [1 1 4]]\n",
      "[ 0.69167467  0.21054513  0.71964054]\n",
      "[ 0.03673216  0.11428428  0.85543744]\n",
      "[[ 0.21572429  0.74028696  0.80432859]\n",
      " [ 0.42421789  0.05583752  0.45513511]]\n"
     ]
    }
   ],
   "source": [
    "print ( np.random.randn(2,3) )  # (-2~2) 2x3\n",
    "print ( np.random.randint(1,10,4)) # (1~9) 4\n",
    "print ( np.random.randint(1,10,(2,3))) # (1~9) 2x3\n",
    "print( np.random.rand(3)) # (0~1) 3\n",
    "print( np.random.random(3)) # \"\n",
    "print( np.random.rand(2,3)) # (0~1) 2x3"
   ]
  },
  {
   "cell_type": "code",
   "execution_count": 68,
   "metadata": {},
   "outputs": [
    {
     "name": "stdout",
     "output_type": "stream",
     "text": [
      "[-1.6  1.2  2.1] <class 'numpy.ndarray'>\n",
      "[-1  1  2] <class 'numpy.ndarray'>\n"
     ]
    }
   ],
   "source": [
    "# type\n",
    "x = np.array([-1.6, 1.2, 2.1])\n",
    "print(x, type(x))\n",
    "x = x.astype(np.int)\n",
    "print(x, type(x))"
   ]
  },
  {
   "cell_type": "markdown",
   "metadata": {},
   "source": [
    "### 리스트를 이용한 numpy array 생성"
   ]
  },
  {
   "cell_type": "code",
   "execution_count": 50,
   "metadata": {},
   "outputs": [
    {
     "name": "stdout",
     "output_type": "stream",
     "text": [
      "[['abc', 'abc', 'abc'], ['abc', 'abc', 'abc']]  type= <class 'list'>\n",
      "[['abc' 'abc' 'abc']\n",
      " ['abc' 'abc' 'abc']] type= <class 'numpy.ndarray'>\n"
     ]
    }
   ],
   "source": [
    "a=[[\"abc\" for i in range(3)] for i in range(2) ]\n",
    "print (a, ' type=', type(a) )\n",
    "b=np.asarray(a)\n",
    "print (b, 'type=', type(b))"
   ]
  },
  {
   "cell_type": "markdown",
   "metadata": {
    "collapsed": true
   },
   "source": [
    "### 행렬 붙이기 (matrix concat)"
   ]
  },
  {
   "cell_type": "markdown",
   "metadata": {},
   "source": [
    "### row bind"
   ]
  },
  {
   "cell_type": "code",
   "execution_count": 28,
   "metadata": {},
   "outputs": [
    {
     "name": "stdout",
     "output_type": "stream",
     "text": [
      "mat=\n",
      " [[ 1.  1.  1.  1.]\n",
      " [ 1.  1.  1.  1.]\n",
      " [ 1.  1.  1.  1.]]\n",
      "a=\n",
      " [4 1 3 4]\n",
      "rowbind=\n",
      " [[ 1.  1.  1.  1.]\n",
      " [ 1.  1.  1.  1.]\n",
      " [ 1.  1.  1.  1.]\n",
      " [ 4.  1.  3.  4.]]\n",
      "rowbind=\n",
      " [[ 4.  1.  3.  4.]\n",
      " [ 1.  1.  1.  1.]\n",
      " [ 1.  1.  1.  1.]\n",
      " [ 1.  1.  1.  1.]]\n"
     ]
    }
   ],
   "source": [
    "a=np.random.randint(1,10,4)\n",
    "mat=np.ones((3,4))\n",
    "print('mat=\\n',mat)\n",
    "print('a=\\n',a)\n",
    "rowbind = np.r_[mat, [a]]   ## warn! : a shape\n",
    "print('rowbind=\\n', rowbind)\n",
    "rowbind = np.r_[[a], mat]\n",
    "print('rowbind=\\n', rowbind)"
   ]
  },
  {
   "cell_type": "code",
   "execution_count": 29,
   "metadata": {},
   "outputs": [
    {
     "name": "stdout",
     "output_type": "stream",
     "text": [
      "rowbind=\n",
      " [[ 1.  1.  1.  1.]\n",
      " [ 1.  1.  1.  1.]\n",
      " [ 1.  1.  1.  1.]\n",
      " [ 0.  0.  0.  0.]\n",
      " [ 0.  0.  0.  0.]]\n"
     ]
    }
   ],
   "source": [
    "a=np.zeros((2,4))\n",
    "rowbind = np.r_[mat, a]\n",
    "print('rowbind=\\n', rowbind)"
   ]
  },
  {
   "cell_type": "markdown",
   "metadata": {},
   "source": [
    "### 한 줄씩 추가하기"
   ]
  },
  {
   "cell_type": "code",
   "execution_count": 52,
   "metadata": {},
   "outputs": [
    {
     "name": "stdout",
     "output_type": "stream",
     "text": [
      "[[ 3.  4.  2.]]\n",
      "[[ 3.  4.  2.]\n",
      " [ 4.  2.  3.]]\n"
     ]
    }
   ],
   "source": [
    "# empty array and append row\n",
    "a = np.empty((0,3))\n",
    "b = np.random.randint(1,5,3)\n",
    "a = np.r_[a,[b]]\n",
    "print(a)\n",
    "b = np.random.randint(1,5,3)\n",
    "a = np.r_[a,[b]]\n",
    "print(a)\n"
   ]
  },
  {
   "cell_type": "markdown",
   "metadata": {
    "collapsed": true
   },
   "source": [
    "### column bind"
   ]
  },
  {
   "cell_type": "code",
   "execution_count": 30,
   "metadata": {},
   "outputs": [
    {
     "name": "stdout",
     "output_type": "stream",
     "text": [
      "mat=\n",
      " [[ 1.  1.  1.  1.]\n",
      " [ 1.  1.  1.  1.]\n",
      " [ 1.  1.  1.  1.]]\n",
      "a=\n",
      " [8 3 6]\n",
      "colbind=\n",
      " [[ 1.  1.  1.  1.  8.]\n",
      " [ 1.  1.  1.  1.  3.]\n",
      " [ 1.  1.  1.  1.  6.]]\n",
      "colbind=\n",
      " [[ 8.  1.  1.  1.  1.]\n",
      " [ 3.  1.  1.  1.  1.]\n",
      " [ 6.  1.  1.  1.  1.]]\n"
     ]
    }
   ],
   "source": [
    "a=np.random.randint(1,10,3)\n",
    "mat=np.ones((3,4))\n",
    "print('mat=\\n',mat)\n",
    "print('a=\\n',a)\n",
    "colbind = np.c_[mat, a]\n",
    "print('colbind=\\n', colbind)\n",
    "colbind = np.c_[a, mat]\n",
    "print('colbind=\\n', colbind)"
   ]
  },
  {
   "cell_type": "code",
   "execution_count": 31,
   "metadata": {},
   "outputs": [
    {
     "name": "stdout",
     "output_type": "stream",
     "text": [
      "colbind=\n",
      " [[ 1.  1.  1.  1.  0.  0.]\n",
      " [ 1.  1.  1.  1.  0.  0.]\n",
      " [ 1.  1.  1.  1.  0.  0.]]\n"
     ]
    }
   ],
   "source": [
    "a=np.zeros((3,2))\n",
    "colbind = np.c_[mat, a]\n",
    "print('colbind=\\n', colbind)"
   ]
  },
  {
   "cell_type": "code",
   "execution_count": null,
   "metadata": {
    "collapsed": true
   },
   "outputs": [],
   "source": []
  },
  {
   "cell_type": "code",
   "execution_count": null,
   "metadata": {
    "collapsed": true
   },
   "outputs": [],
   "source": []
  }
 ],
 "metadata": {
  "kernelspec": {
   "display_name": "Python 3",
   "language": "python",
   "name": "python3"
  },
  "language_info": {
   "codemirror_mode": {
    "name": "ipython",
    "version": 3
   },
   "file_extension": ".py",
   "mimetype": "text/x-python",
   "name": "python",
   "nbconvert_exporter": "python",
   "pygments_lexer": "ipython3",
   "version": "3.6.3"
  }
 },
 "nbformat": 4,
 "nbformat_minor": 2
}
