{
 "cells": [
  {
   "cell_type": "markdown",
   "metadata": {},
   "source": [
    "# character encoding test"
   ]
  },
  {
   "cell_type": "markdown",
   "metadata": {},
   "source": [
    "encoding test\n",
    "\n",
    "## Multibyte\n",
    "ascii\n",
    "Hangul : EUC-KR, CP949\n",
    "\n",
    "\n",
    "## UNICODE\n",
    "utf8, utf16, utf32\n",
    "\n",
    "Python3 use utf8.  str type -> utf8 encoding\n",
    "\n",
    "bytearray ; bytes  b'aaa'\n",
    "unicode ; u'aaa'\n",
    "\n"
   ]
  },
  {
   "cell_type": "code",
   "execution_count": 1,
   "metadata": {},
   "outputs": [
    {
     "data": {
      "text/plain": [
       "2"
      ]
     },
     "execution_count": 1,
     "metadata": {},
     "output_type": "execute_result"
    }
   ],
   "source": [
    "u = \"aa\"\n",
    "len(u)"
   ]
  },
  {
   "cell_type": "code",
   "execution_count": 2,
   "metadata": {},
   "outputs": [
    {
     "name": "stdout",
     "output_type": "stream",
     "text": [
      "u length= 3\n",
      "u[1]= 래\n"
     ]
    }
   ],
   "source": [
    "# u = \"가\"\n",
    "u=\"그래프\"\n",
    "print('u length=', len(u))\n",
    "print('u[1]=', u[1])"
   ]
  },
  {
   "cell_type": "code",
   "execution_count": 3,
   "metadata": {},
   "outputs": [
    {
     "data": {
      "text/plain": [
       "6"
      ]
     },
     "execution_count": 3,
     "metadata": {},
     "output_type": "execute_result"
    }
   ],
   "source": [
    "b = bytearray(u, 'cp949')\n",
    "len(b)"
   ]
  },
  {
   "cell_type": "code",
   "execution_count": 4,
   "metadata": {},
   "outputs": [
    {
     "data": {
      "text/plain": [
       "9"
      ]
     },
     "execution_count": 4,
     "metadata": {},
     "output_type": "execute_result"
    }
   ],
   "source": [
    "b = bytearray(u, 'utf8')\n",
    "len(b)"
   ]
  },
  {
   "cell_type": "code",
   "execution_count": 5,
   "metadata": {},
   "outputs": [
    {
     "name": "stdout",
     "output_type": "stream",
     "text": [
      "b'\\xb1\\xd7\\xb7\\xa1\\xc7\\xc1'\n"
     ]
    }
   ],
   "source": [
    "b1=u.encode('cp949')\n",
    "print(b1)"
   ]
  },
  {
   "cell_type": "code",
   "execution_count": 6,
   "metadata": {},
   "outputs": [
    {
     "name": "stdout",
     "output_type": "stream",
     "text": [
      "b'\\xea\\xb7\\xb8\\xeb\\x9e\\x98\\xed\\x94\\x84'\n"
     ]
    }
   ],
   "source": [
    "b2=u.encode('utf8')\n",
    "print(b2)"
   ]
  },
  {
   "cell_type": "code",
   "execution_count": 7,
   "metadata": {},
   "outputs": [
    {
     "data": {
      "text/plain": [
       "'그래프'"
      ]
     },
     "execution_count": 7,
     "metadata": {},
     "output_type": "execute_result"
    }
   ],
   "source": [
    "b1.decode('cp949')"
   ]
  },
  {
   "cell_type": "code",
   "execution_count": 8,
   "metadata": {},
   "outputs": [
    {
     "data": {
      "text/plain": [
       "'그래프'"
      ]
     },
     "execution_count": 8,
     "metadata": {},
     "output_type": "execute_result"
    }
   ],
   "source": [
    "b2.decode('utf8')"
   ]
  },
  {
   "cell_type": "code",
   "execution_count": 9,
   "metadata": {},
   "outputs": [
    {
     "data": {
      "text/plain": [
       "'그래프'"
      ]
     },
     "execution_count": 9,
     "metadata": {},
     "output_type": "execute_result"
    }
   ],
   "source": [
    "b1.decode('euc-kr')"
   ]
  },
  {
   "cell_type": "code",
   "execution_count": 10,
   "metadata": {},
   "outputs": [],
   "source": [
    "# python script : first line \n",
    "#add     ==>    #-*- coding: utf-8 -*-"
   ]
  },
  {
   "cell_type": "markdown",
   "metadata": {},
   "source": [
    "## euc-kr  to utf-8"
   ]
  },
  {
   "cell_type": "code",
   "execution_count": 11,
   "metadata": {},
   "outputs": [],
   "source": [
    "import codecs"
   ]
  },
  {
   "cell_type": "code",
   "execution_count": 14,
   "metadata": {},
   "outputs": [
    {
     "name": "stdout",
     "output_type": "stream",
     "text": [
      "hello EUC-KR 포맷입니다. (ANSI)\n",
      "\n",
      "b'hello EUC-KR \\xed\\x8f\\xac\\xeb\\xa7\\xb7\\xec\\x9e\\x85\\xeb\\x8b\\x88\\xeb\\x8b\\xa4. (ANSI)\\n'\n"
     ]
    }
   ],
   "source": [
    "with open('texteuckr.txt', 'r', encoding='euc-kr') as f:\n",
    "    line = f.readline()\n",
    "    print(line)\n",
    "    line2 = line.encode('utf8')\n",
    "    print(line2)\n",
    "    "
   ]
  },
  {
   "cell_type": "code",
   "execution_count": 16,
   "metadata": {},
   "outputs": [
    {
     "name": "stdout",
     "output_type": "stream",
     "text": [
      "﻿hello UTF-8 포맷입니다.\n",
      "\n",
      "error\n"
     ]
    }
   ],
   "source": [
    "with open('textutf8.txt', 'r', encoding='utf8') as f:\n",
    "    line = f.readline()\n",
    "    print(line)\n",
    "    try:\n",
    "        line2 = line.encode('euc-kr')\n",
    "        print(line2)\n",
    "    except:\n",
    "        print('error')"
   ]
  },
  {
   "cell_type": "code",
   "execution_count": 31,
   "metadata": {},
   "outputs": [],
   "source": [
    "import io"
   ]
  },
  {
   "cell_type": "code",
   "execution_count": 136,
   "metadata": {},
   "outputs": [],
   "source": [
    "def get_encoding(path):\n",
    "    encodings = ['utf-8', 'utf-16', 'utf-32', 'utf-7', 'utf-16-be', 'utf-16-le', \n",
    "                 'ascii', 'euc-kr', 'euc-jp', 'euc-jis-2004', 'euc-jisx0213', 'gb2312', 'gbk', 'hz', 'latin-1',\n",
    "                 'koi8-r', 'koi8-u', 'mac-cyrillic', 'mac-greek', 'mac-iceland', 'mac-latin2', 'mac-roman',\n",
    "                 'mac-turkish', 'ptcp154', 'shift-jis', 'shift-jis-2004', 'shift-jisx0213', \n",
    "                 'cp437', 'cp949', 'cp932', \n",
    "                 'windows-1250', 'windows-1252', ]\n",
    "    for enc in encodings:\n",
    "        try:\n",
    "            f = io.open(path, 'r', encoding=enc)\n",
    "            f.readlines()\n",
    "            f.seek(0)\n",
    "        except FileNotFoundError as ex:\n",
    "            return 'utf-8'\n",
    "        except Exception as ex:\n",
    "            pass\n",
    "        else:\n",
    "            return enc\n",
    "    return 'unknown'\n",
    "\n",
    "def open_autoenc(path, mode, encoding=''):\n",
    "    if len(encoding)==0:\n",
    "        enc = get_encoding(path) \n",
    "    else:\n",
    "        enc = encoding\n",
    "#     print(enc)\n",
    "    return open(path, mode, encoding=enc)\n"
   ]
  },
  {
   "cell_type": "code",
   "execution_count": 137,
   "metadata": {},
   "outputs": [
    {
     "data": {
      "text/plain": [
       "'utf-8'"
      ]
     },
     "execution_count": 137,
     "metadata": {},
     "output_type": "execute_result"
    }
   ],
   "source": [
    "get_encoding('notexist')"
   ]
  },
  {
   "cell_type": "code",
   "execution_count": 138,
   "metadata": {},
   "outputs": [
    {
     "data": {
      "text/plain": [
       "'euc-kr'"
      ]
     },
     "execution_count": 138,
     "metadata": {},
     "output_type": "execute_result"
    }
   ],
   "source": [
    "get_encoding('texteuckr.txt')"
   ]
  },
  {
   "cell_type": "code",
   "execution_count": 139,
   "metadata": {},
   "outputs": [
    {
     "data": {
      "text/plain": [
       "'utf-8'"
      ]
     },
     "execution_count": 139,
     "metadata": {},
     "output_type": "execute_result"
    }
   ],
   "source": [
    "get_encoding('textutf8.txt')"
   ]
  },
  {
   "cell_type": "code",
   "execution_count": null,
   "metadata": {},
   "outputs": [],
   "source": []
  },
  {
   "cell_type": "code",
   "execution_count": 140,
   "metadata": {},
   "outputs": [
    {
     "name": "stdout",
     "output_type": "stream",
     "text": [
      "hello EUC-KR 포맷입니다. (ANSI)\n",
      "\n"
     ]
    }
   ],
   "source": [
    "with open_autoenc('texteuckr.txt', 'r') as f:\n",
    "    line = f.readline()\n",
    "    print(line)"
   ]
  },
  {
   "cell_type": "code",
   "execution_count": 141,
   "metadata": {},
   "outputs": [
    {
     "name": "stdout",
     "output_type": "stream",
     "text": [
      "﻿hello UTF-8 포맷입니다.\n",
      "\n"
     ]
    }
   ],
   "source": [
    "with open_autoenc('textutf8.txt', 'r') as f:\n",
    "    line = f.readline()\n",
    "    print(line)"
   ]
  },
  {
   "cell_type": "code",
   "execution_count": 142,
   "metadata": {},
   "outputs": [
    {
     "name": "stdout",
     "output_type": "stream",
     "text": [
      "hello Unicode 포맷입니다.\n",
      "\n"
     ]
    }
   ],
   "source": [
    "with open_autoenc('textuni.txt', 'r') as f:\n",
    "    line = f.readline()\n",
    "    print(line)"
   ]
  },
  {
   "cell_type": "code",
   "execution_count": null,
   "metadata": {},
   "outputs": [],
   "source": []
  },
  {
   "cell_type": "code",
   "execution_count": null,
   "metadata": {},
   "outputs": [],
   "source": []
  }
 ],
 "metadata": {
  "kernelspec": {
   "display_name": "Python 3",
   "language": "python",
   "name": "python3"
  },
  "language_info": {
   "codemirror_mode": {
    "name": "ipython",
    "version": 3
   },
   "file_extension": ".py",
   "mimetype": "text/x-python",
   "name": "python",
   "nbconvert_exporter": "python",
   "pygments_lexer": "ipython3",
   "version": "3.6.8"
  }
 },
 "nbformat": 4,
 "nbformat_minor": 4
}
