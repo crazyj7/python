{
 "cells": [
  {
   "cell_type": "markdown",
   "metadata": {},
   "source": [
    "# Jake Cipher\n",
    "\n",
    "아핀암호와 울타리 암호를 응용한 복합 암호화 알고리즘  \n",
    "\n",
    "=> 공백, 숫자, 특수문자는 암호화 하지 않는다.  \n",
    "=> 알파벳에만 암호화를 순차적으로 적용한다.  \n",
    "=> 대문자는 대문자 암호화, 소문자는 소문자로 암호화한다.\n",
    "\n",
    "키는 두 개를 쌍으로 하여 N개를 사용한다.  \n",
    "키 쌍은 곱 키와 합 키가 있어서 입력값에 해당 값을 곱한 후 합 키를 더한다.  \n",
    "암호화에 사용되는 문자셋은 알파벳 26자로 연산값에 mod 26 연산을 하여 다시 문자로 치환한다.  "
   ]
  },
  {
   "cell_type": "code",
   "execution_count": 171,
   "metadata": {},
   "outputs": [],
   "source": [
    "import numpy as np\n",
    "import math"
   ]
  },
  {
   "cell_type": "code",
   "execution_count": 172,
   "metadata": {},
   "outputs": [],
   "source": [
    "# 알파벳만 추출한다.\n",
    "def alphaonly(line):\n",
    "    retline=[]\n",
    "    for a in line:\n",
    "        if a.isalpha():\n",
    "            retline.append(a)\n",
    "    return retline"
   ]
  },
  {
   "cell_type": "code",
   "execution_count": 173,
   "metadata": {},
   "outputs": [],
   "source": [
    "# 리스트 성분을 길이에 맞춰 출력. \n",
    "# 일정한 길이로 필드를 출력함.\n",
    "# alonly: 스트링 타입인데 알파벳이 아닌 부분은 출력 안 함.\n",
    "def printlist(head, al, itemlength, alonly=True):\n",
    "    strlist = []\n",
    "    for a in al:\n",
    "        if alonly:\n",
    "            if type(a)==str and (not a.isalpha()) :\n",
    "                continue\n",
    "        strlist.append((\"{:>\"+str(itemlength)+\"}\").format(a))\n",
    "    print(head, ''.join(strlist), sep='')"
   ]
  },
  {
   "cell_type": "code",
   "execution_count": 174,
   "metadata": {},
   "outputs": [
    {
     "name": "stdout",
     "output_type": "stream",
     "text": [
      "    a   bb  ccc   dd\n",
      " aaaa    b   cc dddd\n"
     ]
    }
   ],
   "source": [
    "printlist('', ['a','bb','ccc','dd'], 5)\n",
    "printlist('', ['aaaa','b','cc','dddd'], 5)"
   ]
  },
  {
   "cell_type": "code",
   "execution_count": 175,
   "metadata": {},
   "outputs": [
    {
     "name": "stdout",
     "output_type": "stream",
     "text": [
      "index    0  1  2  3  4  5  6  7  8  9 10 11 12 13 14 15 16 17 18 19 20 21 22 23 24 25\n",
      "char     A  B  C  D  E  F  G  H  I  J  K  L  M  N  O  P  Q  R  S  T  U  V  W  X  Y  Z\n"
     ]
    }
   ],
   "source": [
    "# 문자열 맵핑. 0=A, 1=B, .. 25=Z로 맵핑한다. \n",
    "amap = [chr(ord('A')+i) for i in range(26)]\n",
    "printlist('index  ', list(range(26)), 3, False)\n",
    "printlist('char   ', amap, 3)"
   ]
  },
  {
   "cell_type": "code",
   "execution_count": 176,
   "metadata": {},
   "outputs": [
    {
     "name": "stdout",
     "output_type": "stream",
     "text": [
      "plaintext= I AM A STUDENT.\n"
     ]
    }
   ],
   "source": [
    "plaintext = 'I AM A STUDENT.'\n",
    "print('plaintext=', plaintext)"
   ]
  },
  {
   "cell_type": "code",
   "execution_count": 177,
   "metadata": {},
   "outputs": [
    {
     "name": "stdout",
     "output_type": "stream",
     "text": [
      "plain:   I   A   M   A   S   T   U   D   E   N   T\n",
      "code :   8   0  12   0  18  19  20   3   4  13  19\n"
     ]
    }
   ],
   "source": [
    "plaincode=[ord(c)-ord('A') for c in alphaonly(plaintext)]\n",
    "printlist('plain:', plaintext, 4)\n",
    "printlist('code :', plaincode, 4)"
   ]
  },
  {
   "cell_type": "markdown",
   "metadata": {},
   "source": [
    "### 아핀 암호화"
   ]
  },
  {
   "cell_type": "code",
   "execution_count": 178,
   "metadata": {},
   "outputs": [
    {
     "name": "stdout",
     "output_type": "stream",
     "text": [
      "0 I 8 key= (5, 3)\n",
      "enc= 17  str= R\n",
      " \n",
      "1 A 0 key= (3, 1)\n",
      "enc= 1  str= B\n",
      "2 M 12 key= (9, 7)\n",
      "enc= 11  str= L\n",
      " \n",
      "3 A 0 key= (5, 5)\n",
      "enc= 5  str= F\n",
      " \n",
      "4 S 18 key= (5, 3)\n",
      "enc= 15  str= P\n",
      "5 T 19 key= (3, 1)\n",
      "enc= 6  str= G\n",
      "6 U 20 key= (9, 7)\n",
      "enc= 5  str= F\n",
      "7 D 3 key= (5, 5)\n",
      "enc= 20  str= U\n",
      "8 E 4 key= (5, 3)\n",
      "enc= 23  str= X\n",
      "9 N 13 key= (3, 1)\n",
      "enc= 14  str= O\n",
      "10 T 19 key= (9, 7)\n",
      "enc= 22  str= W\n",
      ".\n",
      "R BL F PGFUXOW.\n"
     ]
    }
   ],
   "source": [
    "# 암호화\n",
    "apinkeys=[(5,3), (3,1), (9,7), (5,5)]\n",
    "keyindex=0\n",
    "i=0\n",
    "midcipher=\"\"\n",
    "\n",
    "plaincode=[]\n",
    "oper=[]\n",
    "calc1=[]\n",
    "calc2=[]\n",
    "for c in plaintext:\n",
    "    if c.isalpha():\n",
    "        code = ord(c)-ord('A')\n",
    "        plaincode.append(code)\n",
    "        print(i, c, code, 'key=', apinkeys[i%4])\n",
    "        a = apinkeys[i%4][0]\n",
    "        b = apinkeys[i%4][1]\n",
    "        oper.append(\"*{}+{}\".format(a, b))\n",
    "        vv = code*a+b\n",
    "        calc1.append(vv)\n",
    "        enc = (vv)%26\n",
    "        calc2.append(enc)\n",
    "        encchar = chr(enc+ord('A'))\n",
    "        print('enc=', enc, ' str=', encchar)\n",
    "        midcipher+=encchar\n",
    "        i+=1\n",
    "    else: \n",
    "        print(c)\n",
    "        midcipher+=c\n",
    "print(midcipher)"
   ]
  },
  {
   "cell_type": "code",
   "execution_count": 179,
   "metadata": {},
   "outputs": [
    {
     "name": "stdout",
     "output_type": "stream",
     "text": [
      "plain     I    A    M    A    S    T    U    D    E    N    T\n",
      "code      8    0   12    0   18   19   20    3    4   13   19\n",
      "oper   *5+3 *3+1 *9+7 *5+5 *5+3 *3+1 *9+7 *5+5 *5+3 *3+1 *9+7\n",
      " * +     43    1  115    5   93   58  187   20   23   40  178\n",
      "   %     17    1   11    5   15    6    5   20   23   14   22\n",
      "affine    R    B    L    F    P    G    F    U    X    O    W\n",
      "encrypted (AFFINE): R BL F PGFUXOW.\n",
      "size= 15\n"
     ]
    }
   ],
   "source": [
    "# enc process trace\n",
    "itemlength=5\n",
    "printlist('plain ', plaintext, itemlength)\n",
    "printlist('code  ', plaincode, itemlength)\n",
    "printlist('oper  ', oper, itemlength, False)\n",
    "printlist(' * +  ', calc1, itemlength)\n",
    "printlist('   %  ', calc2, itemlength)\n",
    "encrypted = [amap[i] for i in calc2]\n",
    "printlist('affine', encrypted, itemlength)\n",
    "print('encrypted (AFFINE):', midcipher)\n",
    "print('size=', len(midcipher))"
   ]
  },
  {
   "cell_type": "markdown",
   "metadata": {},
   "source": [
    "### 울타리암호화"
   ]
  },
  {
   "cell_type": "code",
   "execution_count": 180,
   "metadata": {},
   "outputs": [
    {
     "name": "stdout",
     "output_type": "stream",
     "text": [
      "padding size= 1\n",
      "AFFINE encrypted block(padding): R BL F PGFUXOW. \n",
      "size= 16\n"
     ]
    }
   ],
   "source": [
    "blocksize = math.ceil(len(midcipher)/4)*4\n",
    "midcipher2 = midcipher+' '*(blocksize-len(midcipher))\n",
    "print('padding size=', (blocksize-len(midcipher)))\n",
    "print('AFFINE encrypted block(padding):', midcipher2)\n",
    "print('size=', len(midcipher2))"
   ]
  },
  {
   "cell_type": "code",
   "execution_count": 181,
   "metadata": {},
   "outputs": [
    {
     "name": "stdout",
     "output_type": "stream",
     "text": [
      "maxtix shape ROWS= 4 COLS= 4\n",
      "[['R' ' ' 'B' 'L']\n",
      " [' ' 'F' ' ' 'P']\n",
      " ['G' 'F' 'U' 'X']\n",
      " ['O' 'W' '.' ' ']]\n"
     ]
    }
   ],
   "source": [
    "rows = 4\n",
    "cols = int(blocksize/4)\n",
    "print(\"maxtix shape ROWS=\", rows, \"COLS=\", cols)\n",
    "mat = np.asarray(list(midcipher2))\n",
    "mat = mat.reshape((rows, cols))\n",
    "print(mat)"
   ]
  },
  {
   "cell_type": "code",
   "execution_count": 182,
   "metadata": {},
   "outputs": [
    {
     "name": "stdout",
     "output_type": "stream",
     "text": [
      "[['R' ' ' 'G' 'O']\n",
      " [' ' 'F' 'F' 'W']\n",
      " ['B' ' ' 'U' '.']\n",
      " ['L' 'P' 'X' ' ']]\n",
      "encrypted(ULTARI): R GO FFWB U.LPX \n"
     ]
    }
   ],
   "source": [
    "matt = mat.T\n",
    "print(matt)\n",
    "matlist = list(matt.reshape(-1))\n",
    "lastcipher = ''.join(matlist)\n",
    "\n",
    "print('encrypted(ULTARI):', lastcipher)"
   ]
  },
  {
   "cell_type": "markdown",
   "metadata": {},
   "source": [
    "## Decrypt"
   ]
  },
  {
   "cell_type": "code",
   "execution_count": 183,
   "metadata": {},
   "outputs": [
    {
     "name": "stdout",
     "output_type": "stream",
     "text": [
      "last cipher= R GO FFWB U.LPX   length= 16\n"
     ]
    }
   ],
   "source": [
    "print(\"last cipher=\", lastcipher, \" length=\", len(lastcipher))"
   ]
  },
  {
   "cell_type": "markdown",
   "metadata": {},
   "source": [
    "### 울타리 암호 복호화"
   ]
  },
  {
   "cell_type": "code",
   "execution_count": 184,
   "metadata": {},
   "outputs": [
    {
     "name": "stdout",
     "output_type": "stream",
     "text": [
      "maxtix shape ROWS= 4 COLS= 4\n",
      "['R' ' ' 'G' 'O' ' ' 'F' 'F' 'W' 'B' ' ' 'U' '.' 'L' 'P' 'X' ' ']\n"
     ]
    }
   ],
   "source": [
    "blocksize = math.ceil(len(lastcipher)/4)*4\n",
    "lastcipher2 = lastcipher+' '*(blocksize-len(lastcipher))\n",
    "\n",
    "rows = 4\n",
    "cols = int(blocksize/4)\n",
    "print(\"maxtix shape ROWS=\", rows, \"COLS=\", cols)\n",
    "\n",
    "mat = np.asarray(list(lastcipher2))\n",
    "print(mat)"
   ]
  },
  {
   "cell_type": "code",
   "execution_count": 185,
   "metadata": {},
   "outputs": [
    {
     "name": "stdout",
     "output_type": "stream",
     "text": [
      "[['R' ' ' 'G' 'O']\n",
      " [' ' 'F' 'F' 'W']\n",
      " ['B' ' ' 'U' '.']\n",
      " ['L' 'P' 'X' ' ']]\n",
      "[['R' ' ' 'B' 'L']\n",
      " [' ' 'F' ' ' 'P']\n",
      " ['G' 'F' 'U' 'X']\n",
      " ['O' 'W' '.' ' ']]\n"
     ]
    }
   ],
   "source": [
    "mat = mat.reshape((cols, rows))\n",
    "print(mat)\n",
    "matt = mat.T\n",
    "print(matt)"
   ]
  },
  {
   "cell_type": "code",
   "execution_count": 186,
   "metadata": {},
   "outputs": [
    {
     "name": "stdout",
     "output_type": "stream",
     "text": [
      "decrypt (ULTARI)= R BL F PGFUXOW. \n"
     ]
    }
   ],
   "source": [
    "matlist = list(matt.reshape(-1))\n",
    "middec = ''.join(matlist)\n",
    "print('decrypt (ULTARI)=', middec)"
   ]
  },
  {
   "cell_type": "markdown",
   "metadata": {},
   "source": [
    "### 아핀 암호 복호화"
   ]
  },
  {
   "cell_type": "code",
   "execution_count": 187,
   "metadata": {},
   "outputs": [
    {
     "name": "stdout",
     "output_type": "stream",
     "text": [
      "0 R 17 key= (5, 3)\n",
      "8\n",
      "dec= 8  str= I\n",
      " \n",
      "1 B 1 key= (3, 1)\n",
      "0\n",
      "dec= 0  str= A\n",
      "2 L 11 key= (9, 7)\n",
      "12\n",
      "dec= 12  str= M\n",
      " \n",
      "3 F 5 key= (5, 5)\n",
      "0\n",
      "dec= 0  str= A\n",
      " \n",
      "4 P 15 key= (5, 3)\n",
      "18\n",
      "dec= 18  str= S\n",
      "5 G 6 key= (3, 1)\n",
      "19\n",
      "dec= 19  str= T\n",
      "6 F 5 key= (9, 7)\n",
      "20\n",
      "dec= 20  str= U\n",
      "7 U 20 key= (5, 5)\n",
      "3\n",
      "dec= 3  str= D\n",
      "8 X 23 key= (5, 3)\n",
      "4\n",
      "dec= 4  str= E\n",
      "9 O 14 key= (3, 1)\n",
      "13\n",
      "dec= 13  str= N\n",
      "10 W 22 key= (9, 7)\n",
      "19\n",
      "dec= 19  str= T\n",
      ".\n",
      " \n",
      "I AM A STUDENT. \n"
     ]
    }
   ],
   "source": [
    "i=0\n",
    "lastdec=\"\"\n",
    "midcode=[]\n",
    "calc2=[]\n",
    "for c in middec:\n",
    "    if c.isalpha():\n",
    "        code = ord(c)-ord('A')\n",
    "        midcode.append(code)\n",
    "        print(i, c, code, 'key=', apinkeys[i%4])\n",
    "        a = apinkeys[i%4][0]\n",
    "        b = apinkeys[i%4][1]\n",
    "        alpha = 0\n",
    "        while (alpha+code-b)%a!=0:\n",
    "            alpha += 26\n",
    "        dec = int ( ((alpha+code-b)/a)%26 )\n",
    "        calc2.append(dec)\n",
    "        print(dec)\n",
    "        decchar = chr(dec+ord('A'))\n",
    "        print('dec=', dec, ' str=', decchar)\n",
    "        lastdec+=decchar\n",
    "        i+=1\n",
    "    else: \n",
    "        print(c)\n",
    "        lastdec+=c\n",
    "print(lastdec)"
   ]
  },
  {
   "cell_type": "code",
   "execution_count": 188,
   "metadata": {},
   "outputs": [
    {
     "name": "stdout",
     "output_type": "stream",
     "text": [
      "lastenc     R   G   O   F   F   W   B   U   L   P   X\n",
      "midenc      R   B   L   F   P   G   F   U   X   O   W\n",
      "code       17   1  11   5  15   6   5  20  23  14  22\n",
      "calc2       8   0  12   0  18  19  20   3   4  13  19\n",
      "decrypted   I   A   M   A   S   T   U   D   E   N   T\n"
     ]
    }
   ],
   "source": [
    "# enc process trace\n",
    "printlist('lastenc  ', lastcipher, 4)\n",
    "printlist('midenc   ', midcipher, 4)\n",
    "printlist('code     ', midcode, 4)\n",
    "printlist('calc2    ', calc2, 4)\n",
    "# printlist(' * +   ', calc1, 4)\n",
    "# printlist('   %   ', calc2, 4)\n",
    "decrypted = [amap[i] for i in calc2]\n",
    "printlist('decrypted', decrypted, 4)\n"
   ]
  },
  {
   "cell_type": "code",
   "execution_count": 189,
   "metadata": {},
   "outputs": [
    {
     "name": "stdout",
     "output_type": "stream",
     "text": [
      "I AM A STUDENT. \n"
     ]
    }
   ],
   "source": [
    "print(lastdec)"
   ]
  },
  {
   "cell_type": "code",
   "execution_count": null,
   "metadata": {},
   "outputs": [],
   "source": []
  },
  {
   "cell_type": "code",
   "execution_count": null,
   "metadata": {},
   "outputs": [],
   "source": []
  },
  {
   "cell_type": "markdown",
   "metadata": {},
   "source": [
    "# Cipher Module"
   ]
  },
  {
   "cell_type": "code",
   "execution_count": 190,
   "metadata": {},
   "outputs": [],
   "source": [
    "def encrypt(apinkeys, plain):\n",
    "#     plain=plain.upper()   ## upper case only!!!\n",
    "\n",
    "    # key valid check\n",
    "    for a,b in apinkeys:\n",
    "        if a%2==0:\n",
    "            return ''\n",
    "        if a%13==0:\n",
    "            return ''\n",
    "\n",
    "    keypair=len(apinkeys)\n",
    "    i=0\n",
    "    midcipher=\"\"\n",
    "    plaincode=[]\n",
    "    calc1=[]\n",
    "    calc2=[]\n",
    "    for c in plain:\n",
    "        uppercase = c.isupper()\n",
    "        if c.isalpha():\n",
    "            if uppercase:\n",
    "                code = ord(c)-ord('A')\n",
    "            else:\n",
    "                code = ord(c)-ord('a')\n",
    "            plaincode.append(code)\n",
    "            a = apinkeys[i%keypair][0]\n",
    "            b = apinkeys[i%keypair][1]\n",
    "            vv = code*a+b\n",
    "            calc1.append(vv)\n",
    "            enc = (vv)%26\n",
    "            calc2.append(enc)\n",
    "            if uppercase:\n",
    "                encchar = chr(enc+ord('A'))\n",
    "            else:\n",
    "                encchar = chr(enc+ord('a'))\n",
    "            midcipher+=encchar\n",
    "            i+=1\n",
    "        else: \n",
    "            midcipher+=c\n",
    "\n",
    "    blocksize = math.ceil(len(midcipher)/4)*4\n",
    "    midcipher2 = midcipher+' '*(blocksize-len(midcipher))\n",
    "\n",
    "    rows = 4\n",
    "    cols = int(blocksize/4)\n",
    "    mat = np.asarray(list(midcipher2))\n",
    "    mat = mat.reshape((rows, cols))\n",
    "\n",
    "    matt = mat.T\n",
    "    matlist = list(matt.reshape(-1))\n",
    "    lastcipher = ''.join(matlist)\n",
    "\n",
    "    return lastcipher\n"
   ]
  },
  {
   "cell_type": "code",
   "execution_count": 191,
   "metadata": {},
   "outputs": [],
   "source": [
    "def decrypt(apinkeys, lastcipher):\n",
    "    blocksize = math.ceil(len(lastcipher)/4)*4\n",
    "    lastcipher2 = lastcipher+' '*(blocksize-len(lastcipher))\n",
    "    keypair=len(apinkeys)\n",
    "\n",
    "    rows = 4\n",
    "    cols = int(blocksize/4)\n",
    "\n",
    "    mat = np.asarray(list(lastcipher2))\n",
    "\n",
    "    mat = mat.reshape((cols, rows))\n",
    "    matt = mat.T\n",
    "\n",
    "    matlist = list(matt.reshape(-1))\n",
    "    middec = ''.join(matlist)\n",
    "\n",
    "    ### 아핀 암호 복호화\n",
    "\n",
    "    i=0\n",
    "    lastdec=\"\"\n",
    "    midcode=[]\n",
    "    calc2=[]\n",
    "    for c in middec:\n",
    "        uppercase = c.isupper()\n",
    "        if c.isalpha():\n",
    "            if uppercase:\n",
    "                code = ord(c)-ord('A')\n",
    "            else:\n",
    "                code = ord(c)-ord('a')\n",
    "            midcode.append(code)\n",
    "            a = apinkeys[i%keypair][0]\n",
    "            b = apinkeys[i%keypair][1]\n",
    "            alpha = 0\n",
    "            while (alpha+code-b)%a!=0:\n",
    "                alpha += 26\n",
    "            dec = int ( ((alpha+code-b)/a)%26 )\n",
    "            calc2.append(dec)\n",
    "            if uppercase:\n",
    "                decchar = chr(dec+ord('A'))\n",
    "            else:\n",
    "                decchar = chr(dec+ord('a'))\n",
    "            lastdec+=decchar\n",
    "            i+=1\n",
    "        else: \n",
    "            lastdec+=c\n",
    "    return lastdec    "
   ]
  },
  {
   "cell_type": "code",
   "execution_count": null,
   "metadata": {},
   "outputs": [],
   "source": []
  },
  {
   "cell_type": "markdown",
   "metadata": {},
   "source": [
    "### 모듈 시험. (암복호화 테스트)"
   ]
  },
  {
   "cell_type": "code",
   "execution_count": 192,
   "metadata": {},
   "outputs": [
    {
     "name": "stdout",
     "output_type": "stream",
     "text": [
      "N B\"FM R DSPUTXTDZONDTTQPZ \" BX.B.Q R   \n",
      "MY NAME IS JAEWOOK. I LIVE IN \"SEOUL\".  \n",
      "OK\n"
     ]
    }
   ],
   "source": [
    "# apinkeys=[(5,3), (3,1), (9,7), (5,5)]\n",
    "apinkeys=[(3,3), (11,1), (15,7)]\n",
    "plain='MY NAME IS JAEWOOK. I LIVE IN \"SEOUL\".'\n",
    "\n",
    "lastcipher=encrypt(apinkeys, plain)\n",
    "print(lastcipher)\n",
    "\n",
    "lastdec=decrypt(apinkeys, lastcipher)\n",
    "print(lastdec)\n",
    "\n",
    "if plain.rstrip()==lastdec.rstrip():\n",
    "    print(\"OK\")\n",
    "else:\n",
    "    print(\"FAIL\")"
   ]
  },
  {
   "cell_type": "code",
   "execution_count": 193,
   "metadata": {},
   "outputs": [
    {
     "name": "stdout",
     "output_type": "stream",
     "text": [
      "Nt\"ofzR  bP5u.Tgd NydBQ p \"p s.cbx droBi t pM b.dxf tq  Z b \n",
      "My name is JaeWook. I live in \"SEOUL\". I am in 5th grade.   \n",
      "OK\n"
     ]
    }
   ],
   "source": [
    "# 대소문자 테스트\n",
    "apinkeys=[(3,3), (11,1), (15,7)]\n",
    "plain='My name is JaeWook. I live in \"SEOUL\". I am in 5th grade.'\n",
    "\n",
    "lastcipher=encrypt(apinkeys, plain)\n",
    "print(lastcipher)\n",
    "\n",
    "lastdec=decrypt(apinkeys, lastcipher)\n",
    "print(lastdec)\n",
    "if plain.rstrip()==lastdec.rstrip():\n",
    "    print(\"OK\")\n",
    "else:\n",
    "    print(\"FAIL\")"
   ]
  },
  {
   "cell_type": "code",
   "execution_count": null,
   "metadata": {},
   "outputs": [],
   "source": []
  },
  {
   "cell_type": "code",
   "execution_count": 194,
   "metadata": {},
   "outputs": [
    {
     "name": "stdout",
     "output_type": "stream",
     "text": [
      "KIDGT GGGCGP'IXIFB ! RR P G PYD \n",
      "LET'S GET THIS PARTY STARTED!   \n",
      "OK\n"
     ]
    }
   ],
   "source": [
    "# 암복호화 테스트 \n",
    "# apinkeys=[(5,3), (3,1), (9,7), (5,5)]\n",
    "apinkeys=[(3,3), (11,1), (15,7)]\n",
    "plain='LET\\'S GET THIS PARTY STARTED!'\n",
    "\n",
    "lastcipher=encrypt(apinkeys, plain)\n",
    "print(lastcipher)\n",
    "\n",
    "lastdec=decrypt(apinkeys, lastcipher)\n",
    "print(lastdec)\n",
    "if plain.rstrip()==lastdec.rstrip():\n",
    "    print(\"OK\")\n",
    "else:\n",
    "    print(\"FAIL\")"
   ]
  },
  {
   "cell_type": "code",
   "execution_count": null,
   "metadata": {},
   "outputs": [],
   "source": []
  },
  {
   "cell_type": "code",
   "execution_count": 195,
   "metadata": {},
   "outputs": [
    {
     "name": "stdout",
     "output_type": "stream",
     "text": [
      "KIDGT GGGCGP'IXIFB ! RR P G PYD \n",
      "LET'S GET THIS PARTY STARTED!   \n",
      "OK\n"
     ]
    }
   ],
   "source": [
    "apinkeys=[(29,3), (11,1), (15,7)]\n",
    "plain='LET\\'S GET THIS PARTY STARTED!'\n",
    "\n",
    "lastcipher=encrypt(apinkeys, plain)\n",
    "if lastcipher=='':\n",
    "    print('invalid key')\n",
    "print(lastcipher)\n",
    "\n",
    "lastdec=decrypt(apinkeys, lastcipher)\n",
    "print(lastdec)\n",
    "if plain.rstrip()==lastdec.rstrip():\n",
    "    print(\"OK\")\n",
    "else:\n",
    "    print(\"FAIL\")"
   ]
  },
  {
   "cell_type": "code",
   "execution_count": null,
   "metadata": {},
   "outputs": [],
   "source": []
  },
  {
   "cell_type": "code",
   "execution_count": null,
   "metadata": {},
   "outputs": [],
   "source": []
  },
  {
   "cell_type": "markdown",
   "metadata": {},
   "source": [
    "### 아핀 암호의 키값에서 곱 키에 적당한 값 검사\n",
    "\n",
    "사용되는 문자셋 개수와 서로소가 되는 값만 곱 키로 사용 가능하다.  \n",
    "본 케이스의 경우는 알파벳 26을 사용하므로 26=2*13   \n",
    "따라서 인수가 2, 13이 들어가는 키는 사용할 수 없다.  (2,13의 배수는 키로 사용 불가)"
   ]
  },
  {
   "cell_type": "code",
   "execution_count": 196,
   "metadata": {},
   "outputs": [],
   "source": [
    "## *a+b operator test\n",
    "al = \"ABCDEFGHIJKLMNOPQRSTUVWXYZ\""
   ]
  },
  {
   "cell_type": "code",
   "execution_count": 197,
   "metadata": {},
   "outputs": [],
   "source": [
    "# a,b = 2, 3"
   ]
  },
  {
   "cell_type": "code",
   "execution_count": 198,
   "metadata": {},
   "outputs": [],
   "source": [
    "def affinecrypt(m,b):\n",
    "    al = \"ABCDEFGHIJKLMNOPQRSTUVWXYZ\"\n",
    "    enccode = []\n",
    "    for c in al:\n",
    "        if c.isalpha():\n",
    "            code = ord(c)-ord('A')\n",
    "            enc1 = code*m+b\n",
    "            enc2 = enc1 % 26\n",
    "#             print(c, code, enc1,'=',enc2)\n",
    "            enccode.append(enc2)\n",
    "    enccode = np.asarray(enccode)\n",
    "    print(enccode)\n",
    "    enccode.sort()\n",
    "    print(enccode)\n",
    "    return len(list(set(enccode)))==26"
   ]
  },
  {
   "cell_type": "code",
   "execution_count": 199,
   "metadata": {},
   "outputs": [
    {
     "name": "stdout",
     "output_type": "stream",
     "text": [
      "[ 2 18  8 24 14  4 20 10  0 16  6 22 12  2 18  8 24 14  4 20 10  0 16  6\n",
      " 22 12]\n",
      "[ 0  0  2  2  4  4  6  6  8  8 10 10 12 12 14 14 16 16 18 18 20 20 22 22\n",
      " 24 24]\n",
      "Bad (duplicate)\n"
     ]
    }
   ],
   "source": [
    "if affinecrypt(16,2):\n",
    "    print('Good (unique)')\n",
    "else:\n",
    "    print('Bad (duplicate)')"
   ]
  },
  {
   "cell_type": "code",
   "execution_count": 200,
   "metadata": {},
   "outputs": [
    {
     "name": "stdout",
     "output_type": "stream",
     "text": [
      "[ 2  5  8 11 14 17 20 23  0  3  6  9 12 15 18 21 24  1  4  7 10 13 16 19\n",
      " 22 25]\n",
      "[ 0  1  2  3  4  5  6  7  8  9 10 11 12 13 14 15 16 17 18 19 20 21 22 23\n",
      " 24 25]\n",
      "Good (unique)\n"
     ]
    }
   ],
   "source": [
    "if affinecrypt(3,2):\n",
    "    print('Good (unique)')\n",
    "else:\n",
    "    print('Bad (duplicate)')"
   ]
  },
  {
   "cell_type": "code",
   "execution_count": 201,
   "metadata": {},
   "outputs": [
    {
     "name": "stdout",
     "output_type": "stream",
     "text": [
      "[ 2  4  6  8 10 12 14 16 18 20 22 24  0  2  4  6  8 10 12 14 16 18 20 22\n",
      " 24  0]\n",
      "[ 0  0  2  2  4  4  6  6  8  8 10 10 12 12 14 14 16 16 18 18 20 20 22 22\n",
      " 24 24]\n"
     ]
    },
    {
     "data": {
      "text/plain": [
       "False"
      ]
     },
     "execution_count": 201,
     "metadata": {},
     "output_type": "execute_result"
    }
   ],
   "source": [
    "affinecrypt(2,2)"
   ]
  },
  {
   "cell_type": "code",
   "execution_count": 202,
   "metadata": {},
   "outputs": [
    {
     "name": "stdout",
     "output_type": "stream",
     "text": [
      "[ 2  7 12 17 22  1  6 11 16 21  0  5 10 15 20 25  4  9 14 19 24  3  8 13\n",
      " 18 23]\n",
      "[ 0  1  2  3  4  5  6  7  8  9 10 11 12 13 14 15 16 17 18 19 20 21 22 23\n",
      " 24 25]\n"
     ]
    },
    {
     "data": {
      "text/plain": [
       "True"
      ]
     },
     "execution_count": 202,
     "metadata": {},
     "output_type": "execute_result"
    }
   ],
   "source": [
    "affinecrypt(5,2)"
   ]
  },
  {
   "cell_type": "code",
   "execution_count": 203,
   "metadata": {},
   "outputs": [
    {
     "name": "stdout",
     "output_type": "stream",
     "text": [
      "[ 2 15  2 15  2 15  2 15  2 15  2 15  2 15  2 15  2 15  2 15  2 15  2 15\n",
      "  2 15]\n",
      "[ 2  2  2  2  2  2  2  2  2  2  2  2  2 15 15 15 15 15 15 15 15 15 15 15\n",
      " 15 15]\n"
     ]
    },
    {
     "data": {
      "text/plain": [
       "False"
      ]
     },
     "execution_count": 203,
     "metadata": {},
     "output_type": "execute_result"
    }
   ],
   "source": [
    "affinecrypt(13,2)"
   ]
  },
  {
   "cell_type": "code",
   "execution_count": 204,
   "metadata": {},
   "outputs": [
    {
     "name": "stdout",
     "output_type": "stream",
     "text": [
      "[ 2 16  4 18  6 20  8 22 10 24 12  0 14  2 16  4 18  6 20  8 22 10 24 12\n",
      "  0 14]\n",
      "[ 0  0  2  2  4  4  6  6  8  8 10 10 12 12 14 14 16 16 18 18 20 20 22 22\n",
      " 24 24]\n"
     ]
    },
    {
     "data": {
      "text/plain": [
       "False"
      ]
     },
     "execution_count": 204,
     "metadata": {},
     "output_type": "execute_result"
    }
   ],
   "source": [
    "affinecrypt(14,2)"
   ]
  },
  {
   "cell_type": "code",
   "execution_count": 205,
   "metadata": {},
   "outputs": [
    {
     "name": "stdout",
     "output_type": "stream",
     "text": [
      "[ 2 17  6 21 10 25 14  3 18  7 22 11  0 15  4 19  8 23 12  1 16  5 20  9\n",
      " 24 13]\n",
      "[ 0  1  2  3  4  5  6  7  8  9 10 11 12 13 14 15 16 17 18 19 20 21 22 23\n",
      " 24 25]\n"
     ]
    },
    {
     "data": {
      "text/plain": [
       "True"
      ]
     },
     "execution_count": 205,
     "metadata": {},
     "output_type": "execute_result"
    }
   ],
   "source": [
    "affinecrypt(15,2)"
   ]
  },
  {
   "cell_type": "code",
   "execution_count": null,
   "metadata": {},
   "outputs": [],
   "source": []
  },
  {
   "cell_type": "code",
   "execution_count": null,
   "metadata": {},
   "outputs": [],
   "source": []
  },
  {
   "cell_type": "code",
   "execution_count": null,
   "metadata": {},
   "outputs": [],
   "source": []
  }
 ],
 "metadata": {
  "kernelspec": {
   "display_name": "Python 3",
   "language": "python",
   "name": "python3"
  },
  "language_info": {
   "codemirror_mode": {
    "name": "ipython",
    "version": 3
   },
   "file_extension": ".py",
   "mimetype": "text/x-python",
   "name": "python",
   "nbconvert_exporter": "python",
   "pygments_lexer": "ipython3",
   "version": "3.6.8"
  }
 },
 "nbformat": 4,
 "nbformat_minor": 4
}
