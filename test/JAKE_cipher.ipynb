{
 "cells": [
  {
   "cell_type": "code",
   "execution_count": null,
   "metadata": {},
   "outputs": [],
   "source": []
  },
  {
   "cell_type": "code",
   "execution_count": 26,
   "metadata": {},
   "outputs": [],
   "source": [
    "import numpy as np\n",
    "import math"
   ]
  },
  {
   "cell_type": "code",
   "execution_count": 15,
   "metadata": {},
   "outputs": [],
   "source": [
    "str = 'I AM A STUDENT.'"
   ]
  },
  {
   "cell_type": "code",
   "execution_count": 16,
   "metadata": {},
   "outputs": [
    {
     "name": "stdout",
     "output_type": "stream",
     "text": [
      "0 I 8\n",
      " \n",
      "1 A 0\n",
      "2 M 12\n",
      " \n",
      "3 A 0\n",
      " \n",
      "4 S 18\n",
      "5 T 19\n",
      "6 U 20\n",
      "7 D 3\n",
      "8 E 4\n",
      "9 N 13\n",
      "10 T 19\n",
      ".\n"
     ]
    }
   ],
   "source": [
    "i=0\n",
    "for c in str:\n",
    "    if c.isalpha():\n",
    "        code = ord(c)-ord('A')\n",
    "        print(i, c, code)\n",
    "        i+=1\n",
    "    else:\n",
    "        print(c)"
   ]
  },
  {
   "cell_type": "code",
   "execution_count": 17,
   "metadata": {},
   "outputs": [
    {
     "name": "stdout",
     "output_type": "stream",
     "text": [
      "0 I 8 key= (2, 3)\n",
      "enc= 19  str= T\n",
      " \n",
      "1 A 0 key= (3, 1)\n",
      "enc= 1  str= B\n",
      "2 M 12 key= (4, 2)\n",
      "enc= 24  str= Y\n",
      " \n",
      "3 A 0 key= (5, 5)\n",
      "enc= 5  str= F\n",
      " \n",
      "4 S 18 key= (2, 3)\n",
      "enc= 13  str= N\n",
      "5 T 19 key= (3, 1)\n",
      "enc= 6  str= G\n",
      "6 U 20 key= (4, 2)\n",
      "enc= 4  str= E\n",
      "7 D 3 key= (5, 5)\n",
      "enc= 20  str= U\n",
      "8 E 4 key= (2, 3)\n",
      "enc= 11  str= L\n",
      "9 N 13 key= (3, 1)\n",
      "enc= 14  str= O\n",
      "10 T 19 key= (4, 2)\n",
      "enc= 0  str= A\n",
      ".\n",
      "T BY F NGEULOA.\n"
     ]
    }
   ],
   "source": [
    "apinkeys=[(2,3), (3,1), (4,2), (5,5)]\n",
    "keyindex=0\n",
    "i=0\n",
    "encdata=\"\"\n",
    "for c in str:\n",
    "    if c.isalpha():\n",
    "        code = ord(c)-ord('A')\n",
    "        print(i, c, code, 'key=', apinkeys[i%4])\n",
    "        a = apinkeys[i%4][0]\n",
    "        b = apinkeys[i%4][1]\n",
    "        enc = (code*a+b)%26\n",
    "        encchar = chr(enc+ord('A'))\n",
    "        print('enc=', enc, ' str=', encchar)\n",
    "        encdata+=encchar\n",
    "        i+=1\n",
    "    else: \n",
    "        print(c)\n",
    "        encdata+=c\n",
    "print(encdata)"
   ]
  },
  {
   "cell_type": "code",
   "execution_count": 27,
   "metadata": {},
   "outputs": [],
   "source": [
    "blocksize = math.ceil(len(encdata)/4)*4\n",
    "encdata2 = encdata+' '*(blocksize-len(encdata))"
   ]
  },
  {
   "cell_type": "code",
   "execution_count": 28,
   "metadata": {},
   "outputs": [
    {
     "data": {
      "text/plain": [
       "'T BY F NGEULOA. '"
      ]
     },
     "execution_count": 28,
     "metadata": {},
     "output_type": "execute_result"
    }
   ],
   "source": [
    "encdata2"
   ]
  },
  {
   "cell_type": "code",
   "execution_count": 32,
   "metadata": {},
   "outputs": [],
   "source": [
    "rows = 4\n",
    "cols = int(blocksize/4)"
   ]
  },
  {
   "cell_type": "code",
   "execution_count": 38,
   "metadata": {},
   "outputs": [
    {
     "name": "stdout",
     "output_type": "stream",
     "text": [
      "['T' ' ' 'B' 'Y' ' ' 'F' ' ' 'N' 'G' 'E' 'U' 'L' 'O' 'A' '.' ' ']\n"
     ]
    }
   ],
   "source": [
    "mat = np.asarray(list(encdata2))\n",
    "print(mat)"
   ]
  },
  {
   "cell_type": "code",
   "execution_count": 41,
   "metadata": {},
   "outputs": [],
   "source": [
    "mat = mat.reshape((rows, cols))"
   ]
  },
  {
   "cell_type": "code",
   "execution_count": 46,
   "metadata": {},
   "outputs": [],
   "source": [
    "matlist = list(mat.T.reshape(-1))\n",
    "cipher = ''.join(matlist)\n",
    "print(cipher)"
   ]
  },
  {
   "cell_type": "code",
   "execution_count": 49,
   "metadata": {},
   "outputs": [],
   "source": [
    "## Decrypt"
   ]
  },
  {
   "cell_type": "code",
   "execution_count": 50,
   "metadata": {},
   "outputs": [],
   "source": [
    "blocksize = math.ceil(len(cipher)/4)*4\n",
    "cipher2 = cipher+' '*(blocksize-len(cipher))"
   ]
  },
  {
   "cell_type": "code",
   "execution_count": 51,
   "metadata": {},
   "outputs": [],
   "source": [
    "rows = 4\n",
    "cols = int(blocksize/4)"
   ]
  },
  {
   "cell_type": "code",
   "execution_count": 52,
   "metadata": {},
   "outputs": [
    {
     "name": "stdout",
     "output_type": "stream",
     "text": [
      "['T' ' ' 'G' 'O' ' ' 'F' 'E' 'A' 'B' ' ' 'U' '.' 'Y' 'N' 'L' ' ']\n"
     ]
    }
   ],
   "source": [
    "mat = np.asarray(list(cipher2))\n",
    "print(mat)"
   ]
  },
  {
   "cell_type": "code",
   "execution_count": 54,
   "metadata": {},
   "outputs": [
    {
     "data": {
      "text/plain": [
       "array([['T', ' ', 'G', 'O'],\n",
       "       [' ', 'F', 'E', 'A'],\n",
       "       ['B', ' ', 'U', '.'],\n",
       "       ['Y', 'N', 'L', ' ']],\n",
       "      dtype='<U1')"
      ]
     },
     "execution_count": 54,
     "metadata": {},
     "output_type": "execute_result"
    }
   ],
   "source": [
    "mat = mat.reshape((rows, cols))\n",
    "mat"
   ]
  },
  {
   "cell_type": "code",
   "execution_count": 55,
   "metadata": {},
   "outputs": [
    {
     "name": "stdout",
     "output_type": "stream",
     "text": [
      "T BY F NGEULOA. \n"
     ]
    }
   ],
   "source": [
    "matlist = list(mat.T.reshape(-1))\n",
    "cipher = ''.join(matlist)\n",
    "print(cipher)"
   ]
  },
  {
   "cell_type": "code",
   "execution_count": 56,
   "metadata": {},
   "outputs": [
    {
     "name": "stdout",
     "output_type": "stream",
     "text": [
      "0 T 19\n",
      " \n",
      "1 B 1\n",
      "2 Y 24\n",
      " \n",
      "3 F 5\n",
      " \n",
      "4 N 13\n",
      "5 G 6\n",
      "6 E 4\n",
      "7 U 20\n",
      "8 L 11\n",
      "9 O 14\n",
      "10 A 0\n",
      ".\n",
      " \n"
     ]
    }
   ],
   "source": [
    "i=0\n",
    "for c in cipher:\n",
    "    if c.isalpha():\n",
    "        code = ord(c)-ord('A')\n",
    "        print(i, c, code)\n",
    "        i+=1\n",
    "    else:\n",
    "        print(c)"
   ]
  },
  {
   "cell_type": "code",
   "execution_count": 64,
   "metadata": {},
   "outputs": [
    {
     "name": "stdout",
     "output_type": "stream",
     "text": [
      "0 T 19 key= (2, 3)\n",
      "8\n",
      "enc= 8  str= I\n",
      " \n",
      "1 B 1 key= (3, 1)\n",
      "0\n",
      "enc= 0  str= A\n",
      "2 Y 24 key= (4, 2)\n",
      "12\n",
      "enc= 12  str= M\n",
      " \n",
      "3 F 5 key= (5, 5)\n",
      "0\n",
      "enc= 0  str= A\n",
      " \n",
      "4 N 13 key= (2, 3)\n",
      "5\n",
      "enc= 5  str= F\n",
      "5 G 6 key= (3, 1)\n",
      "19\n",
      "enc= 19  str= T\n",
      "6 E 4 key= (4, 2)\n",
      "7\n",
      "enc= 7  str= H\n",
      "7 U 20 key= (5, 5)\n",
      "3\n",
      "enc= 3  str= D\n",
      "8 L 11 key= (2, 3)\n",
      "4\n",
      "enc= 4  str= E\n",
      "9 O 14 key= (3, 1)\n",
      "13\n",
      "enc= 13  str= N\n",
      "10 A 0 key= (4, 2)\n",
      "6\n",
      "enc= 6  str= G\n",
      ".\n",
      " \n",
      "I AM A FTHDENG. \n"
     ]
    }
   ],
   "source": [
    "i=0\n",
    "encdata=\"\"\n",
    "for c in cipher:\n",
    "    if c.isalpha():\n",
    "        code = ord(c)-ord('A')\n",
    "        print(i, c, code, 'key=', apinkeys[i%4])\n",
    "        a = apinkeys[i%4][0]\n",
    "        b = apinkeys[i%4][1]\n",
    "        alpha = 0\n",
    "        while (alpha+code-b)%a!=0:\n",
    "            alpha += 26\n",
    "        enc = int ( ((alpha+code-b)/a)%26 )\n",
    "        print(enc)\n",
    "        encchar = chr(enc+ord('A'))\n",
    "        print('enc=', enc, ' str=', encchar)\n",
    "        encdata+=encchar\n",
    "        i+=1\n",
    "    else: \n",
    "        print(c)\n",
    "        encdata+=c\n",
    "print(encdata)"
   ]
  },
  {
   "cell_type": "code",
   "execution_count": 65,
   "metadata": {},
   "outputs": [],
   "source": [
    "## *a+b operator test\n",
    "str = \"ABCDEFGHIJKLMNOPQRSTUVWXYZ\""
   ]
  },
  {
   "cell_type": "code",
   "execution_count": 66,
   "metadata": {},
   "outputs": [],
   "source": [
    "# a,b = 2, 3"
   ]
  },
  {
   "cell_type": "code",
   "execution_count": 100,
   "metadata": {},
   "outputs": [
    {
     "name": "stdout",
     "output_type": "stream",
     "text": [
      "0 A 0 2 2\n",
      "1 B 1 18 18\n",
      "2 C 2 34 8\n",
      "3 D 3 50 24\n",
      "4 E 4 66 14\n",
      "5 F 5 82 4\n",
      "6 G 6 98 20\n",
      "7 H 7 114 10\n",
      "8 I 8 130 0\n",
      "9 J 9 146 16\n",
      "10 K 10 162 6\n",
      "11 L 11 178 22\n",
      "12 M 12 194 12\n",
      "13 N 13 210 2\n",
      "14 O 14 226 18\n",
      "15 P 15 242 8\n",
      "16 Q 16 258 24\n",
      "17 R 17 274 14\n",
      "18 S 18 290 4\n",
      "19 T 19 306 20\n",
      "20 U 20 322 10\n",
      "21 V 21 338 0\n",
      "22 W 22 354 16\n",
      "23 X 23 370 6\n",
      "24 Y 24 386 22\n",
      "25 Z 25 402 12\n",
      "[ 2 18  8 24 14  4 20 10  0 16  6 22 12  2 18  8 24 14  4 20 10  0 16  6 22\n",
      " 12]\n"
     ]
    }
   ],
   "source": [
    "i=0\n",
    "enccode = []\n",
    "for c in str:\n",
    "    if c.isalpha():\n",
    "        code = ord(c)-ord('A')\n",
    "        enc1 = code*16+2\n",
    "        enc2 = enc1 % 26\n",
    "        print(i, c, code, enc1, enc2)\n",
    "        i+=1\n",
    "        enccode.append(enc2)\n",
    "enccode = np.asarray(enccode)\n",
    "print(enccode)\n"
   ]
  },
  {
   "cell_type": "code",
   "execution_count": 101,
   "metadata": {},
   "outputs": [
    {
     "name": "stdout",
     "output_type": "stream",
     "text": [
      "[ 0  0  2  2  4  4  6  6  8  8 10 10 12 12 14 14 16 16 18 18 20 20 22 22 24\n",
      " 24]\n"
     ]
    }
   ],
   "source": [
    "enccode.sort()\n",
    "print(enccode)"
   ]
  },
  {
   "cell_type": "code",
   "execution_count": null,
   "metadata": {},
   "outputs": [],
   "source": []
  }
 ],
 "metadata": {
  "kernelspec": {
   "display_name": "Python 3",
   "language": "python",
   "name": "python3"
  },
  "language_info": {
   "codemirror_mode": {
    "name": "ipython",
    "version": 3
   },
   "file_extension": ".py",
   "mimetype": "text/x-python",
   "name": "python",
   "nbconvert_exporter": "python",
   "pygments_lexer": "ipython3",
   "version": "3.6.3"
  }
 },
 "nbformat": 4,
 "nbformat_minor": 4
}
