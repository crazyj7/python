{
 "cells": [
  {
   "cell_type": "code",
   "execution_count": 1,
   "metadata": {},
   "outputs": [],
   "source": [
    "import requests\n",
    "import json"
   ]
  },
  {
   "cell_type": "code",
   "execution_count": 39,
   "metadata": {},
   "outputs": [],
   "source": [
    "def web_request(method_name, url, dict_data, isjson=True):\n",
    "    method_name = method_name.upper()\n",
    "    if method_name not in ('GET', 'POST'):\n",
    "        raise Exception('method_name is GET or POST ')\n",
    "\n",
    "    if method_name == 'GET':\n",
    "        response = requests.get(url=url, params=dict_data)\n",
    "    elif method_name == 'POST' and isjson:\n",
    "        response = requests.post(url=url, data=json.dumps(dict_data), headers={'Content-Type': 'application/json'})\n",
    "    else:\n",
    "         response = requests.post(url=url, data=dict_data, headers={'Content-Type': 'application/x-www-form-urlencoded'})\n",
    "            \n",
    "    dict_meta = {'status_code':response.status_code, 'ok':response.ok, 'encoding':response.encoding, 'Content-Type': response.headers['Content-Type']}\n",
    "#     if 'json' in str(response.headers['Content-Type']): # JSON 형태인 경우\n",
    "#         return {**dict_meta, **response.json()}\n",
    "#     else: # 문자열 형태인 경우\n",
    "#         return {**dict_meta, **{'text':response.text}}\n",
    "    if isjson is True :\n",
    "        return response.json()\n",
    "    else: \n",
    "        return response.text"
   ]
  },
  {
   "cell_type": "code",
   "execution_count": null,
   "metadata": {},
   "outputs": [],
   "source": []
  },
  {
   "cell_type": "code",
   "execution_count": 50,
   "metadata": {},
   "outputs": [],
   "source": [
    "baseurl='http://172.16.100.88:8081/SecuSignBlockChain/'"
   ]
  },
  {
   "cell_type": "markdown",
   "metadata": {},
   "source": [
    "## Generate Account"
   ]
  },
  {
   "cell_type": "code",
   "execution_count": 40,
   "metadata": {
    "scrolled": true
   },
   "outputs": [
    {
     "name": "stdout",
     "output_type": "stream",
     "text": [
      "{'RESULT': '1', 'ACCOUNT_ADDRESS': '0xd81bfb3b9389150f5371b41d0d79ba459a3543da', 'PRIVATE_KEY': '0x0f39f89ef7405f534c216ec0a6f0254be8f541cf77842b8f38b3b11c29f4d915', 'PUBLIC_KEY': '0xf488e3a9a76de00f7b94b9736dfbeb5b79e797891a5709cae42862bae9812de54bedd949c7410ec174e0f68f1910599c0dfa079d069518d3a78d9c1b9a9ce1b4'}\n"
     ]
    }
   ],
   "source": [
    "url=baseurl+'Generate_Account'\n",
    "data= {}\n",
    "acc = web_request('POST', url, data)\n",
    "print(acc)"
   ]
  },
  {
   "cell_type": "code",
   "execution_count": 42,
   "metadata": {},
   "outputs": [
    {
     "data": {
      "text/plain": [
       "'0x0f39f89ef7405f534c216ec0a6f0254be8f541cf77842b8f38b3b11c29f4d915'"
      ]
     },
     "execution_count": 42,
     "metadata": {},
     "output_type": "execute_result"
    }
   ],
   "source": [
    "# acc = json.loads(acc)\n",
    "acc[\"PRIVATE_KEY\"]"
   ]
  },
  {
   "cell_type": "markdown",
   "metadata": {},
   "source": [
    "## Enroll Sign"
   ]
  },
  {
   "cell_type": "code",
   "execution_count": 43,
   "metadata": {},
   "outputs": [
    {
     "name": "stdout",
     "output_type": "stream",
     "text": [
      "{'RESULT': '1', 'TX_ADDRESS_LOG': '0xcc14ed60d8faf8cdb8497e6acae35fdcb6564ea24f6293e1daad130ea51675a7', 'GAS_LOG': '2413916'}\n"
     ]
    }
   ],
   "source": [
    "url=baseurl+'EnrollSign'\n",
    "hsk = \"[(176,500,0)(174,500,15)(163,497,73)(162,488,112)(182,463,134)(208,445,149)(244,426,165)(287,414,184)(318,412,208)(343,413,226)(363,417,244)(384,435,267)(385,460,286)(374,504,306)(348,552,325)(318,594,343)(300,627,364)(282,665,385)(281,673,409)(284,680,435)(286,681,458)(310,677,491)(371,663,518)(405,656,543)(449,654,571)(458,658,595)(463,680,622)(452,728,652)(419,777,679)(315,897,704)(270,946,730)(206,1007,752)(191,1017,772)(185,1017,794)(192,1012,818)(203,1005,840)(225,988,864)(317,918,890)(379,877,914)(521,784,937)(598,736,962)(767,646,990)(849,614,1013)(981,575,1039)(1021,566,1067)(1044,561,1092)(1029,560,1120)(997,569,1144)(894,593,1170)(831,601,1194)(708,614,1220)(645,613,1246)(534,585,1272)(502,561,1294)(471,491,1320)(476,454,1353)(512,391,1379)(546,363,1404)(559,364,1429)(585,396,1458)(598,430,1482)(590,536,1519)(545,685,1544)(482,859,1576)(454,939,1600)(414,1049,1624)(406,1072,1649)(413,1072,1672)(432,1047,1695)(492,915,1721)(539,827,1745)(648,636,1771)(711,541,1792)(772,457,1814)(863,364,1838)(878,354,1860)(881,392,1894)(876,437,1913)(865,496,1931)(845,576,1950)(769,766,1971)(726,860,1994)(682,962,2013)(635,1055,2032)(596,1139,2050)(563,1206,2068)(546,1275,2089)(552,1280,2108)(558,1275,2129)(571,1261,2147)(598,1238,2165)(629,1213,2186)(699,1158,2205)(731,1134,2223)(766,1121,2242)(783,1119,2261)(792,1120,2280)(795,1124,2299)(793,1132,2319)(774,1174,2344)(755,1213,2366)(725,1254,2384)(688,1323,2407)(672,1345,2426)(659,1359,2446)(657,1360,2466)(672,1342,2490)][(980,1195,0)(982,1198,25)(987,1219,68)(1012,1243,96)(1033,1251,114)(1070,1258,130)(1080,1261,152)]\"\n",
    "data= {\"HSK\":hsk, \"PRIVATE_KEY\":acc['PRIVATE_KEY'], \"DUE_DATE\":\"500\", \"ORDER_POSITION\":\"0\"}\n",
    "result = web_request('POST', url, data)\n",
    "print(result)"
   ]
  },
  {
   "cell_type": "markdown",
   "metadata": {},
   "source": [
    "## Inquiry Sign"
   ]
  },
  {
   "cell_type": "code",
   "execution_count": 52,
   "metadata": {},
   "outputs": [
    {
     "name": "stdout",
     "output_type": "stream",
     "text": [
      "{'RESULT': '1', 'SIGNLIST': [{'HASH': 'none', 'SIGN': 'none', 'EXPIRE1': 'none', 'EXPIRE2': 'none'}, {'HASH': 'none', 'SIGN': 'none', 'EXPIRE1': 'none', 'EXPIRE2': 'none'}, {'HASH': 'none', 'SIGN': 'none', 'EXPIRE1': 'none', 'EXPIRE2': 'none'}]}\n"
     ]
    }
   ],
   "source": [
    "url=baseurl+'InquirySign'\n",
    "data= {\"ACCOUNT_ADDRESS\":acc[\"ACCOUNT_ADDRESS\"]}\n",
    "result = web_request('POST', url, data)\n",
    "print(result)"
   ]
  },
  {
   "cell_type": "markdown",
   "metadata": {},
   "source": [
    "## Verify Sign"
   ]
  },
  {
   "cell_type": "code",
   "execution_count": 55,
   "metadata": {},
   "outputs": [
    {
     "name": "stdout",
     "output_type": "stream",
     "text": [
      "{'RESULT': '0'}\n"
     ]
    }
   ],
   "source": [
    "url=baseurl+'VerifySign'\n",
    "data= {\"PUBLIC_KEY\":acc[\"PUBLIC_KEY\"]}\n",
    "result = web_request('POST', url, data)\n",
    "print(result)"
   ]
  },
  {
   "cell_type": "markdown",
   "metadata": {},
   "source": [
    "## Delete Sign"
   ]
  },
  {
   "cell_type": "code",
   "execution_count": 46,
   "metadata": {},
   "outputs": [
    {
     "name": "stdout",
     "output_type": "stream",
     "text": [
      "{'RESULT': '1', 'TX_ADDRESS_LOG': '0x24edeec8ec7adf3c9976195e9a805b3cfc7d8150886147c008229bed19d2f3c8', 'GAS_LOG': '151134'}\n"
     ]
    }
   ],
   "source": [
    "url=baseurl+'DeleteSign'\n",
    "data= {\"ACCOUNT_ADDRESS\":acc[\"ACCOUNT_ADDRESS\"], \"ORDER_POSITION\":\"0\"}\n",
    "result = web_request('POST', url, data)\n",
    "print(result)"
   ]
  },
  {
   "cell_type": "markdown",
   "metadata": {},
   "source": [
    "## Sign Log"
   ]
  },
  {
   "cell_type": "code",
   "execution_count": 54,
   "metadata": {},
   "outputs": [
    {
     "name": "stdout",
     "output_type": "stream",
     "text": [
      "{'RESULT': '1', 'ENROLLED_TIME_LOG': ['2019-11-12 16:13:18'], 'NUM_LOG': '1'}\n"
     ]
    }
   ],
   "source": [
    "url=baseurl+'SignLog'\n",
    "data= {\"ACCOUNT_ADDRESS\":acc[\"ACCOUNT_ADDRESS\"]}\n",
    "result = web_request('POST', url, data)\n",
    "print(result)"
   ]
  },
  {
   "cell_type": "markdown",
   "metadata": {},
   "source": [
    "## SingLogSelected"
   ]
  },
  {
   "cell_type": "code",
   "execution_count": 53,
   "metadata": {},
   "outputs": [
    {
     "name": "stdout",
     "output_type": "stream",
     "text": [
      "{'RESULT': '1', 'HASH': '0xc0c19dce857f7e939a2808aafc82b0298ca191e1a5bdc48f22129dd5405132627dc14309161744b7009205e0ede8d10bf9e8a6b60174593f7102e4cb21d36626', 'SIGN': '[(176,500,0)(174,500,15)(163,497,73)(162,488,112)(182,463,134)(208,445,149)(244,426,165)(287,414,184)(318,412,208)(343,413,226)(363,417,244)(384,435,267)(385,460,286)(374,504,306)(348,552,325)(318,594,343)(300,627,364)(282,665,385)(281,673,409)(284,680,435)(286,681,458)(310,677,491)(371,663,518)(405,656,543)(449,654,571)(458,658,595)(463,680,622)(452,728,652)(419,777,679)(315,897,704)(270,946,730)(206,1007,752)(191,1017,772)(185,1017,794)(192,1012,818)(203,1005,840)(225,988,864)(317,918,890)(379,877,914)(521,784,937)(598,736,962)(767,646,990)(849,614,1013)(981,575,1039)(1021,566,1067)(1044,561,1092)(1029,560,1120)(997,569,1144)(894,593,1170)(831,601,1194)(708,614,1220)(645,613,1246)(534,585,1272)(502,561,1294)(471,491,1320)(476,454,1353)(512,391,1379)(546,363,1404)(559,364,1429)(585,396,1458)(598,430,1482)(590,536,1519)(545,685,1544)(482,859,1576)(454,939,1600)(414,1049,1624)(406,1072,1649)(413,1072,1672)(432,1047,1695)(492,915,1721)(539,827,1745)(648,636,1771)(711,541,1792)(772,457,1814)(863,364,1838)(878,354,1860)(881,392,1894)(876,437,1913)(865,496,1931)(845,576,1950)(769,766,1971)(726,860,1994)(682,962,2013)(635,1055,2032)(596,1139,2050)(563,1206,2068)(546,1275,2089)(552,1280,2108)(558,1275,2129)(571,1261,2147)(598,1238,2165)(629,1213,2186)(699,1158,2205)(731,1134,2223)(766,1121,2242)(783,1119,2261)(792,1120,2280)(795,1124,2299)(793,1132,2319)(774,1174,2344)(755,1213,2366)(725,1254,2384)(688,1323,2407)(672,1345,2426)(659,1359,2446)(657,1360,2466)(672,1342,2490)][(980,1195,0)(982,1198,25)(987,1219,68)(1012,1243,96)(1033,1251,114)(1070,1258,130)(1080,1261,152)]', 'ENROLLED_TIME': '2019-11-12 16:13:18', 'INDEX': '0/1 (0~0)'}\n"
     ]
    }
   ],
   "source": [
    "url=baseurl+'SignLogSelected'\n",
    "data= {\"ACCOUNT_ADDRESS\":acc[\"ACCOUNT_ADDRESS\"], \"ORDER_POSITION\":\"0\"}\n",
    "result = web_request('POST', url, data)\n",
    "print(result)"
   ]
  },
  {
   "cell_type": "code",
   "execution_count": null,
   "metadata": {},
   "outputs": [],
   "source": []
  }
 ],
 "metadata": {
  "kernelspec": {
   "display_name": "Python 3",
   "language": "python",
   "name": "python3"
  },
  "language_info": {
   "codemirror_mode": {
    "name": "ipython",
    "version": 3
   },
   "file_extension": ".py",
   "mimetype": "text/x-python",
   "name": "python",
   "nbconvert_exporter": "python",
   "pygments_lexer": "ipython3",
   "version": "3.7.3"
  }
 },
 "nbformat": 4,
 "nbformat_minor": 2
}
