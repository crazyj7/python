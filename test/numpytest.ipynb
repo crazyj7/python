{
 "cells": [
  {
   "cell_type": "markdown",
   "metadata": {},
   "source": [
    "# numpy test code"
   ]
  },
  {
   "cell_type": "code",
   "execution_count": 12,
   "metadata": {
    "collapsed": true
   },
   "outputs": [],
   "source": [
    "import numpy as np"
   ]
  },
  {
   "cell_type": "markdown",
   "metadata": {},
   "source": [
    "\n",
    "\n",
    "## 벡터 내적. 매트릭스 곱. DOT "
   ]
  },
  {
   "cell_type": "code",
   "execution_count": 13,
   "metadata": {},
   "outputs": [
    {
     "name": "stdout",
     "output_type": "stream",
     "text": [
      "[4 2 1] [2 1 5] 15\n"
     ]
    }
   ],
   "source": [
    "a=np.random.randint(0,5, 3) # 0~4 , count 3\n",
    "b=np.random.randint(1,6, 3) # 1~5 , count 3\n",
    "print(a, b, np.dot(a,b) ) # vector inner product"
   ]
  },
  {
   "cell_type": "markdown",
   "metadata": {
    "collapsed": true
   },
   "source": [
    "## Array 생성"
   ]
  },
  {
   "cell_type": "code",
   "execution_count": 176,
   "metadata": {},
   "outputs": [
    {
     "name": "stdout",
     "output_type": "stream",
     "text": [
      "[0. 0. 0. 0. 0.]\n",
      "[[0. 0. 0.]\n",
      " [0. 0. 0.]]\n",
      "[1. 1. 1. 1. 1.]\n",
      "[[0. 0. 0.]\n",
      " [0. 0. 0.]]\n",
      "[1 2 3]\n",
      "[[1 2]\n",
      " [3 4]]\n",
      "[[9 9 9 9 9]\n",
      " [9 9 9 9 9]]\n"
     ]
    }
   ],
   "source": [
    "print( np.zeros(5) ) \n",
    "print( np.zeros((2,3))) # tuple input\n",
    "print( np.ones(5))\n",
    "print( np.empty((2,3)))  # tuple input \n",
    "print( np.array( [1,2,3 ])) # list to array\n",
    "print( np.array( [ [1,2], [3,4]])) # list to array\n",
    "print( np.array( [9]*2*5).reshape( 2, 5 ) )"
   ]
  },
  {
   "cell_type": "code",
   "execution_count": 15,
   "metadata": {},
   "outputs": [
    {
     "name": "stdout",
     "output_type": "stream",
     "text": [
      "[[-1.60099269  0.61807954  1.13623565]\n",
      " [ 1.02902152  0.23009556  0.07578964]]\n",
      "[5 4 6 5]\n",
      "[[5 3 6]\n",
      " [9 8 6]]\n",
      "[0.72813394 0.53195946 0.93256288]\n",
      "[0.62988388 0.22672758 0.93457449]\n",
      "[[0.64341976 0.83527204 0.49004299]\n",
      " [0.3910581  0.58398958 0.23411563]]\n"
     ]
    }
   ],
   "source": [
    "print ( np.random.randn(2,3) )  # (-2~2) 2x3\n",
    "print ( np.random.randint(1,10,4)) # (1~9) 4\n",
    "print ( np.random.randint(1,10,(2,3))) # (1~9) 2x3\n",
    "print( np.random.rand(3)) # (0~1) 3\n",
    "print( np.random.random(3)) # \"\n",
    "print( np.random.rand(2,3)) # (0~1) 2x3"
   ]
  },
  {
   "cell_type": "code",
   "execution_count": 16,
   "metadata": {},
   "outputs": [
    {
     "name": "stdout",
     "output_type": "stream",
     "text": [
      "[-1.6  1.2  2.1] <class 'numpy.ndarray'>\n",
      "[-1  1  2] <class 'numpy.ndarray'>\n"
     ]
    }
   ],
   "source": [
    "# type\n",
    "x = np.array([-1.6, 1.2, 2.1])\n",
    "print(x, type(x))\n",
    "x = x.astype(np.int)\n",
    "print(x, type(x))"
   ]
  },
  {
   "cell_type": "markdown",
   "metadata": {},
   "source": [
    "* 리스트를 이용한 numpy array 생성"
   ]
  },
  {
   "cell_type": "code",
   "execution_count": 17,
   "metadata": {},
   "outputs": [
    {
     "name": "stdout",
     "output_type": "stream",
     "text": [
      "[['abc', 'abc', 'abc'], ['abc', 'abc', 'abc']]  type= <class 'list'>\n",
      "[['abc' 'abc' 'abc']\n",
      " ['abc' 'abc' 'abc']] type= <class 'numpy.ndarray'>\n"
     ]
    }
   ],
   "source": [
    "a=[[\"abc\" for i in range(3)] for i in range(2) ]\n",
    "print (a, ' type=', type(a) )\n",
    "b=np.asarray(a)\n",
    "print (b, 'type=', type(b))"
   ]
  },
  {
   "cell_type": "markdown",
   "metadata": {
    "collapsed": true
   },
   "source": [
    "## 행렬 붙이기 (matrix concat)"
   ]
  },
  {
   "cell_type": "markdown",
   "metadata": {},
   "source": [
    "###   1.row bind"
   ]
  },
  {
   "cell_type": "code",
   "execution_count": 18,
   "metadata": {},
   "outputs": [
    {
     "name": "stdout",
     "output_type": "stream",
     "text": [
      "mat=\n",
      " [[1. 1. 1. 1.]\n",
      " [1. 1. 1. 1.]\n",
      " [1. 1. 1. 1.]]\n",
      "a=\n",
      " [7 2 3 8]\n",
      "rowbind=\n",
      " [[1. 1. 1. 1.]\n",
      " [1. 1. 1. 1.]\n",
      " [1. 1. 1. 1.]\n",
      " [7. 2. 3. 8.]]\n",
      "rowbind=\n",
      " [[7. 2. 3. 8.]\n",
      " [1. 1. 1. 1.]\n",
      " [1. 1. 1. 1.]\n",
      " [1. 1. 1. 1.]]\n"
     ]
    }
   ],
   "source": [
    "a=np.random.randint(1,10,4)\n",
    "mat=np.ones((3,4))\n",
    "print('mat=\\n',mat)\n",
    "print('a=\\n',a)\n",
    "rowbind = np.r_[mat, [a]]   ## warn! : a shape\n",
    "print('rowbind=\\n', rowbind)\n",
    "rowbind = np.r_[[a], mat]\n",
    "print('rowbind=\\n', rowbind)"
   ]
  },
  {
   "cell_type": "code",
   "execution_count": 195,
   "metadata": {},
   "outputs": [
    {
     "name": "stdout",
     "output_type": "stream",
     "text": [
      "rowbind=\n",
      " [[1. 1. 1. 1.]\n",
      " [1. 1. 1. 1.]\n",
      " [1. 1. 1. 1.]\n",
      " [0. 0. 0. 0.]\n",
      " [0. 0. 0. 0.]]\n"
     ]
    }
   ],
   "source": [
    "a=np.zeros((2,4))\n",
    "rowbind = np.r_[mat, a]\n",
    "print('rowbind=\\n', rowbind)"
   ]
  },
  {
   "cell_type": "code",
   "execution_count": 197,
   "metadata": {},
   "outputs": [
    {
     "name": "stdout",
     "output_type": "stream",
     "text": [
      "[[2 3]\n",
      " [4 5]\n",
      " [6 7]]\n",
      "[[2. 3.]\n",
      " [4. 5.]\n",
      " [6. 7.]\n",
      " [0. 0.]]\n"
     ]
    }
   ],
   "source": [
    "## vstack. row add\n",
    "a=np.array([[2,3], [4,5], [6,7]])\n",
    "print(a)\n",
    "b=np.vstack( (a, np.zeros((1,2)) )) # 차원을 맞춰야 함 \n",
    "print(b)"
   ]
  },
  {
   "cell_type": "markdown",
   "metadata": {},
   "source": [
    "### 한 줄씩 추가하기"
   ]
  },
  {
   "cell_type": "code",
   "execution_count": 9,
   "metadata": {},
   "outputs": [
    {
     "name": "stdout",
     "output_type": "stream",
     "text": [
      "[[3. 4. 3.]]\n",
      "[[3. 4. 3.]\n",
      " [3. 4. 4.]]\n"
     ]
    }
   ],
   "source": [
    "# empty array and append row\n",
    "a = np.empty((0,3))\n",
    "b = np.random.randint(1,5,3)\n",
    "a = np.r_[a,[b]]\n",
    "print(a)\n",
    "b = np.random.randint(1,5,3)\n",
    "a = np.r_[a,[b]]\n",
    "print(a)\n"
   ]
  },
  {
   "cell_type": "code",
   "execution_count": null,
   "metadata": {
    "collapsed": true
   },
   "outputs": [],
   "source": [
    "#### list를 사용하여 append로 추가하고 나중에 numpy로 형변환 하는 방식도 있다."
   ]
  },
  {
   "cell_type": "markdown",
   "metadata": {
    "collapsed": true
   },
   "source": [
    "### 2.column bind"
   ]
  },
  {
   "cell_type": "code",
   "execution_count": 10,
   "metadata": {},
   "outputs": [
    {
     "name": "stdout",
     "output_type": "stream",
     "text": [
      "mat=\n",
      " [[1. 1. 1. 1.]\n",
      " [1. 1. 1. 1.]\n",
      " [1. 1. 1. 1.]]\n",
      "a=\n",
      " [9 9 7]\n",
      "colbind=\n",
      " [[1. 1. 1. 1. 9.]\n",
      " [1. 1. 1. 1. 9.]\n",
      " [1. 1. 1. 1. 7.]]\n",
      "colbind=\n",
      " [[9. 1. 1. 1. 1.]\n",
      " [9. 1. 1. 1. 1.]\n",
      " [7. 1. 1. 1. 1.]]\n"
     ]
    }
   ],
   "source": [
    "a=np.random.randint(1,10,3)\n",
    "mat=np.ones((3,4))\n",
    "print('mat=\\n',mat)\n",
    "print('a=\\n',a)\n",
    "colbind = np.c_[mat, a]\n",
    "print('colbind=\\n', colbind)\n",
    "colbind = np.c_[a, mat]\n",
    "print('colbind=\\n', colbind)"
   ]
  },
  {
   "cell_type": "code",
   "execution_count": 20,
   "metadata": {},
   "outputs": [
    {
     "name": "stdout",
     "output_type": "stream",
     "text": [
      "colbind=\n",
      " [[1. 1. 1. 1. 0. 0.]\n",
      " [1. 1. 1. 1. 0. 0.]\n",
      " [1. 1. 1. 1. 0. 0.]]\n"
     ]
    }
   ],
   "source": [
    "a=np.zeros((3,2))\n",
    "colbind = np.c_[mat, a]\n",
    "print('colbind=\\n', colbind)"
   ]
  },
  {
   "cell_type": "code",
   "execution_count": 172,
   "metadata": {},
   "outputs": [
    {
     "name": "stdout",
     "output_type": "stream",
     "text": [
      "[[2 3]\n",
      " [4 5]\n",
      " [6 7]]\n",
      "[[0.]\n",
      " [0.]\n",
      " [0.]]\n",
      "[[2. 3. 0.]\n",
      " [4. 5. 0.]\n",
      " [6. 7. 0.]]\n"
     ]
    }
   ],
   "source": [
    "## hstack. column add\n",
    "a=np.array([[2,3], [4,5], [6,7]])\n",
    "print(a)\n",
    "print(np.zeros((3,1)))\n",
    "b=np.hstack( (a, np.zeros((3,1)) )) # 차원을 맞춰야 함 \n",
    "print(b)\n"
   ]
  },
  {
   "cell_type": "markdown",
   "metadata": {},
   "source": [
    "### Append"
   ]
  },
  {
   "cell_type": "code",
   "execution_count": 184,
   "metadata": {},
   "outputs": [
    {
     "name": "stdout",
     "output_type": "stream",
     "text": [
      "[1 2 3 4 5 6 7 8 9]\n",
      "[[1 2 3]\n",
      " [4 5 6]\n",
      " [7 8 9]]\n",
      "[[ 1  2  3  7  8]\n",
      " [ 4  5  6  9 10]]\n"
     ]
    }
   ],
   "source": [
    "# 컬럼이나 열 추가\n",
    "a=np.array([[1,2,3],[4,5,6]])\n",
    "b=np.append(a, [[7,8,9]])\n",
    "print(b)\n",
    "b=np.append(a, [[7,8,9]], axis=0) # rows append\n",
    "print(b)\n",
    "b=np.append(a, [[7,8],[9,10]], axis=1) #  columns append\n",
    "print(b)"
   ]
  },
  {
   "cell_type": "markdown",
   "metadata": {},
   "source": [
    "### Insert"
   ]
  },
  {
   "cell_type": "code",
   "execution_count": 194,
   "metadata": {},
   "outputs": [
    {
     "name": "stdout",
     "output_type": "stream",
     "text": [
      "[[1 2 3]\n",
      " [4 5 6]]\n",
      "[[1 2 3]\n",
      " [1 1 1]\n",
      " [4 5 6]]\n",
      "[[ 1  2  3]\n",
      " [99 99 99]\n",
      " [ 4  5  6]]\n",
      "[[1 0 2 3]\n",
      " [4 0 5 6]]\n",
      "[[1 2 8 3]\n",
      " [4 5 8 6]]\n",
      "[[1 2 3 8]\n",
      " [4 5 6 8]]\n"
     ]
    }
   ],
   "source": [
    "# insert\n",
    "print(a)\n",
    "b=np.insert(a, 1, [1,1,1], axis=0) # insert row\n",
    "print(b)\n",
    "b=np.insert(a, 1, 99, axis=0) # insert row, fill 99\n",
    "print(b)\n",
    "b=np.insert(a, 1, 0, axis=1) # insert col. fill 0\n",
    "print(b)\n",
    "b=np.insert(a, -1, 8, axis=1) # insert col. fill 8\n",
    "print(b)\n",
    "b=np.insert(a, a.shape[1], 8, axis=1) # insert col. fill 8\n",
    "print(b)"
   ]
  },
  {
   "cell_type": "code",
   "execution_count": null,
   "metadata": {
    "collapsed": true
   },
   "outputs": [],
   "source": []
  },
  {
   "cell_type": "markdown",
   "metadata": {
    "collapsed": true
   },
   "source": [
    "## 집합 연산 "
   ]
  },
  {
   "cell_type": "code",
   "execution_count": 26,
   "metadata": {},
   "outputs": [
    {
     "name": "stdout",
     "output_type": "stream",
     "text": [
      "union= [1 2 3 4 5]\n",
      "insersect= [2]\n",
      "setdiff= [1 4]\n",
      "setxor1d= [1 3 4 5]\n"
     ]
    }
   ],
   "source": [
    "ar1=np.array([1,2,4])\n",
    "ar2=np.array([2,3,5])\n",
    "print( 'union=', np.union1d(ar1, ar2))\n",
    "print('insersect=', np.intersect1d(ar1, ar2))\n",
    "print('setdiff=', np.setdiff1d(ar1, ar2)) # ar1-ar2\n",
    "print('setxor1d=', np.setxor1d(ar1, ar2)) # union - intersect"
   ]
  },
  {
   "cell_type": "markdown",
   "metadata": {},
   "source": [
    "## 정렬 (Sort)"
   ]
  },
  {
   "cell_type": "code",
   "execution_count": 98,
   "metadata": {},
   "outputs": [
    {
     "name": "stdout",
     "output_type": "stream",
     "text": [
      "a= [4 8 2 6] (4,) 1\n",
      "reverse = [6 2 8 4]\n",
      "sorted a= [2 4 6 8]\n",
      "sort np.sort=\n",
      " [[2 3 4]\n",
      " [1 2 4]\n",
      " [1 2 2]]\n",
      "sort by row=\n",
      " [[2 1 1]\n",
      " [3 2 2]\n",
      " [4 2 4]]\n",
      "sort flatten=\n",
      " [1 1 2 2 2 2 3 4 4]\n",
      "a=\n",
      " [[3 2 4]\n",
      " [4 1 2]\n",
      " [2 2 1]] int64\n",
      "sort by column 2 = \n",
      " [[4 1 2]\n",
      " [3 2 4]\n",
      " [2 2 1]]\n",
      "sort by column 1 = \n",
      " [[2 2 1]\n",
      " [3 2 4]\n",
      " [4 1 2]]\n"
     ]
    }
   ],
   "source": [
    "a=np.array([4,8,2,6])\n",
    "print ('a=',a, a.shape, a.ndim)\n",
    "print ( 'reverse =', a[::-1])   # reverse order\n",
    "a.sort()  # modified a\n",
    "print('sorted a=', a)   # increase (ascendant)\n",
    "a=np.array( [[3,2,4], [4,1,2], [2,2,1]] )\n",
    "print( 'sort np.sort=\\n', np.sort(a)) # a is not changed.  column sort\n",
    "print('sort by row=\\n', np.sort(a, axis=0)) # row sort\n",
    "print('sort flatten=\\n', np.sort(a, axis=None)) # flatten\n",
    "\n",
    "# sort by column with keeping record.\n",
    "print('a=\\n',a, a.dtype)\n",
    "a=a[a[:,1].argsort()]    # sort by column index 1\n",
    "print('sort by column 2 = \\n', a)\n",
    "a=a[a[:,0].argsort(kind='mergesort')]    # sort by column index 0\n",
    "print('sort by column 1 = \\n', a)\n"
   ]
  },
  {
   "cell_type": "code",
   "execution_count": 75,
   "metadata": {},
   "outputs": [
    {
     "name": "stdout",
     "output_type": "stream",
     "text": [
      "[(3, 4, 4) (2, 4, 5) (1, 1, 1)]\n",
      "[(1, 1, 1) (2, 4, 5) (3, 4, 4)]\n"
     ]
    }
   ],
   "source": [
    "\n",
    "# sort by multiple key. \n",
    "b=np.array( [(3,4,4),(2,4,5),(1,1,1)], dtype=[('f1', int), ('f2',int), ('f3', int)])\n",
    "print(b)\n",
    "print ( np.sort(b, order=['f2','f1']))"
   ]
  },
  {
   "cell_type": "code",
   "execution_count": 77,
   "metadata": {},
   "outputs": [
    {
     "name": "stdout",
     "output_type": "stream",
     "text": [
      "sort desc= [8 6 4 2]\n"
     ]
    }
   ],
   "source": [
    "# descendent sort\n",
    "a=np.array([4,8,2,6])\n",
    "print('sort desc=', np.sort(a)[::-1])  # sort asc and reverse.\n"
   ]
  },
  {
   "cell_type": "markdown",
   "metadata": {},
   "source": [
    "### 인덱스  (index)"
   ]
  },
  {
   "cell_type": "code",
   "execution_count": 87,
   "metadata": {},
   "outputs": [
    {
     "name": "stdout",
     "output_type": "stream",
     "text": [
      "maxvalue index= 4  max value= 9 9\n",
      "[[3 2 4]\n",
      " [4 1 2]\n",
      " [2 3 4]]\n",
      "maxvalue index(ax=0)= [1 2 0]\n",
      "maxvalue index(ax=1)= [2 0 2]\n"
     ]
    }
   ],
   "source": [
    "# 최대값 위치의 인덱스 얻기\n",
    "a=np.array([4,8,1,2,9,4])\n",
    "print( 'maxvalue index=', np.argmax(a), ' max value=', a[np.argmax(a)], np.max(a))\n",
    "# 2D\n",
    "a=np.array( [[3,2,4], [4,1,2], [2,3,4]] )\n",
    "print(a)\n",
    "print('maxvalue index(ax=0)=', np.argmax(a, axis=0)) # compare by row. y-axis.\n",
    "print('maxvalue index(ax=1)=', np.argmax(a, axis=1)) # compare by column. x-axis."
   ]
  },
  {
   "cell_type": "code",
   "execution_count": 89,
   "metadata": {},
   "outputs": [
    {
     "name": "stdout",
     "output_type": "stream",
     "text": [
      "sort arg (ax=0)\n",
      " [[2 1 1]\n",
      " [0 0 0]\n",
      " [1 2 2]]\n"
     ]
    }
   ],
   "source": [
    "# 순위. 오름차순 정렬의 인덱스 번호. (sort를 하는데, 인덱스 순서만 구함)\n",
    "print( 'sort arg (ax=0)\\n', np.argsort(a, axis=0))"
   ]
  },
  {
   "cell_type": "code",
   "execution_count": 96,
   "metadata": {},
   "outputs": [
    {
     "name": "stdout",
     "output_type": "stream",
     "text": [
      "[2 3 1 0]\n",
      "[0 1 3 2]\n",
      "[180 175 170]\n"
     ]
    }
   ],
   "source": [
    "b=np.array([180,175,160,170])\n",
    "print( np.argsort(b)) # b를 오름차순 정렬한 데이터의 원래 인덱스 번호 순서 \n",
    "print( np.argsort(-b)) # 내림차순\n",
    "print( np.sort(b)[::-1][:3]) # big top 3 ; 역순정렬후 3개만 가져옴."
   ]
  },
  {
   "cell_type": "markdown",
   "metadata": {},
   "source": [
    "## 필터 / 추출 Filter"
   ]
  },
  {
   "cell_type": "code",
   "execution_count": 107,
   "metadata": {},
   "outputs": [
    {
     "name": "stdout",
     "output_type": "stream",
     "text": [
      "[False False False  True  True  True]\n",
      "[0 0 0 1 1 1]\n",
      "over 4= [6 7 9]  over 4 cnt= 3\n",
      "index 2~4= [3 6 7] last one= 9\n"
     ]
    }
   ],
   "source": [
    "a=np.array([1,2,3,6,7,9])\n",
    "print( a>4 )  # bool. mask\n",
    "print ( np.array(a>4, dtype=int)) # as integer\n",
    "print( 'over 4=', a[a>4], ' over 4 cnt=', len(a[a>4]) ) # filter condition\n",
    "print('index 2~4=', a[2:5],  'last one=', a[-1])  # index start, end+1"
   ]
  },
  {
   "cell_type": "code",
   "execution_count": 117,
   "metadata": {},
   "outputs": [
    {
     "name": "stdout",
     "output_type": "stream",
     "text": [
      "remove dupl= [0 1 2 6 8]\n",
      " non zero= (array([0, 1, 2, 4, 5, 7]),)\n",
      "[1 2 6 8 2 6]\n"
     ]
    }
   ],
   "source": [
    "# 중복 제거\n",
    "a=np.array([1,2,6,0,8,2,0,6])\n",
    "print ( 'remove dupl=', np.unique(a))\n",
    "# 0 제거\n",
    "print( ' non zero=', np.nonzero(a))\n",
    "print(a[np.nonzero(a)])"
   ]
  },
  {
   "cell_type": "code",
   "execution_count": 120,
   "metadata": {},
   "outputs": [
    {
     "name": "stdout",
     "output_type": "stream",
     "text": [
      "(array([3, 6]),)\n",
      "how many 3?= 2\n",
      "first 3 index= 3\n"
     ]
    }
   ],
   "source": [
    "# 검색 Search\n",
    "a=np.array([1,4,2,3,6,7,3])\n",
    "print( np.where(a==3) ) # find 3 value . and get the index num.\n",
    "print( 'how many 3?=', np.where(a==3)[0].size)\n",
    "print('first 3 index=', np.where(a==3)[0][0])"
   ]
  },
  {
   "cell_type": "markdown",
   "metadata": {},
   "source": [
    "<pre>\n",
    "# where in Matrix.\n",
    "\n",
    "itemindex = np.where(array==item)     ; row, column 값들이 리턴. (2차원, 튜플)\n",
    "array[ itemindex[0][0]] [ itemindex[1][0] ]\n",
    "array[ itemindex[0][1]] [ itemindex[1][1] ]\n",
    "</pre>\n"
   ]
  },
  {
   "cell_type": "markdown",
   "metadata": {},
   "source": [
    "### Numpy Save & Load"
   ]
  },
  {
   "cell_type": "code",
   "execution_count": 153,
   "metadata": {},
   "outputs": [
    {
     "name": "stdout",
     "output_type": "stream",
     "text": [
      "[[-1.47377096 -0.4867424   0.65394763  0.79714288]\n",
      " [ 0.80682589 -0.06776694  1.22872369  0.06181822]\n",
      " [-0.57806519 -1.52542053 -1.05119565  0.62924111]]\n",
      "[[-0.28502782  0.21832423  1.15674393  0.43357922]\n",
      " [-1.00176783  0.82191963  0.29277696 -0.53469207]\n",
      " [-0.208886    0.94037607 -0.75343871 -0.1703181 ]]\n",
      "[[-1.47377096 -0.4867424   0.65394763  0.79714288]\n",
      " [ 0.80682589 -0.06776694  1.22872369  0.06181822]\n",
      " [-0.57806519 -1.52542053 -1.05119565  0.62924111]]\n",
      "<numpy.lib.npyio.NpzFile object at 0x7fe20c3f2518>\n",
      "[[-1.47377096 -0.4867424   0.65394763  0.79714288]\n",
      " [ 0.80682589 -0.06776694  1.22872369  0.06181822]\n",
      " [-0.57806519 -1.52542053 -1.05119565  0.62924111]]\n",
      "[[-0.28502782  0.21832423  1.15674393  0.43357922]\n",
      " [-1.00176783  0.82191963  0.29277696 -0.53469207]\n",
      " [-0.208886    0.94037607 -0.75343871 -0.1703181 ]]\n",
      "<numpy.lib.npyio.NpzFile object at 0x7fe20c3f26d8>\n",
      "[[-1.47377096 -0.4867424   0.65394763  0.79714288]\n",
      " [ 0.80682589 -0.06776694  1.22872369  0.06181822]\n",
      " [-0.57806519 -1.52542053 -1.05119565  0.62924111]]\n",
      "[[-0.28502782  0.21832423  1.15674393  0.43357922]\n",
      " [-1.00176783  0.82191963  0.29277696 -0.53469207]\n",
      " [-0.208886    0.94037607 -0.75343871 -0.1703181 ]]\n"
     ]
    }
   ],
   "source": [
    "a=np.random.randn(3,4)\n",
    "b=np.random.randn(3,4)\n",
    "print(a)\n",
    "print(b)\n",
    "\n",
    "## 배열 한 개 저장/로딩 (확장자 npy)\n",
    "np.save('tmpfile001.npy', a)  # .npy (default extension. auto added)\n",
    "d=np.load('tmpfile001.npy')  # need file extension.\n",
    "print(d)\n",
    "\n",
    "## 배열 복수개 저장/로딩 (확장자 npz)\n",
    "np.savez('tmpfile001.npz', a=a,b=b) # 배열에 이름을 지정 필요.\n",
    "c = np.load('tmpfile001.npz')\n",
    "print(c)\n",
    "print(c['a'])\n",
    "print(c['b'])\n",
    "c.close() # close file.\n",
    "\n",
    "## 압축\n",
    "np.savez_compressed('tmpfile002', a=a, b=b)\n",
    "c = np.load('tmpfile002.npz')\n",
    "print(c)\n",
    "print(c['a'])\n",
    "print(c['b'])\n",
    "c.close() # close file.\n"
   ]
  },
  {
   "cell_type": "code",
   "execution_count": 156,
   "metadata": {},
   "outputs": [
    {
     "name": "stdout",
     "output_type": "stream",
     "text": [
      "[[ 0.65251165 -0.69495371 -1.63105204  0.35989324]\n",
      " [ 1.30292472 -0.7421428  -0.92000098 -0.30618059]\n",
      " [-0.17755657 -0.27355098 -0.02635187 -1.42221376]]\n",
      "# --start--\n",
      "6.525116538344829520e-01 -6.949537083354661027e-01 -1.631052036828422258e+00 3.598932360947073583e-01\n",
      "1.302924724015655400e+00 -7.421427977504930773e-01 -9.200009808827286362e-01 -3.061805856432851525e-01\n",
      "-1.775565719541135901e-01 -2.735509788014691690e-01 -2.635186579102788071e-02 -1.422213755338526786e+00\n",
      "# -end-\n",
      "\n"
     ]
    }
   ],
   "source": [
    "## Text로 저장\n",
    "a=np.random.randn(3,4)\n",
    "print(a)\n",
    "np.savetxt('tmpfile003.txt', a, header='--start--', footer='-end-')\n",
    "\n",
    "with open('tmpfile003.txt', 'rt') as f :\n",
    "    print(f.read())"
   ]
  },
  {
   "cell_type": "code",
   "execution_count": 157,
   "metadata": {},
   "outputs": [
    {
     "name": "stdout",
     "output_type": "stream",
     "text": [
      "[[ 0.65251165 -0.69495371 -1.63105204  0.35989324]\n",
      " [ 1.30292472 -0.7421428  -0.92000098 -0.30618059]\n",
      " [-0.17755657 -0.27355098 -0.02635187 -1.42221376]]\n"
     ]
    }
   ],
   "source": [
    "loaddata = np.loadtxt('tmpfile003.txt')\n",
    "print(loaddata)"
   ]
  },
  {
   "cell_type": "markdown",
   "metadata": {},
   "source": [
    "## 행렬 Matrix"
   ]
  },
  {
   "cell_type": "markdown",
   "metadata": {},
   "source": [
    "### Reshape"
   ]
  },
  {
   "cell_type": "code",
   "execution_count": 162,
   "metadata": {},
   "outputs": [
    {
     "name": "stdout",
     "output_type": "stream",
     "text": [
      "[[1 2 3]\n",
      " [4 5 6]]\n",
      "[[1 2]\n",
      " [3 4]\n",
      " [5 6]]\n"
     ]
    }
   ],
   "source": [
    "## reshape (row x col)\n",
    "a=np.array([1,2,3,4,5,6])\n",
    "print ( a.reshape(-1,3)) # ? x 3\n",
    "print( a.reshape(3,2)) # 3 x 2"
   ]
  },
  {
   "cell_type": "code",
   "execution_count": 164,
   "metadata": {},
   "outputs": [
    {
     "name": "stdout",
     "output_type": "stream",
     "text": [
      "[[1 4]\n",
      " [2 5]\n",
      " [3 6]]\n"
     ]
    }
   ],
   "source": [
    "# reshape ; 컬럼순서로 데이터를 채울때는 order F\n",
    "b=a.reshape(3,2, order='F')\n",
    "print (b)"
   ]
  },
  {
   "cell_type": "code",
   "execution_count": 202,
   "metadata": {
    "scrolled": true
   },
   "outputs": [
    {
     "name": "stdout",
     "output_type": "stream",
     "text": [
      "[1 2 3 4 5 6]\n",
      "[[1 2 3]\n",
      " [4 5 6]]\n",
      "[[[1]]\n",
      "\n",
      " [[2]]]\n",
      "[1 2]\n",
      "[1 2]\n"
     ]
    }
   ],
   "source": [
    "## Flatten 1D\n",
    "b=np.array( [[1,2,3], [4,5,6]])\n",
    "print(b.flatten())  # make 1D\n",
    "print ( np.squeeze(b) ) # remove single dimensionl entries\n",
    "b=np.array([[[1]],[[2]]])\n",
    "print(b)\n",
    "print(b.flatten())  # make 1D\n",
    "print ( np.squeeze(b) ) # remove single dimensionl entries"
   ]
  },
  {
   "cell_type": "code",
   "execution_count": 204,
   "metadata": {},
   "outputs": [
    {
     "name": "stdout",
     "output_type": "stream",
     "text": [
      "[[1 2 3]\n",
      " [4 5 6]]\n",
      "[[3 2 1]\n",
      " [6 5 4]]\n",
      "[[4 5 6]\n",
      " [1 2 3]]\n",
      "[[3 1 2]\n",
      " [6 4 5]]\n"
     ]
    }
   ],
   "source": [
    "# reorder\n",
    "b=np.array( [[1,2,3], [4,5,6]])\n",
    "print(b)\n",
    "print( np.fliplr(b) )\n",
    "print( np.flipud(b) )\n",
    "print( np.roll(b, 1, axis=1))"
   ]
  },
  {
   "cell_type": "code",
   "execution_count": null,
   "metadata": {
    "collapsed": true
   },
   "outputs": [],
   "source": []
  }
 ],
 "metadata": {
  "kernelspec": {
   "display_name": "Python 3",
   "language": "python",
   "name": "python3"
  },
  "language_info": {
   "codemirror_mode": {
    "name": "ipython",
    "version": 3
   },
   "file_extension": ".py",
   "mimetype": "text/x-python",
   "name": "python",
   "nbconvert_exporter": "python",
   "pygments_lexer": "ipython3",
   "version": "3.6.3"
  }
 },
 "nbformat": 4,
 "nbformat_minor": 2
}
