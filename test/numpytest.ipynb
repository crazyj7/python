{
 "cells": [
  {
   "cell_type": "markdown",
   "metadata": {},
   "source": [
    "# numpy test code"
   ]
  },
  {
   "cell_type": "code",
   "execution_count": 12,
   "metadata": {
    "collapsed": true
   },
   "outputs": [],
   "source": [
    "import numpy as np"
   ]
  },
  {
   "cell_type": "markdown",
   "metadata": {},
   "source": [
    "\n",
    "\n",
    "## 벡터 내적. 매트릭스 곱. DOT "
   ]
  },
  {
   "cell_type": "code",
   "execution_count": 13,
   "metadata": {},
   "outputs": [
    {
     "name": "stdout",
     "output_type": "stream",
     "text": [
      "[4 2 1] [2 1 5] 15\n"
     ]
    }
   ],
   "source": [
    "a=np.random.randint(0,5, 3) # 0~4 , count 3\n",
    "b=np.random.randint(1,6, 3) # 1~5 , count 3\n",
    "print(a, b, np.dot(a,b) ) # vector inner product"
   ]
  },
  {
   "cell_type": "markdown",
   "metadata": {
    "collapsed": true
   },
   "source": [
    "## Array 생성"
   ]
  },
  {
   "cell_type": "code",
   "execution_count": 14,
   "metadata": {},
   "outputs": [
    {
     "name": "stdout",
     "output_type": "stream",
     "text": [
      "[0. 0. 0. 0. 0.]\n",
      "[[0. 0. 0.]\n",
      " [0. 0. 0.]]\n",
      "[1. 1. 1. 1. 1.]\n",
      "[[0. 0. 0.]\n",
      " [0. 0. 0.]]\n",
      "[1 2 3]\n",
      "[[1 2]\n",
      " [3 4]]\n"
     ]
    }
   ],
   "source": [
    "print( np.zeros(5) ) \n",
    "print( np.zeros((2,3)))\n",
    "print( np.ones(5))\n",
    "print( np.empty((2,3)))\n",
    "print( np.array( [1,2,3 ])) # list to array\n",
    "print( np.array( [ [1,2], [3,4]])) # list to array"
   ]
  },
  {
   "cell_type": "code",
   "execution_count": 15,
   "metadata": {},
   "outputs": [
    {
     "name": "stdout",
     "output_type": "stream",
     "text": [
      "[[-1.60099269  0.61807954  1.13623565]\n",
      " [ 1.02902152  0.23009556  0.07578964]]\n",
      "[5 4 6 5]\n",
      "[[5 3 6]\n",
      " [9 8 6]]\n",
      "[0.72813394 0.53195946 0.93256288]\n",
      "[0.62988388 0.22672758 0.93457449]\n",
      "[[0.64341976 0.83527204 0.49004299]\n",
      " [0.3910581  0.58398958 0.23411563]]\n"
     ]
    }
   ],
   "source": [
    "print ( np.random.randn(2,3) )  # (-2~2) 2x3\n",
    "print ( np.random.randint(1,10,4)) # (1~9) 4\n",
    "print ( np.random.randint(1,10,(2,3))) # (1~9) 2x3\n",
    "print( np.random.rand(3)) # (0~1) 3\n",
    "print( np.random.random(3)) # \"\n",
    "print( np.random.rand(2,3)) # (0~1) 2x3"
   ]
  },
  {
   "cell_type": "code",
   "execution_count": 16,
   "metadata": {},
   "outputs": [
    {
     "name": "stdout",
     "output_type": "stream",
     "text": [
      "[-1.6  1.2  2.1] <class 'numpy.ndarray'>\n",
      "[-1  1  2] <class 'numpy.ndarray'>\n"
     ]
    }
   ],
   "source": [
    "# type\n",
    "x = np.array([-1.6, 1.2, 2.1])\n",
    "print(x, type(x))\n",
    "x = x.astype(np.int)\n",
    "print(x, type(x))"
   ]
  },
  {
   "cell_type": "markdown",
   "metadata": {},
   "source": [
    "* 리스트를 이용한 numpy array 생성"
   ]
  },
  {
   "cell_type": "code",
   "execution_count": 17,
   "metadata": {},
   "outputs": [
    {
     "name": "stdout",
     "output_type": "stream",
     "text": [
      "[['abc', 'abc', 'abc'], ['abc', 'abc', 'abc']]  type= <class 'list'>\n",
      "[['abc' 'abc' 'abc']\n",
      " ['abc' 'abc' 'abc']] type= <class 'numpy.ndarray'>\n"
     ]
    }
   ],
   "source": [
    "a=[[\"abc\" for i in range(3)] for i in range(2) ]\n",
    "print (a, ' type=', type(a) )\n",
    "b=np.asarray(a)\n",
    "print (b, 'type=', type(b))"
   ]
  },
  {
   "cell_type": "markdown",
   "metadata": {
    "collapsed": true
   },
   "source": [
    "## 행렬 붙이기 (matrix concat)"
   ]
  },
  {
   "cell_type": "markdown",
   "metadata": {},
   "source": [
    "###   1.row bind"
   ]
  },
  {
   "cell_type": "code",
   "execution_count": 18,
   "metadata": {},
   "outputs": [
    {
     "name": "stdout",
     "output_type": "stream",
     "text": [
      "mat=\n",
      " [[1. 1. 1. 1.]\n",
      " [1. 1. 1. 1.]\n",
      " [1. 1. 1. 1.]]\n",
      "a=\n",
      " [7 2 3 8]\n",
      "rowbind=\n",
      " [[1. 1. 1. 1.]\n",
      " [1. 1. 1. 1.]\n",
      " [1. 1. 1. 1.]\n",
      " [7. 2. 3. 8.]]\n",
      "rowbind=\n",
      " [[7. 2. 3. 8.]\n",
      " [1. 1. 1. 1.]\n",
      " [1. 1. 1. 1.]\n",
      " [1. 1. 1. 1.]]\n"
     ]
    }
   ],
   "source": [
    "a=np.random.randint(1,10,4)\n",
    "mat=np.ones((3,4))\n",
    "print('mat=\\n',mat)\n",
    "print('a=\\n',a)\n",
    "rowbind = np.r_[mat, [a]]   ## warn! : a shape\n",
    "print('rowbind=\\n', rowbind)\n",
    "rowbind = np.r_[[a], mat]\n",
    "print('rowbind=\\n', rowbind)"
   ]
  },
  {
   "cell_type": "code",
   "execution_count": 19,
   "metadata": {},
   "outputs": [
    {
     "name": "stdout",
     "output_type": "stream",
     "text": [
      "rowbind=\n",
      " [[1. 1. 1. 1.]\n",
      " [1. 1. 1. 1.]\n",
      " [1. 1. 1. 1.]\n",
      " [0. 0. 0. 0.]\n",
      " [0. 0. 0. 0.]]\n"
     ]
    }
   ],
   "source": [
    "a=np.zeros((2,4))\n",
    "rowbind = np.r_[mat, a]\n",
    "print('rowbind=\\n', rowbind)"
   ]
  },
  {
   "cell_type": "markdown",
   "metadata": {},
   "source": [
    "### 1.한 줄씩 추가하기"
   ]
  },
  {
   "cell_type": "code",
   "execution_count": 9,
   "metadata": {},
   "outputs": [
    {
     "name": "stdout",
     "output_type": "stream",
     "text": [
      "[[3. 4. 3.]]\n",
      "[[3. 4. 3.]\n",
      " [3. 4. 4.]]\n"
     ]
    }
   ],
   "source": [
    "# empty array and append row\n",
    "a = np.empty((0,3))\n",
    "b = np.random.randint(1,5,3)\n",
    "a = np.r_[a,[b]]\n",
    "print(a)\n",
    "b = np.random.randint(1,5,3)\n",
    "a = np.r_[a,[b]]\n",
    "print(a)\n"
   ]
  },
  {
   "cell_type": "code",
   "execution_count": null,
   "metadata": {
    "collapsed": true
   },
   "outputs": [],
   "source": [
    "#### list를 사용하여 append로 추가하고 나중에 numpy로 형변환 하는 방식도 있다."
   ]
  },
  {
   "cell_type": "markdown",
   "metadata": {
    "collapsed": true
   },
   "source": [
    "### 2.column bind"
   ]
  },
  {
   "cell_type": "code",
   "execution_count": 10,
   "metadata": {},
   "outputs": [
    {
     "name": "stdout",
     "output_type": "stream",
     "text": [
      "mat=\n",
      " [[1. 1. 1. 1.]\n",
      " [1. 1. 1. 1.]\n",
      " [1. 1. 1. 1.]]\n",
      "a=\n",
      " [9 9 7]\n",
      "colbind=\n",
      " [[1. 1. 1. 1. 9.]\n",
      " [1. 1. 1. 1. 9.]\n",
      " [1. 1. 1. 1. 7.]]\n",
      "colbind=\n",
      " [[9. 1. 1. 1. 1.]\n",
      " [9. 1. 1. 1. 1.]\n",
      " [7. 1. 1. 1. 1.]]\n"
     ]
    }
   ],
   "source": [
    "a=np.random.randint(1,10,3)\n",
    "mat=np.ones((3,4))\n",
    "print('mat=\\n',mat)\n",
    "print('a=\\n',a)\n",
    "colbind = np.c_[mat, a]\n",
    "print('colbind=\\n', colbind)\n",
    "colbind = np.c_[a, mat]\n",
    "print('colbind=\\n', colbind)"
   ]
  },
  {
   "cell_type": "code",
   "execution_count": 20,
   "metadata": {},
   "outputs": [
    {
     "name": "stdout",
     "output_type": "stream",
     "text": [
      "colbind=\n",
      " [[1. 1. 1. 1. 0. 0.]\n",
      " [1. 1. 1. 1. 0. 0.]\n",
      " [1. 1. 1. 1. 0. 0.]]\n"
     ]
    }
   ],
   "source": [
    "a=np.zeros((3,2))\n",
    "colbind = np.c_[mat, a]\n",
    "print('colbind=\\n', colbind)"
   ]
  },
  {
   "cell_type": "markdown",
   "metadata": {
    "collapsed": true
   },
   "source": [
    "## 집합 연산 "
   ]
  },
  {
   "cell_type": "code",
   "execution_count": 26,
   "metadata": {},
   "outputs": [
    {
     "name": "stdout",
     "output_type": "stream",
     "text": [
      "union= [1 2 3 4 5]\n",
      "insersect= [2]\n",
      "setdiff= [1 4]\n",
      "setxor1d= [1 3 4 5]\n"
     ]
    }
   ],
   "source": [
    "ar1=np.array([1,2,4])\n",
    "ar2=np.array([2,3,5])\n",
    "print( 'union=', np.union1d(ar1, ar2))\n",
    "print('insersect=', np.intersect1d(ar1, ar2))\n",
    "print('setdiff=', np.setdiff1d(ar1, ar2)) # ar1-ar2\n",
    "print('setxor1d=', np.setxor1d(ar1, ar2)) # union - intersect"
   ]
  },
  {
   "cell_type": "markdown",
   "metadata": {},
   "source": [
    "## 정렬 (Sort)"
   ]
  },
  {
   "cell_type": "code",
   "execution_count": 98,
   "metadata": {},
   "outputs": [
    {
     "name": "stdout",
     "output_type": "stream",
     "text": [
      "a= [4 8 2 6] (4,) 1\n",
      "reverse = [6 2 8 4]\n",
      "sorted a= [2 4 6 8]\n",
      "sort np.sort=\n",
      " [[2 3 4]\n",
      " [1 2 4]\n",
      " [1 2 2]]\n",
      "sort by row=\n",
      " [[2 1 1]\n",
      " [3 2 2]\n",
      " [4 2 4]]\n",
      "sort flatten=\n",
      " [1 1 2 2 2 2 3 4 4]\n",
      "a=\n",
      " [[3 2 4]\n",
      " [4 1 2]\n",
      " [2 2 1]] int64\n",
      "sort by column 2 = \n",
      " [[4 1 2]\n",
      " [3 2 4]\n",
      " [2 2 1]]\n",
      "sort by column 1 = \n",
      " [[2 2 1]\n",
      " [3 2 4]\n",
      " [4 1 2]]\n"
     ]
    }
   ],
   "source": [
    "a=np.array([4,8,2,6])\n",
    "print ('a=',a, a.shape, a.ndim)\n",
    "print ( 'reverse =', a[::-1])   # reverse order\n",
    "a.sort()  # modified a\n",
    "print('sorted a=', a)   # increase (ascendant)\n",
    "a=np.array( [[3,2,4], [4,1,2], [2,2,1]] )\n",
    "print( 'sort np.sort=\\n', np.sort(a)) # a is not changed.  column sort\n",
    "print('sort by row=\\n', np.sort(a, axis=0)) # row sort\n",
    "print('sort flatten=\\n', np.sort(a, axis=None)) # flatten\n",
    "\n",
    "# sort by column with keeping record.\n",
    "print('a=\\n',a, a.dtype)\n",
    "a=a[a[:,1].argsort()]    # sort by column index 1\n",
    "print('sort by column 2 = \\n', a)\n",
    "a=a[a[:,0].argsort(kind='mergesort')]    # sort by column index 0\n",
    "print('sort by column 1 = \\n', a)\n"
   ]
  },
  {
   "cell_type": "code",
   "execution_count": 75,
   "metadata": {},
   "outputs": [
    {
     "name": "stdout",
     "output_type": "stream",
     "text": [
      "[(3, 4, 4) (2, 4, 5) (1, 1, 1)]\n",
      "[(1, 1, 1) (2, 4, 5) (3, 4, 4)]\n"
     ]
    }
   ],
   "source": [
    "\n",
    "# sort by multiple key. \n",
    "b=np.array( [(3,4,4),(2,4,5),(1,1,1)], dtype=[('f1', int), ('f2',int), ('f3', int)])\n",
    "print(b)\n",
    "print ( np.sort(b, order=['f2','f1']))"
   ]
  },
  {
   "cell_type": "code",
   "execution_count": 77,
   "metadata": {},
   "outputs": [
    {
     "name": "stdout",
     "output_type": "stream",
     "text": [
      "sort desc= [8 6 4 2]\n"
     ]
    }
   ],
   "source": [
    "# descendent sort\n",
    "a=np.array([4,8,2,6])\n",
    "print('sort desc=', np.sort(a)[::-1])  # sort asc and reverse.\n"
   ]
  },
  {
   "cell_type": "markdown",
   "metadata": {},
   "source": [
    "### 인덱스  (index)"
   ]
  },
  {
   "cell_type": "code",
   "execution_count": 87,
   "metadata": {},
   "outputs": [
    {
     "name": "stdout",
     "output_type": "stream",
     "text": [
      "maxvalue index= 4  max value= 9 9\n",
      "[[3 2 4]\n",
      " [4 1 2]\n",
      " [2 3 4]]\n",
      "maxvalue index(ax=0)= [1 2 0]\n",
      "maxvalue index(ax=1)= [2 0 2]\n"
     ]
    }
   ],
   "source": [
    "# 최대값 위치의 인덱스 얻기\n",
    "a=np.array([4,8,1,2,9,4])\n",
    "print( 'maxvalue index=', np.argmax(a), ' max value=', a[np.argmax(a)], np.max(a))\n",
    "# 2D\n",
    "a=np.array( [[3,2,4], [4,1,2], [2,3,4]] )\n",
    "print(a)\n",
    "print('maxvalue index(ax=0)=', np.argmax(a, axis=0)) # compare by row. y-axis.\n",
    "print('maxvalue index(ax=1)=', np.argmax(a, axis=1)) # compare by column. x-axis."
   ]
  },
  {
   "cell_type": "code",
   "execution_count": 89,
   "metadata": {},
   "outputs": [
    {
     "name": "stdout",
     "output_type": "stream",
     "text": [
      "sort arg (ax=0)\n",
      " [[2 1 1]\n",
      " [0 0 0]\n",
      " [1 2 2]]\n"
     ]
    }
   ],
   "source": [
    "# 순위. 오름차순 정렬의 인덱스 번호. (sort를 하는데, 인덱스 순서만 구함)\n",
    "print( 'sort arg (ax=0)\\n', np.argsort(a, axis=0))"
   ]
  },
  {
   "cell_type": "code",
   "execution_count": 96,
   "metadata": {},
   "outputs": [
    {
     "name": "stdout",
     "output_type": "stream",
     "text": [
      "[2 3 1 0]\n",
      "[0 1 3 2]\n",
      "[180 175 170]\n"
     ]
    }
   ],
   "source": [
    "b=np.array([180,175,160,170])\n",
    "print( np.argsort(b)) # b를 오름차순 정렬한 데이터의 원래 인덱스 번호 순서 \n",
    "print( np.argsort(-b)) # 내림차순\n",
    "print( np.sort(b)[::-1][:3]) # big top 3 ; 역순정렬후 3개만 가져옴."
   ]
  },
  {
   "cell_type": "markdown",
   "metadata": {},
   "source": [
    "## 필터 / 추출 Filter"
   ]
  },
  {
   "cell_type": "code",
   "execution_count": 107,
   "metadata": {},
   "outputs": [
    {
     "name": "stdout",
     "output_type": "stream",
     "text": [
      "[False False False  True  True  True]\n",
      "[0 0 0 1 1 1]\n",
      "over 4= [6 7 9]  over 4 cnt= 3\n",
      "index 2~4= [3 6 7] last one= 9\n"
     ]
    }
   ],
   "source": [
    "a=np.array([1,2,3,6,7,9])\n",
    "print( a>4 )  # bool. mask\n",
    "print ( np.array(a>4, dtype=int)) # as integer\n",
    "print( 'over 4=', a[a>4], ' over 4 cnt=', len(a[a>4]) ) # filter condition\n",
    "print('index 2~4=', a[2:5],  'last one=', a[-1])  # index start, end+1"
   ]
  },
  {
   "cell_type": "code",
   "execution_count": 117,
   "metadata": {},
   "outputs": [
    {
     "name": "stdout",
     "output_type": "stream",
     "text": [
      "remove dupl= [0 1 2 6 8]\n",
      " non zero= (array([0, 1, 2, 4, 5, 7]),)\n",
      "[1 2 6 8 2 6]\n"
     ]
    }
   ],
   "source": [
    "# 중복 제거\n",
    "a=np.array([1,2,6,0,8,2,0,6])\n",
    "print ( 'remove dupl=', np.unique(a))\n",
    "# 0 제거\n",
    "print( ' non zero=', np.nonzero(a))\n",
    "print(a[np.nonzero(a)])"
   ]
  },
  {
   "cell_type": "code",
   "execution_count": 119,
   "metadata": {},
   "outputs": [
    {
     "name": "stdout",
     "output_type": "stream",
     "text": [
      "(array([3, 6]),)\n",
      "how many 3?= 2\n",
      "first 3 index= 3\n"
     ]
    }
   ],
   "source": [
    "# 검색 Search\n",
    "a=np.array([1,4,2,3,6,7,3])\n",
    "print( np.where(a==3) ) # find 3 value . and get the index num.\n",
    "print( 'how many 3?=', np.where(a==3)[0].size)\n",
    "print('first 3 index=', np.where(a==3)[0][0])"
   ]
  },
  {
   "cell_type": "markdown",
   "metadata": {},
   "source": [
    "<pre>\n",
    "# where in Matrix.\n",
    "\n",
    "itemindex = np.where(array==item)     ; row, column 값들이 리턴. (2차원, 튜플)\n",
    "array[ itemindex[0][0]] [ itemindex[1][0] ]\n",
    "array[ itemindex[0][1]] [ itemindex[1][1] ]\n",
    "</pre>\n"
   ]
  },
  {
   "cell_type": "code",
   "execution_count": null,
   "metadata": {
    "collapsed": true
   },
   "outputs": [],
   "source": []
  }
 ],
 "metadata": {
  "kernelspec": {
   "display_name": "Python 3",
   "language": "python",
   "name": "python3"
  },
  "language_info": {
   "codemirror_mode": {
    "name": "ipython",
    "version": 3
   },
   "file_extension": ".py",
   "mimetype": "text/x-python",
   "name": "python",
   "nbconvert_exporter": "python",
   "pygments_lexer": "ipython3",
   "version": "3.6.3"
  }
 },
 "nbformat": 4,
 "nbformat_minor": 2
}
