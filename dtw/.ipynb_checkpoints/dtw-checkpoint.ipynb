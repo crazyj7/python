{
 "cells": [
  {
   "cell_type": "code",
   "execution_count": 3,
   "metadata": {
    "collapsed": true
   },
   "outputs": [],
   "source": [
    "\n",
    "import random\n",
    "import matplotlib.pyplot as plt\n",
    "import numpy as np\n",
    "import math\n",
    "import sys"
   ]
  },
  {
   "cell_type": "code",
   "execution_count": 4,
   "metadata": {
    "collapsed": true
   },
   "outputs": [],
   "source": [
    "''' dtmat : matrix 2D \n",
    "i, j : (row num(top zero), col num(left zero)) \n",
    "desc ; find the min value among left, down, (left&down) position values.\n",
    "return ; found min value, row num(top zero), col num(left zero)\n",
    "'''\n",
    "def min_L(dtmat, i, j):\n",
    "    maxnum=sys.maxsize\n",
    "    v1row = dtmat.shape[0]\n",
    "    v1col = dtmat.shape[1]\n",
    "    a1=maxnum   # left\n",
    "    a2=maxnum   # down\n",
    "    a3=maxnum   # left,down\n",
    "    if i==v1row-1 and j==0:\n",
    "        return 0, i, j\n",
    "    if j-1 >= 0 :\n",
    "        # left col exist\n",
    "        a1 = dtmat[i, j-1]\n",
    "    if i+1 < v1row :\n",
    "        # down row exist\n",
    "        a2 = dtmat[i+1, j]\n",
    "    if j-1>=0 and i+1<v1row :\n",
    "        a3 = dtmat[i+1, j-1]\n",
    "    m = np.min([a1, a2, a3])\n",
    "    if m==a1 :\n",
    "        j=j-1\n",
    "    elif m==a2 :\n",
    "        i=i+1\n",
    "    else :\n",
    "        j=j-1\n",
    "        i=i+1\n",
    "    return m, i, j"
   ]
  },
  {
   "cell_type": "code",
   "execution_count": 5,
   "metadata": {},
   "outputs": [
    {
     "name": "stdout",
     "output_type": "stream",
     "text": [
      "[[1 2 3]\n",
      " [4 5 6]\n",
      " [7 8 9]]\n"
     ]
    },
    {
     "data": {
      "text/plain": [
       "(4, 1, 0)"
      ]
     },
     "execution_count": 5,
     "metadata": {},
     "output_type": "execute_result"
    }
   ],
   "source": [
    "x=np.array([[1,2,3],[4,5,6],[7,8,9]])\n",
    "print(x)\n",
    "min_L(x, 0,0)"
   ]
  },
  {
   "cell_type": "code",
   "execution_count": 6,
   "metadata": {},
   "outputs": [
    {
     "data": {
      "text/plain": [
       "(4, 1, 0)"
      ]
     },
     "execution_count": 6,
     "metadata": {},
     "output_type": "execute_result"
    }
   ],
   "source": [
    "min_L(x, 1,1)"
   ]
  },
  {
   "cell_type": "code",
   "execution_count": 7,
   "metadata": {},
   "outputs": [
    {
     "data": {
      "text/plain": [
       "(2, 0, 1)"
      ]
     },
     "execution_count": 7,
     "metadata": {},
     "output_type": "execute_result"
    }
   ],
   "source": [
    "min_L(x,0,2)"
   ]
  },
  {
   "cell_type": "code",
   "execution_count": 8,
   "metadata": {
    "collapsed": true
   },
   "outputs": [],
   "source": [
    "''' v1, v2 ; vector (y-axis, x-axis)\n",
    "return ; pathv, path, matrix\n",
    "pathv ; path value lsit\n",
    "path ; path position \n",
    "matrix : (row=v1(bottom v1[0]), col=v2) \n",
    "'''\n",
    "def dtw(v1, v2):\n",
    "    maxnum=sys.maxsize\n",
    "    v1=v1[::-1] # make reverse order\n",
    "    v1row = len(v1)\n",
    "    v2col = len(v2)\n",
    "    dtmat = np.array([maxnum]*(v1row*v2col))        # initial matrix (maxnum filled)\n",
    "\n",
    "    dtmat = dtmat.reshape(v1row, v2col)\n",
    "    for i in np.arange((v1row-1), -1, -1):          # from row index to 0\n",
    "        for j in np.arange(0, v2col):           # from 0 to col index.   start from left to right. from bottom to up.\n",
    "            m, _, _ = min_L(dtmat, i, j)\n",
    "            d = np.abs( (v1[i]-v2[j]))\n",
    "            dtmat[i,j] = d + m      #update value to difference + mininum value\n",
    "\n",
    "    # find path\n",
    "    # start right top cell. DTW value.\n",
    "    seli=0\n",
    "    selj=v2col-1\n",
    "    # path: make row index reverse... :  make bottom index to zero. (input vector index order)\n",
    "    path=[[v1row-1-seli, selj]]    # DTW path index.\n",
    "    pathv=[ dtmat[seli, selj] ]    # DTW value\n",
    "    while True:\n",
    "        if seli==v1row-1 and selj==0:\n",
    "            break\n",
    "\n",
    "        m, newi, newj = min_L(dtmat, seli, selj)\n",
    "        pathv.append( m )\n",
    "        # path: row index reverse.\n",
    "        path.append([v1row-1-newi, newj])\n",
    "        seli=newi\n",
    "        selj=newj\n",
    "\n",
    "    # reverse order\n",
    "    pathv = pathv[::-1]\n",
    "    path = path[::-1]\n",
    "   \n",
    "    pathv = np.array(pathv)\n",
    "    path = np.array(path)\n",
    "    # pathv = [2,4,6,...10] ;  final DTW value=pathv[-1]\n",
    "    # path = [ [a1, b1], [a2, b2], ...] ; compare v1[a1] to v2[b1]... \n",
    "    return pathv, path, dtmat"
   ]
  },
  {
   "cell_type": "code",
   "execution_count": 156,
   "metadata": {
    "collapsed": true
   },
   "outputs": [],
   "source": [
    "v1=np.array([3,6,2,7,5])\n",
    "v2=np.array([0,4,3,4,8,7,6])"
   ]
  },
  {
   "cell_type": "code",
   "execution_count": 157,
   "metadata": {
    "collapsed": true
   },
   "outputs": [],
   "source": [
    "pv,p, dtmat = dtw(v1,v2)"
   ]
  },
  {
   "cell_type": "code",
   "execution_count": 158,
   "metadata": {},
   "outputs": [
    {
     "data": {
      "text/plain": [
       "array([ 3,  5,  6,  8,  9,  9, 10])"
      ]
     },
     "execution_count": 158,
     "metadata": {},
     "output_type": "execute_result"
    }
   ],
   "source": [
    "pv"
   ]
  },
  {
   "cell_type": "code",
   "execution_count": 159,
   "metadata": {},
   "outputs": [
    {
     "data": {
      "text/plain": [
       "array([[0, 0],\n",
       "       [1, 1],\n",
       "       [2, 2],\n",
       "       [2, 3],\n",
       "       [3, 4],\n",
       "       [3, 5],\n",
       "       [4, 6]])"
      ]
     },
     "execution_count": 159,
     "metadata": {},
     "output_type": "execute_result"
    }
   ],
   "source": [
    "p"
   ]
  },
  {
   "cell_type": "code",
   "execution_count": 161,
   "metadata": {},
   "outputs": [
    {
     "data": {
      "text/plain": [
       "array([[23, 11, 12, 10, 12, 11, 10],\n",
       "       [18, 10, 10,  9,  9,  9, 10],\n",
       "       [11,  7,  6,  8, 12, 12, 12],\n",
       "       [ 9,  5,  7,  6,  7,  8,  8],\n",
       "       [ 3,  4,  4,  5, 10, 14, 17]])"
      ]
     },
     "execution_count": 161,
     "metadata": {},
     "output_type": "execute_result"
    }
   ],
   "source": [
    "dtmat"
   ]
  },
  {
   "cell_type": "code",
   "execution_count": 162,
   "metadata": {},
   "outputs": [
    {
     "data": {
      "text/plain": [
       "array([[ 5, 23, 11, 12, 10, 12, 11, 10],\n",
       "       [ 7, 18, 10, 10,  9,  9,  9, 10],\n",
       "       [ 2, 11,  7,  6,  8, 12, 12, 12],\n",
       "       [ 6,  9,  5,  7,  6,  7,  8,  8],\n",
       "       [ 3,  3,  4,  4,  5, 10, 14, 17],\n",
       "       [ 0,  0,  4,  3,  4,  8,  7,  6]])"
      ]
     },
     "execution_count": 162,
     "metadata": {},
     "output_type": "execute_result"
    }
   ],
   "source": [
    "mat=np.c_[v1[::-1],dtmat]\n",
    "\n",
    "lv2=list(v2)\n",
    "lv2.insert(0,0)\n",
    "\n",
    "mat=np.r_[mat, [lv2]]\n",
    "mat"
   ]
  },
  {
   "cell_type": "code",
   "execution_count": 214,
   "metadata": {
    "collapsed": true
   },
   "outputs": [],
   "source": [
    "colors=[  [ \"#ffffff\" for i in range(mat.shape[1]) ] for j in range(mat.shape[0]) ]\n",
    "c2=np.array(colors)\n",
    "c2[0:-1,0]='#aaaaff' #blue\n",
    "c2[-1,1:]='#aaffaa' #green\n",
    "q=p+1\n",
    "for qi in q:\n",
    "    c2[mat.shape[0]-1-qi[0]][qi[1]]='#ffaaaa' #red"
   ]
  },
  {
   "cell_type": "code",
   "execution_count": 215,
   "metadata": {},
   "outputs": [
    {
     "data": {
      "text/plain": [
       "(-0.05500000000000001,\n",
       " 0.05500000000000001,\n",
       " -0.05500000000000001,\n",
       " 0.05500000000000001)"
      ]
     },
     "execution_count": 215,
     "metadata": {},
     "output_type": "execute_result"
    }
   ],
   "source": [
    "fig, ax = plt.subplots()\n",
    "ax.axis('off')\n",
    "ax.axis('tight')"
   ]
  },
  {
   "cell_type": "code",
   "execution_count": 216,
   "metadata": {},
   "outputs": [
    {
     "data": {
      "text/plain": [
       "<matplotlib.table.Table at 0x7f5233ff6860>"
      ]
     },
     "execution_count": 216,
     "metadata": {},
     "output_type": "execute_result"
    }
   ],
   "source": [
    "ax.table(cellText=mat, loc='center', cellColours=c2)"
   ]
  },
  {
   "cell_type": "code",
   "execution_count": 217,
   "metadata": {},
   "outputs": [
    {
     "data": {
      "image/png": "[encoded data removed]",
      "text/plain": [
       "<matplotlib.figure.Figure at 0x7f5233ff6ac8>"
      ]
     },
     "metadata": {},
     "output_type": "display_data"
    }
   ],
   "source": [
    "plt.show()"
   ]
  },
  {
   "cell_type": "code",
   "execution_count": 218,
   "metadata": {
    "collapsed": true
   },
   "outputs": [],
   "source": [
    "maxcnt = max(len(v1), len(v2))"
   ]
  },
  {
   "cell_type": "code",
   "execution_count": 219,
   "metadata": {},
   "outputs": [
    {
     "data": {
      "image/png": "[encoded data removed]",
      "text/plain": [
       "<matplotlib.figure.Figure at 0x7f5233931748>"
      ]
     },
     "metadata": {},
     "output_type": "display_data"
    }
   ],
   "source": [
    "plt.figure()\n",
    "plt.plot(np.arange(len(v1)), v1, c='blue')\n",
    "plt.plot(np.arange(len(v2)), v2, c='green')\n",
    "plt.show()"
   ]
  },
  {
   "cell_type": "code",
   "execution_count": 228,
   "metadata": {},
   "outputs": [
    {
     "data": {
      "image/png": "[encoded data removed]",
      "text/plain": [
       "<matplotlib.figure.Figure at 0x7f5233736710>"
      ]
     },
     "metadata": {},
     "output_type": "display_data"
    }
   ],
   "source": [
    "plt.figure()\n",
    "plt.plot(np.arange(len(v1)), v1, c='blue', lw=3)\n",
    "plt.plot(np.arange(len(v2)), v2, c='green', lw=3)\n",
    "for pi in p:\n",
    "    plt.plot( [ pi[0], pi[1] ] ,  [v1[pi[0]], v2[pi[1]] ] , lw=1 )\n",
    "plt.show()"
   ]
  },
  {
   "cell_type": "code",
   "execution_count": 229,
   "metadata": {},
   "outputs": [
    {
     "name": "stdout",
     "output_type": "stream",
     "text": [
      "total DTW distance =  10\n"
     ]
    }
   ],
   "source": [
    "print('total DTW distance = ', pv[-1])"
   ]
  },
  {
   "cell_type": "code",
   "execution_count": null,
   "metadata": {
    "collapsed": true
   },
   "outputs": [],
   "source": []
  }
 ],
 "metadata": {
  "kernelspec": {
   "display_name": "Python 3",
   "language": "python",
   "name": "python3"
  },
  "language_info": {
   "codemirror_mode": {
    "name": "ipython",
    "version": 3
   },
   "file_extension": ".py",
   "mimetype": "text/x-python",
   "name": "python",
   "nbconvert_exporter": "python",
   "pygments_lexer": "ipython3",
   "version": "3.6.3"
  }
 },
 "nbformat": 4,
 "nbformat_minor": 2
}
