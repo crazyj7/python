{
 "cells": [
  {
   "cell_type": "markdown",
   "metadata": {},
   "source": [
    "# Submission"
   ]
  },
  {
   "cell_type": "markdown",
   "metadata": {},
   "source": [
    "## load package"
   ]
  },
  {
   "cell_type": "code",
   "execution_count": 44,
   "metadata": {},
   "outputs": [],
   "source": [
    "import sys\n",
    "import pandas as pd\n",
    "\n",
    "from keras.applications import xception\n",
    "from keras.applications import resnet50\n",
    "from keras.applications import mobilenetv2\n",
    "from efficientnet import EfficientNetB3\n",
    "\n",
    "import time\n",
    "import os\n",
    "import numpy as np\n",
    "import matplotlib.pyplot as plt\n",
    "import glob\n",
    "import random\n",
    "\n",
    "import keras\n",
    "from keras import regularizers\n",
    "from keras.models import Sequential\n",
    "from keras.layers import Conv2D, Dropout, MaxPooling2D, Flatten, Dense, Softmax\n",
    "from keras.preprocessing import image\n",
    "\n",
    "from keras.utils import np_utils\n",
    "from keras.models import load_model\n",
    "from keras.callbacks import TensorBoard, ModelCheckpoint, EarlyStopping, K\n",
    "from keras.models import Input, Model\n",
    "from sklearn.metrics import f1_score\n",
    "\n",
    "from keras.preprocessing.image import ImageDataGenerator\n",
    "import seaborn as sns\n",
    "import gc\n"
   ]
  },
  {
   "cell_type": "code",
   "execution_count": 45,
   "metadata": {},
   "outputs": [],
   "source": [
    "cache=False\n",
    "datadir = './'\n",
    "inputdir='./'\n",
    "\n",
    "imgwidth=224\n",
    "imgheight=224\n",
    "# get_ipython().run_line_magic('matplotlib', 'inline')\n"
   ]
  },
  {
   "cell_type": "code",
   "execution_count": 46,
   "metadata": {
    "scrolled": true
   },
   "outputs": [],
   "source": [
    "x_trainall = np.load(datadir+'x_train.npy')\n",
    "y_trainall = np.load(datadir+'y_train.npy')\n",
    "dfclass = pd.read_csv(inputdir+'class.csv')\n",
    "\n",
    "y_trainall_onehot = np_utils.to_categorical(y_trainall, 196)"
   ]
  },
  {
   "cell_type": "code",
   "execution_count": 47,
   "metadata": {},
   "outputs": [],
   "source": [
    "# f1 score \n",
    "def new_score(y_true, y_pred):\n",
    "    def recall(y_true, y_pred):\n",
    "        true_positives = K.sum(K.round(K.clip(y_true * y_pred, 0, 1)))\n",
    "        possible_positives = K.sum(K.round(K.clip(y_true, 0, 1)))\n",
    "        recall = (true_positives + K.epsilon()) / (possible_positives + K.epsilon())\n",
    "        return recall\n",
    "\n",
    "    def precision(y_true, y_pred):\n",
    "        true_positives = K.sum(K.round(K.clip(y_true * y_pred, 0, 1)))\n",
    "        predicted_positives = K.sum(K.round(K.clip(y_pred, 0, 1)))\n",
    "        precision = (true_positives + K.epsilon()) / (predicted_positives + K.epsilon())\n",
    "        return precision\n",
    "\n",
    "    precision = precision(y_true, y_pred)\n",
    "    recall = recall(y_true, y_pred)\n",
    "    return 2*((precision*recall)/(precision+recall+K.epsilon()))"
   ]
  },
  {
   "cell_type": "markdown",
   "metadata": {},
   "source": [
    "### Predict"
   ]
  },
  {
   "cell_type": "code",
   "execution_count": 48,
   "metadata": {},
   "outputs": [],
   "source": [
    "# test data load for submission\n",
    "x_test = np.load(datadir+'x_test.npy')\n",
    "x_test = x_test/255."
   ]
  },
  {
   "cell_type": "code",
   "execution_count": 49,
   "metadata": {},
   "outputs": [
    {
     "name": "stdout",
     "output_type": "stream",
     "text": [
      "0 model= ./carmodel-v8-1-xception-064-0.8654.ckpt\n",
      "method= xception\n",
      "model 0 : ./carmodel-v8-1-xception-064-0.8654.ckpt\n",
      "prediction 0 : [[1.8199599e-10 2.3740961e-29 3.1570112e-26 ... 6.7691485e-17\n",
      "  2.4012835e-22 2.4040828e-19]\n",
      " [5.3613532e-26 1.5183467e-29 1.7949350e-22 ... 1.7636049e-30\n",
      "  4.4532039e-26 3.3597284e-16]\n",
      " [1.1993884e-31 7.1819891e-23 2.6968775e-25 ... 4.3168006e-27\n",
      "  2.9457710e-25 1.4855046e-10]\n",
      " ...\n",
      " [3.0818818e-28 1.1733424e-15 6.3982026e-20 ... 7.9129831e-17\n",
      "  1.9825319e-20 1.4130850e-26]\n",
      " [5.6367892e-21 4.6692185e-19 1.3144279e-20 ... 7.9835554e-19\n",
      "  6.0698588e-09 1.3411591e-15]\n",
      " [2.6244478e-22 1.6358032e-15 1.3771895e-16 ... 2.4996119e-19\n",
      "  3.9523330e-14 3.8308001e-17]]\n",
      "1 model= ./carmodel-v8-6-xception-084-0.8683.ckpt\n",
      "method= xception\n",
      "model 1 : ./carmodel-v8-6-xception-084-0.8683.ckpt\n",
      "prediction 1 : [[6.2384070e-06 1.3740433e-36 1.6841751e-28 ... 1.6889400e-12\n",
      "  2.2874606e-23 2.0807763e-18]\n",
      " [2.8470471e-28 5.4254219e-21 2.8112408e-19 ... 6.6268934e-18\n",
      "  5.6867839e-16 3.8933507e-14]\n",
      " [4.4596899e-27 2.7167180e-26 9.3536366e-24 ... 8.6961896e-25\n",
      "  6.0389241e-19 3.0678444e-13]\n",
      " ...\n",
      " [2.9671307e-33 3.1653884e-21 1.1707336e-23 ... 1.8611261e-22\n",
      "  9.7513063e-22 2.4588025e-28]\n",
      " [3.4504850e-28 3.3325016e-16 5.2863171e-17 ... 7.5085756e-20\n",
      "  2.8293880e-14 2.4047628e-14]\n",
      " [3.1155836e-22 2.9830427e-15 5.8409764e-17 ... 2.0962100e-21\n",
      "  4.0825077e-13 1.9781443e-13]]\n",
      "2 model= ./carmodel-v8-7-xception-057-0.8856.ckpt\n",
      "method= xception\n",
      "model 2 : ./carmodel-v8-7-xception-057-0.8856.ckpt\n",
      "prediction 2 : [[9.7766906e-10 1.6252349e-34 1.1007453e-29 ... 4.1186329e-15\n",
      "  4.4453931e-23 1.7932729e-24]\n",
      " [3.4190464e-22 3.9301231e-14 3.8067282e-11 ... 4.6757076e-22\n",
      "  4.6783062e-17 2.0242035e-11]\n",
      " [2.2446389e-29 8.3931488e-28 4.4968217e-25 ... 5.6142322e-35\n",
      "  2.7975049e-31 9.0506271e-17]\n",
      " ...\n",
      " [1.0447307e-25 5.6064098e-20 4.0555172e-18 ... 4.3108604e-23\n",
      "  1.3231710e-15 9.0656724e-25]\n",
      " [1.2992808e-18 1.1751606e-17 8.1960102e-15 ... 8.6764267e-20\n",
      "  2.4665740e-08 2.1736661e-15]\n",
      " [2.1997418e-11 4.8761088e-14 5.8026682e-12 ... 1.4005711e-11\n",
      "  8.7797935e-06 2.1297928e-13]]\n",
      "3 model= ./carmodel-v8-8-xception-122-0.8797.ckpt\n",
      "method= xception\n",
      "model 3 : ./carmodel-v8-8-xception-122-0.8797.ckpt\n",
      "prediction 3 : [[1.96781702e-09 1.32205577e-34 1.02339855e-29 ... 1.47442500e-14\n",
      "  4.03934594e-17 2.57373428e-23]\n",
      " [6.58289973e-23 7.95046127e-24 4.33238471e-22 ... 1.12341073e-26\n",
      "  7.15441333e-19 5.51400195e-15]\n",
      " [4.45500162e-35 1.55780337e-35 1.13793449e-31 ... 0.00000000e+00\n",
      "  1.19267478e-27 3.24760241e-16]\n",
      " ...\n",
      " [0.00000000e+00 1.67484549e-28 3.61438081e-35 ... 3.08101862e-35\n",
      "  1.27209150e-20 2.66104826e-32]\n",
      " [5.42767573e-34 4.21106316e-27 2.53770621e-27 ... 7.98488196e-28\n",
      "  3.52113168e-13 1.23829439e-20]\n",
      " [2.55134675e-14 3.41663508e-07 8.18525423e-13 ... 1.92886573e-13\n",
      "  1.00197508e-06 4.13255576e-11]]\n",
      "final: [123  97 156 ...  43  49  93] 0 195\n"
     ]
    }
   ],
   "source": [
    "if True:\n",
    "    import glob, os\n",
    "    \n",
    "    predictions=[]\n",
    "    for ff, mp in enumerate(['carmodel-v8-1-', 'carmodel-v8-6-', 'carmodel-v8-7-', 'carmodel-v8-8-']):\n",
    "        files = glob.glob('./'+mp+'*')\n",
    "        mp = max(files, key=os.path.getctime)\n",
    "        print(ff, 'model=', mp)\n",
    "        \n",
    "        method='xception'\n",
    "        if mp.find('resnet50')>0:\n",
    "            method = 'resnet50'\n",
    "        elif mp.find('mobilenetv2')>0:\n",
    "            method = 'mobilenetv2'\n",
    "        elif mp.find('efficientnetb3')>0:\n",
    "            method = 'efficientnetb3'\n",
    "        \n",
    "        inputs = Input(shape=(224,224,3))\n",
    "        print('method=', method)\n",
    "        if method=='xception':\n",
    "            net = xception.Xception(input_tensor=inputs, input_shape=(224, 224, 3), include_top=False, weights='imagenet', pooling='max')\n",
    "        elif method=='resnet50':\n",
    "            net = resnet50.ResNet50(input_tensor=inputs, input_shape=(224, 224, 3), include_top=False, weights='imagenet', pooling='max')\n",
    "        elif method=='mobilenetv2':\n",
    "            net = mobilenetv2.MobileNetV2(input_tensor=inputs, input_shape=(224, 224, 3), include_top=False, weights='imagenet', pooling='max')\n",
    "        elif method=='efficientnetb3':\n",
    "            net = EfficientNetB3(input_tensor=inputs, input_shape=(224, 224, 3), include_top=False, weights='imagenet', pooling='max')\n",
    "        \n",
    "        net2 = Dense(224, activation='relu') (net.layers[-1].output)\n",
    "        net2 = Dense(196)(net2)\n",
    "        net2 = Softmax(196)(net2)\n",
    "        model = Model(inputs=inputs, outputs=net2)\n",
    "        \n",
    "        print('model',ff,':', mp)\n",
    "        model.load_weights(mp)\n",
    "        \n",
    "        pr = model.predict( x_test )\n",
    "        predictions.append(pr)\n",
    "        print('prediction',ff,':',pr)\n",
    "        \n",
    "    predictions = np.asarray(predictions)\n",
    "    prk = np.mean(predictions, axis=0 )\n",
    "    pdi = np.argmax(prk, axis=1)\n",
    "    print('final:', pdi, np.min(pdi), np.max(pdi))"
   ]
  },
  {
   "cell_type": "code",
   "execution_count": 50,
   "metadata": {},
   "outputs": [
    {
     "data": {
      "text/plain": [
       "<matplotlib.axes._subplots.AxesSubplot at 0x7f2722acbd30>"
      ]
     },
     "execution_count": 50,
     "metadata": {},
     "output_type": "execute_result"
    },
    {
     "data": {
      "image/png": "[encoded data removed]",
      "text/plain": [
       "<Figure size 432x288 with 1 Axes>"
      ]
     },
     "metadata": {
      "needs_background": "light"
     },
     "output_type": "display_data"
    }
   ],
   "source": [
    "if True:\n",
    "    submission = pd.read_csv(inputdir+'sample_submission.csv')\n",
    "    submission[\"class\"] = pdi + 1  \n",
    "    submission.to_csv(\"submission.csv\", index=False)\n",
    "    submission.head()\n",
    "\n",
    "\n",
    "# In[17]:\n",
    "sns.countplot(submission[\"class\"], order=submission[\"class\"].value_counts(ascending=True).index)"
   ]
  },
  {
   "cell_type": "code",
   "execution_count": 51,
   "metadata": {},
   "outputs": [
    {
     "data": {
      "text/html": [
       "<div>\n",
       "<style scoped>\n",
       "    .dataframe tbody tr th:only-of-type {\n",
       "        vertical-align: middle;\n",
       "    }\n",
       "\n",
       "    .dataframe tbody tr th {\n",
       "        vertical-align: top;\n",
       "    }\n",
       "\n",
       "    .dataframe thead th {\n",
       "        text-align: right;\n",
       "    }\n",
       "</style>\n",
       "<table border=\"1\" class=\"dataframe\">\n",
       "  <thead>\n",
       "    <tr style=\"text-align: right;\">\n",
       "      <th></th>\n",
       "      <th>0</th>\n",
       "    </tr>\n",
       "  </thead>\n",
       "  <tbody>\n",
       "    <tr>\n",
       "      <th>count</th>\n",
       "      <td>6150.000000</td>\n",
       "    </tr>\n",
       "    <tr>\n",
       "      <th>mean</th>\n",
       "      <td>0.877654</td>\n",
       "    </tr>\n",
       "    <tr>\n",
       "      <th>std</th>\n",
       "      <td>0.192268</td>\n",
       "    </tr>\n",
       "    <tr>\n",
       "      <th>min</th>\n",
       "      <td>0.137707</td>\n",
       "    </tr>\n",
       "    <tr>\n",
       "      <th>25%</th>\n",
       "      <td>0.790010</td>\n",
       "    </tr>\n",
       "    <tr>\n",
       "      <th>50%</th>\n",
       "      <td>0.993044</td>\n",
       "    </tr>\n",
       "    <tr>\n",
       "      <th>75%</th>\n",
       "      <td>0.999901</td>\n",
       "    </tr>\n",
       "    <tr>\n",
       "      <th>max</th>\n",
       "      <td>1.000000</td>\n",
       "    </tr>\n",
       "  </tbody>\n",
       "</table>\n",
       "</div>"
      ],
      "text/plain": [
       "                 0\n",
       "count  6150.000000\n",
       "mean      0.877654\n",
       "std       0.192268\n",
       "min       0.137707\n",
       "25%       0.790010\n",
       "50%       0.993044\n",
       "75%       0.999901\n",
       "max       1.000000"
      ]
     },
     "execution_count": 51,
     "metadata": {},
     "output_type": "execute_result"
    }
   ],
   "source": [
    "dfpredictions = pd.DataFrame(np.max(prk, axis=1).squeeze() )\n",
    "dfpredictions.describe()"
   ]
  },
  {
   "cell_type": "code",
   "execution_count": 52,
   "metadata": {},
   "outputs": [
    {
     "data": {
      "text/plain": [
       "<matplotlib.axes._subplots.AxesSubplot at 0x7f2713d2c3c8>"
      ]
     },
     "execution_count": 52,
     "metadata": {},
     "output_type": "execute_result"
    },
    {
     "data": {
      "image/png": "[encoded data removed]",
      "text/plain": [
       "<Figure size 432x288 with 1 Axes>"
      ]
     },
     "metadata": {
      "needs_background": "light"
     },
     "output_type": "display_data"
    }
   ],
   "source": [
    "dfpredictions[0].plot.hist(bins=20)"
   ]
  },
  {
   "cell_type": "code",
   "execution_count": 53,
   "metadata": {},
   "outputs": [
    {
     "data": {
      "text/plain": [
       "3224"
      ]
     },
     "execution_count": 53,
     "metadata": {},
     "output_type": "execute_result"
    }
   ],
   "source": [
    "psids = dfpredictions[0]>0.99 \n",
    "np.sum(psids)"
   ]
  },
  {
   "cell_type": "code",
   "execution_count": 55,
   "metadata": {},
   "outputs": [
    {
     "data": {
      "text/plain": [
       "(3224, 224, 224, 3)"
      ]
     },
     "execution_count": 55,
     "metadata": {},
     "output_type": "execute_result"
    }
   ],
   "source": [
    "x_test.shape\n",
    "x_test[psids].shape"
   ]
  },
  {
   "cell_type": "code",
   "execution_count": 64,
   "metadata": {},
   "outputs": [],
   "source": [
    "# pseudo dataset\n",
    "# x_test[psids]\n",
    "# pdi[psids]\n",
    "# make pseudo\n",
    "x_test = np.load(datadir+'x_test.npy')\n",
    "np.save('x_pseudo.npy', x_test[psids])\n",
    "np.save('y_pseudo.npy', pdi[psids])"
   ]
  },
  {
   "cell_type": "code",
   "execution_count": 65,
   "metadata": {},
   "outputs": [
    {
     "data": {
      "text/plain": [
       "dtype('uint8')"
      ]
     },
     "execution_count": 65,
     "metadata": {},
     "output_type": "execute_result"
    }
   ],
   "source": [
    "x_test[0].dtype"
   ]
  },
  {
   "cell_type": "code",
   "execution_count": null,
   "metadata": {},
   "outputs": [],
   "source": []
  }
 ],
 "metadata": {
  "kernelspec": {
   "display_name": "Python 3",
   "language": "python",
   "name": "python3"
  },
  "language_info": {
   "codemirror_mode": {
    "name": "ipython",
    "version": 3
   },
   "file_extension": ".py",
   "mimetype": "text/x-python",
   "name": "python",
   "nbconvert_exporter": "python",
   "pygments_lexer": "ipython3",
   "version": "3.6.8"
  }
 },
 "nbformat": 4,
 "nbformat_minor": 4
}
