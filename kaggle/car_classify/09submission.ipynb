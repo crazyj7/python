{
 "cells": [
  {
   "cell_type": "markdown",
   "metadata": {},
   "source": [
    "# Submission"
   ]
  },
  {
   "cell_type": "markdown",
   "metadata": {},
   "source": [
    "## load package"
   ]
  },
  {
   "cell_type": "code",
   "execution_count": 1,
   "metadata": {},
   "outputs": [
    {
     "name": "stderr",
     "output_type": "stream",
     "text": [
      "Using TensorFlow backend.\n"
     ]
    }
   ],
   "source": [
    "import sys\n",
    "import pandas as pd\n",
    "\n",
    "from keras.applications import xception\n",
    "from keras.applications import resnet50\n",
    "from keras.applications import mobilenetv2\n",
    "# from efficientnet import EfficientNetB3\n",
    "\n",
    "import time\n",
    "import os\n",
    "import numpy as np\n",
    "import matplotlib.pyplot as plt\n",
    "import glob\n",
    "import random\n",
    "\n",
    "import keras\n",
    "from keras import regularizers\n",
    "from keras.models import Sequential\n",
    "from keras.layers import Conv2D, Dropout, MaxPooling2D, Flatten, Dense, Softmax\n",
    "from keras.preprocessing import image\n",
    "\n",
    "from keras.utils import np_utils\n",
    "from keras.models import load_model\n",
    "from keras.callbacks import TensorBoard, ModelCheckpoint, EarlyStopping, K\n",
    "from keras.models import Input, Model\n",
    "from sklearn.metrics import f1_score\n",
    "\n",
    "from keras.preprocessing.image import ImageDataGenerator\n",
    "import seaborn as sns\n",
    "import gc\n"
   ]
  },
  {
   "cell_type": "code",
   "execution_count": 2,
   "metadata": {},
   "outputs": [],
   "source": [
    "cache=False\n",
    "bKaggle = True\n",
    "# datadir = './'\n",
    "datadir = './data_carmodel/'\n",
    "inputdir='./'\n",
    "if bKaggle:\n",
    "    datadir = '../input/carmodel8/data_carmodel/'\n",
    "    inputdir = '../input/2019-3rd-ml-month-with-kakr/'\n",
    "\n",
    "imgwidth=224\n",
    "imgheight=224\n",
    "# get_ipython().run_line_magic('matplotlib', 'inline')\n",
    "\n",
    "def dbgprint(msg):\n",
    "    if bKaggle:\n",
    "        os.system('echo \"'+msg+'\"')\n",
    "    else:\n",
    "        print(msg)\n",
    "\n",
    "dbgprint('hello log')"
   ]
  },
  {
   "cell_type": "code",
   "execution_count": 3,
   "metadata": {
    "scrolled": true
   },
   "outputs": [],
   "source": [
    "# x_trainall = np.load(datadir+'x_train.npy')\n",
    "# y_trainall = np.load(datadir+'y_train.npy')\n",
    "# dfclass = pd.read_csv(inputdir+'class.csv')\n",
    "# y_trainall_onehot = np_utils.to_categorical(y_trainall, 196)"
   ]
  },
  {
   "cell_type": "code",
   "execution_count": 4,
   "metadata": {},
   "outputs": [],
   "source": [
    "# f1 score \n",
    "def new_score(y_true, y_pred):\n",
    "    def recall(y_true, y_pred):\n",
    "        true_positives = K.sum(K.round(K.clip(y_true * y_pred, 0, 1)))\n",
    "        possible_positives = K.sum(K.round(K.clip(y_true, 0, 1)))\n",
    "        recall = (true_positives + K.epsilon()) / (possible_positives + K.epsilon())\n",
    "        return recall\n",
    "\n",
    "    def precision(y_true, y_pred):\n",
    "        true_positives = K.sum(K.round(K.clip(y_true * y_pred, 0, 1)))\n",
    "        predicted_positives = K.sum(K.round(K.clip(y_pred, 0, 1)))\n",
    "        precision = (true_positives + K.epsilon()) / (predicted_positives + K.epsilon())\n",
    "        return precision\n",
    "\n",
    "    precision = precision(y_true, y_pred)\n",
    "    recall = recall(y_true, y_pred)\n",
    "    return 2*((precision*recall)/(precision+recall+K.epsilon()))"
   ]
  },
  {
   "cell_type": "markdown",
   "metadata": {},
   "source": [
    "### Predict"
   ]
  },
  {
   "cell_type": "code",
   "execution_count": 5,
   "metadata": {},
   "outputs": [],
   "source": [
    "# test data load for submission\n",
    "x_test = np.load(datadir+'x_test.npy')\n",
    "x_test = x_test/255."
   ]
  },
  {
   "cell_type": "code",
   "execution_count": 6,
   "metadata": {},
   "outputs": [
    {
     "name": "stdout",
     "output_type": "stream",
     "text": [
      "0 model= ./data_carmodel/carmodel-v8-1-xception-005-0.9608.ckpt\n",
      "method= xception\n",
      "WARNING:tensorflow:From /home/psychic/.conda/envs/tensorgpu36/lib/python3.6/site-packages/tensorflow/python/framework/op_def_library.py:263: colocate_with (from tensorflow.python.framework.ops) is deprecated and will be removed in a future version.\n",
      "Instructions for updating:\n",
      "Colocations handled automatically by placer.\n",
      "model 0 : ./data_carmodel/carmodel-v8-1-xception-005-0.9608.ckpt\n",
      "prediction 0 : [[7.1944642e-12 8.2255405e-27 2.5243722e-27 ... 9.8306330e-15\n",
      "  6.0810514e-26 5.2303224e-21]\n",
      " [1.0196629e-15 1.9864615e-20 4.4598785e-14 ... 1.5281709e-20\n",
      "  9.3325958e-18 3.4836509e-12]\n",
      " [9.8224562e-31 3.4229581e-26 1.7409552e-26 ... 1.7455457e-24\n",
      "  1.4555232e-24 1.1800176e-11]\n",
      " ...\n",
      " [0.0000000e+00 1.6964367e-19 5.3239710e-24 ... 1.8358996e-22\n",
      "  1.2306653e-24 1.8509540e-31]\n",
      " [5.2424497e-20 7.3833513e-18 3.9885270e-16 ... 7.2108888e-17\n",
      "  5.9933278e-08 1.0555577e-15]\n",
      " [5.6319115e-13 5.3301481e-11 3.2428799e-10 ... 1.8357865e-10\n",
      "  1.2773419e-06 2.0410529e-11]]\n",
      "1 model= ./data_carmodel/carmodel-v8-6-xception-002-0.9603.ckpt\n",
      "method= xception\n",
      "model 1 : ./data_carmodel/carmodel-v8-6-xception-002-0.9603.ckpt\n",
      "prediction 1 : [[3.0034293e-08 2.2220252e-33 6.3752891e-29 ... 4.9590117e-11\n",
      "  1.5407305e-20 1.8581556e-21]\n",
      " [2.0140321e-24 5.0477068e-19 5.4017640e-18 ... 3.7785759e-15\n",
      "  1.2770372e-15 6.6137560e-12]\n",
      " [7.3340173e-37 7.8601858e-36 4.2548437e-32 ... 2.2877786e-34\n",
      "  2.7132965e-24 4.5499922e-22]\n",
      " ...\n",
      " [5.0763848e-29 7.7828202e-20 5.8370418e-23 ... 9.9921951e-20\n",
      "  2.2347895e-19 3.2802673e-26]\n",
      " [2.9625925e-33 2.7749796e-24 1.9587362e-26 ... 1.4880441e-25\n",
      "  1.1961444e-14 2.5623028e-21]\n",
      " [1.3336170e-21 6.0255752e-20 8.3511509e-18 ... 1.1068653e-20\n",
      "  1.7436605e-16 2.6457580e-20]]\n",
      "2 model= ./data_carmodel/carmodel-v8-7-xception-002-0.9548.ckpt\n",
      "method= xception\n",
      "model 2 : ./data_carmodel/carmodel-v8-7-xception-002-0.9548.ckpt\n",
      "prediction 2 : [[2.36167225e-10 2.96157470e-28 1.66664539e-26 ... 5.95846246e-12\n",
      "  6.16656943e-20 1.05660353e-26]\n",
      " [8.10859919e-25 6.83509129e-15 1.02401997e-10 ... 1.32541175e-23\n",
      "  1.45094291e-19 6.00621722e-12]\n",
      " [4.91875245e-24 3.11792466e-25 6.53501845e-21 ... 1.66194183e-25\n",
      "  4.05392148e-23 1.69339490e-11]\n",
      " ...\n",
      " [6.64429942e-29 7.62089738e-21 7.88850562e-19 ... 1.02343441e-24\n",
      "  1.11691810e-18 2.57307784e-26]\n",
      " [5.06503576e-25 1.20685312e-17 1.55658852e-13 ... 1.75363274e-23\n",
      "  8.71581071e-11 7.04686602e-20]\n",
      " [9.59644961e-15 1.29561511e-16 2.41982172e-12 ... 1.05361005e-14\n",
      "  3.60364405e-10 2.66497148e-14]]\n",
      "3 model= ./data_carmodel/carmodel-v8-8-xception-001-0.9741.ckpt\n",
      "method= xception\n",
      "model 3 : ./data_carmodel/carmodel-v8-8-xception-001-0.9741.ckpt\n",
      "prediction 3 : [[5.97469977e-07 6.68394758e-26 1.20667105e-22 ... 5.24404695e-12\n",
      "  1.38111290e-16 1.73184602e-18]\n",
      " [2.80668635e-17 3.79868502e-17 1.80044566e-18 ... 1.39190150e-20\n",
      "  3.20066851e-17 1.60514858e-13]\n",
      " [1.33333259e-30 2.94421312e-30 3.26289695e-26 ... 1.25334089e-34\n",
      "  1.89582011e-24 1.34688745e-11]\n",
      " ...\n",
      " [2.86113286e-33 9.93091708e-24 5.01503283e-25 ... 8.19597638e-25\n",
      "  3.12776445e-16 1.78548633e-25]\n",
      " [8.95665687e-32 5.25966168e-26 1.94282261e-24 ... 2.97843448e-27\n",
      "  4.69009393e-14 1.24052651e-19]\n",
      " [8.08983577e-13 2.97329716e-10 4.00894899e-12 ... 8.36234226e-14\n",
      "  2.60143509e-07 4.99529075e-13]]\n",
      "final: [123  97 156 ...  43  49  93] 0 195\n"
     ]
    }
   ],
   "source": [
    "if True:\n",
    "    import glob, os\n",
    "    \n",
    "    predictions=[]\n",
    "    for ff, mp in enumerate(['carmodel-v8-1-', 'carmodel-v8-6-', 'carmodel-v8-7-', 'carmodel-v8-8-']):\n",
    "        files = glob.glob(datadir+mp+'*')\n",
    "        mp = max(files, key=os.path.getctime)\n",
    "        print(ff, 'model=', mp)\n",
    "        \n",
    "        method='xception'\n",
    "        if mp.find('resnet50')>0:\n",
    "            method = 'resnet50'\n",
    "        elif mp.find('mobilenetv2')>0:\n",
    "            method = 'mobilenetv2'\n",
    "        elif mp.find('efficientnetb3')>0:\n",
    "            method = 'efficientnetb3'\n",
    "        \n",
    "        inputs = Input(shape=(224,224,3))\n",
    "        print('method=', method)\n",
    "        if method=='xception':\n",
    "            net = xception.Xception(input_tensor=inputs, input_shape=(224, 224, 3), include_top=False, weights='imagenet', pooling='max')\n",
    "        elif method=='resnet50':\n",
    "            net = resnet50.ResNet50(input_tensor=inputs, input_shape=(224, 224, 3), include_top=False, weights='imagenet', pooling='max')\n",
    "        elif method=='mobilenetv2':\n",
    "            net = mobilenetv2.MobileNetV2(input_tensor=inputs, input_shape=(224, 224, 3), include_top=False, weights='imagenet', pooling='max')\n",
    "        elif method=='efficientnetb3':\n",
    "            net = EfficientNetB3(input_tensor=inputs, input_shape=(224, 224, 3), include_top=False, weights='imagenet', pooling='max')\n",
    "        \n",
    "        net2 = Dense(224, activation='relu') (net.layers[-1].output)\n",
    "        net2 = Dense(196)(net2)\n",
    "        net2 = Softmax(196)(net2)\n",
    "        model = Model(inputs=inputs, outputs=net2)\n",
    "        \n",
    "        print('model',ff,':', mp)\n",
    "        model.load_weights(mp)\n",
    "        \n",
    "        pr = model.predict( x_test )\n",
    "        predictions.append(pr)\n",
    "        print('prediction',ff,':',pr)\n",
    "        \n",
    "    predictions = np.asarray(predictions)\n",
    "    prk = np.mean(predictions, axis=0 )\n",
    "    pdi = np.argmax(prk, axis=1)\n",
    "    print('final:', pdi, np.min(pdi), np.max(pdi))"
   ]
  },
  {
   "cell_type": "code",
   "execution_count": 7,
   "metadata": {},
   "outputs": [
    {
     "data": {
      "text/plain": [
       "<matplotlib.axes._subplots.AxesSubplot at 0x7f302fcdb898>"
      ]
     },
     "execution_count": 7,
     "metadata": {},
     "output_type": "execute_result"
    },
    {
     "data": {
      "image/png": "[encoded data removed]",
      "text/plain": [
       "<Figure size 432x288 with 1 Axes>"
      ]
     },
     "metadata": {
      "needs_background": "light"
     },
     "output_type": "display_data"
    }
   ],
   "source": [
    "if True:\n",
    "    submission = pd.read_csv(inputdir+'sample_submission.csv')\n",
    "    submission[\"class\"] = pdi + 1  \n",
    "    submission.to_csv(\"submission.csv\", index=False)\n",
    "    submission.head()\n",
    "\n",
    "\n",
    "# In[17]:\n",
    "sns.countplot(submission[\"class\"], order=submission[\"class\"].value_counts(ascending=True).index)"
   ]
  },
  {
   "cell_type": "code",
   "execution_count": 8,
   "metadata": {},
   "outputs": [
    {
     "data": {
      "text/html": [
       "<div>\n",
       "<style scoped>\n",
       "    .dataframe tbody tr th:only-of-type {\n",
       "        vertical-align: middle;\n",
       "    }\n",
       "\n",
       "    .dataframe tbody tr th {\n",
       "        vertical-align: top;\n",
       "    }\n",
       "\n",
       "    .dataframe thead th {\n",
       "        text-align: right;\n",
       "    }\n",
       "</style>\n",
       "<table border=\"1\" class=\"dataframe\">\n",
       "  <thead>\n",
       "    <tr style=\"text-align: right;\">\n",
       "      <th></th>\n",
       "      <th>0</th>\n",
       "    </tr>\n",
       "  </thead>\n",
       "  <tbody>\n",
       "    <tr>\n",
       "      <th>count</th>\n",
       "      <td>6150.000000</td>\n",
       "    </tr>\n",
       "    <tr>\n",
       "      <th>mean</th>\n",
       "      <td>0.882126</td>\n",
       "    </tr>\n",
       "    <tr>\n",
       "      <th>std</th>\n",
       "      <td>0.191004</td>\n",
       "    </tr>\n",
       "    <tr>\n",
       "      <th>min</th>\n",
       "      <td>0.096017</td>\n",
       "    </tr>\n",
       "    <tr>\n",
       "      <th>25%</th>\n",
       "      <td>0.810201</td>\n",
       "    </tr>\n",
       "    <tr>\n",
       "      <th>50%</th>\n",
       "      <td>0.993778</td>\n",
       "    </tr>\n",
       "    <tr>\n",
       "      <th>75%</th>\n",
       "      <td>0.999850</td>\n",
       "    </tr>\n",
       "    <tr>\n",
       "      <th>max</th>\n",
       "      <td>1.000000</td>\n",
       "    </tr>\n",
       "  </tbody>\n",
       "</table>\n",
       "</div>"
      ],
      "text/plain": [
       "                 0\n",
       "count  6150.000000\n",
       "mean      0.882126\n",
       "std       0.191004\n",
       "min       0.096017\n",
       "25%       0.810201\n",
       "50%       0.993778\n",
       "75%       0.999850\n",
       "max       1.000000"
      ]
     },
     "execution_count": 8,
     "metadata": {},
     "output_type": "execute_result"
    }
   ],
   "source": [
    "dfpredictions = pd.DataFrame(np.max(prk, axis=1).squeeze() )\n",
    "dfpredictions.describe()"
   ]
  },
  {
   "cell_type": "code",
   "execution_count": 9,
   "metadata": {},
   "outputs": [
    {
     "data": {
      "text/plain": [
       "<matplotlib.axes._subplots.AxesSubplot at 0x7f2a9ade2cc0>"
      ]
     },
     "execution_count": 9,
     "metadata": {},
     "output_type": "execute_result"
    },
    {
     "data": {
      "image/png": "[encoded data removed]",
      "text/plain": [
       "<Figure size 432x288 with 1 Axes>"
      ]
     },
     "metadata": {
      "needs_background": "light"
     },
     "output_type": "display_data"
    }
   ],
   "source": [
    "dfpredictions[0].plot.hist(bins=20)"
   ]
  },
  {
   "cell_type": "code",
   "execution_count": 10,
   "metadata": {},
   "outputs": [
    {
     "data": {
      "text/plain": [
       "3275"
      ]
     },
     "execution_count": 10,
     "metadata": {},
     "output_type": "execute_result"
    }
   ],
   "source": [
    "psids = dfpredictions[0]>0.99 \n",
    "np.sum(psids)"
   ]
  },
  {
   "cell_type": "code",
   "execution_count": 11,
   "metadata": {},
   "outputs": [
    {
     "data": {
      "text/plain": [
       "(3275, 224, 224, 3)"
      ]
     },
     "execution_count": 11,
     "metadata": {},
     "output_type": "execute_result"
    }
   ],
   "source": [
    "x_test.shape\n",
    "x_test[psids].shape"
   ]
  },
  {
   "cell_type": "code",
   "execution_count": 64,
   "metadata": {},
   "outputs": [],
   "source": [
    "# pseudo dataset\n",
    "# x_test[psids]\n",
    "# pdi[psids]\n",
    "# make pseudo\n",
    "if False:\n",
    "    print('Create Pseudo Label')\n",
    "    x_test = np.load(datadir+'x_test.npy')\n",
    "    np.save('x_pseudo.npy', x_test[psids])\n",
    "    np.save('y_pseudo.npy', pdi[psids])"
   ]
  },
  {
   "cell_type": "code",
   "execution_count": 65,
   "metadata": {},
   "outputs": [
    {
     "data": {
      "text/plain": [
       "dtype('uint8')"
      ]
     },
     "execution_count": 65,
     "metadata": {},
     "output_type": "execute_result"
    }
   ],
   "source": [
    "x_test[0].dtype"
   ]
  },
  {
   "cell_type": "code",
   "execution_count": null,
   "metadata": {},
   "outputs": [],
   "source": []
  }
 ],
 "metadata": {
  "kernelspec": {
   "display_name": "Python 3",
   "language": "python",
   "name": "python3"
  },
  "language_info": {
   "codemirror_mode": {
    "name": "ipython",
    "version": 3
   },
   "file_extension": ".py",
   "mimetype": "text/x-python",
   "name": "python",
   "nbconvert_exporter": "python",
   "pygments_lexer": "ipython3",
   "version": "3.6.8"
  }
 },
 "nbformat": 4,
 "nbformat_minor": 4
}
