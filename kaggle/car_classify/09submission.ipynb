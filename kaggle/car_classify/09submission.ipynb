{
 "cells": [
  {
   "cell_type": "markdown",
   "metadata": {},
   "source": [
    "# Submission"
   ]
  },
  {
   "cell_type": "markdown",
   "metadata": {},
   "source": [
    "## load package"
   ]
  },
  {
   "cell_type": "code",
   "execution_count": 1,
   "metadata": {},
   "outputs": [
    {
     "name": "stderr",
     "output_type": "stream",
     "text": [
      "Using TensorFlow backend.\n"
     ]
    }
   ],
   "source": [
    "import sys\n",
    "import pandas as pd\n",
    "\n",
    "from keras.applications import xception\n",
    "from keras.applications import resnet50\n",
    "from keras.applications import mobilenetv2\n",
    "# from efficientnet import EfficientNetB3\n",
    "\n",
    "import time\n",
    "import os\n",
    "import numpy as np\n",
    "import matplotlib.pyplot as plt\n",
    "import glob\n",
    "import random\n",
    "\n",
    "import keras\n",
    "from keras import regularizers\n",
    "from keras.models import Sequential\n",
    "from keras.layers import Conv2D, Dropout, MaxPooling2D, Flatten, Dense, Softmax\n",
    "from keras.preprocessing import image\n",
    "\n",
    "from keras.utils import np_utils\n",
    "from keras.models import load_model\n",
    "from keras.callbacks import TensorBoard, ModelCheckpoint, EarlyStopping, K\n",
    "from keras.models import Input, Model\n",
    "from sklearn.metrics import f1_score\n",
    "\n",
    "from keras.preprocessing.image import ImageDataGenerator\n",
    "import seaborn as sns\n",
    "import gc\n"
   ]
  },
  {
   "cell_type": "code",
   "execution_count": 2,
   "metadata": {},
   "outputs": [
    {
     "name": "stdout",
     "output_type": "stream",
     "text": [
      "hello log\n"
     ]
    }
   ],
   "source": [
    "cache=False\n",
    "bKaggle = False\n",
    "# datadir = './'\n",
    "datadir = './data_carmodel/'\n",
    "inputdir='./'\n",
    "if bKaggle:\n",
    "    datadir = '../input/carmodel8/data_carmodel/'\n",
    "    inputdir = '../input/2019-3rd-ml-month-with-kakr/'\n",
    "\n",
    "imgwidth=224\n",
    "imgheight=224\n",
    "# get_ipython().run_line_magic('matplotlib', 'inline')\n",
    "\n",
    "def dbgprint(msg):\n",
    "    if bKaggle:\n",
    "        os.system('echo \"'+msg+'\"')\n",
    "    else:\n",
    "        print(msg)\n",
    "\n",
    "dbgprint('hello log')"
   ]
  },
  {
   "cell_type": "code",
   "execution_count": 3,
   "metadata": {
    "scrolled": true
   },
   "outputs": [],
   "source": [
    "# x_trainall = np.load(datadir+'x_train.npy')\n",
    "# y_trainall = np.load(datadir+'y_train.npy')\n",
    "# dfclass = pd.read_csv(inputdir+'class.csv')\n",
    "# y_trainall_onehot = np_utils.to_categorical(y_trainall, 196)"
   ]
  },
  {
   "cell_type": "code",
   "execution_count": 4,
   "metadata": {},
   "outputs": [],
   "source": [
    "# f1 score \n",
    "def new_score(y_true, y_pred):\n",
    "    def recall(y_true, y_pred):\n",
    "        true_positives = K.sum(K.round(K.clip(y_true * y_pred, 0, 1)))\n",
    "        possible_positives = K.sum(K.round(K.clip(y_true, 0, 1)))\n",
    "        recall = (true_positives + K.epsilon()) / (possible_positives + K.epsilon())\n",
    "        return recall\n",
    "\n",
    "    def precision(y_true, y_pred):\n",
    "        true_positives = K.sum(K.round(K.clip(y_true * y_pred, 0, 1)))\n",
    "        predicted_positives = K.sum(K.round(K.clip(y_pred, 0, 1)))\n",
    "        precision = (true_positives + K.epsilon()) / (predicted_positives + K.epsilon())\n",
    "        return precision\n",
    "\n",
    "    precision = precision(y_true, y_pred)\n",
    "    recall = recall(y_true, y_pred)\n",
    "    return 2*((precision*recall)/(precision+recall+K.epsilon()))"
   ]
  },
  {
   "cell_type": "markdown",
   "metadata": {},
   "source": [
    "### Predict"
   ]
  },
  {
   "cell_type": "code",
   "execution_count": 5,
   "metadata": {},
   "outputs": [],
   "source": [
    "# test data load for submission\n",
    "x_test = np.load(datadir+'x_test.npy')\n",
    "x_test = x_test/255."
   ]
  },
  {
   "cell_type": "code",
   "execution_count": 6,
   "metadata": {},
   "outputs": [
    {
     "name": "stdout",
     "output_type": "stream",
     "text": [
      "0 model= ./data_carmodel/carmodel-v8-6-xception-001-0.9724.ckpt\n",
      "method= xception\n",
      "WARNING:tensorflow:From /home/psychic/.conda/envs/tensorgpu36/lib/python3.6/site-packages/tensorflow/python/framework/op_def_library.py:263: colocate_with (from tensorflow.python.framework.ops) is deprecated and will be removed in a future version.\n",
      "Instructions for updating:\n",
      "Colocations handled automatically by placer.\n",
      "model 0 : ./data_carmodel/carmodel-v8-6-xception-001-0.9724.ckpt\n",
      "prediction 0 : [[3.67612711e-11 0.00000000e+00 1.56747924e-35 ... 3.22226719e-18\n",
      "  6.90518011e-28 6.17610285e-22]\n",
      " [2.94283266e-26 1.72132729e-17 4.02173229e-18 ... 2.74132155e-15\n",
      "  9.91642532e-13 1.13247356e-09]\n",
      " [3.17561877e-37 5.41340260e-36 1.16664905e-32 ... 2.25213036e-33\n",
      "  1.35598358e-23 2.44935724e-20]\n",
      " ...\n",
      " [0.00000000e+00 3.21129154e-27 6.10422932e-32 ... 1.55658681e-26\n",
      "  1.69685069e-23 9.36098555e-35]\n",
      " [2.01331030e-36 3.54775551e-23 2.74705945e-25 ... 6.14602186e-27\n",
      "  1.72213809e-17 1.54117044e-20]\n",
      " [1.14064098e-25 5.67016084e-16 2.89782172e-18 ... 4.22521277e-24\n",
      "  1.89816763e-13 1.38232970e-19]]\n",
      "1 model= ./data_carmodel/carmodel-v8-7-xception-003-0.9528.ckpt\n",
      "method= xception\n",
      "model 1 : ./data_carmodel/carmodel-v8-7-xception-003-0.9528.ckpt\n",
      "prediction 1 : [[2.02792361e-09 3.64106637e-28 3.43004464e-27 ... 3.95977084e-10\n",
      "  2.48126184e-18 3.28036688e-22]\n",
      " [8.18106074e-27 8.25433946e-15 3.98875594e-13 ... 2.29628622e-23\n",
      "  9.75485642e-23 2.56461265e-14]\n",
      " [8.12171547e-34 3.25205766e-28 3.24459316e-31 ... 2.12933396e-31\n",
      "  3.65214727e-29 5.67884134e-16]\n",
      " ...\n",
      " [3.36210373e-29 3.40369765e-20 1.35063145e-21 ... 3.70111597e-25\n",
      "  1.16680365e-19 8.02104006e-25]\n",
      " [1.08096310e-17 4.81678282e-12 2.45656121e-12 ... 4.54423953e-18\n",
      "  7.95697929e-07 3.05926833e-13]\n",
      " [1.87881954e-14 1.28344695e-07 3.31477139e-07 ... 4.91452853e-13\n",
      "  6.29070314e-07 1.19743815e-08]]\n",
      "2 model= ./data_carmodel/carmodel-v8-8-xception-001-0.9723.ckpt\n",
      "method= xception\n",
      "model 2 : ./data_carmodel/carmodel-v8-8-xception-001-0.9723.ckpt\n",
      "prediction 2 : [[7.0409357e-07 2.3454401e-24 2.4262938e-20 ... 1.3953086e-12\n",
      "  4.6332207e-15 3.4109248e-19]\n",
      " [7.4919819e-15 9.2004666e-16 5.3396703e-16 ... 1.6575801e-19\n",
      "  1.6447272e-16 3.8162182e-14]\n",
      " [2.9364257e-32 1.0543278e-35 2.0987702e-31 ... 0.0000000e+00\n",
      "  3.7641030e-27 7.6701836e-18]\n",
      " ...\n",
      " [7.7731438e-37 3.3665661e-24 8.7205861e-25 ... 3.6726566e-29\n",
      "  1.9226598e-15 4.9593185e-31]\n",
      " [0.0000000e+00 1.9025253e-35 2.6240171e-30 ... 3.5877016e-37\n",
      "  3.5130341e-17 1.1388774e-30]\n",
      " [5.9772100e-12 3.7418856e-11 5.0203168e-11 ... 3.7686898e-14\n",
      "  2.7374853e-08 3.7005436e-14]]\n",
      "final: [123  97 156 ...  43  49  93] 0 195\n"
     ]
    }
   ],
   "source": [
    "if True:\n",
    "    import glob, os\n",
    "    \n",
    "    predictions=[]\n",
    "    \n",
    "    # 'carmodel-v8-1-', \n",
    "    for ff, mp in enumerate(['carmodel-v8-6-', 'carmodel-v8-7-', 'carmodel-v8-8-']):\n",
    "        files = glob.glob(datadir+mp+'*')\n",
    "        mp = max(files, key=os.path.getctime)\n",
    "        msg = '{} model={}'.format(ff, mp)\n",
    "        dbgprint(msg)\n",
    "        \n",
    "        method='xception'\n",
    "        if mp.find('resnet50')>0:\n",
    "            method = 'resnet50'\n",
    "        elif mp.find('mobilenetv2')>0:\n",
    "            method = 'mobilenetv2'\n",
    "        elif mp.find('efficientnetb3')>0:\n",
    "            method = 'efficientnetb3'\n",
    "        \n",
    "        inputs = Input(shape=(224,224,3))\n",
    "        print('method=', method)\n",
    "        if method=='xception':\n",
    "            net = xception.Xception(input_tensor=inputs, input_shape=(224, 224, 3), include_top=False, weights='imagenet', pooling='max')\n",
    "        elif method=='resnet50':\n",
    "            net = resnet50.ResNet50(input_tensor=inputs, input_shape=(224, 224, 3), include_top=False, weights='imagenet', pooling='max')\n",
    "        elif method=='mobilenetv2':\n",
    "            net = mobilenetv2.MobileNetV2(input_tensor=inputs, input_shape=(224, 224, 3), include_top=False, weights='imagenet', pooling='max')\n",
    "        elif method=='efficientnetb3':\n",
    "            net = EfficientNetB3(input_tensor=inputs, input_shape=(224, 224, 3), include_top=False, weights='imagenet', pooling='max')\n",
    "        \n",
    "        net2 = Dense(224, activation='relu') (net.layers[-1].output)\n",
    "        net2 = Dense(196)(net2)\n",
    "        net2 = Softmax(196)(net2)\n",
    "        model = Model(inputs=inputs, outputs=net2)\n",
    "        \n",
    "        print('model',ff,':', mp)\n",
    "        model.load_weights(mp)\n",
    "        \n",
    "        pr = model.predict( x_test )\n",
    "        predictions.append(pr)\n",
    "        print('prediction',ff,':',pr)\n",
    "        \n",
    "    predictions = np.asarray(predictions)\n",
    "    prk = np.mean(predictions, axis=0 )\n",
    "    pdi = np.argmax(prk, axis=1)\n",
    "    print('final:', pdi, np.min(pdi), np.max(pdi))"
   ]
  },
  {
   "cell_type": "code",
   "execution_count": 7,
   "metadata": {},
   "outputs": [
    {
     "data": {
      "text/plain": [
       "<matplotlib.axes._subplots.AxesSubplot at 0x7fc47d730d68>"
      ]
     },
     "execution_count": 7,
     "metadata": {},
     "output_type": "execute_result"
    },
    {
     "data": {
      "image/png": "[encoded data removed]",
      "text/plain": [
       "<Figure size 432x288 with 1 Axes>"
      ]
     },
     "metadata": {
      "needs_background": "light"
     },
     "output_type": "display_data"
    }
   ],
   "source": [
    "if True:\n",
    "    submission = pd.read_csv(inputdir+'sample_submission.csv')\n",
    "    submission[\"class\"] = pdi + 1  \n",
    "    submission.to_csv(\"submission.csv\", index=False)\n",
    "    submission.head()\n",
    "\n",
    "\n",
    "# In[17]:\n",
    "sns.countplot(submission[\"class\"], order=submission[\"class\"].value_counts(ascending=True).index)"
   ]
  },
  {
   "cell_type": "code",
   "execution_count": 8,
   "metadata": {},
   "outputs": [
    {
     "data": {
      "text/html": [
       "<div>\n",
       "<style scoped>\n",
       "    .dataframe tbody tr th:only-of-type {\n",
       "        vertical-align: middle;\n",
       "    }\n",
       "\n",
       "    .dataframe tbody tr th {\n",
       "        vertical-align: top;\n",
       "    }\n",
       "\n",
       "    .dataframe thead th {\n",
       "        text-align: right;\n",
       "    }\n",
       "</style>\n",
       "<table border=\"1\" class=\"dataframe\">\n",
       "  <thead>\n",
       "    <tr style=\"text-align: right;\">\n",
       "      <th></th>\n",
       "      <th>0</th>\n",
       "    </tr>\n",
       "  </thead>\n",
       "  <tbody>\n",
       "    <tr>\n",
       "      <th>count</th>\n",
       "      <td>6150.000000</td>\n",
       "    </tr>\n",
       "    <tr>\n",
       "      <th>mean</th>\n",
       "      <td>0.888856</td>\n",
       "    </tr>\n",
       "    <tr>\n",
       "      <th>std</th>\n",
       "      <td>0.189781</td>\n",
       "    </tr>\n",
       "    <tr>\n",
       "      <th>min</th>\n",
       "      <td>0.109495</td>\n",
       "    </tr>\n",
       "    <tr>\n",
       "      <th>25%</th>\n",
       "      <td>0.848567</td>\n",
       "    </tr>\n",
       "    <tr>\n",
       "      <th>50%</th>\n",
       "      <td>0.997462</td>\n",
       "    </tr>\n",
       "    <tr>\n",
       "      <th>75%</th>\n",
       "      <td>0.999974</td>\n",
       "    </tr>\n",
       "    <tr>\n",
       "      <th>max</th>\n",
       "      <td>1.000000</td>\n",
       "    </tr>\n",
       "  </tbody>\n",
       "</table>\n",
       "</div>"
      ],
      "text/plain": [
       "                 0\n",
       "count  6150.000000\n",
       "mean      0.888856\n",
       "std       0.189781\n",
       "min       0.109495\n",
       "25%       0.848567\n",
       "50%       0.997462\n",
       "75%       0.999974\n",
       "max       1.000000"
      ]
     },
     "execution_count": 8,
     "metadata": {},
     "output_type": "execute_result"
    }
   ],
   "source": [
    "dfpredictions = pd.DataFrame(np.max(prk, axis=1).squeeze() )\n",
    "dfpredictions.describe()"
   ]
  },
  {
   "cell_type": "code",
   "execution_count": 9,
   "metadata": {},
   "outputs": [
    {
     "data": {
      "text/plain": [
       "<matplotlib.axes._subplots.AxesSubplot at 0x7fbe600bb7f0>"
      ]
     },
     "execution_count": 9,
     "metadata": {},
     "output_type": "execute_result"
    },
    {
     "data": {
      "image/png": "[encoded data removed]",
      "text/plain": [
       "<Figure size 432x288 with 1 Axes>"
      ]
     },
     "metadata": {
      "needs_background": "light"
     },
     "output_type": "display_data"
    }
   ],
   "source": [
    "dfpredictions[0].plot.hist(bins=20)"
   ]
  },
  {
   "cell_type": "code",
   "execution_count": 10,
   "metadata": {},
   "outputs": [
    {
     "data": {
      "text/plain": [
       "3559"
      ]
     },
     "execution_count": 10,
     "metadata": {},
     "output_type": "execute_result"
    }
   ],
   "source": [
    "psids = dfpredictions[0]>0.99 \n",
    "np.sum(psids)"
   ]
  },
  {
   "cell_type": "code",
   "execution_count": 11,
   "metadata": {},
   "outputs": [
    {
     "data": {
      "text/plain": [
       "(3559, 224, 224, 3)"
      ]
     },
     "execution_count": 11,
     "metadata": {},
     "output_type": "execute_result"
    }
   ],
   "source": [
    "x_test.shape\n",
    "x_test[psids].shape"
   ]
  },
  {
   "cell_type": "code",
   "execution_count": 12,
   "metadata": {},
   "outputs": [],
   "source": [
    "# pseudo dataset\n",
    "# x_test[psids]\n",
    "# pdi[psids]\n",
    "# make pseudo\n",
    "if False:\n",
    "    print('Create Pseudo Label')\n",
    "    x_test = np.load(datadir+'x_test.npy')\n",
    "    np.save('x_pseudo.npy', x_test[psids])\n",
    "    np.save('y_pseudo.npy', pdi[psids])"
   ]
  },
  {
   "cell_type": "code",
   "execution_count": 13,
   "metadata": {},
   "outputs": [
    {
     "data": {
      "text/plain": [
       "dtype('float64')"
      ]
     },
     "execution_count": 13,
     "metadata": {},
     "output_type": "execute_result"
    }
   ],
   "source": [
    "x_test[0].dtype"
   ]
  },
  {
   "cell_type": "code",
   "execution_count": null,
   "metadata": {},
   "outputs": [],
   "source": []
  },
  {
   "cell_type": "code",
   "execution_count": null,
   "metadata": {},
   "outputs": [],
   "source": []
  }
 ],
 "metadata": {
  "kernelspec": {
   "display_name": "Python 3",
   "language": "python",
   "name": "python3"
  },
  "language_info": {
   "codemirror_mode": {
    "name": "ipython",
    "version": 3
   },
   "file_extension": ".py",
   "mimetype": "text/x-python",
   "name": "python",
   "nbconvert_exporter": "python",
   "pygments_lexer": "ipython3",
   "version": "3.6.8"
  }
 },
 "nbformat": 4,
 "nbformat_minor": 4
}
