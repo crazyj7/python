{
 "cells": [
  {
   "cell_type": "markdown",
   "metadata": {},
   "source": [
    "# Submission"
   ]
  },
  {
   "cell_type": "markdown",
   "metadata": {},
   "source": [
    "## load package"
   ]
  },
  {
   "cell_type": "code",
   "execution_count": 1,
   "metadata": {},
   "outputs": [
    {
     "name": "stderr",
     "output_type": "stream",
     "text": [
      "Using TensorFlow backend.\n"
     ]
    }
   ],
   "source": [
    "import sys\n",
    "import pandas as pd\n",
    "\n",
    "from keras.applications import xception\n",
    "from keras.applications import resnet50\n",
    "from keras.applications import mobilenetv2\n",
    "# from efficientnet import EfficientNetB3\n",
    "\n",
    "import time\n",
    "import os\n",
    "import numpy as np\n",
    "import matplotlib.pyplot as plt\n",
    "import glob\n",
    "import random\n",
    "\n",
    "import keras\n",
    "from keras import regularizers\n",
    "from keras.models import Sequential\n",
    "from keras.layers import Conv2D, Dropout, MaxPooling2D, Flatten, Dense, Softmax\n",
    "from keras.preprocessing import image\n",
    "\n",
    "from keras.utils import np_utils\n",
    "from keras.models import load_model\n",
    "from keras.callbacks import TensorBoard, ModelCheckpoint, EarlyStopping, K\n",
    "from keras.models import Input, Model\n",
    "from sklearn.metrics import f1_score\n",
    "\n",
    "from keras.preprocessing.image import ImageDataGenerator\n",
    "import seaborn as sns\n",
    "import gc\n"
   ]
  },
  {
   "cell_type": "code",
   "execution_count": 2,
   "metadata": {},
   "outputs": [
    {
     "name": "stdout",
     "output_type": "stream",
     "text": [
      "../input/carmodel6/model/\n"
     ]
    }
   ],
   "source": [
    "bKaggle = True\n",
    "datadir = './pre/'\n",
    "modeldir = './pre/'\n",
    "inputdir='./'\n",
    "if bKaggle:\n",
    "    datadir = '../input/carmodel5/ppcarmodel/'\n",
    "    modeldir = '../input/carmodel6/model/'\n",
    "    inputdir = '../input/2019-3rd-ml-month-with-kakr/'\n",
    "\n",
    "print(modeldir)"
   ]
  },
  {
   "cell_type": "code",
   "execution_count": 3,
   "metadata": {},
   "outputs": [],
   "source": [
    "# 224/299\n",
    "imagesize=250\n",
    "# get_ipython().run_line_magic('matplotlib', 'inline')\n",
    "\n",
    "def dbgprint(msg):\n",
    "    if bKaggle:\n",
    "        os.system('echo \"'+msg+'\"')\n",
    "    else:\n",
    "        print(msg)\n",
    "\n",
    "dbgprint('hello log')"
   ]
  },
  {
   "cell_type": "code",
   "execution_count": 4,
   "metadata": {},
   "outputs": [],
   "source": [
    "# f1 score \n",
    "def new_score(y_true, y_pred):\n",
    "    def recall(y_true, y_pred):\n",
    "        true_positives = K.sum(K.round(K.clip(y_true * y_pred, 0, 1)))\n",
    "        possible_positives = K.sum(K.round(K.clip(y_true, 0, 1)))\n",
    "        recall = (true_positives + K.epsilon()) / (possible_positives + K.epsilon())\n",
    "        return recall\n",
    "\n",
    "    def precision(y_true, y_pred):\n",
    "        true_positives = K.sum(K.round(K.clip(y_true * y_pred, 0, 1)))\n",
    "        predicted_positives = K.sum(K.round(K.clip(y_pred, 0, 1)))\n",
    "        precision = (true_positives + K.epsilon()) / (predicted_positives + K.epsilon())\n",
    "        return precision\n",
    "\n",
    "    precision = precision(y_true, y_pred)\n",
    "    recall = recall(y_true, y_pred)\n",
    "    return 2*((precision*recall)/(precision+recall+K.epsilon()))"
   ]
  },
  {
   "cell_type": "markdown",
   "metadata": {},
   "source": [
    "### Predict"
   ]
  },
  {
   "cell_type": "code",
   "execution_count": 19,
   "metadata": {},
   "outputs": [
    {
     "name": "stdout",
     "output_type": "stream",
     "text": [
      "Found 6150 images.\n"
     ]
    },
    {
     "data": {
      "text/plain": [
       "192.1875"
      ]
     },
     "execution_count": 19,
     "metadata": {},
     "output_type": "execute_result"
    }
   ],
   "source": [
    "# test data load for submission\n",
    "# dftrain = pd.read_csv(inputdir+'train.csv')\n",
    "# dftrain['class'] = dftrain['class'].astype('str')\n",
    "# dftest = dftrain.iloc[8000:,:]\n",
    "\n",
    "dftest = pd.read_csv(inputdir+'test.csv')\n",
    "\n",
    "classes = list(str(num) for num in range(1,197))\n",
    "\n",
    "batch_size=32\n",
    "datagen = ImageDataGenerator(rescale=1./255)\n",
    "test_generator = datagen.flow_from_dataframe(dataframe=dftest, \n",
    "#                                            directory=datadir+'train', \n",
    "                                             directory=datadir+'test',\n",
    "                                             x_col = 'img_file', \n",
    "                                             class_mode=None,\n",
    "                                             target_size = (imagesize, imagesize),\n",
    "                                             batch_size=batch_size, shuffle=False )\n"
   ]
  },
  {
   "cell_type": "code",
   "execution_count": 20,
   "metadata": {},
   "outputs": [
    {
     "name": "stdout",
     "output_type": "stream",
     "text": [
      "method= xception\n",
      "model 0 : ../input/carmodel6/model\\carmodel-v5-2-xception-052-0.8709.ckpt\n",
      "predict_generator\n",
      "prediction 0 : [[3.8335082e-05 7.1368889e-10 8.8099502e-19 ... 2.5259009e-10\n",
      "  1.2122085e-14 9.1842215e-15]\n",
      " [2.4271630e-25 1.7373352e-27 5.9024843e-15 ... 2.4128179e-17\n",
      "  9.9999034e-01 2.8553753e-16]\n",
      " [3.5293590e-37 2.7394233e-23 1.5041444e-11 ... 7.4421568e-29\n",
      "  4.0439035e-20 1.0985799e-20]\n",
      " ...\n",
      " [1.5731625e-16 6.5399331e-01 1.0939620e-25 ... 4.3596790e-15\n",
      "  7.2738582e-19 3.9443332e-26]\n",
      " [1.5780694e-33 4.8635771e-26 1.2970512e-16 ... 7.7909894e-14\n",
      "  6.6648811e-20 6.3140716e-16]\n",
      " [9.3669308e-11 1.0433025e-16 3.0349638e-12 ... 2.5996533e-08\n",
      "  2.2200659e-09 1.3002150e-16]]\n",
      "(320, 196)\n"
     ]
    }
   ],
   "source": [
    "if True:\n",
    "    import glob, os\n",
    "    \n",
    "    predictions=[]\n",
    "    # 'carmodel-v8-1-', \n",
    "#     for ff, mp in enumerate(['carmodel-v8-6-', 'carmodel-v8-7-', 'carmodel-v8-8-']):\n",
    "    for ff, mp in enumerate(['carmodel-v5-1', 'carmodel-v5-2-']):\n",
    "        files = glob.glob(modeldir+mp+'*')\n",
    "        mp = max(files, key=os.path.getctime)\n",
    "        msg = '{} model={}'.format(ff, mp)\n",
    "        dbgprint(msg)\n",
    "        \n",
    "        method='xception'\n",
    "        if mp.find('resnet50')>0:\n",
    "            method = 'resnet50'\n",
    "        elif mp.find('mobilenetv2')>0:\n",
    "            method = 'mobilenetv2'\n",
    "        elif mp.find('efficientnetb3')>0:\n",
    "            method = 'efficientnetb3'\n",
    "        \n",
    "        inputs = Input(shape=(imagesize,imagesize,3))\n",
    "        print('method=', method)\n",
    "        if method=='xception':\n",
    "            net = xception.Xception(input_tensor=inputs, input_shape=(imagesize, imagesize, 3), include_top=False, weights='imagenet', pooling='max')\n",
    "        elif method=='resnet50':\n",
    "            net = resnet50.ResNet50(input_tensor=inputs, input_shape=(imagesize, imagesize, 3), include_top=False, weights='imagenet', pooling='max')\n",
    "        elif method=='mobilenetv2':\n",
    "            net = mobilenetv2.MobileNetV2(input_tensor=inputs, input_shape=(imagesize, imagesize, 3), include_top=False, weights='imagenet', pooling='max')\n",
    "        elif method=='efficientnetb3':\n",
    "            net = EfficientNetB3(input_tensor=inputs, input_shape=(imagesize, imagesize, 3), include_top=False, weights='imagenet', pooling='max')\n",
    "        net2 = Dense(256, activation='relu') (net.layers[-1].output)\n",
    "        net2 = Dense(196, activation='softmax')(net2)\n",
    "        model = Model(inputs=inputs, outputs=net2)\n",
    "        \n",
    "        print('model',ff,':', mp)\n",
    "        model.load_weights(mp)\n",
    "        \n",
    "        print('predict_generator')\n",
    "        pr = model.predict_generator( test_generator , steps=len(dftest)/batch_size, verbose=1)\n",
    "        # steps=len(dftest)/batchsize\n",
    "        predictions.append(pr)\n",
    "        print('prediction',ff,':',pr)\n",
    "        print(pr.shape)        \n",
    "        "
   ]
  },
  {
   "cell_type": "code",
   "execution_count": 23,
   "metadata": {},
   "outputs": [
    {
     "name": "stdout",
     "output_type": "stream",
     "text": [
      "dftest count= 6150\n",
      "model result count= 0\n"
     ]
    },
    {
     "ename": "IndexError",
     "evalue": "list index out of range",
     "output_type": "error",
     "traceback": [
      "\u001b[1;31m---------------------------------------------------------------------------\u001b[0m",
      "\u001b[1;31mIndexError\u001b[0m                                Traceback (most recent call last)",
      "\u001b[1;32m<ipython-input-23-be8dba1d311e>\u001b[0m in \u001b[0;36m<module>\u001b[1;34m\u001b[0m\n\u001b[0;32m      1\u001b[0m \u001b[0mprint\u001b[0m\u001b[1;33m(\u001b[0m\u001b[1;34m'dftest count='\u001b[0m\u001b[1;33m,\u001b[0m \u001b[0mlen\u001b[0m\u001b[1;33m(\u001b[0m\u001b[0mdftest\u001b[0m\u001b[1;33m)\u001b[0m\u001b[1;33m)\u001b[0m\u001b[1;33m\u001b[0m\u001b[1;33m\u001b[0m\u001b[0m\n\u001b[0;32m      2\u001b[0m \u001b[0mprint\u001b[0m\u001b[1;33m(\u001b[0m\u001b[1;34m'model result count='\u001b[0m\u001b[1;33m,\u001b[0m \u001b[0mlen\u001b[0m\u001b[1;33m(\u001b[0m\u001b[0mpredictions\u001b[0m\u001b[1;33m)\u001b[0m\u001b[1;33m)\u001b[0m\u001b[1;33m\u001b[0m\u001b[1;33m\u001b[0m\u001b[0m\n\u001b[1;32m----> 3\u001b[1;33m \u001b[0mprint\u001b[0m\u001b[1;33m(\u001b[0m\u001b[1;34m'each result count='\u001b[0m\u001b[1;33m,\u001b[0m \u001b[0mpredictions\u001b[0m\u001b[1;33m[\u001b[0m\u001b[1;36m0\u001b[0m\u001b[1;33m]\u001b[0m\u001b[1;33m.\u001b[0m\u001b[0mshape\u001b[0m\u001b[1;33m)\u001b[0m\u001b[1;33m\u001b[0m\u001b[1;33m\u001b[0m\u001b[0m\n\u001b[0m",
      "\u001b[1;31mIndexError\u001b[0m: list index out of range"
     ]
    }
   ],
   "source": [
    "print('dftest count=', len(dftest))\n",
    "print('model result count=', len(predictions))\n",
    "print('each result count=', predictions[0].shape)"
   ]
  },
  {
   "cell_type": "code",
   "execution_count": 22,
   "metadata": {},
   "outputs": [],
   "source": [
    "# 예측만 반복\n",
    "if False:\n",
    "    predictions=[]\n",
    "    test_generator.reset()\n",
    "    pr = model.predict_generator( test_generator , steps=len(dftest)/batch_size, verbose=1 )\n",
    "    # steps=len(dftest)/batchsize\n",
    "    predictions.append(pr)\n",
    "    print('prediction',ff,':',pr)\n",
    "    print(pr.shape)\n"
   ]
  },
  {
   "cell_type": "code",
   "execution_count": 22,
   "metadata": {},
   "outputs": [
    {
     "name": "stdout",
     "output_type": "stream",
     "text": [
      "middle: [173  95  68   6   3  17 131 134  84 189 102   9  55  21 119  23  29 129\n",
      "  33 141  75 100  77 100  94  99  71 151  29 121  33  71  22 137  62 106\n",
      "  31 137  21 110 143   6  33 186 174  97  32  81 108 160 156  75 192 155\n",
      "  62  10  17 114 145 165 138 111 178 115  24  31  76 169  35  59 172  30\n",
      " 123  53 136 141 164  64  56  68] 3 192\n",
      "final: ['79', '185', '160', '104', '101', '114', '40', '43', '175', '93', '191', '107', '149', '118', '3', '12', '125', '39', '129', '5', '167', '19', '169', '19', '184', '189', '163', '59', '125', '31', '129', '163', '119', '46', '155', '195', '127', '46', '118', '21', '51', '104', '129', '90', '8', '187', '128', '172', '2', '67', '63', '167', '96', '62', '155', '108', '114', '25', '53', '71', '47', '22', '83', '26', '120', '127', '168', '75', '130', '152', '78', '126', '33', '147', '45', '5', '70', '157', '15', '160']\n",
      "count= 80\n"
     ]
    }
   ],
   "source": [
    "if True:\n",
    "    predictions = np.asarray(predictions)\n",
    "    prk = np.mean(predictions, axis=0 )\n",
    "    pdi = np.argmax(prk, axis=1)\n",
    "    print('middle:', pdi, np.min(pdi), np.max(pdi))\n",
    "    \n",
    "    # labeling\n",
    "    label = dict((v,k) for k,v in test_generator.class_indices.items())\n",
    "    final_pred = [label[k] for k in pdi]\n",
    "    \n",
    "    print('final:', final_pred)\n",
    "    print('count=', len(final_pred))    "
   ]
  },
  {
   "cell_type": "code",
   "execution_count": 7,
   "metadata": {
    "collapsed": true,
    "jupyter": {
     "outputs_hidden": true
    }
   },
   "outputs": [
    {
     "data": {
      "text/plain": [
       "<matplotlib.axes._subplots.AxesSubplot at 0x7ff4c6b005f8>"
      ]
     },
     "execution_count": 7,
     "metadata": {},
     "output_type": "execute_result"
    },
    {
     "data": {
      "image/png": "[encoded data removed]",
      "text/plain": [
       "<Figure size 432x288 with 1 Axes>"
      ]
     },
     "metadata": {
      "needs_background": "light"
     },
     "output_type": "display_data"
    }
   ],
   "source": [
    "if True:\n",
    "    submission = pd.read_csv(inputdir+'sample_submission.csv')\n",
    "    submission[\"class\"] = final_pred  \n",
    "    submission.to_csv(\"submission.csv\", index=False)\n",
    "    submission.head()\n",
    "\n",
    "# In[17]:\n",
    "sns.countplot(submission[\"class\"], order=submission[\"class\"].value_counts(ascending=True).index)"
   ]
  },
  {
   "cell_type": "code",
   "execution_count": 24,
   "metadata": {},
   "outputs": [],
   "source": [
    "if False:\n",
    "    dfpredictions = pd.DataFrame(np.max(final_pred, axis=1).squeeze() )\n",
    "    dfpredictions.describe()\n",
    "    dfpredictions[0].plot.hist(bins=20)\n",
    "    psids = dfpredictions[0]>0.99 \n",
    "    np.sum(psids)"
   ]
  },
  {
   "cell_type": "code",
   "execution_count": 25,
   "metadata": {},
   "outputs": [],
   "source": [
    "# pseudo dataset\n",
    "# x_test[psids]\n",
    "# pdi[psids]\n",
    "# make pseudo\n",
    "if False:\n",
    "    print('Create Pseudo Label')\n",
    "    x_test = np.load(datadir+'x_test3.npy')\n",
    "    np.save('x_pseudo3.npy', x_test[psids])\n",
    "    np.save('y_pseudo3.npy', pdi[psids])"
   ]
  },
  {
   "cell_type": "code",
   "execution_count": null,
   "metadata": {},
   "outputs": [],
   "source": []
  },
  {
   "cell_type": "code",
   "execution_count": null,
   "metadata": {},
   "outputs": [],
   "source": []
  }
 ],
 "metadata": {
  "kernelspec": {
   "display_name": "tensor36",
   "language": "python",
   "name": "tensor36"
  },
  "language_info": {
   "codemirror_mode": {
    "name": "ipython",
    "version": 3
   },
   "file_extension": ".py",
   "mimetype": "text/x-python",
   "name": "python",
   "nbconvert_exporter": "python",
   "pygments_lexer": "ipython3",
   "version": "3.6.8"
  }
 },
 "nbformat": 4,
 "nbformat_minor": 4
}
