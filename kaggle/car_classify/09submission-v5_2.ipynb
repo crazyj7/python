{
 "cells": [
  {
   "cell_type": "code",
   "execution_count": 1,
   "metadata": {},
   "outputs": [
    {
     "name": "stderr",
     "output_type": "stream",
     "text": [
      "Using TensorFlow backend.\n"
     ]
    }
   ],
   "source": [
    "\n",
    "import sys\n",
    "import pandas as pd\n",
    "\n",
    "from keras.applications import xception\n",
    "from keras.applications import resnet50\n",
    "from keras.applications import mobilenetv2\n",
    "# from efficientnet import EfficientNetB3\n",
    "\n",
    "import time\n",
    "import os\n",
    "import numpy as np\n",
    "import matplotlib.pyplot as plt\n",
    "import glob\n",
    "import random\n",
    "\n",
    "import keras\n",
    "from keras import regularizers\n",
    "from keras.models import Sequential\n",
    "from keras.layers import Conv2D, Dropout, MaxPooling2D, Flatten, Dense, Softmax\n",
    "from keras.preprocessing import image\n",
    "\n",
    "from keras.utils import np_utils\n",
    "from keras.models import load_model\n",
    "from keras.callbacks import TensorBoard, ModelCheckpoint, EarlyStopping, K\n",
    "from keras.models import Input, Model\n",
    "from sklearn.metrics import f1_score\n",
    "\n",
    "from keras.preprocessing.image import ImageDataGenerator\n",
    "import seaborn as sns\n",
    "import gc\n",
    "\n",
    "import warnings"
   ]
  },
  {
   "cell_type": "code",
   "execution_count": 2,
   "metadata": {},
   "outputs": [],
   "source": [
    "warnings.filterwarnings('ignore')\n",
    "# get_ipython().run_line_magic('matplotlib', 'inline')\n",
    "\n",
    "bKaggle = True\n",
    "bDebug = False   # train data test.\n",
    "\n",
    "datadir = './pre/'\n",
    "modeldir = './pre/'\n",
    "inputdir='./'\n",
    "if bKaggle:\n",
    "    datadir = '../input/carmodel5/ppcarmodel/'\n",
    "    modeldir = '../input/carmodel6/model/'\n",
    "    inputdir = '../input/2019-3rd-ml-month-with-kakr/'\n",
    "\n",
    "print('modeldir=', modeldir)\n",
    "\n",
    "imagesize=250\n",
    "\n",
    "def dbgprint(msg):\n",
    "    if bKaggle:\n",
    "        os.system('echo \"'+msg+'\"')\n",
    "    else:\n",
    "        print(msg)\n",
    "dbgprint('hello log')\n",
    "\n",
    "\n",
    "def new_score(y_true, y_pred):\n",
    "    def recall(y_true, y_pred):\n",
    "        true_positives = K.sum(K.round(K.clip(y_true * y_pred, 0, 1)))\n",
    "        possible_positives = K.sum(K.round(K.clip(y_true, 0, 1)))\n",
    "        recall = (true_positives + K.epsilon()) / (possible_positives + K.epsilon())\n",
    "        return recall\n",
    "\n",
    "    def precision(y_true, y_pred):\n",
    "        true_positives = K.sum(K.round(K.clip(y_true * y_pred, 0, 1)))\n",
    "        predicted_positives = K.sum(K.round(K.clip(y_pred, 0, 1)))\n",
    "        precision = (true_positives + K.epsilon()) / (predicted_positives + K.epsilon())\n",
    "        return precision\n",
    "\n",
    "    precision = precision(y_true, y_pred)\n",
    "    recall = recall(y_true, y_pred)\n",
    "    return 2*((precision*recall)/(precision+recall+K.epsilon()))"
   ]
  },
  {
   "cell_type": "code",
   "execution_count": 2,
   "metadata": {},
   "outputs": [
    {
     "name": "stdout",
     "output_type": "stream",
     "text": [
      "../input/carmodel6/model/\n",
      "test data verify.\n",
      "Found 6150 validated image filenames.\n"
     ]
    }
   ],
   "source": [
    "# test generator\n",
    "\n",
    "if bDebug:\n",
    "    print('debug: train data verify.')\n",
    "    dftrain = pd.read_csv(inputdir+'train.csv')\n",
    "    dftrain['class'] = dftrain['class'].astype('str')\n",
    "    dftest = dftrain.iloc[8000:,:]\n",
    "    targetdir = datadir+'train'\n",
    "else:\n",
    "    print('test data verify.')\n",
    "    dftest = pd.read_csv(inputdir+'test.csv')\n",
    "    targetdir = datadir+'test'\n",
    "\n",
    "classes = list(str(num) for num in range(1,197))\n",
    "\n",
    "batch_size=32\n",
    "datagen = ImageDataGenerator(rescale=1./255)\n",
    "test_generator = datagen.flow_from_dataframe(dataframe=dftest, \n",
    "                                             directory=targetdir,\n",
    "                                             x_col = 'img_file', \n",
    "                                             class_mode = None,\n",
    "                                             target_size = (imagesize, imagesize),\n",
    "                                             batch_size=batch_size, shuffle=False )"
   ]
  },
  {
   "cell_type": "code",
   "execution_count": null,
   "metadata": {},
   "outputs": [
    {
     "name": "stderr",
     "output_type": "stream",
     "text": [
      "WARNING: Logging before flag parsing goes to stderr.\n",
      "W0821 14:01:48.737015 140448176621312 deprecation_wrapper.py:119] From /home/psychic/.local/lib/python3.7/site-packages/keras/backend/tensorflow_backend.py:74: The name tf.get_default_graph is deprecated. Please use tf.compat.v1.get_default_graph instead.\n",
      "\n",
      "W0821 14:01:48.751844 140448176621312 deprecation_wrapper.py:119] From /home/psychic/.local/lib/python3.7/site-packages/keras/backend/tensorflow_backend.py:517: The name tf.placeholder is deprecated. Please use tf.compat.v1.placeholder instead.\n",
      "\n",
      "W0821 14:01:48.755027 140448176621312 deprecation_wrapper.py:119] From /home/psychic/.local/lib/python3.7/site-packages/keras/backend/tensorflow_backend.py:4138: The name tf.random_uniform is deprecated. Please use tf.random.uniform instead.\n",
      "\n",
      "W0821 14:01:48.777306 140448176621312 deprecation_wrapper.py:119] From /home/psychic/.local/lib/python3.7/site-packages/keras/backend/tensorflow_backend.py:174: The name tf.get_default_session is deprecated. Please use tf.compat.v1.get_default_session instead.\n",
      "\n",
      "W0821 14:01:48.778157 140448176621312 deprecation_wrapper.py:119] From /home/psychic/.local/lib/python3.7/site-packages/keras/backend/tensorflow_backend.py:181: The name tf.ConfigProto is deprecated. Please use tf.compat.v1.ConfigProto instead.\n",
      "\n"
     ]
    },
    {
     "name": "stdout",
     "output_type": "stream",
     "text": [
      "method= xception\n"
     ]
    }
   ],
   "source": [
    "# model predict\n",
    "model_cnt=0\n",
    "if True:\n",
    "    predictions=[]\n",
    "    for ff, mp in enumerate(['carmodel-v5-1', 'carmodel-v5-2-', 'carmodel-v5-3-',\n",
    "                            'carmodel-v5-4-', 'carmodel-v5-5-', 'carmodel-v5-6-' ]):\n",
    "        files = glob.glob(modeldir+mp+'*')\n",
    "        if len(files)==0:\n",
    "            print('not found model:', mp)\n",
    "            continue\n",
    "        mp = max(files, key=os.path.getctime)\n",
    "        msg = '{} model={}'.format(ff, mp)\n",
    "        dbgprint(msg)\n",
    "        model_cnt+=1\n",
    "        \n",
    "        method='xception'\n",
    "        if mp.find('resnet50')>0:\n",
    "            method = 'resnet50'\n",
    "        elif mp.find('mobilenetv2')>0:\n",
    "            method = 'mobilenetv2'\n",
    "        elif mp.find('efficientnetb3')>0:\n",
    "            method = 'efficientnetb3'\n",
    "        \n",
    "        inputs = Input(shape=(imagesize,imagesize,3))\n",
    "        print('method=', method)\n",
    "        if method=='xception':\n",
    "            net = xception.Xception(input_tensor=inputs, input_shape=(imagesize, imagesize, 3), include_top=False, weights='imagenet', pooling='max')\n",
    "        elif method=='resnet50':\n",
    "            net = resnet50.ResNet50(input_tensor=inputs, input_shape=(imagesize, imagesize, 3), include_top=False, weights='imagenet', pooling='max')\n",
    "        elif method=='mobilenetv2':\n",
    "            net = mobilenetv2.MobileNetV2(input_tensor=inputs, input_shape=(imagesize, imagesize, 3), include_top=False, weights='imagenet', pooling='max')\n",
    "        elif method=='efficientnetb3':\n",
    "            net = EfficientNetB3(input_tensor=inputs, input_shape=(imagesize, imagesize, 3), include_top=False, weights='imagenet', pooling='max')\n",
    "        net2 = Dense(256, activation='relu') (net.layers[-1].output)\n",
    "        net2 = Dense(196, activation='softmax')(net2)\n",
    "        model = Model(inputs=inputs, outputs=net2)\n",
    "        \n",
    "        print('model',ff+1,':', mp)\n",
    "        model.load_weights(mp)\n",
    "        \n",
    "        print('predict_generator')\n",
    "        test_generator.reset()\n",
    "        pr = model.predict_generator( test_generator , steps=len(dftest)/batch_size, verbose=1)\n",
    "        predictions.append(pr)\n",
    "        print('prediction',ff,':',pr)\n",
    "        print(pr.shape)        \n",
    "        "
   ]
  },
  {
   "cell_type": "code",
   "execution_count": null,
   "metadata": {},
   "outputs": [],
   "source": [
    "print('dftest count=', len(dftest))\n",
    "print('model count=', model_cnt)\n",
    "print('model result count=', len(predictions))\n",
    "print('each result count=', predictions[0].shape)"
   ]
  },
  {
   "cell_type": "code",
   "execution_count": null,
   "metadata": {},
   "outputs": [],
   "source": [
    "if False:\n",
    "    predictions=[]\n",
    "    test_generator.reset()\n",
    "    pr = model.predict_generator( test_generator , steps=len(dftest)/batch_size, verbose=1 )\n",
    "    # steps=len(dftest)/batchsize\n",
    "    predictions.append(pr)\n",
    "    print('prediction',ff,':',pr)\n",
    "    print(pr.shape)"
   ]
  },
  {
   "cell_type": "code",
   "execution_count": 7,
   "metadata": {},
   "outputs": [],
   "source": [
    "# model predict result. how similar? \n",
    "model1_pr=np.argmax(predictions[0], axis=1)\n",
    "model2_pr=np.argmax(predictions[1], axis=1)\n",
    "model3_pr=np.argmax(predictions[2], axis=1)\n",
    "print(model1_pr)\n",
    "print(model2_pr)\n",
    "print(model3_pr)\n",
    "\n",
    "# model 3 all matched ratio \n",
    "samecnt = np.sum(np.bitwise_and(model1_pr==model2_pr, model1_pr==model3_pr))\n",
    "print(samecnt, '/', len(model1_pr))"
   ]
  },
  {
   "cell_type": "code",
   "execution_count": 11,
   "metadata": {},
   "outputs": [
    {
     "name": "stdout",
     "output_type": "stream",
     "text": [
      "middle: [ 28 194  64 ... 135 142 190] 0 195\n"
     ]
    },
    {
     "data": {
      "image/png": "[encoded data removed]",
      "text/plain": [
       "<Figure size 432x288 with 1 Axes>"
      ]
     },
     "metadata": {
      "needs_background": "light"
     },
     "output_type": "display_data"
    }
   ],
   "source": [
    "# ensemble result.....\n",
    "if True:\n",
    "    # ensemble~~~~~  mean value. \n",
    "    predictions = np.asarray(predictions)\n",
    "    prk = np.mean(predictions, axis=0 )\n",
    "    # index class. need to change to label.\n",
    "    pdi = np.argmax(prk, axis=1)  \n",
    "    print('ensemble class index:', pdi,  'min=', np.min(pdi), 'max=', np.max(pdi))\n",
    "    sns.countplot(pdi)"
   ]
  },
  {
   "cell_type": "code",
   "execution_count": 12,
   "metadata": {},
   "outputs": [
    {
     "name": "stdout",
     "output_type": "stream",
     "text": [
      "final: [124  98 157 ...  44  50  94]\n",
      "count= 6150\n"
     ]
    }
   ],
   "source": [
    "# class to LABEL...\n",
    "if True:\n",
    "    # labeling k=label string, v=class number\n",
    "#     label = dict((v,k) for k,v in train_generator.class_indices.items())\n",
    "#     final_pred = [label[k] for k in pdi]\n",
    "    \n",
    "    n1=pd.DataFrame(list(range(1,197)), columns=['num']).astype('str')\n",
    "    n2=n1.sort_values('num').values.squeeze()\n",
    "    final_pred = [n2[k] for k in pdi]\n",
    "    \n",
    "    final_pred = np.asarray(final_pred, dtype=np.int)\n",
    "    print('final:', final_pred)\n",
    "    print('count=', len(final_pred))"
   ]
  },
  {
   "cell_type": "code",
   "execution_count": 13,
   "metadata": {},
   "outputs": [],
   "source": [
    "# debug result check\n",
    "if bDebug:\n",
    "    # evaluation (train data set. we knew the label.)\n",
    "    reallabel = np.array(dftest['class'].values, dtype=int)\n",
    "    print(reallabel)\n",
    "    print( np.sum(final_pred==reallabel), '/', len(final_pred), len(reallabel))    "
   ]
  },
  {
   "cell_type": "code",
   "execution_count": 20,
   "metadata": {},
   "outputs": [
    {
     "name": "stdout",
     "output_type": "stream",
     "text": [
      "         img_file  class\n",
      "0  test_00001.jpg    124\n",
      "1  test_00002.jpg     98\n",
      "2  test_00003.jpg    157\n",
      "3  test_00004.jpg     94\n",
      "4  test_00005.jpg     18\n"
     ]
    }
   ],
   "source": [
    "# make submission file.\n",
    "if not bDebug:\n",
    "    submission = pd.read_csv(inputdir+'sample_submission.csv')\n",
    "    submission[\"class\"] = final_pred  \n",
    "    submission.to_csv(\"submission.csv\", index=False)\n",
    "    print(submission.head())"
   ]
  },
  {
   "cell_type": "code",
   "execution_count": 22,
   "metadata": {},
   "outputs": [
    {
     "data": {
      "image/png": "[encoded data removed]",
      "text/plain": [
       "<Figure size 432x288 with 1 Axes>"
      ]
     },
     "metadata": {
      "needs_background": "light"
     },
     "output_type": "display_data"
    }
   ],
   "source": [
    "if not bDebug:\n",
    "    sns.countplot(submission[\"class\"], order=submission[\"class\"].value_counts(ascending=True).index)   "
   ]
  },
  {
   "cell_type": "code",
   "execution_count": 31,
   "metadata": {},
   "outputs": [
    {
     "data": {
      "text/html": [
       "<div>\n",
       "<style scoped>\n",
       "    .dataframe tbody tr th:only-of-type {\n",
       "        vertical-align: middle;\n",
       "    }\n",
       "\n",
       "    .dataframe tbody tr th {\n",
       "        vertical-align: top;\n",
       "    }\n",
       "\n",
       "    .dataframe thead th {\n",
       "        text-align: right;\n",
       "    }\n",
       "</style>\n",
       "<table border=\"1\" class=\"dataframe\">\n",
       "  <thead>\n",
       "    <tr style=\"text-align: right;\">\n",
       "      <th></th>\n",
       "      <th>maxPr</th>\n",
       "    </tr>\n",
       "  </thead>\n",
       "  <tbody>\n",
       "    <tr>\n",
       "      <th>0</th>\n",
       "      <td>0.981348</td>\n",
       "    </tr>\n",
       "    <tr>\n",
       "      <th>1</th>\n",
       "      <td>0.999997</td>\n",
       "    </tr>\n",
       "    <tr>\n",
       "      <th>2</th>\n",
       "      <td>1.000000</td>\n",
       "    </tr>\n",
       "    <tr>\n",
       "      <th>3</th>\n",
       "      <td>0.983768</td>\n",
       "    </tr>\n",
       "    <tr>\n",
       "      <th>4</th>\n",
       "      <td>0.966001</td>\n",
       "    </tr>\n",
       "  </tbody>\n",
       "</table>\n",
       "</div>"
      ],
      "text/plain": [
       "      maxPr\n",
       "0  0.981348\n",
       "1  0.999997\n",
       "2  1.000000\n",
       "3  0.983768\n",
       "4  0.966001"
      ]
     },
     "execution_count": 31,
     "metadata": {},
     "output_type": "execute_result"
    }
   ],
   "source": [
    "# high rate predictions\n",
    "dfpredictions = pd.DataFrame(np.max(prk, axis=1).squeeze(), columns=['maxPr'])\n",
    "dfpredictions.head()"
   ]
  },
  {
   "cell_type": "code",
   "execution_count": 32,
   "metadata": {},
   "outputs": [
    {
     "data": {
      "text/plain": [
       "<matplotlib.axes._subplots.AxesSubplot at 0x7f9ea51b2c18>"
      ]
     },
     "execution_count": 32,
     "metadata": {},
     "output_type": "execute_result"
    },
    {
     "data": {
      "image/png": "[encoded data removed]",
      "text/plain": [
       "<Figure size 432x288 with 1 Axes>"
      ]
     },
     "metadata": {
      "needs_background": "light"
     },
     "output_type": "display_data"
    }
   ],
   "source": [
    "dfpredictions['maxPr'].plot.hist(bins=20)"
   ]
  },
  {
   "cell_type": "code",
   "execution_count": 36,
   "metadata": {},
   "outputs": [
    {
     "name": "stdout",
     "output_type": "stream",
     "text": [
      "3531 / 6150\n"
     ]
    }
   ],
   "source": [
    "psids = dfpredictions['maxPr']>0.99 \n",
    "print( np.sum(psids) , '/', len(dfpredictions) )"
   ]
  },
  {
   "cell_type": "code",
   "execution_count": 45,
   "metadata": {},
   "outputs": [
    {
     "name": "stdout",
     "output_type": "stream",
     "text": [
      "Create Pseudo Label\n"
     ]
    }
   ],
   "source": [
    "if True:\n",
    "    print('Create Pseudo Label')\n",
    "    dfpseudo = pd.DataFrame( dftest.loc[psids, 'img_file'] )\n",
    "    dfpseudo['class'] = final_pred[psids]\n",
    "    dfpseudo.to_csv('pseudo.csv')"
   ]
  },
  {
   "cell_type": "code",
   "execution_count": 47,
   "metadata": {},
   "outputs": [
    {
     "data": {
      "text/html": [
       "<div>\n",
       "<style scoped>\n",
       "    .dataframe tbody tr th:only-of-type {\n",
       "        vertical-align: middle;\n",
       "    }\n",
       "\n",
       "    .dataframe tbody tr th {\n",
       "        vertical-align: top;\n",
       "    }\n",
       "\n",
       "    .dataframe thead th {\n",
       "        text-align: right;\n",
       "    }\n",
       "</style>\n",
       "<table border=\"1\" class=\"dataframe\">\n",
       "  <thead>\n",
       "    <tr style=\"text-align: right;\">\n",
       "      <th></th>\n",
       "      <th>img_file</th>\n",
       "      <th>class</th>\n",
       "    </tr>\n",
       "  </thead>\n",
       "  <tbody>\n",
       "    <tr>\n",
       "      <th>1</th>\n",
       "      <td>test_00002.jpg</td>\n",
       "      <td>98</td>\n",
       "    </tr>\n",
       "    <tr>\n",
       "      <th>2</th>\n",
       "      <td>test_00003.jpg</td>\n",
       "      <td>157</td>\n",
       "    </tr>\n",
       "    <tr>\n",
       "      <th>6</th>\n",
       "      <td>test_00007.jpg</td>\n",
       "      <td>2</td>\n",
       "    </tr>\n",
       "    <tr>\n",
       "      <th>8</th>\n",
       "      <td>test_00009.jpg</td>\n",
       "      <td>191</td>\n",
       "    </tr>\n",
       "    <tr>\n",
       "      <th>9</th>\n",
       "      <td>test_00010.jpg</td>\n",
       "      <td>183</td>\n",
       "    </tr>\n",
       "  </tbody>\n",
       "</table>\n",
       "</div>"
      ],
      "text/plain": [
       "         img_file  class\n",
       "1  test_00002.jpg     98\n",
       "2  test_00003.jpg    157\n",
       "6  test_00007.jpg      2\n",
       "8  test_00009.jpg    191\n",
       "9  test_00010.jpg    183"
      ]
     },
     "execution_count": 47,
     "metadata": {},
     "output_type": "execute_result"
    }
   ],
   "source": [
    "dfpseudo.head()"
   ]
  },
  {
   "cell_type": "code",
   "execution_count": null,
   "metadata": {},
   "outputs": [],
   "source": []
  }
 ],
 "metadata": {
  "kernelspec": {
   "display_name": "Python 3",
   "language": "python",
   "name": "python3"
  },
  "language_info": {
   "codemirror_mode": {
    "name": "ipython",
    "version": 3
   },
   "file_extension": ".py",
   "mimetype": "text/x-python",
   "name": "python",
   "nbconvert_exporter": "python",
   "pygments_lexer": "ipython3",
   "version": "3.7.3"
  }
 },
 "nbformat": 4,
 "nbformat_minor": 4
}
