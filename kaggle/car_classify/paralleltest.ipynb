{
 "cells": [
  {
   "cell_type": "code",
   "execution_count": 1,
   "metadata": {},
   "outputs": [
    {
     "data": {
      "text/plain": [
       "' parallel '"
      ]
     },
     "execution_count": 1,
     "metadata": {},
     "output_type": "execute_result"
    }
   ],
   "source": [
    "''' parallel '''"
   ]
  },
  {
   "cell_type": "code",
   "execution_count": 2,
   "metadata": {},
   "outputs": [],
   "source": [
    "import numpy as np\n",
    "from matplotlib.path import Path\n",
    "from joblib import Parallel, delayed\n",
    "import time\n",
    "import sys\n"
   ]
  },
  {
   "cell_type": "code",
   "execution_count": 3,
   "metadata": {},
   "outputs": [],
   "source": [
    "\n",
    "def check_paths(path):\n",
    "    #global a\n",
    "    #print(path, a[:10])\n",
    "    res='no cross'\n",
    "    for other_path in a:\n",
    "        if other_path.contains_path(path)==1:\n",
    "            res= 'cross'\n",
    "            break\n",
    "    return res\n"
   ]
  },
  {
   "cell_type": "code",
   "execution_count": 8,
   "metadata": {},
   "outputs": [],
   "source": [
    "## Create pairs of points for line segments\n",
    "def work(n):\n",
    "    a = zip(np.random.rand(1000,2),np.random.rand(1000,2))\n",
    "    a = [Path(x) for x in a]\n",
    "\n",
    "    b = zip(np.random.rand(300,2),np.random.rand(300,2))\n",
    "\n",
    "    now = time.time()\n",
    "    res = Parallel(n_jobs=n) (delayed(check_paths) (Path(points)) for points in b)\n",
    "    #    res = [check_paths(Path(points)) for points in b]\n",
    "    print (\"Finished in\", time.time()-now , \"sec\")"
   ]
  },
  {
   "cell_type": "code",
   "execution_count": 9,
   "metadata": {},
   "outputs": [
    {
     "name": "stdout",
     "output_type": "stream",
     "text": [
      "Finished in 110.69419431686401 sec\n"
     ]
    }
   ],
   "source": [
    "work(4)"
   ]
  },
  {
   "cell_type": "code",
   "execution_count": null,
   "metadata": {},
   "outputs": [],
   "source": [
    "work(8)"
   ]
  },
  {
   "cell_type": "code",
   "execution_count": null,
   "metadata": {},
   "outputs": [],
   "source": []
  }
 ],
 "metadata": {
  "kernelspec": {
   "display_name": "tensor36",
   "language": "python",
   "name": "tensor36"
  },
  "language_info": {
   "codemirror_mode": {
    "name": "ipython",
    "version": 3
   },
   "file_extension": ".py",
   "mimetype": "text/x-python",
   "name": "python",
   "nbconvert_exporter": "python",
   "pygments_lexer": "ipython3",
   "version": "3.6.8"
  }
 },
 "nbformat": 4,
 "nbformat_minor": 4
}
