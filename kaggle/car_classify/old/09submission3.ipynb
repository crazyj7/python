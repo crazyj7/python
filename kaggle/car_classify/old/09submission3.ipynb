{
 "cells": [
  {
   "cell_type": "markdown",
   "metadata": {},
   "source": [
    "# Submission"
   ]
  },
  {
   "cell_type": "markdown",
   "metadata": {},
   "source": [
    "## load package"
   ]
  },
  {
   "cell_type": "code",
   "execution_count": 1,
   "metadata": {},
   "outputs": [
    {
     "name": "stderr",
     "output_type": "stream",
     "text": [
      "Using TensorFlow backend.\n"
     ]
    }
   ],
   "source": [
    "import sys\n",
    "import pandas as pd\n",
    "\n",
    "from keras.applications import xception\n",
    "from keras.applications import resnet50\n",
    "from keras.applications import mobilenetv2\n",
    "# from efficientnet import EfficientNetB3\n",
    "\n",
    "import time\n",
    "import os\n",
    "import numpy as np\n",
    "import matplotlib.pyplot as plt\n",
    "import glob\n",
    "import random\n",
    "\n",
    "import keras\n",
    "from keras import regularizers\n",
    "from keras.models import Sequential\n",
    "from keras.layers import Conv2D, Dropout, MaxPooling2D, Flatten, Dense, Softmax\n",
    "from keras.preprocessing import image\n",
    "\n",
    "from keras.utils import np_utils\n",
    "from keras.models import load_model\n",
    "from keras.callbacks import TensorBoard, ModelCheckpoint, EarlyStopping, K\n",
    "from keras.models import Input, Model\n",
    "from sklearn.metrics import f1_score\n",
    "\n",
    "from keras.preprocessing.image import ImageDataGenerator\n",
    "import seaborn as sns\n",
    "import gc\n"
   ]
  },
  {
   "cell_type": "code",
   "execution_count": 2,
   "metadata": {},
   "outputs": [
    {
     "name": "stdout",
     "output_type": "stream",
     "text": [
      "hello log\n"
     ]
    }
   ],
   "source": [
    "cache=False\n",
    "bKaggle = False\n",
    "datadir = './'\n",
    "# datadir = './data_carmodel/'\n",
    "inputdir='./'\n",
    "if bKaggle:\n",
    "    datadir = '../input/carmodel8/data_carmodel/'\n",
    "    inputdir = '../input/2019-3rd-ml-month-with-kakr/'\n",
    "\n",
    "imgwidth=299\n",
    "imgheight=299\n",
    "# get_ipython().run_line_magic('matplotlib', 'inline')\n",
    "\n",
    "def dbgprint(msg):\n",
    "    if bKaggle:\n",
    "        os.system('echo \"'+msg+'\"')\n",
    "    else:\n",
    "        print(msg)\n",
    "\n",
    "dbgprint('hello log')"
   ]
  },
  {
   "cell_type": "code",
   "execution_count": 3,
   "metadata": {
    "scrolled": true
   },
   "outputs": [],
   "source": [
    "# x_trainall = np.load(datadir+'x_train.npy')\n",
    "# y_trainall = np.load(datadir+'y_train.npy')\n",
    "# dfclass = pd.read_csv(inputdir+'class.csv')\n",
    "# y_trainall_onehot = np_utils.to_categorical(y_trainall, 196)"
   ]
  },
  {
   "cell_type": "code",
   "execution_count": 4,
   "metadata": {},
   "outputs": [],
   "source": [
    "# f1 score \n",
    "def new_score(y_true, y_pred):\n",
    "    def recall(y_true, y_pred):\n",
    "        true_positives = K.sum(K.round(K.clip(y_true * y_pred, 0, 1)))\n",
    "        possible_positives = K.sum(K.round(K.clip(y_true, 0, 1)))\n",
    "        recall = (true_positives + K.epsilon()) / (possible_positives + K.epsilon())\n",
    "        return recall\n",
    "\n",
    "    def precision(y_true, y_pred):\n",
    "        true_positives = K.sum(K.round(K.clip(y_true * y_pred, 0, 1)))\n",
    "        predicted_positives = K.sum(K.round(K.clip(y_pred, 0, 1)))\n",
    "        precision = (true_positives + K.epsilon()) / (predicted_positives + K.epsilon())\n",
    "        return precision\n",
    "\n",
    "    precision = precision(y_true, y_pred)\n",
    "    recall = recall(y_true, y_pred)\n",
    "    return 2*((precision*recall)/(precision+recall+K.epsilon()))"
   ]
  },
  {
   "cell_type": "markdown",
   "metadata": {},
   "source": [
    "### Predict"
   ]
  },
  {
   "cell_type": "code",
   "execution_count": 5,
   "metadata": {},
   "outputs": [],
   "source": [
    "# test data load for submission\n",
    "x_test = np.load(datadir+'x_test3.npy')\n",
    "x_test = x_test/255."
   ]
  },
  {
   "cell_type": "code",
   "execution_count": 6,
   "metadata": {},
   "outputs": [
    {
     "name": "stdout",
     "output_type": "stream",
     "text": [
      "0 model=./carmodel-v8-6-xception-001-0.9531.ckpt\n",
      "method= xception\n",
      "WARNING:tensorflow:From /home/psychic/.conda/envs/tensorgpu36/lib/python3.6/site-packages/tensorflow/python/framework/op_def_library.py:263: colocate_with (from tensorflow.python.framework.ops) is deprecated and will be removed in a future version.\n",
      "Instructions for updating:\n",
      "Colocations handled automatically by placer.\n",
      "model 0 : ./carmodel-v8-6-xception-001-0.9531.ckpt\n",
      "prediction 0 : [[1.57202766e-08 0.00000000e+00 1.05892388e-34 ... 2.94653910e-16\n",
      "  1.98252953e-28 1.40032388e-25]\n",
      " [1.28739894e-20 2.59733017e-13 2.96907884e-14 ... 8.25662780e-13\n",
      "  6.45939292e-12 4.21189444e-10]\n",
      " [2.22926700e-32 4.51230763e-31 2.77766524e-29 ... 4.53996795e-31\n",
      "  1.16263486e-21 5.07563918e-19]\n",
      " ...\n",
      " [3.28245630e-32 6.57135068e-22 5.94611110e-27 ... 2.16968856e-23\n",
      "  9.77427936e-27 1.99420064e-33]\n",
      " [0.00000000e+00 2.36412791e-29 3.50305652e-29 ... 1.72612309e-33\n",
      "  3.26393018e-26 9.93112577e-29]\n",
      " [1.03540095e-22 1.55280102e-18 8.63699861e-20 ... 1.76379087e-22\n",
      "  7.26919017e-15 1.16272364e-18]]\n",
      "1 model=./carmodel-v8-7-xception-001-0.9537.ckpt\n",
      "method= xception\n",
      "model 1 : ./carmodel-v8-7-xception-001-0.9537.ckpt\n",
      "prediction 1 : [[2.88670230e-06 3.44964052e-22 6.08968661e-19 ... 5.90048273e-07\n",
      "  8.76023212e-13 5.92987183e-15]\n",
      " [1.82310040e-31 2.74352966e-16 4.84626301e-15 ... 4.21577036e-26\n",
      "  1.28293198e-23 1.48955165e-14]\n",
      " [4.17271751e-27 1.47610907e-27 1.61134315e-26 ... 3.89681982e-30\n",
      "  4.26541991e-26 6.37723489e-13]\n",
      " ...\n",
      " [8.58475800e-27 2.90974627e-23 1.63101775e-24 ... 3.49034600e-22\n",
      "  9.17715094e-16 2.13408041e-27]\n",
      " [1.87446725e-26 2.38959625e-22 8.18972448e-19 ... 3.09081152e-29\n",
      "  1.08462524e-10 2.43127097e-19]\n",
      " [1.69354394e-17 1.25633580e-13 3.38915799e-13 ... 2.06066546e-16\n",
      "  1.83235552e-10 7.89066187e-13]]\n",
      "2 model=./carmodel-v8-1-xception-002-0.9620.ckpt\n",
      "method= xception\n",
      "model 2 : ./carmodel-v8-1-xception-002-0.9620.ckpt\n",
      "prediction 2 : [[3.4765108e-05 1.1502315e-26 9.4983330e-25 ... 5.8796419e-15\n",
      "  2.0091293e-28 1.4676781e-16]\n",
      " [2.9524408e-13 1.3590502e-16 4.5118980e-09 ... 6.5216088e-19\n",
      "  6.7570048e-17 3.9824394e-05]\n",
      " [2.8216414e-31 3.1009759e-24 1.5336187e-25 ... 3.5772534e-26\n",
      "  7.2545719e-23 2.1723311e-11]\n",
      " ...\n",
      " [1.7035126e-34 2.3934144e-23 2.6443097e-24 ... 3.4897515e-23\n",
      "  3.0861318e-28 3.0955898e-27]\n",
      " [3.2832728e-20 3.2970718e-17 1.4592318e-17 ... 2.3517903e-20\n",
      "  7.5408870e-09 2.6206262e-16]\n",
      " [1.5337967e-16 2.3238355e-18 2.2566902e-18 ... 5.2760718e-23\n",
      "  3.3302239e-12 2.0335555e-16]]\n",
      "final: [123  97 156 ...  43  49  93] 0 195\n"
     ]
    }
   ],
   "source": [
    "if True:\n",
    "    import glob, os\n",
    "    \n",
    "    predictions=[]\n",
    "    \n",
    "    # 'carmodel-v8-1-', \n",
    "#     for ff, mp in enumerate(['carmodel-v8-6-', 'carmodel-v8-7-', 'carmodel-v8-8-']):\n",
    "    for ff, mp in enumerate(['carmodel-v9-1-', 'carmodel-v9-2-', 'carmodel-v9-3-']):\n",
    "        files = glob.glob(datadir+mp+'*')\n",
    "        mp = max(files, key=os.path.getctime)\n",
    "        msg = '{} model={}'.format(ff, mp)\n",
    "        dbgprint(msg)\n",
    "        \n",
    "        method='xception'\n",
    "        if mp.find('resnet50')>0:\n",
    "            method = 'resnet50'\n",
    "        elif mp.find('mobilenetv2')>0:\n",
    "            method = 'mobilenetv2'\n",
    "        elif mp.find('efficientnetb3')>0:\n",
    "            method = 'efficientnetb3'\n",
    "        \n",
    "        inputs = Input(shape=(imgheight,imgwidth,3))\n",
    "        print('method=', method)\n",
    "        if method=='xception':\n",
    "            net = xception.Xception(input_tensor=inputs, input_shape=(imgheight, imgwidth, 3), include_top=False, weights='imagenet', pooling='max')\n",
    "        elif method=='resnet50':\n",
    "            net = resnet50.ResNet50(input_tensor=inputs, input_shape=(imgheight, imgwidth, 3), include_top=False, weights='imagenet', pooling='max')\n",
    "        elif method=='mobilenetv2':\n",
    "            net = mobilenetv2.MobileNetV2(input_tensor=inputs, input_shape=(imgheight, imgwidth, 3), include_top=False, weights='imagenet', pooling='max')\n",
    "        elif method=='efficientnetb3':\n",
    "            net = EfficientNetB3(input_tensor=inputs, input_shape=(imgheight, imgwidth, 3), include_top=False, weights='imagenet', pooling='max')\n",
    "        \n",
    "        net2 = Dense(256, activation='relu') (net.layers[-1].output)\n",
    "        net2 = Dense(196)(net2)\n",
    "        net2 = Softmax(196)(net2)\n",
    "        model = Model(inputs=inputs, outputs=net2)\n",
    "        \n",
    "        print('model',ff,':', mp)\n",
    "        model.load_weights(mp)\n",
    "        \n",
    "        pr = model.predict( x_test )\n",
    "        predictions.append(pr)\n",
    "        print('prediction',ff,':',pr)\n",
    "        \n",
    "    predictions = np.asarray(predictions)\n",
    "    prk = np.mean(predictions, axis=0 )\n",
    "    pdi = np.argmax(prk, axis=1)\n",
    "    print('final:', pdi, np.min(pdi), np.max(pdi))"
   ]
  },
  {
   "cell_type": "code",
   "execution_count": 7,
   "metadata": {},
   "outputs": [
    {
     "data": {
      "text/plain": [
       "<matplotlib.axes._subplots.AxesSubplot at 0x7ff4c6b005f8>"
      ]
     },
     "execution_count": 7,
     "metadata": {},
     "output_type": "execute_result"
    },
    {
     "data": {
      "image/png": "[encoded data removed]",
      "text/plain": [
       "<Figure size 432x288 with 1 Axes>"
      ]
     },
     "metadata": {
      "needs_background": "light"
     },
     "output_type": "display_data"
    }
   ],
   "source": [
    "if True:\n",
    "    submission = pd.read_csv(inputdir+'sample_submission.csv')\n",
    "    submission[\"class\"] = pdi + 1  \n",
    "    submission.to_csv(\"submission.csv\", index=False)\n",
    "    submission.head()\n",
    "\n",
    "\n",
    "# In[17]:\n",
    "sns.countplot(submission[\"class\"], order=submission[\"class\"].value_counts(ascending=True).index)"
   ]
  },
  {
   "cell_type": "code",
   "execution_count": 8,
   "metadata": {},
   "outputs": [
    {
     "data": {
      "text/html": [
       "<div>\n",
       "<style scoped>\n",
       "    .dataframe tbody tr th:only-of-type {\n",
       "        vertical-align: middle;\n",
       "    }\n",
       "\n",
       "    .dataframe tbody tr th {\n",
       "        vertical-align: top;\n",
       "    }\n",
       "\n",
       "    .dataframe thead th {\n",
       "        text-align: right;\n",
       "    }\n",
       "</style>\n",
       "<table border=\"1\" class=\"dataframe\">\n",
       "  <thead>\n",
       "    <tr style=\"text-align: right;\">\n",
       "      <th></th>\n",
       "      <th>0</th>\n",
       "    </tr>\n",
       "  </thead>\n",
       "  <tbody>\n",
       "    <tr>\n",
       "      <th>count</th>\n",
       "      <td>6150.000000</td>\n",
       "    </tr>\n",
       "    <tr>\n",
       "      <th>mean</th>\n",
       "      <td>0.867693</td>\n",
       "    </tr>\n",
       "    <tr>\n",
       "      <th>std</th>\n",
       "      <td>0.207561</td>\n",
       "    </tr>\n",
       "    <tr>\n",
       "      <th>min</th>\n",
       "      <td>0.078997</td>\n",
       "    </tr>\n",
       "    <tr>\n",
       "      <th>25%</th>\n",
       "      <td>0.783467</td>\n",
       "    </tr>\n",
       "    <tr>\n",
       "      <th>50%</th>\n",
       "      <td>0.993280</td>\n",
       "    </tr>\n",
       "    <tr>\n",
       "      <th>75%</th>\n",
       "      <td>0.999884</td>\n",
       "    </tr>\n",
       "    <tr>\n",
       "      <th>max</th>\n",
       "      <td>1.000000</td>\n",
       "    </tr>\n",
       "  </tbody>\n",
       "</table>\n",
       "</div>"
      ],
      "text/plain": [
       "                 0\n",
       "count  6150.000000\n",
       "mean      0.867693\n",
       "std       0.207561\n",
       "min       0.078997\n",
       "25%       0.783467\n",
       "50%       0.993280\n",
       "75%       0.999884\n",
       "max       1.000000"
      ]
     },
     "execution_count": 8,
     "metadata": {},
     "output_type": "execute_result"
    }
   ],
   "source": [
    "dfpredictions = pd.DataFrame(np.max(prk, axis=1).squeeze() )\n",
    "dfpredictions.describe()"
   ]
  },
  {
   "cell_type": "code",
   "execution_count": 9,
   "metadata": {},
   "outputs": [
    {
     "data": {
      "text/plain": [
       "<matplotlib.axes._subplots.AxesSubplot at 0x7fee87729358>"
      ]
     },
     "execution_count": 9,
     "metadata": {},
     "output_type": "execute_result"
    },
    {
     "data": {
      "image/png": "[encoded data removed]",
      "text/plain": [
       "<Figure size 432x288 with 1 Axes>"
      ]
     },
     "metadata": {
      "needs_background": "light"
     },
     "output_type": "display_data"
    }
   ],
   "source": [
    "dfpredictions[0].plot.hist(bins=20)"
   ]
  },
  {
   "cell_type": "code",
   "execution_count": 10,
   "metadata": {},
   "outputs": [
    {
     "data": {
      "text/plain": [
       "3216"
      ]
     },
     "execution_count": 10,
     "metadata": {},
     "output_type": "execute_result"
    }
   ],
   "source": [
    "psids = dfpredictions[0]>0.99 \n",
    "np.sum(psids)"
   ]
  },
  {
   "cell_type": "code",
   "execution_count": 11,
   "metadata": {},
   "outputs": [
    {
     "data": {
      "text/plain": [
       "(3216, 224, 224, 3)"
      ]
     },
     "execution_count": 11,
     "metadata": {},
     "output_type": "execute_result"
    }
   ],
   "source": [
    "x_test.shape\n",
    "x_test[psids].shape"
   ]
  },
  {
   "cell_type": "code",
   "execution_count": 12,
   "metadata": {},
   "outputs": [],
   "source": [
    "# pseudo dataset\n",
    "# x_test[psids]\n",
    "# pdi[psids]\n",
    "# make pseudo\n",
    "if False:\n",
    "    print('Create Pseudo Label')\n",
    "    x_test = np.load(datadir+'x_test3.npy')\n",
    "    np.save('x_pseudo3.npy', x_test[psids])\n",
    "    np.save('y_pseudo3.npy', pdi[psids])"
   ]
  },
  {
   "cell_type": "code",
   "execution_count": 13,
   "metadata": {},
   "outputs": [
    {
     "data": {
      "text/plain": [
       "dtype('float64')"
      ]
     },
     "execution_count": 13,
     "metadata": {},
     "output_type": "execute_result"
    }
   ],
   "source": [
    "x_test[0].dtype"
   ]
  },
  {
   "cell_type": "code",
   "execution_count": null,
   "metadata": {},
   "outputs": [],
   "source": []
  },
  {
   "cell_type": "code",
   "execution_count": null,
   "metadata": {},
   "outputs": [],
   "source": []
  }
 ],
 "metadata": {
  "kernelspec": {
   "display_name": "Python 3",
   "language": "python",
   "name": "python3"
  },
  "language_info": {
   "codemirror_mode": {
    "name": "ipython",
    "version": 3
   },
   "file_extension": ".py",
   "mimetype": "text/x-python",
   "name": "python",
   "nbconvert_exporter": "python",
   "pygments_lexer": "ipython3",
   "version": "3.6.8"
  }
 },
 "nbformat": 4,
 "nbformat_minor": 4
}
