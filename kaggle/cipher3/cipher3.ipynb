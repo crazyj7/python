{
 "cells": [
  {
   "cell_type": "code",
   "execution_count": 1,
   "metadata": {
    "_cell_guid": "b1076dfc-b9ad-4769-8c92-a6c4dae69d19",
    "_uuid": "8f2839f25d086af736a60e9eeb907d3b93b6e0e5"
   },
   "outputs": [],
   "source": [
    "# This Python 3 environment comes with many helpful analytics libraries installed\n",
    "# It is defined by the kaggle/python docker image: https://github.com/kaggle/docker-python\n",
    "# For example, here's several helpful packages to load in \n",
    "\n",
    "import numpy as np # linear algebra\n",
    "import pandas as pd # data processing, CSV file I/O (e.g. pd.read_csv)\n",
    "\n",
    "# Input data files are available in the \"../input/\" directory.\n",
    "# For example, running this (by clicking run or pressing Shift+Enter) will list all files under the input directory\n",
    "\n",
    "import os\n",
    "for dirname, _, filenames in os.walk('/kaggle/input'):\n",
    "    for filename in filenames:\n",
    "        print(os.path.join(dirname, filename))\n",
    "\n",
    "# Any results you write to the current directory are saved as output."
   ]
  },
  {
   "cell_type": "code",
   "execution_count": 2,
   "metadata": {},
   "outputs": [],
   "source": [
    "import seaborn as sns\n",
    "import matplotlib.pyplot as plt\n",
    "from collections import Counter\n",
    "import math\n",
    "import time"
   ]
  },
  {
   "cell_type": "code",
   "execution_count": 3,
   "metadata": {
    "_cell_guid": "79c7e3d0-c299-4dcb-8224-4455121ee9b0",
    "_uuid": "d629ff2d2480ee46fbb7e2d37f6b5fab8052498a"
   },
   "outputs": [],
   "source": [
    "# configure\n",
    "inputdir = '../input/ciphertext-challenge-iii/'\n",
    "outputdir = '../input/mycipher3/'"
   ]
  },
  {
   "cell_type": "code",
   "execution_count": 4,
   "metadata": {},
   "outputs": [
    {
     "name": "stdout",
     "output_type": "stream",
     "text": [
      "(108755, 3)\n",
      "(108755, 3)\n"
     ]
    }
   ],
   "source": [
    "dftrain = pd.read_csv(inputdir+'train.csv')\n",
    "dftest = pd.read_csv(inputdir+'test.csv')\n",
    "print(dftrain.shape)\n",
    "print(dftest.shape)\n",
    "# train, test 두 개의 개수가 가탇. 10만개씩."
   ]
  },
  {
   "cell_type": "code",
   "execution_count": 5,
   "metadata": {},
   "outputs": [
    {
     "data": {
      "text/html": [
       "<div>\n",
       "<style scoped>\n",
       "    .dataframe tbody tr th:only-of-type {\n",
       "        vertical-align: middle;\n",
       "    }\n",
       "\n",
       "    .dataframe tbody tr th {\n",
       "        vertical-align: top;\n",
       "    }\n",
       "\n",
       "    .dataframe thead th {\n",
       "        text-align: right;\n",
       "    }\n",
       "</style>\n",
       "<table border=\"1\" class=\"dataframe\">\n",
       "  <thead>\n",
       "    <tr style=\"text-align: right;\">\n",
       "      <th></th>\n",
       "      <th>plaintext_id</th>\n",
       "      <th>text</th>\n",
       "      <th>index</th>\n",
       "    </tr>\n",
       "  </thead>\n",
       "  <tbody>\n",
       "    <tr>\n",
       "      <th>0</th>\n",
       "      <td>ID_d45641fc3</td>\n",
       "      <td>come, who you are and what you would are out o...</td>\n",
       "      <td>104199</td>\n",
       "    </tr>\n",
       "    <tr>\n",
       "      <th>1</th>\n",
       "      <td>ID_2058482ae</td>\n",
       "      <td>For all in vain comes counsel to his ear.</td>\n",
       "      <td>79081</td>\n",
       "    </tr>\n",
       "    <tr>\n",
       "      <th>2</th>\n",
       "      <td>ID_5257a6819</td>\n",
       "      <td>Captain: With the next benefit o' the wind.</td>\n",
       "      <td>31234</td>\n",
       "    </tr>\n",
       "    <tr>\n",
       "      <th>3</th>\n",
       "      <td>ID_cd22c9b7c</td>\n",
       "      <td>Smells wooingly here: no jutty, frieze,</td>\n",
       "      <td>56215</td>\n",
       "    </tr>\n",
       "    <tr>\n",
       "      <th>4</th>\n",
       "      <td>ID_dad4a8a96</td>\n",
       "      <td>PORTIA: Which did incorporate and make us one,</td>\n",
       "      <td>47149</td>\n",
       "    </tr>\n",
       "  </tbody>\n",
       "</table>\n",
       "</div>"
      ],
      "text/plain": [
       "   plaintext_id                                               text   index\n",
       "0  ID_d45641fc3  come, who you are and what you would are out o...  104199\n",
       "1  ID_2058482ae          For all in vain comes counsel to his ear.   79081\n",
       "2  ID_5257a6819        Captain: With the next benefit o' the wind.   31234\n",
       "3  ID_cd22c9b7c            Smells wooingly here: no jutty, frieze,   56215\n",
       "4  ID_dad4a8a96     PORTIA: Which did incorporate and make us one,   47149"
      ]
     },
     "execution_count": 5,
     "metadata": {},
     "output_type": "execute_result"
    }
   ],
   "source": [
    "dftrain.head()\n",
    "# plaintext_id, text, index 이렇게 있음. 이 index가 있음.\n",
    "# 이 index와 dftest와 맵핑이 되는 것 같다. "
   ]
  },
  {
   "cell_type": "code",
   "execution_count": 6,
   "metadata": {},
   "outputs": [
    {
     "data": {
      "text/html": [
       "<div>\n",
       "<style scoped>\n",
       "    .dataframe tbody tr th:only-of-type {\n",
       "        vertical-align: middle;\n",
       "    }\n",
       "\n",
       "    .dataframe tbody tr th {\n",
       "        vertical-align: top;\n",
       "    }\n",
       "\n",
       "    .dataframe thead th {\n",
       "        text-align: right;\n",
       "    }\n",
       "</style>\n",
       "<table border=\"1\" class=\"dataframe\">\n",
       "  <thead>\n",
       "    <tr style=\"text-align: right;\">\n",
       "      <th></th>\n",
       "      <th>ciphertext_id</th>\n",
       "      <th>ciphertext</th>\n",
       "      <th>difficulty</th>\n",
       "    </tr>\n",
       "  </thead>\n",
       "  <tbody>\n",
       "    <tr>\n",
       "      <th>0</th>\n",
       "      <td>ID_4a6fc1ea9</td>\n",
       "      <td>H2-t.'HzW$QOSvkPw v)4I1iSECKPX: P ktxjkp qemfl...</td>\n",
       "      <td>1</td>\n",
       "    </tr>\n",
       "    <tr>\n",
       "      <th>1</th>\n",
       "      <td>ID_9460d3380</td>\n",
       "      <td>Ah1QtVkLNcx7Q6mgvleEAqFIzyZoYkVtiKnd2Yy2t2GmoT...</td>\n",
       "      <td>4</td>\n",
       "    </tr>\n",
       "    <tr>\n",
       "      <th>2</th>\n",
       "      <td>ID_ac39fd360</td>\n",
       "      <td>BxBYt00fPc5zQqmls1mAFrVIzihsdFdoiKjdzZ22tWOnoT...</td>\n",
       "      <td>4</td>\n",
       "    </tr>\n",
       "    <tr>\n",
       "      <th>3</th>\n",
       "      <td>ID_d089e3234</td>\n",
       "      <td>AxFVtU0YMcl6R6mlvFKNFbVNziNpYkNtjKLX2Y+wsWShoT...</td>\n",
       "      <td>4</td>\n",
       "    </tr>\n",
       "    <tr>\n",
       "      <th>4</th>\n",
       "      <td>ID_55f57ffd0</td>\n",
       "      <td>11241 14155 31264 11448 35128 46135 39409 3201...</td>\n",
       "      <td>3</td>\n",
       "    </tr>\n",
       "  </tbody>\n",
       "</table>\n",
       "</div>"
      ],
      "text/plain": [
       "  ciphertext_id                                         ciphertext  difficulty\n",
       "0  ID_4a6fc1ea9  H2-t.'HzW$QOSvkPw v)4I1iSECKPX: P ktxjkp qemfl...           1\n",
       "1  ID_9460d3380  Ah1QtVkLNcx7Q6mgvleEAqFIzyZoYkVtiKnd2Yy2t2GmoT...           4\n",
       "2  ID_ac39fd360  BxBYt00fPc5zQqmls1mAFrVIzihsdFdoiKjdzZ22tWOnoT...           4\n",
       "3  ID_d089e3234  AxFVtU0YMcl6R6mlvFKNFbVNziNpYkNtjKLX2Y+wsWShoT...           4\n",
       "4  ID_55f57ffd0  11241 14155 31264 11448 35128 46135 39409 3201...           3"
      ]
     },
     "execution_count": 6,
     "metadata": {},
     "output_type": "execute_result"
    }
   ],
   "source": [
    "dftest.head()\n",
    "# ciphertext_id, ciphertext, difficulty"
   ]
  },
  {
   "cell_type": "code",
   "execution_count": 7,
   "metadata": {},
   "outputs": [
    {
     "data": {
      "text/plain": [
       "<matplotlib.axes._subplots.AxesSubplot at 0x7fefa019db00>"
      ]
     },
     "execution_count": 7,
     "metadata": {},
     "output_type": "execute_result"
    },
    {
     "data": {
      "image/png": "[encoded data removed]",
      "text/plain": [
       "<Figure size 432x288 with 1 Axes>"
      ]
     },
     "metadata": {
      "needs_background": "light"
     },
     "output_type": "display_data"
    }
   ],
   "source": [
    "# count by difficulty\n",
    "sns.countplot(dftest['difficulty'])\n",
    "# same count. 난이도 레벨은 암호화 횟수를 의미한다.\n",
    "# 균일하게 나눈 것을 알 수 있다. 난도는 1부터 4까지 있음."
   ]
  },
  {
   "cell_type": "code",
   "execution_count": 8,
   "metadata": {},
   "outputs": [],
   "source": [
    "# set length field. 텍스트 길이를 알아보자.\n",
    "dftrain['length'] = dftrain.text.apply(len)\n",
    "dftest['length'] = dftest.ciphertext.apply(len)\n",
    "dftrain['space'] = [x.count(' ') for x in dftrain.text]\n",
    "dftest['space'] = [x.count(' ') for x in dftest.ciphertext]"
   ]
  },
  {
   "cell_type": "code",
   "execution_count": 9,
   "metadata": {},
   "outputs": [
    {
     "data": {
      "text/html": [
       "<div>\n",
       "<style scoped>\n",
       "    .dataframe tbody tr th:only-of-type {\n",
       "        vertical-align: middle;\n",
       "    }\n",
       "\n",
       "    .dataframe tbody tr th {\n",
       "        vertical-align: top;\n",
       "    }\n",
       "\n",
       "    .dataframe thead th {\n",
       "        text-align: right;\n",
       "    }\n",
       "</style>\n",
       "<table border=\"1\" class=\"dataframe\">\n",
       "  <thead>\n",
       "    <tr style=\"text-align: right;\">\n",
       "      <th></th>\n",
       "      <th>plaintext_id</th>\n",
       "      <th>text</th>\n",
       "      <th>index</th>\n",
       "      <th>length</th>\n",
       "      <th>space</th>\n",
       "    </tr>\n",
       "  </thead>\n",
       "  <tbody>\n",
       "    <tr>\n",
       "      <th>0</th>\n",
       "      <td>ID_d45641fc3</td>\n",
       "      <td>come, who you are and what you would are out o...</td>\n",
       "      <td>104199</td>\n",
       "      <td>50</td>\n",
       "      <td>11</td>\n",
       "    </tr>\n",
       "    <tr>\n",
       "      <th>1</th>\n",
       "      <td>ID_2058482ae</td>\n",
       "      <td>For all in vain comes counsel to his ear.</td>\n",
       "      <td>79081</td>\n",
       "      <td>41</td>\n",
       "      <td>8</td>\n",
       "    </tr>\n",
       "    <tr>\n",
       "      <th>2</th>\n",
       "      <td>ID_5257a6819</td>\n",
       "      <td>Captain: With the next benefit o' the wind.</td>\n",
       "      <td>31234</td>\n",
       "      <td>43</td>\n",
       "      <td>7</td>\n",
       "    </tr>\n",
       "    <tr>\n",
       "      <th>3</th>\n",
       "      <td>ID_cd22c9b7c</td>\n",
       "      <td>Smells wooingly here: no jutty, frieze,</td>\n",
       "      <td>56215</td>\n",
       "      <td>39</td>\n",
       "      <td>5</td>\n",
       "    </tr>\n",
       "    <tr>\n",
       "      <th>4</th>\n",
       "      <td>ID_dad4a8a96</td>\n",
       "      <td>PORTIA: Which did incorporate and make us one,</td>\n",
       "      <td>47149</td>\n",
       "      <td>46</td>\n",
       "      <td>7</td>\n",
       "    </tr>\n",
       "  </tbody>\n",
       "</table>\n",
       "</div>"
      ],
      "text/plain": [
       "   plaintext_id                                               text   index  \\\n",
       "0  ID_d45641fc3  come, who you are and what you would are out o...  104199   \n",
       "1  ID_2058482ae          For all in vain comes counsel to his ear.   79081   \n",
       "2  ID_5257a6819        Captain: With the next benefit o' the wind.   31234   \n",
       "3  ID_cd22c9b7c            Smells wooingly here: no jutty, frieze,   56215   \n",
       "4  ID_dad4a8a96     PORTIA: Which did incorporate and make us one,   47149   \n",
       "\n",
       "   length  space  \n",
       "0      50     11  \n",
       "1      41      8  \n",
       "2      43      7  \n",
       "3      39      5  \n",
       "4      46      7  "
      ]
     },
     "execution_count": 9,
     "metadata": {},
     "output_type": "execute_result"
    }
   ],
   "source": [
    "dftrain.head()"
   ]
  },
  {
   "cell_type": "code",
   "execution_count": 10,
   "metadata": {},
   "outputs": [
    {
     "data": {
      "text/html": [
       "<div>\n",
       "<style scoped>\n",
       "    .dataframe tbody tr th:only-of-type {\n",
       "        vertical-align: middle;\n",
       "    }\n",
       "\n",
       "    .dataframe tbody tr th {\n",
       "        vertical-align: top;\n",
       "    }\n",
       "\n",
       "    .dataframe thead th {\n",
       "        text-align: right;\n",
       "    }\n",
       "</style>\n",
       "<table border=\"1\" class=\"dataframe\">\n",
       "  <thead>\n",
       "    <tr style=\"text-align: right;\">\n",
       "      <th></th>\n",
       "      <th>ciphertext_id</th>\n",
       "      <th>ciphertext</th>\n",
       "      <th>difficulty</th>\n",
       "      <th>length</th>\n",
       "      <th>space</th>\n",
       "    </tr>\n",
       "  </thead>\n",
       "  <tbody>\n",
       "    <tr>\n",
       "      <th>0</th>\n",
       "      <td>ID_4a6fc1ea9</td>\n",
       "      <td>H2-t.'HzW$QOSvkPw v)4I1iSECKPX: P ktxjkp qemfl...</td>\n",
       "      <td>1</td>\n",
       "      <td>100</td>\n",
       "      <td>10</td>\n",
       "    </tr>\n",
       "    <tr>\n",
       "      <th>1</th>\n",
       "      <td>ID_9460d3380</td>\n",
       "      <td>Ah1QtVkLNcx7Q6mgvleEAqFIzyZoYkVtiKnd2Yy2t2GmoT...</td>\n",
       "      <td>4</td>\n",
       "      <td>764</td>\n",
       "      <td>0</td>\n",
       "    </tr>\n",
       "    <tr>\n",
       "      <th>2</th>\n",
       "      <td>ID_ac39fd360</td>\n",
       "      <td>BxBYt00fPc5zQqmls1mAFrVIzihsdFdoiKjdzZ22tWOnoT...</td>\n",
       "      <td>4</td>\n",
       "      <td>772</td>\n",
       "      <td>0</td>\n",
       "    </tr>\n",
       "    <tr>\n",
       "      <th>3</th>\n",
       "      <td>ID_d089e3234</td>\n",
       "      <td>AxFVtU0YMcl6R6mlvFKNFbVNziNpYkNtjKLX2Y+wsWShoT...</td>\n",
       "      <td>4</td>\n",
       "      <td>764</td>\n",
       "      <td>0</td>\n",
       "    </tr>\n",
       "    <tr>\n",
       "      <th>4</th>\n",
       "      <td>ID_55f57ffd0</td>\n",
       "      <td>11241 14155 31264 11448 35128 46135 39409 3201...</td>\n",
       "      <td>3</td>\n",
       "      <td>573</td>\n",
       "      <td>99</td>\n",
       "    </tr>\n",
       "  </tbody>\n",
       "</table>\n",
       "</div>"
      ],
      "text/plain": [
       "  ciphertext_id                                         ciphertext  \\\n",
       "0  ID_4a6fc1ea9  H2-t.'HzW$QOSvkPw v)4I1iSECKPX: P ktxjkp qemfl...   \n",
       "1  ID_9460d3380  Ah1QtVkLNcx7Q6mgvleEAqFIzyZoYkVtiKnd2Yy2t2GmoT...   \n",
       "2  ID_ac39fd360  BxBYt00fPc5zQqmls1mAFrVIzihsdFdoiKjdzZ22tWOnoT...   \n",
       "3  ID_d089e3234  AxFVtU0YMcl6R6mlvFKNFbVNziNpYkNtjKLX2Y+wsWShoT...   \n",
       "4  ID_55f57ffd0  11241 14155 31264 11448 35128 46135 39409 3201...   \n",
       "\n",
       "   difficulty  length  space  \n",
       "0           1     100     10  \n",
       "1           4     764      0  \n",
       "2           4     772      0  \n",
       "3           4     764      0  \n",
       "4           3     573     99  "
      ]
     },
     "execution_count": 10,
     "metadata": {},
     "output_type": "execute_result"
    }
   ],
   "source": [
    "dftest.head()"
   ]
  },
  {
   "cell_type": "code",
   "execution_count": 11,
   "metadata": {},
   "outputs": [
    {
     "name": "stdout",
     "output_type": "stream",
     "text": [
      "27158\n"
     ]
    },
    {
     "data": {
      "text/html": [
       "<div>\n",
       "<style scoped>\n",
       "    .dataframe tbody tr th:only-of-type {\n",
       "        vertical-align: middle;\n",
       "    }\n",
       "\n",
       "    .dataframe tbody tr th {\n",
       "        vertical-align: top;\n",
       "    }\n",
       "\n",
       "    .dataframe thead th {\n",
       "        text-align: right;\n",
       "    }\n",
       "</style>\n",
       "<table border=\"1\" class=\"dataframe\">\n",
       "  <thead>\n",
       "    <tr style=\"text-align: right;\">\n",
       "      <th></th>\n",
       "      <th>ciphertext_id</th>\n",
       "      <th>ciphertext</th>\n",
       "      <th>difficulty</th>\n",
       "      <th>length</th>\n",
       "      <th>space</th>\n",
       "    </tr>\n",
       "  </thead>\n",
       "  <tbody>\n",
       "    <tr>\n",
       "      <th>0</th>\n",
       "      <td>ID_4a6fc1ea9</td>\n",
       "      <td>H2-t.'HzW$QOSvkPw v)4I1iSECKPX: P ktxjkp qemfl...</td>\n",
       "      <td>1</td>\n",
       "      <td>100</td>\n",
       "      <td>10</td>\n",
       "    </tr>\n",
       "    <tr>\n",
       "      <th>5</th>\n",
       "      <td>ID_c85d54d74</td>\n",
       "      <td>Pv4n2iv9M[[I39w5dBz'YURX-R-CIopea, adeld Sirsa...</td>\n",
       "      <td>1</td>\n",
       "      <td>100</td>\n",
       "      <td>8</td>\n",
       "    </tr>\n",
       "    <tr>\n",
       "      <th>19</th>\n",
       "      <td>ID_a6298da09</td>\n",
       "      <td>0W,jz:pH(z9xIENX5o[VM,!zma)]P5M rydi dnf bwhfl...</td>\n",
       "      <td>1</td>\n",
       "      <td>100</td>\n",
       "      <td>8</td>\n",
       "    </tr>\n",
       "    <tr>\n",
       "      <th>20</th>\n",
       "      <td>ID_e54366f76</td>\n",
       "      <td>bN0pTfe9HBIzGH[uU$g?hBd.kmIW7j.qXe kld prtht k...</td>\n",
       "      <td>1</td>\n",
       "      <td>100</td>\n",
       "      <td>5</td>\n",
       "    </tr>\n",
       "    <tr>\n",
       "      <th>23</th>\n",
       "      <td>ID_ac57b8817</td>\n",
       "      <td>CPuqjMj5$tOcHNthUki.'9LMNaAOErbptj ssmi rnvekw...</td>\n",
       "      <td>1</td>\n",
       "      <td>100</td>\n",
       "      <td>6</td>\n",
       "    </tr>\n",
       "  </tbody>\n",
       "</table>\n",
       "</div>"
      ],
      "text/plain": [
       "   ciphertext_id                                         ciphertext  \\\n",
       "0   ID_4a6fc1ea9  H2-t.'HzW$QOSvkPw v)4I1iSECKPX: P ktxjkp qemfl...   \n",
       "5   ID_c85d54d74  Pv4n2iv9M[[I39w5dBz'YURX-R-CIopea, adeld Sirsa...   \n",
       "19  ID_a6298da09  0W,jz:pH(z9xIENX5o[VM,!zma)]P5M rydi dnf bwhfl...   \n",
       "20  ID_e54366f76  bN0pTfe9HBIzGH[uU$g?hBd.kmIW7j.qXe kld prtht k...   \n",
       "23  ID_ac57b8817  CPuqjMj5$tOcHNthUki.'9LMNaAOErbptj ssmi rnvekw...   \n",
       "\n",
       "    difficulty  length  space  \n",
       "0            1     100     10  \n",
       "5            1     100      8  \n",
       "19           1     100      8  \n",
       "20           1     100      5  \n",
       "23           1     100      6  "
      ]
     },
     "execution_count": 11,
     "metadata": {},
     "output_type": "execute_result"
    }
   ],
   "source": [
    "# difficulty level1. 레벨1부터 풀어보자.\n",
    "dftest1 = dftest.loc[dftest['difficulty']==1]\n",
    "dftest2 = dftest.loc[dftest['difficulty']==2]\n",
    "dftest3 = dftest.loc[dftest['difficulty']==3]\n",
    "dftest4 = dftest.loc[dftest['difficulty']==4]\n",
    "print(len(dftest1))\n",
    "dftest1.head()"
   ]
  },
  {
   "cell_type": "code",
   "execution_count": 12,
   "metadata": {},
   "outputs": [
    {
     "data": {
      "text/plain": [
       "<matplotlib.axes._subplots.AxesSubplot at 0x7fefa00e4320>"
      ]
     },
     "execution_count": 12,
     "metadata": {},
     "output_type": "execute_result"
    },
    {
     "data": {
      "image/png": "[encoded data removed]",
      "text/plain": [
       "<Figure size 432x288 with 1 Axes>"
      ]
     },
     "metadata": {
      "needs_background": "light"
     },
     "output_type": "display_data"
    }
   ],
   "source": [
    "# 길이에 따른 카운팅. (train 원문)\n",
    "sns.countplot(x=\"length\", data=dftrain)\n",
    "# 가운데 속한 부분의 길이의 데이터가 가장 많고, 길이가 긴 것들이 많은 종류로 아주 조금씩 카운트가 있다. \n",
    "\n",
    "# 참고)\n",
    "# x값이 증가하도록 정렬: 상동\n",
    "# sns.countplot(x=\"length\", data=dftrain, order=dftrain.length.value_counts().sort_index().index)\n",
    "# y값이 증가하도록 정렬\n",
    "# sns.countplot(x=\"length\", data=dftrain, order=dftrain.length.value_counts().sort_values().index)"
   ]
  },
  {
   "cell_type": "code",
   "execution_count": 13,
   "metadata": {},
   "outputs": [
    {
     "data": {
      "text/plain": [
       "<matplotlib.axes._subplots.AxesSubplot at 0x7fef9f7e59b0>"
      ]
     },
     "execution_count": 13,
     "metadata": {},
     "output_type": "execute_result"
    },
    {
     "data": {
      "image/png": "[encoded data removed]",
      "text/plain": [
       "<Figure size 432x288 with 1 Axes>"
      ]
     },
     "metadata": {
      "needs_background": "light"
     },
     "output_type": "display_data"
    }
   ],
   "source": [
    "# 길이에 따른 카운팅을 이번에는 암호문(dftest)으로 해 본다.\n",
    "sns.countplot('length', data=dftest)\n",
    "# 특정 짧은 길이가 아주 많이 존재한다."
   ]
  },
  {
   "cell_type": "code",
   "execution_count": 14,
   "metadata": {},
   "outputs": [
    {
     "name": "stderr",
     "output_type": "stream",
     "text": [
      "/storage/psychic/myvenv/lib/python3.7/site-packages/ipykernel_launcher.py:7: UserWarning: Matplotlib is currently using module://ipykernel.pylab.backend_inline, which is a non-GUI backend, so cannot show the figure.\n",
      "  import sys\n"
     ]
    },
    {
     "data": {
      "image/png": "[encoded data removed]",
      "text/plain": [
       "<Figure size 1152x288 with 4 Axes>"
      ]
     },
     "metadata": {
      "needs_background": "light"
     },
     "output_type": "display_data"
    }
   ],
   "source": [
    "# 레벨별로 암호화 텍스트 길이를 보자\n",
    "fig, ax = plt.subplots(1,4, figsize=(4*4, 4))\n",
    "sns.countplot(x='length', data=dftest1, ax=ax[0])\n",
    "sns.countplot(x='length', data=dftest2, ax=ax[1])\n",
    "sns.countplot(x='length', data=dftest3, ax=ax[2])\n",
    "sns.countplot(x='length', data=dftest4, ax=ax[3])\n",
    "fig.show()\n",
    "# 놀랍게도 level1, level2는 대부분이 고정 크기로 떨어진다. "
   ]
  },
  {
   "cell_type": "code",
   "execution_count": 15,
   "metadata": {},
   "outputs": [
    {
     "name": "stdout",
     "output_type": "stream",
     "text": [
      "100    27120\n",
      "200       28\n",
      "300        8\n",
      "500        1\n",
      "400        1\n",
      "Name: length, dtype: int64\n",
      "100     26817\n",
      "200        24\n",
      "300         5\n",
      "400         2\n",
      "1100        1\n",
      "Name: length, dtype: int64\n",
      "576     2081\n",
      "577     2079\n",
      "575     2003\n",
      "574     1917\n",
      "578     1914\n",
      "        ... \n",
      "1140       1\n",
      "1161       1\n",
      "1732       1\n",
      "1164       1\n",
      "1727       1\n",
      "Name: length, Length: 71, dtype: int64\n",
      "768     5999\n",
      "772     5581\n",
      "764     4757\n",
      "776     3788\n",
      "760     2836\n",
      "780     1650\n",
      "756     1371\n",
      "752      538\n",
      "784      487\n",
      "748      160\n",
      "788       76\n",
      "744       39\n",
      "792       10\n",
      "1540       8\n",
      "1536       7\n",
      "740        6\n",
      "736        3\n",
      "1548       3\n",
      "1544       3\n",
      "1532       3\n",
      "1520       2\n",
      "1528       2\n",
      "1524       1\n",
      "1552       1\n",
      "6924       1\n",
      "Name: length, dtype: int64\n"
     ]
    }
   ],
   "source": [
    "print(dftest1.length.value_counts())\n",
    "print(dftest2.length.value_counts())\n",
    "print(dftest3.length.value_counts())\n",
    "print(dftest4.length.value_counts())"
   ]
  },
  {
   "cell_type": "code",
   "execution_count": 16,
   "metadata": {},
   "outputs": [],
   "source": [
    "## 캐릭터별 분포"
   ]
  },
  {
   "cell_type": "code",
   "execution_count": 17,
   "metadata": {},
   "outputs": [
    {
     "data": {
      "text/plain": [
       "4581717"
      ]
     },
     "execution_count": 17,
     "metadata": {},
     "output_type": "execute_result"
    }
   ],
   "source": [
    "# 모든 문자들을 모아보기\n",
    "\n",
    "alltext = ''.join(dftrain.text)\n",
    "len(alltext)"
   ]
  },
  {
   "cell_type": "code",
   "execution_count": 18,
   "metadata": {},
   "outputs": [
    {
     "data": {
      "text/plain": [
       "\"come, who you are and what you would are out of myFor all in vain comes counsel to his ear.Captain: With the next benefit o' the wind.Smells wooingly here: no jutty, frieze,PORTIA: Which did incorporate and make us one,My tears shall wipe away these bloody marks,I have done no harm. But I remember nowVALERIA: the yarn she spun in Ulysses' absence did but fillSecond Murderer: O sir, it is better to be brief than tedious. ShowIn a most dear particular. He call'd me father:Fie, Joan, that thou wilt be so obstacle!BOTTOM: dry oats. Methinks I have a great desire to a bottleKING HENRY VI: He be approved in practise culpable.Yet know, my master, God omnipotent,True, and thy master a shepherd.CLEOPATRA: Lay me stark naked, and let the water-fliesSALISBURY: Upon the spot of this enforced cause,--For quick accumulation of renown,Nor are they livingItself, and all my treason, that I suffer'dThat you shall be new-christen'd in the Tower.Good morrow to thee, welcome:[Kneeling]but for the stuffing,\""
      ]
     },
     "execution_count": 18,
     "metadata": {},
     "output_type": "execute_result"
    }
   ],
   "source": [
    "# 원문은 이렇게 생겼다.\n",
    "alltext[:1000]"
   ]
  },
  {
   "cell_type": "code",
   "execution_count": 19,
   "metadata": {},
   "outputs": [
    {
     "data": {
      "text/plain": [
       "Text(0.5, 1.0, 'Plain Text')"
      ]
     },
     "execution_count": 19,
     "metadata": {},
     "output_type": "execute_result"
    },
    {
     "data": {
      "image/png": "[encoded data removed]",
      "text/plain": [
       "<Figure size 432x288 with 1 Axes>"
      ]
     },
     "metadata": {
      "needs_background": "light"
     },
     "output_type": "display_data"
    }
   ],
   "source": [
    "# 문자별 카운팅\n",
    "atcounter = Counter(alltext)\n",
    "dftrainletter = pd.DataFrame( [ [x[0], x[1]] for x in atcounter.items() ], columns=['Letter', 'Count'] )\n",
    "# 문자를 오름차순 정렬\n",
    "dftrainletter.sort_values('Letter', inplace=True)\n",
    "sns.barplot(dftrainletter['Letter'], dftrainletter['Count'])\n",
    "plt.title('Plain Text')\n",
    "# 공백 문자가 가장 많고, 숫자가 적은것 같고, 소문자가 대문자보다 많았다."
   ]
  },
  {
   "cell_type": "code",
   "execution_count": 20,
   "metadata": {},
   "outputs": [
    {
     "data": {
      "text/html": [
       "<div>\n",
       "<style scoped>\n",
       "    .dataframe tbody tr th:only-of-type {\n",
       "        vertical-align: middle;\n",
       "    }\n",
       "\n",
       "    .dataframe tbody tr th {\n",
       "        vertical-align: top;\n",
       "    }\n",
       "\n",
       "    .dataframe thead th {\n",
       "        text-align: right;\n",
       "    }\n",
       "</style>\n",
       "<table border=\"1\" class=\"dataframe\">\n",
       "  <thead>\n",
       "    <tr style=\"text-align: right;\">\n",
       "      <th></th>\n",
       "      <th>Letter</th>\n",
       "      <th>Count</th>\n",
       "    </tr>\n",
       "  </thead>\n",
       "  <tbody>\n",
       "    <tr>\n",
       "      <th>5</th>\n",
       "      <td></td>\n",
       "      <td>746834</td>\n",
       "    </tr>\n",
       "    <tr>\n",
       "      <th>48</th>\n",
       "      <td>!</td>\n",
       "      <td>8755</td>\n",
       "    </tr>\n",
       "    <tr>\n",
       "      <th>65</th>\n",
       "      <td>$</td>\n",
       "      <td>1</td>\n",
       "    </tr>\n",
       "    <tr>\n",
       "      <th>28</th>\n",
       "      <td>'</td>\n",
       "      <td>24347</td>\n",
       "    </tr>\n",
       "    <tr>\n",
       "      <th>61</th>\n",
       "      <td>(</td>\n",
       "      <td>1</td>\n",
       "    </tr>\n",
       "    <tr>\n",
       "      <th>62</th>\n",
       "      <td>)</td>\n",
       "      <td>1</td>\n",
       "    </tr>\n",
       "    <tr>\n",
       "      <th>4</th>\n",
       "      <td>,</td>\n",
       "      <td>97592</td>\n",
       "    </tr>\n",
       "    <tr>\n",
       "      <th>53</th>\n",
       "      <td>-</td>\n",
       "      <td>8774</td>\n",
       "    </tr>\n",
       "    <tr>\n",
       "      <th>21</th>\n",
       "      <td>.</td>\n",
       "      <td>35417</td>\n",
       "    </tr>\n",
       "    <tr>\n",
       "      <th>71</th>\n",
       "      <td>0</td>\n",
       "      <td>1</td>\n",
       "    </tr>\n",
       "    <tr>\n",
       "      <th>70</th>\n",
       "      <td>1</td>\n",
       "      <td>2</td>\n",
       "    </tr>\n",
       "    <tr>\n",
       "      <th>68</th>\n",
       "      <td>2</td>\n",
       "      <td>4</td>\n",
       "    </tr>\n",
       "    <tr>\n",
       "      <th>66</th>\n",
       "      <td>3</td>\n",
       "      <td>1</td>\n",
       "    </tr>\n",
       "    <tr>\n",
       "      <th>67</th>\n",
       "      <td>4</td>\n",
       "      <td>2</td>\n",
       "    </tr>\n",
       "    <tr>\n",
       "      <th>72</th>\n",
       "      <td>5</td>\n",
       "      <td>2</td>\n",
       "    </tr>\n",
       "    <tr>\n",
       "      <th>69</th>\n",
       "      <td>6</td>\n",
       "      <td>2</td>\n",
       "    </tr>\n",
       "    <tr>\n",
       "      <th>73</th>\n",
       "      <td>7</td>\n",
       "      <td>1</td>\n",
       "    </tr>\n",
       "    <tr>\n",
       "      <th>64</th>\n",
       "      <td>8</td>\n",
       "      <td>2</td>\n",
       "    </tr>\n",
       "    <tr>\n",
       "      <th>63</th>\n",
       "      <td>9</td>\n",
       "      <td>1</td>\n",
       "    </tr>\n",
       "    <tr>\n",
       "      <th>24</th>\n",
       "      <td>:</td>\n",
       "      <td>46827</td>\n",
       "    </tr>\n",
       "    <tr>\n",
       "      <th>58</th>\n",
       "      <td>?</td>\n",
       "      <td>9901</td>\n",
       "    </tr>\n",
       "    <tr>\n",
       "      <th>38</th>\n",
       "      <td>A</td>\n",
       "      <td>42507</td>\n",
       "    </tr>\n",
       "    <tr>\n",
       "      <th>41</th>\n",
       "      <td>B</td>\n",
       "      <td>12239</td>\n",
       "    </tr>\n",
       "    <tr>\n",
       "      <th>22</th>\n",
       "      <td>C</td>\n",
       "      <td>18290</td>\n",
       "    </tr>\n",
       "    <tr>\n",
       "      <th>57</th>\n",
       "      <td>D</td>\n",
       "      <td>11889</td>\n",
       "    </tr>\n",
       "    <tr>\n",
       "      <th>44</th>\n",
       "      <td>E</td>\n",
       "      <td>33342</td>\n",
       "    </tr>\n",
       "    <tr>\n",
       "      <th>17</th>\n",
       "      <td>F</td>\n",
       "      <td>9682</td>\n",
       "    </tr>\n",
       "    <tr>\n",
       "      <th>51</th>\n",
       "      <td>G</td>\n",
       "      <td>10653</td>\n",
       "    </tr>\n",
       "    <tr>\n",
       "      <th>46</th>\n",
       "      <td>H</td>\n",
       "      <td>15354</td>\n",
       "    </tr>\n",
       "    <tr>\n",
       "      <th>37</th>\n",
       "      <td>I</td>\n",
       "      <td>52090</td>\n",
       "    </tr>\n",
       "    <tr>\n",
       "      <th>...</th>\n",
       "      <td>...</td>\n",
       "      <td>...</td>\n",
       "    </tr>\n",
       "    <tr>\n",
       "      <th>60</th>\n",
       "      <td>X</td>\n",
       "      <td>380</td>\n",
       "    </tr>\n",
       "    <tr>\n",
       "      <th>52</th>\n",
       "      <td>Y</td>\n",
       "      <td>7852</td>\n",
       "    </tr>\n",
       "    <tr>\n",
       "      <th>55</th>\n",
       "      <td>[</td>\n",
       "      <td>579</td>\n",
       "    </tr>\n",
       "    <tr>\n",
       "      <th>56</th>\n",
       "      <td>]</td>\n",
       "      <td>578</td>\n",
       "    </tr>\n",
       "    <tr>\n",
       "      <th>10</th>\n",
       "      <td>a</td>\n",
       "      <td>234218</td>\n",
       "    </tr>\n",
       "    <tr>\n",
       "      <th>27</th>\n",
       "      <td>b</td>\n",
       "      <td>44797</td>\n",
       "    </tr>\n",
       "    <tr>\n",
       "      <th>0</th>\n",
       "      <td>c</td>\n",
       "      <td>64144</td>\n",
       "    </tr>\n",
       "    <tr>\n",
       "      <th>13</th>\n",
       "      <td>d</td>\n",
       "      <td>128950</td>\n",
       "    </tr>\n",
       "    <tr>\n",
       "      <th>3</th>\n",
       "      <td>e</td>\n",
       "      <td>393299</td>\n",
       "    </tr>\n",
       "    <tr>\n",
       "      <th>16</th>\n",
       "      <td>f</td>\n",
       "      <td>65935</td>\n",
       "    </tr>\n",
       "    <tr>\n",
       "      <th>30</th>\n",
       "      <td>g</td>\n",
       "      <td>54784</td>\n",
       "    </tr>\n",
       "    <tr>\n",
       "      <th>7</th>\n",
       "      <td>h</td>\n",
       "      <td>210450</td>\n",
       "    </tr>\n",
       "    <tr>\n",
       "      <th>18</th>\n",
       "      <td>i</td>\n",
       "      <td>190229</td>\n",
       "    </tr>\n",
       "    <tr>\n",
       "      <th>31</th>\n",
       "      <td>j</td>\n",
       "      <td>2611</td>\n",
       "    </tr>\n",
       "    <tr>\n",
       "      <th>39</th>\n",
       "      <td>k</td>\n",
       "      <td>28892</td>\n",
       "    </tr>\n",
       "    <tr>\n",
       "      <th>15</th>\n",
       "      <td>l</td>\n",
       "      <td>140331</td>\n",
       "    </tr>\n",
       "    <tr>\n",
       "      <th>2</th>\n",
       "      <td>m</td>\n",
       "      <td>91977</td>\n",
       "    </tr>\n",
       "    <tr>\n",
       "      <th>12</th>\n",
       "      <td>n</td>\n",
       "      <td>206729</td>\n",
       "    </tr>\n",
       "    <tr>\n",
       "      <th>1</th>\n",
       "      <td>o</td>\n",
       "      <td>269883</td>\n",
       "    </tr>\n",
       "    <tr>\n",
       "      <th>23</th>\n",
       "      <td>p</td>\n",
       "      <td>44985</td>\n",
       "    </tr>\n",
       "    <tr>\n",
       "      <th>54</th>\n",
       "      <td>q</td>\n",
       "      <td>2607</td>\n",
       "    </tr>\n",
       "    <tr>\n",
       "      <th>11</th>\n",
       "      <td>r</td>\n",
       "      <td>201403</td>\n",
       "    </tr>\n",
       "    <tr>\n",
       "      <th>20</th>\n",
       "      <td>s</td>\n",
       "      <td>207706</td>\n",
       "    </tr>\n",
       "    <tr>\n",
       "      <th>14</th>\n",
       "      <td>t</td>\n",
       "      <td>278144</td>\n",
       "    </tr>\n",
       "    <tr>\n",
       "      <th>9</th>\n",
       "      <td>u</td>\n",
       "      <td>109941</td>\n",
       "    </tr>\n",
       "    <tr>\n",
       "      <th>19</th>\n",
       "      <td>v</td>\n",
       "      <td>32901</td>\n",
       "    </tr>\n",
       "    <tr>\n",
       "      <th>6</th>\n",
       "      <td>w</td>\n",
       "      <td>70940</td>\n",
       "    </tr>\n",
       "    <tr>\n",
       "      <th>26</th>\n",
       "      <td>x</td>\n",
       "      <td>3489</td>\n",
       "    </tr>\n",
       "    <tr>\n",
       "      <th>8</th>\n",
       "      <td>y</td>\n",
       "      <td>82031</td>\n",
       "    </tr>\n",
       "    <tr>\n",
       "      <th>32</th>\n",
       "      <td>z</td>\n",
       "      <td>1185</td>\n",
       "    </tr>\n",
       "  </tbody>\n",
       "</table>\n",
       "<p>74 rows × 2 columns</p>\n",
       "</div>"
      ],
      "text/plain": [
       "   Letter   Count\n",
       "5          746834\n",
       "48      !    8755\n",
       "65      $       1\n",
       "28      '   24347\n",
       "61      (       1\n",
       "..    ...     ...\n",
       "19      v   32901\n",
       "6       w   70940\n",
       "26      x    3489\n",
       "8       y   82031\n",
       "32      z    1185\n",
       "\n",
       "[74 rows x 2 columns]"
      ]
     },
     "execution_count": 20,
     "metadata": {},
     "output_type": "execute_result"
    }
   ],
   "source": [
    "dftrainletter"
   ]
  },
  {
   "cell_type": "code",
   "execution_count": 21,
   "metadata": {},
   "outputs": [
    {
     "name": "stderr",
     "output_type": "stream",
     "text": [
      "/storage/psychic/myvenv/lib/python3.7/site-packages/ipykernel_launcher.py:4: SettingWithCopyWarning: \n",
      "A value is trying to be set on a copy of a slice from a DataFrame\n",
      "\n",
      "See the caveats in the documentation: http://pandas.pydata.org/pandas-docs/stable/user_guide/indexing.html#returning-a-view-versus-a-copy\n",
      "  after removing the cwd from sys.path.\n"
     ]
    },
    {
     "data": {
      "text/plain": [
       "Text(0.5, 1.0, 'Plain Text Alphabet Count')"
      ]
     },
     "execution_count": 21,
     "metadata": {},
     "output_type": "execute_result"
    },
    {
     "data": {
      "image/png": "[encoded data removed]",
      "text/plain": [
       "<Figure size 432x288 with 1 Axes>"
      ]
     },
     "metadata": {
      "needs_background": "light"
     },
     "output_type": "display_data"
    }
   ],
   "source": [
    "# 알파벳은 어떤게 일반적으로 많이 나올까?\n",
    "# 일반적으로 사전에 E>T>A 순으로 나온다고 한다.\n",
    "alphaCount = dftrainletter.loc[ np.bitwise_and(dftrainletter.Letter>='a' , dftrainletter.Letter<='z') ]\n",
    "alphaCount.sort_values('Letter', inplace=True)\n",
    "sns.barplot(alphaCount['Letter'], alphaCount['Count'])\n",
    "plt.title('Plain Text Alphabet Count')\n",
    "# e t o a 순서로 나온다. 대소문자 구분없이 해보자."
   ]
  },
  {
   "cell_type": "code",
   "execution_count": 22,
   "metadata": {},
   "outputs": [
    {
     "data": {
      "text/plain": [
       "Text(0.5, 1.0, 'Plain Text Alphabet Uppercae Count')"
      ]
     },
     "execution_count": 22,
     "metadata": {},
     "output_type": "execute_result"
    },
    {
     "data": {
      "image/png": "[encoded data removed]",
      "text/plain": [
       "<Figure size 432x288 with 1 Axes>"
      ]
     },
     "metadata": {
      "needs_background": "light"
     },
     "output_type": "display_data"
    }
   ],
   "source": [
    "# 대소문자 구분없이 알파벳 분포\n",
    "alphaCountU = dftrainletter.loc[ np.bitwise_and(dftrainletter.Letter>='A' , dftrainletter.Letter<='Z') ]\n",
    "alphaCountU = alphaCountU.sort_values('Letter')\n",
    "sns.barplot(alphaCountU['Letter'], alphaCountU['Count'])\n",
    "plt.title('Plain Text Alphabet Uppercae Count')"
   ]
  },
  {
   "cell_type": "code",
   "execution_count": 23,
   "metadata": {},
   "outputs": [
    {
     "name": "stdout",
     "output_type": "stream",
     "text": [
      "no Z\n",
      "   Letter  Count\n",
      "38      A  42507\n",
      "41      B  12239\n",
      "22      C  18290\n",
      "57      D  11889\n",
      "44      E  33342\n",
      "17      F   9682\n",
      "51      G  10653\n",
      "46      H  15354\n",
      "37      I  52090\n",
      "47      J   1783\n",
      "49      K   6573\n",
      "43      L  20831\n",
      "40      M  13489\n",
      "50      N  26198\n",
      "34      O  28037\n",
      "33      P   8853\n",
      "59      Q   1100\n",
      "35      R  24489\n",
      "29      S  27837\n",
      "36      T  33454\n",
      "45      U  15428\n",
      "42      V   3806\n",
      "25      W  13375\n",
      "60      X    380\n",
      "52      Y   7852\n",
      "0       Z      0\n"
     ]
    }
   ],
   "source": [
    "if ( np.sum(alphaCountU.Letter=='Z')==0 ):\n",
    "    print('no Z')\n",
    "    alphaCountU = alphaCountU.append([{'Letter':'Z', 'Count':0}])\n",
    "    print(alphaCountU)\n",
    "# alphaCountU.Count.values"
   ]
  },
  {
   "cell_type": "code",
   "execution_count": 24,
   "metadata": {},
   "outputs": [
    {
     "data": {
      "text/plain": [
       "Text(0.5, 1.0, 'Plain Text Alphabet Count (NoCase)')"
      ]
     },
     "execution_count": 24,
     "metadata": {},
     "output_type": "execute_result"
    },
    {
     "data": {
      "image/png": "[encoded data removed]",
      "text/plain": [
       "<Figure size 432x288 with 1 Axes>"
      ]
     },
     "metadata": {
      "needs_background": "light"
     },
     "output_type": "display_data"
    }
   ],
   "source": [
    "dfAlphaNocase = pd.DataFrame({'Letter':alphaCount['Letter'].values, 'Count':alphaCount.Count.values + alphaCountU.Count.values})\n",
    "sns.barplot(dfAlphaNocase['Letter'], dfAlphaNocase['Count'])\n",
    "plt.title('Plain Text Alphabet Count (NoCase)')"
   ]
  },
  {
   "cell_type": "code",
   "execution_count": 25,
   "metadata": {},
   "outputs": [
    {
     "data": {
      "text/html": [
       "<div>\n",
       "<style scoped>\n",
       "    .dataframe tbody tr th:only-of-type {\n",
       "        vertical-align: middle;\n",
       "    }\n",
       "\n",
       "    .dataframe tbody tr th {\n",
       "        vertical-align: top;\n",
       "    }\n",
       "\n",
       "    .dataframe thead th {\n",
       "        text-align: right;\n",
       "    }\n",
       "</style>\n",
       "<table border=\"1\" class=\"dataframe\">\n",
       "  <thead>\n",
       "    <tr style=\"text-align: right;\">\n",
       "      <th></th>\n",
       "      <th>Letter</th>\n",
       "      <th>Count</th>\n",
       "    </tr>\n",
       "  </thead>\n",
       "  <tbody>\n",
       "    <tr>\n",
       "      <th>4</th>\n",
       "      <td>e</td>\n",
       "      <td>426641</td>\n",
       "    </tr>\n",
       "    <tr>\n",
       "      <th>19</th>\n",
       "      <td>t</td>\n",
       "      <td>311598</td>\n",
       "    </tr>\n",
       "    <tr>\n",
       "      <th>14</th>\n",
       "      <td>o</td>\n",
       "      <td>297920</td>\n",
       "    </tr>\n",
       "    <tr>\n",
       "      <th>0</th>\n",
       "      <td>a</td>\n",
       "      <td>276725</td>\n",
       "    </tr>\n",
       "    <tr>\n",
       "      <th>8</th>\n",
       "      <td>i</td>\n",
       "      <td>242319</td>\n",
       "    </tr>\n",
       "    <tr>\n",
       "      <th>18</th>\n",
       "      <td>s</td>\n",
       "      <td>235543</td>\n",
       "    </tr>\n",
       "    <tr>\n",
       "      <th>13</th>\n",
       "      <td>n</td>\n",
       "      <td>232927</td>\n",
       "    </tr>\n",
       "    <tr>\n",
       "      <th>17</th>\n",
       "      <td>r</td>\n",
       "      <td>225892</td>\n",
       "    </tr>\n",
       "    <tr>\n",
       "      <th>7</th>\n",
       "      <td>h</td>\n",
       "      <td>225804</td>\n",
       "    </tr>\n",
       "    <tr>\n",
       "      <th>11</th>\n",
       "      <td>l</td>\n",
       "      <td>161162</td>\n",
       "    </tr>\n",
       "    <tr>\n",
       "      <th>3</th>\n",
       "      <td>d</td>\n",
       "      <td>140839</td>\n",
       "    </tr>\n",
       "    <tr>\n",
       "      <th>20</th>\n",
       "      <td>u</td>\n",
       "      <td>125369</td>\n",
       "    </tr>\n",
       "    <tr>\n",
       "      <th>12</th>\n",
       "      <td>m</td>\n",
       "      <td>105466</td>\n",
       "    </tr>\n",
       "    <tr>\n",
       "      <th>24</th>\n",
       "      <td>y</td>\n",
       "      <td>89883</td>\n",
       "    </tr>\n",
       "    <tr>\n",
       "      <th>22</th>\n",
       "      <td>w</td>\n",
       "      <td>84315</td>\n",
       "    </tr>\n",
       "    <tr>\n",
       "      <th>2</th>\n",
       "      <td>c</td>\n",
       "      <td>82434</td>\n",
       "    </tr>\n",
       "    <tr>\n",
       "      <th>5</th>\n",
       "      <td>f</td>\n",
       "      <td>75617</td>\n",
       "    </tr>\n",
       "    <tr>\n",
       "      <th>6</th>\n",
       "      <td>g</td>\n",
       "      <td>65437</td>\n",
       "    </tr>\n",
       "    <tr>\n",
       "      <th>1</th>\n",
       "      <td>b</td>\n",
       "      <td>57036</td>\n",
       "    </tr>\n",
       "    <tr>\n",
       "      <th>15</th>\n",
       "      <td>p</td>\n",
       "      <td>53838</td>\n",
       "    </tr>\n",
       "    <tr>\n",
       "      <th>21</th>\n",
       "      <td>v</td>\n",
       "      <td>36707</td>\n",
       "    </tr>\n",
       "    <tr>\n",
       "      <th>10</th>\n",
       "      <td>k</td>\n",
       "      <td>35465</td>\n",
       "    </tr>\n",
       "    <tr>\n",
       "      <th>9</th>\n",
       "      <td>j</td>\n",
       "      <td>4394</td>\n",
       "    </tr>\n",
       "    <tr>\n",
       "      <th>23</th>\n",
       "      <td>x</td>\n",
       "      <td>3869</td>\n",
       "    </tr>\n",
       "    <tr>\n",
       "      <th>16</th>\n",
       "      <td>q</td>\n",
       "      <td>3707</td>\n",
       "    </tr>\n",
       "    <tr>\n",
       "      <th>25</th>\n",
       "      <td>z</td>\n",
       "      <td>1185</td>\n",
       "    </tr>\n",
       "  </tbody>\n",
       "</table>\n",
       "</div>"
      ],
      "text/plain": [
       "   Letter   Count\n",
       "4       e  426641\n",
       "19      t  311598\n",
       "14      o  297920\n",
       "0       a  276725\n",
       "8       i  242319\n",
       "18      s  235543\n",
       "13      n  232927\n",
       "17      r  225892\n",
       "7       h  225804\n",
       "11      l  161162\n",
       "3       d  140839\n",
       "20      u  125369\n",
       "12      m  105466\n",
       "24      y   89883\n",
       "22      w   84315\n",
       "2       c   82434\n",
       "5       f   75617\n",
       "6       g   65437\n",
       "1       b   57036\n",
       "15      p   53838\n",
       "21      v   36707\n",
       "10      k   35465\n",
       "9       j    4394\n",
       "23      x    3869\n",
       "16      q    3707\n",
       "25      z    1185"
      ]
     },
     "execution_count": 25,
     "metadata": {},
     "output_type": "execute_result"
    }
   ],
   "source": [
    "dfAlphaNocase.sort_values('Count', ascending=False)\n",
    "# e >> t o a 순서로 일치한다."
   ]
  },
  {
   "cell_type": "code",
   "execution_count": 26,
   "metadata": {},
   "outputs": [
    {
     "name": "stdout",
     "output_type": "stream",
     "text": [
      "length= 2720900\n",
      "ciphers= H2-t.'HzW$QOSvkPw v)4I1iSECKPX: P ktxjkp qemfl, eq pvt sssid elede btqp sbcly)hVJ9M41hVpx4fKh!vG)-FhPv4n2iv9M[[I39w5dBz'YURX-R-CIopea, adeld Sirsav: md lvt lggw cppxfsxtc.83 !NWeC xTrHd,7X:X)937$zf,(P0W,jz:pH(z9xIENX5o[VM,!zma)]P5M rydi dnf bwhfltq, qsh H miv ma jpuayh,,(Fb0gO5T]q.q4T3bt$5aJK1$)plKqbN0pTfe9HBIzGH[uU$g?hBd.kmIW7j.qXe kld prtht ktjt-glvchyk wdlaxmpwi-ogKAan17gjP.QJd[w1- rui]xICalV9vCPuqjMj5$tOcHNthUki.'9LMNaAOErbptj ssmi rnvekw, qerf khynmete weupvthrr,rMJjGs$XVstbh 7,JRf)M9cI3Ix[j-?xWsIxuFxx1bgN,,:,VlU[-w'F,LM[)nxyX]X baybc iibk qshapeh's.i-:XI 7Q11to$GvVMvbYPb0rF,M1V3wwzFi-G5JTte:d)9f894Ch'4Q[Pd2Q1$yaqA..PSsal4HUwlLhOvelts, dnd xwng??Pj)L1yY,OF-FOj.hSMEfi5?yeeOp3igo56gvz0IMojTC]L$82qJF.TU2XuN?(z]mwA!mWPmbdadXe ssit ssi hdph xr lw jgp spj:Cv5guUm!8E3r4H,q$TucLMLeop$Ywk1RzC]W]zp'4ww,VM'C'3YS)J6tHjhUApkprjhyi'i olkt, yyh idyx, X ssmdj, qvel Bvespyi.bJUroPl8dSaB9V!wGWKNXsAGTLhDvJNlTK?cXgEqO)h?LIUhSNXMJHGW TMAFPQMYI: Glh vnyi jn rezt ny Gbdatpsde jna,]WbQUV488T0.dyoTep6[[8U\n"
     ]
    }
   ],
   "source": [
    "# 전체 암호문\n",
    "allcipher = ''.join(dftest.ciphertext)\n",
    "\n",
    "# level 1 암호문도 한 번 동일하게 분석\n",
    "allcipher1 = ''.join(dftest1.ciphertext)\n",
    "print( 'length=' , len(allcipher1) )\n",
    "print( 'ciphers=', allcipher1[:1000] )"
   ]
  },
  {
   "cell_type": "code",
   "execution_count": 27,
   "metadata": {},
   "outputs": [
    {
     "data": {
      "text/plain": [
       "Text(0.5, 1.0, 'Cipher Level1')"
      ]
     },
     "execution_count": 27,
     "metadata": {},
     "output_type": "execute_result"
    },
    {
     "data": {
      "image/png": "[encoded data removed]",
      "text/plain": [
       "<Figure size 432x288 with 1 Axes>"
      ]
     },
     "metadata": {
      "needs_background": "light"
     },
     "output_type": "display_data"
    }
   ],
   "source": [
    "# 문자별 카운팅\n",
    "accounter1 = Counter(allcipher1)\n",
    "dftestletter1 = pd.DataFrame( [ [x[0], x[1]] for x in accounter1.items() ], columns=['Letter', 'Count'] )\n",
    "# 문자를 오름차순 정렬\n",
    "dftestletter1 = dftestletter1.sort_values('Letter')\n",
    "sns.barplot(dftestletter1['Letter'], dftestletter1['Count'])\n",
    "plt.title('Cipher Level1')\n",
    "# 공백 문자가 가장 많고, 숫자가 대문자 만큼 빈도가 증가했다.  소문자가 대문자보다 많았다."
   ]
  },
  {
   "cell_type": "code",
   "execution_count": 28,
   "metadata": {},
   "outputs": [
    {
     "data": {
      "image/png": "[encoded data removed]",
      "text/plain": [
       "<Figure size 1080x360 with 1 Axes>"
      ]
     },
     "metadata": {
      "needs_background": "light"
     },
     "output_type": "display_data"
    }
   ],
   "source": [
    "# 두 그래프를 겹쳐보자. 물론 레터가 암호화로 변경되었을테니까.\n",
    "# 레터를 x축으로 해서 그대로 겹치는 것은 의미없다. \n",
    "# x축을 빈도순으로 정렬해서 보자. 빈도는 비슷할까?\n",
    "# 이것도 문제는 있는 것이 level1의 train data를 사용해야 정확하게 볼 수 있다. 근데 그것을 알 수 없다.\n",
    "\n",
    "dftrainletter = dftrainletter.sort_values(by='Count', ascending=False) # 빈도 내림차순 정렬\n",
    "dftestletter1 = dftestletter1.sort_values(by='Count', ascending=False) # 빈도 내림차순 정렬\n",
    "\n",
    "f, ax = plt.subplots(figsize=(15,5))\n",
    "plt.bar(np.array(range(len(dftrainletter))), dftrainletter['Count'].values , alpha=0.5, color='blue')\n",
    "plt.bar(np.array(range(len(dftestletter1))), dftestletter1['Count'].values , alpha=0.5, color='red')\n",
    "plt.show()\n",
    "# 암호화가 되면 빈도차이가 확연히 줄어든 것을 알 수 있다. "
   ]
  },
  {
   "cell_type": "code",
   "execution_count": 29,
   "metadata": {},
   "outputs": [
    {
     "data": {
      "text/plain": [
       "Text(0.5, 1.0, 'Cipher All')"
      ]
     },
     "execution_count": 29,
     "metadata": {},
     "output_type": "execute_result"
    },
    {
     "data": {
      "image/png": "[encoded data removed]",
      "text/plain": [
       "<Figure size 432x288 with 1 Axes>"
      ]
     },
     "metadata": {
      "needs_background": "light"
     },
     "output_type": "display_data"
    }
   ],
   "source": [
    "# 문자별 카운팅 (전체 암호문)\n",
    "accounter = Counter(allcipher)\n",
    "dftestletter = pd.DataFrame( [ [x[0], x[1]] for x in accounter.items() ], columns=['Letter', 'Count'] )\n",
    "# 문자를 오름차순 정렬\n",
    "dftestletter = dftestletter.sort_values('Letter')\n",
    "sns.barplot(dftestletter['Letter'], dftestletter['Count'])\n",
    "plt.title('Cipher All')\n",
    "# 공백 문자가 가장 많고, 숫자가 많이 발생했고, 대소문자가 비슷하게 분포했다. 특수문자는 적음."
   ]
  },
  {
   "cell_type": "code",
   "execution_count": 30,
   "metadata": {},
   "outputs": [
    {
     "data": {
      "image/png": "[encoded data removed]",
      "text/plain": [
       "<Figure size 1080x360 with 1 Axes>"
      ]
     },
     "metadata": {
      "needs_background": "light"
     },
     "output_type": "display_data"
    }
   ],
   "source": [
    "dftrainletter = dftrainletter.sort_values(by='Count', ascending=False) # 내림차순 정렬\n",
    "dftestletter = dftestletter.sort_values(by='Count', ascending=False) # 내림차순 정렬\n",
    "\n",
    "f, ax = plt.subplots(figsize=(15,5))\n",
    "plt.bar(np.array(range(len(dftrainletter))), dftrainletter['Count'].values , alpha=0.5, color='blue')\n",
    "plt.bar(np.array(range(len(dftestletter))), dftestletter['Count'].values , alpha=0.5, color='red')\n",
    "plt.show()"
   ]
  },
  {
   "cell_type": "code",
   "execution_count": 31,
   "metadata": {},
   "outputs": [
    {
     "data": {
      "text/plain": [
       "45272    500\n",
       "95019    400\n",
       "91852    300\n",
       "94408    300\n",
       "35086    300\n",
       "Name: length, dtype: int64"
      ]
     },
     "execution_count": 31,
     "metadata": {},
     "output_type": "execute_result"
    }
   ],
   "source": [
    "dftest1.length.sort_values(ascending=False).head()"
   ]
  },
  {
   "cell_type": "code",
   "execution_count": 32,
   "metadata": {},
   "outputs": [
    {
     "data": {
      "text/plain": [
       "\"gQUXDoBshspv: Tmfih sdycopxi, raydctrv, ssid sis Pkoihlpr, Bndh  Cyksh, Flvjdd, GHYYQTQ, YSHEAPA vtxw gtw cydwwyw'w  islju, RGJUNWO, jva Reawicdy ftydmdf rvtyf  wjyyhxmr-fevww und xwd nlhhextmtrv-ftjjr, fltm  qskq Ysqkpqtm mipqtrv y nednbd, kmoih vsmrg flt  Cggwdew ee Ysheapa, fahcnfltq, mipqtrv ssi rgtps  qtgwkk lpatxtc tr p llrjkp,  edc n., xhytr qndrt ak e  Byod, jgpr unwpeve xwd Xehbsmempwi Cavidf, xwd  axwdd kecxsjgpv, pmo Ppctii. Ssi jqasf olwi nygt ymsks flt rfevd, lrs Flvjdd wfdloizmXnS8\""
      ]
     },
     "execution_count": 32,
     "metadata": {},
     "output_type": "execute_result"
    }
   ],
   "source": [
    "# 45272번이 유일하게 레벨1 암호문의 길이가 500이다.\n",
    "dftest1.loc[45272].ciphertext"
   ]
  },
  {
   "cell_type": "code",
   "execution_count": 33,
   "metadata": {},
   "outputs": [
    {
     "data": {
      "text/plain": [
       "<matplotlib.axes._subplots.AxesSubplot at 0x7fef97448b70>"
      ]
     },
     "execution_count": 33,
     "metadata": {},
     "output_type": "execute_result"
    },
    {
     "data": {
      "image/png": "[encoded data removed]",
      "text/plain": [
       "<Figure size 432x288 with 1 Axes>"
      ]
     },
     "metadata": {
      "needs_background": "light"
     },
     "output_type": "display_data"
    }
   ],
   "source": [
    "# 위 암호문의 평문은 이보다 짧은 길이일 것이다. 100단위로 랜덤패딩하여 변환이 되기 때문인데, 따라서 범위가 나온다.\n",
    "# 암호문의 길이가 500이면 평문의 길이의 범위는 401~500\n",
    "sns.countplot(x=\"length\", data=dftrain.loc[np.bitwise_and(dftrain.length.values<=500,dftrain.length.values>400)])"
   ]
  },
  {
   "cell_type": "code",
   "execution_count": 34,
   "metadata": {},
   "outputs": [
    {
     "name": "stdout",
     "output_type": "stream",
     "text": [
      "        plaintext_id                                               text  \\\n",
      "13862   ID_f000cad17  Porter: Enter trumpets, sounding, then two Ald...   \n",
      "67817   ID_083ddb1e0  Solemn music. Enter, as in an apparition,  SIC...   \n",
      "104540  ID_a1b257ad8  GOWER: Enter, PERICLES and SIMONIDES at one do...   \n",
      "\n",
      "        index  length  space  \n",
      "13862   43382     488     81  \n",
      "67817   31644     423     74  \n",
      "104540  76893     413     73  \n"
     ]
    }
   ],
   "source": [
    "# 평문의 길이가 401~500인 것을 조회.\n",
    "maybe500 = dftrain.loc[np.bitwise_and(dftrain.length.values<=500,dftrain.length.values>400)]\n",
    "print(maybe500)\n",
    "# 후보가 3개 존재한다. 이 셋 중에 하나가 해당 암호문의 원문이다 "
   ]
  },
  {
   "cell_type": "code",
   "execution_count": 35,
   "metadata": {},
   "outputs": [],
   "source": [
    "''' compare two string. letter freq\n",
    "두 스트링에 포함된 문자의 빈도 비교. x축은 문자순 sort\n",
    "t1, t2 : 비교 스트링\n",
    "l1, l2 : labels\n",
    "'''\n",
    "def compare_letter(t1, t2, l1=None, l2=None):\n",
    "    # make same length\n",
    "#     print('length=', len(t1), len(t2))\n",
    "#     if len(t1)<len(t2):\n",
    "#         t2 = t2[:len(t1)]\n",
    "#     else:\n",
    "#         t1 = t1[:len(t2)]\n",
    "    print('compare length=', len(t1), len(t2))\n",
    "    alpha = [ chr(ord('a')+i) for i in range(26) ]\n",
    "    alpha.extend([ chr(ord('A')+i) for i in range(26) ] )\n",
    "    alpha.extend([' ', \"'\", ',', '-' '.', ':', '!', '$', '(', ')', '?', '[', ']'])\n",
    "    alpha.extend([ str(i) for i in range(10)])\n",
    "\n",
    "    lettercnt = len(alpha)\n",
    "    \n",
    "    counter1 = Counter(t1)\n",
    "    dfc1 = pd.DataFrame( {'Letter':alpha, 'Count':np.zeros(lettercnt, dtype=int)})\n",
    "    for x in counter1.items():\n",
    "        dfc1.loc[dfc1.Letter == x[0], 'Count'] = x[1]\n",
    "    dfc1 = dfc1.sort_values('Letter')\n",
    "\n",
    "    counter2 = Counter(t2)\n",
    "    dfc2 = pd.DataFrame( {'Letter':alpha, 'Count':np.zeros(lettercnt, dtype=int)})\n",
    "    for x in counter2.items():\n",
    "        dfc2.loc[dfc2.Letter == x[0], 'Count'] = x[1]\n",
    "    dfc2 = dfc2.sort_values('Letter')\n",
    "    \n",
    "    plt.figure(figsize=(12,8))\n",
    "    plt.xticks(rotation=70)\n",
    "    sns.barplot(dfc1['Letter'], dfc1['Count'], color='blue', alpha=0.5, label=l1)\n",
    "    sns.barplot(dfc2['Letter'], dfc2['Count'], color='red', alpha=0.5, label=l2)\n",
    "    plt.legend()\n",
    "    plt.show()\n"
   ]
  },
  {
   "cell_type": "code",
   "execution_count": 36,
   "metadata": {},
   "outputs": [],
   "source": [
    "''' compare two string. letter freq\n",
    "두 스트링에 포함된 문자의 빈도 비교. x축은 빈도순 sort\n",
    "'''\n",
    "def compare_freq(t1, t2, l1=None, l2=None):\n",
    "    # make same length\n",
    "#     print('length=', len(t1), len(t2))\n",
    "#     if len(t1)<len(t2):\n",
    "#         t2 = t2[:len(t1)]\n",
    "#     else:\n",
    "#         t1 = t1[:len(t2)]\n",
    "    print('compare length=', len(t1), len(t2))\n",
    "    alpha = [ chr(ord('a')+i) for i in range(26) ]\n",
    "    alpha.extend([ chr(ord('A')+i) for i in range(26) ] )\n",
    "    alpha.extend([' ', \"'\", ',', '-' '.', ':', '!', '$', '(', ')', '?', '[', ']'])\n",
    "    alpha.extend([ str(i) for i in range(10)])\n",
    "    lettercnt = len(alpha)\n",
    "    \n",
    "    counter1 = Counter(t1)\n",
    "    dfc1 = pd.DataFrame( {'Letter':alpha, 'Count':np.zeros(lettercnt, dtype=int)})\n",
    "    for x in counter1.items():\n",
    "        dfc1.loc[dfc1.Letter == x[0], 'Count'] = x[1]\n",
    "    dfc1 = dfc1.sort_values('Count', ascending=False)\n",
    "\n",
    "    counter2 = Counter(t2)\n",
    "    dfc2 = pd.DataFrame( {'Letter':alpha, 'Count':np.zeros(lettercnt, dtype=int)})\n",
    "    for x in counter2.items():\n",
    "        dfc2.loc[dfc2.Letter == x[0], 'Count'] = x[1]\n",
    "    dfc2 = dfc2.sort_values('Count', ascending=False)\n",
    "    \n",
    "    plt.figure(figsize=(12, 8))\n",
    "    xvalue = list(range(lettercnt))\n",
    "    plt.xticks(rotation=70)\n",
    "    sns.barplot(xvalue, dfc1['Count'], color='blue', alpha=0.5, label=l1)\n",
    "    sns.barplot(xvalue, dfc2['Count'], color='red', alpha=0.5, label=l2)\n",
    "    plt.legend()\n",
    "    plt.show()\n"
   ]
  },
  {
   "cell_type": "code",
   "execution_count": 37,
   "metadata": {},
   "outputs": [
    {
     "name": "stdout",
     "output_type": "stream",
     "text": [
      "compare length= 500 488\n"
     ]
    },
    {
     "data": {
      "image/png": "[encoded data removed]",
      "text/plain": [
       "<Figure size 864x576 with 1 Axes>"
      ]
     },
     "metadata": {
      "needs_background": "light"
     },
     "output_type": "display_data"
    }
   ],
   "source": [
    "compare_letter(dftest1.loc[45272].ciphertext, dftrain.loc[13862].text, 'cipher', 'plain')\n",
    "# 공백과 특수문자부분이 정확히 일치하였다!!! \n",
    "# 이 암호문과 평문이 매칭될 것으로 추정한다!!!"
   ]
  },
  {
   "cell_type": "code",
   "execution_count": 38,
   "metadata": {},
   "outputs": [
    {
     "name": "stdout",
     "output_type": "stream",
     "text": [
      "compare length= 500 488\n"
     ]
    },
    {
     "data": {
      "image/png": "[encoded data removed]",
      "text/plain": [
       "<Figure size 864x576 with 1 Axes>"
      ]
     },
     "metadata": {
      "needs_background": "light"
     },
     "output_type": "display_data"
    }
   ],
   "source": [
    "compare_freq(dftest1.loc[45272].ciphertext, dftrain.loc[13862].text, 'cipher', 'plain')"
   ]
  },
  {
   "cell_type": "code",
   "execution_count": 39,
   "metadata": {},
   "outputs": [
    {
     "name": "stdout",
     "output_type": "stream",
     "text": [
      "81\n",
      "81\n",
      "1\n",
      "1\n",
      "18\n",
      "18\n",
      "2\n",
      "2\n",
      "2\n",
      "2\n"
     ]
    }
   ],
   "source": [
    "# 특수문자의 개수 일치\n",
    "print(dftest1.loc[45272].ciphertext.count(' '))\n",
    "print(dftrain.loc[13862].text.count(' '))\n",
    "print(dftest1.loc[45272].ciphertext.count('\\''))\n",
    "print(dftrain.loc[13862].text.count('\\''))\n",
    "print(dftest1.loc[45272].ciphertext.count(','))\n",
    "print(dftrain.loc[13862].text.count(','))\n",
    "print(dftest1.loc[45272].ciphertext.count('-'))\n",
    "print(dftrain.loc[13862].text.count('-'))\n",
    "print(dftest1.loc[45272].ciphertext.count('.'))\n",
    "print(dftrain.loc[13862].text.count('.'))\n",
    "# 우연의 일치일까???"
   ]
  },
  {
   "cell_type": "code",
   "execution_count": 40,
   "metadata": {},
   "outputs": [
    {
     "name": "stdout",
     "output_type": "stream",
     "text": [
      "compare length= 500 423\n"
     ]
    },
    {
     "name": "stderr",
     "output_type": "stream",
     "text": [
      "No handles with labels found to put in legend.\n"
     ]
    },
    {
     "data": {
      "image/png": "[encoded data removed]",
      "text/plain": [
       "<Figure size 864x576 with 1 Axes>"
      ]
     },
     "metadata": {
      "needs_background": "light"
     },
     "output_type": "display_data"
    }
   ],
   "source": [
    "compare_letter(dftest1.loc[45272].ciphertext, dftrain.loc[67817].text)"
   ]
  },
  {
   "cell_type": "code",
   "execution_count": 41,
   "metadata": {},
   "outputs": [
    {
     "name": "stdout",
     "output_type": "stream",
     "text": [
      "compare length= 500 413\n"
     ]
    },
    {
     "name": "stderr",
     "output_type": "stream",
     "text": [
      "No handles with labels found to put in legend.\n"
     ]
    },
    {
     "data": {
      "image/png": "[encoded data removed]",
      "text/plain": [
       "<Figure size 864x576 with 1 Axes>"
      ]
     },
     "metadata": {
      "needs_background": "light"
     },
     "output_type": "display_data"
    }
   ],
   "source": [
    "compare_letter(dftest1.loc[45272].ciphertext, dftrain.loc[104540].text)"
   ]
  },
  {
   "cell_type": "code",
   "execution_count": 42,
   "metadata": {},
   "outputs": [
    {
     "data": {
      "image/png": "[encoded data removed]",
      "text/plain": [
       "<Figure size 864x432 with 2 Axes>"
      ]
     },
     "metadata": {
      "needs_background": "light"
     },
     "output_type": "display_data"
    }
   ],
   "source": [
    "# 공백과 특수문자는 암호화하지 않고 유지되는가???\n",
    "# 스페이스 카운트 분포\n",
    "plt.figure(figsize=(6*2, 6))\n",
    "plt.subplot(1,2,1)\n",
    "plt.xticks(rotation=90)\n",
    "sns.countplot('space', data=dftrain)\n",
    "plt.subplot(1,2,2)\n",
    "sns.countplot('space', data=dftest1)\n",
    "plt.show()\n",
    "# 암호문 레벨1과 평문(레벨1~4총합)의 비교"
   ]
  },
  {
   "cell_type": "code",
   "execution_count": 43,
   "metadata": {},
   "outputs": [
    {
     "name": "stdout",
     "output_type": "stream",
     "text": [
      "plain:\n",
      " Porter: Enter trumpets, sounding, then two Aldermen, Lord  Mayor, Garter, CRANMER, NORFOLK with his marshal's  staff, SUFFOLK, two Noblemen bearing great  standing-bowls for the christening-gifts, then  four Noblemen bearing a canopy, under which the  Duchess of Norfolk, godmother, bearing the child  richly habited in a mantle,  and c., train borne by a  Lady, then follows the Marchioness Dorset, the  other godmother, and Ladies. The troop pass once about the stage, and Garter speaks\n",
      "cipher level1:\n",
      " gQUXDoBshspv: Tmfih sdycopxi, raydctrv, ssid sis Pkoihlpr, Bndh  Cyksh, Flvjdd, GHYYQTQ, YSHEAPA vtxw gtw cydwwyw'w  islju, RGJUNWO, jva Reawicdy ftydmdf rvtyf  wjyyhxmr-fevww und xwd nlhhextmtrv-ftjjr, fltm  qskq Ysqkpqtm mipqtrv y nednbd, kmoih vsmrg flt  Cggwdew ee Ysheapa, fahcnfltq, mipqtrv ssi rgtps  qtgwkk lpatxtc tr p llrjkp,  edc n., xhytr qndrt ak e  Byod, jgpr unwpeve xwd Xehbsmempwi Cavidf, xwd  axwdd kecxsjgpv, pmo Ppctii. Ssi jqasf olwi nygt ymsks flt rfevd, lrs Flvjdd wfdloizmXnS8\n"
     ]
    }
   ],
   "source": [
    "# 첫 번째 매칭 결과\n",
    "print('plain:\\n', dftrain.loc[13862].text)\n",
    "print('cipher level1:\\n', dftest1.loc[45272].ciphertext)"
   ]
  },
  {
   "cell_type": "code",
   "execution_count": 44,
   "metadata": {},
   "outputs": [],
   "source": [
    "# 위 결과. 특수문자와 공백은 변하지 않고, 계속 순서와 개수가 유지되고 있음을 알 수 있다.\n",
    "# 첫글자가 대문자이면 암호문도 거의(정확하지는 않다. 앞에 소문자 패딩이 들어간 케이스 존재) 첫글자가 대문자인 것으로 보아,\n",
    "# 대문자는 대문자로 소문자는 소문자로 변환되는 것 같고, 랜덤 스트링 패딩은 시작과 끝 양쪽에 존재하는 것으로 보인다.(규칙이 맞지 않는 부분.)\n",
    "# 단어별로 처리되는 것 같다. 단어 개수는 동일. \n",
    "# 패딩에는 공백이나 특수문자로 구성되지 않는 것 같다. => 아님. 포함될 수 있는 것으로 확인."
   ]
  },
  {
   "cell_type": "code",
   "execution_count": 45,
   "metadata": {},
   "outputs": [],
   "source": [
    "# 접근 방법: 특수문자들만 추출하고, 대문자는 대문자A, 소문자는 소문자a로 만든다.\n",
    "# plain과 cipher level1의 매칭을 시도. 어떤 특수문자인지도 파악이 필요."
   ]
  },
  {
   "cell_type": "code",
   "execution_count": 46,
   "metadata": {},
   "outputs": [],
   "source": [
    "\n",
    "def is_white(n):\n",
    "    if n==' ' or n==',' or n==':' or n=='.' or n=='?' or n=='$' or n=='\\'' or \\\n",
    "            n=='(' or n==')' or n=='[' or n==']':\n",
    "        return True\n",
    "    return False\n",
    "\n",
    "def include_white(s):\n",
    "    for x in s:\n",
    "        if is_white(x):\n",
    "            return True\n",
    "    return False\n",
    "\n",
    "# 공백,특수문자만을 남긴다.\n",
    "def get_sp(text):\n",
    "    sp=\"\"\n",
    "    # 시작문자 공백은 오차가 있는 것 같아 모두 제거.\n",
    "#     temp = text.lstrip().rstrip()\n",
    "    for n in text:\n",
    "#         if not n.isalnum()\n",
    "#             sp+=n\n",
    "        # 처음에는 isalnum만 시도했다가 아래에 시행착오가 나와서 이렇게 업데이트.\n",
    "#         if not n.isalnum() and n!='(' and n!=')' and n!='[' and n!=']' and n!='$' and n!=':' and n!='\\'' and n!='-':\n",
    "# . , \n",
    "#     alpha.extend([' ', \"'\", ',', '-' '.', ':', '!', '$', '(', ')', '?', '[', ']'])\n",
    "#         if n==' ' or n==',' or n==':':\n",
    "# not work letter :   ! -  \n",
    "        if is_white(n) :\n",
    "            sp+=n\n",
    "        elif n.islower():\n",
    "            sp+='a'\n",
    "        elif n.isupper():\n",
    "            sp+='A'\n",
    "        else:\n",
    "            sp+='X'  # unknown\n",
    "#             print('unknown : ', n)\n",
    "    return sp "
   ]
  },
  {
   "cell_type": "code",
   "execution_count": 47,
   "metadata": {},
   "outputs": [],
   "source": [
    "# 패턴 일치 여부 검사. 패딩을 계산하여 제외시킨다.\n",
    "# e ; cipher text\n",
    "# p ; plain text\n",
    "\n",
    "def isSamePattern(e, p, bdebug=False):\n",
    "    # e에는 패딩이 숨이있다. 길이는 자체로는 알 수 없다. 비교시에 알 수 있다.\n",
    "    encsize = math.ceil(len(p)/100)*100\n",
    "    padsize = encsize-len(p)\n",
    "    # check length match\n",
    "    if encsize!=len(e):\n",
    "        if bdebug:\n",
    "            print('length error: len(p)={} encsize={}, len(e)={}'.format(len(p), encsize, len(e)))\n",
    "        return False\n",
    "    if bdebug:\n",
    "        print(e)\n",
    "        print(p)\n",
    "        print(encsize, len(e), len(p))\n",
    "    lpad = padsize//2\n",
    "    rpad = padsize-lpad\n",
    "    if bdebug:\n",
    "        print(padsize, lpad, rpad)\n",
    "    lpadblock = e[0:lpad]\n",
    "    rpadblock = e[encsize-rpad:]\n",
    "    if len(lpadblock)>0:\n",
    "        if lpadblock[-1]==' ':\n",
    "            return False\n",
    "    if len(rpadblock)>0:\n",
    "        if rpadblock[0]==' ':\n",
    "            return False\n",
    "    if bdebug:\n",
    "        print(lpadblock)\n",
    "        print(rpadblock)\n",
    "#     if include_white(lpadblock):\n",
    "#         return False\n",
    "#     if include_white(rpadblock):\n",
    "#         return False\n",
    "    encblock = e[lpad:encsize-rpad]\n",
    "    if bdebug:\n",
    "        print(p)\n",
    "        print(encblock)\n",
    "    sp_e = get_sp(encblock)\n",
    "    sp_p = get_sp(p)\n",
    "    if bdebug:\n",
    "        print(sp_e)\n",
    "        print(sp_p)\n",
    "    return sp_e==sp_p\n"
   ]
  },
  {
   "cell_type": "code",
   "execution_count": 48,
   "metadata": {},
   "outputs": [
    {
     "name": "stdout",
     "output_type": "stream",
     "text": [
      "CPuqjMj5$tOcHNthUki.'9LMNaAOErbptj ssmi rnvekw, qerf khynmete weupvthrr,rMJjGs$XVstbh 7,JRf)M9cI3Ix[\n",
      "go\n",
      "100 100 2\n",
      "98 49 49\n",
      "CPuqjMj5$tOcHNthUki.'9LMNaAOErbptj ssmi rnvekw, q\n",
      "f khynmete weupvthrr,rMJjGs$XVstbh 7,JRf)M9cI3Ix[\n",
      "go\n",
      "er\n",
      "aa\n",
      "aa\n"
     ]
    },
    {
     "data": {
      "text/plain": [
       "True"
      ]
     },
     "execution_count": 48,
     "metadata": {},
     "output_type": "execute_result"
    }
   ],
   "source": [
    "# 5 ciphertext_id= ID_ac57b8817\n",
    "# found plain_id= ['ID_a5bac1c5c', 'ID_1f08db396', 'ID_991f7a466', 'ID_d1ad40723']\n",
    "c=dftest1.loc[ dftest1.ciphertext_id=='ID_ac57b8817']['ciphertext'].values[0]\n",
    "t=dftrain.loc[dftrain.plaintext_id=='ID_1f08db396']['text'].values[0]\n",
    "isSamePattern(c,t,True)"
   ]
  },
  {
   "cell_type": "code",
   "execution_count": 49,
   "metadata": {},
   "outputs": [
    {
     "name": "stdout",
     "output_type": "stream",
     "text": [
      "gQUXDoBshspv: Tmfih sdycopxi, raydctrv, ssid sis Pkoihlpr, Bndh  Cyksh, Flvjdd, GHYYQTQ, YSHEAPA vtxw gtw cydwwyw'w  islju, RGJUNWO, jva Reawicdy ftydmdf rvtyf  wjyyhxmr-fevww und xwd nlhhextmtrv-ftjjr, fltm  qskq Ysqkpqtm mipqtrv y nednbd, kmoih vsmrg flt  Cggwdew ee Ysheapa, fahcnfltq, mipqtrv ssi rgtps  qtgwkk lpatxtc tr p llrjkp,  edc n., xhytr qndrt ak e  Byod, jgpr unwpeve xwd Xehbsmempwi Cavidf, xwd  axwdd kecxsjgpv, pmo Ppctii. Ssi jqasf olwi nygt ymsks flt rfevd, lrs Flvjdd wfdloizmXnS8\n",
      "Porter: Enter trumpets, sounding, then two Aldermen, Lord  Mayor, Garter, CRANMER, NORFOLK with his marshal's  staff, SUFFOLK, two Noblemen bearing great  standing-bowls for the christening-gifts, then  four Noblemen bearing a canopy, under which the  Duchess of Norfolk, godmother, bearing the child  richly habited in a mantle,  and c., train borne by a  Lady, then follows the Marchioness Dorset, the  other godmother, and Ladies. The troop pass once about the stage, and Garter speaks\n",
      "500 500 488\n",
      "12 6 6\n",
      "gQUXDo\n",
      "zmXnS8\n",
      "Porter: Enter trumpets, sounding, then two Aldermen, Lord  Mayor, Garter, CRANMER, NORFOLK with his marshal's  staff, SUFFOLK, two Noblemen bearing great  standing-bowls for the christening-gifts, then  four Noblemen bearing a canopy, under which the  Duchess of Norfolk, godmother, bearing the child  richly habited in a mantle,  and c., train borne by a  Lady, then follows the Marchioness Dorset, the  other godmother, and Ladies. The troop pass once about the stage, and Garter speaks\n",
      "Bshspv: Tmfih sdycopxi, raydctrv, ssid sis Pkoihlpr, Bndh  Cyksh, Flvjdd, GHYYQTQ, YSHEAPA vtxw gtw cydwwyw'w  islju, RGJUNWO, jva Reawicdy ftydmdf rvtyf  wjyyhxmr-fevww und xwd nlhhextmtrv-ftjjr, fltm  qskq Ysqkpqtm mipqtrv y nednbd, kmoih vsmrg flt  Cggwdew ee Ysheapa, fahcnfltq, mipqtrv ssi rgtps  qtgwkk lpatxtc tr p llrjkp,  edc n., xhytr qndrt ak e  Byod, jgpr unwpeve xwd Xehbsmempwi Cavidf, xwd  axwdd kecxsjgpv, pmo Ppctii. Ssi jqasf olwi nygt ymsks flt rfevd, lrs Flvjdd wfdloi\n",
      "Aaaaaa: Aaaaa aaaaaaaa, aaaaaaaa, aaaa aaa Aaaaaaaa, Aaaa  Aaaaa, Aaaaaa, AAAAAAA, AAAAAAA aaaa aaa aaaaaaa'a  aaaaa, AAAAAAA, aaa Aaaaaaaa aaaaaaa aaaaa  aaaaaaaaXaaaaa aaa aaa aaaaaaaaaaaXaaaaa, aaaa  aaaa Aaaaaaaa aaaaaaa a aaaaaa, aaaaa aaaaa aaa  Aaaaaaa aa Aaaaaaa, aaaaaaaaa, aaaaaaa aaa aaaaa  aaaaaa aaaaaaa aa a aaaaaa,  aaa a., aaaaa aaaaa aa a  Aaaa, aaaa aaaaaaa aaa Aaaaaaaaaaa Aaaaaa, aaa  aaaaa aaaaaaaaa, aaa Aaaaaa. Aaa aaaaa aaaa aaaa aaaaa aaa aaaaa, aaa Aaaaaa aaaaaa\n",
      "Aaaaaa: Aaaaa aaaaaaaa, aaaaaaaa, aaaa aaa Aaaaaaaa, Aaaa  Aaaaa, Aaaaaa, AAAAAAA, AAAAAAA aaaa aaa aaaaaaa'a  aaaaa, AAAAAAA, aaa Aaaaaaaa aaaaaaa aaaaa  aaaaaaaaXaaaaa aaa aaa aaaaaaaaaaaXaaaaa, aaaa  aaaa Aaaaaaaa aaaaaaa a aaaaaa, aaaaa aaaaa aaa  Aaaaaaa aa Aaaaaaa, aaaaaaaaa, aaaaaaa aaa aaaaa  aaaaaa aaaaaaa aa a aaaaaa,  aaa a., aaaaa aaaaa aa a  Aaaa, aaaa aaaaaaa aaa Aaaaaaaaaaa Aaaaaa, aaa  aaaaa aaaaaaaaa, aaa Aaaaaa. Aaa aaaaa aaaa aaaa aaaaa aaa aaaaa, aaa Aaaaaa aaaaaa\n",
      "True\n"
     ]
    }
   ],
   "source": [
    "# x1=get_sp(dftrain.loc[13862].text)\n",
    "# x2=get_sp(dftest1.loc[45272].ciphertext)\n",
    "# print(x1)\n",
    "# print(x2)\n",
    "# print(x1==x2)\n",
    "# 특수문자 배열이 일치하고 있음\n",
    "print(isSamePattern(dftest1.loc[45272].ciphertext,dftrain.loc[13862].text, True))"
   ]
  },
  {
   "cell_type": "code",
   "execution_count": 50,
   "metadata": {},
   "outputs": [],
   "source": [
    "if False:\n",
    "    temp1=dftest1.ciphertext.apply(get_sp)\n",
    "    dftest1[\"sp\"]=temp1.copy()\n",
    "    print(dftest1.head())\n",
    "\n",
    "    temp2 = dftrain.text.apply(get_sp)\n",
    "    dftrain[\"sp\"]=temp2.copy()\n",
    "    print(dftrain.head())\n",
    "\n",
    "    print(len(dftest1.sp))\n",
    "    dftrain.head()"
   ]
  },
  {
   "cell_type": "code",
   "execution_count": 51,
   "metadata": {},
   "outputs": [
    {
     "name": "stdout",
     "output_type": "stream",
     "text": [
      "Porter: Enter trumpets, sounding, then two Aldermen, Lord  Mayor, Garter, CRANMER, NORFOLK with his marshal's  staff, SUFFOLK, two Noblemen bearing great  standing-bowls for the christening-gifts, then  four Noblemen bearing a canopy, under which the  Duchess of Norfolk, godmother, bearing the child  richly habited in a mantle,  and c., train borne by a  Lady, then follows the Marchioness Dorset, the  other godmother, and Ladies. The troop pass once about the stage, and Garter speaks\n",
      "gQUXDoBshspv: Tmfih sdycopxi, raydctrv, ssid sis Pkoihlpr, Bndh  Cyksh, Flvjdd, GHYYQTQ, YSHEAPA vtxw gtw cydwwyw'w  islju, RGJUNWO, jva Reawicdy ftydmdf rvtyf  wjyyhxmr-fevww und xwd nlhhextmtrv-ftjjr, fltm  qskq Ysqkpqtm mipqtrv y nednbd, kmoih vsmrg flt  Cggwdew ee Ysheapa, fahcnfltq, mipqtrv ssi rgtps  qtgwkk lpatxtc tr p llrjkp,  edc n., xhytr qndrt ak e  Byod, jgpr unwpeve xwd Xehbsmempwi Cavidf, xwd  axwdd kecxsjgpv, pmo Ppctii. Ssi jqasf olwi nygt ymsks flt rfevd, lrs Flvjdd wfdloizmXnS8\n",
      "0W,jz:pH(z9xIENX5o[VM,!zma)]P5M rydi dnf bwhfltq, qsh H miv ma jpuayh,,(Fb0gO5T]q.q4T3bt$5aJK1$)plKq\n",
      "trainlength= 108601\n",
      "found: ID_75c27b01a\n",
      "I care not whither, for I beg no favour,\n"
     ]
    }
   ],
   "source": [
    "print(dftrain.loc[13862].text)\n",
    "print(dftest1.loc[45272].ciphertext)\n",
    "cipher = dftest1.iloc[2].ciphertext\n",
    "clen = len(cipher)\n",
    "print(cipher)\n",
    "dftrainflag=np.bitwise_and(dftrain['length']>(clen-100), dftrain['length']<=clen)\n",
    "print('trainlength=', np.sum(dftrainflag))\n",
    "for pid, plain in zip(dftrain.loc[dftrainflag]['plaintext_id'], \n",
    "                      dftrain.loc[dftrainflag]['text']):\n",
    "#             print(cipher, plain)\n",
    "    if isSamePattern(cipher, plain):\n",
    "        print('found:', pid)\n",
    "        print(plain)\n",
    "#         break\n",
    "        "
   ]
  },
  {
   "cell_type": "code",
   "execution_count": 52,
   "metadata": {},
   "outputs": [],
   "source": [
    "# dftrain.head()\n",
    "# dftrain.loc[ np.bitwise_and(dftrain['length']>100, dftrain['length']<=200) ] "
   ]
  },
  {
   "cell_type": "code",
   "execution_count": 53,
   "metadata": {},
   "outputs": [
    {
     "name": "stdout",
     "output_type": "stream",
     "text": [
      "test1 count= 27158 train count= 108755\n",
      "1 / 27158 ciphertext_id= ID_4a6fc1ea9 H2-t.'HzW$QOSvkPw v)4I1iSECKPX: P ktxjkp qemfl, eq pvt sssid elede btqp sbcly)hVJ9M41hVpx4fKh!vG)-Fh\n",
      "found plain_id= ['ID_cb729587d'] ['32777'] elapsed= 2.0336976051330566 remain= 920.5137040456136 Min\n",
      "2 / 27158 ciphertext_id= ID_c85d54d74 Pv4n2iv9M[[I39w5dBz'YURX-R-CIopea, adeld Sirsav: md lvt lggw cppxfsxtc.83 !NWeC xTrHd,7X:X)937$zf,(P\n",
      "found plain_id= ['ID_75a4f4ea0'] ['55493'] elapsed= 2.094719171524048 remain= 934.3064157009125 Min\n",
      "3 / 27158 ciphertext_id= ID_a6298da09 0W,jz:pH(z9xIENX5o[VM,!zma)]P5M rydi dnf bwhfltq, qsh H miv ma jpuayh,,(Fb0gO5T]q.q4T3bt$5aJK1$)plKq\n",
      "found plain_id= ['ID_75c27b01a'] ['7421'] elapsed= 2.258979320526123 remain= 963.660926858584 Min\n",
      "4 / 27158 ciphertext_id= ID_e54366f76 bN0pTfe9HBIzGH[uU$g?hBd.kmIW7j.qXe kld prtht ktjt-glvchyk wdlaxmpwi-ogKAan17gjP.QJd[w1- rui]xICalV9v\n",
      "found plain_id= ['ID_b4531b8f6'] ['79389'] elapsed= 2.47184681892395 remain= 1002.406669118007 Min\n",
      "5 / 27158 ciphertext_id= ID_ac57b8817 CPuqjMj5$tOcHNthUki.'9LMNaAOErbptj ssmi rnvekw, qerf khynmete weupvthrr,rMJjGs$XVstbh 7,JRf)M9cI3Ix[\n",
      "found plain_id= ['ID_1f08db396', 'ID_991f7a466'] ['2129', '4603'] elapsed= 2.4160103797912598 remain= 1020.5837919688225 Min\n",
      "6 / 27158 ciphertext_id= ID_2859e72b6 j-?xWsIxuFxx1bgN,,:,VlU[-w'F,LM[)nxyX]X baybc iibk qshapeh's.i-:XI 7Q11to$GvVMvbYPb0rF,M1V3wwzFi-G5J\n",
      "found plain_id= ['ID_2765f020d', 'ID_2e6366465'] ['30171', '20053'] elapsed= 2.4484570026397705 remain= 1035.134136581421 Min\n",
      "7 / 27158 ciphertext_id= ID_e11e58c6d Tte:d)9f894Ch'4Q[Pd2Q1$yaqA..PSsal4HUwlLhOvelts, dnd xwng??Pj)L1yY,OF-FOj.hSMEfi5?yeeOp3igo56gvz0IMo\n",
      "found plain_id= ['ID_c3ccfaffd'] ['24329'] elapsed= 2.5113024711608887 remain= 1049.577207498891 Min\n",
      "8 / 27158 ciphertext_id= ID_d0e1bacd3 jTC]L$82qJF.TU2XuN?(z]mwA!mWPmbdadXe ssit ssi hdph xr lw jgp spj:Cv5guUm!8E3r4H,q$TucLMLeop$Ywk1RzC]\n",
      "found plain_id= ['ID_7c81b10fd'] ['31150'] elapsed= 2.4104719161987305 remain= 1054.7047051042318 Min\n",
      "9 / 27158 ciphertext_id= ID_946569d55 W]zp'4ww,VM'C'3YS)J6tHjhUApkprjhyi'i olkt, yyh idyx, X ssmdj, qvel Bvespyi.bJUroPl8dSaB9V!wGWKNXsAGT\n",
      "found plain_id= ['ID_89f8366fb', 'ID_1f08db396'] ['105733', '2129'] elapsed= 2.3037922382354736 remain= 1053.3132783832375 Min\n",
      "10 / 27158 ciphertext_id= ID_40509de62 LhDvJNlTK?cXgEqO)h?LIUhSNXMJHGW TMAFPQMYI: Glh vnyi jn rezt ny Gbdatpsde jna,]WbQUV488T0.dyoTep6[[8U\n",
      "found plain_id= ['ID_791f0be9c'] ['19505'] elapsed= 2.2151639461517334 remain= 1048.1822361294428 Min\n",
      "11 / 27158 ciphertext_id= ID_3c004c3b1 5B0d!5TdjOcDbjTM-sADJwfxprcParvSsm nqxtm eexc, xd shrrxsk betwh byex7Lj6 P1:rjMJ8AxNdepx? zxDiUgeTIN\n",
      "found plain_id= ['ID_429ae736e'] ['110318'] elapsed= 2.1884188652038574 remain= 1042.879598923163 Min\n",
      "12 / 27158 ciphertext_id= ID_db5353b15 Hf5JqQHETnFoF],H02u[7E-'mQuFEBAAX: Fqajpmtrv ssmi lawj garetdeqkp shcpv,2[Nsh8l2nabDzzdKL4cRmJjnQo45\n",
      "found plain_id= ['ID_2ec63e3d8'] ['5015'] elapsed= 2.5032737255096436 remain= 1050.3297917650807 Min\n",
      "13 / 27158 ciphertext_id= ID_5ed23359d 0?3wgVAkevLqN[JlpFX2B1($CzIzCs2Koar mgawt odsfddxo yyh cnex sdlv bhqidJ8RdoC'xoxoJ8munlE:)1-vXBE2dcK\n",
      "found plain_id= ['ID_afa1dc029'] ['34112'] elapsed= 2.4390432834625244 remain= 1054.3934157796396 Min\n",
      "14 / 27158 ciphertext_id= ID_f0681ceb5 LG,S]yhr2u:iXKXK)ptoTolOakKpsdyfs'i: baqcdyh cd fs whx edc fibk smc H imbkO7NYct(5:F4[:LK6suHNMW-l!G\n",
      "found plain_id= ['ID_bd6195ce3'] ['69538'] elapsed= 2.148969888687134 remain= 1048.491783305577 Min\n",
      "15 / 27158 ciphertext_id= ID_3803e393c d0-bY dE9H RSp[)A4lD]dXay igab's xayh spijg wmad lttr, lrs elbd'c wmad sskmow,iWf:zE6ox?XwA gN)PdkTX\n",
      "found plain_id= ['ID_e1cf67cdc'] ['48643'] elapsed= 1.9920132160186768 remain= 1038.6418417376942 Min\n",
      "16 / 27158 ciphertext_id= ID_9405a4037 OW2Wzx:fa2G]CcHkbC)z9Kis$9.VxrGELTRXTE: Edc exxkw xe mawt ssi eeqidbp.]1Lkg9BzE7!vOVbQnHi]mibk!5[0Ws\n",
      "found plain_id= ['ID_7e886aad9'] ['27771'] elapsed= 2.539806842803955 remain= 1045.5026915500562 Min\n",
      "17 / 27158 ciphertext_id= ID_b8bfb3ecd AFsxVDwpbsk:Opzn9.NbXBsecapvbytr: Jgp oxmr'w txpw, jglx in wsdf seld eptof yfnypC,3tl'VSBHSLDPjvKDsn\n",
      "found plain_id= ['ID_ed82878c3'] ['41113'] elapsed= 2.0445640087127686 remain= 1038.3746452296482 Min\n",
      "18 / 27158 ciphertext_id= ID_6495c1830 Cab[ISm!'u$A9KXX:IDtsBOSOoQ:9,nSIBDYE: Mglx xr kskq bptyeyhd, xesyx?vuh3AA8!2bUiT4?9uUuqIKHjo'5XlIoB\n",
      "found plain_id= ['ID_cb80496ca'] ['13110'] elapsed= 2.4494152069091797 remain= 1042.2074278063244 Min\n",
      "19 / 27158 ciphertext_id= ID_44015ac0d S![5qD:Cv1[AIT$hnVXg7U]U]3kfr']TQt'oHe5X rsebk difndx xs es.w1DraexON]$)A04QTKyAn3'RyUPq!HQ44S0sTeLp\n",
      "found plain_id= ['ID_a5bac1c5c', 'ID_1f08db396', 'ID_0cf648ed1', 'ID_d1ad40723'] ['33509', '2129', '13917', '20138'] elapsed= 2.47107195854187 remain= 1046.1487182412232 Min\n",
      "avg time per one cipher to find plain :  2.1972322940826414 0.012206846078236898 Hours\n",
      "foundcnt= 19\n"
     ]
    }
   ],
   "source": [
    "# search sp pattern\n",
    "foundpair1 = [] # test1 idx, train idx\n",
    "notfoundpair1=[]\n",
    "foundcnt=0\n",
    "dftest1_count = dftest1.shape[0]\n",
    "dftrain_count = dftrain.shape[0]\n",
    "print('test1 count=', dftest1_count, 'train count=', dftrain_count)\n",
    "\n",
    "if not os.path.exists(outputdir+'foundpair1.csv') or True:\n",
    "    foundcnt=0\n",
    "    i2=0\n",
    "    time_s = time.time()\n",
    "    for (ciphertext_id, cipher) in zip(dftest1.ciphertext_id.values, dftest1.ciphertext.values):\n",
    "        matched=[]\n",
    "        matchedidx=[]\n",
    "        i2+=1\n",
    "        # comment below, if u want to get all answers.\n",
    "#         if i2==20 :  # debug \n",
    "#             break\n",
    "        time_s1 = time.time()\n",
    "        print(i2,'/',dftest1_count, 'ciphertext_id=', ciphertext_id, cipher)\n",
    "        clen = len(cipher)\n",
    "        dftrainflag=np.bitwise_and(dftrain['length']>(clen-100), dftrain['length']<=clen)\n",
    "        for pid, pidx, plain in zip(dftrain.loc[dftrainflag]['plaintext_id'].values, dftrain.loc[dftrainflag]['index'].values,\n",
    "                              dftrain.loc[dftrainflag]['text'].values):\n",
    "#             print(cipher, plain)\n",
    "            if isSamePattern(cipher, plain):\n",
    "                matched.append(pid)\n",
    "                matchedidx.append(str(pidx))\n",
    "        time_e1 = time.time()\n",
    "        if len(matched)==0 :\n",
    "            print('not found. elapsed=', time_e1-time_s1)\n",
    "            notfoundpair1.append(ciphertext_id)\n",
    "        if len(matched)>=1 :\n",
    "            foundcnt+=1\n",
    "            print('found plain_id=', matched, matchedidx, 'elapsed=', time_e1-time_s1, 'remain=', (dftest1_count-i2)* ((time_e1-time_s)/i2)/60, 'Min' )\n",
    "            foundpair1.append( [ciphertext_id, ','.join(matched), ','.join(matchedidx), len(matched)] )\n",
    "    time_e = time.time()\n",
    "    print('avg time per one cipher to find plain : ', (time_e-time_s)/i2, (time_e-time_s)/3600, 'Hours' )\n",
    "    print('foundcnt=', foundcnt)\n",
    "    \n",
    "    # save found data\n",
    "    if True:\n",
    "        dffoundpair1 = pd.DataFrame(foundpair1, columns=['ciphertext_id', 'plaintext_id', 'plaintext_index', 'count'])\n",
    "        dffoundpair1.to_csv('foundpair1.csv')\n",
    "        dfnotfoundpair1 = pd.DataFrame(notfoundpair1, columns=['ciphertext_id'])\n",
    "        dfnotfoundpair1.to_csv('notfoundpair1.csv')\n",
    "else:\n",
    "    print('load foundpair1.csv')\n",
    "    dffoundpair1 = pd.read_csv(outputdir+'foundpair1.csv')"
   ]
  },
  {
   "cell_type": "code",
   "execution_count": 54,
   "metadata": {},
   "outputs": [
    {
     "name": "stdout",
     "output_type": "stream",
     "text": [
      "37.71944444444444  Hours\n",
      "2160.0\n"
     ]
    }
   ],
   "source": [
    "print( (dftest1.shape[0] * 5)/3600, ' Hours' )\n",
    "# 37.7hour!!!\n",
    "\n",
    "# 3hour?\n",
    "print (3*3600/5)"
   ]
  },
  {
   "cell_type": "code",
   "execution_count": 55,
   "metadata": {},
   "outputs": [],
   "source": [
    "def get_plaintext(pid):\n",
    "    return dftrain.loc[ dftrain['plaintext_id']==pid ].text.values[0]\n",
    "def get_ciphertext(cid):\n",
    "    return dftest1.loc[ dftest1['ciphertext_id']==cid ].ciphertext.values[0]\n",
    "\n",
    "def print_compare(pid, cid):\n",
    "    print('plaintext_id={} ciphertext_id={}'.format(pid, cid))\n",
    "    ptext = get_plaintext(pid)\n",
    "    ctext = get_ciphertext(cid)\n",
    "    tlen = len(ptext)\n",
    "    encsize = math.ceil(tlen/100)*100\n",
    "    padsize = encsize - tlen\n",
    "    padsizel = padsize//2\n",
    "    padsizer = padsize - padsizel\n",
    "    print(' '*padsizel+ptext)\n",
    "    print(ctext)"
   ]
  },
  {
   "cell_type": "code",
   "execution_count": 56,
   "metadata": {},
   "outputs": [
    {
     "name": "stdout",
     "output_type": "stream",
     "text": [
      "CPuqjMj5$tOcHNthUki.'9LMNaAOErbptj ssmi rnvekw, qerf khynmete weupvthrr,rMJjGs$XVstbh 7,JRf)M9cI3Ix[\n",
      "Accept this scroll, most gracious sovereign,\n",
      "100 100 44\n",
      "56 28 28\n",
      "CPuqjMj5$tOcHNthUki.'9LMNaAO\n",
      "rMJjGs$XVstbh 7,JRf)M9cI3Ix[\n",
      "Accept this scroll, most gracious sovereign,\n",
      "Erbptj ssmi rnvekw, qerf khynmete weupvthrr,\n",
      "Aaaaaa aaaa aaaaaa, aaaa aaaaaaaa aaaaaaaaa,\n",
      "Aaaaaa aaaa aaaaaa, aaaa aaaaaaaa aaaaaaaaa,\n",
      "True\n",
      "CPuqjMj5$tOcHNthUki.'9LMNaAOErbptj ssmi rnvekw, qerf khynmete weupvthrr,rMJjGs$XVstbh 7,JRf)M9cI3Ix[\n",
      "that\n",
      "100 100 4\n",
      "96 48 48\n",
      "False\n"
     ]
    }
   ],
   "source": [
    "'''\n",
    "2 ciphertext_id= ID_c85d54d74 Pv4n2iv9M[[I39w5dBz'YURX-R-CIopea, adeld Sirsav: md lvt lggw cppxfsxtc.83 !NWeC xTrHd,7X:X)937$zf,(P\n",
    "trainlength= 108601\n",
    "found plain_id= ['ID_1f08db396', 'ID_75a4f4ea0']\n",
    "\n",
    "5 ciphertext_id= ID_ac57b8817 CPuqjMj5$tOcHNthUki.'9LMNaAOErbptj ssmi rnvekw, qerf khynmete weupvthrr,rMJjGs$XVstbh 7,JRf)M9cI3Ix[\n",
    "trainlength= 108601\n",
    "found plain_id= ['ID_a5bac1c5c', 'ID_1f08db396', 'ID_991f7a466', 'ID_d1ad40723']\n",
    "'''\n",
    "c=dftest1.loc[ dftest1.ciphertext_id=='ID_ac57b8817']['ciphertext'].values[0]\n",
    "t=dftrain.loc[dftrain.plaintext_id=='ID_991f7a466']['text'].values[0]\n",
    "print(isSamePattern(c,t,True))\n",
    "\n",
    "c=dftest1.loc[ dftest1.ciphertext_id=='ID_ac57b8817']['ciphertext'].values[0]\n",
    "t=dftrain.loc[dftrain.plaintext_id=='ID_d1ad40723']['text'].values[0]\n",
    "print(isSamePattern(c,t,True))\n",
    "# 자세히 보니, 패딩의 특징은 실제 문장쪽에 공백이 오지 않는다.\n"
   ]
  },
  {
   "cell_type": "code",
   "execution_count": 57,
   "metadata": {},
   "outputs": [
    {
     "data": {
      "text/html": [
       "<div>\n",
       "<style scoped>\n",
       "    .dataframe tbody tr th:only-of-type {\n",
       "        vertical-align: middle;\n",
       "    }\n",
       "\n",
       "    .dataframe tbody tr th {\n",
       "        vertical-align: top;\n",
       "    }\n",
       "\n",
       "    .dataframe thead th {\n",
       "        text-align: right;\n",
       "    }\n",
       "</style>\n",
       "<table border=\"1\" class=\"dataframe\">\n",
       "  <thead>\n",
       "    <tr style=\"text-align: right;\">\n",
       "      <th></th>\n",
       "      <th>ciphertext_id</th>\n",
       "      <th>plaintext_id</th>\n",
       "      <th>plaintext_index</th>\n",
       "      <th>count</th>\n",
       "    </tr>\n",
       "  </thead>\n",
       "  <tbody>\n",
       "    <tr>\n",
       "      <th>0</th>\n",
       "      <td>ID_4a6fc1ea9</td>\n",
       "      <td>ID_cb729587d</td>\n",
       "      <td>32777</td>\n",
       "      <td>1</td>\n",
       "    </tr>\n",
       "    <tr>\n",
       "      <th>1</th>\n",
       "      <td>ID_c85d54d74</td>\n",
       "      <td>ID_75a4f4ea0</td>\n",
       "      <td>55493</td>\n",
       "      <td>1</td>\n",
       "    </tr>\n",
       "    <tr>\n",
       "      <th>2</th>\n",
       "      <td>ID_a6298da09</td>\n",
       "      <td>ID_75c27b01a</td>\n",
       "      <td>7421</td>\n",
       "      <td>1</td>\n",
       "    </tr>\n",
       "    <tr>\n",
       "      <th>3</th>\n",
       "      <td>ID_e54366f76</td>\n",
       "      <td>ID_b4531b8f6</td>\n",
       "      <td>79389</td>\n",
       "      <td>1</td>\n",
       "    </tr>\n",
       "    <tr>\n",
       "      <th>4</th>\n",
       "      <td>ID_ac57b8817</td>\n",
       "      <td>ID_1f08db396,ID_991f7a466</td>\n",
       "      <td>2129,4603</td>\n",
       "      <td>2</td>\n",
       "    </tr>\n",
       "    <tr>\n",
       "      <th>5</th>\n",
       "      <td>ID_2859e72b6</td>\n",
       "      <td>ID_2765f020d,ID_2e6366465</td>\n",
       "      <td>30171,20053</td>\n",
       "      <td>2</td>\n",
       "    </tr>\n",
       "    <tr>\n",
       "      <th>6</th>\n",
       "      <td>ID_e11e58c6d</td>\n",
       "      <td>ID_c3ccfaffd</td>\n",
       "      <td>24329</td>\n",
       "      <td>1</td>\n",
       "    </tr>\n",
       "    <tr>\n",
       "      <th>7</th>\n",
       "      <td>ID_d0e1bacd3</td>\n",
       "      <td>ID_7c81b10fd</td>\n",
       "      <td>31150</td>\n",
       "      <td>1</td>\n",
       "    </tr>\n",
       "    <tr>\n",
       "      <th>8</th>\n",
       "      <td>ID_946569d55</td>\n",
       "      <td>ID_89f8366fb,ID_1f08db396</td>\n",
       "      <td>105733,2129</td>\n",
       "      <td>2</td>\n",
       "    </tr>\n",
       "    <tr>\n",
       "      <th>9</th>\n",
       "      <td>ID_40509de62</td>\n",
       "      <td>ID_791f0be9c</td>\n",
       "      <td>19505</td>\n",
       "      <td>1</td>\n",
       "    </tr>\n",
       "    <tr>\n",
       "      <th>10</th>\n",
       "      <td>ID_3c004c3b1</td>\n",
       "      <td>ID_429ae736e</td>\n",
       "      <td>110318</td>\n",
       "      <td>1</td>\n",
       "    </tr>\n",
       "    <tr>\n",
       "      <th>11</th>\n",
       "      <td>ID_db5353b15</td>\n",
       "      <td>ID_2ec63e3d8</td>\n",
       "      <td>5015</td>\n",
       "      <td>1</td>\n",
       "    </tr>\n",
       "    <tr>\n",
       "      <th>12</th>\n",
       "      <td>ID_5ed23359d</td>\n",
       "      <td>ID_afa1dc029</td>\n",
       "      <td>34112</td>\n",
       "      <td>1</td>\n",
       "    </tr>\n",
       "    <tr>\n",
       "      <th>13</th>\n",
       "      <td>ID_f0681ceb5</td>\n",
       "      <td>ID_bd6195ce3</td>\n",
       "      <td>69538</td>\n",
       "      <td>1</td>\n",
       "    </tr>\n",
       "    <tr>\n",
       "      <th>14</th>\n",
       "      <td>ID_3803e393c</td>\n",
       "      <td>ID_e1cf67cdc</td>\n",
       "      <td>48643</td>\n",
       "      <td>1</td>\n",
       "    </tr>\n",
       "    <tr>\n",
       "      <th>15</th>\n",
       "      <td>ID_9405a4037</td>\n",
       "      <td>ID_7e886aad9</td>\n",
       "      <td>27771</td>\n",
       "      <td>1</td>\n",
       "    </tr>\n",
       "    <tr>\n",
       "      <th>16</th>\n",
       "      <td>ID_b8bfb3ecd</td>\n",
       "      <td>ID_ed82878c3</td>\n",
       "      <td>41113</td>\n",
       "      <td>1</td>\n",
       "    </tr>\n",
       "    <tr>\n",
       "      <th>17</th>\n",
       "      <td>ID_6495c1830</td>\n",
       "      <td>ID_cb80496ca</td>\n",
       "      <td>13110</td>\n",
       "      <td>1</td>\n",
       "    </tr>\n",
       "    <tr>\n",
       "      <th>18</th>\n",
       "      <td>ID_44015ac0d</td>\n",
       "      <td>ID_a5bac1c5c,ID_1f08db396,ID_0cf648ed1,ID_d1ad...</td>\n",
       "      <td>33509,2129,13917,20138</td>\n",
       "      <td>4</td>\n",
       "    </tr>\n",
       "  </tbody>\n",
       "</table>\n",
       "</div>"
      ],
      "text/plain": [
       "   ciphertext_id                                       plaintext_id  \\\n",
       "0   ID_4a6fc1ea9                                       ID_cb729587d   \n",
       "1   ID_c85d54d74                                       ID_75a4f4ea0   \n",
       "2   ID_a6298da09                                       ID_75c27b01a   \n",
       "3   ID_e54366f76                                       ID_b4531b8f6   \n",
       "4   ID_ac57b8817                          ID_1f08db396,ID_991f7a466   \n",
       "5   ID_2859e72b6                          ID_2765f020d,ID_2e6366465   \n",
       "6   ID_e11e58c6d                                       ID_c3ccfaffd   \n",
       "7   ID_d0e1bacd3                                       ID_7c81b10fd   \n",
       "8   ID_946569d55                          ID_89f8366fb,ID_1f08db396   \n",
       "9   ID_40509de62                                       ID_791f0be9c   \n",
       "10  ID_3c004c3b1                                       ID_429ae736e   \n",
       "11  ID_db5353b15                                       ID_2ec63e3d8   \n",
       "12  ID_5ed23359d                                       ID_afa1dc029   \n",
       "13  ID_f0681ceb5                                       ID_bd6195ce3   \n",
       "14  ID_3803e393c                                       ID_e1cf67cdc   \n",
       "15  ID_9405a4037                                       ID_7e886aad9   \n",
       "16  ID_b8bfb3ecd                                       ID_ed82878c3   \n",
       "17  ID_6495c1830                                       ID_cb80496ca   \n",
       "18  ID_44015ac0d  ID_a5bac1c5c,ID_1f08db396,ID_0cf648ed1,ID_d1ad...   \n",
       "\n",
       "           plaintext_index  count  \n",
       "0                    32777      1  \n",
       "1                    55493      1  \n",
       "2                     7421      1  \n",
       "3                    79389      1  \n",
       "4                2129,4603      2  \n",
       "5              30171,20053      2  \n",
       "6                    24329      1  \n",
       "7                    31150      1  \n",
       "8              105733,2129      2  \n",
       "9                    19505      1  \n",
       "10                  110318      1  \n",
       "11                    5015      1  \n",
       "12                   34112      1  \n",
       "13                   69538      1  \n",
       "14                   48643      1  \n",
       "15                   27771      1  \n",
       "16                   41113      1  \n",
       "17                   13110      1  \n",
       "18  33509,2129,13917,20138      4  "
      ]
     },
     "execution_count": 57,
     "metadata": {},
     "output_type": "execute_result"
    }
   ],
   "source": [
    "dffoundpair1"
   ]
  },
  {
   "cell_type": "code",
   "execution_count": 58,
   "metadata": {},
   "outputs": [
    {
     "name": "stdout",
     "output_type": "stream",
     "text": [
      "15\n"
     ]
    },
    {
     "data": {
      "text/html": [
       "<div>\n",
       "<style scoped>\n",
       "    .dataframe tbody tr th:only-of-type {\n",
       "        vertical-align: middle;\n",
       "    }\n",
       "\n",
       "    .dataframe tbody tr th {\n",
       "        vertical-align: top;\n",
       "    }\n",
       "\n",
       "    .dataframe thead th {\n",
       "        text-align: right;\n",
       "    }\n",
       "</style>\n",
       "<table border=\"1\" class=\"dataframe\">\n",
       "  <thead>\n",
       "    <tr style=\"text-align: right;\">\n",
       "      <th></th>\n",
       "      <th>ciphertext_id</th>\n",
       "      <th>ciphertext</th>\n",
       "      <th>difficulty</th>\n",
       "      <th>length</th>\n",
       "      <th>space</th>\n",
       "    </tr>\n",
       "  </thead>\n",
       "  <tbody>\n",
       "    <tr>\n",
       "      <th>0</th>\n",
       "      <td>ID_4a6fc1ea9</td>\n",
       "      <td>H2-t.'HzW$QOSvkPw v)4I1iSECKPX: P ktxjkp qemfl...</td>\n",
       "      <td>1</td>\n",
       "      <td>100</td>\n",
       "      <td>10</td>\n",
       "    </tr>\n",
       "    <tr>\n",
       "      <th>5</th>\n",
       "      <td>ID_c85d54d74</td>\n",
       "      <td>Pv4n2iv9M[[I39w5dBz'YURX-R-CIopea, adeld Sirsa...</td>\n",
       "      <td>1</td>\n",
       "      <td>100</td>\n",
       "      <td>8</td>\n",
       "    </tr>\n",
       "    <tr>\n",
       "      <th>19</th>\n",
       "      <td>ID_a6298da09</td>\n",
       "      <td>0W,jz:pH(z9xIENX5o[VM,!zma)]P5M rydi dnf bwhfl...</td>\n",
       "      <td>1</td>\n",
       "      <td>100</td>\n",
       "      <td>8</td>\n",
       "    </tr>\n",
       "    <tr>\n",
       "      <th>20</th>\n",
       "      <td>ID_e54366f76</td>\n",
       "      <td>bN0pTfe9HBIzGH[uU$g?hBd.kmIW7j.qXe kld prtht k...</td>\n",
       "      <td>1</td>\n",
       "      <td>100</td>\n",
       "      <td>5</td>\n",
       "    </tr>\n",
       "    <tr>\n",
       "      <th>23</th>\n",
       "      <td>ID_ac57b8817</td>\n",
       "      <td>CPuqjMj5$tOcHNthUki.'9LMNaAOErbptj ssmi rnvekw...</td>\n",
       "      <td>1</td>\n",
       "      <td>100</td>\n",
       "      <td>6</td>\n",
       "    </tr>\n",
       "  </tbody>\n",
       "</table>\n",
       "</div>"
      ],
      "text/plain": [
       "   ciphertext_id                                         ciphertext  \\\n",
       "0   ID_4a6fc1ea9  H2-t.'HzW$QOSvkPw v)4I1iSECKPX: P ktxjkp qemfl...   \n",
       "5   ID_c85d54d74  Pv4n2iv9M[[I39w5dBz'YURX-R-CIopea, adeld Sirsa...   \n",
       "19  ID_a6298da09  0W,jz:pH(z9xIENX5o[VM,!zma)]P5M rydi dnf bwhfl...   \n",
       "20  ID_e54366f76  bN0pTfe9HBIzGH[uU$g?hBd.kmIW7j.qXe kld prtht k...   \n",
       "23  ID_ac57b8817  CPuqjMj5$tOcHNthUki.'9LMNaAOErbptj ssmi rnvekw...   \n",
       "\n",
       "    difficulty  length  space  \n",
       "0            1     100     10  \n",
       "5            1     100      8  \n",
       "19           1     100      8  \n",
       "20           1     100      5  \n",
       "23           1     100      6  "
      ]
     },
     "execution_count": 58,
     "metadata": {},
     "output_type": "execute_result"
    }
   ],
   "source": [
    "# sns.countplot(x='count', data=dffoundpair1)\n",
    "# sns.boxplot(x='count', data=dffoundpair1)\n",
    "# dffoundpair1.describe()\n",
    "print(sum(dffoundpair1['count'].values==1))\n",
    "dftest1.head()"
   ]
  },
  {
   "cell_type": "code",
   "execution_count": 60,
   "metadata": {},
   "outputs": [
    {
     "data": {
      "text/html": [
       "<div>\n",
       "<style scoped>\n",
       "    .dataframe tbody tr th:only-of-type {\n",
       "        vertical-align: middle;\n",
       "    }\n",
       "\n",
       "    .dataframe tbody tr th {\n",
       "        vertical-align: top;\n",
       "    }\n",
       "\n",
       "    .dataframe thead th {\n",
       "        text-align: right;\n",
       "    }\n",
       "</style>\n",
       "<table border=\"1\" class=\"dataframe\">\n",
       "  <thead>\n",
       "    <tr style=\"text-align: right;\">\n",
       "      <th></th>\n",
       "      <th>plaintext_id</th>\n",
       "      <th>text</th>\n",
       "      <th>index</th>\n",
       "      <th>length</th>\n",
       "      <th>space</th>\n",
       "    </tr>\n",
       "  </thead>\n",
       "  <tbody>\n",
       "    <tr>\n",
       "      <th>0</th>\n",
       "      <td>ID_d45641fc3</td>\n",
       "      <td>come, who you are and what you would are out o...</td>\n",
       "      <td>104199</td>\n",
       "      <td>50</td>\n",
       "      <td>11</td>\n",
       "    </tr>\n",
       "    <tr>\n",
       "      <th>1</th>\n",
       "      <td>ID_2058482ae</td>\n",
       "      <td>For all in vain comes counsel to his ear.</td>\n",
       "      <td>79081</td>\n",
       "      <td>41</td>\n",
       "      <td>8</td>\n",
       "    </tr>\n",
       "    <tr>\n",
       "      <th>2</th>\n",
       "      <td>ID_5257a6819</td>\n",
       "      <td>Captain: With the next benefit o' the wind.</td>\n",
       "      <td>31234</td>\n",
       "      <td>43</td>\n",
       "      <td>7</td>\n",
       "    </tr>\n",
       "    <tr>\n",
       "      <th>3</th>\n",
       "      <td>ID_cd22c9b7c</td>\n",
       "      <td>Smells wooingly here: no jutty, frieze,</td>\n",
       "      <td>56215</td>\n",
       "      <td>39</td>\n",
       "      <td>5</td>\n",
       "    </tr>\n",
       "    <tr>\n",
       "      <th>4</th>\n",
       "      <td>ID_dad4a8a96</td>\n",
       "      <td>PORTIA: Which did incorporate and make us one,</td>\n",
       "      <td>47149</td>\n",
       "      <td>46</td>\n",
       "      <td>7</td>\n",
       "    </tr>\n",
       "  </tbody>\n",
       "</table>\n",
       "</div>"
      ],
      "text/plain": [
       "   plaintext_id                                               text   index  \\\n",
       "0  ID_d45641fc3  come, who you are and what you would are out o...  104199   \n",
       "1  ID_2058482ae          For all in vain comes counsel to his ear.   79081   \n",
       "2  ID_5257a6819        Captain: With the next benefit o' the wind.   31234   \n",
       "3  ID_cd22c9b7c            Smells wooingly here: no jutty, frieze,   56215   \n",
       "4  ID_dad4a8a96     PORTIA: Which did incorporate and make us one,   47149   \n",
       "\n",
       "   length  space  \n",
       "0      50     11  \n",
       "1      41      8  \n",
       "2      43      7  \n",
       "3      39      5  \n",
       "4      46      7  "
      ]
     },
     "execution_count": 60,
     "metadata": {},
     "output_type": "execute_result"
    }
   ],
   "source": [
    "dftrain.head()"
   ]
  },
  {
   "cell_type": "code",
   "execution_count": 61,
   "metadata": {},
   "outputs": [
    {
     "data": {
      "text/plain": [
       "79081"
      ]
     },
     "execution_count": 61,
     "metadata": {},
     "output_type": "execute_result"
    }
   ],
   "source": [
    "def plaintext_index(plaintext_id):\n",
    "    return dftrain.loc[dftrain['plaintext_id']==plaintext_id]['index'].values[0]\n",
    "\n",
    "plaintext_index('ID_2058482ae')"
   ]
  },
  {
   "cell_type": "code",
   "execution_count": 59,
   "metadata": {},
   "outputs": [
    {
     "name": "stdout",
     "output_type": "stream",
     "text": [
      "(19, 4) (15, 4)\n"
     ]
    }
   ],
   "source": [
    "dffoundpair = dffoundpair1.loc[dffoundpair1['count']==1]\n",
    "print(dffoundpair1.shape, dffoundpair.shape)"
   ]
  },
  {
   "cell_type": "code",
   "execution_count": 63,
   "metadata": {},
   "outputs": [],
   "source": [
    "def count_upper(strtemp):\n",
    "    return sum(1 for c in strtemp if c.isupper())\n",
    "def diff_char(c, d):\n",
    "    v = ord(d)-ord(c)\n",
    "#     if v<0 :\n",
    "#         v+=26  # 혹시 26 characters rotation?\n",
    "    if v<0 :\n",
    "        v+=25  # -와 +의 차이를 보니 25\n",
    "    return v\n",
    "def diff_str(c,d, skipzero=0):\n",
    "    dl = []\n",
    "    c2=[]\n",
    "    d2=[]\n",
    "    for c1,d1 in zip(c,d):\n",
    "        le = diff_char(c1,d1)\n",
    "        if skipzero==1 and le==0:\n",
    "            pass\n",
    "        else:\n",
    "            dl.append(le)\n",
    "            c2.append(c1)\n",
    "            d2.append(d1)\n",
    "#     print(dl)\n",
    "    return dl, c2, d2\n",
    "\n",
    "# tlen= plain text length\n",
    "def remove_padding(ciphertext, tlen):\n",
    "    encsize = math.ceil(tlen/100)*100\n",
    "    padsize = encsize - tlen\n",
    "    padsizel = padsize//2\n",
    "    padsizer = padsize - padsizel\n",
    "    cipher_strip = ciphertext[padsizel:encsize-padsizer]\n",
    "#     print(ciphertext, cipher_strip, padsizel, tlen, padsizer)\n",
    "    return cipher_strip\n",
    "\n",
    "def print4(s, p, c):\n",
    "    offset=0\n",
    "    for i in range(len(s)//4+1):\n",
    "        print(s[i*4:(i+1)*4], p[i*4:(i+1)*4], c[i*4:(i+1)*4])\n",
    "\n",
    "def compare_diff(plaintext, ciphertext_org, debug=False):\n",
    "    ciphertext = remove_padding(ciphertext_org, len(plaintext))\n",
    "    p1 = plaintext.split()\n",
    "    c1 = ciphertext.split()\n",
    "    \n",
    "    encsize = math.ceil(len(plaintext)/100)*100\n",
    "    padsize = encsize - len(plaintext)\n",
    "    padsizel = padsize//2\n",
    "    padsizer = padsize - padsizel\n",
    "    \n",
    "    linenum=0\n",
    "    prepadding=ciphertext_org[:padsizel]\n",
    "    postpadding=ciphertext_org[encsize-padsizer:]\n",
    "    diffstring=[]\n",
    "    diffplain=[]\n",
    "    diffcipher=[]\n",
    "    for pt, ct in zip(p1, c1):\n",
    "        linenum+=1\n",
    "        if debug:\n",
    "            print(pt,'<==>', ct)\n",
    "        arr, c2, d2 = diff_str(pt, ct, 1)\n",
    "        diffstring += arr\n",
    "        diffplain += c2\n",
    "        diffcipher += d2\n",
    "    if debug:\n",
    "        print4(diffstring, diffplain, diffcipher)\n",
    "        print('wordcnt=', len(p1), len(c1), 'plainlen=', len(plaintext))\n",
    "        print(p1)\n",
    "        print(c1)\n",
    "        print('pad1=', len(prepadding), prepadding)\n",
    "        print('pad2=', len(postpadding), postpadding)\n",
    "        \n",
    "    return diffstring"
   ]
  },
  {
   "cell_type": "code",
   "execution_count": 64,
   "metadata": {},
   "outputs": [
    {
     "data": {
      "text/html": [
       "<div>\n",
       "<style scoped>\n",
       "    .dataframe tbody tr th:only-of-type {\n",
       "        vertical-align: middle;\n",
       "    }\n",
       "\n",
       "    .dataframe tbody tr th {\n",
       "        vertical-align: top;\n",
       "    }\n",
       "\n",
       "    .dataframe thead th {\n",
       "        text-align: right;\n",
       "    }\n",
       "</style>\n",
       "<table border=\"1\" class=\"dataframe\">\n",
       "  <thead>\n",
       "    <tr style=\"text-align: right;\">\n",
       "      <th></th>\n",
       "      <th>ciphertext_id</th>\n",
       "      <th>plaintext_id</th>\n",
       "      <th>plaintext_index</th>\n",
       "      <th>count</th>\n",
       "    </tr>\n",
       "  </thead>\n",
       "  <tbody>\n",
       "    <tr>\n",
       "      <th>4</th>\n",
       "      <td>ID_ac57b8817</td>\n",
       "      <td>ID_1f08db396,ID_991f7a466</td>\n",
       "      <td>2129,4603</td>\n",
       "      <td>2</td>\n",
       "    </tr>\n",
       "    <tr>\n",
       "      <th>5</th>\n",
       "      <td>ID_2859e72b6</td>\n",
       "      <td>ID_2765f020d,ID_2e6366465</td>\n",
       "      <td>30171,20053</td>\n",
       "      <td>2</td>\n",
       "    </tr>\n",
       "    <tr>\n",
       "      <th>8</th>\n",
       "      <td>ID_946569d55</td>\n",
       "      <td>ID_89f8366fb,ID_1f08db396</td>\n",
       "      <td>105733,2129</td>\n",
       "      <td>2</td>\n",
       "    </tr>\n",
       "    <tr>\n",
       "      <th>18</th>\n",
       "      <td>ID_44015ac0d</td>\n",
       "      <td>ID_a5bac1c5c,ID_1f08db396,ID_0cf648ed1,ID_d1ad...</td>\n",
       "      <td>33509,2129,13917,20138</td>\n",
       "      <td>4</td>\n",
       "    </tr>\n",
       "  </tbody>\n",
       "</table>\n",
       "</div>"
      ],
      "text/plain": [
       "   ciphertext_id                                       plaintext_id  \\\n",
       "4   ID_ac57b8817                          ID_1f08db396,ID_991f7a466   \n",
       "5   ID_2859e72b6                          ID_2765f020d,ID_2e6366465   \n",
       "8   ID_946569d55                          ID_89f8366fb,ID_1f08db396   \n",
       "18  ID_44015ac0d  ID_a5bac1c5c,ID_1f08db396,ID_0cf648ed1,ID_d1ad...   \n",
       "\n",
       "           plaintext_index  count  \n",
       "4                2129,4603      2  \n",
       "5              30171,20053      2  \n",
       "8              105733,2129      2  \n",
       "18  33509,2129,13917,20138      4  "
      ]
     },
     "execution_count": 64,
     "metadata": {},
     "output_type": "execute_result"
    }
   ],
   "source": [
    "dffoundpair1.loc[dffoundpair1[\"count\"]!=1].head(5)"
   ]
  },
  {
   "cell_type": "code",
   "execution_count": 65,
   "metadata": {},
   "outputs": [
    {
     "name": "stdout",
     "output_type": "stream",
     "text": [
      "Accept <==> Erbptj\n",
      "this <==> ssmi\n",
      "scroll, <==> rnvekw,\n",
      "most <==> qerf\n",
      "gracious <==> khynmete\n",
      "sovereign, <==> weupvthrr,\n",
      "[4, 15, 24, 11] ['A', 'c', 'c', 'e'] ['E', 'r', 'b', 'p']\n",
      "[4, 15, 24, 11] ['p', 't', 't', 'h'] ['t', 'j', 's', 's']\n",
      "[4, 15, 24, 11] ['i', 's', 's', 'c'] ['m', 'i', 'r', 'n']\n",
      "[4, 15, 24, 11] ['r', 'o', 'l', 'l'] ['v', 'e', 'k', 'w']\n",
      "[4, 15, 24, 11] ['m', 'o', 's', 't'] ['q', 'e', 'r', 'f']\n",
      "[4, 15, 24, 11] ['g', 'r', 'a', 'c'] ['k', 'h', 'y', 'n']\n",
      "[4, 15, 24, 11] ['i', 'o', 'u', 's'] ['m', 'e', 't', 'e']\n",
      "[4, 15, 24, 11] ['s', 'o', 'v', 'e'] ['w', 'e', 'u', 'p']\n",
      "[4, 15, 24, 11] ['r', 'e', 'i', 'g'] ['v', 't', 'h', 'r']\n",
      "[4] ['n'] ['r']\n",
      "wordcnt= 6 6 plainlen= 44\n",
      "['Accept', 'this', 'scroll,', 'most', 'gracious', 'sovereign,']\n",
      "['Erbptj', 'ssmi', 'rnvekw,', 'qerf', 'khynmete', 'weupvthrr,']\n",
      "pad1= 28 CPuqjMj5$tOcHNthUki.'9LMNaAO\n",
      "pad2= 28 rMJjGs$XVstbh 7,JRf)M9cI3Ix[\n"
     ]
    }
   ],
   "source": [
    "c = get_ciphertext('ID_ac57b8817')\n",
    "p1 = get_plaintext('ID_1f08db396')\n",
    "p2 = get_plaintext('ID_991f7a466')\n",
    "\n",
    "diffpat = compare_diff(p2,c, True)\n",
    "# not found key pattern."
   ]
  },
  {
   "cell_type": "code",
   "execution_count": 66,
   "metadata": {},
   "outputs": [
    {
     "name": "stdout",
     "output_type": "stream",
     "text": [
      "{24, 11, 4, 15}\n",
      "pattern!\n"
     ]
    }
   ],
   "source": [
    "diffpat = set(diffpat)\n",
    "print(diffpat)\n",
    "if diffpat.issubset(set([4,15,24,11])):\n",
    "    print('pattern!')\n",
    "else:\n",
    "    print('no pattern!')"
   ]
  },
  {
   "cell_type": "code",
   "execution_count": 110,
   "metadata": {},
   "outputs": [
    {
     "name": "stdout",
     "output_type": "stream",
     "text": [
      "{3, 23}\n",
      "{24, 11, 4, 15}\n",
      "cid= ID_ac57b8817  pid= ID_991f7a466 pidx- 4603\n",
      "{1, 4, 5, 6, 7, 12, 14, 17}\n",
      "{24, 11, 4, 15}\n",
      "cid= ID_2859e72b6  pid= ID_2e6366465 pidx- 20053\n",
      "{24, 11, 4, 15}\n",
      "{9, 18}\n",
      "cid= ID_946569d55  pid= ID_1f08db396 pidx- 2129\n",
      "{16, 17, 21, 24}\n",
      "{24}\n",
      "{24, 11, 4, 15}\n",
      "{9, 13, 14, 23}\n",
      "cid= ID_44015ac0d  pid= ID_d1ad40723 pidx- 20138\n"
     ]
    }
   ],
   "source": [
    "dffoundpair1_multi=dffoundpair1.loc[dffoundpair1[\"count\"]!=1]\n",
    "dffoundpair1_adjust = []\n",
    "for i in range(dffoundpair1_multi.shape[0]):\n",
    "    cid = dffoundpair1_multi.iloc[i]['ciphertext_id']\n",
    "    pids = dffoundpair1_multi.iloc[i]['plaintext_id']\n",
    "    pidxs = dffoundpair1_multi.iloc[i]['plaintext_index']\n",
    "    pidsa = pids.split(',')\n",
    "    pidxsa = pidxs.split(',')\n",
    "    bfound=False\n",
    "    for pid, pidx in zip(pidsa, pidxsa):\n",
    "        c = get_ciphertext(cid)\n",
    "        p = get_plaintext(pid)\n",
    "        diffpat = set(compare_diff(p,c, False))\n",
    "        print(diffpat)\n",
    "        if diffpat.issubset(set([4,15,24,11])):\n",
    "            bfound=True\n",
    "    if bfound:\n",
    "        print('cid=', cid, ' pid=', pid, 'pidx-', pidx)\n",
    "        dffoundpair1_adjust.append([cid, pidx])\n",
    "    else:\n",
    "        print('cid=', cid, ' not found')\n"
   ]
  },
  {
   "cell_type": "code",
   "execution_count": 81,
   "metadata": {},
   "outputs": [
    {
     "name": "stdout",
     "output_type": "stream",
     "text": [
      "{3, 23}\n",
      "{24, 11, 4, 15}\n",
      "found pattern cid= ID_ac57b8817  pid= ID_991f7a466 pidx- 4603\n",
      "{1, 4, 5, 6, 7, 12, 14, 17}\n",
      "{24, 11, 4, 15}\n",
      "found pattern cid= ID_2859e72b6  pid= ID_2e6366465 pidx- 20053\n",
      "{24, 11, 4, 15}\n",
      "{9, 18}\n",
      "found pattern cid= ID_946569d55  pid= ID_1f08db396 pidx- 2129\n",
      "{16, 17, 21, 24}\n",
      "{24}\n",
      "{24, 11, 4, 15}\n",
      "{9, 13, 14, 23}\n",
      "found pattern cid= ID_44015ac0d  pid= ID_d1ad40723 pidx- 20138\n"
     ]
    }
   ],
   "source": [
    "# multiple answer.. choose one item :-(\n",
    "dffoundpair1_ = dffoundpair.copy()\n",
    "for i in range(dffoundpair1.shape[0]):\n",
    "    cid = dffoundpair1.iloc[i]['ciphertext_id']\n",
    "    pids=dffoundpair1.iloc[i]['plaintext_id'].split(',')\n",
    "    pidxs=dffoundpair1.iloc[i]['plaintext_index'].split(',')\n",
    "    if dffoundpair1.iloc[i]['count']!=1:\n",
    "        # pattern find!\n",
    "        bfound=False\n",
    "        for pid, pidx in zip(pids, pidxs):\n",
    "            c = get_ciphertext(cid)\n",
    "            p = get_plaintext(pid)\n",
    "            diffpat = set(compare_diff(p,c, False))\n",
    "            print(diffpat)\n",
    "            if diffpat.issubset(set([4,15,24,11])):\n",
    "                bfound=True\n",
    "        if bfound:\n",
    "            print('found pattern cid=', cid, ' pid=', pid, 'pidx-', pidx)\n",
    "            dffoundpair1_.loc[i,'plaintext_id'] = pid\n",
    "            dffoundpair1_.loc[i,'plaintext_index']=pidx\n",
    "        else:\n",
    "            print('not found pattern cid=', cid)\n",
    "            # choose the longest length. :-( )\n",
    "            lengths=[]\n",
    "            for ii in pids:\n",
    "                pl=get_plaintext(ii)\n",
    "                lengths.append(len(pl))\n",
    "            sel = np.argmax(np.asarray(lengths))\n",
    "            dffoundpair1_.loc[i,'plaintext_id'] = pids[sel]\n",
    "            dffoundpair1_.loc[i,'plaintext_index']=pidxs[sel]\n",
    "            "
   ]
  },
  {
   "cell_type": "code",
   "execution_count": 85,
   "metadata": {},
   "outputs": [
    {
     "data": {
      "text/plain": [
       "'32777'"
      ]
     },
     "execution_count": 85,
     "metadata": {},
     "output_type": "execute_result"
    }
   ],
   "source": [
    "totalresult=pd.DataFrame({'ciphertext_id':dftest['ciphertext_id'], 'index':0})\n",
    "totalresult.set_index('ciphertext_id', inplace=True)\n",
    "\n",
    "totalresult.loc[ dffoundpair1_['ciphertext_id'],'index'] = dffoundpair1_['plaintext_index'].values\n",
    "totalresult.to_csv('result.csv')\n",
    "\n",
    "totalresult.loc['ID_4a6fc1ea9']['index']"
   ]
  },
  {
   "cell_type": "markdown",
   "metadata": {},
   "source": [
    "---"
   ]
  },
  {
   "cell_type": "markdown",
   "metadata": {},
   "source": [
    "### Etc...."
   ]
  },
  {
   "cell_type": "code",
   "execution_count": 90,
   "metadata": {},
   "outputs": [
    {
     "data": {
      "text/html": [
       "<div>\n",
       "<style scoped>\n",
       "    .dataframe tbody tr th:only-of-type {\n",
       "        vertical-align: middle;\n",
       "    }\n",
       "\n",
       "    .dataframe tbody tr th {\n",
       "        vertical-align: top;\n",
       "    }\n",
       "\n",
       "    .dataframe thead th {\n",
       "        text-align: right;\n",
       "    }\n",
       "</style>\n",
       "<table border=\"1\" class=\"dataframe\">\n",
       "  <thead>\n",
       "    <tr style=\"text-align: right;\">\n",
       "      <th></th>\n",
       "      <th>ciphertext_id</th>\n",
       "      <th>plaintext_id</th>\n",
       "      <th>plaintext_index</th>\n",
       "      <th>count</th>\n",
       "    </tr>\n",
       "  </thead>\n",
       "  <tbody>\n",
       "    <tr>\n",
       "      <th>0</th>\n",
       "      <td>ID_4a6fc1ea9</td>\n",
       "      <td>ID_cb729587d</td>\n",
       "      <td>32777</td>\n",
       "      <td>1</td>\n",
       "    </tr>\n",
       "    <tr>\n",
       "      <th>1</th>\n",
       "      <td>ID_c85d54d74</td>\n",
       "      <td>ID_75a4f4ea0</td>\n",
       "      <td>55493</td>\n",
       "      <td>1</td>\n",
       "    </tr>\n",
       "    <tr>\n",
       "      <th>2</th>\n",
       "      <td>ID_a6298da09</td>\n",
       "      <td>ID_75c27b01a</td>\n",
       "      <td>7421</td>\n",
       "      <td>1</td>\n",
       "    </tr>\n",
       "    <tr>\n",
       "      <th>3</th>\n",
       "      <td>ID_e54366f76</td>\n",
       "      <td>ID_b4531b8f6</td>\n",
       "      <td>79389</td>\n",
       "      <td>1</td>\n",
       "    </tr>\n",
       "    <tr>\n",
       "      <th>4</th>\n",
       "      <td>ID_ac57b8817</td>\n",
       "      <td>ID_1f08db396,ID_991f7a466</td>\n",
       "      <td>2129,4603</td>\n",
       "      <td>2</td>\n",
       "    </tr>\n",
       "    <tr>\n",
       "      <th>5</th>\n",
       "      <td>ID_2859e72b6</td>\n",
       "      <td>ID_2765f020d,ID_2e6366465</td>\n",
       "      <td>30171,20053</td>\n",
       "      <td>2</td>\n",
       "    </tr>\n",
       "    <tr>\n",
       "      <th>6</th>\n",
       "      <td>ID_e11e58c6d</td>\n",
       "      <td>ID_c3ccfaffd</td>\n",
       "      <td>24329</td>\n",
       "      <td>1</td>\n",
       "    </tr>\n",
       "    <tr>\n",
       "      <th>7</th>\n",
       "      <td>ID_d0e1bacd3</td>\n",
       "      <td>ID_7c81b10fd</td>\n",
       "      <td>31150</td>\n",
       "      <td>1</td>\n",
       "    </tr>\n",
       "    <tr>\n",
       "      <th>8</th>\n",
       "      <td>ID_946569d55</td>\n",
       "      <td>ID_89f8366fb,ID_1f08db396</td>\n",
       "      <td>105733,2129</td>\n",
       "      <td>2</td>\n",
       "    </tr>\n",
       "    <tr>\n",
       "      <th>9</th>\n",
       "      <td>ID_40509de62</td>\n",
       "      <td>ID_791f0be9c</td>\n",
       "      <td>19505</td>\n",
       "      <td>1</td>\n",
       "    </tr>\n",
       "    <tr>\n",
       "      <th>10</th>\n",
       "      <td>ID_3c004c3b1</td>\n",
       "      <td>ID_429ae736e</td>\n",
       "      <td>110318</td>\n",
       "      <td>1</td>\n",
       "    </tr>\n",
       "    <tr>\n",
       "      <th>11</th>\n",
       "      <td>ID_db5353b15</td>\n",
       "      <td>ID_2ec63e3d8</td>\n",
       "      <td>5015</td>\n",
       "      <td>1</td>\n",
       "    </tr>\n",
       "    <tr>\n",
       "      <th>12</th>\n",
       "      <td>ID_5ed23359d</td>\n",
       "      <td>ID_afa1dc029</td>\n",
       "      <td>34112</td>\n",
       "      <td>1</td>\n",
       "    </tr>\n",
       "    <tr>\n",
       "      <th>13</th>\n",
       "      <td>ID_f0681ceb5</td>\n",
       "      <td>ID_bd6195ce3</td>\n",
       "      <td>69538</td>\n",
       "      <td>1</td>\n",
       "    </tr>\n",
       "    <tr>\n",
       "      <th>14</th>\n",
       "      <td>ID_3803e393c</td>\n",
       "      <td>ID_e1cf67cdc</td>\n",
       "      <td>48643</td>\n",
       "      <td>1</td>\n",
       "    </tr>\n",
       "    <tr>\n",
       "      <th>15</th>\n",
       "      <td>ID_9405a4037</td>\n",
       "      <td>ID_7e886aad9</td>\n",
       "      <td>27771</td>\n",
       "      <td>1</td>\n",
       "    </tr>\n",
       "    <tr>\n",
       "      <th>16</th>\n",
       "      <td>ID_b8bfb3ecd</td>\n",
       "      <td>ID_ed82878c3</td>\n",
       "      <td>41113</td>\n",
       "      <td>1</td>\n",
       "    </tr>\n",
       "    <tr>\n",
       "      <th>17</th>\n",
       "      <td>ID_6495c1830</td>\n",
       "      <td>ID_cb80496ca</td>\n",
       "      <td>13110</td>\n",
       "      <td>1</td>\n",
       "    </tr>\n",
       "    <tr>\n",
       "      <th>18</th>\n",
       "      <td>ID_44015ac0d</td>\n",
       "      <td>ID_a5bac1c5c,ID_1f08db396,ID_0cf648ed1,ID_d1ad...</td>\n",
       "      <td>33509,2129,13917,20138</td>\n",
       "      <td>4</td>\n",
       "    </tr>\n",
       "  </tbody>\n",
       "</table>\n",
       "</div>"
      ],
      "text/plain": [
       "   ciphertext_id                                       plaintext_id  \\\n",
       "0   ID_4a6fc1ea9                                       ID_cb729587d   \n",
       "1   ID_c85d54d74                                       ID_75a4f4ea0   \n",
       "2   ID_a6298da09                                       ID_75c27b01a   \n",
       "3   ID_e54366f76                                       ID_b4531b8f6   \n",
       "4   ID_ac57b8817                          ID_1f08db396,ID_991f7a466   \n",
       "5   ID_2859e72b6                          ID_2765f020d,ID_2e6366465   \n",
       "6   ID_e11e58c6d                                       ID_c3ccfaffd   \n",
       "7   ID_d0e1bacd3                                       ID_7c81b10fd   \n",
       "8   ID_946569d55                          ID_89f8366fb,ID_1f08db396   \n",
       "9   ID_40509de62                                       ID_791f0be9c   \n",
       "10  ID_3c004c3b1                                       ID_429ae736e   \n",
       "11  ID_db5353b15                                       ID_2ec63e3d8   \n",
       "12  ID_5ed23359d                                       ID_afa1dc029   \n",
       "13  ID_f0681ceb5                                       ID_bd6195ce3   \n",
       "14  ID_3803e393c                                       ID_e1cf67cdc   \n",
       "15  ID_9405a4037                                       ID_7e886aad9   \n",
       "16  ID_b8bfb3ecd                                       ID_ed82878c3   \n",
       "17  ID_6495c1830                                       ID_cb80496ca   \n",
       "18  ID_44015ac0d  ID_a5bac1c5c,ID_1f08db396,ID_0cf648ed1,ID_d1ad...   \n",
       "\n",
       "           plaintext_index  count  \n",
       "0                    32777      1  \n",
       "1                    55493      1  \n",
       "2                     7421      1  \n",
       "3                    79389      1  \n",
       "4                2129,4603      2  \n",
       "5              30171,20053      2  \n",
       "6                    24329      1  \n",
       "7                    31150      1  \n",
       "8              105733,2129      2  \n",
       "9                    19505      1  \n",
       "10                  110318      1  \n",
       "11                    5015      1  \n",
       "12                   34112      1  \n",
       "13                   69538      1  \n",
       "14                   48643      1  \n",
       "15                   27771      1  \n",
       "16                   41113      1  \n",
       "17                   13110      1  \n",
       "18  33509,2129,13917,20138      4  "
      ]
     },
     "execution_count": 90,
     "metadata": {},
     "output_type": "execute_result"
    }
   ],
   "source": [
    "dffoundpair"
   ]
  },
  {
   "cell_type": "code",
   "execution_count": 92,
   "metadata": {},
   "outputs": [
    {
     "name": "stdout",
     "output_type": "stream",
     "text": [
      "plaintext_id=ID_cb729587d ciphertext_id=ID_4a6fc1ea9\n",
      "                        HAMLET: A little month, or ere those shoes were old\n",
      "H2-t.'HzW$QOSvkPw v)4I1iSECKPX: P ktxjkp qemfl, eq pvt sssid elede btqp sbcly)hVJ9M41hVpx4fKh!vG)-Fh\n",
      "plaintext_id=ID_75a4f4ea0 ciphertext_id=ID_c85d54d74\n",
      "                            Speak, brave Hector: we are much delighted.\n",
      "Pv4n2iv9M[[I39w5dBz'YURX-R-CIopea, adeld Sirsav: md lvt lggw cppxfsxtc.83 !NWeC xTrHd,7X:X)937$zf,(P\n",
      "plaintext_id=ID_75c27b01a ciphertext_id=ID_a6298da09\n",
      "                              I care not whither, for I beg no favour,\n",
      "0W,jz:pH(z9xIENX5o[VM,!zma)]P5M rydi dnf bwhfltq, qsh H miv ma jpuayh,,(Fb0gO5T]q.q4T3bt$5aJK1$)plKq\n",
      "plaintext_id=ID_b4531b8f6 ciphertext_id=ID_e54366f76\n",
      "                                To lay aside life-harming heaviness\n",
      "bN0pTfe9HBIzGH[uU$g?hBd.kmIW7j.qXe kld prtht ktjt-glvchyk wdlaxmpwi-ogKAan17gjP.QJd[w1- rui]xICalV9v\n",
      "plaintext_id=ID_991f7a466 ciphertext_id=ID_ac57b8817\n",
      "                            Accept this scroll, most gracious sovereign,\n",
      "CPuqjMj5$tOcHNthUki.'9LMNaAOErbptj ssmi rnvekw, qerf khynmete weupvthrr,rMJjGs$XVstbh 7,JRf)M9cI3Ix[\n"
     ]
    }
   ],
   "source": [
    "for i in range(5):\n",
    "    print_compare(dffoundpair1_.iloc[i]['plaintext_id'], dffoundpair1_.iloc[i]['ciphertext_id'] )\n",
    "\n",
    "# 대소문자 패턴이 있다. 단어별로 보자.\n",
    "# 원문 대문자와 암호문 대문자에 집중. 단어별 대문자 개수가 거의 비슷하다. 암호화에는 대문자수가 항상 원문의 이상임.  \n",
    "# "
   ]
  },
  {
   "cell_type": "code",
   "execution_count": 93,
   "metadata": {},
   "outputs": [
    {
     "name": "stdout",
     "output_type": "stream",
     "text": [
      "plaintext_id=ID_f000cad17 ciphertext_id=ID_6100247c5\n",
      "      Porter: Enter trumpets, sounding, then two Aldermen, Lord  Mayor, Garter, CRANMER, NORFOLK with his marshal's  staff, SUFFOLK, two Noblemen bearing great  standing-bowls for the christening-gifts, then  four Noblemen bearing a canopy, under which the  Duchess of Norfolk, godmother, bearing the child  richly habited in a mantle,  and c., train borne by a  Lady, then follows the Marchioness Dorset, the  other godmother, and Ladies. The troop pass once about the stage, and Garter speaks\n",
      "gQUXDoBshspv: Tmfih sdycopxi, raydctrv, ssid sis Pkoihlpr, Bndh  Cyksh, Flvjdd, GHYYQTQ, YSHEAPA vtxw gtw cydwwyw'w  islju, RGJUNWO, jva Reawicdy ftydmdf rvtyf  wjyyhxmr-fevww und xwd nlhhextmtrv-ftjjr, fltm  qskq Ysqkpqtm mipqtrv y nednbd, kmoih vsmrg flt  Cggwdew ee Ysheapa, fahcnfltq, mipqtrv ssi rgtps  qtgwkk lpatxtc tr p llrjkp,  edc n., xhytr qndrt ak e  Byod, jgpr unwpeve xwd Xehbsmempwi Cavidf, xwd  axwdd kecxsjgpv, pmo Ppctii. Ssi jqasf olwi nygt ymsks flt rfevd, lrs Flvjdd wfdloizmXnS8\n"
     ]
    }
   ],
   "source": [
    "# long text를 다시 분석해 보자.\n",
    "# print('plain:\\n', dftrain.loc[13862])\n",
    "# print('cipher level1:\\n', dftest1.loc[45272])\n",
    "print_compare('ID_f000cad17','ID_6100247c5')\n",
    "# 암호 인코딩이 단순치환은 아니다. a만 보면 p, e, y로도 변환된다. "
   ]
  },
  {
   "cell_type": "code",
   "execution_count": 94,
   "metadata": {},
   "outputs": [
    {
     "name": "stdout",
     "output_type": "stream",
     "text": [
      "I care not whither, for I beg no favour,\n",
      "0W,jz:pH(z9xIENX5o[VM,!zma)]P5M rydi dnf bwhfltq, qsh H miv ma jpuayh,,(Fb0gO5T]q.q4T3bt$5aJK1$)plKq\n",
      "['I', 'care', 'not', 'whither,', 'for', 'I', 'beg', 'no', 'favour,']\n",
      "['M', 'rydi', 'dnf', 'bwhfltq,', 'qsh', 'H', 'miv', 'ma', 'jpuayh,']\n"
     ]
    }
   ],
   "source": [
    "i=2\n",
    "plaintext = get_plaintext(dffoundpair.iloc[i]['plaintext_id'])\n",
    "ciphertext_org = get_ciphertext(dffoundpair.iloc[i]['ciphertext_id'])\n",
    "print(plaintext)\n",
    "print(ciphertext_org)\n",
    "ciphertext = remove_padding(ciphertext_org, len(plaintext))\n",
    "p1 = plaintext.split()\n",
    "c1 = ciphertext.split()\n",
    "print(p1)\n",
    "print(c1)"
   ]
  },
  {
   "cell_type": "code",
   "execution_count": 95,
   "metadata": {},
   "outputs": [
    {
     "name": "stdout",
     "output_type": "stream",
     "text": [
      "I M upper case count= 1 1\n",
      "[4]\n",
      "care rydi upper case count= 0 0\n",
      "[15, 24, 11, 4]\n",
      "not dnf upper case count= 0 0\n",
      "[15, 24, 11]\n",
      "whither, bwhfltq, upper case count= 0 0\n",
      "[4, 15, 24, 11, 4, 15, 24]\n",
      "for qsh upper case count= 0 0\n",
      "[11, 4, 15]\n",
      "I H upper case count= 1 1\n",
      "[24]\n",
      "beg miv upper case count= 0 0\n",
      "[11, 4, 15]\n",
      "no ma upper case count= 0 0\n",
      "[24, 11]\n",
      "favour, jpuayh, upper case count= 0 0\n",
      "[4, 15, 24, 11, 4, 15]\n",
      "[]\n",
      "[]\n"
     ]
    }
   ],
   "source": [
    "linenum=0\n",
    "prepadding=[]\n",
    "postpadding=[]\n",
    "\n",
    "diffstring=[]\n",
    "diffplain=[]\n",
    "diffcipher=[]\n",
    "for pt, ct in zip(p1, c1):\n",
    "    linenum+=1\n",
    "    print(pt, ct, 'upper case count=', count_upper(pt), count_upper(ct))\n",
    "    if len(pt)==len(ct):\n",
    "        arr, c2, d2 = diff_str(pt, ct, 1)\n",
    "        print(arr)\n",
    "        diffstring += arr\n",
    "        diffplain += c2\n",
    "        diffcipher += d2\n",
    "    elif linenum==1:\n",
    "        # first line\n",
    "        arr, c2, d2 = diff_str(pt, ct[-len(pt):], 1)\n",
    "        print(arr)\n",
    "        diffstring += arr\n",
    "        diffplain += c2\n",
    "        diffcipher += d2\n",
    "        prepadding = ct[:-len(pt)]\n",
    "    else:\n",
    "        arr, c2, d2 = diff_str(pt, ct[:len(pt)], 1)\n",
    "        print(arr)\n",
    "        diffstring += arr\n",
    "        diffplain += c2\n",
    "        diffcipher += d2\n",
    "        postpadding = ct[len(pt):]\n",
    "print(prepadding)\n",
    "print(postpadding)\n",
    "\n",
    "# 첫번째 문장 분석\n",
    "# 11, 4, 16, 25 의 반복? 다음은 12? 5? 1씩차이??? (원문은 HENRY V)\n",
    "# 다음은 원래의 값으로 회복 \n",
    "# 16? 25, 11, 4, (원문은 wing )\n",
    "# 16 25 11 4 (원문 T h e r)\n",
    "# 15 25 12 4 (원문 e f o r) \n",
    "\n",
    "# 뭔가 반복되는 것 같다. 4자리씩 끊어서 보자.\n",
    "# 11 4 16 25 (HENR) (SIDQ)\n",
    "# 12 5 16 25 (Y V wi) (K A mh) ; 앞에 2개가 왜 1씩 차이가? \n",
    "# 11 4 16 25 (ng Th) (yk Jg)\n",
    "# 11 4 15 25 (eref) (pvte)\n",
    "# 12 4 15 25 (ore w) (avt v)\n",
    "# 11 4 16 25 (hen h) (sid g)\n",
    "# 11 4 15 25 (e see) (p wtd)\n",
    "# 12 4 15 24 (s rea)\n",
    "# 12 4 16 25 (son o)\n",
    "# hmmmmmm\n",
    "#\n",
    "# 뭔가 약간의 변화차이는 첫문장의 패딩에 답이 있지 않을까?\n",
    "# 암호문의 처음과 끝에는 패딩이 들어있는 것으로 보인다.\n",
    "# \n",
    "\n",
    "# 4, 15, 24, 12의 반복으로 보이는데, 가끔씩 +-1 오차가 발생한다????? overflow시 처리?\n"
   ]
  },
  {
   "cell_type": "code",
   "execution_count": 96,
   "metadata": {},
   "outputs": [
    {
     "name": "stdout",
     "output_type": "stream",
     "text": [
      "(19, 4)\n"
     ]
    }
   ],
   "source": [
    "print(dffoundpair.shape)"
   ]
  },
  {
   "cell_type": "code",
   "execution_count": 99,
   "metadata": {},
   "outputs": [
    {
     "name": "stdout",
     "output_type": "stream",
     "text": [
      "HAMLET: <==> SECKPX:\n",
      "A <==> P\n",
      "little <==> ktxjkp\n",
      "month, <==> qemfl,\n",
      "or <==> eq\n",
      "ere <==> pvt\n",
      "those <==> sssid\n",
      "shoes <==> elede\n",
      "were <==> btqp\n",
      "old <==> sbc\n",
      "[11, 4, 15, 24] ['H', 'A', 'M', 'L'] ['S', 'E', 'C', 'K']\n",
      "[11, 4, 15, 24] ['E', 'T', 'A', 'l'] ['P', 'X', 'P', 'k']\n",
      "[11, 4, 15, 24] ['i', 't', 't', 'l'] ['t', 'x', 'j', 'k']\n",
      "[11, 4, 15, 24] ['e', 'm', 'o', 'n'] ['p', 'q', 'e', 'm']\n",
      "[11, 4, 15, 24] ['t', 'h', 'o', 'r'] ['f', 'l', 'e', 'q']\n",
      "[11, 4, 15, 24] ['e', 'r', 'e', 't'] ['p', 'v', 't', 's']\n",
      "[11, 4, 15, 24] ['h', 'o', 's', 'e'] ['s', 's', 'i', 'd']\n",
      "[11, 4, 15, 24] ['s', 'h', 'o', 'e'] ['e', 'l', 'e', 'd']\n",
      "[11, 4, 15, 24] ['s', 'w', 'e', 'r'] ['e', 'b', 't', 'q']\n",
      "[11, 4, 15, 24] ['e', 'o', 'l', 'd'] ['p', 's', 'b', 'c']\n",
      "[] [] []\n",
      "wordcnt= 10 10 plainlen= 51\n",
      "['HAMLET:', 'A', 'little', 'month,', 'or', 'ere', 'those', 'shoes', 'were', 'old']\n",
      "['SECKPX:', 'P', 'ktxjkp', 'qemfl,', 'eq', 'pvt', 'sssid', 'elede', 'btqp', 'sbc']\n",
      "pad1= 24 H2-t.'HzW$QOSvkPw v)4I1i\n",
      "pad2= 25 ly)hVJ9M41hVpx4fKh!vG)-Fh\n",
      "record= [11 51 10 11 24 'H' 'S' 'H' 7 'HAMLET:' 'SECKPX:'\n",
      " \"H2-t.'HzW$QOSvkPw v)4I1i\"]\n",
      "--------------------\n",
      "Speak, <==> Iopea,\n",
      "brave <==> adeld\n",
      "Hector: <==> Sirsav:\n",
      "we <==> md\n",
      "are <==> lvt\n",
      "much <==> lggw\n",
      "delighted. <==> cppxfsxtc.\n",
      "[15, 24, 11, 4] ['S', 'p', 'e', 'a'] ['I', 'o', 'p', 'e']\n",
      "[15, 24, 11, 4] ['k', 'b', 'r', 'a'] ['a', 'a', 'd', 'e']\n",
      "[15, 24, 11, 4] ['v', 'e', 'H', 'e'] ['l', 'd', 'S', 'i']\n",
      "[15, 24, 11, 4] ['c', 't', 'o', 'r'] ['r', 's', 'a', 'v']\n",
      "[15, 24, 11, 4] ['w', 'e', 'a', 'r'] ['m', 'd', 'l', 'v']\n",
      "[15, 24, 11, 4] ['e', 'm', 'u', 'c'] ['t', 'l', 'g', 'g']\n",
      "[15, 24, 11, 4] ['h', 'd', 'e', 'l'] ['w', 'c', 'p', 'p']\n",
      "[15, 24, 11, 4] ['i', 'g', 'h', 't'] ['x', 'f', 's', 'x']\n",
      "[15, 24] ['e', 'd'] ['t', 'c']\n",
      "wordcnt= 7 7 plainlen= 43\n",
      "['Speak,', 'brave', 'Hector:', 'we', 'are', 'much', 'delighted.']\n",
      "['Iopea,', 'adeld', 'Sirsav:', 'md', 'lvt', 'lggw', 'cppxfsxtc.']\n",
      "pad1= 28 Pv4n2iv9M[[I39w5dBz'YURX-R-C\n",
      "pad2= 29 83 !NWeC xTrHd,7X:X)937$zf,(P\n",
      "record= [15 43 7 9 28 'S' 'I' 'P' 6 'Speak,' 'Iopea,'\n",
      " \"Pv4n2iv9M[[I39w5dBz'YURX-R-C\"]\n",
      "--------------------\n",
      "I <==> M\n",
      "care <==> rydi\n",
      "not <==> dnf\n",
      "whither, <==> bwhfltq,\n",
      "for <==> qsh\n",
      "I <==> H\n",
      "beg <==> miv\n",
      "no <==> ma\n",
      "favour, <==> jpuayh,\n",
      "[4, 15, 24, 11] ['I', 'c', 'a', 'r'] ['M', 'r', 'y', 'd']\n",
      "[4, 15, 24, 11] ['e', 'n', 'o', 't'] ['i', 'd', 'n', 'f']\n",
      "[4, 15, 24, 11] ['w', 'h', 'i', 't'] ['b', 'w', 'h', 'f']\n",
      "[4, 15, 24, 11] ['h', 'e', 'r', 'f'] ['l', 't', 'q', 'q']\n",
      "[4, 15, 24, 11] ['o', 'r', 'I', 'b'] ['s', 'h', 'H', 'm']\n",
      "[4, 15, 24, 11] ['e', 'g', 'n', 'o'] ['i', 'v', 'm', 'a']\n",
      "[4, 15, 24, 11] ['f', 'a', 'v', 'o'] ['j', 'p', 'u', 'a']\n",
      "[4, 15] ['u', 'r'] ['y', 'h']\n",
      "wordcnt= 9 9 plainlen= 40\n",
      "['I', 'care', 'not', 'whither,', 'for', 'I', 'beg', 'no', 'favour,']\n",
      "['M', 'rydi', 'dnf', 'bwhfltq,', 'qsh', 'H', 'miv', 'ma', 'jpuayh,']\n",
      "pad1= 30 0W,jz:pH(z9xIENX5o[VM,!zma)]P5\n",
      "pad2= 30 ,(Fb0gO5T]q.q4T3bt$5aJK1$)plKq\n",
      "record= [4 40 9 10 30 'I' 'M' '0' 1 'I' 'M' '0W,jz:pH(z9xIENX5o[VM,!zma)]P5']\n",
      "--------------------\n",
      "To <==> Xe\n",
      "lay <==> kld\n",
      "aside <==> prtht\n",
      "life-harming <==> ktjt-glvchyk\n",
      "heaviness <==> wdlaxmpwi\n",
      "[4, 15, 24, 11] ['T', 'o', 'l', 'a'] ['X', 'e', 'k', 'l']\n",
      "[4, 15, 24, 11] ['y', 'a', 's', 'i'] ['d', 'p', 'r', 't']\n",
      "[4, 15, 24, 11] ['d', 'e', 'l', 'i'] ['h', 't', 'k', 't']\n",
      "[4, 15, 24, 11] ['f', 'e', 'h', 'a'] ['j', 't', 'g', 'l']\n",
      "[4, 15, 24, 11] ['r', 'm', 'i', 'n'] ['v', 'c', 'h', 'y']\n",
      "[4, 15, 24, 11] ['g', 'h', 'e', 'a'] ['k', 'w', 'd', 'l']\n",
      "[4, 15, 24, 11] ['v', 'i', 'n', 'e'] ['a', 'x', 'm', 'p']\n",
      "[4, 15] ['s', 's'] ['w', 'i']\n",
      "wordcnt= 5 5 plainlen= 35\n",
      "['To', 'lay', 'aside', 'life-harming', 'heaviness']\n",
      "['Xe', 'kld', 'prtht', 'ktjt-glvchyk', 'wdlaxmpwi']\n",
      "pad1= 32 bN0pTfe9HBIzGH[uU$g?hBd.kmIW7j.q\n",
      "pad2= 33 -ogKAan17gjP.QJd[w1- rui]xICalV9v\n",
      "record= [4 35 5 4 32 'T' 'X' 'b' 2 'To' 'Xe' 'bN0pTfe9HBIzGH[uU$g?hBd.kmIW7j.q']\n",
      "--------------------\n",
      "Accept <==> Erbptj\n",
      "this <==> ssmi\n",
      "scroll, <==> rnvekw,\n",
      "most <==> qerf\n",
      "gracious <==> khynmete\n",
      "sovereign, <==> weupvthrr,\n",
      "[4, 15, 24, 11] ['A', 'c', 'c', 'e'] ['E', 'r', 'b', 'p']\n",
      "[4, 15, 24, 11] ['p', 't', 't', 'h'] ['t', 'j', 's', 's']\n",
      "[4, 15, 24, 11] ['i', 's', 's', 'c'] ['m', 'i', 'r', 'n']\n",
      "[4, 15, 24, 11] ['r', 'o', 'l', 'l'] ['v', 'e', 'k', 'w']\n",
      "[4, 15, 24, 11] ['m', 'o', 's', 't'] ['q', 'e', 'r', 'f']\n",
      "[4, 15, 24, 11] ['g', 'r', 'a', 'c'] ['k', 'h', 'y', 'n']\n",
      "[4, 15, 24, 11] ['i', 'o', 'u', 's'] ['m', 'e', 't', 'e']\n",
      "[4, 15, 24, 11] ['s', 'o', 'v', 'e'] ['w', 'e', 'u', 'p']\n",
      "[4, 15, 24, 11] ['r', 'e', 'i', 'g'] ['v', 't', 'h', 'r']\n",
      "[4] ['n'] ['r']\n",
      "wordcnt= 6 6 plainlen= 44\n",
      "['Accept', 'this', 'scroll,', 'most', 'gracious', 'sovereign,']\n",
      "['Erbptj', 'ssmi', 'rnvekw,', 'qerf', 'khynmete', 'weupvthrr,']\n",
      "pad1= 28 CPuqjMj5$tOcHNthUki.'9LMNaAO\n",
      "pad2= 28 rMJjGs$XVstbh 7,JRf)M9cI3Ix[\n",
      "record= [4 44 6 7 28 'A' 'E' 'C' 6 'Accept' 'Erbptj'\n",
      " \"CPuqjMj5$tOcHNthUki.'9LMNaAO\"]\n",
      "--------------------\n",
      "I <==> X\n",
      "could <==> baybc\n",
      "well <==> iibk\n",
      "forbear't. <==> qshapeh's.\n",
      "[15, 24, 11, 4] ['I', 'c', 'o', 'u'] ['X', 'b', 'a', 'y']\n",
      "[15, 24, 11, 4] ['l', 'd', 'w', 'e'] ['b', 'c', 'i', 'i']\n",
      "[15, 24, 11, 4] ['l', 'l', 'f', 'o'] ['b', 'k', 'q', 's']\n",
      "[15, 24, 11, 4] ['r', 'b', 'e', 'a'] ['h', 'a', 'p', 'e']\n",
      "[15, 24] ['r', 't'] ['h', 's']\n",
      "wordcnt= 4 4 plainlen= 23\n",
      "['I', 'could', 'well', \"forbear't.\"]\n",
      "['X', 'baybc', 'iibk', \"qshapeh's.\"]\n",
      "pad1= 38 j-?xWsIxuFxx1bgN,,:,VlU[-w'F,LM[)nxyX]\n",
      "pad2= 39 i-:XI 7Q11to$GvVMvbYPb0rF,M1V3wwzFi-G5J\n",
      "record= [15 23 4 5 38 'I' 'X' 'j' 1 'I' 'X'\n",
      " \"j-?xWsIxuFxx1bgN,,:,VlU[-w'F,LM[)nxyX]\"]\n",
      "--------------------\n",
      "Dromio, <==> Ovelts,\n",
      "nor <==> dnd\n",
      "thou? <==> xwng?\n",
      "[11, 4, 15, 24] ['D', 'r', 'o', 'm'] ['O', 'v', 'e', 'l']\n",
      "[11, 4, 15, 24] ['i', 'o', 'n', 'o'] ['t', 's', 'd', 'n']\n",
      "[11, 4, 15, 24] ['r', 't', 'h', 'o'] ['d', 'x', 'w', 'n']\n",
      "[11] ['u'] ['g']\n",
      "wordcnt= 3 3 plainlen= 17\n",
      "['Dromio,', 'nor', 'thou?']\n",
      "['Ovelts,', 'dnd', 'xwng?']\n",
      "pad1= 41 Tte:d)9f894Ch'4Q[Pd2Q1$yaqA..PSsal4HUwlLh\n",
      "pad2= 42 ?Pj)L1yY,OF-FOj.hSMEfi5?yeeOp3igo56gvz0IMo\n",
      "record= [11 17 3 4 41 'D' 'O' 'T' 7 'Dromio,' 'Ovelts,'\n",
      " \"Tte:d)9f894Ch'4Q[Pd2Q1$yaqA..PSsal4HUwlLh\"]\n",
      "--------------------\n"
     ]
    }
   ],
   "source": [
    "dfguessindex = pd.DataFrame(columns=['startindex', 'plainlen', 'wordcnt', 'white', 'padsizel', 'firstcharp', \n",
    "                                     'firstcharc', 'firstpad', 'firstwordlen', 'firstword', 'firstword2', 'prepadding'])\n",
    "for i in range(7):\n",
    "    plaintext = get_plaintext(dffoundpair1_.iloc[i]['plaintext_id'])\n",
    "    ciphertext_org = get_ciphertext(dffoundpair1_.iloc[i]['ciphertext_id'])\n",
    "    ciphertext = remove_padding(ciphertext_org, len(plaintext))\n",
    "    p1 = plaintext.split()\n",
    "    c1 = ciphertext.split()\n",
    "    \n",
    "    encsize = math.ceil(len(plaintext)/100)*100\n",
    "    padsize = encsize - len(plaintext)\n",
    "    padsizel = padsize//2\n",
    "    padsizer = padsize - padsizel\n",
    "    \n",
    "    linenum=0\n",
    "    prepadding=ciphertext_org[:padsizel]\n",
    "    postpadding=ciphertext_org[encsize-padsizer:]\n",
    "    diffstring=[]\n",
    "    diffplain=[]\n",
    "    diffcipher=[]\n",
    "    for pt, ct in zip(p1, c1):\n",
    "        linenum+=1\n",
    "        print(pt,'<==>', ct)\n",
    "        arr, c2, d2 = diff_str(pt, ct, 1)\n",
    "        diffstring += arr\n",
    "        diffplain += c2\n",
    "        diffcipher += d2\n",
    "\n",
    "    print4(diffstring, diffplain, diffcipher)\n",
    "    print('wordcnt=', len(p1), len(c1), 'plainlen=', len(plaintext))\n",
    "    print(p1)\n",
    "    print(c1)\n",
    "    print('pad1=', len(prepadding), prepadding)\n",
    "    print('pad2=', len(postpadding), postpadding)\n",
    "    white=0\n",
    "    for pp in plaintext:\n",
    "        if is_white(pp):\n",
    "            white+=1\n",
    "    rec = pd.Series({'startindex':diffstring[0], 'plainlen':len(plaintext), 'wordcnt':len(p1), 'white':white,\n",
    "                     'padsizel':len(prepadding), 'firstcharp':plaintext[0], 'firstcharc':ciphertext[0], \n",
    "                     'firstpad':prepadding[0], 'firstwordlen':len(p1[0]), 'firstword':p1[0], 'firstword2':c1[0],'prepadding':prepadding})\n",
    "    print('record=', rec.values)\n",
    "    dfguessindex = dfguessindex.append(rec, ignore_index=True)\n",
    "    print('-'*20)\n",
    "    "
   ]
  },
  {
   "cell_type": "code",
   "execution_count": 100,
   "metadata": {},
   "outputs": [
    {
     "data": {
      "text/html": [
       "<div>\n",
       "<style scoped>\n",
       "    .dataframe tbody tr th:only-of-type {\n",
       "        vertical-align: middle;\n",
       "    }\n",
       "\n",
       "    .dataframe tbody tr th {\n",
       "        vertical-align: top;\n",
       "    }\n",
       "\n",
       "    .dataframe thead th {\n",
       "        text-align: right;\n",
       "    }\n",
       "</style>\n",
       "<table border=\"1\" class=\"dataframe\">\n",
       "  <thead>\n",
       "    <tr style=\"text-align: right;\">\n",
       "      <th></th>\n",
       "      <th>startindex</th>\n",
       "      <th>plainlen</th>\n",
       "      <th>wordcnt</th>\n",
       "      <th>white</th>\n",
       "      <th>padsizel</th>\n",
       "      <th>firstcharp</th>\n",
       "      <th>firstcharc</th>\n",
       "      <th>firstpad</th>\n",
       "      <th>firstwordlen</th>\n",
       "      <th>firstword</th>\n",
       "      <th>firstword2</th>\n",
       "      <th>prepadding</th>\n",
       "    </tr>\n",
       "  </thead>\n",
       "  <tbody>\n",
       "    <tr>\n",
       "      <th>0</th>\n",
       "      <td>11</td>\n",
       "      <td>51</td>\n",
       "      <td>10</td>\n",
       "      <td>11</td>\n",
       "      <td>24</td>\n",
       "      <td>H</td>\n",
       "      <td>S</td>\n",
       "      <td>H</td>\n",
       "      <td>7</td>\n",
       "      <td>HAMLET:</td>\n",
       "      <td>SECKPX:</td>\n",
       "      <td>H2-t.'HzW$QOSvkPw v)4I1i</td>\n",
       "    </tr>\n",
       "    <tr>\n",
       "      <th>1</th>\n",
       "      <td>15</td>\n",
       "      <td>43</td>\n",
       "      <td>7</td>\n",
       "      <td>9</td>\n",
       "      <td>28</td>\n",
       "      <td>S</td>\n",
       "      <td>I</td>\n",
       "      <td>P</td>\n",
       "      <td>6</td>\n",
       "      <td>Speak,</td>\n",
       "      <td>Iopea,</td>\n",
       "      <td>Pv4n2iv9M[[I39w5dBz'YURX-R-C</td>\n",
       "    </tr>\n",
       "    <tr>\n",
       "      <th>2</th>\n",
       "      <td>4</td>\n",
       "      <td>40</td>\n",
       "      <td>9</td>\n",
       "      <td>10</td>\n",
       "      <td>30</td>\n",
       "      <td>I</td>\n",
       "      <td>M</td>\n",
       "      <td>0</td>\n",
       "      <td>1</td>\n",
       "      <td>I</td>\n",
       "      <td>M</td>\n",
       "      <td>0W,jz:pH(z9xIENX5o[VM,!zma)]P5</td>\n",
       "    </tr>\n",
       "    <tr>\n",
       "      <th>3</th>\n",
       "      <td>4</td>\n",
       "      <td>35</td>\n",
       "      <td>5</td>\n",
       "      <td>4</td>\n",
       "      <td>32</td>\n",
       "      <td>T</td>\n",
       "      <td>X</td>\n",
       "      <td>b</td>\n",
       "      <td>2</td>\n",
       "      <td>To</td>\n",
       "      <td>Xe</td>\n",
       "      <td>bN0pTfe9HBIzGH[uU$g?hBd.kmIW7j.q</td>\n",
       "    </tr>\n",
       "    <tr>\n",
       "      <th>4</th>\n",
       "      <td>4</td>\n",
       "      <td>44</td>\n",
       "      <td>6</td>\n",
       "      <td>7</td>\n",
       "      <td>28</td>\n",
       "      <td>A</td>\n",
       "      <td>E</td>\n",
       "      <td>C</td>\n",
       "      <td>6</td>\n",
       "      <td>Accept</td>\n",
       "      <td>Erbptj</td>\n",
       "      <td>CPuqjMj5$tOcHNthUki.'9LMNaAO</td>\n",
       "    </tr>\n",
       "    <tr>\n",
       "      <th>5</th>\n",
       "      <td>15</td>\n",
       "      <td>23</td>\n",
       "      <td>4</td>\n",
       "      <td>5</td>\n",
       "      <td>38</td>\n",
       "      <td>I</td>\n",
       "      <td>X</td>\n",
       "      <td>j</td>\n",
       "      <td>1</td>\n",
       "      <td>I</td>\n",
       "      <td>X</td>\n",
       "      <td>j-?xWsIxuFxx1bgN,,:,VlU[-w'F,LM[)nxyX]</td>\n",
       "    </tr>\n",
       "    <tr>\n",
       "      <th>6</th>\n",
       "      <td>11</td>\n",
       "      <td>17</td>\n",
       "      <td>3</td>\n",
       "      <td>4</td>\n",
       "      <td>41</td>\n",
       "      <td>D</td>\n",
       "      <td>O</td>\n",
       "      <td>T</td>\n",
       "      <td>7</td>\n",
       "      <td>Dromio,</td>\n",
       "      <td>Ovelts,</td>\n",
       "      <td>Tte:d)9f894Ch'4Q[Pd2Q1$yaqA..PSsal4HUwlLh</td>\n",
       "    </tr>\n",
       "  </tbody>\n",
       "</table>\n",
       "</div>"
      ],
      "text/plain": [
       "  startindex plainlen wordcnt white padsizel firstcharp firstcharc firstpad  \\\n",
       "0         11       51      10    11       24          H          S        H   \n",
       "1         15       43       7     9       28          S          I        P   \n",
       "2          4       40       9    10       30          I          M        0   \n",
       "3          4       35       5     4       32          T          X        b   \n",
       "4          4       44       6     7       28          A          E        C   \n",
       "5         15       23       4     5       38          I          X        j   \n",
       "6         11       17       3     4       41          D          O        T   \n",
       "\n",
       "  firstwordlen firstword firstword2                                 prepadding  \n",
       "0            7   HAMLET:    SECKPX:                   H2-t.'HzW$QOSvkPw v)4I1i  \n",
       "1            6    Speak,     Iopea,               Pv4n2iv9M[[I39w5dBz'YURX-R-C  \n",
       "2            1         I          M             0W,jz:pH(z9xIENX5o[VM,!zma)]P5  \n",
       "3            2        To         Xe           bN0pTfe9HBIzGH[uU$g?hBd.kmIW7j.q  \n",
       "4            6    Accept     Erbptj               CPuqjMj5$tOcHNthUki.'9LMNaAO  \n",
       "5            1         I          X     j-?xWsIxuFxx1bgN,,:,VlU[-w'F,LM[)nxyX]  \n",
       "6            7   Dromio,    Ovelts,  Tte:d)9f894Ch'4Q[Pd2Q1$yaqA..PSsal4HUwlLh  "
      ]
     },
     "execution_count": 100,
     "metadata": {},
     "output_type": "execute_result"
    }
   ],
   "source": [
    "dfguessindex"
   ]
  },
  {
   "cell_type": "code",
   "execution_count": 101,
   "metadata": {},
   "outputs": [],
   "source": [
    "# 패턴은 나왔다. 아직 키 길이가 4인데, rotation 시작인덱스를 찾아야 된다. padding이나 length와 관련성을 찾아보자.\n",
    "# 키 패턴 ; 4 15 24 11\n",
    "# 첫번째 케이스 ; padding길이가 24,25, plain길이 51 wordcnt 10  키는 11로 시작. \n",
    "# 두번째 케이스 ; padding길이가 28,29, plain길이 43 wordcnt 7 키 15. (위와 키 인덱스는 2차이가 난다.) 뭔가 2가 차이나는 것은? \n",
    "# 세번째       ;              30,30,          40, 9  키 4 (위와 키 인덱스 1차이) leftpadding size 차이/2=1\n",
    "# 네번째       ;              32,33, 35, 5, key 4. (상동!!! 무엇이 같지?)\n",
    "# case 5; key=11, w=3, l=17, \n",
    "# try ; first letter, word count, first word length, plaintext length, left padding size, ....\n",
    "# \n"
   ]
  },
  {
   "cell_type": "code",
   "execution_count": null,
   "metadata": {},
   "outputs": [],
   "source": []
  },
  {
   "cell_type": "code",
   "execution_count": null,
   "metadata": {},
   "outputs": [],
   "source": []
  }
 ],
 "metadata": {
  "kernelspec": {
   "display_name": "Python 3",
   "language": "python",
   "name": "python3"
  },
  "language_info": {
   "codemirror_mode": {
    "name": "ipython",
    "version": 3
   },
   "file_extension": ".py",
   "mimetype": "text/x-python",
   "name": "python",
   "nbconvert_exporter": "python",
   "pygments_lexer": "ipython3",
   "version": "3.7.3"
  }
 },
 "nbformat": 4,
 "nbformat_minor": 2
}
