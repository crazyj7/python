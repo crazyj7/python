{
 "cells": [
  {
   "cell_type": "markdown",
   "metadata": {},
   "source": [
    "# Kaggle EDA Start"
   ]
  },
  {
   "cell_type": "markdown",
   "metadata": {},
   "source": [
    "\n",
    "데이터 분석 / 그래프 작성 / 통계 정보 등\n",
    "\n",
    "> Author: crazyj7@gmail.com"
   ]
  },
  {
   "cell_type": "code",
   "execution_count": 65,
   "metadata": {},
   "outputs": [],
   "source": [
    "# 경고 무시 (쓸데없는 로그 출력금지)\n",
    "import warnings\n",
    "warnings.filterwarnings('ignore')\n",
    "\n",
    "import numpy as np\n",
    "import pandas as pd\n",
    "\n",
    "# 그래프 관련 \n",
    "import matplotlib.pyplot as plt\n",
    "import seaborn as sns\n",
    "\n"
   ]
  },
  {
   "cell_type": "code",
   "execution_count": 66,
   "metadata": {},
   "outputs": [],
   "source": [
    "# plot 환경설정 기본값과 달라진 점\n",
    "class DictDiffer(object):\n",
    "    \"\"\"\n",
    "    Calculate the difference between two dictionaries as:\n",
    "    (1) items added\n",
    "    (2) items removed\n",
    "    (3) keys same in both but changed values\n",
    "    (4) keys same in both and unchanged values\n",
    "    \"\"\"\n",
    "    def __init__(self, current_dict, past_dict):\n",
    "        self.current_dict, self.past_dict = current_dict, past_dict\n",
    "        self.set_current, self.set_past = set(current_dict.keys()), set(past_dict.keys())\n",
    "        self.intersect = self.set_current.intersection(self.set_past)\n",
    "    def added(self):\n",
    "        return self.set_current - self.intersect \n",
    "    def removed(self):\n",
    "        return self.set_past - self.intersect \n",
    "    def changed(self):\n",
    "        return set(o for o in self.intersect if self.past_dict[o] != self.current_dict[o])\n",
    "    def unchanged(self):\n",
    "        return set(o for o in self.intersect if self.past_dict[o] == self.current_dict[o])"
   ]
  },
  {
   "cell_type": "code",
   "execution_count": 67,
   "metadata": {},
   "outputs": [],
   "source": [
    "# make default graph configure\n",
    "# 그래프 설정값을 디폴트로 리셋해 준다. \n",
    "# (가끔 앞의 그래프 설정 변경으로 잘 나오던 그래프가 이상하게 나올때 사용)\n",
    "def pltconfig_default():\n",
    "    sns.reset_defaults()\n",
    "    %matplotlib inline\n",
    "    \n",
    "pltconfig_default()"
   ]
  },
  {
   "cell_type": "code",
   "execution_count": 68,
   "metadata": {},
   "outputs": [
    {
     "name": "stdout",
     "output_type": "stream",
     "text": [
      "interactive False True\n",
      "figure.facecolor white (1, 1, 1, 0)\n",
      "figure.dpi 100.0 72.0\n",
      "figure.figsize [6.4, 4.8] [6.0, 4.0]\n",
      "figure.subplot.bottom 0.11 0.125\n",
      "figure.edgecolor white (1, 1, 1, 0)\n"
     ]
    }
   ],
   "source": [
    "def pltconfig_check():\n",
    "    d=DictDiffer(plt.rcParams, plt.rcParamsDefault)\n",
    "    for it in d.changed():\n",
    "        print(it, plt.rcParamsDefault[it], plt.rcParams[it])\n",
    "        \n",
    "pltconfig_check()"
   ]
  },
  {
   "cell_type": "code",
   "execution_count": 69,
   "metadata": {},
   "outputs": [],
   "source": [
    "## load data\n",
    "inputdir='./'\n",
    "outputdir='./'"
   ]
  },
  {
   "cell_type": "code",
   "execution_count": 70,
   "metadata": {},
   "outputs": [],
   "source": [
    "df_train = pd.read_csv(inputdir+'train.csv')\n",
    "df_test = pd.read_csv(inputdir+'test.csv')"
   ]
  },
  {
   "cell_type": "markdown",
   "metadata": {},
   "source": [
    "## 데이터 탐색"
   ]
  },
  {
   "cell_type": "code",
   "execution_count": 71,
   "metadata": {},
   "outputs": [
    {
     "data": {
      "text/html": [
       "<div>\n",
       "<style scoped>\n",
       "    .dataframe tbody tr th:only-of-type {\n",
       "        vertical-align: middle;\n",
       "    }\n",
       "\n",
       "    .dataframe tbody tr th {\n",
       "        vertical-align: top;\n",
       "    }\n",
       "\n",
       "    .dataframe thead th {\n",
       "        text-align: right;\n",
       "    }\n",
       "</style>\n",
       "<table border=\"1\" class=\"dataframe\">\n",
       "  <thead>\n",
       "    <tr style=\"text-align: right;\">\n",
       "      <th></th>\n",
       "      <th>PassengerId</th>\n",
       "      <th>Survived</th>\n",
       "      <th>Pclass</th>\n",
       "      <th>Name</th>\n",
       "      <th>Sex</th>\n",
       "      <th>Age</th>\n",
       "      <th>SibSp</th>\n",
       "      <th>Parch</th>\n",
       "      <th>Ticket</th>\n",
       "      <th>Fare</th>\n",
       "      <th>Cabin</th>\n",
       "      <th>Embarked</th>\n",
       "    </tr>\n",
       "  </thead>\n",
       "  <tbody>\n",
       "    <tr>\n",
       "      <th>0</th>\n",
       "      <td>1</td>\n",
       "      <td>0</td>\n",
       "      <td>3</td>\n",
       "      <td>Braund, Mr. Owen Harris</td>\n",
       "      <td>male</td>\n",
       "      <td>22.0</td>\n",
       "      <td>1</td>\n",
       "      <td>0</td>\n",
       "      <td>A/5 21171</td>\n",
       "      <td>7.2500</td>\n",
       "      <td>NaN</td>\n",
       "      <td>S</td>\n",
       "    </tr>\n",
       "    <tr>\n",
       "      <th>1</th>\n",
       "      <td>2</td>\n",
       "      <td>1</td>\n",
       "      <td>1</td>\n",
       "      <td>Cumings, Mrs. John Bradley (Florence Briggs Th...</td>\n",
       "      <td>female</td>\n",
       "      <td>38.0</td>\n",
       "      <td>1</td>\n",
       "      <td>0</td>\n",
       "      <td>PC 17599</td>\n",
       "      <td>71.2833</td>\n",
       "      <td>C85</td>\n",
       "      <td>C</td>\n",
       "    </tr>\n",
       "    <tr>\n",
       "      <th>2</th>\n",
       "      <td>3</td>\n",
       "      <td>1</td>\n",
       "      <td>3</td>\n",
       "      <td>Heikkinen, Miss. Laina</td>\n",
       "      <td>female</td>\n",
       "      <td>26.0</td>\n",
       "      <td>0</td>\n",
       "      <td>0</td>\n",
       "      <td>STON/O2. 3101282</td>\n",
       "      <td>7.9250</td>\n",
       "      <td>NaN</td>\n",
       "      <td>S</td>\n",
       "    </tr>\n",
       "  </tbody>\n",
       "</table>\n",
       "</div>"
      ],
      "text/plain": [
       "   PassengerId  Survived  Pclass  \\\n",
       "0            1         0       3   \n",
       "1            2         1       1   \n",
       "2            3         1       3   \n",
       "\n",
       "                                                Name     Sex   Age  SibSp  \\\n",
       "0                            Braund, Mr. Owen Harris    male  22.0      1   \n",
       "1  Cumings, Mrs. John Bradley (Florence Briggs Th...  female  38.0      1   \n",
       "2                             Heikkinen, Miss. Laina  female  26.0      0   \n",
       "\n",
       "   Parch            Ticket     Fare Cabin Embarked  \n",
       "0      0         A/5 21171   7.2500   NaN        S  \n",
       "1      0          PC 17599  71.2833   C85        C  \n",
       "2      0  STON/O2. 3101282   7.9250   NaN        S  "
      ]
     },
     "execution_count": 71,
     "metadata": {},
     "output_type": "execute_result"
    }
   ],
   "source": [
    "## data explore\n",
    "# 데이터의 일부를 관찰. (파라미터가 없으면 디폴트로 5개)\n",
    "df_train.head(3)"
   ]
  },
  {
   "cell_type": "code",
   "execution_count": 72,
   "metadata": {},
   "outputs": [
    {
     "data": {
      "text/html": [
       "<div>\n",
       "<style scoped>\n",
       "    .dataframe tbody tr th:only-of-type {\n",
       "        vertical-align: middle;\n",
       "    }\n",
       "\n",
       "    .dataframe tbody tr th {\n",
       "        vertical-align: top;\n",
       "    }\n",
       "\n",
       "    .dataframe thead th {\n",
       "        text-align: right;\n",
       "    }\n",
       "</style>\n",
       "<table border=\"1\" class=\"dataframe\">\n",
       "  <thead>\n",
       "    <tr style=\"text-align: right;\">\n",
       "      <th></th>\n",
       "      <th>PassengerId</th>\n",
       "      <th>Survived</th>\n",
       "      <th>Pclass</th>\n",
       "      <th>Age</th>\n",
       "      <th>SibSp</th>\n",
       "      <th>Parch</th>\n",
       "      <th>Fare</th>\n",
       "    </tr>\n",
       "  </thead>\n",
       "  <tbody>\n",
       "    <tr>\n",
       "      <th>count</th>\n",
       "      <td>891.000000</td>\n",
       "      <td>891.000000</td>\n",
       "      <td>891.000000</td>\n",
       "      <td>714.000000</td>\n",
       "      <td>891.000000</td>\n",
       "      <td>891.000000</td>\n",
       "      <td>891.000000</td>\n",
       "    </tr>\n",
       "    <tr>\n",
       "      <th>mean</th>\n",
       "      <td>446.000000</td>\n",
       "      <td>0.383838</td>\n",
       "      <td>2.308642</td>\n",
       "      <td>29.699118</td>\n",
       "      <td>0.523008</td>\n",
       "      <td>0.381594</td>\n",
       "      <td>32.204208</td>\n",
       "    </tr>\n",
       "    <tr>\n",
       "      <th>std</th>\n",
       "      <td>257.353842</td>\n",
       "      <td>0.486592</td>\n",
       "      <td>0.836071</td>\n",
       "      <td>14.526497</td>\n",
       "      <td>1.102743</td>\n",
       "      <td>0.806057</td>\n",
       "      <td>49.693429</td>\n",
       "    </tr>\n",
       "    <tr>\n",
       "      <th>min</th>\n",
       "      <td>1.000000</td>\n",
       "      <td>0.000000</td>\n",
       "      <td>1.000000</td>\n",
       "      <td>0.420000</td>\n",
       "      <td>0.000000</td>\n",
       "      <td>0.000000</td>\n",
       "      <td>0.000000</td>\n",
       "    </tr>\n",
       "    <tr>\n",
       "      <th>25%</th>\n",
       "      <td>223.500000</td>\n",
       "      <td>0.000000</td>\n",
       "      <td>2.000000</td>\n",
       "      <td>20.125000</td>\n",
       "      <td>0.000000</td>\n",
       "      <td>0.000000</td>\n",
       "      <td>7.910400</td>\n",
       "    </tr>\n",
       "    <tr>\n",
       "      <th>50%</th>\n",
       "      <td>446.000000</td>\n",
       "      <td>0.000000</td>\n",
       "      <td>3.000000</td>\n",
       "      <td>28.000000</td>\n",
       "      <td>0.000000</td>\n",
       "      <td>0.000000</td>\n",
       "      <td>14.454200</td>\n",
       "    </tr>\n",
       "    <tr>\n",
       "      <th>75%</th>\n",
       "      <td>668.500000</td>\n",
       "      <td>1.000000</td>\n",
       "      <td>3.000000</td>\n",
       "      <td>38.000000</td>\n",
       "      <td>1.000000</td>\n",
       "      <td>0.000000</td>\n",
       "      <td>31.000000</td>\n",
       "    </tr>\n",
       "    <tr>\n",
       "      <th>max</th>\n",
       "      <td>891.000000</td>\n",
       "      <td>1.000000</td>\n",
       "      <td>3.000000</td>\n",
       "      <td>80.000000</td>\n",
       "      <td>8.000000</td>\n",
       "      <td>6.000000</td>\n",
       "      <td>512.329200</td>\n",
       "    </tr>\n",
       "  </tbody>\n",
       "</table>\n",
       "</div>"
      ],
      "text/plain": [
       "       PassengerId    Survived      Pclass         Age       SibSp  \\\n",
       "count   891.000000  891.000000  891.000000  714.000000  891.000000   \n",
       "mean    446.000000    0.383838    2.308642   29.699118    0.523008   \n",
       "std     257.353842    0.486592    0.836071   14.526497    1.102743   \n",
       "min       1.000000    0.000000    1.000000    0.420000    0.000000   \n",
       "25%     223.500000    0.000000    2.000000   20.125000    0.000000   \n",
       "50%     446.000000    0.000000    3.000000   28.000000    0.000000   \n",
       "75%     668.500000    1.000000    3.000000   38.000000    1.000000   \n",
       "max     891.000000    1.000000    3.000000   80.000000    8.000000   \n",
       "\n",
       "            Parch        Fare  \n",
       "count  891.000000  891.000000  \n",
       "mean     0.381594   32.204208  \n",
       "std      0.806057   49.693429  \n",
       "min      0.000000    0.000000  \n",
       "25%      0.000000    7.910400  \n",
       "50%      0.000000   14.454200  \n",
       "75%      0.000000   31.000000  \n",
       "max      6.000000  512.329200  "
      ]
     },
     "execution_count": 72,
     "metadata": {},
     "output_type": "execute_result"
    }
   ],
   "source": [
    "# 데이터의 분포를 간략히 요약. \n",
    "# 개수, 평균, 표준편차, 사분위수(최소, 최대) 등.\n",
    "df_train.describe()\n",
    "# 개수를 보면 어느 필드에 빠진 데이터들이 있는지 알 수 있음."
   ]
  },
  {
   "cell_type": "code",
   "execution_count": 9,
   "metadata": {},
   "outputs": [
    {
     "name": "stdout",
     "output_type": "stream",
     "text": [
      "<class 'pandas.core.frame.DataFrame'>\n",
      "RangeIndex: 891 entries, 0 to 890\n",
      "Data columns (total 12 columns):\n",
      "PassengerId    891 non-null int64\n",
      "Survived       891 non-null int64\n",
      "Pclass         891 non-null int64\n",
      "Name           891 non-null object\n",
      "Sex            891 non-null object\n",
      "Age            714 non-null float64\n",
      "SibSp          891 non-null int64\n",
      "Parch          891 non-null int64\n",
      "Ticket         891 non-null object\n",
      "Fare           891 non-null float64\n",
      "Cabin          204 non-null object\n",
      "Embarked       889 non-null object\n",
      "dtypes: float64(2), int64(5), object(5)\n",
      "memory usage: 83.6+ KB\n"
     ]
    }
   ],
   "source": [
    "# info는 필드들의 정보. 데이터타입. 개수 등\n",
    "df_train.info()"
   ]
  },
  {
   "cell_type": "code",
   "execution_count": 10,
   "metadata": {},
   "outputs": [
    {
     "data": {
      "text/html": [
       "<div>\n",
       "<style scoped>\n",
       "    .dataframe tbody tr th:only-of-type {\n",
       "        vertical-align: middle;\n",
       "    }\n",
       "\n",
       "    .dataframe tbody tr th {\n",
       "        vertical-align: top;\n",
       "    }\n",
       "\n",
       "    .dataframe thead th {\n",
       "        text-align: right;\n",
       "    }\n",
       "</style>\n",
       "<table border=\"1\" class=\"dataframe\">\n",
       "  <thead>\n",
       "    <tr style=\"text-align: right;\">\n",
       "      <th></th>\n",
       "      <th>PassengerId</th>\n",
       "      <th>Pclass</th>\n",
       "      <th>Name</th>\n",
       "      <th>Sex</th>\n",
       "      <th>Age</th>\n",
       "      <th>SibSp</th>\n",
       "      <th>Parch</th>\n",
       "      <th>Ticket</th>\n",
       "      <th>Fare</th>\n",
       "      <th>Cabin</th>\n",
       "      <th>Embarked</th>\n",
       "    </tr>\n",
       "  </thead>\n",
       "  <tbody>\n",
       "    <tr>\n",
       "      <th>0</th>\n",
       "      <td>892</td>\n",
       "      <td>3</td>\n",
       "      <td>Kelly, Mr. James</td>\n",
       "      <td>male</td>\n",
       "      <td>34.5</td>\n",
       "      <td>0</td>\n",
       "      <td>0</td>\n",
       "      <td>330911</td>\n",
       "      <td>7.8292</td>\n",
       "      <td>NaN</td>\n",
       "      <td>Q</td>\n",
       "    </tr>\n",
       "    <tr>\n",
       "      <th>1</th>\n",
       "      <td>893</td>\n",
       "      <td>3</td>\n",
       "      <td>Wilkes, Mrs. James (Ellen Needs)</td>\n",
       "      <td>female</td>\n",
       "      <td>47.0</td>\n",
       "      <td>1</td>\n",
       "      <td>0</td>\n",
       "      <td>363272</td>\n",
       "      <td>7.0000</td>\n",
       "      <td>NaN</td>\n",
       "      <td>S</td>\n",
       "    </tr>\n",
       "    <tr>\n",
       "      <th>2</th>\n",
       "      <td>894</td>\n",
       "      <td>2</td>\n",
       "      <td>Myles, Mr. Thomas Francis</td>\n",
       "      <td>male</td>\n",
       "      <td>62.0</td>\n",
       "      <td>0</td>\n",
       "      <td>0</td>\n",
       "      <td>240276</td>\n",
       "      <td>9.6875</td>\n",
       "      <td>NaN</td>\n",
       "      <td>Q</td>\n",
       "    </tr>\n",
       "    <tr>\n",
       "      <th>3</th>\n",
       "      <td>895</td>\n",
       "      <td>3</td>\n",
       "      <td>Wirz, Mr. Albert</td>\n",
       "      <td>male</td>\n",
       "      <td>27.0</td>\n",
       "      <td>0</td>\n",
       "      <td>0</td>\n",
       "      <td>315154</td>\n",
       "      <td>8.6625</td>\n",
       "      <td>NaN</td>\n",
       "      <td>S</td>\n",
       "    </tr>\n",
       "    <tr>\n",
       "      <th>4</th>\n",
       "      <td>896</td>\n",
       "      <td>3</td>\n",
       "      <td>Hirvonen, Mrs. Alexander (Helga E Lindqvist)</td>\n",
       "      <td>female</td>\n",
       "      <td>22.0</td>\n",
       "      <td>1</td>\n",
       "      <td>1</td>\n",
       "      <td>3101298</td>\n",
       "      <td>12.2875</td>\n",
       "      <td>NaN</td>\n",
       "      <td>S</td>\n",
       "    </tr>\n",
       "  </tbody>\n",
       "</table>\n",
       "</div>"
      ],
      "text/plain": [
       "   PassengerId  Pclass                                          Name     Sex  \\\n",
       "0          892       3                              Kelly, Mr. James    male   \n",
       "1          893       3              Wilkes, Mrs. James (Ellen Needs)  female   \n",
       "2          894       2                     Myles, Mr. Thomas Francis    male   \n",
       "3          895       3                              Wirz, Mr. Albert    male   \n",
       "4          896       3  Hirvonen, Mrs. Alexander (Helga E Lindqvist)  female   \n",
       "\n",
       "    Age  SibSp  Parch   Ticket     Fare Cabin Embarked  \n",
       "0  34.5      0      0   330911   7.8292   NaN        Q  \n",
       "1  47.0      1      0   363272   7.0000   NaN        S  \n",
       "2  62.0      0      0   240276   9.6875   NaN        Q  \n",
       "3  27.0      0      0   315154   8.6625   NaN        S  \n",
       "4  22.0      1      1  3101298  12.2875   NaN        S  "
      ]
     },
     "execution_count": 10,
     "metadata": {},
     "output_type": "execute_result"
    }
   ],
   "source": [
    "df_test.head()"
   ]
  },
  {
   "cell_type": "markdown",
   "metadata": {},
   "source": [
    "### NULL (Missing) 데이터 검사"
   ]
  },
  {
   "cell_type": "code",
   "execution_count": 11,
   "metadata": {},
   "outputs": [
    {
     "data": {
      "text/plain": [
       "PassengerId      0\n",
       "Survived         0\n",
       "Pclass           0\n",
       "Name             0\n",
       "Sex              0\n",
       "Age            177\n",
       "SibSp            0\n",
       "Parch            0\n",
       "Ticket           0\n",
       "Fare             0\n",
       "Cabin          687\n",
       "Embarked         2\n",
       "dtype: int64"
      ]
     },
     "execution_count": 11,
     "metadata": {},
     "output_type": "execute_result"
    }
   ],
   "source": [
    "df_train.isnull().sum()"
   ]
  },
  {
   "cell_type": "code",
   "execution_count": 12,
   "metadata": {},
   "outputs": [
    {
     "data": {
      "text/plain": [
       "<matplotlib.axes._subplots.AxesSubplot at 0x12d16415710>"
      ]
     },
     "execution_count": 12,
     "metadata": {},
     "output_type": "execute_result"
    },
    {
     "data": {
      "image/png": "[encoded data removed]",
      "text/plain": [
       "<Figure size 432x288 with 2 Axes>"
      ]
     },
     "metadata": {
      "needs_background": "light"
     },
     "output_type": "display_data"
    }
   ],
   "source": [
    "# 데이터 분포도\n",
    "# 히스토그램으로 구간별 카운팅\n",
    "# 박스플롯으로 어느 지점에 데이터가 밀집해 있는지 알 수 있다. \n",
    "fig, axs = plt.subplots(1,2)\n",
    "df_train.Fare.plot.hist(ax=axs[0])\n",
    "df_train.boxplot(['Fare', 'Age', 'SibSp', 'Parch'], ax=axs[1])  # 파라미터 지정이 없으면,  주어진 dataframe의 모든 컬럼별 데이터 분포"
   ]
  },
  {
   "cell_type": "code",
   "execution_count": 13,
   "metadata": {},
   "outputs": [
    {
     "name": "stdout",
     "output_type": "stream",
     "text": [
      "fare mean= 32.204207968574636 49.6934285971809\n",
      "quantile =  0.0 7.9104 14.4542 31.0 249.00622000000033 512.3292\n"
     ]
    }
   ],
   "source": [
    "# 평균 , 표준편차\n",
    "print('fare mean=', df_train.Fare.mean(), df_train.Fare.std())\n",
    "# 표준 편차는 정규분포를 따를때,  평균에서 +- 1 표준편차는 전체의 65% 정도가 해당되고,\n",
    "# +-2표준편차는 95%, +-3표준편차는 99%정도로 본다. (1.96이 95%, 2.58이 99%)\n",
    "# 사분위수\n",
    "print('quantile = ', df_train.Fare.quantile(0), df_train.Fare.quantile(0.25), df_train.Fare.quantile(0.5), df_train.Fare.quantile(0.75), \n",
    "                  df_train.Fare.quantile(0.99), df_train.Fare.quantile(1))"
   ]
  },
  {
   "cell_type": "markdown",
   "metadata": {},
   "source": [
    "---\n",
    "## 데이터 수정/병합"
   ]
  },
  {
   "cell_type": "code",
   "execution_count": 14,
   "metadata": {},
   "outputs": [],
   "source": [
    "# train, test 데이터가 survived를 제외하고 동일함. 합쳐서 전처리 작업을 할 수 도 있다.\n",
    "# drop은 columns or rows를 삭제할 수 있다. (array로 여러개 지정 가능)\n",
    "# concat은 병합. axis로 방향.\n",
    "# iloc는 array index로 filtering\n",
    "# inplace는 자체 수정 여부. (False이면 자체수정없이 수정된것을 반환.)\n",
    "\n",
    "# df_all = pd.concat([df_train.iloc[:,2:], df_test.iloc[:,1:]], axis=0)\n",
    "# or\n",
    "df_all = pd.concat([df_train.drop(columns='Survived'), df_test], axis=0)\n",
    "\n",
    "# passengerid는 의미없으므로 제거.\n",
    "df_all.drop(columns='PassengerId', inplace=True)"
   ]
  },
  {
   "cell_type": "code",
   "execution_count": 15,
   "metadata": {},
   "outputs": [
    {
     "data": {
      "text/html": [
       "<div>\n",
       "<style scoped>\n",
       "    .dataframe tbody tr th:only-of-type {\n",
       "        vertical-align: middle;\n",
       "    }\n",
       "\n",
       "    .dataframe tbody tr th {\n",
       "        vertical-align: top;\n",
       "    }\n",
       "\n",
       "    .dataframe thead th {\n",
       "        text-align: right;\n",
       "    }\n",
       "</style>\n",
       "<table border=\"1\" class=\"dataframe\">\n",
       "  <thead>\n",
       "    <tr style=\"text-align: right;\">\n",
       "      <th></th>\n",
       "      <th>Pclass</th>\n",
       "      <th>Name</th>\n",
       "      <th>Sex</th>\n",
       "      <th>Age</th>\n",
       "      <th>SibSp</th>\n",
       "      <th>Parch</th>\n",
       "      <th>Ticket</th>\n",
       "      <th>Fare</th>\n",
       "      <th>Cabin</th>\n",
       "      <th>Embarked</th>\n",
       "    </tr>\n",
       "  </thead>\n",
       "  <tbody>\n",
       "    <tr>\n",
       "      <th>0</th>\n",
       "      <td>3</td>\n",
       "      <td>Braund, Mr. Owen Harris</td>\n",
       "      <td>male</td>\n",
       "      <td>22.0</td>\n",
       "      <td>1</td>\n",
       "      <td>0</td>\n",
       "      <td>A/5 21171</td>\n",
       "      <td>7.2500</td>\n",
       "      <td>NaN</td>\n",
       "      <td>S</td>\n",
       "    </tr>\n",
       "    <tr>\n",
       "      <th>1</th>\n",
       "      <td>1</td>\n",
       "      <td>Cumings, Mrs. John Bradley (Florence Briggs Th...</td>\n",
       "      <td>female</td>\n",
       "      <td>38.0</td>\n",
       "      <td>1</td>\n",
       "      <td>0</td>\n",
       "      <td>PC 17599</td>\n",
       "      <td>71.2833</td>\n",
       "      <td>C85</td>\n",
       "      <td>C</td>\n",
       "    </tr>\n",
       "    <tr>\n",
       "      <th>2</th>\n",
       "      <td>3</td>\n",
       "      <td>Heikkinen, Miss. Laina</td>\n",
       "      <td>female</td>\n",
       "      <td>26.0</td>\n",
       "      <td>0</td>\n",
       "      <td>0</td>\n",
       "      <td>STON/O2. 3101282</td>\n",
       "      <td>7.9250</td>\n",
       "      <td>NaN</td>\n",
       "      <td>S</td>\n",
       "    </tr>\n",
       "    <tr>\n",
       "      <th>3</th>\n",
       "      <td>1</td>\n",
       "      <td>Futrelle, Mrs. Jacques Heath (Lily May Peel)</td>\n",
       "      <td>female</td>\n",
       "      <td>35.0</td>\n",
       "      <td>1</td>\n",
       "      <td>0</td>\n",
       "      <td>113803</td>\n",
       "      <td>53.1000</td>\n",
       "      <td>C123</td>\n",
       "      <td>S</td>\n",
       "    </tr>\n",
       "    <tr>\n",
       "      <th>4</th>\n",
       "      <td>3</td>\n",
       "      <td>Allen, Mr. William Henry</td>\n",
       "      <td>male</td>\n",
       "      <td>35.0</td>\n",
       "      <td>0</td>\n",
       "      <td>0</td>\n",
       "      <td>373450</td>\n",
       "      <td>8.0500</td>\n",
       "      <td>NaN</td>\n",
       "      <td>S</td>\n",
       "    </tr>\n",
       "  </tbody>\n",
       "</table>\n",
       "</div>"
      ],
      "text/plain": [
       "   Pclass                                               Name     Sex   Age  \\\n",
       "0       3                            Braund, Mr. Owen Harris    male  22.0   \n",
       "1       1  Cumings, Mrs. John Bradley (Florence Briggs Th...  female  38.0   \n",
       "2       3                             Heikkinen, Miss. Laina  female  26.0   \n",
       "3       1       Futrelle, Mrs. Jacques Heath (Lily May Peel)  female  35.0   \n",
       "4       3                           Allen, Mr. William Henry    male  35.0   \n",
       "\n",
       "   SibSp  Parch            Ticket     Fare Cabin Embarked  \n",
       "0      1      0         A/5 21171   7.2500   NaN        S  \n",
       "1      1      0          PC 17599  71.2833   C85        C  \n",
       "2      0      0  STON/O2. 3101282   7.9250   NaN        S  \n",
       "3      1      0            113803  53.1000  C123        S  \n",
       "4      0      0            373450   8.0500   NaN        S  "
      ]
     },
     "execution_count": 15,
     "metadata": {},
     "output_type": "execute_result"
    }
   ],
   "source": [
    "df_all.head()"
   ]
  },
  {
   "cell_type": "code",
   "execution_count": 16,
   "metadata": {},
   "outputs": [],
   "source": [
    "# 컬럼 타입별로 구분. 숫자와 숫자 아닌 것. 위에 info()에 마지막에 dtypes 참고.\n",
    "df_num = df_all.select_dtypes(include=['int64', 'float64'])\n",
    "df_str = df_all.select_dtypes(include=['object'])"
   ]
  },
  {
   "cell_type": "code",
   "execution_count": 17,
   "metadata": {},
   "outputs": [
    {
     "data": {
      "text/html": [
       "<div>\n",
       "<style scoped>\n",
       "    .dataframe tbody tr th:only-of-type {\n",
       "        vertical-align: middle;\n",
       "    }\n",
       "\n",
       "    .dataframe tbody tr th {\n",
       "        vertical-align: top;\n",
       "    }\n",
       "\n",
       "    .dataframe thead th {\n",
       "        text-align: right;\n",
       "    }\n",
       "</style>\n",
       "<table border=\"1\" class=\"dataframe\">\n",
       "  <thead>\n",
       "    <tr style=\"text-align: right;\">\n",
       "      <th></th>\n",
       "      <th>Pclass</th>\n",
       "      <th>Age</th>\n",
       "      <th>SibSp</th>\n",
       "      <th>Parch</th>\n",
       "      <th>Fare</th>\n",
       "    </tr>\n",
       "  </thead>\n",
       "  <tbody>\n",
       "    <tr>\n",
       "      <th>count</th>\n",
       "      <td>1309.000000</td>\n",
       "      <td>1046.000000</td>\n",
       "      <td>1309.000000</td>\n",
       "      <td>1309.000000</td>\n",
       "      <td>1308.000000</td>\n",
       "    </tr>\n",
       "    <tr>\n",
       "      <th>mean</th>\n",
       "      <td>2.294882</td>\n",
       "      <td>29.881138</td>\n",
       "      <td>0.498854</td>\n",
       "      <td>0.385027</td>\n",
       "      <td>33.295479</td>\n",
       "    </tr>\n",
       "    <tr>\n",
       "      <th>std</th>\n",
       "      <td>0.837836</td>\n",
       "      <td>14.413493</td>\n",
       "      <td>1.041658</td>\n",
       "      <td>0.865560</td>\n",
       "      <td>51.758668</td>\n",
       "    </tr>\n",
       "    <tr>\n",
       "      <th>min</th>\n",
       "      <td>1.000000</td>\n",
       "      <td>0.170000</td>\n",
       "      <td>0.000000</td>\n",
       "      <td>0.000000</td>\n",
       "      <td>0.000000</td>\n",
       "    </tr>\n",
       "    <tr>\n",
       "      <th>25%</th>\n",
       "      <td>2.000000</td>\n",
       "      <td>21.000000</td>\n",
       "      <td>0.000000</td>\n",
       "      <td>0.000000</td>\n",
       "      <td>7.895800</td>\n",
       "    </tr>\n",
       "    <tr>\n",
       "      <th>50%</th>\n",
       "      <td>3.000000</td>\n",
       "      <td>28.000000</td>\n",
       "      <td>0.000000</td>\n",
       "      <td>0.000000</td>\n",
       "      <td>14.454200</td>\n",
       "    </tr>\n",
       "    <tr>\n",
       "      <th>75%</th>\n",
       "      <td>3.000000</td>\n",
       "      <td>39.000000</td>\n",
       "      <td>1.000000</td>\n",
       "      <td>0.000000</td>\n",
       "      <td>31.275000</td>\n",
       "    </tr>\n",
       "    <tr>\n",
       "      <th>max</th>\n",
       "      <td>3.000000</td>\n",
       "      <td>80.000000</td>\n",
       "      <td>8.000000</td>\n",
       "      <td>9.000000</td>\n",
       "      <td>512.329200</td>\n",
       "    </tr>\n",
       "  </tbody>\n",
       "</table>\n",
       "</div>"
      ],
      "text/plain": [
       "            Pclass          Age        SibSp        Parch         Fare\n",
       "count  1309.000000  1046.000000  1309.000000  1309.000000  1308.000000\n",
       "mean      2.294882    29.881138     0.498854     0.385027    33.295479\n",
       "std       0.837836    14.413493     1.041658     0.865560    51.758668\n",
       "min       1.000000     0.170000     0.000000     0.000000     0.000000\n",
       "25%       2.000000    21.000000     0.000000     0.000000     7.895800\n",
       "50%       3.000000    28.000000     0.000000     0.000000    14.454200\n",
       "75%       3.000000    39.000000     1.000000     0.000000    31.275000\n",
       "max       3.000000    80.000000     8.000000     9.000000   512.329200"
      ]
     },
     "execution_count": 17,
     "metadata": {},
     "output_type": "execute_result"
    }
   ],
   "source": [
    "df_num.describe()"
   ]
  },
  {
   "cell_type": "code",
   "execution_count": 18,
   "metadata": {},
   "outputs": [
    {
     "data": {
      "text/html": [
       "<div>\n",
       "<style scoped>\n",
       "    .dataframe tbody tr th:only-of-type {\n",
       "        vertical-align: middle;\n",
       "    }\n",
       "\n",
       "    .dataframe tbody tr th {\n",
       "        vertical-align: top;\n",
       "    }\n",
       "\n",
       "    .dataframe thead th {\n",
       "        text-align: right;\n",
       "    }\n",
       "</style>\n",
       "<table border=\"1\" class=\"dataframe\">\n",
       "  <thead>\n",
       "    <tr style=\"text-align: right;\">\n",
       "      <th></th>\n",
       "      <th>Name</th>\n",
       "      <th>Sex</th>\n",
       "      <th>Ticket</th>\n",
       "      <th>Cabin</th>\n",
       "      <th>Embarked</th>\n",
       "    </tr>\n",
       "  </thead>\n",
       "  <tbody>\n",
       "    <tr>\n",
       "      <th>count</th>\n",
       "      <td>1309</td>\n",
       "      <td>1309</td>\n",
       "      <td>1309</td>\n",
       "      <td>295</td>\n",
       "      <td>1307</td>\n",
       "    </tr>\n",
       "    <tr>\n",
       "      <th>unique</th>\n",
       "      <td>1307</td>\n",
       "      <td>2</td>\n",
       "      <td>929</td>\n",
       "      <td>186</td>\n",
       "      <td>3</td>\n",
       "    </tr>\n",
       "    <tr>\n",
       "      <th>top</th>\n",
       "      <td>Connolly, Miss. Kate</td>\n",
       "      <td>male</td>\n",
       "      <td>CA. 2343</td>\n",
       "      <td>C23 C25 C27</td>\n",
       "      <td>S</td>\n",
       "    </tr>\n",
       "    <tr>\n",
       "      <th>freq</th>\n",
       "      <td>2</td>\n",
       "      <td>843</td>\n",
       "      <td>11</td>\n",
       "      <td>6</td>\n",
       "      <td>914</td>\n",
       "    </tr>\n",
       "  </tbody>\n",
       "</table>\n",
       "</div>"
      ],
      "text/plain": [
       "                        Name   Sex    Ticket        Cabin Embarked\n",
       "count                   1309  1309      1309          295     1307\n",
       "unique                  1307     2       929          186        3\n",
       "top     Connolly, Miss. Kate  male  CA. 2343  C23 C25 C27        S\n",
       "freq                       2   843        11            6      914"
      ]
     },
     "execution_count": 18,
     "metadata": {},
     "output_type": "execute_result"
    }
   ],
   "source": [
    "# 스트링 컬럼으로 보면, 클래스 개수(unique참조), 전체 개수 파악(미싱제외)\n",
    "df_str.describe()"
   ]
  },
  {
   "cell_type": "code",
   "execution_count": 19,
   "metadata": {},
   "outputs": [
    {
     "data": {
      "text/plain": [
       "0    549\n",
       "1    342\n",
       "Name: Survived, dtype: int64"
      ]
     },
     "execution_count": 19,
     "metadata": {},
     "output_type": "execute_result"
    }
   ],
   "source": [
    "# 필드값별로 카운팅\n",
    "df_train['Survived'].value_counts()"
   ]
  },
  {
   "cell_type": "markdown",
   "metadata": {},
   "source": [
    "## 스트링 필드를 분할하여 추가 컬럼들을 만들기"
   ]
  },
  {
   "cell_type": "code",
   "execution_count": 77,
   "metadata": {},
   "outputs": [
    {
     "data": {
      "text/html": [
       "<div>\n",
       "<style scoped>\n",
       "    .dataframe tbody tr th:only-of-type {\n",
       "        vertical-align: middle;\n",
       "    }\n",
       "\n",
       "    .dataframe tbody tr th {\n",
       "        vertical-align: top;\n",
       "    }\n",
       "\n",
       "    .dataframe thead th {\n",
       "        text-align: right;\n",
       "    }\n",
       "</style>\n",
       "<table border=\"1\" class=\"dataframe\">\n",
       "  <thead>\n",
       "    <tr style=\"text-align: right;\">\n",
       "      <th></th>\n",
       "      <th>path</th>\n",
       "    </tr>\n",
       "  </thead>\n",
       "  <tbody>\n",
       "    <tr>\n",
       "      <th>0</th>\n",
       "      <td>img100_GENUINE.jpg</td>\n",
       "    </tr>\n",
       "    <tr>\n",
       "      <th>1</th>\n",
       "      <td>img101_FRAUD.jpg</td>\n",
       "    </tr>\n",
       "    <tr>\n",
       "      <th>2</th>\n",
       "      <td>img102_GENUINE.jpg</td>\n",
       "    </tr>\n",
       "    <tr>\n",
       "      <th>3</th>\n",
       "      <td>img103_FRAUD.jpg</td>\n",
       "    </tr>\n",
       "    <tr>\n",
       "      <th>4</th>\n",
       "      <td>img104_FRAUD.jpg</td>\n",
       "    </tr>\n",
       "    <tr>\n",
       "      <th>5</th>\n",
       "      <td>img105_GENUINE.jpg</td>\n",
       "    </tr>\n",
       "  </tbody>\n",
       "</table>\n",
       "</div>"
      ],
      "text/plain": [
       "                 path\n",
       "0  img100_GENUINE.jpg\n",
       "1    img101_FRAUD.jpg\n",
       "2  img102_GENUINE.jpg\n",
       "3    img103_FRAUD.jpg\n",
       "4    img104_FRAUD.jpg\n",
       "5  img105_GENUINE.jpg"
      ]
     },
     "execution_count": 77,
     "metadata": {},
     "output_type": "execute_result"
    }
   ],
   "source": [
    "lstPath = ['img100_GENUINE.jpg', 'img101_FRAUD.jpg', 'img102_GENUINE.jpg', 'img103_FRAUD.jpg', 'img104_FRAUD.jpg', 'img105_GENUINE.jpg']\n",
    "dfSample = pd.DataFrame({'path':lstPath})\n",
    "dfSample"
   ]
  },
  {
   "cell_type": "code",
   "execution_count": 99,
   "metadata": {},
   "outputs": [
    {
     "name": "stdout",
     "output_type": "stream",
     "text": [
      "img100 GENUINE.jpg\n",
      "img101 FRAUD.jpg\n"
     ]
    }
   ],
   "source": [
    "# expand를 True로 하면 n개의 컬럼으로 리턴.\n",
    "# expand를 False로 하면 1개의 컬럼내에 list로 리턴.\n",
    "dfSplit = dfSample['path'].str.split('_', expand=False)\n",
    "print(dfSplit[0][0], dfSplit[0][1])\n",
    "print(dfSplit[1][0], dfSplit[1][1])"
   ]
  },
  {
   "cell_type": "code",
   "execution_count": 100,
   "metadata": {},
   "outputs": [],
   "source": [
    "dfSplit = dfSample['path'].str.split('_', expand=True)"
   ]
  },
  {
   "cell_type": "code",
   "execution_count": 101,
   "metadata": {},
   "outputs": [],
   "source": [
    "dfSample['name'] = dfSplit[0]\n",
    "dfSample['tf'] = dfSplit[1].str.replace('.jpg', '')"
   ]
  },
  {
   "cell_type": "code",
   "execution_count": 102,
   "metadata": {},
   "outputs": [
    {
     "data": {
      "text/html": [
       "<div>\n",
       "<style scoped>\n",
       "    .dataframe tbody tr th:only-of-type {\n",
       "        vertical-align: middle;\n",
       "    }\n",
       "\n",
       "    .dataframe tbody tr th {\n",
       "        vertical-align: top;\n",
       "    }\n",
       "\n",
       "    .dataframe thead th {\n",
       "        text-align: right;\n",
       "    }\n",
       "</style>\n",
       "<table border=\"1\" class=\"dataframe\">\n",
       "  <thead>\n",
       "    <tr style=\"text-align: right;\">\n",
       "      <th></th>\n",
       "      <th>path</th>\n",
       "      <th>name</th>\n",
       "      <th>tf</th>\n",
       "    </tr>\n",
       "  </thead>\n",
       "  <tbody>\n",
       "    <tr>\n",
       "      <th>0</th>\n",
       "      <td>img100_GENUINE.jpg</td>\n",
       "      <td>img100</td>\n",
       "      <td>GENUINE</td>\n",
       "    </tr>\n",
       "    <tr>\n",
       "      <th>1</th>\n",
       "      <td>img101_FRAUD.jpg</td>\n",
       "      <td>img101</td>\n",
       "      <td>FRAUD</td>\n",
       "    </tr>\n",
       "    <tr>\n",
       "      <th>2</th>\n",
       "      <td>img102_GENUINE.jpg</td>\n",
       "      <td>img102</td>\n",
       "      <td>GENUINE</td>\n",
       "    </tr>\n",
       "    <tr>\n",
       "      <th>3</th>\n",
       "      <td>img103_FRAUD.jpg</td>\n",
       "      <td>img103</td>\n",
       "      <td>FRAUD</td>\n",
       "    </tr>\n",
       "    <tr>\n",
       "      <th>4</th>\n",
       "      <td>img104_FRAUD.jpg</td>\n",
       "      <td>img104</td>\n",
       "      <td>FRAUD</td>\n",
       "    </tr>\n",
       "    <tr>\n",
       "      <th>5</th>\n",
       "      <td>img105_GENUINE.jpg</td>\n",
       "      <td>img105</td>\n",
       "      <td>GENUINE</td>\n",
       "    </tr>\n",
       "  </tbody>\n",
       "</table>\n",
       "</div>"
      ],
      "text/plain": [
       "                 path    name       tf\n",
       "0  img100_GENUINE.jpg  img100  GENUINE\n",
       "1    img101_FRAUD.jpg  img101    FRAUD\n",
       "2  img102_GENUINE.jpg  img102  GENUINE\n",
       "3    img103_FRAUD.jpg  img103    FRAUD\n",
       "4    img104_FRAUD.jpg  img104    FRAUD\n",
       "5  img105_GENUINE.jpg  img105  GENUINE"
      ]
     },
     "execution_count": 102,
     "metadata": {},
     "output_type": "execute_result"
    }
   ],
   "source": [
    "dfSample"
   ]
  },
  {
   "cell_type": "markdown",
   "metadata": {},
   "source": [
    "---\n",
    "\n",
    "## Submission 데이터만들기"
   ]
  },
  {
   "cell_type": "code",
   "execution_count": 20,
   "metadata": {},
   "outputs": [
    {
     "name": "stdout",
     "output_type": "stream",
     "text": [
      "   PassengerId  Survived\n",
      "0          892         0\n",
      "1          893         1\n",
      "2          894         0\n",
      "3          895         0\n",
      "4          896         1\n",
      "Index(['PassengerId', 'Survived'], dtype='object')\n"
     ]
    }
   ],
   "source": [
    "df_submit = pd.read_csv(inputdir+'gender_submission.csv')\n",
    "print(df_submit.head())\n",
    "print(df_submit.columns)"
   ]
  },
  {
   "cell_type": "code",
   "execution_count": 21,
   "metadata": {},
   "outputs": [
    {
     "name": "stdout",
     "output_type": "stream",
     "text": [
      "record count= 418\n",
      "   PassengerId  Survived\n",
      "0          892         0\n",
      "1          893         0\n",
      "2          894         0\n",
      "3          895         0\n",
      "4          896         0\n"
     ]
    }
   ],
   "source": [
    "# 필드값 바꿔서 제출하기\n",
    "# df_submit.describe()\n",
    "print('record count=', df_submit.shape[0])\n",
    "dfsubmit2 = df_submit.copy()\n",
    "# 원하는 필드값을 변경한다.\n",
    "dfsubmit2['Survived'] = np.zeros(df_submit.shape[0], dtype=int)\n",
    "print(dfsubmit2.head())\n",
    "# dfsubmit2.to_csv('result.csv')"
   ]
  },
  {
   "cell_type": "markdown",
   "metadata": {},
   "source": [
    "---"
   ]
  },
  {
   "cell_type": "code",
   "execution_count": 22,
   "metadata": {},
   "outputs": [
    {
     "name": "stdout",
     "output_type": "stream",
     "text": [
      "(418,)\n",
      "(418,)\n"
     ]
    }
   ],
   "source": [
    "# 샘플을 참고하지 않고 직접 만들어 제출하기\n",
    "pids = df_submit['PassengerId'].values\n",
    "surv = df_submit['Survived'].values\n",
    "print(pids.shape)\n",
    "print(surv.shape)"
   ]
  },
  {
   "cell_type": "code",
   "execution_count": 23,
   "metadata": {},
   "outputs": [
    {
     "name": "stdout",
     "output_type": "stream",
     "text": [
      "columns= Index(['PassengerId', 'Survived'], dtype='object')\n",
      "index= RangeIndex(start=0, stop=418, step=1)\n",
      "   PassengerId  Survived\n",
      "0          892         0\n",
      "1          893         1\n",
      "2          894         0\n",
      "3          895         0\n",
      "4          896         1\n",
      "columns= Index(['Survived'], dtype='object')\n",
      "index= Int64Index([ 892,  893,  894,  895,  896,  897,  898,  899,  900,  901,\n",
      "            ...\n",
      "            1300, 1301, 1302, 1303, 1304, 1305, 1306, 1307, 1308, 1309],\n",
      "           dtype='int64', name='PassengerId', length=418)\n",
      "             Survived\n",
      "PassengerId          \n",
      "892                 0\n",
      "893                 1\n",
      "894                 0\n",
      "895                 0\n",
      "896                 1\n"
     ]
    }
   ],
   "source": [
    "dfresult = pd.DataFrame({'PassengerId':pids, 'Survived':surv})\n",
    "print('columns=', dfresult.columns)\n",
    "print('index=', dfresult.index)\n",
    "print(dfresult.head())\n",
    "# 경우에 따라 인덱스를 특정 필드로 지정해줘야 되는 서미션도 있음. 제출형식을 확인해야 함.\n",
    "dfresult.set_index('PassengerId', inplace=True)\n",
    "print('columns=', dfresult.columns)\n",
    "print('index=', dfresult.index)\n",
    "print(dfresult.head())"
   ]
  },
  {
   "cell_type": "markdown",
   "metadata": {},
   "source": [
    "---\n",
    "## matplotlib plot\n",
    "\n",
    "### matplotlib 그래프 좌표축의값 없애기\n",
    "```python\n",
    "plt.axis('off')\n",
    "axarr[uid].axis('off')\n",
    "axarr[uid].set_xticks(p[])\n",
    "plt.xticks([])\n",
    "```\n",
    "\n",
    "### 박스 제거\n",
    "```\n",
    "ax1 = plt.axes(frameon=False)   # remove box\n",
    "or\n",
    "ax1 = plt.axes() ;\n",
    "ax1.set_frame_on(False)\n",
    "```\n",
    "\n",
    "\n",
    "### y축 뒤집기\n",
    "```python\n",
    "plt.gca().invert_yaxis()\n",
    "# or\n",
    "ax=plt.gca()\n",
    "ax.set_ylim(ax.get_lim()[::-1])\n",
    "```\n",
    "\n",
    "### 그래프간 간격 조정\n",
    "```python\n",
    "plt.subplots_adjust(hspace=0.5, wspace=0.4)\n",
    "```\n",
    "\n",
    "### 가로/세로 비율 유지(좌표값을 절대적 기준)\n",
    "```python\n",
    "ax.set_aspect('equal', 'box')\n",
    "```\n",
    "\n",
    "### 직선 그리기 (by 기울기)\n",
    "```python\n",
    "\n",
    "def abline(slope, intercept):\n",
    "    axes = plt.gca()\n",
    "    x_vals = np.array( axes.get_xlim())\n",
    "    y_vals = intercept+slope*x_vals\n",
    "    plt.plot(x_vals, y_vals, 'r--')\n",
    "\n",
    "\n",
    "```"
   ]
  },
  {
   "cell_type": "markdown",
   "metadata": {},
   "source": [
    "### plot 파라미터/함수\n",
    "```\n",
    "    lw : 선 두께\n",
    "    c : 색깔\n",
    "    s : 사이즈\n",
    "    alpha : 투명도 (0일 수록 투명. 1일수록 불투명)\n",
    "    label : legend 출력시 표시\n",
    "    marker : 표시도형 o, x 등 \n",
    "    'r--' : 빨간 점선\n",
    "    'g^' : green 세모\n",
    "    'ro' : 빨간 o\n",
    "    'bs' : 파란 네모\n",
    "        \n",
    "    plt.title()\n",
    "    plt.xlabel()\n",
    "    plt.ylabel()\n",
    "    plt.xlim(0,10) : x 범위\n",
    "    plt.ylim(20,30) : y 범위\n",
    "    plt.grid() : 눈금 표시\n",
    "    plt.plot() : 꺽은선 그래프. 좌표들을 연결. lw, c, alpha, label\n",
    "    plt.scatter() : 산점도 그래프. 좌표에 점(마커)를 찍는다. marker, c, alpha, label, s\n",
    "    plt.legend() : 비고 박스, edgecolor='r' 로 박스라인 색깔지정 가능\n",
    "\n",
    "    plt.tight_layout() : 여백없앰\n",
    "    plt.scatter(x,y, linewidth=1, marker='o', facecolors='none', edgecolors='r')  : 빈 원 그리기\n",
    "    plt.axhline(y, color='r') : 가로선\n",
    "    plt.axvline(x, color='b') : 세로선\n",
    "    \n",
    "```\n",
    "\n",
    "### plot 저장\n",
    "```\n",
    "plt.figure()\n",
    "plt.plot...\n",
    "plt.savefig('aaa.png') # 파일로 저장. 화면 출력여부는 아래코드\n",
    "plt.show() # 이것을 생략하면 화면 출력 안됨.\n",
    "plt.close()\n",
    "\n",
    "```\n",
    "\n",
    "\n",
    "### ax 함수\n",
    "```python\n",
    "ax.set_title()\n",
    "ax.set_xlabel()\n",
    "ax.set_ylabel()\n",
    "ax.set_xlim()\n",
    "ax.set_ylim()\n",
    "```"
   ]
  },
  {
   "cell_type": "markdown",
   "metadata": {},
   "source": [
    "---\n",
    "## 개수 분포 그래프\n",
    "- dataframe.value_counts().plot.bar()  / plot.pie()\n",
    "- sns.countplot()"
   ]
  },
  {
   "cell_type": "code",
   "execution_count": 24,
   "metadata": {},
   "outputs": [
    {
     "data": {
      "image/png": "[encoded data removed]",
      "text/plain": [
       "<Figure size 432x288 with 1 Axes>"
      ]
     },
     "metadata": {
      "needs_background": "light"
     },
     "output_type": "display_data"
    }
   ],
   "source": [
    "# scatter 그래프\n",
    "\n",
    "plt.figure()\n",
    "# plt.grid('on')\n",
    "plt.title('age and fare')\n",
    "flagman=df_train['Sex']=='male'\n",
    "plt.scatter( df_train.loc[flagman]['Age'], df_train.loc[flagman]['Fare'], c='blue', alpha=0.3, label='male')\n",
    "flagfemale = ~flagman\n",
    "plt.scatter( df_train.loc[flagfemale]['Age'], df_train.loc[flagfemale]['Fare'], marker='x', c='red', alpha=0.3, label='female')\n",
    "plt.axhline(y=200)\n",
    "plt.xlabel('Age')\n",
    "plt.ylabel('Fare')\n",
    "plt.legend(edgecolor='red')  # 비고박스(legend) 외곽라인 색 지정 가능 \n",
    "plt.show()\n",
    "plt.close()"
   ]
  },
  {
   "cell_type": "code",
   "execution_count": 25,
   "metadata": {},
   "outputs": [
    {
     "data": {
      "image/png": "[encoded data removed]",
      "text/plain": [
       "<Figure size 432x288 with 1 Axes>"
      ]
     },
     "metadata": {
      "needs_background": "light"
     },
     "output_type": "display_data"
    }
   ],
   "source": [
    "# plot . x 라벨 지정 및  회전 \n",
    "x = [1, 2, 3, 4]\n",
    "y = [1, 4, 9, 6]\n",
    "labels = ['Frogs', 'Hogs', 'Bogs', 'Slogs']\n",
    "plt.plot(x, y)\n",
    "# You can specify a rotation for the tick labels in degrees or with keywords.\n",
    "plt.xticks(x, labels, rotation='vertical')\n",
    "# Pad margins so that markers don't get clipped by the axes\n",
    "plt.margins(0.2)\n",
    "# Tweak spacing to prevent clipping of tick-labels\n",
    "plt.subplots_adjust(bottom=0.15)\n",
    "plt.show()\n",
    "plt.close()"
   ]
  },
  {
   "cell_type": "code",
   "execution_count": 26,
   "metadata": {},
   "outputs": [
    {
     "data": {
      "text/plain": [
       "<matplotlib.axes._subplots.AxesSubplot at 0x12d16557630>"
      ]
     },
     "execution_count": 26,
     "metadata": {},
     "output_type": "execute_result"
    },
    {
     "data": {
      "image/png": "[encoded data removed]",
      "text/plain": [
       "<Figure size 432x288 with 1 Axes>"
      ]
     },
     "metadata": {
      "needs_background": "light"
     },
     "output_type": "display_data"
    }
   ],
   "source": [
    "# 개수 분포, 그래프\n",
    "df_train['Survived'].value_counts().plot.bar()"
   ]
  },
  {
   "cell_type": "code",
   "execution_count": 27,
   "metadata": {},
   "outputs": [
    {
     "data": {
      "text/plain": [
       "<matplotlib.legend.Legend at 0x12d16674630>"
      ]
     },
     "execution_count": 27,
     "metadata": {},
     "output_type": "execute_result"
    },
    {
     "data": {
      "image/png": "[encoded data removed]",
      "text/plain": [
       "<Figure size 432x288 with 1 Axes>"
      ]
     },
     "metadata": {},
     "output_type": "display_data"
    }
   ],
   "source": [
    "# 카테고리 분포 \n",
    "df_train['Embarked'].value_counts().plot.pie(autopct='%.2f %%')\n",
    "plt.legend()"
   ]
  },
  {
   "cell_type": "code",
   "execution_count": 28,
   "metadata": {},
   "outputs": [
    {
     "data": {
      "text/plain": [
       "<matplotlib.axes._subplots.AxesSubplot at 0x12d166da9b0>"
      ]
     },
     "execution_count": 28,
     "metadata": {},
     "output_type": "execute_result"
    },
    {
     "data": {
      "image/png": "[encoded data removed]",
      "text/plain": [
       "<Figure size 432x288 with 1 Axes>"
      ]
     },
     "metadata": {
      "needs_background": "light"
     },
     "output_type": "display_data"
    }
   ],
   "source": [
    "# 카테고리 분포. 그룹별. stack bar\n",
    "dfembarkedsurv = df_train.groupby(['Embarked', 'Survived'])['Survived'].count().unstack('Survived').fillna(0)\n",
    "dfembarkedsurv.plot(kind='bar', stacked=True)"
   ]
  },
  {
   "cell_type": "code",
   "execution_count": 29,
   "metadata": {},
   "outputs": [
    {
     "data": {
      "text/plain": [
       "<matplotlib.axes._subplots.AxesSubplot at 0x12d16779b38>"
      ]
     },
     "execution_count": 29,
     "metadata": {},
     "output_type": "execute_result"
    },
    {
     "data": {
      "image/png": "[encoded data removed]",
      "text/plain": [
       "<Figure size 432x288 with 2 Axes>"
      ]
     },
     "metadata": {
      "needs_background": "light"
     },
     "output_type": "display_data"
    }
   ],
   "source": [
    "# 여러 그래프를 한 번에 그리기.\n",
    "# 두 가지 방법이 있다.\n",
    "# plt.subplots 와 plt.subplot \n",
    "#  subplots는 리턴받아 사용. subplot은 리턴값 안받고 그때그때 사용.\n",
    "# \n",
    "# ex) subplot(행,열, 현재번호)\n",
    "# plt.subplot(1,2,1)\n",
    "# plot...\n",
    "# plt.subplot(1,2,2)\n",
    "# plot...\n",
    "# ex) f,ax = subplots(행,열)\n",
    "# plots... by ax[인덱스번호]\n",
    "# \n",
    "# 생존자 비율\n",
    "# plt.figure()\n",
    "f, ax = plt.subplots(1,2)\n",
    "\n",
    "df_train['Survived'].value_counts().plot.pie(explode=[0, 0.1], autopct='%.2f%%', ax=ax[0], shadow=True)\n",
    "ax[0].set_title('Survived ratio')\n",
    "ax[0].set_ylabel('')\n",
    "\n",
    "# Survived 컬럼 카운트 (dataframe plot보다 이쁨)\n",
    "sns.countplot('Survived', data=df_train, ax=ax[1])"
   ]
  },
  {
   "cell_type": "code",
   "execution_count": 30,
   "metadata": {},
   "outputs": [
    {
     "name": "stdout",
     "output_type": "stream",
     "text": [
      "[549 342]\n"
     ]
    },
    {
     "data": {
      "image/png": "[encoded data removed]",
      "text/plain": [
       "<Figure size 720x360 with 2 Axes>"
      ]
     },
     "metadata": {
      "needs_background": "light"
     },
     "output_type": "display_data"
    }
   ],
   "source": [
    "# 위와 같은 그림을 다른 방식으로\n",
    "plt.figure(figsize=(2*5,5))\n",
    "plt.suptitle('Bit Title', fontsize='x-large')\n",
    "\n",
    "plt.subplot(1,2,1)\n",
    "plt.title('title1')\n",
    "xs = df_train['Survived'].value_counts()\n",
    "print(xs.values)\n",
    "df_train['Survived'].value_counts().plot.pie(autopct='%.2f %%', labels=['Dead', 'Survived'])  #autopct='%.2f %%'\n",
    "\n",
    "plt.subplot(1,2,2)\n",
    "plt.title('title2')\n",
    "sns.countplot('Survived', data=df_train)\n",
    "\n",
    "plt.show()"
   ]
  },
  {
   "cell_type": "code",
   "execution_count": 31,
   "metadata": {},
   "outputs": [],
   "source": [
    "# 가로축에 값이 많은 경우, 글씨가 안보임. 글씨 회전\n",
    "import random\n",
    "# 랜덤 스트링 분포도\n",
    "rs=[]\n",
    "rs2=[]\n",
    "for i in range(1000):\n",
    "    c = chr(np.random.randint(0, 26)+ord('A'))  # 주의! random.randint(0,26) 이 아니다. np.random.randint와 사용방식이 다름!\n",
    "    rs.append(c)\n",
    "    c = chr(random.randint(0, 25)+ord('A'))  # random.randint는 마지막값이 범위에 포함된다!!! \n",
    "    rs2.append(c)\n",
    "# print(rs)\n",
    "# print(rs2)\n",
    "\n",
    "from collections import Counter"
   ]
  },
  {
   "cell_type": "code",
   "execution_count": 32,
   "metadata": {},
   "outputs": [
    {
     "data": {
      "image/png": "[encoded data removed]",
      "text/plain": [
       "<Figure size 432x288 with 1 Axes>"
      ]
     },
     "metadata": {
      "needs_background": "light"
     },
     "output_type": "display_data"
    }
   ],
   "source": [
    "counter1 = Counter(rs)\n",
    "dfc1 = pd.DataFrame([ [x1,x2] for x1,x2 in counter1.items() ], columns=['Letter', 'Count'])\n",
    "dfc1 = dfc1.sort_values('Count', ascending=False)\n",
    "\n",
    "plt.figure()\n",
    "# sns.barplot(dfc1['Letter'], dfc1['Count'], color='blue', label='LetterCount')\n",
    "sns.barplot(dfc1['Letter'], dfc1['Count'], label='LetterCount') # 색상이 없으면 무지개색 \n",
    "plt.show()"
   ]
  },
  {
   "cell_type": "code",
   "execution_count": 33,
   "metadata": {},
   "outputs": [
    {
     "data": {
      "image/png": "[encoded data removed]",
      "text/plain": [
       "<Figure size 576x432 with 1 Axes>"
      ]
     },
     "metadata": {
      "needs_background": "light"
     },
     "output_type": "display_data"
    }
   ],
   "source": [
    "# x 축을 일치시키고 y값 비교하기 / x축 회전 rotation\n",
    "\n",
    "dfc1 = dfc1.sort_values('Letter', ascending=True)\n",
    "\n",
    "counter2 = Counter(rs2)\n",
    "dfc2 = pd.DataFrame([ [x1,x2] for x1,x2 in counter2.items() ], columns=['Letter', 'Count'])\n",
    "dfc2 = dfc2.sort_values('Letter', ascending=True)\n",
    "xvalue = dfc1['Letter']\n",
    "\n",
    "plt.figure(figsize=(8, 6))\n",
    "plt.title('Letter Count')\n",
    "plt.xticks(rotation=90)   # x 라벨 회전. (글자가 겹칠때 유용함)\n",
    "sns.barplot(xvalue, dfc1['Count'], color='blue', alpha=0.5, label='by np')\n",
    "sns.barplot(xvalue, dfc2['Count'], color='red', alpha=0.5, label='by random')\n",
    "plt.legend()\n",
    "plt.show()\n",
    "    "
   ]
  },
  {
   "cell_type": "markdown",
   "metadata": {},
   "source": [
    "---\n",
    "### 그룹별 카운팅\n",
    "\n",
    "- dataframe.groupby()  : array로 여러개 가능\n",
    "- sns.countplot() : hue\n",
    "- dataframe.crosstab() : 표생성. 세로필드, 가로필드.  (세로필드를 array로 어러개 가능)\n",
    "- sns.factorplot(x,y,hue) : y평균값 그래프. hue로 지정된 필드의 종류만큼 라인이 그려짐.\n",
    "- sns.violinplot(x,y,hue) : y값의 범위와 분포를 알 수 있는 그래프. "
   ]
  },
  {
   "cell_type": "code",
   "execution_count": 34,
   "metadata": {},
   "outputs": [
    {
     "data": {
      "text/plain": [
       "Sex     Survived\n",
       "female  0            81\n",
       "        1           233\n",
       "male    0           468\n",
       "        1           109\n",
       "Name: Survived, dtype: int64"
      ]
     },
     "execution_count": 34,
     "metadata": {},
     "output_type": "execute_result"
    }
   ],
   "source": [
    "# 성별과 생존 관계\n",
    "df_train.groupby(['Sex', 'Survived'])['Survived'].count()"
   ]
  },
  {
   "cell_type": "code",
   "execution_count": 35,
   "metadata": {},
   "outputs": [
    {
     "data": {
      "text/plain": [
       "<matplotlib.axes._subplots.AxesSubplot at 0x12d16967208>"
      ]
     },
     "execution_count": 35,
     "metadata": {},
     "output_type": "execute_result"
    },
    {
     "data": {
      "image/png": "[encoded data removed]",
      "text/plain": [
       "<Figure size 432x288 with 1 Axes>"
      ]
     },
     "metadata": {
      "needs_background": "light"
     },
     "output_type": "display_data"
    }
   ],
   "source": [
    "sns.countplot('Sex', hue='Survived', data=df_train)"
   ]
  },
  {
   "cell_type": "code",
   "execution_count": 36,
   "metadata": {},
   "outputs": [
    {
     "data": {
      "text/plain": [
       "<matplotlib.axes._subplots.AxesSubplot at 0x12d1681b080>"
      ]
     },
     "execution_count": 36,
     "metadata": {},
     "output_type": "execute_result"
    },
    {
     "data": {
      "image/png": "[encoded data removed]",
      "text/plain": [
       "<Figure size 432x288 with 1 Axes>"
      ]
     },
     "metadata": {
      "needs_background": "light"
     },
     "output_type": "display_data"
    }
   ],
   "source": [
    "sns.countplot('Embarked', hue='Sex', data=df_train)"
   ]
  },
  {
   "cell_type": "code",
   "execution_count": 37,
   "metadata": {},
   "outputs": [
    {
     "name": "stdout",
     "output_type": "stream",
     "text": [
      "interactive False True\n",
      "figure.facecolor white (1, 1, 1, 0)\n",
      "figure.dpi 100.0 72.0\n",
      "figure.figsize [6.4, 4.8] [6.0, 4.0]\n",
      "figure.subplot.bottom 0.11 0.125\n",
      "figure.edgecolor white (1, 1, 1, 0)\n"
     ]
    }
   ],
   "source": [
    "pltconfig_check()"
   ]
  },
  {
   "cell_type": "code",
   "execution_count": 38,
   "metadata": {},
   "outputs": [
    {
     "data": {
      "text/html": [
       "<style  type=\"text/css\" >\n",
       "    #T_035609dc_db93_11e9_8994_982cbcc14b9crow0_col0 {\n",
       "            background-color:  #ffff66;\n",
       "            color:  #000000;\n",
       "        }    #T_035609dc_db93_11e9_8994_982cbcc14b9crow0_col1 {\n",
       "            background-color:  #77bb66;\n",
       "            color:  #000000;\n",
       "        }    #T_035609dc_db93_11e9_8994_982cbcc14b9crow0_col2 {\n",
       "            background-color:  #ffff66;\n",
       "            color:  #000000;\n",
       "        }    #T_035609dc_db93_11e9_8994_982cbcc14b9crow1_col0 {\n",
       "            background-color:  #2c9666;\n",
       "            color:  #000000;\n",
       "        }    #T_035609dc_db93_11e9_8994_982cbcc14b9crow1_col1 {\n",
       "            background-color:  #ffff66;\n",
       "            color:  #000000;\n",
       "        }    #T_035609dc_db93_11e9_8994_982cbcc14b9crow1_col2 {\n",
       "            background-color:  #8bc566;\n",
       "            color:  #000000;\n",
       "        }    #T_035609dc_db93_11e9_8994_982cbcc14b9crow2_col0 {\n",
       "            background-color:  #008066;\n",
       "            color:  #f1f1f1;\n",
       "        }    #T_035609dc_db93_11e9_8994_982cbcc14b9crow2_col1 {\n",
       "            background-color:  #008066;\n",
       "            color:  #f1f1f1;\n",
       "        }    #T_035609dc_db93_11e9_8994_982cbcc14b9crow2_col2 {\n",
       "            background-color:  #008066;\n",
       "            color:  #f1f1f1;\n",
       "        }</style><table id=\"T_035609dc_db93_11e9_8994_982cbcc14b9c\" ><thead>    <tr>        <th class=\"index_name level0\" >Survived</th>        <th class=\"col_heading level0 col0\" >0</th>        <th class=\"col_heading level0 col1\" >1</th>        <th class=\"col_heading level0 col2\" >All</th>    </tr>    <tr>        <th class=\"index_name level0\" >Sex</th>        <th class=\"blank\" ></th>        <th class=\"blank\" ></th>        <th class=\"blank\" ></th>    </tr></thead><tbody>\n",
       "                <tr>\n",
       "                        <th id=\"T_035609dc_db93_11e9_8994_982cbcc14b9clevel0_row0\" class=\"row_heading level0 row0\" >female</th>\n",
       "                        <td id=\"T_035609dc_db93_11e9_8994_982cbcc14b9crow0_col0\" class=\"data row0 col0\" >81</td>\n",
       "                        <td id=\"T_035609dc_db93_11e9_8994_982cbcc14b9crow0_col1\" class=\"data row0 col1\" >233</td>\n",
       "                        <td id=\"T_035609dc_db93_11e9_8994_982cbcc14b9crow0_col2\" class=\"data row0 col2\" >314</td>\n",
       "            </tr>\n",
       "            <tr>\n",
       "                        <th id=\"T_035609dc_db93_11e9_8994_982cbcc14b9clevel0_row1\" class=\"row_heading level0 row1\" >male</th>\n",
       "                        <td id=\"T_035609dc_db93_11e9_8994_982cbcc14b9crow1_col0\" class=\"data row1 col0\" >468</td>\n",
       "                        <td id=\"T_035609dc_db93_11e9_8994_982cbcc14b9crow1_col1\" class=\"data row1 col1\" >109</td>\n",
       "                        <td id=\"T_035609dc_db93_11e9_8994_982cbcc14b9crow1_col2\" class=\"data row1 col2\" >577</td>\n",
       "            </tr>\n",
       "            <tr>\n",
       "                        <th id=\"T_035609dc_db93_11e9_8994_982cbcc14b9clevel0_row2\" class=\"row_heading level0 row2\" >All</th>\n",
       "                        <td id=\"T_035609dc_db93_11e9_8994_982cbcc14b9crow2_col0\" class=\"data row2 col0\" >549</td>\n",
       "                        <td id=\"T_035609dc_db93_11e9_8994_982cbcc14b9crow2_col1\" class=\"data row2 col1\" >342</td>\n",
       "                        <td id=\"T_035609dc_db93_11e9_8994_982cbcc14b9crow2_col2\" class=\"data row2 col2\" >891</td>\n",
       "            </tr>\n",
       "    </tbody></table>"
      ],
      "text/plain": [
       "<pandas.io.formats.style.Styler at 0x12d168cebe0>"
      ]
     },
     "execution_count": 38,
     "metadata": {},
     "output_type": "execute_result"
    }
   ],
   "source": [
    "# 두 개의 기준으로 groupby한 카운팅\n",
    "pd.crosstab(df_train['Sex'], df_train['Survived'], margins=True).style.background_gradient(cmap='summer_r')"
   ]
  },
  {
   "cell_type": "code",
   "execution_count": 39,
   "metadata": {},
   "outputs": [
    {
     "data": {
      "text/html": [
       "<style  type=\"text/css\" >\n",
       "    #T_03683058_db93_11e9_92ed_982cbcc14b9crow0_col0 {\n",
       "            background-color:  #ffff66;\n",
       "            color:  #000000;\n",
       "        }    #T_03683058_db93_11e9_92ed_982cbcc14b9crow0_col1 {\n",
       "            background-color:  #cee666;\n",
       "            color:  #000000;\n",
       "        }    #T_03683058_db93_11e9_92ed_982cbcc14b9crow0_col2 {\n",
       "            background-color:  #f4fa66;\n",
       "            color:  #000000;\n",
       "        }    #T_03683058_db93_11e9_92ed_982cbcc14b9crow1_col0 {\n",
       "            background-color:  #f6fa66;\n",
       "            color:  #000000;\n",
       "        }    #T_03683058_db93_11e9_92ed_982cbcc14b9crow1_col1 {\n",
       "            background-color:  #ffff66;\n",
       "            color:  #000000;\n",
       "        }    #T_03683058_db93_11e9_92ed_982cbcc14b9crow1_col2 {\n",
       "            background-color:  #ffff66;\n",
       "            color:  #000000;\n",
       "        }    #T_03683058_db93_11e9_92ed_982cbcc14b9crow2_col0 {\n",
       "            background-color:  #60b066;\n",
       "            color:  #000000;\n",
       "        }    #T_03683058_db93_11e9_92ed_982cbcc14b9crow2_col1 {\n",
       "            background-color:  #dfef66;\n",
       "            color:  #000000;\n",
       "        }    #T_03683058_db93_11e9_92ed_982cbcc14b9crow2_col2 {\n",
       "            background-color:  #90c866;\n",
       "            color:  #000000;\n",
       "        }    #T_03683058_db93_11e9_92ed_982cbcc14b9crow3_col0 {\n",
       "            background-color:  #008066;\n",
       "            color:  #f1f1f1;\n",
       "        }    #T_03683058_db93_11e9_92ed_982cbcc14b9crow3_col1 {\n",
       "            background-color:  #008066;\n",
       "            color:  #f1f1f1;\n",
       "        }    #T_03683058_db93_11e9_92ed_982cbcc14b9crow3_col2 {\n",
       "            background-color:  #008066;\n",
       "            color:  #f1f1f1;\n",
       "        }</style><table id=\"T_03683058_db93_11e9_92ed_982cbcc14b9c\" ><thead>    <tr>        <th class=\"index_name level0\" >Survived</th>        <th class=\"col_heading level0 col0\" >0</th>        <th class=\"col_heading level0 col1\" >1</th>        <th class=\"col_heading level0 col2\" >All</th>    </tr>    <tr>        <th class=\"index_name level0\" >Pclass</th>        <th class=\"blank\" ></th>        <th class=\"blank\" ></th>        <th class=\"blank\" ></th>    </tr></thead><tbody>\n",
       "                <tr>\n",
       "                        <th id=\"T_03683058_db93_11e9_92ed_982cbcc14b9clevel0_row0\" class=\"row_heading level0 row0\" >1</th>\n",
       "                        <td id=\"T_03683058_db93_11e9_92ed_982cbcc14b9crow0_col0\" class=\"data row0 col0\" >80</td>\n",
       "                        <td id=\"T_03683058_db93_11e9_92ed_982cbcc14b9crow0_col1\" class=\"data row0 col1\" >136</td>\n",
       "                        <td id=\"T_03683058_db93_11e9_92ed_982cbcc14b9crow0_col2\" class=\"data row0 col2\" >216</td>\n",
       "            </tr>\n",
       "            <tr>\n",
       "                        <th id=\"T_03683058_db93_11e9_92ed_982cbcc14b9clevel0_row1\" class=\"row_heading level0 row1\" >2</th>\n",
       "                        <td id=\"T_03683058_db93_11e9_92ed_982cbcc14b9crow1_col0\" class=\"data row1 col0\" >97</td>\n",
       "                        <td id=\"T_03683058_db93_11e9_92ed_982cbcc14b9crow1_col1\" class=\"data row1 col1\" >87</td>\n",
       "                        <td id=\"T_03683058_db93_11e9_92ed_982cbcc14b9crow1_col2\" class=\"data row1 col2\" >184</td>\n",
       "            </tr>\n",
       "            <tr>\n",
       "                        <th id=\"T_03683058_db93_11e9_92ed_982cbcc14b9clevel0_row2\" class=\"row_heading level0 row2\" >3</th>\n",
       "                        <td id=\"T_03683058_db93_11e9_92ed_982cbcc14b9crow2_col0\" class=\"data row2 col0\" >372</td>\n",
       "                        <td id=\"T_03683058_db93_11e9_92ed_982cbcc14b9crow2_col1\" class=\"data row2 col1\" >119</td>\n",
       "                        <td id=\"T_03683058_db93_11e9_92ed_982cbcc14b9crow2_col2\" class=\"data row2 col2\" >491</td>\n",
       "            </tr>\n",
       "            <tr>\n",
       "                        <th id=\"T_03683058_db93_11e9_92ed_982cbcc14b9clevel0_row3\" class=\"row_heading level0 row3\" >All</th>\n",
       "                        <td id=\"T_03683058_db93_11e9_92ed_982cbcc14b9crow3_col0\" class=\"data row3 col0\" >549</td>\n",
       "                        <td id=\"T_03683058_db93_11e9_92ed_982cbcc14b9crow3_col1\" class=\"data row3 col1\" >342</td>\n",
       "                        <td id=\"T_03683058_db93_11e9_92ed_982cbcc14b9crow3_col2\" class=\"data row3 col2\" >891</td>\n",
       "            </tr>\n",
       "    </tbody></table>"
      ],
      "text/plain": [
       "<pandas.io.formats.style.Styler at 0x12d16ced128>"
      ]
     },
     "execution_count": 39,
     "metadata": {},
     "output_type": "execute_result"
    }
   ],
   "source": [
    "## 피클래스와 생존 관계\n",
    "pd.crosstab(df_train['Pclass'], df_train['Survived'], margins=True).style.background_gradient(cmap='summer_r')"
   ]
  },
  {
   "cell_type": "code",
   "execution_count": 40,
   "metadata": {},
   "outputs": [
    {
     "data": {
      "text/plain": [
       "<matplotlib.axes._subplots.AxesSubplot at 0x12d16ab3a90>"
      ]
     },
     "execution_count": 40,
     "metadata": {},
     "output_type": "execute_result"
    },
    {
     "data": {
      "image/png": "[encoded data removed]",
      "text/plain": [
       "<Figure size 432x288 with 1 Axes>"
      ]
     },
     "metadata": {
      "needs_background": "light"
     },
     "output_type": "display_data"
    }
   ],
   "source": [
    "sns.countplot('Pclass', hue='Survived', data=df_train)"
   ]
  },
  {
   "cell_type": "code",
   "execution_count": 41,
   "metadata": {},
   "outputs": [
    {
     "data": {
      "text/html": [
       "<style  type=\"text/css\" >\n",
       "    #T_039b80b8_db93_11e9_9ff8_982cbcc14b9crow0_col0 {\n",
       "            background-color:  #ffff66;\n",
       "            color:  #000000;\n",
       "        }    #T_039b80b8_db93_11e9_9ff8_982cbcc14b9crow0_col1 {\n",
       "            background-color:  #c5e266;\n",
       "            color:  #000000;\n",
       "        }    #T_039b80b8_db93_11e9_9ff8_982cbcc14b9crow0_col2 {\n",
       "            background-color:  #fafc66;\n",
       "            color:  #000000;\n",
       "        }    #T_039b80b8_db93_11e9_9ff8_982cbcc14b9crow1_col0 {\n",
       "            background-color:  #fefe66;\n",
       "            color:  #000000;\n",
       "        }    #T_039b80b8_db93_11e9_9ff8_982cbcc14b9crow1_col1 {\n",
       "            background-color:  #d6eb66;\n",
       "            color:  #000000;\n",
       "        }    #T_039b80b8_db93_11e9_9ff8_982cbcc14b9crow1_col2 {\n",
       "            background-color:  #ffff66;\n",
       "            color:  #000000;\n",
       "        }    #T_039b80b8_db93_11e9_9ff8_982cbcc14b9crow2_col0 {\n",
       "            background-color:  #dfef66;\n",
       "            color:  #000000;\n",
       "        }    #T_039b80b8_db93_11e9_9ff8_982cbcc14b9crow2_col1 {\n",
       "            background-color:  #d4ea66;\n",
       "            color:  #000000;\n",
       "        }    #T_039b80b8_db93_11e9_9ff8_982cbcc14b9crow2_col2 {\n",
       "            background-color:  #eaf466;\n",
       "            color:  #000000;\n",
       "        }    #T_039b80b8_db93_11e9_9ff8_982cbcc14b9crow3_col0 {\n",
       "            background-color:  #ddee66;\n",
       "            color:  #000000;\n",
       "        }    #T_039b80b8_db93_11e9_9ff8_982cbcc14b9crow3_col1 {\n",
       "            background-color:  #e9f466;\n",
       "            color:  #000000;\n",
       "        }    #T_039b80b8_db93_11e9_9ff8_982cbcc14b9crow3_col2 {\n",
       "            background-color:  #f1f866;\n",
       "            color:  #000000;\n",
       "        }    #T_039b80b8_db93_11e9_9ff8_982cbcc14b9crow4_col0 {\n",
       "            background-color:  #d6eb66;\n",
       "            color:  #000000;\n",
       "        }    #T_039b80b8_db93_11e9_9ff8_982cbcc14b9crow4_col1 {\n",
       "            background-color:  #ffff66;\n",
       "            color:  #000000;\n",
       "        }    #T_039b80b8_db93_11e9_9ff8_982cbcc14b9crow4_col2 {\n",
       "            background-color:  #f5fa66;\n",
       "            color:  #000000;\n",
       "        }    #T_039b80b8_db93_11e9_9ff8_982cbcc14b9crow5_col0 {\n",
       "            background-color:  #74ba66;\n",
       "            color:  #000000;\n",
       "        }    #T_039b80b8_db93_11e9_9ff8_982cbcc14b9crow5_col1 {\n",
       "            background-color:  #e8f466;\n",
       "            color:  #000000;\n",
       "        }    #T_039b80b8_db93_11e9_9ff8_982cbcc14b9crow5_col2 {\n",
       "            background-color:  #aad466;\n",
       "            color:  #000000;\n",
       "        }    #T_039b80b8_db93_11e9_9ff8_982cbcc14b9crow6_col0 {\n",
       "            background-color:  #008066;\n",
       "            color:  #f1f1f1;\n",
       "        }    #T_039b80b8_db93_11e9_9ff8_982cbcc14b9crow6_col1 {\n",
       "            background-color:  #008066;\n",
       "            color:  #f1f1f1;\n",
       "        }    #T_039b80b8_db93_11e9_9ff8_982cbcc14b9crow6_col2 {\n",
       "            background-color:  #008066;\n",
       "            color:  #f1f1f1;\n",
       "        }</style><table id=\"T_039b80b8_db93_11e9_9ff8_982cbcc14b9c\" ><thead>    <tr>        <th class=\"blank\" ></th>        <th class=\"index_name level0\" >Survived</th>        <th class=\"col_heading level0 col0\" >0</th>        <th class=\"col_heading level0 col1\" >1</th>        <th class=\"col_heading level0 col2\" >All</th>    </tr>    <tr>        <th class=\"index_name level0\" >Sex</th>        <th class=\"index_name level1\" >Pclass</th>        <th class=\"blank\" ></th>        <th class=\"blank\" ></th>        <th class=\"blank\" ></th>    </tr></thead><tbody>\n",
       "                <tr>\n",
       "                        <th id=\"T_039b80b8_db93_11e9_9ff8_982cbcc14b9clevel0_row0\" class=\"row_heading level0 row0\" rowspan=3>female</th>\n",
       "                        <th id=\"T_039b80b8_db93_11e9_9ff8_982cbcc14b9clevel1_row0\" class=\"row_heading level1 row0\" >1</th>\n",
       "                        <td id=\"T_039b80b8_db93_11e9_9ff8_982cbcc14b9crow0_col0\" class=\"data row0 col0\" >3</td>\n",
       "                        <td id=\"T_039b80b8_db93_11e9_9ff8_982cbcc14b9crow0_col1\" class=\"data row0 col1\" >91</td>\n",
       "                        <td id=\"T_039b80b8_db93_11e9_9ff8_982cbcc14b9crow0_col2\" class=\"data row0 col2\" >94</td>\n",
       "            </tr>\n",
       "            <tr>\n",
       "                                <th id=\"T_039b80b8_db93_11e9_9ff8_982cbcc14b9clevel1_row1\" class=\"row_heading level1 row1\" >2</th>\n",
       "                        <td id=\"T_039b80b8_db93_11e9_9ff8_982cbcc14b9crow1_col0\" class=\"data row1 col0\" >6</td>\n",
       "                        <td id=\"T_039b80b8_db93_11e9_9ff8_982cbcc14b9crow1_col1\" class=\"data row1 col1\" >70</td>\n",
       "                        <td id=\"T_039b80b8_db93_11e9_9ff8_982cbcc14b9crow1_col2\" class=\"data row1 col2\" >76</td>\n",
       "            </tr>\n",
       "            <tr>\n",
       "                                <th id=\"T_039b80b8_db93_11e9_9ff8_982cbcc14b9clevel1_row2\" class=\"row_heading level1 row2\" >3</th>\n",
       "                        <td id=\"T_039b80b8_db93_11e9_9ff8_982cbcc14b9crow2_col0\" class=\"data row2 col0\" >72</td>\n",
       "                        <td id=\"T_039b80b8_db93_11e9_9ff8_982cbcc14b9crow2_col1\" class=\"data row2 col1\" >72</td>\n",
       "                        <td id=\"T_039b80b8_db93_11e9_9ff8_982cbcc14b9crow2_col2\" class=\"data row2 col2\" >144</td>\n",
       "            </tr>\n",
       "            <tr>\n",
       "                        <th id=\"T_039b80b8_db93_11e9_9ff8_982cbcc14b9clevel0_row3\" class=\"row_heading level0 row3\" rowspan=3>male</th>\n",
       "                        <th id=\"T_039b80b8_db93_11e9_9ff8_982cbcc14b9clevel1_row3\" class=\"row_heading level1 row3\" >1</th>\n",
       "                        <td id=\"T_039b80b8_db93_11e9_9ff8_982cbcc14b9crow3_col0\" class=\"data row3 col0\" >77</td>\n",
       "                        <td id=\"T_039b80b8_db93_11e9_9ff8_982cbcc14b9crow3_col1\" class=\"data row3 col1\" >45</td>\n",
       "                        <td id=\"T_039b80b8_db93_11e9_9ff8_982cbcc14b9crow3_col2\" class=\"data row3 col2\" >122</td>\n",
       "            </tr>\n",
       "            <tr>\n",
       "                                <th id=\"T_039b80b8_db93_11e9_9ff8_982cbcc14b9clevel1_row4\" class=\"row_heading level1 row4\" >2</th>\n",
       "                        <td id=\"T_039b80b8_db93_11e9_9ff8_982cbcc14b9crow4_col0\" class=\"data row4 col0\" >91</td>\n",
       "                        <td id=\"T_039b80b8_db93_11e9_9ff8_982cbcc14b9crow4_col1\" class=\"data row4 col1\" >17</td>\n",
       "                        <td id=\"T_039b80b8_db93_11e9_9ff8_982cbcc14b9crow4_col2\" class=\"data row4 col2\" >108</td>\n",
       "            </tr>\n",
       "            <tr>\n",
       "                                <th id=\"T_039b80b8_db93_11e9_9ff8_982cbcc14b9clevel1_row5\" class=\"row_heading level1 row5\" >3</th>\n",
       "                        <td id=\"T_039b80b8_db93_11e9_9ff8_982cbcc14b9crow5_col0\" class=\"data row5 col0\" >300</td>\n",
       "                        <td id=\"T_039b80b8_db93_11e9_9ff8_982cbcc14b9crow5_col1\" class=\"data row5 col1\" >47</td>\n",
       "                        <td id=\"T_039b80b8_db93_11e9_9ff8_982cbcc14b9crow5_col2\" class=\"data row5 col2\" >347</td>\n",
       "            </tr>\n",
       "            <tr>\n",
       "                        <th id=\"T_039b80b8_db93_11e9_9ff8_982cbcc14b9clevel0_row6\" class=\"row_heading level0 row6\" >All</th>\n",
       "                        <th id=\"T_039b80b8_db93_11e9_9ff8_982cbcc14b9clevel1_row6\" class=\"row_heading level1 row6\" ></th>\n",
       "                        <td id=\"T_039b80b8_db93_11e9_9ff8_982cbcc14b9crow6_col0\" class=\"data row6 col0\" >549</td>\n",
       "                        <td id=\"T_039b80b8_db93_11e9_9ff8_982cbcc14b9crow6_col1\" class=\"data row6 col1\" >342</td>\n",
       "                        <td id=\"T_039b80b8_db93_11e9_9ff8_982cbcc14b9crow6_col2\" class=\"data row6 col2\" >891</td>\n",
       "            </tr>\n",
       "    </tbody></table>"
      ],
      "text/plain": [
       "<pandas.io.formats.style.Styler at 0x12d169123c8>"
      ]
     },
     "execution_count": 41,
     "metadata": {},
     "output_type": "execute_result"
    }
   ],
   "source": [
    "## 성별과 피클래스에 따른 생존\n",
    "pd.crosstab([df_train.Sex, df_train.Pclass], df_train.Survived, margins=True).style.background_gradient(cmap='summer_r')"
   ]
  },
  {
   "cell_type": "code",
   "execution_count": 42,
   "metadata": {},
   "outputs": [
    {
     "data": {
      "text/html": [
       "<style  type=\"text/css\" >\n",
       "    #T_03b0e866_db93_11e9_9bf7_982cbcc14b9crow0_col0 {\n",
       "            background-color:  #ffff66;\n",
       "            color:  #000000;\n",
       "        }    #T_03b0e866_db93_11e9_9bf7_982cbcc14b9crow0_col1 {\n",
       "            background-color:  #ffff66;\n",
       "            color:  #000000;\n",
       "        }    #T_03b0e866_db93_11e9_9bf7_982cbcc14b9crow0_col2 {\n",
       "            background-color:  #f1f866;\n",
       "            color:  #000000;\n",
       "        }    #T_03b0e866_db93_11e9_9bf7_982cbcc14b9crow0_col3 {\n",
       "            background-color:  #ffff66;\n",
       "            color:  #000000;\n",
       "        }    #T_03b0e866_db93_11e9_9bf7_982cbcc14b9crow1_col0 {\n",
       "            background-color:  #96cb66;\n",
       "            color:  #000000;\n",
       "        }    #T_03b0e866_db93_11e9_9bf7_982cbcc14b9crow1_col1 {\n",
       "            background-color:  #a3d166;\n",
       "            color:  #000000;\n",
       "        }    #T_03b0e866_db93_11e9_9bf7_982cbcc14b9crow1_col2 {\n",
       "            background-color:  #f1f866;\n",
       "            color:  #000000;\n",
       "        }    #T_03b0e866_db93_11e9_9bf7_982cbcc14b9crow1_col3 {\n",
       "            background-color:  #cfe766;\n",
       "            color:  #000000;\n",
       "        }    #T_03b0e866_db93_11e9_9bf7_982cbcc14b9crow2_col0 {\n",
       "            background-color:  #a7d366;\n",
       "            color:  #000000;\n",
       "        }    #T_03b0e866_db93_11e9_9bf7_982cbcc14b9crow2_col1 {\n",
       "            background-color:  #85c266;\n",
       "            color:  #000000;\n",
       "        }    #T_03b0e866_db93_11e9_9bf7_982cbcc14b9crow2_col2 {\n",
       "            background-color:  #6eb666;\n",
       "            color:  #000000;\n",
       "        }    #T_03b0e866_db93_11e9_9bf7_982cbcc14b9crow2_col3 {\n",
       "            background-color:  #85c266;\n",
       "            color:  #000000;\n",
       "        }    #T_03b0e866_db93_11e9_9bf7_982cbcc14b9crow3_col0 {\n",
       "            background-color:  #cde666;\n",
       "            color:  #000000;\n",
       "        }    #T_03b0e866_db93_11e9_9bf7_982cbcc14b9crow3_col1 {\n",
       "            background-color:  #f0f866;\n",
       "            color:  #000000;\n",
       "        }    #T_03b0e866_db93_11e9_9bf7_982cbcc14b9crow3_col2 {\n",
       "            background-color:  #ffff66;\n",
       "            color:  #000000;\n",
       "        }    #T_03b0e866_db93_11e9_9bf7_982cbcc14b9crow3_col3 {\n",
       "            background-color:  #f7fb66;\n",
       "            color:  #000000;\n",
       "        }    #T_03b0e866_db93_11e9_9bf7_982cbcc14b9crow4_col0 {\n",
       "            background-color:  #008066;\n",
       "            color:  #f1f1f1;\n",
       "        }    #T_03b0e866_db93_11e9_9bf7_982cbcc14b9crow4_col1 {\n",
       "            background-color:  #008066;\n",
       "            color:  #f1f1f1;\n",
       "        }    #T_03b0e866_db93_11e9_9bf7_982cbcc14b9crow4_col2 {\n",
       "            background-color:  #008066;\n",
       "            color:  #f1f1f1;\n",
       "        }    #T_03b0e866_db93_11e9_9bf7_982cbcc14b9crow4_col3 {\n",
       "            background-color:  #008066;\n",
       "            color:  #f1f1f1;\n",
       "        }</style><table id=\"T_03b0e866_db93_11e9_9bf7_982cbcc14b9c\" ><thead>    <tr>        <th class=\"blank\" ></th>        <th class=\"index_name level0\" >Pclass</th>        <th class=\"col_heading level0 col0\" >1</th>        <th class=\"col_heading level0 col1\" >2</th>        <th class=\"col_heading level0 col2\" >3</th>        <th class=\"col_heading level0 col3\" >All</th>    </tr>    <tr>        <th class=\"index_name level0\" >Sex</th>        <th class=\"index_name level1\" >Survived</th>        <th class=\"blank\" ></th>        <th class=\"blank\" ></th>        <th class=\"blank\" ></th>        <th class=\"blank\" ></th>    </tr></thead><tbody>\n",
       "                <tr>\n",
       "                        <th id=\"T_03b0e866_db93_11e9_9bf7_982cbcc14b9clevel0_row0\" class=\"row_heading level0 row0\" rowspan=2>female</th>\n",
       "                        <th id=\"T_03b0e866_db93_11e9_9bf7_982cbcc14b9clevel1_row0\" class=\"row_heading level1 row0\" >0</th>\n",
       "                        <td id=\"T_03b0e866_db93_11e9_9bf7_982cbcc14b9crow0_col0\" class=\"data row0 col0\" >3</td>\n",
       "                        <td id=\"T_03b0e866_db93_11e9_9bf7_982cbcc14b9crow0_col1\" class=\"data row0 col1\" >6</td>\n",
       "                        <td id=\"T_03b0e866_db93_11e9_9bf7_982cbcc14b9crow0_col2\" class=\"data row0 col2\" >72</td>\n",
       "                        <td id=\"T_03b0e866_db93_11e9_9bf7_982cbcc14b9crow0_col3\" class=\"data row0 col3\" >81</td>\n",
       "            </tr>\n",
       "            <tr>\n",
       "                                <th id=\"T_03b0e866_db93_11e9_9bf7_982cbcc14b9clevel1_row1\" class=\"row_heading level1 row1\" >1</th>\n",
       "                        <td id=\"T_03b0e866_db93_11e9_9bf7_982cbcc14b9crow1_col0\" class=\"data row1 col0\" >91</td>\n",
       "                        <td id=\"T_03b0e866_db93_11e9_9bf7_982cbcc14b9crow1_col1\" class=\"data row1 col1\" >70</td>\n",
       "                        <td id=\"T_03b0e866_db93_11e9_9bf7_982cbcc14b9crow1_col2\" class=\"data row1 col2\" >72</td>\n",
       "                        <td id=\"T_03b0e866_db93_11e9_9bf7_982cbcc14b9crow1_col3\" class=\"data row1 col3\" >233</td>\n",
       "            </tr>\n",
       "            <tr>\n",
       "                        <th id=\"T_03b0e866_db93_11e9_9bf7_982cbcc14b9clevel0_row2\" class=\"row_heading level0 row2\" rowspan=2>male</th>\n",
       "                        <th id=\"T_03b0e866_db93_11e9_9bf7_982cbcc14b9clevel1_row2\" class=\"row_heading level1 row2\" >0</th>\n",
       "                        <td id=\"T_03b0e866_db93_11e9_9bf7_982cbcc14b9crow2_col0\" class=\"data row2 col0\" >77</td>\n",
       "                        <td id=\"T_03b0e866_db93_11e9_9bf7_982cbcc14b9crow2_col1\" class=\"data row2 col1\" >91</td>\n",
       "                        <td id=\"T_03b0e866_db93_11e9_9bf7_982cbcc14b9crow2_col2\" class=\"data row2 col2\" >300</td>\n",
       "                        <td id=\"T_03b0e866_db93_11e9_9bf7_982cbcc14b9crow2_col3\" class=\"data row2 col3\" >468</td>\n",
       "            </tr>\n",
       "            <tr>\n",
       "                                <th id=\"T_03b0e866_db93_11e9_9bf7_982cbcc14b9clevel1_row3\" class=\"row_heading level1 row3\" >1</th>\n",
       "                        <td id=\"T_03b0e866_db93_11e9_9bf7_982cbcc14b9crow3_col0\" class=\"data row3 col0\" >45</td>\n",
       "                        <td id=\"T_03b0e866_db93_11e9_9bf7_982cbcc14b9crow3_col1\" class=\"data row3 col1\" >17</td>\n",
       "                        <td id=\"T_03b0e866_db93_11e9_9bf7_982cbcc14b9crow3_col2\" class=\"data row3 col2\" >47</td>\n",
       "                        <td id=\"T_03b0e866_db93_11e9_9bf7_982cbcc14b9crow3_col3\" class=\"data row3 col3\" >109</td>\n",
       "            </tr>\n",
       "            <tr>\n",
       "                        <th id=\"T_03b0e866_db93_11e9_9bf7_982cbcc14b9clevel0_row4\" class=\"row_heading level0 row4\" >All</th>\n",
       "                        <th id=\"T_03b0e866_db93_11e9_9bf7_982cbcc14b9clevel1_row4\" class=\"row_heading level1 row4\" ></th>\n",
       "                        <td id=\"T_03b0e866_db93_11e9_9bf7_982cbcc14b9crow4_col0\" class=\"data row4 col0\" >216</td>\n",
       "                        <td id=\"T_03b0e866_db93_11e9_9bf7_982cbcc14b9crow4_col1\" class=\"data row4 col1\" >184</td>\n",
       "                        <td id=\"T_03b0e866_db93_11e9_9bf7_982cbcc14b9crow4_col2\" class=\"data row4 col2\" >491</td>\n",
       "                        <td id=\"T_03b0e866_db93_11e9_9bf7_982cbcc14b9crow4_col3\" class=\"data row4 col3\" >891</td>\n",
       "            </tr>\n",
       "    </tbody></table>"
      ],
      "text/plain": [
       "<pandas.io.formats.style.Styler at 0x12d16d7aeb8>"
      ]
     },
     "execution_count": 42,
     "metadata": {},
     "output_type": "execute_result"
    }
   ],
   "source": [
    "pd.crosstab([df_train.Sex, df_train.Survived], df_train.Pclass, margins=True).style.background_gradient(cmap='summer_r')"
   ]
  },
  {
   "cell_type": "code",
   "execution_count": 43,
   "metadata": {},
   "outputs": [
    {
     "data": {
      "text/plain": [
       "<seaborn.axisgrid.FacetGrid at 0x12d168216a0>"
      ]
     },
     "execution_count": 43,
     "metadata": {},
     "output_type": "execute_result"
    },
    {
     "data": {
      "image/png": "[encoded data removed]",
      "text/plain": [
       "<Figure size 430.5x360 with 1 Axes>"
      ]
     },
     "metadata": {
      "needs_background": "light"
     },
     "output_type": "display_data"
    }
   ],
   "source": [
    "## 평균 꺽은선 그래프\n",
    "sns.factorplot('Pclass', 'Survived', hue='Sex', data=df_train)"
   ]
  },
  {
   "cell_type": "code",
   "execution_count": 44,
   "metadata": {},
   "outputs": [
    {
     "data": {
      "text/plain": [
       "<seaborn.axisgrid.FacetGrid at 0x12d16dc5c18>"
      ]
     },
     "execution_count": 44,
     "metadata": {},
     "output_type": "execute_result"
    },
    {
     "data": {
      "image/png": "[encoded data removed]",
      "text/plain": [
       "<Figure size 430.5x360 with 1 Axes>"
      ]
     },
     "metadata": {
      "needs_background": "light"
     },
     "output_type": "display_data"
    }
   ],
   "source": [
    "sns.factorplot('Pclass', 'Age', hue='Sex', data=df_train)"
   ]
  },
  {
   "cell_type": "code",
   "execution_count": 45,
   "metadata": {},
   "outputs": [
    {
     "data": {
      "text/plain": [
       "<matplotlib.axes._subplots.AxesSubplot at 0x12d16e4f978>"
      ]
     },
     "execution_count": 45,
     "metadata": {},
     "output_type": "execute_result"
    },
    {
     "data": {
      "image/png": "[encoded data removed]",
      "text/plain": [
       "<Figure size 432x288 with 1 Axes>"
      ]
     },
     "metadata": {
      "needs_background": "light"
     },
     "output_type": "display_data"
    }
   ],
   "source": [
    "sns.violinplot('Pclass', 'Age', hue='Survived', data=df_train, split=True)"
   ]
  },
  {
   "cell_type": "code",
   "execution_count": 46,
   "metadata": {},
   "outputs": [
    {
     "name": "stdout",
     "output_type": "stream",
     "text": [
      "interactive False True\n",
      "figure.facecolor white (1, 1, 1, 0)\n",
      "figure.dpi 100.0 72.0\n",
      "figure.figsize [6.4, 4.8] [6.0, 4.0]\n",
      "figure.subplot.bottom 0.11 0.125\n",
      "figure.edgecolor white (1, 1, 1, 0)\n"
     ]
    }
   ],
   "source": [
    "pltconfig_check()"
   ]
  },
  {
   "cell_type": "markdown",
   "metadata": {},
   "source": [
    "---\n",
    "### 히스토그램\n",
    "- dataframe.plot.hist(bins=count, color='blue')\n",
    "- sns.FaceGrid(data, hue), map, plt.hist : hue를 주면 hue로 지정된 필드의 종류별로 겹침. "
   ]
  },
  {
   "cell_type": "code",
   "execution_count": 47,
   "metadata": {},
   "outputs": [],
   "source": [
    "# df_train['Age'].value_counts()"
   ]
  },
  {
   "cell_type": "code",
   "execution_count": 48,
   "metadata": {},
   "outputs": [
    {
     "name": "stdout",
     "output_type": "stream",
     "text": [
      "[0, 10, 20, 30, 40, 50, 60, 70, 80, 90, 100]\n"
     ]
    },
    {
     "data": {
      "text/plain": [
       "<seaborn.axisgrid.FacetGrid at 0x12d18ec78d0>"
      ]
     },
     "execution_count": 48,
     "metadata": {},
     "output_type": "execute_result"
    },
    {
     "data": {
      "image/png": "[encoded data removed]",
      "text/plain": [
       "<Figure size 339.875x288 with 1 Axes>"
      ]
     },
     "metadata": {
      "needs_background": "light"
     },
     "output_type": "display_data"
    }
   ],
   "source": [
    "# 히스토그램. 두 개 비교.\n",
    "\n",
    "# 연령대별 생존자 수, 사망자 수 2개 그래프 겹침 \n",
    "grid = sns.FacetGrid(df_train, hue='Survived', size=4)\n",
    "# bins는 개수로 지정할 수 도 있지만, 구간을 입력할 수도 있다.\n",
    "grid.map(plt.hist, 'Age', alpha=.6, rwidth=0.8, bins=[0,10,20,30,40,50,60,70,80,90,100])\n",
    "# bins 구간에 맞추어 x tick을 지정해 준다.\n",
    "xlist=list(range(0, 110, 10))\n",
    "print(xlist)\n",
    "plt.xticks(xlist)\n",
    "grid.add_legend()"
   ]
  },
  {
   "cell_type": "code",
   "execution_count": 49,
   "metadata": {},
   "outputs": [
    {
     "data": {
      "text/plain": [
       "<seaborn.axisgrid.FacetGrid at 0x12d18f87898>"
      ]
     },
     "execution_count": 49,
     "metadata": {},
     "output_type": "execute_result"
    },
    {
     "data": {
      "image/png": "[encoded data removed]",
      "text/plain": [
       "<Figure size 576x288 with 2 Axes>"
      ]
     },
     "metadata": {
      "needs_background": "light"
     },
     "output_type": "display_data"
    }
   ],
   "source": [
    "# 위 히스토그램을 각각 그리기\n",
    "grid = sns.FacetGrid(df_train, col='Survived', size=4, margin_titles=True)\n",
    "grid.map(plt.hist, 'Age', bins=[0,10,20,30,40,50,60,70,80,90,100], color='green', histtype='step') # histtype 생략시(default='bar') 색칠한 일반 모양\n",
    "# title을 value로 지정\n",
    "# grid.set_titles(row_template='{row_name}', col_template='{col_name}')  # 이것을 생략하면 제목은 알아서 column=value가 된다. "
   ]
  },
  {
   "cell_type": "code",
   "execution_count": 50,
   "metadata": {},
   "outputs": [
    {
     "data": {
      "image/png": "[encoded data removed]",
      "text/plain": [
       "<Figure size 432x288 with 1 Axes>"
      ]
     },
     "metadata": {
      "needs_background": "light"
     },
     "output_type": "display_data"
    }
   ],
   "source": [
    "# 히스토그램. \n",
    "df_train[ df_train['Survived']==0 ].Age.plot.hist(bins=20, color='red', rwidth=0.9)  \n",
    "# rwidth (0~1)범위로 가로크기 비율을 정해 여백을 줄 수 있다.\n",
    "xlist = list(range(0, 85, 5))\n",
    "plt.xticks(xlist)\n",
    "plt.margins(x=0)  # 안쪽 x 마진 제거\n",
    "plt.show()"
   ]
  },
  {
   "cell_type": "code",
   "execution_count": 51,
   "metadata": {},
   "outputs": [
    {
     "data": {
      "text/plain": [
       "<seaborn.axisgrid.FacetGrid at 0x12d16967668>"
      ]
     },
     "execution_count": 51,
     "metadata": {},
     "output_type": "execute_result"
    },
    {
     "data": {
      "image/png": "[encoded data removed]",
      "text/plain": [
       "<Figure size 648x216 with 3 Axes>"
      ]
     },
     "metadata": {
      "needs_background": "light"
     },
     "output_type": "display_data"
    }
   ],
   "source": [
    "# FacetGrid로 가로로 여러 그래프 그리기(그룹/컬럼별)\n",
    "grid = sns.FacetGrid(df_train, col='Embarked', size = 3)\n",
    "grid.map(sns.barplot, 'Sex', 'Survived', palette='deep', order=['female','male'])  \n",
    "# order가 없으면 male, female 순으로 나온다. "
   ]
  },
  {
   "cell_type": "markdown",
   "metadata": {},
   "source": [
    "---\n",
    "## 상관계수"
   ]
  },
  {
   "cell_type": "code",
   "execution_count": 52,
   "metadata": {},
   "outputs": [
    {
     "data": {
      "text/html": [
       "<div>\n",
       "<style scoped>\n",
       "    .dataframe tbody tr th:only-of-type {\n",
       "        vertical-align: middle;\n",
       "    }\n",
       "\n",
       "    .dataframe tbody tr th {\n",
       "        vertical-align: top;\n",
       "    }\n",
       "\n",
       "    .dataframe thead th {\n",
       "        text-align: right;\n",
       "    }\n",
       "</style>\n",
       "<table border=\"1\" class=\"dataframe\">\n",
       "  <thead>\n",
       "    <tr style=\"text-align: right;\">\n",
       "      <th></th>\n",
       "      <th>Pclass</th>\n",
       "      <th>Age</th>\n",
       "      <th>SibSp</th>\n",
       "      <th>Parch</th>\n",
       "      <th>Fare</th>\n",
       "    </tr>\n",
       "  </thead>\n",
       "  <tbody>\n",
       "    <tr>\n",
       "      <th>Pclass</th>\n",
       "      <td>1.000000</td>\n",
       "      <td>-0.408106</td>\n",
       "      <td>0.060832</td>\n",
       "      <td>0.018322</td>\n",
       "      <td>-0.558629</td>\n",
       "    </tr>\n",
       "    <tr>\n",
       "      <th>Age</th>\n",
       "      <td>-0.408106</td>\n",
       "      <td>1.000000</td>\n",
       "      <td>-0.243699</td>\n",
       "      <td>-0.150917</td>\n",
       "      <td>0.178740</td>\n",
       "    </tr>\n",
       "    <tr>\n",
       "      <th>SibSp</th>\n",
       "      <td>0.060832</td>\n",
       "      <td>-0.243699</td>\n",
       "      <td>1.000000</td>\n",
       "      <td>0.373587</td>\n",
       "      <td>0.160238</td>\n",
       "    </tr>\n",
       "    <tr>\n",
       "      <th>Parch</th>\n",
       "      <td>0.018322</td>\n",
       "      <td>-0.150917</td>\n",
       "      <td>0.373587</td>\n",
       "      <td>1.000000</td>\n",
       "      <td>0.221539</td>\n",
       "    </tr>\n",
       "    <tr>\n",
       "      <th>Fare</th>\n",
       "      <td>-0.558629</td>\n",
       "      <td>0.178740</td>\n",
       "      <td>0.160238</td>\n",
       "      <td>0.221539</td>\n",
       "      <td>1.000000</td>\n",
       "    </tr>\n",
       "  </tbody>\n",
       "</table>\n",
       "</div>"
      ],
      "text/plain": [
       "          Pclass       Age     SibSp     Parch      Fare\n",
       "Pclass  1.000000 -0.408106  0.060832  0.018322 -0.558629\n",
       "Age    -0.408106  1.000000 -0.243699 -0.150917  0.178740\n",
       "SibSp   0.060832 -0.243699  1.000000  0.373587  0.160238\n",
       "Parch   0.018322 -0.150917  0.373587  1.000000  0.221539\n",
       "Fare   -0.558629  0.178740  0.160238  0.221539  1.000000"
      ]
     },
     "execution_count": 52,
     "metadata": {},
     "output_type": "execute_result"
    }
   ],
   "source": [
    "# Dataframe 상관계수 테이블 correlation \n",
    "df_num.corr()"
   ]
  },
  {
   "cell_type": "code",
   "execution_count": 53,
   "metadata": {},
   "outputs": [
    {
     "data": {
      "text/plain": [
       "<matplotlib.axes._subplots.AxesSubplot at 0x12d19ff1160>"
      ]
     },
     "execution_count": 53,
     "metadata": {},
     "output_type": "execute_result"
    },
    {
     "data": {
      "image/png": "[encoded data removed]",
      "text/plain": [
       "<Figure size 432x288 with 2 Axes>"
      ]
     },
     "metadata": {
      "needs_background": "light"
     },
     "output_type": "display_data"
    }
   ],
   "source": [
    "# 상관계수 히트맵 \n",
    "sns.heatmap( df_train.drop('PassengerId', axis=1).corr(), annot=True)"
   ]
  },
  {
   "cell_type": "code",
   "execution_count": 54,
   "metadata": {},
   "outputs": [
    {
     "data": {
      "image/png": "[encoded data removed]",
      "text/plain": [
       "<Figure size 432x288 with 2 Axes>"
      ]
     },
     "metadata": {},
     "output_type": "display_data"
    }
   ],
   "source": [
    "cols = ['Survived', 'SibSp', 'Parch', 'Fare']\n",
    "cm = np.corrcoef(df_train[cols].values.T)\n",
    "sns.set(font_scale=1.25)\n",
    "hm = sns.heatmap(cm, cbar=True, annot=True, square=True, \n",
    "  fmt='.2f', annot_kws={'size':10} , yticklabels=cols, xticklabels=cols)\n"
   ]
  },
  {
   "cell_type": "code",
   "execution_count": 55,
   "metadata": {},
   "outputs": [
    {
     "data": {
      "image/png": "[encoded data removed]",
      "text/plain": [
       "<Figure size 540x540 with 12 Axes>"
      ]
     },
     "metadata": {},
     "output_type": "display_data"
    }
   ],
   "source": [
    "# 컬럼별 2차원 데이터 분포도. scatter, histogram.\n",
    "sns.set()\n",
    "cols=['Age', 'Survived', 'Fare']\n",
    "sns.pairplot(df_train[cols], size=2.5)\n",
    "plt.show()"
   ]
  },
  {
   "cell_type": "code",
   "execution_count": 56,
   "metadata": {},
   "outputs": [
    {
     "name": "stdout",
     "output_type": "stream",
     "text": [
      "font.size 10.0 12.0\n",
      "ytick.labelsize medium 11.0\n",
      "ytick.left True False\n",
      "xtick.bottom True False\n",
      "axes.labelcolor black .15\n",
      "lines.solid_capstyle projecting round\n",
      "ytick.minor.size 2.0 4.0\n",
      "ytick.major.width 0.8 1.25\n",
      "text.color black .15\n",
      "ytick.minor.width 0.6 1.0\n",
      "xtick.major.size 3.5 6.0\n",
      "image.cmap viridis rocket\n",
      "xtick.minor.size 2.0 4.0\n",
      "interactive False True\n",
      "axes.prop_cycle cycler('color', ['#1f77b4', '#ff7f0e', '#2ca02c', '#d62728', '#9467bd', '#8c564b', '#e377c2', '#7f7f7f', '#bcbd22', '#17becf']) cycler('color', [(0.2980392156862745, 0.4470588235294118, 0.6901960784313725), (0.8666666666666667, 0.5176470588235295, 0.3215686274509804), (0.3333333333333333, 0.6588235294117647, 0.40784313725490196), (0.7686274509803922, 0.3058823529411765, 0.3215686274509804), (0.5058823529411764, 0.4470588235294118, 0.7019607843137254), (0.5764705882352941, 0.47058823529411764, 0.3764705882352941), (0.8549019607843137, 0.5450980392156862, 0.7647058823529411), (0.5490196078431373, 0.5490196078431373, 0.5490196078431373), (0.8, 0.7254901960784313, 0.4549019607843137), (0.39215686274509803, 0.7098039215686275, 0.803921568627451)])\n",
      "xtick.major.width 0.8 1.25\n",
      "figure.dpi 100.0 72.0\n",
      "xtick.minor.width 0.6 1.0\n",
      "axes.facecolor white #EAEAF2\n",
      "grid.linewidth 0.8 1.0\n",
      "figure.subplot.bottom 0.11 0.125\n",
      "axes.linewidth 0.8 1.25\n",
      "axes.titlesize large 12.0\n",
      "axes.axisbelow line True\n",
      "legend.fontsize medium 11.0\n",
      "patch.force_edgecolor False True\n",
      "axes.labelsize medium 12.0\n",
      "axes.edgecolor black white\n",
      "xtick.color black .15\n",
      "ytick.color black .15\n",
      "figure.figsize [6.4, 4.8] [6.0, 4.0]\n",
      "figure.edgecolor white (1, 1, 1, 0)\n",
      "patch.facecolor C0 (0.2980392156862745, 0.4470588235294118, 0.6901960784313725)\n",
      "grid.color #b0b0b0 white\n",
      "font.sans-serif ['DejaVu Sans', 'Bitstream Vera Sans', 'Computer Modern Sans Serif', 'Lucida Grande', 'Verdana', 'Geneva', 'Lucid', 'Arial', 'Helvetica', 'Avant Garde', 'sans-serif'] ['Arial', 'DejaVu Sans', 'Liberation Sans', 'Bitstream Vera Sans', 'sans-serif']\n",
      "axes.grid False True\n",
      "ytick.major.size 3.5 6.0\n",
      "patch.edgecolor black w\n",
      "xtick.labelsize medium 11.0\n"
     ]
    }
   ],
   "source": [
    "pltconfig_check()"
   ]
  },
  {
   "cell_type": "markdown",
   "metadata": {},
   "source": [
    "---\n",
    "## Evaluation\n",
    "- confusion_matrix( real, predict ) : real vs predict 결과 비교. 대각선이 많을수록 맞춘것임."
   ]
  },
  {
   "cell_type": "code",
   "execution_count": 57,
   "metadata": {},
   "outputs": [],
   "source": [
    "from sklearn.metrics import confusion_matrix"
   ]
  },
  {
   "cell_type": "code",
   "execution_count": 58,
   "metadata": {},
   "outputs": [
    {
     "data": {
      "text/plain": [
       "array([[34, 10, 11, 10,  8,  3, 11,  7, 10, 11],\n",
       "       [ 6, 30,  9,  5,  2,  3,  7,  5,  7,  8],\n",
       "       [ 5,  9, 27,  5,  9, 10,  8,  4,  5,  7],\n",
       "       [12, 11, 12, 28, 11,  7, 12,  5, 12,  8],\n",
       "       [12,  8, 10,  6, 33,  5,  6,  5,  4, 13],\n",
       "       [ 9,  6, 11,  7,  3, 34,  9,  7,  7, 14],\n",
       "       [ 7, 10, 12,  7,  9,  6, 20,  9, 12,  8],\n",
       "       [ 6, 16,  5,  5,  7,  7,  9, 24,  8,  6],\n",
       "       [ 9,  5,  7, 11,  7,  8,  2,  5, 30, 11],\n",
       "       [ 6,  7, 10, 11,  5, 11, 12,  7,  7, 23]], dtype=int64)"
      ]
     },
     "execution_count": 58,
     "metadata": {},
     "output_type": "execute_result"
    }
   ],
   "source": [
    "y_real=[]\n",
    "y_predict=[]\n",
    "for i in range(1000):\n",
    "    v = np.random.randint(0, 10)\n",
    "    y_real.append(v)\n",
    "    if np.random.rand()<0.8:\n",
    "        y_predict.append( np.random.randint(0, 10))\n",
    "    else:\n",
    "        y_predict.append(v)\n",
    "cm = confusion_matrix(y_real, y_predict)  # row=real, column=predict\n",
    "cm"
   ]
  },
  {
   "cell_type": "code",
   "execution_count": 59,
   "metadata": {},
   "outputs": [
    {
     "data": {
      "text/plain": [
       "<matplotlib.axes._subplots.AxesSubplot at 0x12d1a97e208>"
      ]
     },
     "execution_count": 59,
     "metadata": {},
     "output_type": "execute_result"
    },
    {
     "data": {
      "image/png": "[encoded data removed]",
      "text/plain": [
       "<Figure size 432x288 with 2 Axes>"
      ]
     },
     "metadata": {},
     "output_type": "display_data"
    }
   ],
   "source": [
    "# draw confusion matrix with seaborn\n",
    "df_cm = pd.DataFrame(cm, index=range(10),\n",
    "                  columns=range(10))\n",
    "# plt.figure(figsize = (10,7))\n",
    "# sns.set(font_scale=1.4)  # for label size. 변경시 다른 plot도 전부 영향을 받음.\n",
    "sns.heatmap(df_cm, annot=True,annot_kws={\"size\": 10})  # font size\n",
    "# sns.set(font_scale=1.0) # back to the default font size.... \n",
    "# 설정 변경시 이후 다른 plot 환경 변화로 문제가 발생."
   ]
  },
  {
   "cell_type": "code",
   "execution_count": 60,
   "metadata": {},
   "outputs": [
    {
     "name": "stdout",
     "output_type": "stream",
     "text": [
      "font.size 10.0 12.0\n",
      "ytick.labelsize medium 11.0\n",
      "ytick.left True False\n",
      "xtick.bottom True False\n",
      "axes.labelcolor black .15\n",
      "lines.solid_capstyle projecting round\n",
      "ytick.minor.size 2.0 4.0\n",
      "ytick.major.width 0.8 1.25\n",
      "text.color black .15\n",
      "ytick.minor.width 0.6 1.0\n",
      "xtick.major.size 3.5 6.0\n",
      "image.cmap viridis rocket\n",
      "xtick.minor.size 2.0 4.0\n",
      "interactive False True\n",
      "axes.prop_cycle cycler('color', ['#1f77b4', '#ff7f0e', '#2ca02c', '#d62728', '#9467bd', '#8c564b', '#e377c2', '#7f7f7f', '#bcbd22', '#17becf']) cycler('color', [(0.2980392156862745, 0.4470588235294118, 0.6901960784313725), (0.8666666666666667, 0.5176470588235295, 0.3215686274509804), (0.3333333333333333, 0.6588235294117647, 0.40784313725490196), (0.7686274509803922, 0.3058823529411765, 0.3215686274509804), (0.5058823529411764, 0.4470588235294118, 0.7019607843137254), (0.5764705882352941, 0.47058823529411764, 0.3764705882352941), (0.8549019607843137, 0.5450980392156862, 0.7647058823529411), (0.5490196078431373, 0.5490196078431373, 0.5490196078431373), (0.8, 0.7254901960784313, 0.4549019607843137), (0.39215686274509803, 0.7098039215686275, 0.803921568627451)])\n",
      "xtick.major.width 0.8 1.25\n",
      "figure.dpi 100.0 72.0\n",
      "xtick.minor.width 0.6 1.0\n",
      "axes.facecolor white #EAEAF2\n",
      "grid.linewidth 0.8 1.0\n",
      "figure.subplot.bottom 0.11 0.125\n",
      "axes.linewidth 0.8 1.25\n",
      "axes.titlesize large 12.0\n",
      "axes.axisbelow line True\n",
      "legend.fontsize medium 11.0\n",
      "patch.force_edgecolor False True\n",
      "axes.labelsize medium 12.0\n",
      "axes.edgecolor black white\n",
      "xtick.color black .15\n",
      "ytick.color black .15\n",
      "figure.figsize [6.4, 4.8] [6.0, 4.0]\n",
      "figure.edgecolor white (1, 1, 1, 0)\n",
      "patch.facecolor C0 (0.2980392156862745, 0.4470588235294118, 0.6901960784313725)\n",
      "grid.color #b0b0b0 white\n",
      "font.sans-serif ['DejaVu Sans', 'Bitstream Vera Sans', 'Computer Modern Sans Serif', 'Lucida Grande', 'Verdana', 'Geneva', 'Lucid', 'Arial', 'Helvetica', 'Avant Garde', 'sans-serif'] ['Arial', 'DejaVu Sans', 'Liberation Sans', 'Bitstream Vera Sans', 'sans-serif']\n",
      "axes.grid False True\n",
      "ytick.major.size 3.5 6.0\n",
      "patch.edgecolor black w\n",
      "xtick.labelsize medium 11.0\n"
     ]
    }
   ],
   "source": [
    "pltconfig_check()"
   ]
  },
  {
   "cell_type": "code",
   "execution_count": 61,
   "metadata": {},
   "outputs": [
    {
     "name": "stdout",
     "output_type": "stream",
     "text": [
      "interactive False True\n",
      "figure.facecolor white (1, 1, 1, 0)\n",
      "figure.dpi 100.0 72.0\n",
      "figure.figsize [6.4, 4.8] [6.0, 4.0]\n",
      "figure.subplot.bottom 0.11 0.125\n",
      "figure.edgecolor white (1, 1, 1, 0)\n"
     ]
    }
   ],
   "source": [
    "pltconfig_default()\n",
    "pltconfig_check()"
   ]
  },
  {
   "cell_type": "code",
   "execution_count": 62,
   "metadata": {},
   "outputs": [],
   "source": [
    "import itertools\n",
    "\n",
    "def plot_confusion_matrix(cm, classes,\n",
    "                          normalize=False,\n",
    "                          title='Confusion matrix',\n",
    "                          cmap=plt.cm.Blues):\n",
    "    \"\"\"\n",
    "    This function prints and plots the confusion matrix.\n",
    "    Normalization can be applied by setting `normalize=True`.\n",
    "    \"\"\"\n",
    "    plt.figure()\n",
    "    plt.grid('off')\n",
    "    plt.imshow(cm, interpolation='nearest', cmap=cmap)\n",
    "    plt.title(title)\n",
    "    plt.colorbar()\n",
    "    tick_marks = np.arange(len(classes))\n",
    "    plt.xticks(tick_marks, classes, rotation=45)\n",
    "    plt.yticks(tick_marks, classes)\n",
    "\n",
    "    if normalize:\n",
    "        cm = cm.astype('float') / cm.sum(axis=1)[:, np.newaxis]\n",
    "\n",
    "    thresh = cm.max() / 2.\n",
    "    for i, j in itertools.product(range(cm.shape[0]), range(cm.shape[1])):\n",
    "        plt.text(j, i, cm[i, j],\n",
    "                 horizontalalignment=\"center\", verticalalignment=\"center\",\n",
    "                 color=\"white\" if cm[i, j] > thresh else \"black\")\n",
    "\n",
    "    plt.tight_layout()\n",
    "    plt.ylabel('True label')\n",
    "    plt.xlabel('Predicted label')\n"
   ]
  },
  {
   "cell_type": "code",
   "execution_count": 63,
   "metadata": {},
   "outputs": [
    {
     "data": {
      "image/png": "[encoded data removed]",
      "text/plain": [
       "<Figure size 432x288 with 2 Axes>"
      ]
     },
     "metadata": {
      "needs_background": "light"
     },
     "output_type": "display_data"
    }
   ],
   "source": [
    "plot_confusion_matrix(cm, classes=range(10))\n",
    "plt.show()\n",
    "plt.close()"
   ]
  },
  {
   "cell_type": "code",
   "execution_count": 64,
   "metadata": {},
   "outputs": [
    {
     "name": "stdout",
     "output_type": "stream",
     "text": [
      "interactive False True\n",
      "figure.facecolor white (1, 1, 1, 0)\n",
      "figure.dpi 100.0 72.0\n",
      "figure.figsize [6.4, 4.8] [6.0, 4.0]\n",
      "figure.subplot.bottom 0.11 0.125\n",
      "figure.edgecolor white (1, 1, 1, 0)\n"
     ]
    }
   ],
   "source": [
    "pltconfig_check()"
   ]
  },
  {
   "cell_type": "code",
   "execution_count": null,
   "metadata": {},
   "outputs": [],
   "source": []
  },
  {
   "cell_type": "code",
   "execution_count": null,
   "metadata": {},
   "outputs": [],
   "source": []
  },
  {
   "cell_type": "code",
   "execution_count": null,
   "metadata": {},
   "outputs": [],
   "source": []
  }
 ],
 "metadata": {
  "kernelspec": {
   "display_name": "Python 3",
   "language": "python",
   "name": "python3"
  },
  "language_info": {
   "codemirror_mode": {
    "name": "ipython",
    "version": 3
   },
   "file_extension": ".py",
   "mimetype": "text/x-python",
   "name": "python",
   "nbconvert_exporter": "python",
   "pygments_lexer": "ipython3",
   "version": "3.7.3"
  }
 },
 "nbformat": 4,
 "nbformat_minor": 4
}
