{
 "cells": [
  {
   "cell_type": "markdown",
   "metadata": {},
   "source": [
    "# Kaggle API Test"
   ]
  },
  {
   "cell_type": "code",
   "execution_count": 1,
   "metadata": {},
   "outputs": [
    {
     "name": "stdout",
     "output_type": "stream",
     "text": [
      "Requirement already satisfied: kaggle in c:\\anaconda3\\envs\\tensor36\\lib\\site-packages (1.5.5)\n",
      "Requirement already satisfied: requests in c:\\anaconda3\\envs\\tensor36\\lib\\site-packages (from kaggle) (2.21.0)\n",
      "Requirement already satisfied: urllib3<1.25,>=1.21.1 in c:\\anaconda3\\envs\\tensor36\\lib\\site-packages (from kaggle) (1.24.2)\n",
      "Requirement already satisfied: tqdm in c:\\anaconda3\\envs\\tensor36\\lib\\site-packages (from kaggle) (4.32.1)\n",
      "Requirement already satisfied: python-slugify in c:\\anaconda3\\envs\\tensor36\\lib\\site-packages (from kaggle) (3.0.3)\n",
      "Requirement already satisfied: certifi in c:\\anaconda3\\envs\\tensor36\\lib\\site-packages (from kaggle) (2019.3.9)\n",
      "Requirement already satisfied: six>=1.10 in c:\\anaconda3\\envs\\tensor36\\lib\\site-packages (from kaggle) (1.12.0)\n",
      "Requirement already satisfied: python-dateutil in c:\\anaconda3\\envs\\tensor36\\lib\\site-packages (from kaggle) (2.8.0)\n",
      "Requirement already satisfied: idna<2.9,>=2.5 in c:\\anaconda3\\envs\\tensor36\\lib\\site-packages (from requests->kaggle) (2.8)\n",
      "Requirement already satisfied: chardet<3.1.0,>=3.0.2 in c:\\anaconda3\\envs\\tensor36\\lib\\site-packages (from requests->kaggle) (3.0.4)\n",
      "Requirement already satisfied: text-unidecode==1.2 in c:\\anaconda3\\envs\\tensor36\\lib\\site-packages (from python-slugify->kaggle) (1.2)\n"
     ]
    }
   ],
   "source": [
    "!pip install kaggle --user"
   ]
  },
  {
   "cell_type": "code",
   "execution_count": 2,
   "metadata": {},
   "outputs": [
    {
     "name": "stdout",
     "output_type": "stream",
     "text": [
      "Name: kaggle\n",
      "Version: 1.5.5\n",
      "Summary: Kaggle API\n",
      "Home-page: https://github.com/Kaggle/kaggle-api\n",
      "Author: Kaggle\n",
      "Author-email: support@kaggle.com\n",
      "License: Apache 2.0\n",
      "Location: c:\\anaconda3\\envs\\tensor36\\lib\\site-packages\n",
      "Requires: certifi, requests, python-slugify, python-dateutil, tqdm, urllib3, six\n",
      "Required-by: \n"
     ]
    }
   ],
   "source": [
    "!pip show kaggle"
   ]
  },
  {
   "cell_type": "markdown",
   "metadata": {},
   "source": [
    "캐글에서 Account 에서 토큰 생성을 한다. kaggle.json 파일을 홈에 .kaggle 폴더내에 복사하고, 600 권한으로 변경한다."
   ]
  },
  {
   "cell_type": "code",
   "execution_count": 3,
   "metadata": {},
   "outputs": [
    {
     "name": "stderr",
     "output_type": "stream",
     "text": [
      "usage: kaggle [-h] [-v] {competitions,c,datasets,d,kernels,k,config} ...\n",
      "kaggle: error: the following arguments are required: command\n"
     ]
    }
   ],
   "source": [
    "!kaggle"
   ]
  },
  {
   "cell_type": "code",
   "execution_count": 4,
   "metadata": {},
   "outputs": [
    {
     "name": "stdout",
     "output_type": "stream",
     "text": [
      "ref                                        deadline             category        reward  teamCount  userHasEntered  \n",
      "-----------------------------------------  -------------------  ----------  ----------  ---------  --------------  \n",
      "hhp                                        2013-04-04 07:00:00  Featured      $500,000       1351           False  \n",
      "datasciencebowl                            2015-03-16 23:59:00  Featured      $175,000       1049           False  \n",
      "aptos2019-blindness-detection              2019-09-05 23:59:00  Featured       $50,000       2631           False  \n",
      "NFL-Punt-Analytics-Competition             2019-01-09 23:59:00  Analytics      $80,000          0           False  \n",
      "second-annual-data-science-bowl            2016-03-14 23:59:00  Featured      $200,000        192           False  \n",
      "diabetic-retinopathy-detection             2015-07-27 23:59:00  Featured      $100,000        661           False  \n",
      "ultrasound-nerve-segmentation              2016-08-18 23:59:00  Featured      $100,000        923           False  \n",
      "melbourne-university-seizure-prediction    2016-12-01 23:59:00  Research       $20,000        478           False  \n",
      "msk-redefining-cancer-treatment            2017-10-02 23:59:00  Research       $15,000       1386           False  \n",
      "data-science-bowl-2017                     2017-04-12 23:59:00  Featured    $1,000,000       1972           False  \n",
      "intel-mobileodt-cervical-cancer-screening  2017-06-21 23:59:00  Featured      $100,000        848           False  \n",
      "mens-machine-learning-competition-2018     2018-04-02 23:59:00  Featured       $50,000        934           False  \n",
      "womens-machine-learning-competition-2019   2019-04-08 05:10:00  Featured       $25,000        500           False  \n",
      "march-machine-learning-mania-2014          2014-04-08 23:59:00  Featured       $15,000        248           False  \n",
      "mens-machine-learning-competition-2019     2019-04-09 06:00:00  Featured       $25,000        866           False  \n",
      "histopathologic-cancer-detection           2019-03-30 23:59:00  Playground   Knowledge       1157           False  \n",
      "march-machine-learning-mania-2017          2017-04-04 15:00:00  Playground        Swag        441           False  \n",
      "march-machine-learning-mania-2015          2015-04-07 23:59:00  Featured       $15,000        341           False  \n",
      "march-machine-learning-mania-2016          2016-04-05 06:00:00  Featured       $25,000        597           False  \n",
      "kobe-bryant-shot-selection                 2016-06-13 23:59:00  Playground   Knowledge       1117           False  \n"
     ]
    }
   ],
   "source": [
    "# 건강 관련 컴피티션 검색\n",
    "!kaggle competitions list -s health"
   ]
  },
  {
   "cell_type": "code",
   "execution_count": 5,
   "metadata": {},
   "outputs": [
    {
     "name": "stdout",
     "output_type": "stream",
     "text": [
      "ref                    deadline             category            reward  teamCount  userHasEntered  \n",
      "---------------------  -------------------  ---------------  ---------  ---------  --------------  \n",
      "word2vec-nlp-tutorial  2015-06-30 23:59:00  Getting Started  Knowledge        578           False  \n",
      "titanic                2030-01-01 00:00:00  Getting Started  Knowledge      11424            True  \n"
     ]
    }
   ],
   "source": [
    "!kaggle competitions list -s tutorial"
   ]
  },
  {
   "cell_type": "code",
   "execution_count": 6,
   "metadata": {},
   "outputs": [
    {
     "name": "stdout",
     "output_type": "stream",
     "text": [
      "name                         size  creationDate         \n",
      "--------------------------  -----  -------------------  \n",
      "sampleSubmission.csv        276KB  2014-07-21 22:24:56  \n",
      "unlabeledTrainData.tsv.zip   26MB  2014-08-05 23:31:46  \n",
      "testData.tsv.zip             13MB  2014-08-05 23:31:52  \n",
      "labeledTrainData.tsv.zip     13MB  2014-08-05 23:32:11  \n"
     ]
    }
   ],
   "source": [
    "# 파일 검색\n",
    "!kaggle competitions files -c word2vec-nlp-tutorial"
   ]
  },
  {
   "cell_type": "code",
   "execution_count": 7,
   "metadata": {},
   "outputs": [
    {
     "name": "stdout",
     "output_type": "stream",
     "text": [
      "name                   size  creationDate         \n",
      "---------------------  ----  -------------------  \n",
      "train.csv              60KB  2013-06-28 13:40:25  \n",
      "test.csv               28KB  2013-06-28 13:40:24  \n",
      "gender_submission.csv   3KB  2017-02-01 01:49:18  \n"
     ]
    }
   ],
   "source": [
    "!kaggle competitions files -c titanic"
   ]
  },
  {
   "cell_type": "code",
   "execution_count": 8,
   "metadata": {},
   "outputs": [
    {
     "name": "stdout",
     "output_type": "stream",
     "text": [
      "Downloading train.csv to /storage/psychic/hub/python/kaggle/kaggle_api\n",
      "  0%|                                               | 0.00/59.8k [00:00<?, ?B/s]\n",
      "100%|███████████████████████████████████████| 59.8k/59.8k [00:00<00:00, 925kB/s]\n",
      "Downloading test.csv to /storage/psychic/hub/python/kaggle/kaggle_api\n",
      "  0%|                                               | 0.00/28.0k [00:00<?, ?B/s]\n",
      "100%|██████████████████████████████████████| 28.0k/28.0k [00:00<00:00, 4.64MB/s]\n",
      "Downloading gender_submission.csv to /storage/psychic/hub/python/kaggle/kaggle_api\n",
      "  0%|                                               | 0.00/3.18k [00:00<?, ?B/s]\n",
      "100%|██████████████████████████████████████| 3.18k/3.18k [00:00<00:00, 8.14MB/s]\n"
     ]
    }
   ],
   "source": [
    "# 파일 다운로드\n",
    "# 현재 폴더에서 받음\n",
    "# 디렉터리 지정은 -p [downloadpath]\n",
    "!kaggle competitions download -c titanic"
   ]
  },
  {
   "cell_type": "code",
   "execution_count": 9,
   "metadata": {},
   "outputs": [
    {
     "name": "stdout",
     "output_type": "stream",
     "text": [
      "kaggle.json\n"
     ]
    }
   ],
   "source": [
    "%ls ~/.kaggle"
   ]
  },
  {
   "cell_type": "markdown",
   "metadata": {},
   "source": [
    "## Submission\n",
    "\n",
    "홈페이지에서 해당 컴피티션의 약관에 동의 필요"
   ]
  },
  {
   "cell_type": "code",
   "execution_count": 11,
   "metadata": {},
   "outputs": [
    {
     "name": "stdout",
     "output_type": "stream",
     "text": [
      "Traceback (most recent call last):\n",
      "  File \"/storage/psychic/myvenv/bin/kaggle\", line 10, in <module>\n",
      "    sys.exit(main())\n",
      "  File \"/storage/psychic/myvenv/lib/python3.7/site-packages/kaggle/cli.py\", line 51, in main\n",
      "    out = args.func(**command_args)\n",
      "  File \"/storage/psychic/myvenv/lib/python3.7/site-packages/kaggle/api/kaggle_api_extended.py\", line 547, in competition_submit_cli\n",
      "    competition, quiet)\n",
      "  File \"/storage/psychic/myvenv/lib/python3.7/site-packages/kaggle/api/kaggle_api_extended.py\", line 498, in competition_submit\n",
      "    content_length=os.path.getsize(file_name),\n",
      "  File \"/opt/anaconda3/lib/python3.7/genericpath.py\", line 50, in getsize\n",
      "    return os.stat(filename).st_size\n",
      "FileNotFoundError: [Errno 2] No such file or directory: './word2vec-nlp-tutorial/data/s.csv'\n"
     ]
    }
   ],
   "source": [
    "# submit 방법은 간단하다 제목, 파일, 메시지 입력 \n",
    "!kaggle competitions submit -c word2vec-nlp-tutorial -f submit.csv -m 'api submit msg'"
   ]
  },
  {
   "cell_type": "code",
   "execution_count": 21,
   "metadata": {},
   "outputs": [
    {
     "name": "stdout",
     "output_type": "stream",
     "text": [
      "ref                          deadline             category  reward  teamCount  userHasEntered  \n",
      "---------------------------  -------------------  --------  ------  ---------  --------------  \n",
      "2019-3rd-ml-month-kakr       2019-07-28 23:59:00  InClass    Kudos          0           False  \n",
      "2019-1st-ml-month-with-kakr  2019-02-13 23:59:00  InClass    Kudos        353           False  \n",
      "2019-2nd-ml-month-with-kakr  2019-04-22 23:59:00  InClass    Kudos        414           False  \n",
      "2019-3rd-ml-month-with-kakr  2019-08-16 15:00:00  InClass    Kudos        156            True  \n"
     ]
    }
   ],
   "source": [
    "# competitions 중에 inClass는 따로 옵션을 줘야된다.\n",
    "!kaggle competitions list --group inClass -s KaKR"
   ]
  },
  {
   "cell_type": "code",
   "execution_count": 22,
   "metadata": {},
   "outputs": [
    {
     "name": "stdout",
     "output_type": "stream",
     "text": [
      "fileName          date                 description                     status    publicScore  privateScore  \n",
      "----------------  -------------------  ------------------------------  --------  -----------  ------------  \n",
      "carmodel          2019-08-21 05:34:46  From \"carmodel\" Script          complete  0.93352      0.93545       \n",
      "carmodel          2019-08-21 05:34:18  From \"carmodel\" Script          error     None         None          \n",
      "carmodel          2019-08-21 04:52:19  From \"carmodel\" Script          complete  0.93352      0.93545       \n",
      "carmodel          2019-08-20 22:37:53  From \"carmodel\" Script          complete  0.92348      0.92338       \n",
      "carmodel          2019-08-20 16:14:03  From \"carmodel\" Script          complete  0.90339      0.90342       \n",
      "submission.csv    2019-08-14 00:45:50  None                            complete  0.90961      0.91081       \n",
      "submission.csv    2019-08-13 09:05:09  None                            complete  0.92491      0.92214       \n",
      "[Deleted Kernel]  2019-08-13 08:01:01  From \"Fork of carmodel\" Script  complete  0.92491      0.92214       \n",
      "[Deleted Kernel]  2019-08-13 07:42:42  From \"Fork of carmodel\" Script  complete  0.93017      0.92855       \n",
      "submission.csv    2019-08-13 03:07:55  None                            complete  0.93400      0.92584       \n",
      "submission.csv    2019-08-13 00:38:23  None                            complete  0.92826      0.92830       \n",
      "carmodel          2019-08-12 04:02:53  From \"carmodel\" Script          complete  0.92300      0.92362       \n",
      "submission.csv    2019-08-12 02:46:04  None                            complete  0.91822      0.91377       \n",
      "submission.csv    2019-08-11 23:16:19  None                            complete  0.91917      0.91525       \n",
      "submission.csv    2019-08-09 08:12:33  None                            complete  0.93543      0.93348       \n",
      "submission.csv    2019-08-09 00:17:14  None                            complete  0.92730      0.92239       \n",
      "submission.csv    2019-08-08 02:22:44  None                            complete  0.91582      0.91401       \n",
      "submission.csv    2019-08-08 02:13:30  None                            complete  0.86848      0.87459       \n",
      "submission.csv    2019-08-08 00:05:15  None                            complete  0.82113      0.81448       \n",
      "submission.csv    2019-08-07 08:55:10  None                            complete  0.83739      0.84355       \n"
     ]
    }
   ],
   "source": [
    "# 나의 submission 내역 \n",
    "!kaggle competitions submissions -c 2019-3rd-ml-month-with-kakr"
   ]
  },
  {
   "cell_type": "markdown",
   "metadata": {},
   "source": [
    "## DataSet"
   ]
  },
  {
   "cell_type": "code",
   "execution_count": 23,
   "metadata": {},
   "outputs": [
    {
     "name": "stdout",
     "output_type": "stream",
     "text": [
      "ref                                                      title                                                size  lastUpdated          downloadCount  voteCount  usabilityRating  \n",
      "-------------------------------------------------------  --------------------------------------------------  -----  -------------------  -------------  ---------  ---------------  \n",
      "miroslavsabo/young-people-survey                         Young People Survey                                  73KB  2016-12-06 03:10:30          24136        414  0.852941155      \n",
      "kaggle/kaggle-survey-2018                                2018 Kaggle ML & DS Survey                            4MB  2018-11-03 22:35:07           9410        825  0.852941155      \n",
      "kaggle/kaggle-survey-2017                                Kaggle Machine Learning & Data Science Survey 2017    4MB  2017-10-27 22:03:03          16461        718  0.8235294        \n",
      "osmi/mental-health-in-tech-survey                        Mental Health in Tech Survey                         46KB  2016-11-03 17:28:47          17708        418  0.882352948      \n",
      "stackoverflow/stack-overflow-2018-developer-survey       Stack Overflow 2018 Developer Survey                 20MB  2018-05-15 16:59:54           6689        321  0.852941155      \n",
      "hackerrank/developer-survey-2018                         HackerRank Developer Survey 2018                      5MB  2018-03-19 21:42:43           2822        134  0.8235294        \n",
      "stackoverflow/so-survey-2017                             Stack Overflow Developer Survey, 2017                12MB  2017-06-15 14:15:47           4051        160  0.882352948      \n",
      "freecodecamp/2016-new-coder-survey-                      2016 New Coder Survey                                 2MB  2016-06-03 00:27:28           3968         78  0.875            \n",
      "census/2013-american-community-survey                    2013 American Community Survey                      888MB  2017-05-01 19:10:03           4024         83  0.8235294        \n",
      "census/current-population-survey                         Current Population Survey                            20MB  2016-10-24 14:48:45           1288         34  0.852941155      \n",
      "lucidlenn/sloan-digital-sky-survey                       Sloan Digital Sky Survey DR14                       446KB  2018-09-20 00:23:41           2069         99  0.8235294        \n",
      "census/2015-american-community-survey                    2015 American Community Survey                      933MB  2017-02-04 11:57:18           1356         36  0.875            \n",
      "jupyter/2015-notebook-ux-survey                          2015 Notebook UX Survey                             207KB  2017-05-01 17:56:25            875         45  0.7647059        \n",
      "cdc/national-health-and-nutrition-examination-survey     National Health and Nutrition Examination Survey      7MB  2017-01-26 20:11:45           5643        118  0.7352941        \n",
      "osmi/mental-health-in-tech-2016                          OSMI Mental Health in Tech Survey 2016               14MB  2016-11-14 16:24:26           4704         90  0.875            \n",
      "bls/american-time-use-survey                             American Time Use Survey                            251MB  2017-06-15 16:32:54           1726         45  0.7352941        \n",
      "erikhambardzumyan/pubs                                   Armenian Pub Survey                                   4KB  2017-03-17 16:59:25            480         12  0.882352948      \n",
      "crawford/agricultural-survey-of-african-farm-households  Agricultural Survey of African Farm Households        4MB  2017-07-20 18:07:44           2065         51  0.8235294        \n",
      "bmkramer/101-innovations-research-tools-survey           101 Innovations - Research Tools Survey               5MB  2016-05-17 20:09:03           1221         31  0.8235294        \n",
      "rajanand/cab-survey                                      Clinical, Anthropometric & Bio-Chemical Survey       49MB  2017-08-08 19:16:18            525         18  0.852941155      \n"
     ]
    }
   ],
   "source": [
    "# 키워드로 데이터셋 검색\n",
    "!kaggle datasets list -s survey"
   ]
  },
  {
   "cell_type": "code",
   "execution_count": 36,
   "metadata": {},
   "outputs": [
    {
     "name": "stdout",
     "output_type": "stream",
     "text": [
      "name            size  creationDate         \n",
      "-------------  -----  -------------------  \n",
      "columns.csv      6KB  2016-12-06 03:08:19  \n",
      "responses.csv  442KB  2016-12-06 03:08:21  \n"
     ]
    }
   ],
   "source": [
    "# 어떤 데이터셋에 포함된 파일 목록 보기 \n",
    "!kaggle datasets files miroslavsabo/young-people-survey  "
   ]
  },
  {
   "cell_type": "code",
   "execution_count": 8,
   "metadata": {},
   "outputs": [
    {
     "name": "stdout",
     "output_type": "stream",
     "text": [
      "ref                   title       size  lastUpdated          downloadCount  voteCount  usabilityRating  \n",
      "--------------------  ---------  -----  -------------------  -------------  ---------  ---------------  \n",
      "junheeshin/carmodel5  carmodel5  281MB  2019-08-20 06:59:18              6          0  0.125            \n",
      "junheeshin/carmodel6  carmodel6  379MB  2019-08-21 04:43:39              0          0  0.125            \n"
     ]
    }
   ],
   "source": [
    "# 나의 데이터셋 조회\n",
    "!kaggle datasets list -m"
   ]
  },
  {
   "cell_type": "code",
   "execution_count": 40,
   "metadata": {},
   "outputs": [
    {
     "name": "stdout",
     "output_type": "stream",
     "text": [
      "name             size  creationDate         \n",
      "--------------  -----  -------------------  \n",
      "ppcarmodel.zip  281MB  2019-08-20 06:58:49  \n"
     ]
    }
   ],
   "source": [
    "# 나의 데이터셋 내부 파일 조회\n",
    "!kaggle datasets files junheeshin/carmodel5"
   ]
  },
  {
   "cell_type": "code",
   "execution_count": null,
   "metadata": {},
   "outputs": [],
   "source": [
    "# 데이터셋 다운로드  \n",
    "!kaggle datasets download junheeshin/carmodel6"
   ]
  },
  {
   "cell_type": "markdown",
   "metadata": {},
   "source": [
    "## 커널\n",
    "\n"
   ]
  },
  {
   "cell_type": "code",
   "execution_count": 52,
   "metadata": {},
   "outputs": [
    {
     "name": "stdout",
     "output_type": "stream",
     "text": [
      "usage: kaggle kernels [-h] {list,init,push,pull,output,status} ...\n",
      "kaggle kernels: error: the following arguments are required: command\n"
     ]
    }
   ],
   "source": [
    "!kaggle kernels"
   ]
  },
  {
   "cell_type": "code",
   "execution_count": 64,
   "metadata": {},
   "outputs": [
    {
     "name": "stdout",
     "output_type": "stream",
     "text": [
      "ref                                                    title                                       author   lastRunTime          totalVotes  \n",
      "-----------------------------------------------------  ------------------------------------------  -------  -------------------  ----------  \n",
      "junheeshin/carmodel                                    carmodel                                    crazyj7  2019-08-21 05:27:43           0  \n",
      "junheeshin/titanic-analyze-and-predict-nn              Titanic analyze and predict NN              crazyj7  2019-08-11 00:15:39           8  \n",
      "junheeshin/salt-identification-salt-portion-and-depth  salt identification salt portion and depth  crazyj7  2019-08-14 11:12:33           0  \n",
      "junheeshin/crazyj-newyork-taxidur                      crazyj_newyork_taxidur                      crazyj7  2019-08-11 08:57:52           0  \n",
      "junheeshin/fork-of-titanic-analyze-and-predict-nn      Fork of Titanic analyze and predict NN      crazyj7  2019-08-11 11:35:36           0  \n",
      "junheeshin/fork-of-fork-of-fork-of-carmodel-027aab     Fork of Fork of Fork of carmodel 027aab     crazyj7  2019-08-21 07:03:25           0  \n",
      "junheeshin/fork-of-fork-of-carmodel-027aab             Fork of Fork of carmodel 027aab             crazyj7  2019-08-21 04:35:18           0  \n",
      "junheeshin/kernel44b9f86056                            kernel44b9f86056                            crazyj7  2019-08-18 22:54:56           0  \n",
      "junheeshin/using-tensorboard-in-kaggle-kernels         Using TensorBoard in Kaggle Kernels         crazyj7  2019-08-09 14:05:09           0  \n"
     ]
    }
   ],
   "source": [
    "!kaggle kernels list -m"
   ]
  },
  {
   "cell_type": "code",
   "execution_count": 55,
   "metadata": {},
   "outputs": [
    {
     "name": "stdout",
     "output_type": "stream",
     "text": [
      "Output file downloaded to /storage/psychic/hub/python/kaggle/kaggle_api/submission.csv\n",
      "Output file downloaded to /storage/psychic/hub/python/kaggle/kaggle_api/result.npy\n",
      "Output file downloaded to /storage/psychic/hub/python/kaggle/kaggle_api/test.npy\n",
      "Output file downloaded to /storage/psychic/hub/python/kaggle/kaggle_api/train.npy\n",
      "Kernel log downloaded to /storage/psychic/hub/python/kaggle/kaggle_api/titanic-analyze-and-predict-nn.log \n"
     ]
    }
   ],
   "source": [
    "# output 다운로드하기 \n",
    "!kaggle kernels output junheeshin/titanic-analyze-and-predict-nn"
   ]
  },
  {
   "cell_type": "code",
   "execution_count": 65,
   "metadata": {},
   "outputs": [
    {
     "name": "stdout",
     "output_type": "stream",
     "text": [
      "junheeshin/fork-of-fork-of-fork-of-carmodel-027aab has status \"running\"\n"
     ]
    }
   ],
   "source": [
    "# 커널 상태 보기\n",
    "!kaggle kernels status junheeshin/fork-of-fork-of-fork-of-carmodel-027aab"
   ]
  },
  {
   "cell_type": "code",
   "execution_count": 61,
   "metadata": {},
   "outputs": [
    {
     "name": "stdout",
     "output_type": "stream",
     "text": [
      "Source code downloaded to /storage/psychic/hub/python/kaggle/kaggle_api/fork-of-fork-of-fork-of-carmodel-027aab.py\n"
     ]
    }
   ],
   "source": [
    "# 커널 소스 다운로드 \n",
    "!kaggle kernels pull junheeshin/fork-of-fork-of-fork-of-carmodel-027aab"
   ]
  },
  {
   "cell_type": "code",
   "execution_count": null,
   "metadata": {},
   "outputs": [],
   "source": [
    "# push ; 소스를 올리고 commit 수행.\n"
   ]
  }
 ],
 "metadata": {
  "kernelspec": {
   "display_name": "Python 3",
   "language": "python",
   "name": "python3"
  },
  "language_info": {
   "codemirror_mode": {
    "name": "ipython",
    "version": 3
   },
   "file_extension": ".py",
   "mimetype": "text/x-python",
   "name": "python",
   "nbconvert_exporter": "python",
   "pygments_lexer": "ipython3",
   "version": "3.6.8"
  }
 },
 "nbformat": 4,
 "nbformat_minor": 4
}
