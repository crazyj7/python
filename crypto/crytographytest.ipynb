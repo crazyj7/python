{
 "cells": [
  {
   "cell_type": "markdown",
   "metadata": {},
   "source": [
    "# cryptography module test"
   ]
  },
  {
   "cell_type": "markdown",
   "metadata": {},
   "source": [
    "## Fernet 대칭키 암호화\n",
    "\n",
    "- 출력이 URL safe base64 포맷\n",
    "- 입력은 binary  \n",
    "- 키 생성도 있음  "
   ]
  },
  {
   "cell_type": "code",
   "execution_count": 197,
   "metadata": {},
   "outputs": [],
   "source": [
    "import os, random\n",
    "import numpy as np"
   ]
  },
  {
   "cell_type": "code",
   "execution_count": 157,
   "metadata": {},
   "outputs": [
    {
     "name": "stdout",
     "output_type": "stream",
     "text": [
      "key= b'_JyosZt-YukY1tElPSUkCtx1tcTwORp-bOd-pWF16Mw=' keylen= 44\n",
      "plain= b'Hello World!'\n",
      "enc= b'gAAAAABdmYQo4gIuXgYuMQ2zH6J1I1ReycXTZW_BtphZ2LlzGG60_kcq4d0IC5NuVCJd8EuoX4Ua6eVgLHeAhpO0Ih0QxbMRwg=='\n",
      "dec= b'Hello World!'\n"
     ]
    }
   ],
   "source": [
    "from cryptography.fernet import Fernet\n",
    "\n",
    "key = Fernet.generate_key()\n",
    "print('key=', key, 'keylen=', len(key))\n",
    "f = Fernet(key)\n",
    "\n",
    "plain = b'Hello World!'\n",
    "print('plain=', plain)\n",
    "enc = f.encrypt(plain)\n",
    "print('enc=', enc)\n",
    "dec = f.decrypt(enc)\n",
    "print('dec=', dec)"
   ]
  },
  {
   "cell_type": "markdown",
   "metadata": {},
   "source": [
    "> 랜덤 버퍼를 만들기 위한 테스트"
   ]
  },
  {
   "cell_type": "markdown",
   "metadata": {},
   "source": [
    "> 임의의 수값으로 바이트 만들기. numpy array uint8 dtype\n"
   ]
  },
  {
   "cell_type": "code",
   "execution_count": 159,
   "metadata": {},
   "outputs": [
    {
     "name": "stdout",
     "output_type": "stream",
     "text": [
      "[120 245  47 164 176 217  58 139  10 199]\n"
     ]
    }
   ],
   "source": [
    "bytelist = np.random.randint(0, 256, 10, dtype=np.uint8)\n",
    "print(bytelist)"
   ]
  },
  {
   "cell_type": "code",
   "execution_count": 201,
   "metadata": {},
   "outputs": [
    {
     "name": "stdout",
     "output_type": "stream",
     "text": [
      "b'A\\x85\\x88\\xbf\\xcb\\xf7\\x02\\xe2\\xc6i\\xf1\\x8e\\xc3e\\x10\\x881]\\xcbr'\n"
     ]
    }
   ],
   "source": [
    "# 랜덤 바이트 만드는 함수는 이미 os 모듈에 있음.\n",
    "print(os.urandom(20))"
   ]
  },
  {
   "cell_type": "markdown",
   "metadata": {},
   "source": [
    "> 형식 변환. uint8 array to bytes"
   ]
  },
  {
   "cell_type": "code",
   "execution_count": 160,
   "metadata": {},
   "outputs": [
    {
     "name": "stdout",
     "output_type": "stream",
     "text": [
      "b'x\\xf5/\\xa4\\xb0\\xd9:\\x8b\\n\\xc7'\n",
      "[120 245  47 164 176 217  58 139  10 199]\n",
      "same\n"
     ]
    }
   ],
   "source": [
    "# byte(uint8) array to binary data. \n",
    "b1 = bytelist.tobytes()\n",
    "print(b1)\n",
    "\n",
    "x = np.frombuffer(b1, dtype=np.uint8)\n",
    "print(x)\n",
    "\n",
    "if np.all(bytelist==x):\n",
    "    print('same')"
   ]
  },
  {
   "cell_type": "markdown",
   "metadata": {},
   "source": [
    "bytes와 bytearray는 모두 b'aaaa'와 같이 byte의 시퀀스 자료형.\n",
    "bytes와 bytearray의 차이. bytes는 변경 불가. bytearray는 변경 가능.\n"
   ]
  },
  {
   "cell_type": "code",
   "execution_count": 163,
   "metadata": {},
   "outputs": [],
   "source": [
    "def make_randombytes(size):\n",
    "    v = np.random.randint(0, 256, size, dtype=np.uint8)\n",
    "#     print(v)\n",
    "    b = bytes(v)\n",
    "    return b"
   ]
  },
  {
   "cell_type": "code",
   "execution_count": 166,
   "metadata": {},
   "outputs": [
    {
     "name": "stdout",
     "output_type": "stream",
     "text": [
      "b'\\xca\\xc0f\\\\)\\xb5_\\xbf*\\x1cA\\x94;}\\xd0O\\xda\\xd3\\x93\\xcc'\n",
      "[202 192 102  92  41 181  95 191  42  28  65 148  59 125 208  79 218 211\n",
      " 147 204]\n"
     ]
    }
   ],
   "source": [
    "b1 = make_randombytes(20)\n",
    "print(b1)\n",
    "print(np.frombuffer(b1, dtype=np.uint8))"
   ]
  },
  {
   "cell_type": "code",
   "execution_count": 183,
   "metadata": {},
   "outputs": [
    {
     "name": "stdout",
     "output_type": "stream",
     "text": [
      "key= b'BBZ4PN2SBFGj_Sh8VAEX6IrjoOrrxfU6xQk-PpfgxpQ=' keylen= 44\n",
      "b'gAAAAABdmYSl3F6tIrkVkTlqwNdcgeDqrWymn4oyAFNDCRbN3I2Fe_KLK29U5U35b4EsypahV5S4w7MNc-Mde3IiKf85s9TUZTls2iT-sXRzw95QaCYKkr271A9iZOFWfgCxncnIcVDcyAShc_YlzEKu0ExujMsswYWW1plof1DscnBColXvUMS3Y1T1nbyQ_8A9eBjPpeW3pSpCWjFOpxB5BjGTekwOU1EVr2u80S8PxDz-_XZcUx338V9N_9VRuz2UdCopskxubEs6W_marOnXa8EBPSW4H84CKOPqyNoBA_86kWHoJsX6sK7a0nXyvj6MTP23RfpLp7i8-isWjkEARZaIRdk3DPyT7y0bV_jtvLc-8baL72rxOkDvny2bXTB_TQyfXo883Vb7rQZVM7joOhXcHQZ0LfK_wrivRJm2tdPV75M-aG0RUIzkvYD4JVN7YBLfSRFyXFqdzw0NN9w2lSKr2PcI6NOfTfU0hWD6vLzfldhryW6F9jmjA_wLK44L00uL6TFTrNDK8YW8S6ZTQpn-9xPQW7A8_XX91DR4StijC77pIwK1XVOekQE7AFvp6I7NjAb0tHpeBiFm2MY0PS1zWgxkd3Lour9acV6DNXaSNKAiQpiLXCh0F5aN2gy6InUZbtId9F4DepqE0cMM8_zPmRwv24dESI_xLxTFoifYKoOmP5qCo_XPACs03cXM99PSsNfKAbSLuUcea7ErgEHZ-hGoFLktIIRHWpzgEx3wEXrhAPqBMlFMZSv92ypzbBsCBQRRPxfwvfAuOZU0P3-VToZLK7Xcw9LltcHlOzRaS9plYpmzm8Hm8sIIWQCGo4jrovXEavkgwqvkIFFBEACLBX2m3eM0l9sfVpvJr0zpe8URTAvadmP6sSvrxXffIZsb-ODyoltVD8qt4MAfoW75KjSqICa1aKUlyOf7IeA2iSO3hxlh1pEcmfSaPX8aWWghToT8Qfr-vfTgszW2v-XO-ZGgrN-ibEivHPC7m6Ig7x0PyBWlFPxSHFWylX5R0ID7D17Sxs-U6VtqwWXDNGQZsYb0FsqWAi1WVskaW9-TlaCYmR7jl0_t6qLuVSR5cQ28gCPGxjEHxDfVup_MySVtTZPfIQzLHOpkWFWWocxsqRKvgF_-Y7IKTR3O1bvq5xgyRDivBZfZDrCFLF65GF_lMKiLzi5-gZRs93YJ8D2p7YZxTPjChmkFHXcWiKfDtpZgxi7mH6pRufd6-6BY-DkVM3i6H42IxlDS1IXXH3bCX84J1NtrH4OiCkf1SmufSyHVIIucX3zeQrsL6UQCZ0t3DdiU7ySOqah9e0EwRjREiURcLMWp0mYXIrYfPxA57EfFDsdgfKB2632zheaGCjChXlOkulUKXAb8fLBY0lvFmETUR8sOrSs_Akp7lnS_bcHCxPpDZDdR8Pu0B3X_ojetoBlYd_NUq3J0DqhyFeqn6fc9nhA='\n",
      "same\n",
      "b'\\xd7\\xa8\\xc3<\\xc3\\xa0\\xf9\\x0e;<' b'\\xd7\\xa8\\xc3<\\xc3\\xa0\\xf9\\x0e;<'\n"
     ]
    }
   ],
   "source": [
    "from cryptography.fernet import Fernet\n",
    "\n",
    "key = Fernet.generate_key()\n",
    "print('key=', key, 'keylen=', len(key))\n",
    "f = Fernet(key)\n",
    "\n",
    "plain = make_randombytes(1024)\n",
    "enc = f.encrypt(plain)\n",
    "print(enc)\n",
    "dec = f.decrypt(enc)\n",
    "if plain==dec:\n",
    "    print('same')\n",
    "    print(plain[:10], dec[:10])"
   ]
  },
  {
   "cell_type": "markdown",
   "metadata": {},
   "source": [
    "## Password PBKDF2HMAC"
   ]
  },
  {
   "cell_type": "code",
   "execution_count": null,
   "metadata": {},
   "outputs": [],
   "source": []
  },
  {
   "cell_type": "code",
   "execution_count": 184,
   "metadata": {},
   "outputs": [
    {
     "name": "stdout",
     "output_type": "stream",
     "text": [
      "password= b'password'\n",
      "salt len= 16\n",
      "salt= b'\\x93?\\x1cW\\x9a\\xfa\\x0c\\x0b\\xd5\\x95x\\xb9\\xabY\\xfa|'\n",
      "orgkey len= 32 b'\\xbf\\xdf\\xef4\\xcc2-0]\\x18\\xa67\\x7fb\\x83/\\xd7\\xbe\\xce:M x\\x0e\\xdf0\\x81h\\x05\\xd0\\xf5\\x87'\n",
      "key= b'v9_vNMwyLTBdGKY3f2KDL9e-zjpNIHgO3zCBaAXQ9Yc='\n",
      "plain= b'Hello World!'\n",
      "enc= b'gAAAAABdmYSr_0x0NML-914Ka8eXq_vX0QGP1tXx1wTh8z3ouv2hJ5I7JC6SILsXI7DnSNeMarZp0ubH05J0ZB332t_5-50Cjw=='\n",
      "dec= b'Hello World!'\n"
     ]
    }
   ],
   "source": [
    "import base64\n",
    "import os\n",
    "from cryptography.fernet import Fernet\n",
    "from cryptography.hazmat.backends import default_backend\n",
    "from cryptography.hazmat.primitives import hashes\n",
    "from cryptography.hazmat.primitives.kdf.pbkdf2 import PBKDF2HMAC\n",
    "\n",
    "pwd = 'password'\n",
    "password= pwd.encode()\n",
    "print('password=', password)\n",
    "salt = os.urandom(16)  # length=16, binary\n",
    "print('salt len=', len(salt))\n",
    "print('salt=', salt)  # random\n",
    "\n",
    "kdf = PBKDF2HMAC(algorithm=hashes.SHA256, \n",
    "                length=32, \n",
    "                salt=salt,\n",
    "                iterations=100,\n",
    "                backend=default_backend())\n",
    "orgkey = kdf.derive(password)\n",
    "print('orgkey len=', len(orgkey), orgkey)\n",
    "key = base64.urlsafe_b64encode(orgkey)\n",
    "print('key=', key)\n",
    "f = Fernet(key)\n",
    "\n",
    "plain = b'Hello World!'\n",
    "print('plain=', plain)\n",
    "enc = f.encrypt(plain)\n",
    "print('enc=', enc)\n",
    "dec = f.decrypt(enc)\n",
    "print('dec=', dec)"
   ]
  },
  {
   "cell_type": "markdown",
   "metadata": {},
   "source": [
    "## AES 256\n",
    "AES는 블록암호화로 블록의 크기는 16바이트 (128비트이다.)"
   ]
  },
  {
   "cell_type": "code",
   "execution_count": 189,
   "metadata": {},
   "outputs": [
    {
     "name": "stdout",
     "output_type": "stream",
     "text": [
      "key len= 32 b'\\xd3\\xc7Qo\\xe5NN\\xb7\\xa8\\xf9n\\x8e?^C\\x89\\xd7\\x8f<z\\rM\\x80\\x12p\\x0e\\x81H\\xc5\\xef-\\r'\n",
      "plainstr len= 84\n",
      "plain= b'Hello World!Hello World!Hello World!Hello World!Hello World!Hello World!Hello World!\\x00\\x00\\x00\\x00\\x00\\x00\\x00\\x00\\x00\\x00\\x00\\x00'\n",
      "enc= b\"\\xb0\\xe6\\xcd/B\\xc0\\xe7\\xf5]\\xc1\\xa2\\x04 \\xa1\\x93\\x93\\xb7\\xbbe\\xc8\\xb7\\xd9_~L\\xb0+\\x08\\x99\\x8a\\x86A\\x8f\\x8e\\xb3\\xd1:\\x018\\x12\\x9d\\xf3\\xb7\\x1a\\xeb\\x9cv\\xfb\\x1b\\xdc7\\xb0{Df\\x05\\xa3\\r\\x8f\\x8d\\x80\\x1a\\x05aK\\xd7\\x0bB9v\\xe6YN\\xa7\\x02R'4K\\xd2o\\xd9E\\x9b\\xb9\\x10\\xcb%_\\xb0X\\x1e\\xd8\\xe6p`\"\n",
      "dec= b'Hello World!Hello World!Hello World!Hello World!Hello World!Hello World!Hello World!\\x00\\x00\\x00\\x00\\x00\\x00\\x00\\x00\\x00\\x00\\x00\\x00'\n",
      "encode= 96 Hello World!Hello World!Hello World!Hello World!Hello World!Hello World!Hello World!\u0000\u0000\u0000\u0000\u0000\u0000\u0000\u0000\u0000\u0000\u0000\u0000\n"
     ]
    }
   ],
   "source": [
    "import os\n",
    "import math\n",
    "from cryptography.hazmat.primitives.ciphers import Cipher, algorithms, modes\n",
    "from cryptography.hazmat.backends import default_backend\n",
    "\n",
    "backend = default_backend()\n",
    "key = os.urandom(32)   # 16, 32\n",
    "iv = os.urandom(16)    # 16\n",
    "\n",
    "print('key len=',len(key),  key)\n",
    "\n",
    "cipher = Cipher(algorithms.AES(key), modes.CBC(iv), backend=backend)\n",
    "\n",
    "encryptor = cipher.encryptor()\n",
    "decryptor = cipher.decryptor()\n",
    "\n",
    "plainstr = 'Hello World!'*7\n",
    "print('plainstr len=', len(plainstr))\n",
    "plain = plainstr.encode()\n",
    "\n",
    "# make block, null padding\n",
    "blocksize=16\n",
    "padsize = 16*(math.ceil(len(plain)/blocksize))-len(plain)\n",
    "plain += b\"\\0\"*padsize\n",
    "\n",
    "print('plain=', plain)\n",
    "enc = encryptor.update(plain) + encryptor.finalize()\n",
    "print('enc=', enc)\n",
    "dec = decryptor.update(enc) + decryptor.finalize()\n",
    "print('dec=', dec)\n",
    "decdec = dec.decode()\n",
    "print('encode=', len(decdec), decdec)"
   ]
  },
  {
   "cell_type": "markdown",
   "metadata": {},
   "source": [
    "## SEED 128"
   ]
  },
  {
   "cell_type": "code",
   "execution_count": 193,
   "metadata": {},
   "outputs": [
    {
     "name": "stdout",
     "output_type": "stream",
     "text": [
      "key len= 16 b'Q\\x87x\\xa0\\x90\\x84 \\x97\\x8e\\x12\\xe7Ll\\x11\\xe3C'\n",
      "plainstr len= 84 Hello World!Hello World!Hello World!Hello World!Hello World!Hello World!Hello World!\n",
      "plain= b'Hello World!Hello World!Hello World!Hello World!Hello World!Hello World!Hello World!\\x00\\x00\\x00\\x00\\x00\\x00\\x00\\x00\\x00\\x00\\x00\\x00'\n",
      "enc= b'\\nx\\x18\\x15\\xa5\\x01\\x819A\\xdfJJ\\xac\\x10q\\xf4\\xd4\\xa6U\\xe5<\\x8cV\\xce\\x9d{\\xa1\\xc0\\xca\\x07\\xc2~\\xd8\\x12dF<\\xc8\\xb05d\\x1f\\x8f\\xf6!-\\xf8v\\xca\\xb3\\x81\\xeb\\x97\\x8d\\x19\"Djj\\n&G\\xe2\\x06\\xd2\\xc2\\xa5\\x1dYI\\x1cY\\xe7g)\\xed>\\xfa\\x7f\\xc7\\xddxd\\xc3\\x83\\xb4\\xaf\\xbd\\xe4L+\\x9e\\xf7\\xd9\\x16I'\n",
      "dec= b'Hello World!Hello World!Hello World!Hello World!Hello World!Hello World!Hello World!\\x00\\x00\\x00\\x00\\x00\\x00\\x00\\x00\\x00\\x00\\x00\\x00'\n",
      "encode= 84 Hello World!Hello World!Hello World!Hello World!Hello World!Hello World!Hello World!\n"
     ]
    }
   ],
   "source": [
    "import os\n",
    "import math\n",
    "from cryptography.hazmat.primitives.ciphers import Cipher, algorithms, modes\n",
    "from cryptography.hazmat.backends import default_backend\n",
    "\n",
    "backend = default_backend()\n",
    "key = os.urandom(16)   # 16, 32=not yet! (SEED 256 is not support)\n",
    "iv = os.urandom(16)    # 16\n",
    "\n",
    "print('key len=',len(key),  key)\n",
    "\n",
    "cipher = Cipher(algorithms.SEED(key), modes.CBC(iv), backend=backend)\n",
    "\n",
    "encryptor = cipher.encryptor()\n",
    "decryptor = cipher.decryptor()\n",
    "\n",
    "plainstr = 'Hello World!'*7\n",
    "print('plainstr len=', len(plainstr), plainstr)\n",
    "plain = plainstr.encode()\n",
    "\n",
    "# make block, null padding\n",
    "blocksize=16\n",
    "padsize = 16*(math.ceil(len(plain)/blocksize))-len(plain)\n",
    "plain += b\"\\0\"*padsize\n",
    "\n",
    "print('plain=', plain)\n",
    "enc = encryptor.update(plain) + encryptor.finalize()\n",
    "print('enc=', enc)\n",
    "dec = decryptor.update(enc) + decryptor.finalize()\n",
    "print('dec=', dec)\n",
    "decdec = dec.decode().rstrip('\\0')\n",
    "print('encode=', len(decdec), decdec)\n"
   ]
  },
  {
   "cell_type": "code",
   "execution_count": 192,
   "metadata": {},
   "outputs": [
    {
     "data": {
      "text/plain": [
       "'aaa'"
      ]
     },
     "execution_count": 192,
     "metadata": {},
     "output_type": "execute_result"
    }
   ],
   "source": [
    "'aaa\\0\\0'.rstrip('\\0')"
   ]
  },
  {
   "cell_type": "code",
   "execution_count": null,
   "metadata": {},
   "outputs": [],
   "source": []
  },
  {
   "cell_type": "code",
   "execution_count": null,
   "metadata": {},
   "outputs": [],
   "source": []
  },
  {
   "cell_type": "code",
   "execution_count": null,
   "metadata": {},
   "outputs": [],
   "source": []
  }
 ],
 "metadata": {
  "kernelspec": {
   "display_name": "Python 3",
   "language": "python",
   "name": "python3"
  },
  "language_info": {
   "codemirror_mode": {
    "name": "ipython",
    "version": 3
   },
   "file_extension": ".py",
   "mimetype": "text/x-python",
   "name": "python",
   "nbconvert_exporter": "python",
   "pygments_lexer": "ipython3",
   "version": "3.6.8"
  }
 },
 "nbformat": 4,
 "nbformat_minor": 4
}
