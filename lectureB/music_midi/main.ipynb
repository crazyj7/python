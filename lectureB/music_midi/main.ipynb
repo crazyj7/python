{
 "cells": [
  {
   "cell_type": "code",
   "execution_count": 7,
   "metadata": {},
   "outputs": [],
   "source": [
    "from pyknon.genmidi import Midi\n",
    "from pyknon.music import NoteSeq, Note, Rest\n",
    "\n",
    "from play_midi import PlayMidi\n",
    "import random"
   ]
  },
  {
   "cell_type": "markdown",
   "metadata": {},
   "source": [
    "# Create Demo mid\n",
    "Online sequencer(https://onlinesequencer.net) only works properly on Chrome browser"
   ]
  },
  {
   "cell_type": "code",
   "execution_count": 30,
   "metadata": {},
   "outputs": [
    {
     "name": "stdout",
     "output_type": "stream",
     "text": [
      "Music file examples/demo.mid loaded!\n"
     ]
    }
   ],
   "source": [
    "notes1 = NoteSeq('D4 F#8 A Bb4')\n",
    "midi = Midi(number_tracks=1, tempo=90, instrument=40)\n",
    "midi.seq_notes(notes1, track=0, channel=9)\n",
    "midi.write('examples/demo.mid')\n",
    "\n",
    "player = PlayMidi()\n",
    "try:\n",
    "    player.play('examples/demo.mid')\n",
    "except:\n",
    "    player.close()\n"
   ]
  },
  {
   "cell_type": "code",
   "execution_count": 23,
   "metadata": {},
   "outputs": [
    {
     "name": "stdout",
     "output_type": "stream",
     "text": [
      "Music file tracks.mid loaded!\n"
     ]
    }
   ],
   "source": [
    "# from pyknon.genmidi import Midi\n",
    "# from pyknon.music import NoteSeq\n",
    "\n",
    "# Notes on two tracks using the defaults\n",
    "\n",
    "notes1 = NoteSeq(\"C4.'' B8' A4 D\")\n",
    "notes2 = NoteSeq(\"E4 F G4. A8\")\n",
    "\n",
    "m = Midi(2, tempo=100, instrument=[12, 14])\n",
    "m.seq_notes(notes1, track=0)\n",
    "m.seq_notes(notes2, track=1)\n",
    "m.write(\"tracks.mid\")\n",
    "\n",
    "player = PlayMidi()\n",
    "try:\n",
    "    player.play('tracks.mid')\n",
    "except:\n",
    "    player.close()\n",
    "  "
   ]
  },
  {
   "cell_type": "code",
   "execution_count": 22,
   "metadata": {},
   "outputs": [
    {
     "name": "stdout",
     "output_type": "stream",
     "text": [
      "Music file chords.mid loaded!\n"
     ]
    }
   ],
   "source": [
    "  \n",
    "\n",
    "# Chords on two tracks using the defaults\n",
    "\n",
    "chords1 = [NoteSeq(\"C2 E G\"), NoteSeq(\"G2 B D\")]\n",
    "chords2 = [NoteSeq(\"C,4 E\"), NoteSeq(\"E, G\"), NoteSeq(\"G, B\"), NoteSeq(\"B, D'\")]\n",
    "\n",
    "midi = Midi(2, tempo=60, instrument=[40, 20])\n",
    "midi.seq_chords(chords1, track=0)\n",
    "midi.seq_chords(chords2, track=1)\n",
    "midi.write(\"chords.mid\")\n",
    "player = PlayMidi()\n",
    "try:\n",
    "    player.play('chords.mid')\n",
    "except:\n",
    "    player.close()"
   ]
  },
  {
   "cell_type": "code",
   "execution_count": 21,
   "metadata": {},
   "outputs": [
    {
     "name": "stdout",
     "output_type": "stream",
     "text": [
      "Music file percussion.mid loaded!\n"
     ]
    }
   ],
   "source": [
    "# Notes on two tracks using percussion\n",
    "\n",
    "# In the MIDI library, the tracks and channels are numbered from 0,\n",
    "# While the MIDI Standard is numbered from 1,\n",
    "# So to use percussion you must use channel 9 in the library\n",
    "\n",
    "n1 = NoteSeq(\"C4 D E F\")\n",
    "n2 = NoteSeq(\"C8 C G, G C' C G, G\")\n",
    "\n",
    "m2 = Midi(2, tempo=123, channel=[0, 9], instrument=[20, 40])\n",
    "m2.seq_notes(n1, track=0, channel=0)\n",
    "m2.seq_notes(n2, track=1, channel=9)\n",
    "m2.write(\"percussion.mid\")\n",
    "\n",
    "player = PlayMidi()\n",
    "try:\n",
    "    player.play('percussion.mid')\n",
    "except:\n",
    "    player.close()"
   ]
  },
  {
   "cell_type": "markdown",
   "metadata": {},
   "source": [
    "# Generate Random Notes Function"
   ]
  },
  {
   "cell_type": "code",
   "execution_count": 32,
   "metadata": {},
   "outputs": [],
   "source": [
    "durations = [\n",
    "    1/2, # half note\n",
    "    1/4, # quarter note\n",
    "    1/8, # eighth note\n",
    "    1/16 # sixteenth note\n",
    "]\n",
    "\n",
    "'''\n",
    "0  1  2  3  4  5  6  7  8  9  10  11\n",
    "C  C# D  D# E  F  F# G  G# A  A#  B\n",
    "'''\n",
    "# A_major = ['A','B','C#','D','E','F#','G#']\n",
    "A_major = [9, 11, 1, 2, 4, 6, 8]\n",
    "# G_major = ['G','A','B','C','D','E','F#']\n",
    "G_major = [7, 9, 11, 0, 2, 4, 6]\n",
    "# D_major = ['D','E','F#','G','A','B','C#']\n",
    "D_major = [2, 4, 6, 7, 9, 11, 1]\n",
    "\n",
    "def get_random_notes(n, pitches, durations, rests=True):\n",
    "    if rests:\n",
    "        pitches.append('r')\n",
    "        \n",
    "    result = NoteSeq()\n",
    "\n",
    "    for i in range(n):\n",
    "        pitch = random.choice(pitches)\n",
    "        duration = random.choice(durations)\n",
    "        \n",
    "        if pitch == 'r':\n",
    "            result.append(Rest(dur=duration))\n",
    "        else:\n",
    "            result.append(Note(pitch, octave=4, dur=duration))\n",
    "\n",
    "    return result"
   ]
  },
  {
   "cell_type": "markdown",
   "metadata": {},
   "source": [
    "# Generate Random Sound"
   ]
  },
  {
   "cell_type": "code",
   "execution_count": 33,
   "metadata": {},
   "outputs": [
    {
     "name": "stdout",
     "output_type": "stream",
     "text": [
      "<Seq: [<B>, <R: 0.0625>, <E>, <A>, <D>, <A>, <R: 0.0625>, <B>, <C#>, <A>, <R: 0.125>, <A>, <G#>, <R: 0.125>, <G#>, <E>, <F#>, <C#>, <B>, <R: 0.0625>]>\n",
      "Music file examples/A_major.mid loaded!\n"
     ]
    }
   ],
   "source": [
    "notes1 = get_random_notes(20, pitches=A_major, durations=[1/8, 1/16])\n",
    "midi = Midi(number_tracks=1, tempo=120, instrument=5)\n",
    "midi.seq_notes(notes1, track=0)\n",
    "midi.write('examples/A_major.mid')\n",
    "\n",
    "print(notes1)\n",
    "try:\n",
    "    player.play('examples/A_major.mid')\n",
    "except:\n",
    "    player.close()"
   ]
  },
  {
   "cell_type": "markdown",
   "metadata": {},
   "source": [
    "# Percussion"
   ]
  },
  {
   "cell_type": "code",
   "execution_count": 44,
   "metadata": {},
   "outputs": [
    {
     "name": "stdout",
     "output_type": "stream",
     "text": [
      "Music file examples/drum.mid loaded!\n"
     ]
    }
   ],
   "source": [
    "hihat = NoteSeq('F#16,, R16') * 16\n",
    "kick_snare = NoteSeq('C16,, R16 R16 C16 D16 C16 R16 R16') * 4\n",
    "        \n",
    "midi = Midi(number_tracks=1, tempo=120, instrument=40 )\n",
    "midi.seq_notes(hihat, track=0, channel=1)\n",
    "midi.seq_notes(kick_snare, track=0, channel=9)\n",
    "midi.write('examples/drum.mid')\n",
    "\n",
    "try:\n",
    "    player.play('examples/drum.mid')\n",
    "except:\n",
    "    player.close()"
   ]
  },
  {
   "cell_type": "markdown",
   "metadata": {},
   "source": [
    "# Make it Together"
   ]
  },
  {
   "cell_type": "code",
   "execution_count": 46,
   "metadata": {},
   "outputs": [
    {
     "name": "stdout",
     "output_type": "stream",
     "text": [
      "Music file examples/Amajor_drum.mid loaded!\n"
     ]
    }
   ],
   "source": [
    "midi = Midi(number_tracks=2, tempo=120, instrument=[40, 1])\n",
    "midi.seq_notes(hihat, track=0, channel=1)\n",
    "midi.seq_notes(kick_snare, track=0, channel=9)\n",
    "midi.seq_notes(notes1, track=1)\n",
    "midi.write('examples/Amajor_drum.mid')\n",
    "\n",
    "try:\n",
    "    player.play('examples/Amajor_drum.mid')\n",
    "except:\n",
    "    player.close()"
   ]
  },
  {
   "cell_type": "markdown",
   "metadata": {},
   "source": [
    "# Add Piano"
   ]
  },
  {
   "cell_type": "code",
   "execution_count": 47,
   "metadata": {},
   "outputs": [
    {
     "name": "stdout",
     "output_type": "stream",
     "text": [
      "Music file examples/Amajor_drum_piano.mid loaded!\n"
     ]
    }
   ],
   "source": [
    "piano = NoteSeq('A4, R4') * 4\n",
    "\n",
    "midi = Midi(number_tracks=3, tempo=120, instrument=[40, 1, 2])\n",
    "midi.seq_notes(hihat, track=0)\n",
    "midi.seq_notes(kick_snare, track=0, channel=9)\n",
    "midi.seq_notes(notes1, track=1)\n",
    "midi.seq_notes(piano, track=2)\n",
    "midi.write('examples/Amajor_drum_piano.mid')\n",
    "\n",
    "try:\n",
    "    player.play('examples/Amajor_drum_piano.mid')\n",
    "except:\n",
    "    player.close()"
   ]
  },
  {
   "cell_type": "code",
   "execution_count": null,
   "metadata": {},
   "outputs": [],
   "source": []
  }
 ],
 "metadata": {
  "kernelspec": {
   "display_name": "tensor36",
   "language": "python",
   "name": "tensor36"
  },
  "language_info": {
   "codemirror_mode": {
    "name": "ipython",
    "version": 3
   },
   "file_extension": ".py",
   "mimetype": "text/x-python",
   "name": "python",
   "nbconvert_exporter": "python",
   "pygments_lexer": "ipython3",
   "version": "3.6.8"
  }
 },
 "nbformat": 4,
 "nbformat_minor": 2
}
